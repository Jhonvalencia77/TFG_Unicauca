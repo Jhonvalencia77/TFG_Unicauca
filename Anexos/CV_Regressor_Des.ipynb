{
 "cells": [
  {
   "cell_type": "code",
   "execution_count": 1,
   "id": "4c6819cc",
   "metadata": {},
   "outputs": [
    {
     "name": "stderr",
     "output_type": "stream",
     "text": [
      "/home/jonathan/anaconda3/lib/python3.9/site-packages/scipy/__init__.py:146: UserWarning: A NumPy version >=1.16.5 and <1.23.0 is required for this version of SciPy (detected version 1.23.2\n",
      "  warnings.warn(f\"A NumPy version >={np_minversion} and <{np_maxversion}\"\n"
     ]
    }
   ],
   "source": [
    "import numpy as np\n",
    "import seaborn as sb\n",
    "import pandas as pd\n",
    "import matplotlib.pyplot as plt\n",
    "from pandas import Grouper\n",
    "from pandas import DataFrame\n",
    "import csv\n",
    "import pickle\n",
    "import math\n",
    "import matrixprofile as mp\n",
    "from matplotlib.patches import Rectangle\n",
    "from fbprophet import Prophet\n",
    "from prophet.plot import plot_yearly\n",
    "from sklearn.metrics import mean_squared_error\n",
    "from prophet.diagnostics import cross_validation\n",
    "from prophet.diagnostics import performance_metrics\n",
    "from sklearn.model_selection import TimeSeriesSplit\n",
    "from numpy import sqrt\n",
    "import datetime\n",
    "from datetime import timedelta\n",
    "import plotly.graph_objs as go\n",
    "from tabulate import tabulate"
   ]
  },
  {
   "cell_type": "code",
   "execution_count": 2,
   "id": "75f2c4f8",
   "metadata": {},
   "outputs": [],
   "source": [
    "def df_origen(origen,destino):    \n",
    "    \n",
    "    ######################PICKLE 1###############################\n",
    "    with open('/home/jonathan/tesis/3er_avance/columns_names_confinamiento1.pickle', \"rb\") as file:   \n",
    "        columns_names = pickle.load(file)\n",
    "\n",
    "    names = list(columns_names)\n",
    "    lista=[\"ds\"]\n",
    "\n",
    "    for trayectos in names:    \n",
    "        x=trayectos.startswith(origen)    \n",
    "        if x==True:                         \n",
    "            lista.append(trayectos)\n",
    "    \n",
    "    df1 = pd.read_csv(\"/home/jonathan/tesis/3er_avance/Trayectos_Periodo_Confinamiento1.csv\", sep=',',index_col=0, parse_dates=True, usecols=lista)\n",
    "    \n",
    "    #Filtramos el destino\n",
    "    columns_names_df = df1.columns   \n",
    "    names_1 = list(columns_names_df)     \n",
    "    \n",
    "    listaDst=[\"ds\"]\n",
    "    for trayectos in names_1:            \n",
    "        x=trayectos.split(\"-\",1)[1]        \n",
    "        if x==destino:                         \n",
    "            listaDst.append(trayectos)            \n",
    "    \n",
    "    df1_Final = pd.read_csv(\"/home/jonathan/tesis/3er_avance/Trayectos_Periodo_Confinamiento1.csv\", sep=',',index_col=0, parse_dates=True, usecols=listaDst)   \n",
    "    \n",
    "    ######################PICKLE 2###############################\n",
    "    with open('/home/jonathan/tesis/3er_avance/columns_names_confinamiento2.pickle', \"rb\") as file:   \n",
    "        columns_names = pickle.load(file)\n",
    "\n",
    "    names = list(columns_names)\n",
    "    lista=[\"ds\"]\n",
    "\n",
    "    for trayectos in names:    \n",
    "        x=trayectos.startswith(origen)    \n",
    "        if x==True:                         \n",
    "            lista.append(trayectos)\n",
    "    \n",
    "    df2 = pd.read_csv(\"/home/jonathan/tesis/3er_avance/Trayectos_Periodo_Confinamiento2.csv\", sep=',',index_col=0, parse_dates=True, usecols=lista)\n",
    "    \n",
    "    #Filtramos el destino\n",
    "    columns_names_df = df2.columns   \n",
    "    names_1 = list(columns_names_df)     \n",
    "    \n",
    "    listaDst=[\"ds\"]\n",
    "    for trayectos in names_1:            \n",
    "        x=trayectos.split(\"-\",1)[1]        \n",
    "        if x==destino:                         \n",
    "            listaDst.append(trayectos)           \n",
    "    \n",
    "    df2_Final = pd.read_csv(\"/home/jonathan/tesis/3er_avance/Trayectos_Periodo_Confinamiento2.csv\", sep=',',index_col=0, parse_dates=True, usecols=listaDst)   \n",
    "    \n",
    "    ######################PICKLE 3###############################\n",
    "    with open('/home/jonathan/tesis/3er_avance/columns_names_confinamiento3.pickle', \"rb\") as file:   \n",
    "        columns_names = pickle.load(file)\n",
    "\n",
    "    names = list(columns_names)\n",
    "    lista=[\"ds\"]\n",
    "\n",
    "    for trayectos in names:    \n",
    "        x=trayectos.startswith(origen)    \n",
    "        if x==True:                         \n",
    "            lista.append(trayectos)\n",
    "    \n",
    "    df3 = pd.read_csv(\"/home/jonathan/tesis/3er_avance/Trayectos_Periodo_Confinamiento3.csv\", sep=',',index_col=0, parse_dates=True, usecols=lista)\n",
    "    \n",
    "    #Filtramos el destino\n",
    "    columns_names_df = df3.columns   \n",
    "    names_1 = list(columns_names_df)     \n",
    "    \n",
    "    listaDst=[\"ds\"]\n",
    "    for trayectos in names_1:            \n",
    "        x=trayectos.split(\"-\",1)[1]        \n",
    "        if x==destino:                         \n",
    "            listaDst.append(trayectos)            \n",
    "    \n",
    "    df3_Final = pd.read_csv(\"/home/jonathan/tesis/3er_avance/Trayectos_Periodo_Confinamiento3.csv\", sep=',',index_col=0, parse_dates=True, usecols=listaDst)\n",
    "    \n",
    "    \n",
    "    \n",
    "    df1_Final['Fecha'] = df1_Final.index.date\n",
    "    df1_Final['Año'] = df1_Final.index.year                                \n",
    "    df1_Final['Mes'] = df1_Final.index.month                               \n",
    "    df1_Final['ID_Dia'] = df1_Final.index.dayofweek\n",
    "    df1_Final['Hora'] = df1_Final.index.hour\n",
    "    df1_Final['WeekNo'] = df1_Final.index.isocalendar().week\n",
    "    \n",
    "    df2_Final['Fecha'] = df2_Final.index.date\n",
    "    df2_Final['Año'] = df2_Final.index.year                                \n",
    "    df2_Final['Mes'] = df2_Final.index.month                               \n",
    "    df2_Final['ID_Dia'] = df2_Final.index.dayofweek\n",
    "    df2_Final['Hora'] = df2_Final.index.hour\n",
    "    df2_Final['WeekNo'] = df2_Final.index.isocalendar().week\n",
    "    \n",
    "    df3_Final['Fecha'] = df3_Final.index.date\n",
    "    df3_Final['Año'] = df3_Final.index.year                                \n",
    "    df3_Final['Mes'] = df3_Final.index.month                               \n",
    "    df3_Final['ID_Dia'] = df3_Final.index.dayofweek\n",
    "    df3_Final['Hora'] = df3_Final.index.hour\n",
    "    df3_Final['WeekNo'] = df3_Final.index.isocalendar().week\n",
    "    \n",
    "    return df1, lista, df2, df3, df1_Final,df2_Final,df3_Final, listaDst"
   ]
  },
  {
   "cell_type": "code",
   "execution_count": 3,
   "id": "c67f739e",
   "metadata": {},
   "outputs": [
    {
     "data": {
      "text/html": [
       "<div>\n",
       "<style scoped>\n",
       "    .dataframe tbody tr th:only-of-type {\n",
       "        vertical-align: middle;\n",
       "    }\n",
       "\n",
       "    .dataframe tbody tr th {\n",
       "        vertical-align: top;\n",
       "    }\n",
       "\n",
       "    .dataframe thead th {\n",
       "        text-align: right;\n",
       "    }\n",
       "</style>\n",
       "<table border=\"1\" class=\"dataframe\">\n",
       "  <thead>\n",
       "    <tr style=\"text-align: right;\">\n",
       "      <th></th>\n",
       "      <th>2807905-2807901</th>\n",
       "      <th>Fecha</th>\n",
       "      <th>Año</th>\n",
       "      <th>Mes</th>\n",
       "      <th>ID_Dia</th>\n",
       "      <th>Hora</th>\n",
       "      <th>WeekNo</th>\n",
       "    </tr>\n",
       "    <tr>\n",
       "      <th>ds</th>\n",
       "      <th></th>\n",
       "      <th></th>\n",
       "      <th></th>\n",
       "      <th></th>\n",
       "      <th></th>\n",
       "      <th></th>\n",
       "      <th></th>\n",
       "    </tr>\n",
       "  </thead>\n",
       "  <tbody>\n",
       "    <tr>\n",
       "      <th>2020-08-01 00:00:00</th>\n",
       "      <td>342.675</td>\n",
       "      <td>2020-08-01</td>\n",
       "      <td>2020</td>\n",
       "      <td>8</td>\n",
       "      <td>5</td>\n",
       "      <td>0</td>\n",
       "      <td>31</td>\n",
       "    </tr>\n",
       "    <tr>\n",
       "      <th>2020-08-01 01:00:00</th>\n",
       "      <td>161.815</td>\n",
       "      <td>2020-08-01</td>\n",
       "      <td>2020</td>\n",
       "      <td>8</td>\n",
       "      <td>5</td>\n",
       "      <td>1</td>\n",
       "      <td>31</td>\n",
       "    </tr>\n",
       "    <tr>\n",
       "      <th>2020-08-01 02:00:00</th>\n",
       "      <td>69.203</td>\n",
       "      <td>2020-08-01</td>\n",
       "      <td>2020</td>\n",
       "      <td>8</td>\n",
       "      <td>5</td>\n",
       "      <td>2</td>\n",
       "      <td>31</td>\n",
       "    </tr>\n",
       "    <tr>\n",
       "      <th>2020-08-01 03:00:00</th>\n",
       "      <td>44.679</td>\n",
       "      <td>2020-08-01</td>\n",
       "      <td>2020</td>\n",
       "      <td>8</td>\n",
       "      <td>5</td>\n",
       "      <td>3</td>\n",
       "      <td>31</td>\n",
       "    </tr>\n",
       "    <tr>\n",
       "      <th>2020-08-01 04:00:00</th>\n",
       "      <td>27.632</td>\n",
       "      <td>2020-08-01</td>\n",
       "      <td>2020</td>\n",
       "      <td>8</td>\n",
       "      <td>5</td>\n",
       "      <td>4</td>\n",
       "      <td>31</td>\n",
       "    </tr>\n",
       "  </tbody>\n",
       "</table>\n",
       "</div>"
      ],
      "text/plain": [
       "                     2807905-2807901       Fecha   Año  Mes  ID_Dia  Hora  \\\n",
       "ds                                                                          \n",
       "2020-08-01 00:00:00          342.675  2020-08-01  2020    8       5     0   \n",
       "2020-08-01 01:00:00          161.815  2020-08-01  2020    8       5     1   \n",
       "2020-08-01 02:00:00           69.203  2020-08-01  2020    8       5     2   \n",
       "2020-08-01 03:00:00           44.679  2020-08-01  2020    8       5     3   \n",
       "2020-08-01 04:00:00           27.632  2020-08-01  2020    8       5     4   \n",
       "\n",
       "                     WeekNo  \n",
       "ds                           \n",
       "2020-08-01 00:00:00      31  \n",
       "2020-08-01 01:00:00      31  \n",
       "2020-08-01 02:00:00      31  \n",
       "2020-08-01 03:00:00      31  \n",
       "2020-08-01 04:00:00      31  "
      ]
     },
     "execution_count": 3,
     "metadata": {},
     "output_type": "execute_result"
    }
   ],
   "source": [
    "origen = \"2807905\"\n",
    "destino = \"2807901\"\n",
    "df1, lista, df2, df3, df1_Final,df2_Final,df3_Final, listaDst = df_origen(origen,destino)\n",
    "df1_Final.head(5)\n",
    "df2_Final.head(5)\n",
    "df3_Final.head(5)"
   ]
  },
  {
   "cell_type": "code",
   "execution_count": 4,
   "id": "4a612c52",
   "metadata": {},
   "outputs": [
    {
     "data": {
      "text/html": [
       "<div>\n",
       "<style scoped>\n",
       "    .dataframe tbody tr th:only-of-type {\n",
       "        vertical-align: middle;\n",
       "    }\n",
       "\n",
       "    .dataframe tbody tr th {\n",
       "        vertical-align: top;\n",
       "    }\n",
       "\n",
       "    .dataframe thead th {\n",
       "        text-align: right;\n",
       "    }\n",
       "</style>\n",
       "<table border=\"1\" class=\"dataframe\">\n",
       "  <thead>\n",
       "    <tr style=\"text-align: right;\">\n",
       "      <th></th>\n",
       "      <th>2807905-2807901</th>\n",
       "      <th>Fecha</th>\n",
       "      <th>Año</th>\n",
       "      <th>Mes</th>\n",
       "      <th>ID_Dia</th>\n",
       "      <th>Hora</th>\n",
       "      <th>WeekNo</th>\n",
       "    </tr>\n",
       "    <tr>\n",
       "      <th>ds</th>\n",
       "      <th></th>\n",
       "      <th></th>\n",
       "      <th></th>\n",
       "      <th></th>\n",
       "      <th></th>\n",
       "      <th></th>\n",
       "      <th></th>\n",
       "    </tr>\n",
       "  </thead>\n",
       "  <tbody>\n",
       "    <tr>\n",
       "      <th>2020-05-02 00:00:00</th>\n",
       "      <td>6.944</td>\n",
       "      <td>2020-05-02</td>\n",
       "      <td>2020</td>\n",
       "      <td>5</td>\n",
       "      <td>5</td>\n",
       "      <td>0</td>\n",
       "      <td>18</td>\n",
       "    </tr>\n",
       "    <tr>\n",
       "      <th>2020-05-02 01:00:00</th>\n",
       "      <td>17.860</td>\n",
       "      <td>2020-05-02</td>\n",
       "      <td>2020</td>\n",
       "      <td>5</td>\n",
       "      <td>5</td>\n",
       "      <td>1</td>\n",
       "      <td>18</td>\n",
       "    </tr>\n",
       "    <tr>\n",
       "      <th>2020-05-02 02:00:00</th>\n",
       "      <td>11.972</td>\n",
       "      <td>2020-05-02</td>\n",
       "      <td>2020</td>\n",
       "      <td>5</td>\n",
       "      <td>5</td>\n",
       "      <td>2</td>\n",
       "      <td>18</td>\n",
       "    </tr>\n",
       "    <tr>\n",
       "      <th>2020-05-02 03:00:00</th>\n",
       "      <td>12.205</td>\n",
       "      <td>2020-05-02</td>\n",
       "      <td>2020</td>\n",
       "      <td>5</td>\n",
       "      <td>5</td>\n",
       "      <td>3</td>\n",
       "      <td>18</td>\n",
       "    </tr>\n",
       "    <tr>\n",
       "      <th>2020-05-02 04:00:00</th>\n",
       "      <td>5.986</td>\n",
       "      <td>2020-05-02</td>\n",
       "      <td>2020</td>\n",
       "      <td>5</td>\n",
       "      <td>5</td>\n",
       "      <td>4</td>\n",
       "      <td>18</td>\n",
       "    </tr>\n",
       "  </tbody>\n",
       "</table>\n",
       "</div>"
      ],
      "text/plain": [
       "                     2807905-2807901       Fecha   Año  Mes  ID_Dia  Hora  \\\n",
       "ds                                                                          \n",
       "2020-05-02 00:00:00            6.944  2020-05-02  2020    5       5     0   \n",
       "2020-05-02 01:00:00           17.860  2020-05-02  2020    5       5     1   \n",
       "2020-05-02 02:00:00           11.972  2020-05-02  2020    5       5     2   \n",
       "2020-05-02 03:00:00           12.205  2020-05-02  2020    5       5     3   \n",
       "2020-05-02 04:00:00            5.986  2020-05-02  2020    5       5     4   \n",
       "\n",
       "                     WeekNo  \n",
       "ds                           \n",
       "2020-05-02 00:00:00      18  \n",
       "2020-05-02 01:00:00      18  \n",
       "2020-05-02 02:00:00      18  \n",
       "2020-05-02 03:00:00      18  \n",
       "2020-05-02 04:00:00      18  "
      ]
     },
     "execution_count": 4,
     "metadata": {},
     "output_type": "execute_result"
    }
   ],
   "source": [
    "#Creamos intervalos de datos por periodos\n",
    "data1=df1_Final.loc['2020-03-16':'2020-04-15']\n",
    "data2=df1_Final.loc['2020-04-16':'2020-05-15']\n",
    "data3=df1_Final.loc['2020-05-02':'2020-05-31']\n",
    "data4=df2_Final.loc['2020-06-01':'2020-06-30']\n",
    "data5=df2_Final.loc['2020-07-01':'2020-07-31']\n",
    "data6=df3_Final.loc['2020-08-01':'2020-08-31']\n",
    "data3.head(5)"
   ]
  },
  {
   "cell_type": "markdown",
   "id": "3f486f45",
   "metadata": {},
   "source": [
    "# Periodo 1 - Desescalada y Nueva Normalidad (2 mayo 2020-31 Agosto 2020)"
   ]
  },
  {
   "cell_type": "code",
   "execution_count": 5,
   "id": "6cdaa642",
   "metadata": {},
   "outputs": [
    {
     "data": {
      "text/html": [
       "<div>\n",
       "<style scoped>\n",
       "    .dataframe tbody tr th:only-of-type {\n",
       "        vertical-align: middle;\n",
       "    }\n",
       "\n",
       "    .dataframe tbody tr th {\n",
       "        vertical-align: top;\n",
       "    }\n",
       "\n",
       "    .dataframe thead th {\n",
       "        text-align: right;\n",
       "    }\n",
       "</style>\n",
       "<table border=\"1\" class=\"dataframe\">\n",
       "  <thead>\n",
       "    <tr style=\"text-align: right;\">\n",
       "      <th></th>\n",
       "      <th>ds</th>\n",
       "      <th>y</th>\n",
       "    </tr>\n",
       "  </thead>\n",
       "  <tbody>\n",
       "    <tr>\n",
       "      <th>2923</th>\n",
       "      <td>2020-08-31 19:00:00</td>\n",
       "      <td>509.100</td>\n",
       "    </tr>\n",
       "    <tr>\n",
       "      <th>2924</th>\n",
       "      <td>2020-08-31 20:00:00</td>\n",
       "      <td>293.615</td>\n",
       "    </tr>\n",
       "    <tr>\n",
       "      <th>2925</th>\n",
       "      <td>2020-08-31 21:00:00</td>\n",
       "      <td>256.641</td>\n",
       "    </tr>\n",
       "    <tr>\n",
       "      <th>2926</th>\n",
       "      <td>2020-08-31 22:00:00</td>\n",
       "      <td>172.866</td>\n",
       "    </tr>\n",
       "    <tr>\n",
       "      <th>2927</th>\n",
       "      <td>2020-08-31 23:00:00</td>\n",
       "      <td>140.111</td>\n",
       "    </tr>\n",
       "  </tbody>\n",
       "</table>\n",
       "</div>"
      ],
      "text/plain": [
       "                      ds        y\n",
       "2923 2020-08-31 19:00:00  509.100\n",
       "2924 2020-08-31 20:00:00  293.615\n",
       "2925 2020-08-31 21:00:00  256.641\n",
       "2926 2020-08-31 22:00:00  172.866\n",
       "2927 2020-08-31 23:00:00  140.111"
      ]
     },
     "execution_count": 5,
     "metadata": {},
     "output_type": "execute_result"
    }
   ],
   "source": [
    "Periodo1 = pd.concat([data3,data4,data5,data6])\n",
    "Periodo1 = Periodo1.drop(columns=['Fecha','Año','Mes','ID_Dia','Hora','WeekNo'])\n",
    "Periodo1 = Periodo1.reset_index()\n",
    "Periodo1 = Periodo1.rename(columns={'2807905-2807901':'y'})\n",
    "Periodo1.tail()"
   ]
  },
  {
   "cell_type": "code",
   "execution_count": 6,
   "id": "87afdf08",
   "metadata": {},
   "outputs": [
    {
     "data": {
      "image/png": "[encoded data removed]",
      "text/plain": [
       "<Figure size 1440x504 with 1 Axes>"
      ]
     },
     "metadata": {
      "needs_background": "light"
     },
     "output_type": "display_data"
    }
   ],
   "source": [
    "Periodo1['y'].plot(figsize=(20,7), legend=None, title='Desplazamientos - Periodo')\n",
    "plt.xlabel('Número de desplazamientos')\n",
    "plt.ylabel('Fecha')\n",
    "plt.show()"
   ]
  },
  {
   "cell_type": "markdown",
   "id": "0b4129cd",
   "metadata": {},
   "source": [
    "# Dividimos el periodo 1 en 2 subconjuntos - Desescalada y Nueva normalidad\n",
    "## Desescalada: 2 Mayo - 8 Junio"
   ]
  },
  {
   "cell_type": "code",
   "execution_count": 7,
   "id": "4ba0be06",
   "metadata": {},
   "outputs": [],
   "source": [
    "start_date = pd.Timestamp('2020-05-02')\n",
    "end_date = pd.Timestamp('2020-06-08 23:00:00')\n",
    "mask = (Periodo1['ds'] >= start_date) & (Periodo1['ds'] <= end_date)\n",
    "PeriodoDesescalada = Periodo1.loc[mask]"
   ]
  },
  {
   "cell_type": "markdown",
   "id": "bcfb45c1",
   "metadata": {},
   "source": [
    "## Nueva normalidad: 9 Junio - 31 Agosto"
   ]
  },
  {
   "cell_type": "code",
   "execution_count": 8,
   "id": "960af691",
   "metadata": {},
   "outputs": [],
   "source": [
    "start_date = pd.Timestamp('2020-06-09')\n",
    "end_date = pd.Timestamp('2020-08-31 23:00:00')\n",
    "mask = (Periodo1['ds'] >= start_date) & (Periodo1['ds'] <= end_date)\n",
    "PeriodoNnormalidad = Periodo1.loc[mask]"
   ]
  },
  {
   "cell_type": "code",
   "execution_count": 9,
   "id": "d6f3dba7",
   "metadata": {},
   "outputs": [
    {
     "name": "stderr",
     "output_type": "stream",
     "text": [
      "/tmp/ipykernel_60433/918465150.py:349: SettingWithCopyWarning: \n",
      "A value is trying to be set on a copy of a slice from a DataFrame.\n",
      "Try using .loc[row_indexer,col_indexer] = value instead\n",
      "\n",
      "See the caveats in the documentation: https://pandas.pydata.org/pandas-docs/stable/user_guide/indexing.html#returning-a-view-versus-a-copy\n",
      "  PeriodoDesescalada['Lunes1AM'] = PeriodoDesescalada['ds'].apply(est_Lunes1AM)\n",
      "/tmp/ipykernel_60433/918465150.py:350: SettingWithCopyWarning: \n",
      "A value is trying to be set on a copy of a slice from a DataFrame.\n",
      "Try using .loc[row_indexer,col_indexer] = value instead\n",
      "\n",
      "See the caveats in the documentation: https://pandas.pydata.org/pandas-docs/stable/user_guide/indexing.html#returning-a-view-versus-a-copy\n",
      "  PeriodoNnormalidad['Lunes1AM'] = PeriodoNnormalidad['ds'].apply(est_Lunes1AM)\n",
      "/tmp/ipykernel_60433/918465150.py:352: SettingWithCopyWarning: \n",
      "A value is trying to be set on a copy of a slice from a DataFrame.\n",
      "Try using .loc[row_indexer,col_indexer] = value instead\n",
      "\n",
      "See the caveats in the documentation: https://pandas.pydata.org/pandas-docs/stable/user_guide/indexing.html#returning-a-view-versus-a-copy\n",
      "  PeriodoDesescalada['Lunes'] = PeriodoDesescalada['ds'].apply(est_Lunes)\n",
      "/tmp/ipykernel_60433/918465150.py:353: SettingWithCopyWarning: \n",
      "A value is trying to be set on a copy of a slice from a DataFrame.\n",
      "Try using .loc[row_indexer,col_indexer] = value instead\n",
      "\n",
      "See the caveats in the documentation: https://pandas.pydata.org/pandas-docs/stable/user_guide/indexing.html#returning-a-view-versus-a-copy\n",
      "  PeriodoNnormalidad['Lunes'] = PeriodoNnormalidad['ds'].apply(est_Lunes)\n",
      "/tmp/ipykernel_60433/918465150.py:354: SettingWithCopyWarning: \n",
      "A value is trying to be set on a copy of a slice from a DataFrame.\n",
      "Try using .loc[row_indexer,col_indexer] = value instead\n",
      "\n",
      "See the caveats in the documentation: https://pandas.pydata.org/pandas-docs/stable/user_guide/indexing.html#returning-a-view-versus-a-copy\n",
      "  PeriodoDesescalada['Viernes'] = PeriodoDesescalada['ds'].apply(est_Viernes)\n",
      "/tmp/ipykernel_60433/918465150.py:355: SettingWithCopyWarning: \n",
      "A value is trying to be set on a copy of a slice from a DataFrame.\n",
      "Try using .loc[row_indexer,col_indexer] = value instead\n",
      "\n",
      "See the caveats in the documentation: https://pandas.pydata.org/pandas-docs/stable/user_guide/indexing.html#returning-a-view-versus-a-copy\n",
      "  PeriodoNnormalidad['Viernes'] = PeriodoNnormalidad['ds'].apply(est_Viernes)\n",
      "/tmp/ipykernel_60433/918465150.py:358: SettingWithCopyWarning: \n",
      "A value is trying to be set on a copy of a slice from a DataFrame.\n",
      "Try using .loc[row_indexer,col_indexer] = value instead\n",
      "\n",
      "See the caveats in the documentation: https://pandas.pydata.org/pandas-docs/stable/user_guide/indexing.html#returning-a-view-versus-a-copy\n",
      "  PeriodoDesescalada['Lunes2AM'] = PeriodoDesescalada['ds'].apply(est_Lunes2AM)\n",
      "/tmp/ipykernel_60433/918465150.py:359: SettingWithCopyWarning: \n",
      "A value is trying to be set on a copy of a slice from a DataFrame.\n",
      "Try using .loc[row_indexer,col_indexer] = value instead\n",
      "\n",
      "See the caveats in the documentation: https://pandas.pydata.org/pandas-docs/stable/user_guide/indexing.html#returning-a-view-versus-a-copy\n",
      "  PeriodoNnormalidad['Lunes2AM'] = PeriodoNnormalidad['ds'].apply(est_Lunes2AM)\n",
      "/tmp/ipykernel_60433/918465150.py:361: SettingWithCopyWarning: \n",
      "A value is trying to be set on a copy of a slice from a DataFrame.\n",
      "Try using .loc[row_indexer,col_indexer] = value instead\n",
      "\n",
      "See the caveats in the documentation: https://pandas.pydata.org/pandas-docs/stable/user_guide/indexing.html#returning-a-view-versus-a-copy\n",
      "  PeriodoDesescalada['Lunes3AM'] = PeriodoDesescalada['ds'].apply(est_Lunes3AM)\n",
      "/tmp/ipykernel_60433/918465150.py:362: SettingWithCopyWarning: \n",
      "A value is trying to be set on a copy of a slice from a DataFrame.\n",
      "Try using .loc[row_indexer,col_indexer] = value instead\n",
      "\n",
      "See the caveats in the documentation: https://pandas.pydata.org/pandas-docs/stable/user_guide/indexing.html#returning-a-view-versus-a-copy\n",
      "  PeriodoNnormalidad['Lunes3AM'] = PeriodoNnormalidad['ds'].apply(est_Lunes3AM)\n",
      "/tmp/ipykernel_60433/918465150.py:364: SettingWithCopyWarning: \n",
      "A value is trying to be set on a copy of a slice from a DataFrame.\n",
      "Try using .loc[row_indexer,col_indexer] = value instead\n",
      "\n",
      "See the caveats in the documentation: https://pandas.pydata.org/pandas-docs/stable/user_guide/indexing.html#returning-a-view-versus-a-copy\n",
      "  PeriodoDesescalada['Lunes4AM'] = PeriodoDesescalada['ds'].apply(est_Lunes4AM)\n",
      "/tmp/ipykernel_60433/918465150.py:365: SettingWithCopyWarning: \n",
      "A value is trying to be set on a copy of a slice from a DataFrame.\n",
      "Try using .loc[row_indexer,col_indexer] = value instead\n",
      "\n",
      "See the caveats in the documentation: https://pandas.pydata.org/pandas-docs/stable/user_guide/indexing.html#returning-a-view-versus-a-copy\n",
      "  PeriodoNnormalidad['Lunes4AM'] = PeriodoNnormalidad['ds'].apply(est_Lunes4AM)\n",
      "/tmp/ipykernel_60433/918465150.py:367: SettingWithCopyWarning: \n",
      "A value is trying to be set on a copy of a slice from a DataFrame.\n",
      "Try using .loc[row_indexer,col_indexer] = value instead\n",
      "\n",
      "See the caveats in the documentation: https://pandas.pydata.org/pandas-docs/stable/user_guide/indexing.html#returning-a-view-versus-a-copy\n",
      "  PeriodoDesescalada['Lunes5AM'] = PeriodoDesescalada['ds'].apply(est_Lunes5AM)\n",
      "/tmp/ipykernel_60433/918465150.py:368: SettingWithCopyWarning: \n",
      "A value is trying to be set on a copy of a slice from a DataFrame.\n",
      "Try using .loc[row_indexer,col_indexer] = value instead\n",
      "\n",
      "See the caveats in the documentation: https://pandas.pydata.org/pandas-docs/stable/user_guide/indexing.html#returning-a-view-versus-a-copy\n",
      "  PeriodoNnormalidad['Lunes5AM'] = PeriodoNnormalidad['ds'].apply(est_Lunes5AM)\n",
      "/tmp/ipykernel_60433/918465150.py:370: SettingWithCopyWarning: \n",
      "A value is trying to be set on a copy of a slice from a DataFrame.\n",
      "Try using .loc[row_indexer,col_indexer] = value instead\n",
      "\n",
      "See the caveats in the documentation: https://pandas.pydata.org/pandas-docs/stable/user_guide/indexing.html#returning-a-view-versus-a-copy\n",
      "  PeriodoDesescalada['Lunes6AM'] = PeriodoDesescalada['ds'].apply(est_Lunes6AM)\n",
      "/tmp/ipykernel_60433/918465150.py:371: SettingWithCopyWarning: \n",
      "A value is trying to be set on a copy of a slice from a DataFrame.\n",
      "Try using .loc[row_indexer,col_indexer] = value instead\n",
      "\n",
      "See the caveats in the documentation: https://pandas.pydata.org/pandas-docs/stable/user_guide/indexing.html#returning-a-view-versus-a-copy\n",
      "  PeriodoNnormalidad['Lunes6AM'] = PeriodoNnormalidad['ds'].apply(est_Lunes6AM)\n",
      "/tmp/ipykernel_60433/918465150.py:373: SettingWithCopyWarning: \n",
      "A value is trying to be set on a copy of a slice from a DataFrame.\n",
      "Try using .loc[row_indexer,col_indexer] = value instead\n",
      "\n",
      "See the caveats in the documentation: https://pandas.pydata.org/pandas-docs/stable/user_guide/indexing.html#returning-a-view-versus-a-copy\n",
      "  PeriodoDesescalada['Lunes7AM'] = PeriodoDesescalada['ds'].apply(est_Lunes7AM)\n",
      "/tmp/ipykernel_60433/918465150.py:374: SettingWithCopyWarning: \n",
      "A value is trying to be set on a copy of a slice from a DataFrame.\n",
      "Try using .loc[row_indexer,col_indexer] = value instead\n",
      "\n",
      "See the caveats in the documentation: https://pandas.pydata.org/pandas-docs/stable/user_guide/indexing.html#returning-a-view-versus-a-copy\n",
      "  PeriodoNnormalidad['Lunes7AM'] = PeriodoNnormalidad['ds'].apply(est_Lunes7AM)\n",
      "/tmp/ipykernel_60433/918465150.py:376: SettingWithCopyWarning: \n",
      "A value is trying to be set on a copy of a slice from a DataFrame.\n",
      "Try using .loc[row_indexer,col_indexer] = value instead\n",
      "\n",
      "See the caveats in the documentation: https://pandas.pydata.org/pandas-docs/stable/user_guide/indexing.html#returning-a-view-versus-a-copy\n",
      "  PeriodoDesescalada['Lunes8AM'] = PeriodoDesescalada['ds'].apply(est_Lunes8AM)\n",
      "/tmp/ipykernel_60433/918465150.py:377: SettingWithCopyWarning: \n",
      "A value is trying to be set on a copy of a slice from a DataFrame.\n",
      "Try using .loc[row_indexer,col_indexer] = value instead\n",
      "\n",
      "See the caveats in the documentation: https://pandas.pydata.org/pandas-docs/stable/user_guide/indexing.html#returning-a-view-versus-a-copy\n",
      "  PeriodoNnormalidad['Lunes8AM'] = PeriodoNnormalidad['ds'].apply(est_Lunes8AM)\n",
      "/tmp/ipykernel_60433/918465150.py:379: SettingWithCopyWarning: \n",
      "A value is trying to be set on a copy of a slice from a DataFrame.\n",
      "Try using .loc[row_indexer,col_indexer] = value instead\n",
      "\n",
      "See the caveats in the documentation: https://pandas.pydata.org/pandas-docs/stable/user_guide/indexing.html#returning-a-view-versus-a-copy\n",
      "  PeriodoDesescalada['Lunes9AM'] = PeriodoDesescalada['ds'].apply(est_Lunes9AM)\n",
      "/tmp/ipykernel_60433/918465150.py:380: SettingWithCopyWarning: \n",
      "A value is trying to be set on a copy of a slice from a DataFrame.\n",
      "Try using .loc[row_indexer,col_indexer] = value instead\n",
      "\n",
      "See the caveats in the documentation: https://pandas.pydata.org/pandas-docs/stable/user_guide/indexing.html#returning-a-view-versus-a-copy\n",
      "  PeriodoNnormalidad['Lunes9AM'] = PeriodoNnormalidad['ds'].apply(est_Lunes9AM)\n",
      "/tmp/ipykernel_60433/918465150.py:382: SettingWithCopyWarning: \n",
      "A value is trying to be set on a copy of a slice from a DataFrame.\n",
      "Try using .loc[row_indexer,col_indexer] = value instead\n",
      "\n",
      "See the caveats in the documentation: https://pandas.pydata.org/pandas-docs/stable/user_guide/indexing.html#returning-a-view-versus-a-copy\n",
      "  PeriodoDesescalada['Lunes10AM'] = PeriodoDesescalada['ds'].apply(est_Lunes10AM)\n",
      "/tmp/ipykernel_60433/918465150.py:383: SettingWithCopyWarning: \n",
      "A value is trying to be set on a copy of a slice from a DataFrame.\n",
      "Try using .loc[row_indexer,col_indexer] = value instead\n",
      "\n",
      "See the caveats in the documentation: https://pandas.pydata.org/pandas-docs/stable/user_guide/indexing.html#returning-a-view-versus-a-copy\n",
      "  PeriodoNnormalidad['Lunes10AM'] = PeriodoNnormalidad['ds'].apply(est_Lunes10AM)\n",
      "/tmp/ipykernel_60433/918465150.py:385: SettingWithCopyWarning: \n",
      "A value is trying to be set on a copy of a slice from a DataFrame.\n",
      "Try using .loc[row_indexer,col_indexer] = value instead\n",
      "\n",
      "See the caveats in the documentation: https://pandas.pydata.org/pandas-docs/stable/user_guide/indexing.html#returning-a-view-versus-a-copy\n",
      "  PeriodoDesescalada['Lunes11AM'] = PeriodoDesescalada['ds'].apply(est_Lunes11AM)\n",
      "/tmp/ipykernel_60433/918465150.py:386: SettingWithCopyWarning: \n",
      "A value is trying to be set on a copy of a slice from a DataFrame.\n",
      "Try using .loc[row_indexer,col_indexer] = value instead\n",
      "\n",
      "See the caveats in the documentation: https://pandas.pydata.org/pandas-docs/stable/user_guide/indexing.html#returning-a-view-versus-a-copy\n",
      "  PeriodoNnormalidad['Lunes11AM'] = PeriodoNnormalidad['ds'].apply(est_Lunes11AM)\n",
      "/tmp/ipykernel_60433/918465150.py:388: SettingWithCopyWarning: \n",
      "A value is trying to be set on a copy of a slice from a DataFrame.\n",
      "Try using .loc[row_indexer,col_indexer] = value instead\n",
      "\n",
      "See the caveats in the documentation: https://pandas.pydata.org/pandas-docs/stable/user_guide/indexing.html#returning-a-view-versus-a-copy\n",
      "  PeriodoDesescalada['Lunes12PM'] = PeriodoDesescalada['ds'].apply(est_Lunes12PM)\n",
      "/tmp/ipykernel_60433/918465150.py:389: SettingWithCopyWarning: \n",
      "A value is trying to be set on a copy of a slice from a DataFrame.\n",
      "Try using .loc[row_indexer,col_indexer] = value instead\n",
      "\n",
      "See the caveats in the documentation: https://pandas.pydata.org/pandas-docs/stable/user_guide/indexing.html#returning-a-view-versus-a-copy\n",
      "  PeriodoNnormalidad['Lunes12PM'] = PeriodoNnormalidad['ds'].apply(est_Lunes12PM)\n",
      "/tmp/ipykernel_60433/918465150.py:391: SettingWithCopyWarning: \n",
      "A value is trying to be set on a copy of a slice from a DataFrame.\n",
      "Try using .loc[row_indexer,col_indexer] = value instead\n",
      "\n",
      "See the caveats in the documentation: https://pandas.pydata.org/pandas-docs/stable/user_guide/indexing.html#returning-a-view-versus-a-copy\n",
      "  PeriodoDesescalada['Lunes13PM'] = PeriodoDesescalada['ds'].apply(est_Lunes13PM)\n",
      "/tmp/ipykernel_60433/918465150.py:392: SettingWithCopyWarning: \n",
      "A value is trying to be set on a copy of a slice from a DataFrame.\n",
      "Try using .loc[row_indexer,col_indexer] = value instead\n",
      "\n",
      "See the caveats in the documentation: https://pandas.pydata.org/pandas-docs/stable/user_guide/indexing.html#returning-a-view-versus-a-copy\n",
      "  PeriodoNnormalidad['Lunes13PM'] = PeriodoNnormalidad['ds'].apply(est_Lunes13PM)\n",
      "/tmp/ipykernel_60433/918465150.py:394: SettingWithCopyWarning: \n",
      "A value is trying to be set on a copy of a slice from a DataFrame.\n",
      "Try using .loc[row_indexer,col_indexer] = value instead\n",
      "\n",
      "See the caveats in the documentation: https://pandas.pydata.org/pandas-docs/stable/user_guide/indexing.html#returning-a-view-versus-a-copy\n",
      "  PeriodoDesescalada['Lunes14PM'] = PeriodoDesescalada['ds'].apply(est_Lunes14PM)\n",
      "/tmp/ipykernel_60433/918465150.py:395: SettingWithCopyWarning: \n",
      "A value is trying to be set on a copy of a slice from a DataFrame.\n",
      "Try using .loc[row_indexer,col_indexer] = value instead\n",
      "\n",
      "See the caveats in the documentation: https://pandas.pydata.org/pandas-docs/stable/user_guide/indexing.html#returning-a-view-versus-a-copy\n",
      "  PeriodoNnormalidad['Lunes14PM'] = PeriodoNnormalidad['ds'].apply(est_Lunes14PM)\n",
      "/tmp/ipykernel_60433/918465150.py:397: SettingWithCopyWarning: \n",
      "A value is trying to be set on a copy of a slice from a DataFrame.\n",
      "Try using .loc[row_indexer,col_indexer] = value instead\n",
      "\n",
      "See the caveats in the documentation: https://pandas.pydata.org/pandas-docs/stable/user_guide/indexing.html#returning-a-view-versus-a-copy\n",
      "  PeriodoDesescalada['Lunes15PM'] = PeriodoDesescalada['ds'].apply(est_Lunes15PM)\n",
      "/tmp/ipykernel_60433/918465150.py:398: SettingWithCopyWarning: \n",
      "A value is trying to be set on a copy of a slice from a DataFrame.\n",
      "Try using .loc[row_indexer,col_indexer] = value instead\n",
      "\n",
      "See the caveats in the documentation: https://pandas.pydata.org/pandas-docs/stable/user_guide/indexing.html#returning-a-view-versus-a-copy\n",
      "  PeriodoNnormalidad['Lunes15PM'] = PeriodoNnormalidad['ds'].apply(est_Lunes15PM)\n",
      "/tmp/ipykernel_60433/918465150.py:400: SettingWithCopyWarning: \n",
      "A value is trying to be set on a copy of a slice from a DataFrame.\n",
      "Try using .loc[row_indexer,col_indexer] = value instead\n",
      "\n",
      "See the caveats in the documentation: https://pandas.pydata.org/pandas-docs/stable/user_guide/indexing.html#returning-a-view-versus-a-copy\n",
      "  PeriodoDesescalada['Lunes16PM'] = PeriodoDesescalada['ds'].apply(est_Lunes16PM)\n",
      "/tmp/ipykernel_60433/918465150.py:401: SettingWithCopyWarning: \n",
      "A value is trying to be set on a copy of a slice from a DataFrame.\n",
      "Try using .loc[row_indexer,col_indexer] = value instead\n",
      "\n",
      "See the caveats in the documentation: https://pandas.pydata.org/pandas-docs/stable/user_guide/indexing.html#returning-a-view-versus-a-copy\n",
      "  PeriodoNnormalidad['Lunes16PM'] = PeriodoNnormalidad['ds'].apply(est_Lunes16PM)\n",
      "/tmp/ipykernel_60433/918465150.py:403: SettingWithCopyWarning: \n",
      "A value is trying to be set on a copy of a slice from a DataFrame.\n",
      "Try using .loc[row_indexer,col_indexer] = value instead\n",
      "\n",
      "See the caveats in the documentation: https://pandas.pydata.org/pandas-docs/stable/user_guide/indexing.html#returning-a-view-versus-a-copy\n",
      "  PeriodoDesescalada['Lunes17PM'] = PeriodoDesescalada['ds'].apply(est_Lunes17PM)\n",
      "/tmp/ipykernel_60433/918465150.py:404: SettingWithCopyWarning: \n",
      "A value is trying to be set on a copy of a slice from a DataFrame.\n",
      "Try using .loc[row_indexer,col_indexer] = value instead\n",
      "\n",
      "See the caveats in the documentation: https://pandas.pydata.org/pandas-docs/stable/user_guide/indexing.html#returning-a-view-versus-a-copy\n",
      "  PeriodoNnormalidad['Lunes17PM'] = PeriodoNnormalidad['ds'].apply(est_Lunes17PM)\n",
      "/tmp/ipykernel_60433/918465150.py:406: SettingWithCopyWarning: \n",
      "A value is trying to be set on a copy of a slice from a DataFrame.\n",
      "Try using .loc[row_indexer,col_indexer] = value instead\n",
      "\n",
      "See the caveats in the documentation: https://pandas.pydata.org/pandas-docs/stable/user_guide/indexing.html#returning-a-view-versus-a-copy\n",
      "  PeriodoDesescalada['Lunes18PM'] = PeriodoDesescalada['ds'].apply(est_Lunes18PM)\n",
      "/tmp/ipykernel_60433/918465150.py:407: SettingWithCopyWarning: \n",
      "A value is trying to be set on a copy of a slice from a DataFrame.\n",
      "Try using .loc[row_indexer,col_indexer] = value instead\n",
      "\n",
      "See the caveats in the documentation: https://pandas.pydata.org/pandas-docs/stable/user_guide/indexing.html#returning-a-view-versus-a-copy\n",
      "  PeriodoNnormalidad['Lunes18PM'] = PeriodoNnormalidad['ds'].apply(est_Lunes18PM)\n"
     ]
    },
    {
     "name": "stderr",
     "output_type": "stream",
     "text": [
      "/tmp/ipykernel_60433/918465150.py:409: SettingWithCopyWarning: \n",
      "A value is trying to be set on a copy of a slice from a DataFrame.\n",
      "Try using .loc[row_indexer,col_indexer] = value instead\n",
      "\n",
      "See the caveats in the documentation: https://pandas.pydata.org/pandas-docs/stable/user_guide/indexing.html#returning-a-view-versus-a-copy\n",
      "  PeriodoDesescalada['Lunes19PM'] = PeriodoDesescalada['ds'].apply(est_Lunes19PM)\n",
      "/tmp/ipykernel_60433/918465150.py:410: SettingWithCopyWarning: \n",
      "A value is trying to be set on a copy of a slice from a DataFrame.\n",
      "Try using .loc[row_indexer,col_indexer] = value instead\n",
      "\n",
      "See the caveats in the documentation: https://pandas.pydata.org/pandas-docs/stable/user_guide/indexing.html#returning-a-view-versus-a-copy\n",
      "  PeriodoNnormalidad['Lunes19PM'] = PeriodoNnormalidad['ds'].apply(est_Lunes19PM)\n",
      "/tmp/ipykernel_60433/918465150.py:412: SettingWithCopyWarning: \n",
      "A value is trying to be set on a copy of a slice from a DataFrame.\n",
      "Try using .loc[row_indexer,col_indexer] = value instead\n",
      "\n",
      "See the caveats in the documentation: https://pandas.pydata.org/pandas-docs/stable/user_guide/indexing.html#returning-a-view-versus-a-copy\n",
      "  PeriodoDesescalada['Lunes20PM'] = PeriodoDesescalada['ds'].apply(est_Lunes20PM)\n",
      "/tmp/ipykernel_60433/918465150.py:413: SettingWithCopyWarning: \n",
      "A value is trying to be set on a copy of a slice from a DataFrame.\n",
      "Try using .loc[row_indexer,col_indexer] = value instead\n",
      "\n",
      "See the caveats in the documentation: https://pandas.pydata.org/pandas-docs/stable/user_guide/indexing.html#returning-a-view-versus-a-copy\n",
      "  PeriodoNnormalidad['Lunes20PM'] = PeriodoNnormalidad['ds'].apply(est_Lunes20PM)\n",
      "/tmp/ipykernel_60433/918465150.py:415: SettingWithCopyWarning: \n",
      "A value is trying to be set on a copy of a slice from a DataFrame.\n",
      "Try using .loc[row_indexer,col_indexer] = value instead\n",
      "\n",
      "See the caveats in the documentation: https://pandas.pydata.org/pandas-docs/stable/user_guide/indexing.html#returning-a-view-versus-a-copy\n",
      "  PeriodoDesescalada['Lunes21PM'] = PeriodoDesescalada['ds'].apply(est_Lunes21PM)\n",
      "/tmp/ipykernel_60433/918465150.py:416: SettingWithCopyWarning: \n",
      "A value is trying to be set on a copy of a slice from a DataFrame.\n",
      "Try using .loc[row_indexer,col_indexer] = value instead\n",
      "\n",
      "See the caveats in the documentation: https://pandas.pydata.org/pandas-docs/stable/user_guide/indexing.html#returning-a-view-versus-a-copy\n",
      "  PeriodoNnormalidad['Lunes21PM'] = PeriodoNnormalidad['ds'].apply(est_Lunes21PM)\n",
      "/tmp/ipykernel_60433/918465150.py:418: SettingWithCopyWarning: \n",
      "A value is trying to be set on a copy of a slice from a DataFrame.\n",
      "Try using .loc[row_indexer,col_indexer] = value instead\n",
      "\n",
      "See the caveats in the documentation: https://pandas.pydata.org/pandas-docs/stable/user_guide/indexing.html#returning-a-view-versus-a-copy\n",
      "  PeriodoDesescalada['Lunes22PM'] = PeriodoDesescalada['ds'].apply(est_Lunes22PM)\n",
      "/tmp/ipykernel_60433/918465150.py:419: SettingWithCopyWarning: \n",
      "A value is trying to be set on a copy of a slice from a DataFrame.\n",
      "Try using .loc[row_indexer,col_indexer] = value instead\n",
      "\n",
      "See the caveats in the documentation: https://pandas.pydata.org/pandas-docs/stable/user_guide/indexing.html#returning-a-view-versus-a-copy\n",
      "  PeriodoNnormalidad['Lunes22PM'] = PeriodoNnormalidad['ds'].apply(est_Lunes22PM)\n",
      "/tmp/ipykernel_60433/918465150.py:421: SettingWithCopyWarning: \n",
      "A value is trying to be set on a copy of a slice from a DataFrame.\n",
      "Try using .loc[row_indexer,col_indexer] = value instead\n",
      "\n",
      "See the caveats in the documentation: https://pandas.pydata.org/pandas-docs/stable/user_guide/indexing.html#returning-a-view-versus-a-copy\n",
      "  PeriodoDesescalada['Lunes23PM'] = PeriodoDesescalada['ds'].apply(est_Lunes23PM)\n",
      "/tmp/ipykernel_60433/918465150.py:422: SettingWithCopyWarning: \n",
      "A value is trying to be set on a copy of a slice from a DataFrame.\n",
      "Try using .loc[row_indexer,col_indexer] = value instead\n",
      "\n",
      "See the caveats in the documentation: https://pandas.pydata.org/pandas-docs/stable/user_guide/indexing.html#returning-a-view-versus-a-copy\n",
      "  PeriodoNnormalidad['Lunes23PM'] = PeriodoNnormalidad['ds'].apply(est_Lunes23PM)\n",
      "/tmp/ipykernel_60433/918465150.py:424: SettingWithCopyWarning: \n",
      "A value is trying to be set on a copy of a slice from a DataFrame.\n",
      "Try using .loc[row_indexer,col_indexer] = value instead\n",
      "\n",
      "See the caveats in the documentation: https://pandas.pydata.org/pandas-docs/stable/user_guide/indexing.html#returning-a-view-versus-a-copy\n",
      "  PeriodoDesescalada['Lunes24AM'] = PeriodoDesescalada['ds'].apply(est_Lunes24AM)\n",
      "/tmp/ipykernel_60433/918465150.py:425: SettingWithCopyWarning: \n",
      "A value is trying to be set on a copy of a slice from a DataFrame.\n",
      "Try using .loc[row_indexer,col_indexer] = value instead\n",
      "\n",
      "See the caveats in the documentation: https://pandas.pydata.org/pandas-docs/stable/user_guide/indexing.html#returning-a-view-versus-a-copy\n",
      "  PeriodoNnormalidad['Lunes24AM'] = PeriodoNnormalidad['ds'].apply(est_Lunes24AM)\n"
     ]
    }
   ],
   "source": [
    "def est_Lunes(ds):\n",
    "    date = pd.to_datetime(ds)\n",
    "    return (date.dayofweek == 0)\n",
    "\n",
    "def est_Viernes(ds):\n",
    "    date = pd.to_datetime(ds)\n",
    "    return (date.dayofweek == 4)\n",
    "\n",
    "def est_Lunes1AM(ds):\n",
    "    date = pd.to_datetime(ds)\n",
    "    return (date.dayofweek == 0 and date.hour == 1)\n",
    "\n",
    "def est_Lunes2AM(ds):\n",
    "    date = pd.to_datetime(ds)\n",
    "    return (date.dayofweek == 0 and date.hour == 2)\n",
    "\n",
    "def est_Lunes3AM(ds):\n",
    "    date = pd.to_datetime(ds)\n",
    "    return (date.dayofweek == 0 and date.hour == 3)\n",
    "\n",
    "def est_Lunes4AM(ds):\n",
    "    date = pd.to_datetime(ds)\n",
    "    return (date.dayofweek == 0 and date.hour == 4)\n",
    "\n",
    "def est_Lunes5AM(ds):\n",
    "    date = pd.to_datetime(ds)\n",
    "    return (date.dayofweek == 0 and date.hour == 5)\n",
    "\n",
    "def est_Lunes6AM(ds):\n",
    "    date = pd.to_datetime(ds)\n",
    "    return (date.dayofweek == 0 and date.hour == 6)\n",
    "\n",
    "def est_Lunes7AM(ds):\n",
    "    date = pd.to_datetime(ds)\n",
    "    return (date.dayofweek == 0 and date.hour == 7)\n",
    "\n",
    "def est_Lunes8AM(ds):\n",
    "    date = pd.to_datetime(ds)\n",
    "    return (date.dayofweek == 0 and date.hour == 8)\n",
    "\n",
    "def est_Lunes9AM(ds):\n",
    "    date = pd.to_datetime(ds)\n",
    "    return (date.dayofweek == 0 and date.hour == 9)\n",
    "\n",
    "def est_Lunes10AM(ds):\n",
    "    date = pd.to_datetime(ds)\n",
    "    return (date.dayofweek == 0 and date.hour == 10)\n",
    "\n",
    "def est_Lunes11AM(ds):\n",
    "    date = pd.to_datetime(ds)\n",
    "    return (date.dayofweek == 0 and date.hour == 11)\n",
    "\n",
    "def est_Lunes12PM(ds):\n",
    "    date = pd.to_datetime(ds)\n",
    "    return (date.dayofweek == 0 and date.hour == 12)\n",
    "\n",
    "def est_Lunes13PM(ds):\n",
    "    date = pd.to_datetime(ds)\n",
    "    return (date.dayofweek == 0 and date.hour == 13)\n",
    "\n",
    "def est_Lunes14PM(ds):\n",
    "    date = pd.to_datetime(ds)\n",
    "    return (date.dayofweek == 0 and date.hour == 14)\n",
    "\n",
    "def est_Lunes15PM(ds):\n",
    "    date = pd.to_datetime(ds)\n",
    "    return (date.dayofweek == 0 and date.hour == 15)\n",
    "\n",
    "def est_Lunes16PM(ds):\n",
    "    date = pd.to_datetime(ds)\n",
    "    return (date.dayofweek == 0 and date.hour == 16)\n",
    "\n",
    "def est_Lunes17PM(ds):\n",
    "    date = pd.to_datetime(ds)\n",
    "    return (date.dayofweek == 0 and date.hour == 17)\n",
    "\n",
    "def est_Lunes18PM(ds):\n",
    "    date = pd.to_datetime(ds)\n",
    "    return (date.dayofweek == 0 and date.hour == 18)\n",
    "\n",
    "def est_Lunes19PM(ds):\n",
    "    date = pd.to_datetime(ds)\n",
    "    return (date.dayofweek == 0 and date.hour == 19)\n",
    "\n",
    "def est_Lunes20PM(ds):\n",
    "    date = pd.to_datetime(ds)\n",
    "    return (date.dayofweek == 0 and date.hour == 20)\n",
    "\n",
    "def est_Lunes21PM(ds):\n",
    "    date = pd.to_datetime(ds)\n",
    "    return (date.dayofweek == 0 and date.hour == 21)\n",
    "\n",
    "def est_Lunes22PM(ds):\n",
    "    date = pd.to_datetime(ds)\n",
    "    return (date.dayofweek == 0 and date.hour == 22)\n",
    "\n",
    "def est_Lunes23PM(ds):\n",
    "    date = pd.to_datetime(ds)\n",
    "    return (date.dayofweek == 0 and date.hour == 23)\n",
    "\n",
    "def est_Lunes24AM(ds):\n",
    "    date = pd.to_datetime(ds)\n",
    "    return (date.dayofweek == 0 and date.hour == 0)\n",
    "\n",
    "\n",
    "##############################################Train########################################################\n",
    "\n",
    "def Regressor1AMTrain(ds):\n",
    "    global fila    \n",
    "    date = pd.to_datetime(ds)\n",
    "    if date.dayofweek == 0 and date.hour == 1:                 \n",
    "        mean = Train1AM_D.y.mean()\n",
    "        valor = mean \n",
    "    else:\n",
    "        valor = 0    \n",
    "    return (valor)\n",
    "\n",
    "def Regressor2AMTrain(ds):\n",
    "    global fila    \n",
    "    date = pd.to_datetime(ds)\n",
    "    if date.dayofweek == 0 and date.hour == 2:                 \n",
    "        mean = Train2AM_D.y.mean()\n",
    "        valor = mean \n",
    "    else:\n",
    "        valor = 0    \n",
    "    return (valor)\n",
    "\n",
    "def Regressor3AMTrain(ds):\n",
    "    global fila    \n",
    "    date = pd.to_datetime(ds)\n",
    "    if date.dayofweek == 0 and date.hour == 3:                 \n",
    "        mean = Train3AM_D.y.mean()\n",
    "        valor = mean \n",
    "    else:\n",
    "        valor = 0    \n",
    "    return (valor)\n",
    "\n",
    "def Regressor4AMTrain(ds):\n",
    "    global fila    \n",
    "    date = pd.to_datetime(ds)\n",
    "    if date.dayofweek == 0 and date.hour == 4:                 \n",
    "        mean = Train4AM_D.y.mean()\n",
    "        valor = mean \n",
    "    else:\n",
    "        valor = 0    \n",
    "    return (valor)\n",
    "\n",
    "def Regressor5AMTrain(ds):\n",
    "    global fila    \n",
    "    date = pd.to_datetime(ds)\n",
    "    if date.dayofweek == 0 and date.hour == 5:                 \n",
    "        mean = Train5AM_D.y.mean()\n",
    "        valor = mean \n",
    "    else:\n",
    "        valor = 0    \n",
    "    return (valor)\n",
    "\n",
    "def Regressor6AMTrain(ds):\n",
    "    global fila    \n",
    "    date = pd.to_datetime(ds)\n",
    "    if date.dayofweek == 0 and date.hour == 6:                 \n",
    "        mean = Train6AM_D.y.mean()\n",
    "        valor = mean \n",
    "    else:\n",
    "        valor = 0    \n",
    "    return (valor)\n",
    "\n",
    "def Regressor7AMTrain(ds):\n",
    "    global fila    \n",
    "    date = pd.to_datetime(ds)\n",
    "    if date.dayofweek == 0 and date.hour == 7:                 \n",
    "        mean = Train7AM_D.y.mean()\n",
    "        valor = mean         \n",
    "    else:\n",
    "        valor = 0    \n",
    "    return (valor)\n",
    "\n",
    "def Regressor8AMTrain(ds):\n",
    "    global fila    \n",
    "    date = pd.to_datetime(ds)\n",
    "    if date.dayofweek == 0 and date.hour == 8:                 \n",
    "        mean = Train8AM_D.y.mean()\n",
    "        valor = mean                \n",
    "    else:\n",
    "        valor = 0    \n",
    "    return (valor)\n",
    "\n",
    "def Regressor9AMTrain(ds):\n",
    "    global fila    \n",
    "    date = pd.to_datetime(ds)\n",
    "    if date.dayofweek == 0 and date.hour == 9:                 \n",
    "        mean = Train9AM_D.y.mean()\n",
    "        valor = mean \n",
    "    else:\n",
    "        valor = 0    \n",
    "    return (valor)\n",
    "\n",
    "def Regressor10AMTrain(ds):\n",
    "    global fila    \n",
    "    date = pd.to_datetime(ds)\n",
    "    if date.dayofweek == 0 and date.hour == 10:                 \n",
    "        mean = Train10AM_D.y.mean()\n",
    "        valor = mean \n",
    "    else:\n",
    "        valor = 0    \n",
    "    return (valor)\n",
    "\n",
    "def Regressor11AMTrain(ds):\n",
    "    global fila    \n",
    "    date = pd.to_datetime(ds)\n",
    "    if date.dayofweek == 0 and date.hour == 11:                 \n",
    "        mean = Train11AM_D.y.mean()\n",
    "        valor = mean \n",
    "    else:\n",
    "        valor = 0    \n",
    "    return (valor)\n",
    "\n",
    "def Regressor12PMTrain(ds):\n",
    "    global fila    \n",
    "    date = pd.to_datetime(ds)\n",
    "    if date.dayofweek == 0 and date.hour == 12:                 \n",
    "        mean = Train12PM_D.y.mean()\n",
    "        valor = mean \n",
    "    else:\n",
    "        valor = 0    \n",
    "    return (valor)\n",
    "\n",
    "def Regressor13PMTrain(ds):\n",
    "    global fila    \n",
    "    date = pd.to_datetime(ds)\n",
    "    if date.dayofweek == 0 and date.hour == 13:                 \n",
    "        mean = Train13PM_D.y.mean()\n",
    "        valor = mean \n",
    "    else:\n",
    "        valor = 0    \n",
    "    return (valor)\n",
    "\n",
    "def Regressor14PMTrain(ds):\n",
    "    global fila    \n",
    "    date = pd.to_datetime(ds)\n",
    "    if date.dayofweek == 0 and date.hour == 14:                 \n",
    "        mean = Train14PM_D.y.mean()\n",
    "        valor = mean \n",
    "    else:\n",
    "        valor = 0    \n",
    "    return (valor)\n",
    "\n",
    "def Regressor15PMTrain(ds):\n",
    "    global fila    \n",
    "    date = pd.to_datetime(ds)\n",
    "    if date.dayofweek == 0 and date.hour == 15:                 \n",
    "        mean = Train15PM_D.y.mean()\n",
    "        valor = mean \n",
    "    else:\n",
    "        valor = 0    \n",
    "    return (valor)\n",
    "\n",
    "def Regressor16PMTrain(ds):\n",
    "    global fila    \n",
    "    date = pd.to_datetime(ds)\n",
    "    if date.dayofweek == 0 and date.hour == 16:                 \n",
    "        mean = Train16PM_D.y.mean()\n",
    "        valor = mean \n",
    "    else:\n",
    "        valor = 0    \n",
    "    return (valor)\n",
    "\n",
    "def Regressor17PMTrain(ds):\n",
    "    global fila    \n",
    "    date = pd.to_datetime(ds)\n",
    "    if date.dayofweek == 0 and date.hour == 17:                 \n",
    "        mean = Train17PM_D.y.mean()\n",
    "        valor = mean \n",
    "    else:\n",
    "        valor = 0    \n",
    "    return (valor)\n",
    "\n",
    "def Regressor18PMTrain(ds):\n",
    "    global fila    \n",
    "    date = pd.to_datetime(ds)\n",
    "    if date.dayofweek == 0 and date.hour == 18:                 \n",
    "        mean = Train18PM_D.y.mean()\n",
    "        valor = mean \n",
    "    else:\n",
    "        valor = 0    \n",
    "    return (valor)\n",
    "\n",
    "def Regressor19PMTrain(ds):\n",
    "    global fila    \n",
    "    date = pd.to_datetime(ds)\n",
    "    if date.dayofweek == 0 and date.hour == 19:                 \n",
    "        mean = Train19PM_D.y.mean()\n",
    "        valor = mean \n",
    "    else:\n",
    "        valor = 0    \n",
    "    return (valor)\n",
    "\n",
    "def Regressor20PMTrain(ds):\n",
    "    global fila    \n",
    "    date = pd.to_datetime(ds)\n",
    "    if date.dayofweek == 0 and date.hour == 20:                 \n",
    "        mean = Train20PM_D.y.mean()\n",
    "        valor = mean \n",
    "    else:\n",
    "        valor = 0    \n",
    "    return (valor)\n",
    "\n",
    "def Regressor21PMTrain(ds):\n",
    "    global fila    \n",
    "    date = pd.to_datetime(ds)\n",
    "    if date.dayofweek == 0 and date.hour == 21:                 \n",
    "        mean = Train21PM_D.y.mean()\n",
    "        valor = mean \n",
    "    else:\n",
    "        valor = 0    \n",
    "    return (valor)\n",
    "\n",
    "def Regressor22PMTrain(ds):\n",
    "    global fila    \n",
    "    date = pd.to_datetime(ds)\n",
    "    if date.dayofweek == 0 and date.hour == 22:                 \n",
    "        mean = Train22PM_D.y.mean()\n",
    "        valor = mean \n",
    "    else:\n",
    "        valor = 0    \n",
    "    return (valor)\n",
    "\n",
    "def Regressor23PMTrain(ds):\n",
    "    global fila    \n",
    "    date = pd.to_datetime(ds)\n",
    "    if date.dayofweek == 0 and date.hour == 23:                 \n",
    "        mean = Train23PM_D.y.mean()\n",
    "        valor = mean \n",
    "    else:\n",
    "        valor = 0    \n",
    "    return (valor)\n",
    "\n",
    "def Regressor24AMTrain(ds):\n",
    "    global fila    \n",
    "    date = pd.to_datetime(ds)\n",
    "    if date.dayofweek == 0 and date.hour == 0:                 \n",
    "        mean = Train24AM_D.y.mean()\n",
    "        valor = mean \n",
    "    else:\n",
    "        valor = 0    \n",
    "    return (valor)\n",
    "\n",
    "\n",
    "PeriodoDesescalada['Lunes1AM'] = PeriodoDesescalada['ds'].apply(est_Lunes1AM)\n",
    "PeriodoNnormalidad['Lunes1AM'] = PeriodoNnormalidad['ds'].apply(est_Lunes1AM)\n",
    "\n",
    "PeriodoDesescalada['Lunes'] = PeriodoDesescalada['ds'].apply(est_Lunes)\n",
    "PeriodoNnormalidad['Lunes'] = PeriodoNnormalidad['ds'].apply(est_Lunes)\n",
    "PeriodoDesescalada['Viernes'] = PeriodoDesescalada['ds'].apply(est_Viernes)\n",
    "PeriodoNnormalidad['Viernes'] = PeriodoNnormalidad['ds'].apply(est_Viernes)\n",
    " \n",
    "\n",
    "PeriodoDesescalada['Lunes2AM'] = PeriodoDesescalada['ds'].apply(est_Lunes2AM)\n",
    "PeriodoNnormalidad['Lunes2AM'] = PeriodoNnormalidad['ds'].apply(est_Lunes2AM)\n",
    "\n",
    "PeriodoDesescalada['Lunes3AM'] = PeriodoDesescalada['ds'].apply(est_Lunes3AM)\n",
    "PeriodoNnormalidad['Lunes3AM'] = PeriodoNnormalidad['ds'].apply(est_Lunes3AM)\n",
    "\n",
    "PeriodoDesescalada['Lunes4AM'] = PeriodoDesescalada['ds'].apply(est_Lunes4AM)\n",
    "PeriodoNnormalidad['Lunes4AM'] = PeriodoNnormalidad['ds'].apply(est_Lunes4AM)\n",
    "\n",
    "PeriodoDesescalada['Lunes5AM'] = PeriodoDesescalada['ds'].apply(est_Lunes5AM)\n",
    "PeriodoNnormalidad['Lunes5AM'] = PeriodoNnormalidad['ds'].apply(est_Lunes5AM)\n",
    "\n",
    "PeriodoDesescalada['Lunes6AM'] = PeriodoDesescalada['ds'].apply(est_Lunes6AM)\n",
    "PeriodoNnormalidad['Lunes6AM'] = PeriodoNnormalidad['ds'].apply(est_Lunes6AM)\n",
    "\n",
    "PeriodoDesescalada['Lunes7AM'] = PeriodoDesescalada['ds'].apply(est_Lunes7AM)\n",
    "PeriodoNnormalidad['Lunes7AM'] = PeriodoNnormalidad['ds'].apply(est_Lunes7AM)\n",
    "\n",
    "PeriodoDesescalada['Lunes8AM'] = PeriodoDesescalada['ds'].apply(est_Lunes8AM)\n",
    "PeriodoNnormalidad['Lunes8AM'] = PeriodoNnormalidad['ds'].apply(est_Lunes8AM)\n",
    "\n",
    "PeriodoDesescalada['Lunes9AM'] = PeriodoDesescalada['ds'].apply(est_Lunes9AM)\n",
    "PeriodoNnormalidad['Lunes9AM'] = PeriodoNnormalidad['ds'].apply(est_Lunes9AM)\n",
    "\n",
    "PeriodoDesescalada['Lunes10AM'] = PeriodoDesescalada['ds'].apply(est_Lunes10AM)\n",
    "PeriodoNnormalidad['Lunes10AM'] = PeriodoNnormalidad['ds'].apply(est_Lunes10AM)\n",
    "\n",
    "PeriodoDesescalada['Lunes11AM'] = PeriodoDesescalada['ds'].apply(est_Lunes11AM)\n",
    "PeriodoNnormalidad['Lunes11AM'] = PeriodoNnormalidad['ds'].apply(est_Lunes11AM)\n",
    "\n",
    "PeriodoDesescalada['Lunes12PM'] = PeriodoDesescalada['ds'].apply(est_Lunes12PM)\n",
    "PeriodoNnormalidad['Lunes12PM'] = PeriodoNnormalidad['ds'].apply(est_Lunes12PM)\n",
    "\n",
    "PeriodoDesescalada['Lunes13PM'] = PeriodoDesescalada['ds'].apply(est_Lunes13PM)\n",
    "PeriodoNnormalidad['Lunes13PM'] = PeriodoNnormalidad['ds'].apply(est_Lunes13PM)\n",
    "\n",
    "PeriodoDesescalada['Lunes14PM'] = PeriodoDesescalada['ds'].apply(est_Lunes14PM)\n",
    "PeriodoNnormalidad['Lunes14PM'] = PeriodoNnormalidad['ds'].apply(est_Lunes14PM)\n",
    "\n",
    "PeriodoDesescalada['Lunes15PM'] = PeriodoDesescalada['ds'].apply(est_Lunes15PM)\n",
    "PeriodoNnormalidad['Lunes15PM'] = PeriodoNnormalidad['ds'].apply(est_Lunes15PM)\n",
    "\n",
    "PeriodoDesescalada['Lunes16PM'] = PeriodoDesescalada['ds'].apply(est_Lunes16PM)\n",
    "PeriodoNnormalidad['Lunes16PM'] = PeriodoNnormalidad['ds'].apply(est_Lunes16PM)\n",
    "\n",
    "PeriodoDesescalada['Lunes17PM'] = PeriodoDesescalada['ds'].apply(est_Lunes17PM)\n",
    "PeriodoNnormalidad['Lunes17PM'] = PeriodoNnormalidad['ds'].apply(est_Lunes17PM)\n",
    "\n",
    "PeriodoDesescalada['Lunes18PM'] = PeriodoDesescalada['ds'].apply(est_Lunes18PM)\n",
    "PeriodoNnormalidad['Lunes18PM'] = PeriodoNnormalidad['ds'].apply(est_Lunes18PM)\n",
    "\n",
    "PeriodoDesescalada['Lunes19PM'] = PeriodoDesescalada['ds'].apply(est_Lunes19PM)\n",
    "PeriodoNnormalidad['Lunes19PM'] = PeriodoNnormalidad['ds'].apply(est_Lunes19PM)\n",
    "\n",
    "PeriodoDesescalada['Lunes20PM'] = PeriodoDesescalada['ds'].apply(est_Lunes20PM)\n",
    "PeriodoNnormalidad['Lunes20PM'] = PeriodoNnormalidad['ds'].apply(est_Lunes20PM)\n",
    "\n",
    "PeriodoDesescalada['Lunes21PM'] = PeriodoDesescalada['ds'].apply(est_Lunes21PM)\n",
    "PeriodoNnormalidad['Lunes21PM'] = PeriodoNnormalidad['ds'].apply(est_Lunes21PM)\n",
    "\n",
    "PeriodoDesescalada['Lunes22PM'] = PeriodoDesescalada['ds'].apply(est_Lunes22PM)\n",
    "PeriodoNnormalidad['Lunes22PM'] = PeriodoNnormalidad['ds'].apply(est_Lunes22PM)\n",
    "\n",
    "PeriodoDesescalada['Lunes23PM'] = PeriodoDesescalada['ds'].apply(est_Lunes23PM)\n",
    "PeriodoNnormalidad['Lunes23PM'] = PeriodoNnormalidad['ds'].apply(est_Lunes23PM)\n",
    "\n",
    "PeriodoDesescalada['Lunes24AM'] = PeriodoDesescalada['ds'].apply(est_Lunes24AM)\n",
    "PeriodoNnormalidad['Lunes24AM'] = PeriodoNnormalidad['ds'].apply(est_Lunes24AM)\n"
   ]
  },
  {
   "cell_type": "markdown",
   "id": "35f00d12",
   "metadata": {},
   "source": [
    "# IMPLEMENTACIÓN DE MODELO PROPHET\n",
    "## Separamos el conjunto de datos de entrenamiento y prueba"
   ]
  },
  {
   "cell_type": "code",
   "execution_count": 10,
   "id": "fdef0c78",
   "metadata": {},
   "outputs": [],
   "source": [
    "# PeriodoDesescalada = PeriodoDesescalada.set_index('ds')\n",
    "#PeriodoNnormalidad = PeriodoNnormalidad.set_index('ds')"
   ]
  },
  {
   "cell_type": "code",
   "execution_count": 11,
   "id": "3ac61539",
   "metadata": {},
   "outputs": [],
   "source": [
    "# #Desescalada\n",
    "# train_end_D = datetime.datetime(2020,6,7,23,0,0)\n",
    "# test_end_D = datetime.datetime(2020,6,8,23,0,0)\n",
    "\n",
    "# train_data_D = PeriodoDesescalada[:train_end_D]\n",
    "# test_data_D = PeriodoDesescalada[train_end_D + timedelta(hours=1):test_end_D]\n",
    "\n",
    "# #Nueva Normalidad\n",
    "# train_end_N = datetime.datetime(2020,8,30,23,0,0)\n",
    "# test_end_N = datetime.datetime(2020,8,31,23,0,0)\n",
    "# # train_end_N = datetime.datetime(2020,8,23,23,0,0)\n",
    "# # test_end_N = datetime.datetime(2020,8,24,23,0,0)\n",
    "# # train_end_N = datetime.datetime(2020,8,16,23,0,0)\n",
    "# # test_end_N = datetime.datetime(2020,8,17,23,0,0)\n",
    "\n",
    "# train_data_N = PeriodoNnormalidad[:train_end_N]\n",
    "# test_data_N = PeriodoNnormalidad[train_end_N + timedelta(hours=1):test_end_N]"
   ]
  },
  {
   "cell_type": "code",
   "execution_count": 12,
   "id": "dbb985be",
   "metadata": {},
   "outputs": [],
   "source": [
    "# train_data_D = train_data_D.reset_index()\n",
    "# train_data_N = train_data_N.reset_index()\n",
    "\n",
    "# test_data_D = test_data_D.reset_index()\n",
    "# test_data_N = test_data_N.reset_index()"
   ]
  },
  {
   "cell_type": "markdown",
   "id": "489e1fa4",
   "metadata": {},
   "source": [
    "# Ajustamos el periodo de Fourier-Horas con el periodo de datos entrenamiento\n"
   ]
  },
  {
   "cell_type": "code",
   "execution_count": 13,
   "id": "b793afb7",
   "metadata": {},
   "outputs": [],
   "source": [
    "##################PeriodoNnormalidad######################\n",
    "mask1AM_D = (PeriodoDesescalada['Lunes1AM'] == True)\n",
    "mask2AM_D = (PeriodoDesescalada['Lunes2AM'] == True)\n",
    "mask3AM_D = (PeriodoDesescalada['Lunes3AM'] == True)\n",
    "mask4AM_D = (PeriodoDesescalada['Lunes4AM'] == True)\n",
    "mask5AM_D = (PeriodoDesescalada['Lunes5AM'] == True)\n",
    "mask6AM_D = (PeriodoDesescalada['Lunes6AM'] == True)\n",
    "mask7AM_D = (PeriodoDesescalada['Lunes7AM'] == True)\n",
    "mask8AM_D = (PeriodoDesescalada['Lunes8AM'] == True)\n",
    "mask9AM_D = (PeriodoDesescalada['Lunes9AM'] == True)\n",
    "mask10AM_D = (PeriodoDesescalada['Lunes10AM'] == True)\n",
    "mask11AM_D = (PeriodoDesescalada['Lunes11AM'] == True)\n",
    "mask12PM_D = (PeriodoDesescalada['Lunes12PM'] == True)\n",
    "mask13PM_D = (PeriodoDesescalada['Lunes13PM'] == True)\n",
    "mask14PM_D = (PeriodoDesescalada['Lunes14PM'] == True)\n",
    "mask15PM_D = (PeriodoDesescalada['Lunes15PM'] == True)\n",
    "mask16PM_D = (PeriodoDesescalada['Lunes16PM'] == True)\n",
    "mask17PM_D = (PeriodoDesescalada['Lunes17PM'] == True)\n",
    "mask18PM_D = (PeriodoDesescalada['Lunes18PM'] == True)\n",
    "mask19PM_D = (PeriodoDesescalada['Lunes19PM'] == True)\n",
    "mask20PM_D = (PeriodoDesescalada['Lunes20PM'] == True)\n",
    "mask21PM_D = (PeriodoDesescalada['Lunes21PM'] == True)\n",
    "mask22PM_D = (PeriodoDesescalada['Lunes22PM'] == True)\n",
    "mask23PM_D = (PeriodoDesescalada['Lunes23PM'] == True)\n",
    "mask24AM_D = (PeriodoDesescalada['Lunes24AM'] == True)\n",
    "\n",
    "Train1AM_D = PeriodoDesescalada.loc[mask1AM_D]\n",
    "Train2AM_D = PeriodoDesescalada.loc[mask2AM_D]\n",
    "Train3AM_D = PeriodoDesescalada.loc[mask3AM_D]\n",
    "Train4AM_D = PeriodoDesescalada.loc[mask4AM_D]\n",
    "Train5AM_D = PeriodoDesescalada.loc[mask5AM_D]\n",
    "Train6AM_D = PeriodoDesescalada.loc[mask6AM_D]\n",
    "Train7AM_D = PeriodoDesescalada.loc[mask7AM_D]\n",
    "Train8AM_D = PeriodoDesescalada.loc[mask8AM_D]\n",
    "Train9AM_D = PeriodoDesescalada.loc[mask9AM_D]\n",
    "Train10AM_D = PeriodoDesescalada.loc[mask10AM_D]\n",
    "Train11AM_D = PeriodoDesescalada.loc[mask11AM_D]\n",
    "Train12PM_D = PeriodoDesescalada.loc[mask12PM_D]\n",
    "Train13PM_D = PeriodoDesescalada.loc[mask13PM_D]\n",
    "Train14PM_D = PeriodoDesescalada.loc[mask14PM_D]\n",
    "Train15PM_D = PeriodoDesescalada.loc[mask15PM_D]\n",
    "Train16PM_D = PeriodoDesescalada.loc[mask16PM_D]\n",
    "Train17PM_D = PeriodoDesescalada.loc[mask17PM_D]\n",
    "Train18PM_D = PeriodoDesescalada.loc[mask18PM_D]\n",
    "Train19PM_D = PeriodoDesescalada.loc[mask19PM_D]\n",
    "Train20PM_D = PeriodoDesescalada.loc[mask20PM_D]\n",
    "Train21PM_D = PeriodoDesescalada.loc[mask21PM_D]\n",
    "Train22PM_D = PeriodoDesescalada.loc[mask22PM_D]\n",
    "Train23PM_D = PeriodoDesescalada.loc[mask23PM_D]\n",
    "Train24AM_D = PeriodoDesescalada.loc[mask24AM_D]"
   ]
  },
  {
   "cell_type": "code",
   "execution_count": 14,
   "id": "6f07482d",
   "metadata": {},
   "outputs": [],
   "source": [
    "maskLunes = (PeriodoDesescalada['Lunes'] == True)\n",
    "PatronLunes = PeriodoDesescalada.loc[maskLunes]\n",
    "maskViernes = (PeriodoDesescalada['Viernes'] == True)\n",
    "PatronViernes = PeriodoDesescalada.loc[maskViernes]"
   ]
  },
  {
   "cell_type": "code",
   "execution_count": 15,
   "id": "e12049ea",
   "metadata": {},
   "outputs": [
    {
     "name": "stdout",
     "output_type": "stream",
     "text": [
      "36\n",
      "DatetimeIndex(['2020-05-04 08:00:00', '2020-05-05 08:00:00',\n",
      "               '2020-05-06 08:00:00', '2020-05-07 08:00:00',\n",
      "               '2020-05-08 08:00:00', '2020-05-09 08:00:00',\n",
      "               '2020-05-10 08:00:00', '2020-05-11 08:00:00',\n",
      "               '2020-05-12 08:00:00', '2020-05-13 08:00:00',\n",
      "               '2020-05-14 08:00:00', '2020-05-15 08:00:00',\n",
      "               '2020-05-16 08:00:00', '2020-05-17 08:00:00',\n",
      "               '2020-05-18 08:00:00', '2020-05-19 08:00:00',\n",
      "               '2020-05-20 08:00:00', '2020-05-21 08:00:00',\n",
      "               '2020-05-22 08:00:00', '2020-05-23 08:00:00',\n",
      "               '2020-05-24 08:00:00', '2020-05-25 08:00:00',\n",
      "               '2020-05-26 08:00:00', '2020-05-27 08:00:00',\n",
      "               '2020-05-28 08:00:00', '2020-05-29 08:00:00',\n",
      "               '2020-05-30 08:00:00', '2020-05-31 08:00:00',\n",
      "               '2020-06-01 08:00:00', '2020-06-02 08:00:00',\n",
      "               '2020-06-03 08:00:00', '2020-06-04 08:00:00',\n",
      "               '2020-06-05 08:00:00', '2020-06-06 08:00:00',\n",
      "               '2020-06-07 08:00:00', '2020-06-08 08:00:00'],\n",
      "              dtype='datetime64[ns]', freq='D')\n"
     ]
    }
   ],
   "source": [
    "Train8AM_N = Train8AM_D.reset_index()\n",
    "start8AM_N = Train8AM_D.iloc[0]['ds']\n",
    "end8AM_N = Train8AM_D.iloc[-1]['ds'] \n",
    "N_Dias = pd.date_range(start8AM_N, end8AM_N, freq='D')\n",
    "print(len(N_Dias))\n",
    "print(N_Dias)"
   ]
  },
  {
   "cell_type": "code",
   "execution_count": 16,
   "id": "70af0143",
   "metadata": {},
   "outputs": [
    {
     "name": "stderr",
     "output_type": "stream",
     "text": [
      "/tmp/ipykernel_60433/488079701.py:3: SettingWithCopyWarning: \n",
      "A value is trying to be set on a copy of a slice from a DataFrame.\n",
      "Try using .loc[row_indexer,col_indexer] = value instead\n",
      "\n",
      "See the caveats in the documentation: https://pandas.pydata.org/pandas-docs/stable/user_guide/indexing.html#returning-a-view-versus-a-copy\n",
      "  PeriodoDesescalada['Patron1AM_D'] = PeriodoDesescalada['ds'].apply(Regressor1AMTrain)\n",
      "/tmp/ipykernel_60433/488079701.py:4: SettingWithCopyWarning: \n",
      "A value is trying to be set on a copy of a slice from a DataFrame.\n",
      "Try using .loc[row_indexer,col_indexer] = value instead\n",
      "\n",
      "See the caveats in the documentation: https://pandas.pydata.org/pandas-docs/stable/user_guide/indexing.html#returning-a-view-versus-a-copy\n",
      "  PeriodoDesescalada['Patron2AM_D'] = PeriodoDesescalada['ds'].apply(Regressor2AMTrain)\n",
      "/tmp/ipykernel_60433/488079701.py:5: SettingWithCopyWarning: \n",
      "A value is trying to be set on a copy of a slice from a DataFrame.\n",
      "Try using .loc[row_indexer,col_indexer] = value instead\n",
      "\n",
      "See the caveats in the documentation: https://pandas.pydata.org/pandas-docs/stable/user_guide/indexing.html#returning-a-view-versus-a-copy\n",
      "  PeriodoDesescalada['Patron3AM_D'] = PeriodoDesescalada['ds'].apply(Regressor3AMTrain)\n",
      "/tmp/ipykernel_60433/488079701.py:6: SettingWithCopyWarning: \n",
      "A value is trying to be set on a copy of a slice from a DataFrame.\n",
      "Try using .loc[row_indexer,col_indexer] = value instead\n",
      "\n",
      "See the caveats in the documentation: https://pandas.pydata.org/pandas-docs/stable/user_guide/indexing.html#returning-a-view-versus-a-copy\n",
      "  PeriodoDesescalada['Patron4AM_D'] = PeriodoDesescalada['ds'].apply(Regressor4AMTrain)\n",
      "/tmp/ipykernel_60433/488079701.py:7: SettingWithCopyWarning: \n",
      "A value is trying to be set on a copy of a slice from a DataFrame.\n",
      "Try using .loc[row_indexer,col_indexer] = value instead\n",
      "\n",
      "See the caveats in the documentation: https://pandas.pydata.org/pandas-docs/stable/user_guide/indexing.html#returning-a-view-versus-a-copy\n",
      "  PeriodoDesescalada['Patron5AM_D'] = PeriodoDesescalada['ds'].apply(Regressor5AMTrain)\n",
      "/tmp/ipykernel_60433/488079701.py:8: SettingWithCopyWarning: \n",
      "A value is trying to be set on a copy of a slice from a DataFrame.\n",
      "Try using .loc[row_indexer,col_indexer] = value instead\n",
      "\n",
      "See the caveats in the documentation: https://pandas.pydata.org/pandas-docs/stable/user_guide/indexing.html#returning-a-view-versus-a-copy\n",
      "  PeriodoDesescalada['Patron6AM_D'] = PeriodoDesescalada['ds'].apply(Regressor6AMTrain)\n",
      "/tmp/ipykernel_60433/488079701.py:9: SettingWithCopyWarning: \n",
      "A value is trying to be set on a copy of a slice from a DataFrame.\n",
      "Try using .loc[row_indexer,col_indexer] = value instead\n",
      "\n",
      "See the caveats in the documentation: https://pandas.pydata.org/pandas-docs/stable/user_guide/indexing.html#returning-a-view-versus-a-copy\n",
      "  PeriodoDesescalada['Patron7AM_D'] = PeriodoDesescalada['ds'].apply(Regressor7AMTrain)\n",
      "/tmp/ipykernel_60433/488079701.py:10: SettingWithCopyWarning: \n",
      "A value is trying to be set on a copy of a slice from a DataFrame.\n",
      "Try using .loc[row_indexer,col_indexer] = value instead\n",
      "\n",
      "See the caveats in the documentation: https://pandas.pydata.org/pandas-docs/stable/user_guide/indexing.html#returning-a-view-versus-a-copy\n",
      "  PeriodoDesescalada['Patron8AM_D'] = PeriodoDesescalada['ds'].apply(Regressor8AMTrain)\n",
      "/tmp/ipykernel_60433/488079701.py:11: SettingWithCopyWarning: \n",
      "A value is trying to be set on a copy of a slice from a DataFrame.\n",
      "Try using .loc[row_indexer,col_indexer] = value instead\n",
      "\n",
      "See the caveats in the documentation: https://pandas.pydata.org/pandas-docs/stable/user_guide/indexing.html#returning-a-view-versus-a-copy\n",
      "  PeriodoDesescalada['Patron9AM_D'] = PeriodoDesescalada['ds'].apply(Regressor9AMTrain)\n",
      "/tmp/ipykernel_60433/488079701.py:12: SettingWithCopyWarning: \n",
      "A value is trying to be set on a copy of a slice from a DataFrame.\n",
      "Try using .loc[row_indexer,col_indexer] = value instead\n",
      "\n",
      "See the caveats in the documentation: https://pandas.pydata.org/pandas-docs/stable/user_guide/indexing.html#returning-a-view-versus-a-copy\n",
      "  PeriodoDesescalada['Patron10AM_D'] = PeriodoDesescalada['ds'].apply(Regressor10AMTrain)\n",
      "/tmp/ipykernel_60433/488079701.py:13: SettingWithCopyWarning: \n",
      "A value is trying to be set on a copy of a slice from a DataFrame.\n",
      "Try using .loc[row_indexer,col_indexer] = value instead\n",
      "\n",
      "See the caveats in the documentation: https://pandas.pydata.org/pandas-docs/stable/user_guide/indexing.html#returning-a-view-versus-a-copy\n",
      "  PeriodoDesescalada['Patron11AM_D'] = PeriodoDesescalada['ds'].apply(Regressor11AMTrain)\n",
      "/tmp/ipykernel_60433/488079701.py:14: SettingWithCopyWarning: \n",
      "A value is trying to be set on a copy of a slice from a DataFrame.\n",
      "Try using .loc[row_indexer,col_indexer] = value instead\n",
      "\n",
      "See the caveats in the documentation: https://pandas.pydata.org/pandas-docs/stable/user_guide/indexing.html#returning-a-view-versus-a-copy\n",
      "  PeriodoDesescalada['Patron12PM_D'] = PeriodoDesescalada['ds'].apply(Regressor12PMTrain)\n",
      "/tmp/ipykernel_60433/488079701.py:15: SettingWithCopyWarning: \n",
      "A value is trying to be set on a copy of a slice from a DataFrame.\n",
      "Try using .loc[row_indexer,col_indexer] = value instead\n",
      "\n",
      "See the caveats in the documentation: https://pandas.pydata.org/pandas-docs/stable/user_guide/indexing.html#returning-a-view-versus-a-copy\n",
      "  PeriodoDesescalada['Patron13PM_D'] = PeriodoDesescalada['ds'].apply(Regressor13PMTrain)\n",
      "/tmp/ipykernel_60433/488079701.py:16: SettingWithCopyWarning: \n",
      "A value is trying to be set on a copy of a slice from a DataFrame.\n",
      "Try using .loc[row_indexer,col_indexer] = value instead\n",
      "\n",
      "See the caveats in the documentation: https://pandas.pydata.org/pandas-docs/stable/user_guide/indexing.html#returning-a-view-versus-a-copy\n",
      "  PeriodoDesescalada['Patron14PM_D'] = PeriodoDesescalada['ds'].apply(Regressor14PMTrain)\n",
      "/tmp/ipykernel_60433/488079701.py:17: SettingWithCopyWarning: \n",
      "A value is trying to be set on a copy of a slice from a DataFrame.\n",
      "Try using .loc[row_indexer,col_indexer] = value instead\n",
      "\n",
      "See the caveats in the documentation: https://pandas.pydata.org/pandas-docs/stable/user_guide/indexing.html#returning-a-view-versus-a-copy\n",
      "  PeriodoDesescalada['Patron15PM_D'] = PeriodoDesescalada['ds'].apply(Regressor15PMTrain)\n",
      "/tmp/ipykernel_60433/488079701.py:18: SettingWithCopyWarning: \n",
      "A value is trying to be set on a copy of a slice from a DataFrame.\n",
      "Try using .loc[row_indexer,col_indexer] = value instead\n",
      "\n",
      "See the caveats in the documentation: https://pandas.pydata.org/pandas-docs/stable/user_guide/indexing.html#returning-a-view-versus-a-copy\n",
      "  PeriodoDesescalada['Patron16PM_D'] = PeriodoDesescalada['ds'].apply(Regressor16PMTrain)\n",
      "/tmp/ipykernel_60433/488079701.py:19: SettingWithCopyWarning: \n",
      "A value is trying to be set on a copy of a slice from a DataFrame.\n",
      "Try using .loc[row_indexer,col_indexer] = value instead\n",
      "\n",
      "See the caveats in the documentation: https://pandas.pydata.org/pandas-docs/stable/user_guide/indexing.html#returning-a-view-versus-a-copy\n",
      "  PeriodoDesescalada['Patron17PM_D'] = PeriodoDesescalada['ds'].apply(Regressor17PMTrain)\n",
      "/tmp/ipykernel_60433/488079701.py:20: SettingWithCopyWarning: \n",
      "A value is trying to be set on a copy of a slice from a DataFrame.\n",
      "Try using .loc[row_indexer,col_indexer] = value instead\n",
      "\n",
      "See the caveats in the documentation: https://pandas.pydata.org/pandas-docs/stable/user_guide/indexing.html#returning-a-view-versus-a-copy\n",
      "  PeriodoDesescalada['Patron18PM_D'] = PeriodoDesescalada['ds'].apply(Regressor18PMTrain)\n",
      "/tmp/ipykernel_60433/488079701.py:21: SettingWithCopyWarning: \n",
      "A value is trying to be set on a copy of a slice from a DataFrame.\n",
      "Try using .loc[row_indexer,col_indexer] = value instead\n",
      "\n",
      "See the caveats in the documentation: https://pandas.pydata.org/pandas-docs/stable/user_guide/indexing.html#returning-a-view-versus-a-copy\n",
      "  PeriodoDesescalada['Patron19PM_D'] = PeriodoDesescalada['ds'].apply(Regressor19PMTrain)\n",
      "/tmp/ipykernel_60433/488079701.py:22: SettingWithCopyWarning: \n",
      "A value is trying to be set on a copy of a slice from a DataFrame.\n",
      "Try using .loc[row_indexer,col_indexer] = value instead\n",
      "\n",
      "See the caveats in the documentation: https://pandas.pydata.org/pandas-docs/stable/user_guide/indexing.html#returning-a-view-versus-a-copy\n",
      "  PeriodoDesescalada['Patron20PM_D'] = PeriodoDesescalada['ds'].apply(Regressor20PMTrain)\n",
      "/tmp/ipykernel_60433/488079701.py:23: SettingWithCopyWarning: \n",
      "A value is trying to be set on a copy of a slice from a DataFrame.\n",
      "Try using .loc[row_indexer,col_indexer] = value instead\n",
      "\n",
      "See the caveats in the documentation: https://pandas.pydata.org/pandas-docs/stable/user_guide/indexing.html#returning-a-view-versus-a-copy\n",
      "  PeriodoDesescalada['Patron21PM_D'] = PeriodoDesescalada['ds'].apply(Regressor21PMTrain)\n",
      "/tmp/ipykernel_60433/488079701.py:24: SettingWithCopyWarning: \n",
      "A value is trying to be set on a copy of a slice from a DataFrame.\n",
      "Try using .loc[row_indexer,col_indexer] = value instead\n",
      "\n",
      "See the caveats in the documentation: https://pandas.pydata.org/pandas-docs/stable/user_guide/indexing.html#returning-a-view-versus-a-copy\n",
      "  PeriodoDesescalada['Patron22PM_D'] = PeriodoDesescalada['ds'].apply(Regressor22PMTrain)\n",
      "/tmp/ipykernel_60433/488079701.py:25: SettingWithCopyWarning: \n",
      "A value is trying to be set on a copy of a slice from a DataFrame.\n",
      "Try using .loc[row_indexer,col_indexer] = value instead\n",
      "\n",
      "See the caveats in the documentation: https://pandas.pydata.org/pandas-docs/stable/user_guide/indexing.html#returning-a-view-versus-a-copy\n",
      "  PeriodoDesescalada['Patron23PM_D'] = PeriodoDesescalada['ds'].apply(Regressor23PMTrain)\n",
      "/tmp/ipykernel_60433/488079701.py:26: SettingWithCopyWarning: \n",
      "A value is trying to be set on a copy of a slice from a DataFrame.\n",
      "Try using .loc[row_indexer,col_indexer] = value instead\n",
      "\n",
      "See the caveats in the documentation: https://pandas.pydata.org/pandas-docs/stable/user_guide/indexing.html#returning-a-view-versus-a-copy\n",
      "  PeriodoDesescalada['Patron24AM_D'] = PeriodoDesescalada['ds'].apply(Regressor24AMTrain)\n"
     ]
    }
   ],
   "source": [
    "#Entrenamiento\n",
    "\n",
    "PeriodoDesescalada['Patron1AM_D'] = PeriodoDesescalada['ds'].apply(Regressor1AMTrain)\n",
    "PeriodoDesescalada['Patron2AM_D'] = PeriodoDesescalada['ds'].apply(Regressor2AMTrain)\n",
    "PeriodoDesescalada['Patron3AM_D'] = PeriodoDesescalada['ds'].apply(Regressor3AMTrain)\n",
    "PeriodoDesescalada['Patron4AM_D'] = PeriodoDesescalada['ds'].apply(Regressor4AMTrain)\n",
    "PeriodoDesescalada['Patron5AM_D'] = PeriodoDesescalada['ds'].apply(Regressor5AMTrain)\n",
    "PeriodoDesescalada['Patron6AM_D'] = PeriodoDesescalada['ds'].apply(Regressor6AMTrain)\n",
    "PeriodoDesescalada['Patron7AM_D'] = PeriodoDesescalada['ds'].apply(Regressor7AMTrain)\n",
    "PeriodoDesescalada['Patron8AM_D'] = PeriodoDesescalada['ds'].apply(Regressor8AMTrain)\n",
    "PeriodoDesescalada['Patron9AM_D'] = PeriodoDesescalada['ds'].apply(Regressor9AMTrain)\n",
    "PeriodoDesescalada['Patron10AM_D'] = PeriodoDesescalada['ds'].apply(Regressor10AMTrain)\n",
    "PeriodoDesescalada['Patron11AM_D'] = PeriodoDesescalada['ds'].apply(Regressor11AMTrain)\n",
    "PeriodoDesescalada['Patron12PM_D'] = PeriodoDesescalada['ds'].apply(Regressor12PMTrain)\n",
    "PeriodoDesescalada['Patron13PM_D'] = PeriodoDesescalada['ds'].apply(Regressor13PMTrain)\n",
    "PeriodoDesescalada['Patron14PM_D'] = PeriodoDesescalada['ds'].apply(Regressor14PMTrain)\n",
    "PeriodoDesescalada['Patron15PM_D'] = PeriodoDesescalada['ds'].apply(Regressor15PMTrain)\n",
    "PeriodoDesescalada['Patron16PM_D'] = PeriodoDesescalada['ds'].apply(Regressor16PMTrain)\n",
    "PeriodoDesescalada['Patron17PM_D'] = PeriodoDesescalada['ds'].apply(Regressor17PMTrain)\n",
    "PeriodoDesescalada['Patron18PM_D'] = PeriodoDesescalada['ds'].apply(Regressor18PMTrain)\n",
    "PeriodoDesescalada['Patron19PM_D'] = PeriodoDesescalada['ds'].apply(Regressor19PMTrain)\n",
    "PeriodoDesescalada['Patron20PM_D'] = PeriodoDesescalada['ds'].apply(Regressor20PMTrain)\n",
    "PeriodoDesescalada['Patron21PM_D'] = PeriodoDesescalada['ds'].apply(Regressor21PMTrain)\n",
    "PeriodoDesescalada['Patron22PM_D'] = PeriodoDesescalada['ds'].apply(Regressor22PMTrain)\n",
    "PeriodoDesescalada['Patron23PM_D'] = PeriodoDesescalada['ds'].apply(Regressor23PMTrain)\n",
    "PeriodoDesescalada['Patron24AM_D'] = PeriodoDesescalada['ds'].apply(Regressor24AMTrain)\n",
    "\n",
    "#####################################Test#####################################\n",
    "# test_data_N['Patron1AM_N'] = test_data_N['ds'].apply(Regressor1AMTrain)\n",
    "# test_data_N['Patron2AM_N'] = test_data_N['ds'].apply(Regressor2AMTrain)\n",
    "# test_data_N['Patron3AM_N'] = test_data_N['ds'].apply(Regressor3AMTrain)\n",
    "# test_data_N['Patron4AM_N'] = test_data_N['ds'].apply(Regressor4AMTrain)\n",
    "# test_data_N['Patron5AM_N'] = test_data_N['ds'].apply(Regressor5AMTrain)\n",
    "# test_data_N['Patron6AM_N'] = test_data_N['ds'].apply(Regressor6AMTrain)\n",
    "# test_data_N['Patron7AM_N'] = test_data_N['ds'].apply(Regressor7AMTrain)\n",
    "# test_data_N['Patron8AM_N'] = test_data_N['ds'].apply(Regressor8AMTrain)\n",
    "# test_data_N['Patron9AM_N'] = test_data_N['ds'].apply(Regressor9AMTrain)\n",
    "# test_data_N['Patron10AM_N'] = test_data_N['ds'].apply(Regressor10AMTrain)\n",
    "# test_data_N['Patron11AM_N'] = test_data_N['ds'].apply(Regressor11AMTrain)\n",
    "# test_data_N['Patron12PM_N'] = test_data_N['ds'].apply(Regressor12PMTrain)\n",
    "# test_data_N['Patron13PM_N'] = test_data_N['ds'].apply(Regressor13PMTrain)\n",
    "# test_data_N['Patron14PM_N'] = test_data_N['ds'].apply(Regressor14PMTrain)\n",
    "# test_data_N['Patron15PM_N'] = test_data_N['ds'].apply(Regressor15PMTrain)\n",
    "# test_data_N['Patron16PM_N'] = test_data_N['ds'].apply(Regressor16PMTrain)\n",
    "# test_data_N['Patron17PM_N'] = test_data_N['ds'].apply(Regressor17PMTrain)\n",
    "# test_data_N['Patron18PM_N'] = test_data_N['ds'].apply(Regressor18PMTrain)\n",
    "# test_data_N['Patron19PM_N'] = test_data_N['ds'].apply(Regressor19PMTrain)\n",
    "# test_data_N['Patron20PM_N'] = test_data_N['ds'].apply(Regressor20PMTrain)\n",
    "# test_data_N['Patron21PM_N'] = test_data_N['ds'].apply(Regressor21PMTrain)\n",
    "# test_data_N['Patron22PM_N'] = test_data_N['ds'].apply(Regressor22PMTrain)\n",
    "# test_data_N['Patron23PM_N'] = test_data_N['ds'].apply(Regressor23PMTrain)\n",
    "# test_data_N['Patron24AM_N'] = test_data_N['ds'].apply(Regressor24AMTrain)"
   ]
  },
  {
   "cell_type": "code",
   "execution_count": 17,
   "id": "befdbd3c",
   "metadata": {},
   "outputs": [],
   "source": [
    "#train_data_D.iloc[56:59]\n",
    "#test_data_D.head(50)\n",
    "#test_data_D.ds.iloc[0]\n",
    "#Train8AM_D"
   ]
  },
  {
   "cell_type": "markdown",
   "id": "46119e4b",
   "metadata": {},
   "source": [
    "# Desescalada\n",
    "## Aplicamos Rolling Forecasting para evaluación del modelo\n",
    "## Agregamos Regressor"
   ]
  },
  {
   "cell_type": "code",
   "execution_count": 18,
   "id": "9c5088e8",
   "metadata": {},
   "outputs": [
    {
     "name": "stderr",
     "output_type": "stream",
     "text": [
      "INFO:fbprophet:Disabling yearly seasonality. Run prophet with yearly_seasonality=True to override this.\n",
      "/home/jonathan/anaconda3/lib/python3.9/site-packages/fbprophet/forecaster.py:891: FutureWarning: The frame.append method is deprecated and will be removed from pandas in a future version. Use pandas.concat instead.\n",
      "  components = components.append(new_comp)\n"
     ]
    },
    {
     "name": "stdout",
     "output_type": "stream",
     "text": [
      "Initial log joint probability = -23.3929\n",
      "    Iter      log prob        ||dx||      ||grad||       alpha      alpha0  # evals  Notes \n",
      "      99       1865.62   1.80252e-05       86.7947           1           1      127   \n",
      "    Iter      log prob        ||dx||      ||grad||       alpha      alpha0  # evals  Notes \n",
      "     144       1865.93   0.000209725       83.9469   2.537e-06       0.001      211  LS failed, Hessian reset \n",
      "     195       1866.19   2.56234e-05       97.5667   3.586e-07       0.001      314  LS failed, Hessian reset \n",
      "     199       1866.19   1.05411e-05       74.3676           1           1      319   \n",
      "    Iter      log prob        ||dx||      ||grad||       alpha      alpha0  # evals  Notes \n",
      "     265       1866.19   2.96782e-08       84.8324      0.0581           1      400   \n",
      "Optimization terminated normally: \n",
      "  Convergence detected: relative gradient magnitude is below tolerance\n"
     ]
    }
   ],
   "source": [
    "m = Prophet(seasonality_mode='multiplicative')\n",
    "m.add_seasonality(name='monthly', period=30.5, fourier_order=5)\n",
    "m.add_seasonality(name='Lunes_season', period=1, fourier_order=5, condition_name='Lunes')                \n",
    "m.add_regressor('Patron1AM_D',mode='multiplicative')        \n",
    "m.add_regressor('Patron2AM_D',mode='multiplicative')        \n",
    "m.add_regressor('Patron3AM_D',mode='multiplicative')        \n",
    "m.add_regressor('Patron4AM_D',mode='multiplicative')        \n",
    "m.add_regressor('Patron5AM_D',mode='multiplicative')        \n",
    "m.add_regressor('Patron6AM_D',mode='multiplicative')        \n",
    "m.add_regressor('Patron7AM_D',mode='multiplicative')        \n",
    "m.add_regressor('Patron8AM_D',mode='multiplicative')        \n",
    "m.add_regressor('Patron9AM_D',mode='multiplicative')        \n",
    "m.add_regressor('Patron10AM_D',mode='multiplicative')        \n",
    "m.add_regressor('Patron11AM_D',mode='multiplicative')        \n",
    "m.add_regressor('Patron12PM_D',mode='multiplicative')        \n",
    "m.add_regressor('Patron13PM_D',mode='multiplicative')        \n",
    "m.add_regressor('Patron14PM_D',mode='multiplicative')        \n",
    "m.add_regressor('Patron15PM_D',mode='multiplicative')        \n",
    "m.add_regressor('Patron16PM_D',mode='multiplicative')        \n",
    "m.add_regressor('Patron17PM_D',mode='multiplicative')        \n",
    "m.add_regressor('Patron18PM_D',mode='multiplicative')        \n",
    "m.add_regressor('Patron19PM_D',mode='multiplicative')        \n",
    "m.add_regressor('Patron20PM_D',mode='multiplicative')        \n",
    "m.add_regressor('Patron21PM_D',mode='multiplicative')        \n",
    "m.add_regressor('Patron22PM_D',mode='multiplicative')        \n",
    "m.add_regressor('Patron23PM_D',mode='multiplicative')        \n",
    "m.add_regressor('Patron24AM_D',mode='multiplicative')\n",
    "m.fit(PeriodoDesescalada);"
   ]
  },
  {
   "cell_type": "markdown",
   "id": "cbfb1716",
   "metadata": {},
   "source": [
    "# Cross Validation"
   ]
  },
  {
   "cell_type": "code",
   "execution_count": 24,
   "id": "d7c9bb97",
   "metadata": {},
   "outputs": [],
   "source": [
    "def getPerfomanceMetrics(m):\n",
    "    return performance_metrics(getCrossValidationData(m),rolling_window=0)\n",
    "def getCrossValidationData(m):\n",
    "    cutoffs = pd.to_datetime(['2020-06-08 19:00:00'])\n",
    "    return cross_validation(m, cutoffs=cutoffs,horizon='1 hours')    "
   ]
  },
  {
   "cell_type": "code",
   "execution_count": 25,
   "id": "46bed316",
   "metadata": {},
   "outputs": [
    {
     "data": {
      "application/vnd.jupyter.widget-view+json": {
       "model_id": "b0cb8ac6e3b4487fbb4d8cd3c0145ab3",
       "version_major": 2,
       "version_minor": 0
      },
      "text/plain": [
       "  0%|          | 0/1 [00:00<?, ?it/s]"
      ]
     },
     "metadata": {},
     "output_type": "display_data"
    },
    {
     "name": "stderr",
     "output_type": "stream",
     "text": [
      "/home/jonathan/anaconda3/lib/python3.9/site-packages/fbprophet/forecaster.py:891: FutureWarning: The frame.append method is deprecated and will be removed from pandas in a future version. Use pandas.concat instead.\n",
      "  components = components.append(new_comp)\n"
     ]
    },
    {
     "name": "stdout",
     "output_type": "stream",
     "text": [
      "Initial log joint probability = -36.2025\n",
      "    Iter      log prob        ||dx||      ||grad||       alpha      alpha0  # evals  Notes \n",
      "      99       1854.13     0.0125578       104.095           1           1      119   \n",
      "    Iter      log prob        ||dx||      ||grad||       alpha      alpha0  # evals  Notes \n",
      "     199       1857.45   4.60779e-05       87.5662      0.4773      0.4773      235   \n",
      "    Iter      log prob        ||dx||      ||grad||       alpha      alpha0  # evals  Notes \n",
      "     244       1857.66   0.000308156       109.714   2.842e-06       0.001      330  LS failed, Hessian reset \n",
      "     299       1857.78   0.000167718        94.459      0.9433      0.9433      391   \n",
      "    Iter      log prob        ||dx||      ||grad||       alpha      alpha0  # evals  Notes \n",
      "     398       1858.85   0.000390193       119.901   1.858e-06       0.001      551  LS failed, Hessian reset \n",
      "     399       1858.86   0.000122803       93.7272           1           1      552   \n",
      "    Iter      log prob        ||dx||      ||grad||       alpha      alpha0  # evals  Notes \n",
      "     499        1859.2   7.39858e-07       94.2256      0.6023      0.6023      682   \n",
      "    Iter      log prob        ||dx||      ||grad||       alpha      alpha0  # evals  Notes \n",
      "     522       1859.21   0.000172651       88.5743   1.608e-06       0.001      756  LS failed, Hessian reset \n",
      "     568       1859.22   5.73645e-08       72.8757      0.2301           1      816   \n",
      "Optimization terminated normally: \n",
      "  Convergence detected: relative gradient magnitude is below tolerance\n"
     ]
    },
    {
     "name": "stderr",
     "output_type": "stream",
     "text": [
      "/home/jonathan/anaconda3/lib/python3.9/site-packages/fbprophet/forecaster.py:891: FutureWarning: The frame.append method is deprecated and will be removed from pandas in a future version. Use pandas.concat instead.\n",
      "  components = components.append(new_comp)\n",
      "/home/jonathan/anaconda3/lib/python3.9/site-packages/fbprophet/forecaster.py:891: FutureWarning: The frame.append method is deprecated and will be removed from pandas in a future version. Use pandas.concat instead.\n",
      "  components = components.append(new_comp)\n"
     ]
    }
   ],
   "source": [
    "df_p = getPerfomanceMetrics(m)#.mean()"
   ]
  },
  {
   "cell_type": "code",
   "execution_count": 26,
   "id": "77f6183b",
   "metadata": {},
   "outputs": [
    {
     "data": {
      "text/html": [
       "<div>\n",
       "<style scoped>\n",
       "    .dataframe tbody tr th:only-of-type {\n",
       "        vertical-align: middle;\n",
       "    }\n",
       "\n",
       "    .dataframe tbody tr th {\n",
       "        vertical-align: top;\n",
       "    }\n",
       "\n",
       "    .dataframe thead th {\n",
       "        text-align: right;\n",
       "    }\n",
       "</style>\n",
       "<table border=\"1\" class=\"dataframe\">\n",
       "  <thead>\n",
       "    <tr style=\"text-align: right;\">\n",
       "      <th></th>\n",
       "      <th>horizon</th>\n",
       "      <th>mse</th>\n",
       "      <th>rmse</th>\n",
       "      <th>mae</th>\n",
       "      <th>mape</th>\n",
       "      <th>mdape</th>\n",
       "      <th>smape</th>\n",
       "      <th>coverage</th>\n",
       "    </tr>\n",
       "  </thead>\n",
       "  <tbody>\n",
       "    <tr>\n",
       "      <th>0</th>\n",
       "      <td>0 days 01:00:00</td>\n",
       "      <td>12593.513271</td>\n",
       "      <td>112.220824</td>\n",
       "      <td>112.220824</td>\n",
       "      <td>0.223582</td>\n",
       "      <td>0.223582</td>\n",
       "      <td>0.251722</td>\n",
       "      <td>0.0</td>\n",
       "    </tr>\n",
       "  </tbody>\n",
       "</table>\n",
       "</div>"
      ],
      "text/plain": [
       "          horizon           mse        rmse         mae      mape     mdape  \\\n",
       "0 0 days 01:00:00  12593.513271  112.220824  112.220824  0.223582  0.223582   \n",
       "\n",
       "      smape  coverage  \n",
       "0  0.251722       0.0  "
      ]
     },
     "execution_count": 26,
     "metadata": {},
     "output_type": "execute_result"
    }
   ],
   "source": [
    "df_p.head(50)"
   ]
  },
  {
   "cell_type": "code",
   "execution_count": 23,
   "id": "1ba479c4",
   "metadata": {},
   "outputs": [
    {
     "name": "stderr",
     "output_type": "stream",
     "text": [
      "WARNING:prophet:Seasonality has period of 30.5 days which is larger than initial window. Consider increasing initial.\n",
      "INFO:prophet:Applying in parallel with <concurrent.futures.process.ProcessPoolExecutor object at 0x7f4f4d92f6d0>\n",
      "/home/jonathan/anaconda3/lib/python3.9/site-packages/fbprophet/forecaster.py:891: FutureWarning: The frame.append method is deprecated and will be removed from pandas in a future version. Use pandas.concat instead.\n",
      "  components = components.append(new_comp)\n"
     ]
    },
    {
     "name": "stdout",
     "output_type": "stream",
     "text": [
      "Initial log joint probability = -38.2898\n",
      "    Iter      log prob        ||dx||      ||grad||       alpha      alpha0  # evals  Notes \n",
      "      99        943.37   0.000968715       93.8919      0.5357      0.5357      124   \n",
      "    Iter      log prob        ||dx||      ||grad||       alpha      alpha0  # evals  Notes \n",
      "     196       943.554   6.05967e-05       60.4509    1.09e-06       0.001      279  LS failed, Hessian reset \n",
      "     199       943.559   7.81391e-05        70.212           1           1      282   \n",
      "    Iter      log prob        ||dx||      ||grad||       alpha      alpha0  # evals  Notes \n",
      "     299       943.708   0.000147221       103.008      0.3305      0.3305      408   \n",
      "    Iter      log prob        ||dx||      ||grad||       alpha      alpha0  # evals  Notes \n"
     ]
    },
    {
     "name": "stderr",
     "output_type": "stream",
     "text": [
      "/home/jonathan/anaconda3/lib/python3.9/site-packages/fbprophet/forecaster.py:891: FutureWarning: The frame.append method is deprecated and will be removed from pandas in a future version. Use pandas.concat instead.\n",
      "  components = components.append(new_comp)\n",
      "/home/jonathan/anaconda3/lib/python3.9/site-packages/fbprophet/forecaster.py:891: FutureWarning: The frame.append method is deprecated and will be removed from pandas in a future version. Use pandas.concat instead.\n",
      "  components = components.append(new_comp)\n"
     ]
    },
    {
     "name": "stdout",
     "output_type": "stream",
     "text": [
      "     369         943.8   1.78232e-05       69.6682   2.619e-07       0.001      530  LS failed, Hessian reset \n",
      "     399       943.808   2.04041e-06       69.5709       0.269           1      570   \n",
      "    Iter      log prob        ||dx||      ||grad||       alpha      alpha0  # evals  Notes \n",
      "     411       943.809   6.05353e-06       98.1061   7.538e-08       0.001      633  LS failed, Hessian reset \n",
      "     429       943.809    2.3397e-08        71.025      0.2946      0.2946      659   \n",
      "Optimization terminated normally: \n",
      "  Convergence detected: relative gradient magnitude is below tolerance\n"
     ]
    },
    {
     "name": "stderr",
     "output_type": "stream",
     "text": [
      "WARNING:prophet:Seasonality has period of 30.5 days which is larger than initial window. Consider increasing initial.\n",
      "INFO:prophet:Applying in parallel with <concurrent.futures.process.ProcessPoolExecutor object at 0x7f4f4c7d7670>\n",
      "/home/jonathan/anaconda3/lib/python3.9/site-packages/fbprophet/forecaster.py:891: FutureWarning: The frame.append method is deprecated and will be removed from pandas in a future version. Use pandas.concat instead.\n",
      "  components = components.append(new_comp)\n"
     ]
    },
    {
     "name": "stdout",
     "output_type": "stream",
     "text": [
      "Initial log joint probability = -39.26\n",
      "    Iter      log prob        ||dx||      ||grad||       alpha      alpha0  # evals  Notes \n",
      "      63       945.562   0.000294512       85.3084   3.664e-06       0.001      111  LS failed, Hessian reset \n",
      "      99       945.576   3.54744e-06       84.4242      0.8567      0.8567      160   \n",
      "    Iter      log prob        ||dx||      ||grad||       alpha      alpha0  # evals  Notes \n",
      "     183        945.63   5.85877e-05        84.272   7.101e-07       0.001      312  LS failed, Hessian reset \n",
      "     199       945.659    0.00019267       82.8837           1           1      329   \n",
      "    Iter      log prob        ||dx||      ||grad||       alpha      alpha0  # evals  Notes \n",
      "     236       945.667   2.06848e-05       80.8753   2.738e-07       0.001      407  LS failed, Hessian reset \n"
     ]
    },
    {
     "name": "stderr",
     "output_type": "stream",
     "text": [
      "/home/jonathan/anaconda3/lib/python3.9/site-packages/fbprophet/forecaster.py:891: FutureWarning: The frame.append method is deprecated and will be removed from pandas in a future version. Use pandas.concat instead.\n",
      "  components = components.append(new_comp)\n",
      "/home/jonathan/anaconda3/lib/python3.9/site-packages/fbprophet/forecaster.py:891: FutureWarning: The frame.append method is deprecated and will be removed from pandas in a future version. Use pandas.concat instead.\n",
      "  components = components.append(new_comp)\n"
     ]
    },
    {
     "name": "stdout",
     "output_type": "stream",
     "text": [
      "     299       945.669   1.24452e-07       64.9584       0.621       0.621      489   \n",
      "    Iter      log prob        ||dx||      ||grad||       alpha      alpha0  # evals  Notes \n",
      "     303       945.669   6.04894e-08       79.8937      0.4183           1      494   \n",
      "Optimization terminated normally: \n",
      "  Convergence detected: relative gradient magnitude is below tolerance\n"
     ]
    },
    {
     "name": "stderr",
     "output_type": "stream",
     "text": [
      "WARNING:prophet:Seasonality has period of 30.5 days which is larger than initial window. Consider increasing initial.\n",
      "INFO:prophet:Applying in parallel with <concurrent.futures.process.ProcessPoolExecutor object at 0x7f4f4d80ef70>\n",
      "/home/jonathan/anaconda3/lib/python3.9/site-packages/fbprophet/forecaster.py:891: FutureWarning: The frame.append method is deprecated and will be removed from pandas in a future version. Use pandas.concat instead.\n",
      "  components = components.append(new_comp)\n"
     ]
    },
    {
     "name": "stdout",
     "output_type": "stream",
     "text": [
      "Initial log joint probability = -43.0175\n",
      "    Iter      log prob        ||dx||      ||grad||       alpha      alpha0  # evals  Notes \n",
      "      71       947.771   7.56789e-05       78.8483   9.913e-07       0.001      122  LS failed, Hessian reset \n",
      "      99       947.781   5.25211e-05       63.8011       0.707      0.0707      159   \n",
      "    Iter      log prob        ||dx||      ||grad||       alpha      alpha0  # evals  Notes \n",
      "     199       947.815   8.08276e-06       83.8974       0.207           1      281   \n",
      "    Iter      log prob        ||dx||      ||grad||       alpha      alpha0  # evals  Notes \n"
     ]
    },
    {
     "name": "stderr",
     "output_type": "stream",
     "text": [
      "/home/jonathan/anaconda3/lib/python3.9/site-packages/fbprophet/forecaster.py:891: FutureWarning: The frame.append method is deprecated and will be removed from pandas in a future version. Use pandas.concat instead.\n",
      "  components = components.append(new_comp)\n",
      "/home/jonathan/anaconda3/lib/python3.9/site-packages/fbprophet/forecaster.py:891: FutureWarning: The frame.append method is deprecated and will be removed from pandas in a future version. Use pandas.concat instead.\n",
      "  components = components.append(new_comp)\n"
     ]
    },
    {
     "name": "stdout",
     "output_type": "stream",
     "text": [
      "     252       947.817   4.01926e-08       81.1482      0.5575      0.5575      360   \n",
      "Optimization terminated normally: \n",
      "  Convergence detected: relative gradient magnitude is below tolerance\n"
     ]
    },
    {
     "name": "stderr",
     "output_type": "stream",
     "text": [
      "WARNING:prophet:Seasonality has period of 30.5 days which is larger than initial window. Consider increasing initial.\n",
      "INFO:prophet:Applying in parallel with <concurrent.futures.process.ProcessPoolExecutor object at 0x7f4f4c7cfaf0>\n",
      "/home/jonathan/anaconda3/lib/python3.9/site-packages/fbprophet/forecaster.py:891: FutureWarning: The frame.append method is deprecated and will be removed from pandas in a future version. Use pandas.concat instead.\n",
      "  components = components.append(new_comp)\n"
     ]
    },
    {
     "name": "stdout",
     "output_type": "stream",
     "text": [
      "Initial log joint probability = -41.5859\n",
      "    Iter      log prob        ||dx||      ||grad||       alpha      alpha0  # evals  Notes \n",
      "      99       949.755   6.22981e-05       76.9239      0.6238      0.6238      125   \n",
      "    Iter      log prob        ||dx||      ||grad||       alpha      alpha0  # evals  Notes \n",
      "     199       949.818   2.53831e-05       73.9588      0.4026           1      245   \n",
      "    Iter      log prob        ||dx||      ||grad||       alpha      alpha0  # evals  Notes \n",
      "     299       950.026   0.000145116       86.3827      0.6359      0.6359      363   \n",
      "    Iter      log prob        ||dx||      ||grad||       alpha      alpha0  # evals  Notes \n",
      "     399       950.173   0.000519434       101.958       0.614       0.614      479   \n",
      "    Iter      log prob        ||dx||      ||grad||       alpha      alpha0  # evals  Notes \n",
      "     499       950.928   0.000727081       79.4872      0.4142      0.4142      592   \n",
      "    Iter      log prob        ||dx||      ||grad||       alpha      alpha0  # evals  Notes \n",
      "     589       951.072   2.25912e-05       75.7556   2.884e-07       0.001      740  LS failed, Hessian reset \n",
      "     599       951.075   2.85833e-05       76.4951           1           1      751   \n",
      "    Iter      log prob        ||dx||      ||grad||       alpha      alpha0  # evals  Notes \n",
      "     639       951.087   3.64426e-05       106.543   4.019e-07       0.001      848  LS failed, Hessian reset \n"
     ]
    },
    {
     "name": "stderr",
     "output_type": "stream",
     "text": [
      "/home/jonathan/anaconda3/lib/python3.9/site-packages/fbprophet/forecaster.py:891: FutureWarning: The frame.append method is deprecated and will be removed from pandas in a future version. Use pandas.concat instead.\n",
      "  components = components.append(new_comp)\n",
      "/home/jonathan/anaconda3/lib/python3.9/site-packages/fbprophet/forecaster.py:891: FutureWarning: The frame.append method is deprecated and will be removed from pandas in a future version. Use pandas.concat instead.\n",
      "  components = components.append(new_comp)\n"
     ]
    },
    {
     "name": "stdout",
     "output_type": "stream",
     "text": [
      "     698        951.09   6.05849e-07        71.726   6.781e-09       0.001      974  LS failed, Hessian reset \n",
      "     699        951.09   1.49588e-07       62.9533       0.773       0.773      975   \n",
      "    Iter      log prob        ||dx||      ||grad||       alpha      alpha0  # evals  Notes \n",
      "     710        951.09   4.79365e-08       72.2579           1           1      990   \n",
      "Optimization terminated normally: \n",
      "  Convergence detected: relative gradient magnitude is below tolerance\n"
     ]
    },
    {
     "name": "stderr",
     "output_type": "stream",
     "text": [
      "WARNING:prophet:Seasonality has period of 30.5 days which is larger than initial window. Consider increasing initial.\n",
      "INFO:prophet:Applying in parallel with <concurrent.futures.process.ProcessPoolExecutor object at 0x7f4f4d80ebe0>\n",
      "/home/jonathan/anaconda3/lib/python3.9/site-packages/fbprophet/forecaster.py:891: FutureWarning: The frame.append method is deprecated and will be removed from pandas in a future version. Use pandas.concat instead.\n",
      "  components = components.append(new_comp)\n"
     ]
    },
    {
     "name": "stdout",
     "output_type": "stream",
     "text": [
      "Initial log joint probability = -42.8505\n",
      "    Iter      log prob        ||dx||      ||grad||       alpha      alpha0  # evals  Notes \n",
      "      88       951.989   2.06243e-05       81.4807   1.962e-07       0.001      149  LS failed, Hessian reset \n",
      "      99       951.989   1.81795e-07       69.4894      0.1655      0.1655      165   \n",
      "    Iter      log prob        ||dx||      ||grad||       alpha      alpha0  # evals  Notes \n",
      "     119        951.99   5.39096e-08        72.582      0.3772           1      191   \n",
      "Optimization terminated normally: \n",
      "  Convergence detected: relative gradient magnitude is below tolerance\n"
     ]
    },
    {
     "name": "stderr",
     "output_type": "stream",
     "text": [
      "/home/jonathan/anaconda3/lib/python3.9/site-packages/fbprophet/forecaster.py:891: FutureWarning: The frame.append method is deprecated and will be removed from pandas in a future version. Use pandas.concat instead.\n",
      "  components = components.append(new_comp)\n",
      "/home/jonathan/anaconda3/lib/python3.9/site-packages/fbprophet/forecaster.py:891: FutureWarning: The frame.append method is deprecated and will be removed from pandas in a future version. Use pandas.concat instead.\n",
      "  components = components.append(new_comp)\n",
      "WARNING:prophet:Seasonality has period of 30.5 days which is larger than initial window. Consider increasing initial.\n",
      "INFO:prophet:Applying in parallel with <concurrent.futures.process.ProcessPoolExecutor object at 0x7f4f4c7cfe80>\n",
      "/home/jonathan/anaconda3/lib/python3.9/site-packages/fbprophet/forecaster.py:891: FutureWarning: The frame.append method is deprecated and will be removed from pandas in a future version. Use pandas.concat instead.\n",
      "  components = components.append(new_comp)\n"
     ]
    },
    {
     "name": "stdout",
     "output_type": "stream",
     "text": [
      "Initial log joint probability = -32.5799\n",
      "    Iter      log prob        ||dx||      ||grad||       alpha      alpha0  # evals  Notes \n",
      "      95       953.572   0.000185951       89.0659   2.384e-06       0.001      161  LS failed, Hessian reset \n",
      "      99       953.578   8.48126e-06       62.3436      0.2921      0.2921      166   \n",
      "    Iter      log prob        ||dx||      ||grad||       alpha      alpha0  # evals  Notes \n",
      "     199       953.677   4.29331e-05       59.2182      0.3715           1      299   \n",
      "    Iter      log prob        ||dx||      ||grad||       alpha      alpha0  # evals  Notes \n",
      "     299       953.881   0.000802076       78.7681      0.6376      0.6376      419   \n",
      "    Iter      log prob        ||dx||      ||grad||       alpha      alpha0  # evals  Notes \n",
      "     316       953.974   0.000163868       56.9301     1.9e-06       0.001      472  LS failed, Hessian reset \n"
     ]
    },
    {
     "name": "stderr",
     "output_type": "stream",
     "text": [
      "/home/jonathan/anaconda3/lib/python3.9/site-packages/fbprophet/forecaster.py:891: FutureWarning: The frame.append method is deprecated and will be removed from pandas in a future version. Use pandas.concat instead.\n",
      "  components = components.append(new_comp)\n",
      "/home/jonathan/anaconda3/lib/python3.9/site-packages/fbprophet/forecaster.py:891: FutureWarning: The frame.append method is deprecated and will be removed from pandas in a future version. Use pandas.concat instead.\n",
      "  components = components.append(new_comp)\n"
     ]
    },
    {
     "name": "stdout",
     "output_type": "stream",
     "text": [
      "     399       954.052   2.37675e-06       84.5832      0.3315      0.3315      574   \n",
      "    Iter      log prob        ||dx||      ||grad||       alpha      alpha0  # evals  Notes \n",
      "     441       954.055   3.72568e-09       56.7486    0.007902      0.7971      634   \n",
      "Optimization terminated normally: \n",
      "  Convergence detected: absolute parameter change was below tolerance\n"
     ]
    },
    {
     "name": "stderr",
     "output_type": "stream",
     "text": [
      "WARNING:prophet:Seasonality has period of 30.5 days which is larger than initial window. Consider increasing initial.\n",
      "INFO:prophet:Applying in parallel with <concurrent.futures.process.ProcessPoolExecutor object at 0x7f4f4d7fda90>\n",
      "/home/jonathan/anaconda3/lib/python3.9/site-packages/fbprophet/forecaster.py:891: FutureWarning: The frame.append method is deprecated and will be removed from pandas in a future version. Use pandas.concat instead.\n",
      "  components = components.append(new_comp)\n"
     ]
    },
    {
     "name": "stdout",
     "output_type": "stream",
     "text": [
      "Initial log joint probability = -36.4908\n",
      "    Iter      log prob        ||dx||      ||grad||       alpha      alpha0  # evals  Notes \n",
      "      99       955.898    0.00107373        78.852      0.5505      0.5505      118   \n",
      "    Iter      log prob        ||dx||      ||grad||       alpha      alpha0  # evals  Notes \n",
      "     199       956.018   6.05637e-05       81.4202           1           1      237   \n",
      "    Iter      log prob        ||dx||      ||grad||       alpha      alpha0  # evals  Notes \n",
      "     245       956.055   0.000431359       73.5392   4.965e-06       0.001      333  LS failed, Hessian reset \n",
      "     299       956.134   4.70938e-05       61.1886      0.3317           1      399   \n",
      "    Iter      log prob        ||dx||      ||grad||       alpha      alpha0  # evals  Notes \n",
      "     363       956.137   7.24299e-08       70.9344      0.4039           1      479   \n",
      "Optimization terminated normally: \n",
      "  Convergence detected: relative gradient magnitude is below tolerance\n"
     ]
    },
    {
     "name": "stderr",
     "output_type": "stream",
     "text": [
      "/home/jonathan/anaconda3/lib/python3.9/site-packages/fbprophet/forecaster.py:891: FutureWarning: The frame.append method is deprecated and will be removed from pandas in a future version. Use pandas.concat instead.\n",
      "  components = components.append(new_comp)\n",
      "/home/jonathan/anaconda3/lib/python3.9/site-packages/fbprophet/forecaster.py:891: FutureWarning: The frame.append method is deprecated and will be removed from pandas in a future version. Use pandas.concat instead.\n",
      "  components = components.append(new_comp)\n",
      "WARNING:prophet:Seasonality has period of 30.5 days which is larger than initial window. Consider increasing initial.\n",
      "INFO:prophet:Applying in parallel with <concurrent.futures.process.ProcessPoolExecutor object at 0x7f4f4c7cffa0>\n",
      "/home/jonathan/anaconda3/lib/python3.9/site-packages/fbprophet/forecaster.py:891: FutureWarning: The frame.append method is deprecated and will be removed from pandas in a future version. Use pandas.concat instead.\n",
      "  components = components.append(new_comp)\n"
     ]
    },
    {
     "name": "stdout",
     "output_type": "stream",
     "text": [
      "Initial log joint probability = -26.0627\n",
      "    Iter      log prob        ||dx||      ||grad||       alpha      alpha0  # evals  Notes \n",
      "      99       957.834    0.00025853       68.0513      0.3551      0.3551      116   \n",
      "    Iter      log prob        ||dx||      ||grad||       alpha      alpha0  # evals  Notes \n",
      "     133       958.019   0.000622133       68.8517   6.356e-06       0.001      186  LS failed, Hessian reset \n",
      "     199       958.089    7.4602e-06       87.0538      0.1933           1      269   \n",
      "    Iter      log prob        ||dx||      ||grad||       alpha      alpha0  # evals  Notes \n",
      "     299       958.107   6.05144e-06       78.8498           1           1      391   \n",
      "    Iter      log prob        ||dx||      ||grad||       alpha      alpha0  # evals  Notes \n"
     ]
    },
    {
     "name": "stderr",
     "output_type": "stream",
     "text": [
      "/home/jonathan/anaconda3/lib/python3.9/site-packages/fbprophet/forecaster.py:891: FutureWarning: The frame.append method is deprecated and will be removed from pandas in a future version. Use pandas.concat instead.\n",
      "  components = components.append(new_comp)\n",
      "/home/jonathan/anaconda3/lib/python3.9/site-packages/fbprophet/forecaster.py:891: FutureWarning: The frame.append method is deprecated and will be removed from pandas in a future version. Use pandas.concat instead.\n",
      "  components = components.append(new_comp)\n"
     ]
    },
    {
     "name": "stdout",
     "output_type": "stream",
     "text": [
      "     399       958.197   9.57409e-06       76.0617           1           1      511   \n",
      "    Iter      log prob        ||dx||      ||grad||       alpha      alpha0  # evals  Notes \n",
      "     499       958.212   2.62349e-05       87.2641           1           1      642   \n",
      "    Iter      log prob        ||dx||      ||grad||       alpha      alpha0  # evals  Notes \n",
      "     501       958.212   4.74351e-06       52.4102   5.554e-08       0.001      679  LS failed, Hessian reset \n",
      "     520       958.212   2.35183e-08       54.6302      0.3834      0.3834      704   \n",
      "Optimization terminated normally: \n",
      "  Convergence detected: relative gradient magnitude is below tolerance\n"
     ]
    },
    {
     "name": "stderr",
     "output_type": "stream",
     "text": [
      "WARNING:prophet:Seasonality has period of 30.5 days which is larger than initial window. Consider increasing initial.\n",
      "INFO:prophet:Applying in parallel with <concurrent.futures.process.ProcessPoolExecutor object at 0x7f4f4d80a3a0>\n",
      "/home/jonathan/anaconda3/lib/python3.9/site-packages/fbprophet/forecaster.py:891: FutureWarning: The frame.append method is deprecated and will be removed from pandas in a future version. Use pandas.concat instead.\n",
      "  components = components.append(new_comp)\n"
     ]
    },
    {
     "name": "stdout",
     "output_type": "stream",
     "text": [
      "Initial log joint probability = -23.1345\n",
      "    Iter      log prob        ||dx||      ||grad||       alpha      alpha0  # evals  Notes \n",
      "      99       958.551   1.63161e-05       80.3441    0.008226           1      127   \n",
      "    Iter      log prob        ||dx||      ||grad||       alpha      alpha0  # evals  Notes \n",
      "     199       960.199   2.59673e-05       67.2272      0.6828      0.6828      241   \n",
      "    Iter      log prob        ||dx||      ||grad||       alpha      alpha0  # evals  Notes \n",
      "     299       960.291   6.17302e-06       77.0918           1           1      371   \n",
      "    Iter      log prob        ||dx||      ||grad||       alpha      alpha0  # evals  Notes \n"
     ]
    },
    {
     "name": "stderr",
     "output_type": "stream",
     "text": [
      "/home/jonathan/anaconda3/lib/python3.9/site-packages/fbprophet/forecaster.py:891: FutureWarning: The frame.append method is deprecated and will be removed from pandas in a future version. Use pandas.concat instead.\n",
      "  components = components.append(new_comp)\n",
      "/home/jonathan/anaconda3/lib/python3.9/site-packages/fbprophet/forecaster.py:891: FutureWarning: The frame.append method is deprecated and will be removed from pandas in a future version. Use pandas.concat instead.\n",
      "  components = components.append(new_comp)\n"
     ]
    },
    {
     "name": "stdout",
     "output_type": "stream",
     "text": [
      "     399       960.293   1.54904e-07       75.5796       0.979       0.979      505   \n",
      "    Iter      log prob        ||dx||      ||grad||       alpha      alpha0  # evals  Notes \n",
      "     401       960.293   4.11851e-08       66.3466       0.272           1      508   \n",
      "Optimization terminated normally: \n",
      "  Convergence detected: relative gradient magnitude is below tolerance\n"
     ]
    },
    {
     "name": "stderr",
     "output_type": "stream",
     "text": [
      "WARNING:prophet:Seasonality has period of 30.5 days which is larger than initial window. Consider increasing initial.\n",
      "INFO:prophet:Applying in parallel with <concurrent.futures.process.ProcessPoolExecutor object at 0x7f4f4d80e3a0>\n",
      "/home/jonathan/anaconda3/lib/python3.9/site-packages/fbprophet/forecaster.py:891: FutureWarning: The frame.append method is deprecated and will be removed from pandas in a future version. Use pandas.concat instead.\n",
      "  components = components.append(new_comp)\n"
     ]
    },
    {
     "name": "stdout",
     "output_type": "stream",
     "text": [
      "Initial log joint probability = -33.0522\n",
      "    Iter      log prob        ||dx||      ||grad||       alpha      alpha0  # evals  Notes \n",
      "      99         959.1    0.00210424       90.2013           1           1      114   \n",
      "    Iter      log prob        ||dx||      ||grad||       alpha      alpha0  # evals  Notes \n",
      "     199       960.157   3.72961e-05       83.4868      0.2983           1      242   \n",
      "    Iter      log prob        ||dx||      ||grad||       alpha      alpha0  # evals  Notes \n",
      "     254       960.848    0.00186428       85.5954    1.89e-05       0.001      337  LS failed, Hessian reset \n",
      "     299       960.989   0.000209034       82.0759      0.7904      0.7904      387   \n",
      "    Iter      log prob        ||dx||      ||grad||       alpha      alpha0  # evals  Notes \n"
     ]
    },
    {
     "name": "stderr",
     "output_type": "stream",
     "text": [
      "/home/jonathan/anaconda3/lib/python3.9/site-packages/fbprophet/forecaster.py:891: FutureWarning: The frame.append method is deprecated and will be removed from pandas in a future version. Use pandas.concat instead.\n",
      "  components = components.append(new_comp)\n"
     ]
    },
    {
     "name": "stdout",
     "output_type": "stream",
     "text": [
      "     399       961.098   4.81461e-06       74.9253      0.7919      0.7919      511   \n",
      "    Iter      log prob        ||dx||      ||grad||       alpha      alpha0  # evals  Notes \n",
      "     445       961.128   0.000152642       91.7341   1.849e-06       0.001      611  LS failed, Hessian reset \n",
      "     499       961.194   7.79953e-07       60.4952      0.2743      0.2743      682   \n",
      "    Iter      log prob        ||dx||      ||grad||       alpha      alpha0  # evals  Notes \n",
      "     558       961.196   1.72665e-07       71.7375   2.508e-09       0.001      798  LS failed, Hessian reset \n",
      "     560       961.196   4.81748e-08       67.1442      0.3244           1      801   \n",
      "Optimization terminated normally: \n",
      "  Convergence detected: relative gradient magnitude is below tolerance\n"
     ]
    },
    {
     "name": "stderr",
     "output_type": "stream",
     "text": [
      "/home/jonathan/anaconda3/lib/python3.9/site-packages/fbprophet/forecaster.py:891: FutureWarning: The frame.append method is deprecated and will be removed from pandas in a future version. Use pandas.concat instead.\n",
      "  components = components.append(new_comp)\n",
      "WARNING:prophet:Seasonality has period of 30.5 days which is larger than initial window. Consider increasing initial.\n",
      "INFO:prophet:Applying in parallel with <concurrent.futures.process.ProcessPoolExecutor object at 0x7f4f4c7d7d00>\n",
      "/home/jonathan/anaconda3/lib/python3.9/site-packages/fbprophet/forecaster.py:891: FutureWarning: The frame.append method is deprecated and will be removed from pandas in a future version. Use pandas.concat instead.\n",
      "  components = components.append(new_comp)\n"
     ]
    },
    {
     "name": "stdout",
     "output_type": "stream",
     "text": [
      "Initial log joint probability = -44.8783\n",
      "    Iter      log prob        ||dx||      ||grad||       alpha      alpha0  # evals  Notes \n",
      "      99       1042.88     0.0045062       108.281           1           1      124   \n",
      "    Iter      log prob        ||dx||      ||grad||       alpha      alpha0  # evals  Notes \n",
      "     199       1045.18   0.000966101       67.6456      0.3455           1      244   \n",
      "    Iter      log prob        ||dx||      ||grad||       alpha      alpha0  # evals  Notes \n",
      "     249       1045.45   0.000188905       88.0476   2.389e-06       0.001      338  LS failed, Hessian reset \n",
      "     299        1045.5   0.000324201       93.0342       0.622       0.622      403   \n",
      "    Iter      log prob        ||dx||      ||grad||       alpha      alpha0  # evals  Notes \n",
      "     399       1045.63   4.17079e-05       94.0765      0.3809           1      522   \n",
      "    Iter      log prob        ||dx||      ||grad||       alpha      alpha0  # evals  Notes \n",
      "     426       1045.66   4.20631e-05       77.7269    4.54e-07       0.001      633  LS failed, Hessian reset \n",
      "     499       1045.76   9.49618e-05       90.4046      0.6142      0.6142      719   \n",
      "    Iter      log prob        ||dx||      ||grad||       alpha      alpha0  # evals  Notes \n",
      "     599        1045.8   8.48328e-05       105.178           1           1      842   \n",
      "    Iter      log prob        ||dx||      ||grad||       alpha      alpha0  # evals  Notes \n",
      "     641        1045.8   6.01496e-08       69.6316      0.2951           1      897   \n",
      "Optimization terminated normally: \n",
      "  Convergence detected: relative gradient magnitude is below tolerance\n"
     ]
    },
    {
     "name": "stderr",
     "output_type": "stream",
     "text": [
      "/home/jonathan/anaconda3/lib/python3.9/site-packages/fbprophet/forecaster.py:891: FutureWarning: The frame.append method is deprecated and will be removed from pandas in a future version. Use pandas.concat instead.\n",
      "  components = components.append(new_comp)\n",
      "/home/jonathan/anaconda3/lib/python3.9/site-packages/fbprophet/forecaster.py:891: FutureWarning: The frame.append method is deprecated and will be removed from pandas in a future version. Use pandas.concat instead.\n",
      "  components = components.append(new_comp)\n",
      "WARNING:prophet:Seasonality has period of 30.5 days which is larger than initial window. Consider increasing initial.\n",
      "INFO:prophet:Applying in parallel with <concurrent.futures.process.ProcessPoolExecutor object at 0x7f4f4c7cff70>\n",
      "/home/jonathan/anaconda3/lib/python3.9/site-packages/fbprophet/forecaster.py:891: FutureWarning: The frame.append method is deprecated and will be removed from pandas in a future version. Use pandas.concat instead.\n",
      "  components = components.append(new_comp)\n"
     ]
    },
    {
     "name": "stdout",
     "output_type": "stream",
     "text": [
      "Initial log joint probability = -25.9224\n",
      "    Iter      log prob        ||dx||      ||grad||       alpha      alpha0  # evals  Notes \n",
      "      92       1045.48    0.00175148       102.448   2.128e-05       0.001      139  LS failed, Hessian reset \n",
      "      99       1045.61   0.000608893       69.3048      0.3686           1      147   \n",
      "    Iter      log prob        ||dx||      ||grad||       alpha      alpha0  # evals  Notes \n",
      "     199       1045.94     0.0001731       79.9028           1           1      272   \n",
      "    Iter      log prob        ||dx||      ||grad||       alpha      alpha0  # evals  Notes \n",
      "     218       1046.11   0.000676385       94.4737   6.889e-06       0.001      328  LS failed, Hessian reset \n",
      "     299       1046.29   0.000118229       89.2627           1           1      427   \n",
      "    Iter      log prob        ||dx||      ||grad||       alpha      alpha0  # evals  Notes \n"
     ]
    },
    {
     "name": "stderr",
     "output_type": "stream",
     "text": [
      "/home/jonathan/anaconda3/lib/python3.9/site-packages/fbprophet/forecaster.py:891: FutureWarning: The frame.append method is deprecated and will be removed from pandas in a future version. Use pandas.concat instead.\n",
      "  components = components.append(new_comp)\n"
     ]
    },
    {
     "name": "stdout",
     "output_type": "stream",
     "text": [
      "     365       1046.66    0.00164075        114.61   1.424e-05       0.001      562  LS failed, Hessian reset \n",
      "     399       1047.18   7.16048e-05       81.5144      0.4427      0.4427      600   \n",
      "    Iter      log prob        ||dx||      ||grad||       alpha      alpha0  # evals  Notes \n",
      "     491       1047.23    5.0263e-08        85.372      0.7055      0.7055      724   \n",
      "Optimization terminated normally: \n",
      "  Convergence detected: relative gradient magnitude is below tolerance\n"
     ]
    },
    {
     "name": "stderr",
     "output_type": "stream",
     "text": [
      "/home/jonathan/anaconda3/lib/python3.9/site-packages/fbprophet/forecaster.py:891: FutureWarning: The frame.append method is deprecated and will be removed from pandas in a future version. Use pandas.concat instead.\n",
      "  components = components.append(new_comp)\n",
      "WARNING:prophet:Seasonality has period of 30.5 days which is larger than initial window. Consider increasing initial.\n",
      "INFO:prophet:Applying in parallel with <concurrent.futures.process.ProcessPoolExecutor object at 0x7f4f4d92fc40>\n",
      "/home/jonathan/anaconda3/lib/python3.9/site-packages/fbprophet/forecaster.py:891: FutureWarning: The frame.append method is deprecated and will be removed from pandas in a future version. Use pandas.concat instead.\n",
      "  components = components.append(new_comp)\n"
     ]
    },
    {
     "name": "stdout",
     "output_type": "stream",
     "text": [
      "Initial log joint probability = -33.4967\n",
      "    Iter      log prob        ||dx||      ||grad||       alpha      alpha0  # evals  Notes \n",
      "      99       1043.07   0.000452337       125.502      0.5289      0.5289      125   \n",
      "    Iter      log prob        ||dx||      ||grad||       alpha      alpha0  # evals  Notes \n",
      "     136       1043.27   5.57921e-05       78.5746   9.249e-07       0.001      208  LS failed, Hessian reset \n",
      "     199       1043.58   0.000569276       88.0602      0.7297      0.7297      280   \n",
      "    Iter      log prob        ||dx||      ||grad||       alpha      alpha0  # evals  Notes \n",
      "     204       1043.64   0.000399667       79.1153   4.491e-06       0.001      332  LS failed, Hessian reset \n",
      "     299       1043.92   2.46692e-05       86.6213       0.405       0.405      440   \n",
      "    Iter      log prob        ||dx||      ||grad||       alpha      alpha0  # evals  Notes \n"
     ]
    },
    {
     "name": "stderr",
     "output_type": "stream",
     "text": [
      "/home/jonathan/anaconda3/lib/python3.9/site-packages/fbprophet/forecaster.py:891: FutureWarning: The frame.append method is deprecated and will be removed from pandas in a future version. Use pandas.concat instead.\n",
      "  components = components.append(new_comp)\n"
     ]
    },
    {
     "name": "stdout",
     "output_type": "stream",
     "text": [
      "     325       1044.75    0.00128641       117.804   1.178e-05       0.001      509  LS failed, Hessian reset \n",
      "     390       1045.23   2.91745e-05       87.4102   3.222e-07       0.001      627  LS failed, Hessian reset \n",
      "     399       1045.23   2.44549e-06       63.5469      0.7831      0.7831      637   \n",
      "    Iter      log prob        ||dx||      ||grad||       alpha      alpha0  # evals  Notes \n",
      "     499        1045.3   2.62539e-06       79.9872      0.5601      0.5601      767   \n",
      "    Iter      log prob        ||dx||      ||grad||       alpha      alpha0  # evals  Notes \n",
      "     559       1045.31   2.25473e-08       79.0614      0.3474           1      845   \n",
      "Optimization terminated normally: \n",
      "  Convergence detected: relative gradient magnitude is below tolerance\n"
     ]
    },
    {
     "name": "stderr",
     "output_type": "stream",
     "text": [
      "/home/jonathan/anaconda3/lib/python3.9/site-packages/fbprophet/forecaster.py:891: FutureWarning: The frame.append method is deprecated and will be removed from pandas in a future version. Use pandas.concat instead.\n",
      "  components = components.append(new_comp)\n",
      "WARNING:prophet:Seasonality has period of 30.5 days which is larger than initial window. Consider increasing initial.\n",
      "INFO:prophet:Applying in parallel with <concurrent.futures.process.ProcessPoolExecutor object at 0x7f4f4d7fdb80>\n",
      "/home/jonathan/anaconda3/lib/python3.9/site-packages/fbprophet/forecaster.py:891: FutureWarning: The frame.append method is deprecated and will be removed from pandas in a future version. Use pandas.concat instead.\n",
      "  components = components.append(new_comp)\n"
     ]
    },
    {
     "name": "stdout",
     "output_type": "stream",
     "text": [
      "Initial log joint probability = -27.866\n",
      "    Iter      log prob        ||dx||      ||grad||       alpha      alpha0  # evals  Notes \n",
      "      99       1045.52    0.00372113       101.403           1           1      118   \n",
      "    Iter      log prob        ||dx||      ||grad||       alpha      alpha0  # evals  Notes \n",
      "     187       1046.54    0.00156478       153.184   1.921e-05       0.001      248  LS failed, Hessian reset \n",
      "     199       1046.95   0.000914036       76.5768           1           1      261   \n",
      "    Iter      log prob        ||dx||      ||grad||       alpha      alpha0  # evals  Notes \n",
      "     299       1047.14    2.1291e-05       73.7715      0.1897           1      380   \n",
      "    Iter      log prob        ||dx||      ||grad||       alpha      alpha0  # evals  Notes \n",
      "     353       1047.24      0.000531       106.615   5.016e-06       0.001      497  LS failed, Hessian reset \n",
      "     399       1047.31   7.35232e-06       74.2761           1           1      556   \n",
      "    Iter      log prob        ||dx||      ||grad||       alpha      alpha0  # evals  Notes \n",
      "     499       1047.34   1.43457e-06       75.1444      0.2717      0.2717      673   \n",
      "    Iter      log prob        ||dx||      ||grad||       alpha      alpha0  # evals  Notes \n",
      "     599       1047.42   0.000821311       82.6608      0.4997      0.4997      784   \n",
      "    Iter      log prob        ||dx||      ||grad||       alpha      alpha0  # evals  Notes \n",
      "     619       1048.24    0.00156591       110.925   1.774e-05       0.001      839  LS failed, Hessian reset \n",
      "     699       1048.92   9.38292e-05       100.964      0.9238      0.9238      934   \n",
      "    Iter      log prob        ||dx||      ||grad||       alpha      alpha0  # evals  Notes \n"
     ]
    },
    {
     "name": "stderr",
     "output_type": "stream",
     "text": [
      "/home/jonathan/anaconda3/lib/python3.9/site-packages/fbprophet/forecaster.py:891: FutureWarning: The frame.append method is deprecated and will be removed from pandas in a future version. Use pandas.concat instead.\n",
      "  components = components.append(new_comp)\n",
      "/home/jonathan/anaconda3/lib/python3.9/site-packages/fbprophet/forecaster.py:891: FutureWarning: The frame.append method is deprecated and will be removed from pandas in a future version. Use pandas.concat instead.\n",
      "  components = components.append(new_comp)\n"
     ]
    },
    {
     "name": "stdout",
     "output_type": "stream",
     "text": [
      "     734       1048.93   6.30973e-06       95.2005   7.592e-08       0.001     1020  LS failed, Hessian reset \n",
      "     799       1048.95   2.63954e-06       81.1938      0.7038      0.7038     1095   \n",
      "    Iter      log prob        ||dx||      ||grad||       alpha      alpha0  # evals  Notes \n",
      "     844       1048.96   9.93126e-08       68.4424      0.1591      0.3875     1153   \n",
      "Optimization terminated normally: \n",
      "  Convergence detected: relative gradient magnitude is below tolerance\n"
     ]
    },
    {
     "name": "stderr",
     "output_type": "stream",
     "text": [
      "WARNING:prophet:Seasonality has period of 30.5 days which is larger than initial window. Consider increasing initial.\n",
      "INFO:prophet:Applying in parallel with <concurrent.futures.process.ProcessPoolExecutor object at 0x7f4f4d80e220>\n",
      "/home/jonathan/anaconda3/lib/python3.9/site-packages/fbprophet/forecaster.py:891: FutureWarning: The frame.append method is deprecated and will be removed from pandas in a future version. Use pandas.concat instead.\n",
      "  components = components.append(new_comp)\n"
     ]
    },
    {
     "name": "stdout",
     "output_type": "stream",
     "text": [
      "Initial log joint probability = -42.1794\n",
      "    Iter      log prob        ||dx||      ||grad||       alpha      alpha0  # evals  Notes \n",
      "      99       1044.42   0.000822872       77.7714      0.2453           1      119   \n",
      "    Iter      log prob        ||dx||      ||grad||       alpha      alpha0  # evals  Notes \n",
      "     199       1046.71    0.00117471       85.3967      0.3596           1      245   \n",
      "    Iter      log prob        ||dx||      ||grad||       alpha      alpha0  # evals  Notes \n",
      "     299       1046.92   0.000179836       82.9316           1           1      365   \n",
      "    Iter      log prob        ||dx||      ||grad||       alpha      alpha0  # evals  Notes \n",
      "     378       1048.61    0.00165749       108.856   1.499e-05       0.001      485  LS failed, Hessian reset \n",
      "     399       1048.97    0.00012303       73.5749      0.3868      0.3868      508   \n",
      "    Iter      log prob        ||dx||      ||grad||       alpha      alpha0  # evals  Notes \n",
      "     499       1049.25   0.000473723       73.2844           1           1      625   \n",
      "    Iter      log prob        ||dx||      ||grad||       alpha      alpha0  # evals  Notes \n",
      "     599       1049.42   0.000148457       85.5968      0.3698      0.3698      743   \n",
      "    Iter      log prob        ||dx||      ||grad||       alpha      alpha0  # evals  Notes \n",
      "     699       1049.48   2.97205e-06       79.8129      0.7029      0.7029      859   \n",
      "    Iter      log prob        ||dx||      ||grad||       alpha      alpha0  # evals  Notes \n",
      "     712       1049.48   2.59106e-07       83.8339       0.577       0.577      874   \n",
      "Optimization terminated normally: \n",
      "  Convergence detected: relative gradient magnitude is below tolerance\n"
     ]
    },
    {
     "name": "stderr",
     "output_type": "stream",
     "text": [
      "/home/jonathan/anaconda3/lib/python3.9/site-packages/fbprophet/forecaster.py:891: FutureWarning: The frame.append method is deprecated and will be removed from pandas in a future version. Use pandas.concat instead.\n",
      "  components = components.append(new_comp)\n",
      "/home/jonathan/anaconda3/lib/python3.9/site-packages/fbprophet/forecaster.py:891: FutureWarning: The frame.append method is deprecated and will be removed from pandas in a future version. Use pandas.concat instead.\n",
      "  components = components.append(new_comp)\n",
      "WARNING:prophet:Seasonality has period of 30.5 days which is larger than initial window. Consider increasing initial.\n",
      "INFO:prophet:Applying in parallel with <concurrent.futures.process.ProcessPoolExecutor object at 0x7f4f4d92fc40>\n",
      "/home/jonathan/anaconda3/lib/python3.9/site-packages/fbprophet/forecaster.py:891: FutureWarning: The frame.append method is deprecated and will be removed from pandas in a future version. Use pandas.concat instead.\n",
      "  components = components.append(new_comp)\n"
     ]
    },
    {
     "name": "stdout",
     "output_type": "stream",
     "text": [
      "Initial log joint probability = -37.8971\n",
      "    Iter      log prob        ||dx||      ||grad||       alpha      alpha0  # evals  Notes \n",
      "      99        1046.4     0.0026085       77.8668      0.7128      0.7128      124   \n",
      "    Iter      log prob        ||dx||      ||grad||       alpha      alpha0  # evals  Notes \n",
      "     199       1048.82    0.00183072        103.24           1           1      242   \n",
      "    Iter      log prob        ||dx||      ||grad||       alpha      alpha0  # evals  Notes \n",
      "     299       1049.06   0.000104149       97.0276      0.7362      0.7362      358   \n",
      "    Iter      log prob        ||dx||      ||grad||       alpha      alpha0  # evals  Notes \n",
      "     399       1049.19    8.7356e-06       100.342      0.3479           1      476   \n",
      "    Iter      log prob        ||dx||      ||grad||       alpha      alpha0  # evals  Notes \n",
      "     499       1049.26   0.000266821       82.4801      0.6249      0.6249      596   \n",
      "    Iter      log prob        ||dx||      ||grad||       alpha      alpha0  # evals  Notes \n",
      "     571        1050.6    0.00302725       109.855   3.441e-05       0.001      711  LS failed, Hessian reset \n",
      "     599       1050.94   0.000108282       90.6966      0.3006           1      744   \n",
      "    Iter      log prob        ||dx||      ||grad||       alpha      alpha0  # evals  Notes \n",
      "     642       1051.11   0.000189312       87.4544   1.933e-06       0.001      827  LS failed, Hessian reset \n",
      "     699       1051.16   1.60235e-06       74.1374      0.4769      0.4769      893   \n",
      "    Iter      log prob        ||dx||      ||grad||       alpha      alpha0  # evals  Notes \n"
     ]
    },
    {
     "name": "stderr",
     "output_type": "stream",
     "text": [
      "/home/jonathan/anaconda3/lib/python3.9/site-packages/fbprophet/forecaster.py:891: FutureWarning: The frame.append method is deprecated and will be removed from pandas in a future version. Use pandas.concat instead.\n",
      "  components = components.append(new_comp)\n",
      "/home/jonathan/anaconda3/lib/python3.9/site-packages/fbprophet/forecaster.py:891: FutureWarning: The frame.append method is deprecated and will be removed from pandas in a future version. Use pandas.concat instead.\n",
      "  components = components.append(new_comp)\n"
     ]
    },
    {
     "name": "stdout",
     "output_type": "stream",
     "text": [
      "     737       1051.16   8.70869e-06        97.244   9.168e-08       0.001      988  LS failed, Hessian reset \n",
      "     766       1051.16   9.82659e-08       77.0538      0.9174      0.9174     1020   \n",
      "Optimization terminated normally: \n",
      "  Convergence detected: relative gradient magnitude is below tolerance\n"
     ]
    },
    {
     "name": "stderr",
     "output_type": "stream",
     "text": [
      "WARNING:prophet:Seasonality has period of 30.5 days which is larger than initial window. Consider increasing initial.\n",
      "INFO:prophet:Applying in parallel with <concurrent.futures.process.ProcessPoolExecutor object at 0x7f4f4c7cf940>\n",
      "/home/jonathan/anaconda3/lib/python3.9/site-packages/fbprophet/forecaster.py:891: FutureWarning: The frame.append method is deprecated and will be removed from pandas in a future version. Use pandas.concat instead.\n",
      "  components = components.append(new_comp)\n"
     ]
    },
    {
     "name": "stdout",
     "output_type": "stream",
     "text": [
      "Initial log joint probability = -33.6111\n",
      "    Iter      log prob        ||dx||      ||grad||       alpha      alpha0  # evals  Notes \n",
      "      99       1048.72   0.000996058        87.772      0.9604      0.9604      121   \n",
      "    Iter      log prob        ||dx||      ||grad||       alpha      alpha0  # evals  Notes \n",
      "     138       1050.49   0.000713873       79.0794   9.238e-06       0.001      201  LS failed, Hessian reset \n",
      "     199          1051   0.000504927       86.2119      0.5827      0.5827      270   \n",
      "    Iter      log prob        ||dx||      ||grad||       alpha      alpha0  # evals  Notes \n",
      "     299       1051.47   0.000298549       95.4411           1           1      387   \n",
      "    Iter      log prob        ||dx||      ||grad||       alpha      alpha0  # evals  Notes \n",
      "     399       1053.49   0.000563651       74.1124     0.04087           1      499   \n",
      "    Iter      log prob        ||dx||      ||grad||       alpha      alpha0  # evals  Notes \n",
      "     499       1053.62   5.90495e-05       86.2031      0.4668      0.4668      620   \n",
      "    Iter      log prob        ||dx||      ||grad||       alpha      alpha0  # evals  Notes \n",
      "     599       1053.74     9.533e-07        78.543      0.2847      0.8189      739   \n",
      "    Iter      log prob        ||dx||      ||grad||       alpha      alpha0  # evals  Notes \n",
      "     629       1053.74   1.27319e-05       79.3316   1.181e-07       0.001      815  LS failed, Hessian reset \n",
      "     688       1053.74   4.25415e-08       74.1041           1           1      900   \n",
      "Optimization terminated normally: \n",
      "  Convergence detected: relative gradient magnitude is below tolerance\n"
     ]
    },
    {
     "name": "stderr",
     "output_type": "stream",
     "text": [
      "/home/jonathan/anaconda3/lib/python3.9/site-packages/fbprophet/forecaster.py:891: FutureWarning: The frame.append method is deprecated and will be removed from pandas in a future version. Use pandas.concat instead.\n",
      "  components = components.append(new_comp)\n",
      "/home/jonathan/anaconda3/lib/python3.9/site-packages/fbprophet/forecaster.py:891: FutureWarning: The frame.append method is deprecated and will be removed from pandas in a future version. Use pandas.concat instead.\n",
      "  components = components.append(new_comp)\n",
      "WARNING:prophet:Seasonality has period of 30.5 days which is larger than initial window. Consider increasing initial.\n",
      "INFO:prophet:Applying in parallel with <concurrent.futures.process.ProcessPoolExecutor object at 0x7f4f4d80e790>\n",
      "/home/jonathan/anaconda3/lib/python3.9/site-packages/fbprophet/forecaster.py:891: FutureWarning: The frame.append method is deprecated and will be removed from pandas in a future version. Use pandas.concat instead.\n",
      "  components = components.append(new_comp)\n"
     ]
    },
    {
     "name": "stdout",
     "output_type": "stream",
     "text": [
      "Initial log joint probability = -36.9349\n",
      "    Iter      log prob        ||dx||      ||grad||       alpha      alpha0  # evals  Notes \n",
      "      99       1049.15    0.00425029       89.2499      0.1526           1      125   \n",
      "    Iter      log prob        ||dx||      ||grad||       alpha      alpha0  # evals  Notes \n",
      "     137       1050.53    0.00151241       88.4587   2.135e-05       0.001      226  LS failed, Hessian reset \n",
      "     199       1051.58   0.000315587       81.3912           1           1      302   \n",
      "    Iter      log prob        ||dx||      ||grad||       alpha      alpha0  # evals  Notes \n",
      "     299       1052.14    0.00218242       84.8002      0.8355      0.8355      412   \n",
      "    Iter      log prob        ||dx||      ||grad||       alpha      alpha0  # evals  Notes \n",
      "     329       1053.37    0.00114796       135.272   1.059e-05       0.001      493  LS failed, Hessian reset \n",
      "     399       1054.08   0.000451616       84.6526      0.4827      0.4827      574   \n",
      "    Iter      log prob        ||dx||      ||grad||       alpha      alpha0  # evals  Notes \n",
      "     499        1054.2   1.13545e-05       88.9653      0.7591      0.7591      690   \n",
      "    Iter      log prob        ||dx||      ||grad||       alpha      alpha0  # evals  Notes \n",
      "     599       1054.31   0.000111351        88.657           1           1      810   \n",
      "    Iter      log prob        ||dx||      ||grad||       alpha      alpha0  # evals  Notes \n"
     ]
    },
    {
     "name": "stderr",
     "output_type": "stream",
     "text": [
      "/home/jonathan/anaconda3/lib/python3.9/site-packages/fbprophet/forecaster.py:891: FutureWarning: The frame.append method is deprecated and will be removed from pandas in a future version. Use pandas.concat instead.\n",
      "  components = components.append(new_comp)\n",
      "/home/jonathan/anaconda3/lib/python3.9/site-packages/fbprophet/forecaster.py:891: FutureWarning: The frame.append method is deprecated and will be removed from pandas in a future version. Use pandas.concat instead.\n",
      "  components = components.append(new_comp)\n"
     ]
    },
    {
     "name": "stdout",
     "output_type": "stream",
     "text": [
      "     694       1054.37   1.18494e-05       79.9982   1.285e-07       0.001      967  LS failed, Hessian reset \n",
      "     699       1054.37   1.06352e-06       68.5754      0.2313      0.2313      976   \n",
      "    Iter      log prob        ||dx||      ||grad||       alpha      alpha0  # evals  Notes \n",
      "     799        1054.4   4.76767e-06       87.8355           1           1     1090   \n",
      "    Iter      log prob        ||dx||      ||grad||       alpha      alpha0  # evals  Notes \n",
      "     826        1054.4   1.20215e-07       87.1358           1           1     1127   \n",
      "Optimization terminated normally: \n",
      "  Convergence detected: relative gradient magnitude is below tolerance\n"
     ]
    },
    {
     "name": "stderr",
     "output_type": "stream",
     "text": [
      "WARNING:prophet:Seasonality has period of 30.5 days which is larger than initial window. Consider increasing initial.\n",
      "INFO:prophet:Applying in parallel with <concurrent.futures.process.ProcessPoolExecutor object at 0x7f4f4c7cf580>\n",
      "/home/jonathan/anaconda3/lib/python3.9/site-packages/fbprophet/forecaster.py:891: FutureWarning: The frame.append method is deprecated and will be removed from pandas in a future version. Use pandas.concat instead.\n",
      "  components = components.append(new_comp)\n"
     ]
    },
    {
     "name": "stdout",
     "output_type": "stream",
     "text": [
      "Initial log joint probability = -27.9699\n",
      "    Iter      log prob        ||dx||      ||grad||       alpha      alpha0  # evals  Notes \n",
      "      99       1052.13    0.00398196       80.1361           1           1      112   \n",
      "    Iter      log prob        ||dx||      ||grad||       alpha      alpha0  # evals  Notes \n",
      "     144       1053.26   0.000735521       84.0296   7.284e-06       0.001      197  LS failed, Hessian reset \n",
      "     199        1053.8    0.00474835       129.163           1           1      260   \n",
      "    Iter      log prob        ||dx||      ||grad||       alpha      alpha0  # evals  Notes \n",
      "     299       1054.37   5.73005e-05       80.2807      0.3133      0.8155      373   \n",
      "    Iter      log prob        ||dx||      ||grad||       alpha      alpha0  # evals  Notes \n",
      "     399       1055.02     0.0078008       82.7524           1           1      486   \n",
      "    Iter      log prob        ||dx||      ||grad||       alpha      alpha0  # evals  Notes \n",
      "     410       1055.63    0.00148999       110.101   1.779e-05       0.001      545  LS failed, Hessian reset \n",
      "     499       1056.22   8.80038e-06       72.1766      0.6703      0.6703      656   \n",
      "    Iter      log prob        ||dx||      ||grad||       alpha      alpha0  # evals  Notes \n",
      "     599        1056.3   4.48032e-05       68.6684       0.435       0.435      777   \n",
      "    Iter      log prob        ||dx||      ||grad||       alpha      alpha0  # evals  Notes \n",
      "     699       1056.83   0.000785958       90.0683           1           1      898   \n",
      "    Iter      log prob        ||dx||      ||grad||       alpha      alpha0  # evals  Notes \n"
     ]
    },
    {
     "name": "stderr",
     "output_type": "stream",
     "text": [
      "/home/jonathan/anaconda3/lib/python3.9/site-packages/fbprophet/forecaster.py:891: FutureWarning: The frame.append method is deprecated and will be removed from pandas in a future version. Use pandas.concat instead.\n",
      "  components = components.append(new_comp)\n",
      "/home/jonathan/anaconda3/lib/python3.9/site-packages/fbprophet/forecaster.py:891: FutureWarning: The frame.append method is deprecated and will be removed from pandas in a future version. Use pandas.concat instead.\n",
      "  components = components.append(new_comp)\n"
     ]
    },
    {
     "name": "stdout",
     "output_type": "stream",
     "text": [
      "     799       1057.28   3.45705e-06       69.7421      0.4045           1     1016   \n",
      "    Iter      log prob        ||dx||      ||grad||       alpha      alpha0  # evals  Notes \n",
      "     833       1057.28   2.76885e-08       84.3958     0.05911           1     1056   \n",
      "Optimization terminated normally: \n",
      "  Convergence detected: relative gradient magnitude is below tolerance\n"
     ]
    },
    {
     "name": "stderr",
     "output_type": "stream",
     "text": [
      "WARNING:prophet:Seasonality has period of 30.5 days which is larger than initial window. Consider increasing initial.\n",
      "INFO:prophet:Applying in parallel with <concurrent.futures.process.ProcessPoolExecutor object at 0x7f4f4d7fd220>\n",
      "/home/jonathan/anaconda3/lib/python3.9/site-packages/fbprophet/forecaster.py:891: FutureWarning: The frame.append method is deprecated and will be removed from pandas in a future version. Use pandas.concat instead.\n",
      "  components = components.append(new_comp)\n"
     ]
    },
    {
     "name": "stdout",
     "output_type": "stream",
     "text": [
      "Initial log joint probability = -28.6668\n",
      "    Iter      log prob        ||dx||      ||grad||       alpha      alpha0  # evals  Notes \n",
      "      99       1053.23    0.00531759        93.205           1           1      122   \n",
      "    Iter      log prob        ||dx||      ||grad||       alpha      alpha0  # evals  Notes \n",
      "     199       1055.68     0.0003937       86.5055           1           1      244   \n",
      "    Iter      log prob        ||dx||      ||grad||       alpha      alpha0  # evals  Notes \n",
      "     286       1057.63    0.00108028       124.517   7.517e-06       0.001      377  LS failed, Hessian reset \n",
      "     299       1057.91   0.000542772       73.6706           1           1      392   \n",
      "    Iter      log prob        ||dx||      ||grad||       alpha      alpha0  # evals  Notes \n"
     ]
    },
    {
     "name": "stderr",
     "output_type": "stream",
     "text": [
      "/home/jonathan/anaconda3/lib/python3.9/site-packages/fbprophet/forecaster.py:891: FutureWarning: The frame.append method is deprecated and will be removed from pandas in a future version. Use pandas.concat instead.\n",
      "  components = components.append(new_comp)\n",
      "/home/jonathan/anaconda3/lib/python3.9/site-packages/fbprophet/forecaster.py:891: FutureWarning: The frame.append method is deprecated and will be removed from pandas in a future version. Use pandas.concat instead.\n",
      "  components = components.append(new_comp)\n"
     ]
    },
    {
     "name": "stdout",
     "output_type": "stream",
     "text": [
      "     399       1058.04   1.19343e-06       83.3284           1           1      515   \n",
      "    Iter      log prob        ||dx||      ||grad||       alpha      alpha0  # evals  Notes \n",
      "     495       1058.05   1.94195e-08       70.9192      0.3347      0.3347      632   \n",
      "Optimization terminated normally: \n",
      "  Convergence detected: relative gradient magnitude is below tolerance\n"
     ]
    },
    {
     "name": "stderr",
     "output_type": "stream",
     "text": [
      "WARNING:prophet:Seasonality has period of 30.5 days which is larger than initial window. Consider increasing initial.\n",
      "INFO:prophet:Applying in parallel with <concurrent.futures.process.ProcessPoolExecutor object at 0x7f4f4d80e0d0>\n",
      "/home/jonathan/anaconda3/lib/python3.9/site-packages/fbprophet/forecaster.py:891: FutureWarning: The frame.append method is deprecated and will be removed from pandas in a future version. Use pandas.concat instead.\n",
      "  components = components.append(new_comp)\n"
     ]
    },
    {
     "name": "stdout",
     "output_type": "stream",
     "text": [
      "Initial log joint probability = -43.7499\n",
      "    Iter      log prob        ||dx||      ||grad||       alpha      alpha0  # evals  Notes \n",
      "      99        1068.7    0.00159233        142.98      0.7266      0.7266      127   \n",
      "    Iter      log prob        ||dx||      ||grad||       alpha      alpha0  # evals  Notes \n",
      "     199       1072.61    0.00320997       87.4019           1           1      254   \n",
      "    Iter      log prob        ||dx||      ||grad||       alpha      alpha0  # evals  Notes \n",
      "     299       1075.82   0.000115392       85.1171      0.1713      0.1713      380   \n",
      "    Iter      log prob        ||dx||      ||grad||       alpha      alpha0  # evals  Notes \n",
      "     335       1075.99   0.000132642       92.9525   1.384e-06       0.001      460  LS failed, Hessian reset \n",
      "     399       1076.03   2.72022e-05       65.4671           1           1      537   \n",
      "    Iter      log prob        ||dx||      ||grad||       alpha      alpha0  # evals  Notes \n",
      "     499       1076.05   4.89134e-06        79.916           1           1      666   \n",
      "    Iter      log prob        ||dx||      ||grad||       alpha      alpha0  # evals  Notes \n",
      "     599       1076.08   6.42639e-05       98.0159           1           1      785   \n",
      "    Iter      log prob        ||dx||      ||grad||       alpha      alpha0  # evals  Notes \n",
      "     623       1076.08   5.43484e-08       83.9631      0.9015      0.9015      814   \n",
      "Optimization terminated normally: \n",
      "  Convergence detected: relative gradient magnitude is below tolerance\n"
     ]
    },
    {
     "name": "stderr",
     "output_type": "stream",
     "text": [
      "/home/jonathan/anaconda3/lib/python3.9/site-packages/fbprophet/forecaster.py:891: FutureWarning: The frame.append method is deprecated and will be removed from pandas in a future version. Use pandas.concat instead.\n",
      "  components = components.append(new_comp)\n",
      "/home/jonathan/anaconda3/lib/python3.9/site-packages/fbprophet/forecaster.py:891: FutureWarning: The frame.append method is deprecated and will be removed from pandas in a future version. Use pandas.concat instead.\n",
      "  components = components.append(new_comp)\n",
      "WARNING:prophet:Seasonality has period of 30.5 days which is larger than initial window. Consider increasing initial.\n",
      "INFO:prophet:Applying in parallel with <concurrent.futures.process.ProcessPoolExecutor object at 0x7f4f4d7fdbb0>\n",
      "/home/jonathan/anaconda3/lib/python3.9/site-packages/fbprophet/forecaster.py:891: FutureWarning: The frame.append method is deprecated and will be removed from pandas in a future version. Use pandas.concat instead.\n",
      "  components = components.append(new_comp)\n"
     ]
    },
    {
     "name": "stdout",
     "output_type": "stream",
     "text": [
      "Initial log joint probability = -17.654\n",
      "    Iter      log prob        ||dx||      ||grad||       alpha      alpha0  # evals  Notes \n",
      "      99          1073    0.00468992       167.889      0.5106      0.5106      116   \n",
      "    Iter      log prob        ||dx||      ||grad||       alpha      alpha0  # evals  Notes \n",
      "     136        1074.3    0.00118854       92.7713   1.407e-05       0.001      200  LS failed, Hessian reset \n",
      "     197       1074.61   0.000109532       84.0728   1.616e-06       0.001      306  LS failed, Hessian reset \n",
      "     199       1074.61   7.04602e-05       75.6717           1           1      308   \n",
      "    Iter      log prob        ||dx||      ||grad||       alpha      alpha0  # evals  Notes \n",
      "     299       1074.74   0.000731907        77.712           1           1      422   \n",
      "    Iter      log prob        ||dx||      ||grad||       alpha      alpha0  # evals  Notes \n",
      "     322       1075.28    0.00342616        241.82   3.114e-05       0.001      479  LS failed, Hessian reset \n",
      "     399       1075.89   0.000150243       94.6467           1           1      569   \n",
      "    Iter      log prob        ||dx||      ||grad||       alpha      alpha0  # evals  Notes \n",
      "     404        1075.9   0.000113718       84.2281   1.333e-06       0.001      610  LS failed, Hessian reset \n",
      "     499       1075.94   3.22804e-05       85.0356      0.6495      0.6495      729   \n",
      "    Iter      log prob        ||dx||      ||grad||       alpha      alpha0  # evals  Notes \n",
      "     584       1076.06   0.000175704       87.4851   1.835e-06       0.001      865  LS failed, Hessian reset \n",
      "     599       1076.12   0.000208891       72.4985      0.3747           1      884   \n",
      "    Iter      log prob        ||dx||      ||grad||       alpha      alpha0  # evals  Notes \n",
      "     699       1076.22   1.88021e-05        101.02     0.03206           1      999   \n",
      "    Iter      log prob        ||dx||      ||grad||       alpha      alpha0  # evals  Notes \n",
      "     799       1076.32   0.000242124       85.0826      0.9069      0.9069     1121   \n",
      "    Iter      log prob        ||dx||      ||grad||       alpha      alpha0  # evals  Notes \n",
      "     822        1076.6   0.000980169       95.4451   9.769e-06       0.001     1202  LS failed, Hessian reset \n",
      "     899       1077.02   5.05541e-05       75.8522           1           1     1294   \n",
      "    Iter      log prob        ||dx||      ||grad||       alpha      alpha0  # evals  Notes \n"
     ]
    },
    {
     "name": "stderr",
     "output_type": "stream",
     "text": [
      "/home/jonathan/anaconda3/lib/python3.9/site-packages/fbprophet/forecaster.py:891: FutureWarning: The frame.append method is deprecated and will be removed from pandas in a future version. Use pandas.concat instead.\n",
      "  components = components.append(new_comp)\n",
      "/home/jonathan/anaconda3/lib/python3.9/site-packages/fbprophet/forecaster.py:891: FutureWarning: The frame.append method is deprecated and will be removed from pandas in a future version. Use pandas.concat instead.\n",
      "  components = components.append(new_comp)\n"
     ]
    },
    {
     "name": "stdout",
     "output_type": "stream",
     "text": [
      "     999       1077.05   4.70102e-05       84.2389   5.527e-07       0.001     1452  LS failed, Hessian reset \n",
      "    Iter      log prob        ||dx||      ||grad||       alpha      alpha0  # evals  Notes \n",
      "    1099       1077.06   3.47199e-05        70.543           1           1     1572   \n",
      "    Iter      log prob        ||dx||      ||grad||       alpha      alpha0  # evals  Notes \n",
      "    1167       1077.06   1.45675e-07       84.2399     0.06425           1     1660   \n",
      "Optimization terminated normally: \n",
      "  Convergence detected: relative gradient magnitude is below tolerance\n"
     ]
    },
    {
     "name": "stderr",
     "output_type": "stream",
     "text": [
      "WARNING:prophet:Seasonality has period of 30.5 days which is larger than initial window. Consider increasing initial.\n",
      "INFO:prophet:Applying in parallel with <concurrent.futures.process.ProcessPoolExecutor object at 0x7f4f4d713b50>\n",
      "/home/jonathan/anaconda3/lib/python3.9/site-packages/fbprophet/forecaster.py:891: FutureWarning: The frame.append method is deprecated and will be removed from pandas in a future version. Use pandas.concat instead.\n",
      "  components = components.append(new_comp)\n"
     ]
    },
    {
     "name": "stdout",
     "output_type": "stream",
     "text": [
      "Initial log joint probability = -24.6768\n",
      "    Iter      log prob        ||dx||      ||grad||       alpha      alpha0  # evals  Notes \n",
      "      99       1073.15    0.00990517       78.1079           1           1      119   \n",
      "    Iter      log prob        ||dx||      ||grad||       alpha      alpha0  # evals  Notes \n",
      "     199        1077.4    0.00290375       91.7686           1           1      234   \n",
      "    Iter      log prob        ||dx||      ||grad||       alpha      alpha0  # evals  Notes \n",
      "     299        1078.8   0.000360676       95.1629           1           1      350   \n",
      "    Iter      log prob        ||dx||      ||grad||       alpha      alpha0  # evals  Notes \n"
     ]
    },
    {
     "name": "stderr",
     "output_type": "stream",
     "text": [
      "/home/jonathan/anaconda3/lib/python3.9/site-packages/fbprophet/forecaster.py:891: FutureWarning: The frame.append method is deprecated and will be removed from pandas in a future version. Use pandas.concat instead.\n",
      "  components = components.append(new_comp)\n",
      "/home/jonathan/anaconda3/lib/python3.9/site-packages/fbprophet/forecaster.py:891: FutureWarning: The frame.append method is deprecated and will be removed from pandas in a future version. Use pandas.concat instead.\n",
      "  components = components.append(new_comp)\n"
     ]
    },
    {
     "name": "stdout",
     "output_type": "stream",
     "text": [
      "     399       1079.03   9.97591e-06         84.24           1           1      469   \n",
      "    Iter      log prob        ||dx||      ||grad||       alpha      alpha0  # evals  Notes \n",
      "     412       1079.03   6.89967e-06       83.9069   6.848e-08       0.001      524  LS failed, Hessian reset \n",
      "     436       1079.03   9.60283e-08       80.1595           1           1      556   \n",
      "Optimization terminated normally: \n",
      "  Convergence detected: relative gradient magnitude is below tolerance\n"
     ]
    },
    {
     "name": "stderr",
     "output_type": "stream",
     "text": [
      "WARNING:prophet:Seasonality has period of 30.5 days which is larger than initial window. Consider increasing initial.\n",
      "INFO:prophet:Applying in parallel with <concurrent.futures.process.ProcessPoolExecutor object at 0x7f4f4d99a250>\n",
      "/home/jonathan/anaconda3/lib/python3.9/site-packages/fbprophet/forecaster.py:891: FutureWarning: The frame.append method is deprecated and will be removed from pandas in a future version. Use pandas.concat instead.\n",
      "  components = components.append(new_comp)\n"
     ]
    },
    {
     "name": "stdout",
     "output_type": "stream",
     "text": [
      "Initial log joint probability = -17.0491\n",
      "    Iter      log prob        ||dx||      ||grad||       alpha      alpha0  # evals  Notes \n",
      "      99       1077.45    0.00890022       88.5762      0.4446           1      120   \n",
      "    Iter      log prob        ||dx||      ||grad||       alpha      alpha0  # evals  Notes \n",
      "     128       1078.38   0.000916221       71.1913   1.259e-05       0.001      187  LS failed, Hessian reset \n",
      "     199       1078.97    0.00072005       78.3968      0.8133      0.8133      271   \n",
      "    Iter      log prob        ||dx||      ||grad||       alpha      alpha0  # evals  Notes \n",
      "     299        1079.9   4.45758e-05       90.3433      0.5227      0.5227      391   \n",
      "    Iter      log prob        ||dx||      ||grad||       alpha      alpha0  # evals  Notes \n"
     ]
    },
    {
     "name": "stderr",
     "output_type": "stream",
     "text": [
      "/home/jonathan/anaconda3/lib/python3.9/site-packages/fbprophet/forecaster.py:891: FutureWarning: The frame.append method is deprecated and will be removed from pandas in a future version. Use pandas.concat instead.\n",
      "  components = components.append(new_comp)\n",
      "/home/jonathan/anaconda3/lib/python3.9/site-packages/fbprophet/forecaster.py:891: FutureWarning: The frame.append method is deprecated and will be removed from pandas in a future version. Use pandas.concat instead.\n",
      "  components = components.append(new_comp)\n"
     ]
    },
    {
     "name": "stdout",
     "output_type": "stream",
     "text": [
      "     399       1079.99   7.42929e-06        86.041           1           1      510   \n",
      "    Iter      log prob        ||dx||      ||grad||       alpha      alpha0  # evals  Notes \n",
      "     451       1079.99   7.19495e-06       83.6957   7.894e-08       0.001      614  LS failed, Hessian reset \n",
      "     496       1079.99   6.35662e-08        70.243      0.3043           1      671   \n",
      "Optimization terminated normally: \n",
      "  Convergence detected: relative gradient magnitude is below tolerance\n"
     ]
    },
    {
     "name": "stderr",
     "output_type": "stream",
     "text": [
      "WARNING:prophet:Seasonality has period of 30.5 days which is larger than initial window. Consider increasing initial.\n",
      "INFO:prophet:Applying in parallel with <concurrent.futures.process.ProcessPoolExecutor object at 0x7f4f4d234ee0>\n",
      "/home/jonathan/anaconda3/lib/python3.9/site-packages/fbprophet/forecaster.py:891: FutureWarning: The frame.append method is deprecated and will be removed from pandas in a future version. Use pandas.concat instead.\n",
      "  components = components.append(new_comp)\n",
      "/home/jonathan/anaconda3/lib/python3.9/site-packages/fbprophet/forecaster.py:891: FutureWarning: The frame.append method is deprecated and will be removed from pandas in a future version. Use pandas.concat instead.\n",
      "  components = components.append(new_comp)\n"
     ]
    },
    {
     "name": "stdout",
     "output_type": "stream",
     "text": [
      "Initial log joint probability = -27.2462\n",
      "    Iter      log prob        ||dx||      ||grad||       alpha      alpha0  # evals  Notes \n",
      "      99       1434.99   0.000301928        86.166           1           1      128   \n",
      "    Iter      log prob        ||dx||      ||grad||       alpha      alpha0  # evals  Notes \n",
      "     193       1435.71   3.79408e-08       83.0784      0.5161      0.5161      236   \n",
      "Optimization terminated normally: \n",
      "  Convergence detected: relative gradient magnitude is below tolerance\n"
     ]
    },
    {
     "name": "stderr",
     "output_type": "stream",
     "text": [
      "/home/jonathan/anaconda3/lib/python3.9/site-packages/fbprophet/forecaster.py:891: FutureWarning: The frame.append method is deprecated and will be removed from pandas in a future version. Use pandas.concat instead.\n",
      "  components = components.append(new_comp)\n",
      "WARNING:prophet:Seasonality has period of 30.5 days which is larger than initial window. Consider increasing initial.\n",
      "INFO:prophet:Applying in parallel with <concurrent.futures.process.ProcessPoolExecutor object at 0x7f4f4c7cf0d0>\n",
      "/home/jonathan/anaconda3/lib/python3.9/site-packages/fbprophet/forecaster.py:891: FutureWarning: The frame.append method is deprecated and will be removed from pandas in a future version. Use pandas.concat instead.\n",
      "  components = components.append(new_comp)\n"
     ]
    },
    {
     "name": "stdout",
     "output_type": "stream",
     "text": [
      "Initial log joint probability = -26.5408\n",
      "    Iter      log prob        ||dx||      ||grad||       alpha      alpha0  # evals  Notes \n",
      "      99       1437.44   0.000861844       106.744           1           1      128   \n",
      "    Iter      log prob        ||dx||      ||grad||       alpha      alpha0  # evals  Notes \n",
      "     156       1438.15   2.71081e-05       76.0748   3.531e-07       0.001      228  LS failed, Hessian reset \n",
      "     199       1438.18   2.31876e-07       72.2175      0.4452      0.4452      278   \n",
      "    Iter      log prob        ||dx||      ||grad||       alpha      alpha0  # evals  Notes \n",
      "     248       1438.18   4.50656e-08       95.0128      0.3965           1      345   \n",
      "Optimization terminated normally: \n",
      "  Convergence detected: relative gradient magnitude is below tolerance\n"
     ]
    },
    {
     "name": "stderr",
     "output_type": "stream",
     "text": [
      "/home/jonathan/anaconda3/lib/python3.9/site-packages/fbprophet/forecaster.py:891: FutureWarning: The frame.append method is deprecated and will be removed from pandas in a future version. Use pandas.concat instead.\n",
      "  components = components.append(new_comp)\n",
      "/home/jonathan/anaconda3/lib/python3.9/site-packages/fbprophet/forecaster.py:891: FutureWarning: The frame.append method is deprecated and will be removed from pandas in a future version. Use pandas.concat instead.\n",
      "  components = components.append(new_comp)\n",
      "WARNING:prophet:Seasonality has period of 30.5 days which is larger than initial window. Consider increasing initial.\n",
      "INFO:prophet:Applying in parallel with <concurrent.futures.process.ProcessPoolExecutor object at 0x7f4f4d7fdee0>\n",
      "/home/jonathan/anaconda3/lib/python3.9/site-packages/fbprophet/forecaster.py:891: FutureWarning: The frame.append method is deprecated and will be removed from pandas in a future version. Use pandas.concat instead.\n",
      "  components = components.append(new_comp)\n"
     ]
    },
    {
     "name": "stdout",
     "output_type": "stream",
     "text": [
      "Initial log joint probability = -33.5452\n",
      "    Iter      log prob        ||dx||      ||grad||       alpha      alpha0  # evals  Notes \n",
      "      99       1440.09   2.30894e-05       84.5449        0.76        0.76      130   \n",
      "    Iter      log prob        ||dx||      ||grad||       alpha      alpha0  # evals  Notes \n",
      "     199       1440.56   5.51011e-05       99.3189      0.5355      0.5355      251   \n",
      "    Iter      log prob        ||dx||      ||grad||       alpha      alpha0  # evals  Notes \n"
     ]
    },
    {
     "name": "stderr",
     "output_type": "stream",
     "text": [
      "/home/jonathan/anaconda3/lib/python3.9/site-packages/fbprophet/forecaster.py:891: FutureWarning: The frame.append method is deprecated and will be removed from pandas in a future version. Use pandas.concat instead.\n",
      "  components = components.append(new_comp)\n",
      "/home/jonathan/anaconda3/lib/python3.9/site-packages/fbprophet/forecaster.py:891: FutureWarning: The frame.append method is deprecated and will be removed from pandas in a future version. Use pandas.concat instead.\n",
      "  components = components.append(new_comp)\n"
     ]
    },
    {
     "name": "stdout",
     "output_type": "stream",
     "text": [
      "     299       1440.62   8.97018e-05       89.3925           1           1      375   \n",
      "    Iter      log prob        ||dx||      ||grad||       alpha      alpha0  # evals  Notes \n",
      "     369       1440.63   3.65505e-08       79.4708      0.3799           1      464   \n",
      "Optimization terminated normally: \n",
      "  Convergence detected: relative gradient magnitude is below tolerance\n"
     ]
    },
    {
     "name": "stderr",
     "output_type": "stream",
     "text": [
      "WARNING:prophet:Seasonality has period of 30.5 days which is larger than initial window. Consider increasing initial.\n",
      "INFO:prophet:Applying in parallel with <concurrent.futures.process.ProcessPoolExecutor object at 0x7f4f4c7cf850>\n",
      "/home/jonathan/anaconda3/lib/python3.9/site-packages/fbprophet/forecaster.py:891: FutureWarning: The frame.append method is deprecated and will be removed from pandas in a future version. Use pandas.concat instead.\n",
      "  components = components.append(new_comp)\n"
     ]
    },
    {
     "name": "stdout",
     "output_type": "stream",
     "text": [
      "Initial log joint probability = -35.7559\n",
      "    Iter      log prob        ||dx||      ||grad||       alpha      alpha0  # evals  Notes \n",
      "      66       1442.43    0.00105301       202.545   1.078e-05       0.001      114  LS failed, Hessian reset \n",
      "      99       1442.72    4.9435e-06       79.9779      0.3807      0.3807      152   \n",
      "    Iter      log prob        ||dx||      ||grad||       alpha      alpha0  # evals  Notes \n",
      "     199       1442.76   0.000261409        92.811        0.49        0.49      273   \n",
      "    Iter      log prob        ||dx||      ||grad||       alpha      alpha0  # evals  Notes \n",
      "     245       1442.98   8.27535e-05       82.8462   9.381e-07       0.001      408  LS failed, Hessian reset \n",
      "     299       1443.07   6.95832e-05       81.5712           1           1      469   \n",
      "    Iter      log prob        ||dx||      ||grad||       alpha      alpha0  # evals  Notes \n",
      "     365       1443.08   9.40318e-06       95.1984   9.788e-08       0.001      591  LS failed, Hessian reset \n",
      "     399       1443.09   2.83328e-05       99.7657      0.5777      0.5777      629   \n",
      "    Iter      log prob        ||dx||      ||grad||       alpha      alpha0  # evals  Notes \n",
      "     456       1443.09   6.09918e-08       82.4158      0.3455           1      708   \n",
      "Optimization terminated normally: \n",
      "  Convergence detected: relative gradient magnitude is below tolerance\n"
     ]
    },
    {
     "name": "stderr",
     "output_type": "stream",
     "text": [
      "/home/jonathan/anaconda3/lib/python3.9/site-packages/fbprophet/forecaster.py:891: FutureWarning: The frame.append method is deprecated and will be removed from pandas in a future version. Use pandas.concat instead.\n",
      "  components = components.append(new_comp)\n",
      "/home/jonathan/anaconda3/lib/python3.9/site-packages/fbprophet/forecaster.py:891: FutureWarning: The frame.append method is deprecated and will be removed from pandas in a future version. Use pandas.concat instead.\n",
      "  components = components.append(new_comp)\n",
      "WARNING:prophet:Seasonality has period of 30.5 days which is larger than initial window. Consider increasing initial.\n",
      "INFO:prophet:Applying in parallel with <concurrent.futures.process.ProcessPoolExecutor object at 0x7f4f4d234ee0>\n",
      "/home/jonathan/anaconda3/lib/python3.9/site-packages/fbprophet/forecaster.py:891: FutureWarning: The frame.append method is deprecated and will be removed from pandas in a future version. Use pandas.concat instead.\n",
      "  components = components.append(new_comp)\n"
     ]
    },
    {
     "name": "stdout",
     "output_type": "stream",
     "text": [
      "Initial log joint probability = -31.1987\n",
      "    Iter      log prob        ||dx||      ||grad||       alpha      alpha0  # evals  Notes \n",
      "      99       1445.13    0.00334612       83.7079      0.8415      0.8415      125   \n",
      "    Iter      log prob        ||dx||      ||grad||       alpha      alpha0  # evals  Notes \n",
      "     121       1445.44   0.000493196       143.517   4.518e-06       0.001      183  LS failed, Hessian reset \n",
      "     199       1445.57   3.62148e-05       84.2898           1           1      280   \n",
      "    Iter      log prob        ||dx||      ||grad||       alpha      alpha0  # evals  Notes \n"
     ]
    },
    {
     "name": "stderr",
     "output_type": "stream",
     "text": [
      "/home/jonathan/anaconda3/lib/python3.9/site-packages/fbprophet/forecaster.py:891: FutureWarning: The frame.append method is deprecated and will be removed from pandas in a future version. Use pandas.concat instead.\n",
      "  components = components.append(new_comp)\n",
      "/home/jonathan/anaconda3/lib/python3.9/site-packages/fbprophet/forecaster.py:891: FutureWarning: The frame.append method is deprecated and will be removed from pandas in a future version. Use pandas.concat instead.\n",
      "  components = components.append(new_comp)\n"
     ]
    },
    {
     "name": "stdout",
     "output_type": "stream",
     "text": [
      "     287       1445.65   1.10413e-07       89.2627      0.2999      0.2999      394   \n",
      "Optimization terminated normally: \n",
      "  Convergence detected: relative gradient magnitude is below tolerance\n"
     ]
    },
    {
     "name": "stderr",
     "output_type": "stream",
     "text": [
      "WARNING:prophet:Seasonality has period of 30.5 days which is larger than initial window. Consider increasing initial.\n",
      "INFO:prophet:Applying in parallel with <concurrent.futures.process.ProcessPoolExecutor object at 0x7f4f4c7cf8e0>\n",
      "/home/jonathan/anaconda3/lib/python3.9/site-packages/fbprophet/forecaster.py:891: FutureWarning: The frame.append method is deprecated and will be removed from pandas in a future version. Use pandas.concat instead.\n",
      "  components = components.append(new_comp)\n"
     ]
    },
    {
     "name": "stdout",
     "output_type": "stream",
     "text": [
      "Initial log joint probability = -28.4626\n",
      "    Iter      log prob        ||dx||      ||grad||       alpha      alpha0  # evals  Notes \n",
      "      99       1447.55   0.000206117        72.847          10           1      120   \n",
      "    Iter      log prob        ||dx||      ||grad||       alpha      alpha0  # evals  Notes \n",
      "     150       1447.94   0.000631161       106.088   7.082e-06       0.001      220  LS failed, Hessian reset \n",
      "     199       1448.06   4.43487e-05         87.83           1           1      277   \n",
      "    Iter      log prob        ||dx||      ||grad||       alpha      alpha0  # evals  Notes \n"
     ]
    },
    {
     "name": "stderr",
     "output_type": "stream",
     "text": [
      "/home/jonathan/anaconda3/lib/python3.9/site-packages/fbprophet/forecaster.py:891: FutureWarning: The frame.append method is deprecated and will be removed from pandas in a future version. Use pandas.concat instead.\n",
      "  components = components.append(new_comp)\n",
      "/home/jonathan/anaconda3/lib/python3.9/site-packages/fbprophet/forecaster.py:891: FutureWarning: The frame.append method is deprecated and will be removed from pandas in a future version. Use pandas.concat instead.\n",
      "  components = components.append(new_comp)\n"
     ]
    },
    {
     "name": "stdout",
     "output_type": "stream",
     "text": [
      "     299       1448.09   1.20488e-06       83.8902           1           1      404   \n",
      "    Iter      log prob        ||dx||      ||grad||       alpha      alpha0  # evals  Notes \n",
      "     380       1448.09   2.30034e-08       79.9064      0.1632           1      505   \n",
      "Optimization terminated normally: \n",
      "  Convergence detected: relative gradient magnitude is below tolerance\n"
     ]
    },
    {
     "name": "stderr",
     "output_type": "stream",
     "text": [
      "WARNING:prophet:Seasonality has period of 30.5 days which is larger than initial window. Consider increasing initial.\n",
      "INFO:prophet:Applying in parallel with <concurrent.futures.process.ProcessPoolExecutor object at 0x7f4f4d80e700>\n",
      "/home/jonathan/anaconda3/lib/python3.9/site-packages/fbprophet/forecaster.py:891: FutureWarning: The frame.append method is deprecated and will be removed from pandas in a future version. Use pandas.concat instead.\n",
      "  components = components.append(new_comp)\n"
     ]
    },
    {
     "name": "stdout",
     "output_type": "stream",
     "text": [
      "Initial log joint probability = -28.9983\n",
      "    Iter      log prob        ||dx||      ||grad||       alpha      alpha0  # evals  Notes \n",
      "      99       1450.04   1.67006e-05       88.9512      0.4954      0.4954      127   \n",
      "    Iter      log prob        ||dx||      ||grad||       alpha      alpha0  # evals  Notes \n",
      "     199       1450.45   6.81666e-05       79.6327           1           1      249   \n",
      "    Iter      log prob        ||dx||      ||grad||       alpha      alpha0  # evals  Notes \n"
     ]
    },
    {
     "name": "stderr",
     "output_type": "stream",
     "text": [
      "/home/jonathan/anaconda3/lib/python3.9/site-packages/fbprophet/forecaster.py:891: FutureWarning: The frame.append method is deprecated and will be removed from pandas in a future version. Use pandas.concat instead.\n",
      "  components = components.append(new_comp)\n",
      "/home/jonathan/anaconda3/lib/python3.9/site-packages/fbprophet/forecaster.py:891: FutureWarning: The frame.append method is deprecated and will be removed from pandas in a future version. Use pandas.concat instead.\n",
      "  components = components.append(new_comp)\n"
     ]
    },
    {
     "name": "stdout",
     "output_type": "stream",
     "text": [
      "     299       1450.49   5.31228e-05       80.8764      0.3077      0.3077      370   \n",
      "    Iter      log prob        ||dx||      ||grad||       alpha      alpha0  # evals  Notes \n",
      "     361        1450.5   2.47543e-08       66.1312      0.1476           1      464   \n",
      "Optimization terminated normally: \n",
      "  Convergence detected: relative gradient magnitude is below tolerance\n"
     ]
    },
    {
     "name": "stderr",
     "output_type": "stream",
     "text": [
      "WARNING:prophet:Seasonality has period of 30.5 days which is larger than initial window. Consider increasing initial.\n",
      "INFO:prophet:Applying in parallel with <concurrent.futures.process.ProcessPoolExecutor object at 0x7f4f4d99a280>\n",
      "/home/jonathan/anaconda3/lib/python3.9/site-packages/fbprophet/forecaster.py:891: FutureWarning: The frame.append method is deprecated and will be removed from pandas in a future version. Use pandas.concat instead.\n",
      "  components = components.append(new_comp)\n"
     ]
    },
    {
     "name": "stdout",
     "output_type": "stream",
     "text": [
      "Initial log joint probability = -16.324\n",
      "    Iter      log prob        ||dx||      ||grad||       alpha      alpha0  # evals  Notes \n",
      "      99       1451.78    0.00177961       97.5519      0.6495      0.6495      121   \n",
      "    Iter      log prob        ||dx||      ||grad||       alpha      alpha0  # evals  Notes \n",
      "     199        1452.1   1.09264e-06        83.729           1           1      243   \n",
      "    Iter      log prob        ||dx||      ||grad||       alpha      alpha0  # evals  Notes \n",
      "     299       1452.53   0.000684844       93.2201   6.957e-06       0.001      411  LS failed, Hessian reset \n",
      "    Iter      log prob        ||dx||      ||grad||       alpha      alpha0  # evals  Notes \n",
      "     399       1452.79   0.000580253       86.1384      0.7909      0.7909      530   \n",
      "    Iter      log prob        ||dx||      ||grad||       alpha      alpha0  # evals  Notes \n",
      "     499       1452.89   8.58009e-05       76.4475           1           1      649   \n",
      "    Iter      log prob        ||dx||      ||grad||       alpha      alpha0  # evals  Notes \n",
      "     543       1452.89   1.96286e-07       84.6502           1           1      705   \n",
      "Optimization terminated normally: \n",
      "  Convergence detected: relative gradient magnitude is below tolerance\n"
     ]
    },
    {
     "name": "stderr",
     "output_type": "stream",
     "text": [
      "/home/jonathan/anaconda3/lib/python3.9/site-packages/fbprophet/forecaster.py:891: FutureWarning: The frame.append method is deprecated and will be removed from pandas in a future version. Use pandas.concat instead.\n",
      "  components = components.append(new_comp)\n",
      "/home/jonathan/anaconda3/lib/python3.9/site-packages/fbprophet/forecaster.py:891: FutureWarning: The frame.append method is deprecated and will be removed from pandas in a future version. Use pandas.concat instead.\n",
      "  components = components.append(new_comp)\n",
      "WARNING:prophet:Seasonality has period of 30.5 days which is larger than initial window. Consider increasing initial.\n",
      "INFO:prophet:Applying in parallel with <concurrent.futures.process.ProcessPoolExecutor object at 0x7f4f4c7d7340>\n",
      "/home/jonathan/anaconda3/lib/python3.9/site-packages/fbprophet/forecaster.py:891: FutureWarning: The frame.append method is deprecated and will be removed from pandas in a future version. Use pandas.concat instead.\n",
      "  components = components.append(new_comp)\n"
     ]
    },
    {
     "name": "stdout",
     "output_type": "stream",
     "text": [
      "Initial log joint probability = -24.8275\n",
      "    Iter      log prob        ||dx||      ||grad||       alpha      alpha0  # evals  Notes \n",
      "      99       1451.82   0.000119109       76.2901      0.2784      0.2784      123   \n",
      "    Iter      log prob        ||dx||      ||grad||       alpha      alpha0  # evals  Notes \n",
      "     199       1453.14   0.000694479       89.1767           1           1      230   \n",
      "    Iter      log prob        ||dx||      ||grad||       alpha      alpha0  # evals  Notes \n",
      "     299       1453.34   3.17231e-05       73.8571           1           1      348   \n",
      "    Iter      log prob        ||dx||      ||grad||       alpha      alpha0  # evals  Notes \n",
      "     399       1454.19    0.00413714       93.1209     0.06309           1      462   \n",
      "    Iter      log prob        ||dx||      ||grad||       alpha      alpha0  # evals  Notes \n",
      "     402       1454.24    0.00096523       101.695   1.008e-05       0.001      512  LS failed, Hessian reset \n",
      "     499       1454.84   7.96361e-05       96.8403           1           1      626   \n",
      "    Iter      log prob        ||dx||      ||grad||       alpha      alpha0  # evals  Notes \n",
      "     599       1455.02      6.68e-05       97.9957      0.3763           1      743   \n",
      "    Iter      log prob        ||dx||      ||grad||       alpha      alpha0  # evals  Notes \n",
      "     687       1455.13   7.29542e-05       90.7048   8.493e-07       0.001      937  LS failed, Hessian reset \n",
      "     699       1455.14   8.35401e-06       87.4084      0.2415           1      954   \n",
      "    Iter      log prob        ||dx||      ||grad||       alpha      alpha0  # evals  Notes \n",
      "     799       1455.15   1.73359e-07       93.9148           1           1     1073   \n",
      "Optimization terminated normally: \n",
      "  Convergence detected: relative gradient magnitude is below tolerance\n"
     ]
    },
    {
     "name": "stderr",
     "output_type": "stream",
     "text": [
      "/home/jonathan/anaconda3/lib/python3.9/site-packages/fbprophet/forecaster.py:891: FutureWarning: The frame.append method is deprecated and will be removed from pandas in a future version. Use pandas.concat instead.\n",
      "  components = components.append(new_comp)\n",
      "/home/jonathan/anaconda3/lib/python3.9/site-packages/fbprophet/forecaster.py:891: FutureWarning: The frame.append method is deprecated and will be removed from pandas in a future version. Use pandas.concat instead.\n",
      "  components = components.append(new_comp)\n",
      "WARNING:prophet:Seasonality has period of 30.5 days which is larger than initial window. Consider increasing initial.\n",
      "INFO:prophet:Applying in parallel with <concurrent.futures.process.ProcessPoolExecutor object at 0x7f4f4d92f850>\n",
      "/home/jonathan/anaconda3/lib/python3.9/site-packages/fbprophet/forecaster.py:891: FutureWarning: The frame.append method is deprecated and will be removed from pandas in a future version. Use pandas.concat instead.\n",
      "  components = components.append(new_comp)\n"
     ]
    },
    {
     "name": "stdout",
     "output_type": "stream",
     "text": [
      "Initial log joint probability = -15.8386\n",
      "    Iter      log prob        ||dx||      ||grad||       alpha      alpha0  # evals  Notes \n",
      "      99       1451.81   0.000494749       90.0087      0.4109      0.4109      127   \n",
      "    Iter      log prob        ||dx||      ||grad||       alpha      alpha0  # evals  Notes \n",
      "     171       1452.78   0.000447675       82.5951   5.721e-06       0.001      248  LS failed, Hessian reset \n",
      "     199       1452.91   0.000102277        79.365       0.639       0.639      283   \n",
      "    Iter      log prob        ||dx||      ||grad||       alpha      alpha0  # evals  Notes \n"
     ]
    },
    {
     "name": "stderr",
     "output_type": "stream",
     "text": [
      "/home/jonathan/anaconda3/lib/python3.9/site-packages/fbprophet/forecaster.py:891: FutureWarning: The frame.append method is deprecated and will be removed from pandas in a future version. Use pandas.concat instead.\n",
      "  components = components.append(new_comp)\n",
      "/home/jonathan/anaconda3/lib/python3.9/site-packages/fbprophet/forecaster.py:891: FutureWarning: The frame.append method is deprecated and will be removed from pandas in a future version. Use pandas.concat instead.\n",
      "  components = components.append(new_comp)\n"
     ]
    },
    {
     "name": "stdout",
     "output_type": "stream",
     "text": [
      "     299       1453.02   1.02955e-05       72.2343           1           1      399   \n",
      "    Iter      log prob        ||dx||      ||grad||       alpha      alpha0  # evals  Notes \n",
      "     328       1453.03    2.1962e-05       92.9507   2.387e-07       0.001      472  LS failed, Hessian reset \n",
      "     363       1453.03   8.07675e-08       79.2906           1           1      518   \n",
      "Optimization terminated normally: \n",
      "  Convergence detected: relative gradient magnitude is below tolerance\n"
     ]
    },
    {
     "name": "stderr",
     "output_type": "stream",
     "text": [
      "WARNING:prophet:Seasonality has period of 30.5 days which is larger than initial window. Consider increasing initial.\n",
      "INFO:prophet:Applying in parallel with <concurrent.futures.process.ProcessPoolExecutor object at 0x7f4f4c7cfc10>\n",
      "/home/jonathan/anaconda3/lib/python3.9/site-packages/fbprophet/forecaster.py:891: FutureWarning: The frame.append method is deprecated and will be removed from pandas in a future version. Use pandas.concat instead.\n",
      "  components = components.append(new_comp)\n"
     ]
    },
    {
     "name": "stdout",
     "output_type": "stream",
     "text": [
      "Initial log joint probability = -24.6643\n",
      "    Iter      log prob        ||dx||      ||grad||       alpha      alpha0  # evals  Notes \n",
      "      99       1453.37    0.00365772       91.1187           1           1      129   \n",
      "    Iter      log prob        ||dx||      ||grad||       alpha      alpha0  # evals  Notes \n",
      "     117        1453.9    0.00121363       137.546   1.138e-05       0.001      191  LS failed, Hessian reset \n",
      "     199       1454.61    0.00330401       98.0326      0.1629           1      283   \n",
      "    Iter      log prob        ||dx||      ||grad||       alpha      alpha0  # evals  Notes \n",
      "     202       1454.64   0.000266063       98.3034    2.33e-06       0.001      339  LS failed, Hessian reset \n",
      "     299       1454.81    2.6946e-05       89.8712       0.241           1      464   \n",
      "    Iter      log prob        ||dx||      ||grad||       alpha      alpha0  # evals  Notes \n",
      "     399       1456.32   0.000172841       75.0381           1           1      578   \n",
      "    Iter      log prob        ||dx||      ||grad||       alpha      alpha0  # evals  Notes \n"
     ]
    },
    {
     "name": "stderr",
     "output_type": "stream",
     "text": [
      "/home/jonathan/anaconda3/lib/python3.9/site-packages/fbprophet/forecaster.py:891: FutureWarning: The frame.append method is deprecated and will be removed from pandas in a future version. Use pandas.concat instead.\n",
      "  components = components.append(new_comp)\n",
      "/home/jonathan/anaconda3/lib/python3.9/site-packages/fbprophet/forecaster.py:891: FutureWarning: The frame.append method is deprecated and will be removed from pandas in a future version. Use pandas.concat instead.\n",
      "  components = components.append(new_comp)\n"
     ]
    },
    {
     "name": "stdout",
     "output_type": "stream",
     "text": [
      "     467       1456.35   4.01595e-05       80.5741    5.38e-07       0.001      709  LS failed, Hessian reset \n",
      "     499       1456.35   4.65774e-07       73.5379      0.5078      0.5078      754   \n",
      "    Iter      log prob        ||dx||      ||grad||       alpha      alpha0  # evals  Notes \n",
      "     538       1456.35   3.76384e-08       79.3413      0.1486      0.1486      804   \n",
      "Optimization terminated normally: \n",
      "  Convergence detected: relative gradient magnitude is below tolerance\n"
     ]
    },
    {
     "name": "stderr",
     "output_type": "stream",
     "text": [
      "WARNING:prophet:Seasonality has period of 30.5 days which is larger than initial window. Consider increasing initial.\n",
      "INFO:prophet:Applying in parallel with <concurrent.futures.process.ProcessPoolExecutor object at 0x7f4f4c7d7220>\n",
      "/home/jonathan/anaconda3/lib/python3.9/site-packages/fbprophet/forecaster.py:891: FutureWarning: The frame.append method is deprecated and will be removed from pandas in a future version. Use pandas.concat instead.\n",
      "  components = components.append(new_comp)\n"
     ]
    },
    {
     "name": "stdout",
     "output_type": "stream",
     "text": [
      "Initial log joint probability = -19.1053\n",
      "    Iter      log prob        ||dx||      ||grad||       alpha      alpha0  # evals  Notes \n",
      "      99       1456.63    0.00936376       158.871       0.457       0.457      123   \n",
      "    Iter      log prob        ||dx||      ||grad||       alpha      alpha0  # evals  Notes \n",
      "     148       1457.24   0.000254667       98.3608   3.131e-06       0.001      246  LS failed, Hessian reset \n",
      "     199        1457.4   7.70053e-05       89.0526           1           1      310   \n",
      "    Iter      log prob        ||dx||      ||grad||       alpha      alpha0  # evals  Notes \n"
     ]
    },
    {
     "name": "stderr",
     "output_type": "stream",
     "text": [
      "/home/jonathan/anaconda3/lib/python3.9/site-packages/fbprophet/forecaster.py:891: FutureWarning: The frame.append method is deprecated and will be removed from pandas in a future version. Use pandas.concat instead.\n",
      "  components = components.append(new_comp)\n"
     ]
    },
    {
     "name": "stdout",
     "output_type": "stream",
     "text": [
      "     299       1457.48   0.000330068       98.3981      0.4472           1      422   \n",
      "    Iter      log prob        ||dx||      ||grad||       alpha      alpha0  # evals  Notes \n",
      "     387       1458.59     6.247e-05       90.8919   8.158e-07       0.001      560  LS failed, Hessian reset \n",
      "     399        1458.6   2.50974e-05       78.5308           1           1      577   \n",
      "    Iter      log prob        ||dx||      ||grad||       alpha      alpha0  # evals  Notes \n",
      "     438        1458.6   1.74457e-07       80.0163      0.2453      0.6099      632   \n",
      "Optimization terminated normally: \n",
      "  Convergence detected: relative gradient magnitude is below tolerance\n"
     ]
    },
    {
     "name": "stderr",
     "output_type": "stream",
     "text": [
      "/home/jonathan/anaconda3/lib/python3.9/site-packages/fbprophet/forecaster.py:891: FutureWarning: The frame.append method is deprecated and will be removed from pandas in a future version. Use pandas.concat instead.\n",
      "  components = components.append(new_comp)\n",
      "WARNING:prophet:Seasonality has period of 30.5 days which is larger than initial window. Consider increasing initial.\n",
      "INFO:prophet:Applying in parallel with <concurrent.futures.process.ProcessPoolExecutor object at 0x7f4f4d7fd100>\n",
      "/home/jonathan/anaconda3/lib/python3.9/site-packages/fbprophet/forecaster.py:891: FutureWarning: The frame.append method is deprecated and will be removed from pandas in a future version. Use pandas.concat instead.\n",
      "  components = components.append(new_comp)\n"
     ]
    },
    {
     "name": "stdout",
     "output_type": "stream",
     "text": [
      "Initial log joint probability = -23.7044\n",
      "    Iter      log prob        ||dx||      ||grad||       alpha      alpha0  # evals  Notes \n",
      "      99       1458.17   0.000678698         94.77       1.563      0.1563      120   \n",
      "    Iter      log prob        ||dx||      ||grad||       alpha      alpha0  # evals  Notes \n",
      "     139       1458.67   0.000687619       161.408   6.414e-06       0.001      198  LS failed, Hessian reset \n",
      "     199        1459.1    0.00126273       92.7109           1           1      267   \n",
      "    Iter      log prob        ||dx||      ||grad||       alpha      alpha0  # evals  Notes \n"
     ]
    },
    {
     "name": "stderr",
     "output_type": "stream",
     "text": [
      "/home/jonathan/anaconda3/lib/python3.9/site-packages/fbprophet/forecaster.py:891: FutureWarning: The frame.append method is deprecated and will be removed from pandas in a future version. Use pandas.concat instead.\n",
      "  components = components.append(new_comp)\n"
     ]
    },
    {
     "name": "stdout",
     "output_type": "stream",
     "text": [
      "     228       1459.27    0.00131503       102.854   1.146e-05       0.001      343  LS failed, Hessian reset \n",
      "     299       1459.55   0.000193453       73.9366      0.8811      0.8811      428   \n",
      "    Iter      log prob        ||dx||      ||grad||       alpha      alpha0  # evals  Notes \n",
      "     344       1459.57   1.25016e-06        77.355   1.652e-08       0.001      525  LS failed, Hessian reset \n",
      "     359       1459.57   4.99068e-08       88.8559      0.5266      0.5266      544   \n",
      "Optimization terminated normally: \n",
      "  Convergence detected: relative gradient magnitude is below tolerance\n"
     ]
    },
    {
     "name": "stderr",
     "output_type": "stream",
     "text": [
      "/home/jonathan/anaconda3/lib/python3.9/site-packages/fbprophet/forecaster.py:891: FutureWarning: The frame.append method is deprecated and will be removed from pandas in a future version. Use pandas.concat instead.\n",
      "  components = components.append(new_comp)\n",
      "INFO:prophet:Applying in parallel with <concurrent.futures.process.ProcessPoolExecutor object at 0x7f4f4c7d7a60>\n",
      "/home/jonathan/anaconda3/lib/python3.9/site-packages/fbprophet/forecaster.py:891: FutureWarning: The frame.append method is deprecated and will be removed from pandas in a future version. Use pandas.concat instead.\n",
      "  components = components.append(new_comp)\n"
     ]
    },
    {
     "name": "stdout",
     "output_type": "stream",
     "text": [
      "Initial log joint probability = -17.2252\n",
      "    Iter      log prob        ||dx||      ||grad||       alpha      alpha0  # evals  Notes \n",
      "      99       1460.38    0.00349054       93.7629           1           1      127   \n",
      "    Iter      log prob        ||dx||      ||grad||       alpha      alpha0  # evals  Notes \n",
      "     116       1460.83   0.000443718       101.823   5.535e-06       0.001      181  LS failed, Hessian reset \n",
      "     175       1461.34   0.000383709       88.7114   4.713e-06       0.001      290  LS failed, Hessian reset \n",
      "     199       1461.44   0.000143221       91.4436           1           1      319   \n",
      "    Iter      log prob        ||dx||      ||grad||       alpha      alpha0  # evals  Notes \n",
      "     299        1461.6   7.35145e-05       85.3624      0.8237      0.8237      438   \n",
      "    Iter      log prob        ||dx||      ||grad||       alpha      alpha0  # evals  Notes \n",
      "     399       1461.68   0.000392495       84.5893       1.939      0.4385      565   \n",
      "    Iter      log prob        ||dx||      ||grad||       alpha      alpha0  # evals  Notes \n"
     ]
    },
    {
     "name": "stderr",
     "output_type": "stream",
     "text": [
      "/home/jonathan/anaconda3/lib/python3.9/site-packages/fbprophet/forecaster.py:891: FutureWarning: The frame.append method is deprecated and will be removed from pandas in a future version. Use pandas.concat instead.\n",
      "  components = components.append(new_comp)\n"
     ]
    },
    {
     "name": "stdout",
     "output_type": "stream",
     "text": [
      "     456       1462.41    0.00222216       276.043    2.12e-05       0.001      679  LS failed, Hessian reset \n",
      "     499       1462.71   0.000239495       87.9751      0.2948           1      731   \n",
      "    Iter      log prob        ||dx||      ||grad||       alpha      alpha0  # evals  Notes \n",
      "     599       1462.77   3.22208e-05       86.3637      0.5576           1      852   \n",
      "    Iter      log prob        ||dx||      ||grad||       alpha      alpha0  # evals  Notes \n",
      "     637       1462.77   2.05945e-08       72.7228      0.3166      0.3166      902   \n",
      "Optimization terminated normally: \n",
      "  Convergence detected: relative gradient magnitude is below tolerance\n"
     ]
    },
    {
     "name": "stderr",
     "output_type": "stream",
     "text": [
      "/home/jonathan/anaconda3/lib/python3.9/site-packages/fbprophet/forecaster.py:891: FutureWarning: The frame.append method is deprecated and will be removed from pandas in a future version. Use pandas.concat instead.\n",
      "  components = components.append(new_comp)\n",
      "INFO:prophet:Applying in parallel with <concurrent.futures.process.ProcessPoolExecutor object at 0x7f4f4d99ad00>\n",
      "/home/jonathan/anaconda3/lib/python3.9/site-packages/fbprophet/forecaster.py:891: FutureWarning: The frame.append method is deprecated and will be removed from pandas in a future version. Use pandas.concat instead.\n",
      "  components = components.append(new_comp)\n"
     ]
    },
    {
     "name": "stdout",
     "output_type": "stream",
     "text": [
      "Initial log joint probability = -25.366\n",
      "    Iter      log prob        ||dx||      ||grad||       alpha      alpha0  # evals  Notes \n",
      "      99       1462.17   0.000225664        74.675      0.6264      0.6264      124   \n",
      "    Iter      log prob        ||dx||      ||grad||       alpha      alpha0  # evals  Notes \n",
      "     140        1463.3    0.00107335       179.065   1.146e-05       0.001      215  LS failed, Hessian reset \n",
      "     171       1463.68   9.21866e-05       85.2378   1.051e-06       0.001      291  LS failed, Hessian reset \n",
      "     199       1463.69   1.71153e-06       91.2948     0.04237     0.04237      326   \n",
      "    Iter      log prob        ||dx||      ||grad||       alpha      alpha0  # evals  Notes \n"
     ]
    },
    {
     "name": "stderr",
     "output_type": "stream",
     "text": [
      "/home/jonathan/anaconda3/lib/python3.9/site-packages/fbprophet/forecaster.py:891: FutureWarning: The frame.append method is deprecated and will be removed from pandas in a future version. Use pandas.concat instead.\n",
      "  components = components.append(new_comp)\n",
      "/home/jonathan/anaconda3/lib/python3.9/site-packages/fbprophet/forecaster.py:891: FutureWarning: The frame.append method is deprecated and will be removed from pandas in a future version. Use pandas.concat instead.\n",
      "  components = components.append(new_comp)\n"
     ]
    },
    {
     "name": "stdout",
     "output_type": "stream",
     "text": [
      "     278       1463.72   5.55961e-07       91.4599   6.528e-09       0.001      467  LS failed, Hessian reset \n",
      "     290       1463.72   4.26299e-08        83.613      0.5919      0.5919      481   \n",
      "Optimization terminated normally: \n",
      "  Convergence detected: relative gradient magnitude is below tolerance\n"
     ]
    },
    {
     "name": "stderr",
     "output_type": "stream",
     "text": [
      "INFO:prophet:Applying in parallel with <concurrent.futures.process.ProcessPoolExecutor object at 0x7f4f4c7cfe20>\n",
      "/home/jonathan/anaconda3/lib/python3.9/site-packages/fbprophet/forecaster.py:891: FutureWarning: The frame.append method is deprecated and will be removed from pandas in a future version. Use pandas.concat instead.\n",
      "  components = components.append(new_comp)\n"
     ]
    },
    {
     "name": "stdout",
     "output_type": "stream",
     "text": [
      "Initial log joint probability = -28.9984\n",
      "    Iter      log prob        ||dx||      ||grad||       alpha      alpha0  # evals  Notes \n",
      "      99       1463.35    0.00422675       83.0829      0.8566      0.8566      122   \n",
      "    Iter      log prob        ||dx||      ||grad||       alpha      alpha0  # evals  Notes \n",
      "     199       1465.58    0.00352882       214.351           1           1      248   \n",
      "    Iter      log prob        ||dx||      ||grad||       alpha      alpha0  # evals  Notes \n",
      "     258       1466.03   0.000128906       85.2182   1.787e-06       0.001      352  LS failed, Hessian reset \n",
      "     299       1466.05   1.16375e-06       89.1886      0.5865      0.5865      403   \n",
      "    Iter      log prob        ||dx||      ||grad||       alpha      alpha0  # evals  Notes \n",
      "     399       1466.16    0.00114954       81.8894           1           1      528   \n",
      "    Iter      log prob        ||dx||      ||grad||       alpha      alpha0  # evals  Notes \n",
      "     427       1467.19     0.0031679       86.6818   3.405e-05       0.001      602  LS failed, Hessian reset \n",
      "     499       1467.65   3.56774e-06       82.7876           1           1      687   \n",
      "    Iter      log prob        ||dx||      ||grad||       alpha      alpha0  # evals  Notes \n",
      "     599       1467.77   0.000539103       88.1673      0.7324      0.7324      802   \n",
      "    Iter      log prob        ||dx||      ||grad||       alpha      alpha0  # evals  Notes \n",
      "     622       1467.85   7.54735e-05       74.4764   8.845e-07       0.001      879  LS failed, Hessian reset \n",
      "     699       1467.92   0.000139189       80.6992      0.8921      0.8921      968   \n",
      "    Iter      log prob        ||dx||      ||grad||       alpha      alpha0  # evals  Notes \n"
     ]
    },
    {
     "name": "stderr",
     "output_type": "stream",
     "text": [
      "/home/jonathan/anaconda3/lib/python3.9/site-packages/fbprophet/forecaster.py:891: FutureWarning: The frame.append method is deprecated and will be removed from pandas in a future version. Use pandas.concat instead.\n",
      "  components = components.append(new_comp)\n",
      "/home/jonathan/anaconda3/lib/python3.9/site-packages/fbprophet/forecaster.py:891: FutureWarning: The frame.append method is deprecated and will be removed from pandas in a future version. Use pandas.concat instead.\n",
      "  components = components.append(new_comp)\n"
     ]
    },
    {
     "name": "stdout",
     "output_type": "stream",
     "text": [
      "     799       1467.93   6.25275e-06       88.6867      0.5358           1     1094   \n",
      "    Iter      log prob        ||dx||      ||grad||       alpha      alpha0  # evals  Notes \n",
      "     885       1467.95   6.59421e-08       79.4616     0.06143           1     1196   \n",
      "Optimization terminated normally: \n",
      "  Convergence detected: relative gradient magnitude is below tolerance\n"
     ]
    },
    {
     "name": "stderr",
     "output_type": "stream",
     "text": [
      "INFO:prophet:Applying in parallel with <concurrent.futures.process.ProcessPoolExecutor object at 0x7f4f4d99a3a0>\n",
      "/home/jonathan/anaconda3/lib/python3.9/site-packages/fbprophet/forecaster.py:891: FutureWarning: The frame.append method is deprecated and will be removed from pandas in a future version. Use pandas.concat instead.\n",
      "  components = components.append(new_comp)\n"
     ]
    },
    {
     "name": "stdout",
     "output_type": "stream",
     "text": [
      "Initial log joint probability = -27.6165\n",
      "    Iter      log prob        ||dx||      ||grad||       alpha      alpha0  # evals  Notes \n",
      "      99       1466.52    0.00456058       132.376       0.863       0.863      124   \n",
      "    Iter      log prob        ||dx||      ||grad||       alpha      alpha0  # evals  Notes \n",
      "     148       1467.99   0.000440375       122.142   4.224e-06       0.001      226  LS failed, Hessian reset \n",
      "     199       1468.39   5.14571e-05        78.411      0.5763      0.5763      286   \n",
      "    Iter      log prob        ||dx||      ||grad||       alpha      alpha0  # evals  Notes \n",
      "     299       1468.57    0.00125842        85.861       2.141      0.2141      410   \n",
      "    Iter      log prob        ||dx||      ||grad||       alpha      alpha0  # evals  Notes \n",
      "     399       1469.03   0.000257898       76.1829      0.6839      0.6839      530   \n",
      "    Iter      log prob        ||dx||      ||grad||       alpha      alpha0  # evals  Notes \n",
      "     471       1469.72    0.00254026       85.7792   2.725e-05       0.001      650  LS failed, Hessian reset \n",
      "     499        1469.9   1.42747e-05       82.3655      0.3438      0.3438      683   \n",
      "    Iter      log prob        ||dx||      ||grad||       alpha      alpha0  # evals  Notes \n"
     ]
    },
    {
     "name": "stderr",
     "output_type": "stream",
     "text": [
      "/home/jonathan/anaconda3/lib/python3.9/site-packages/fbprophet/forecaster.py:891: FutureWarning: The frame.append method is deprecated and will be removed from pandas in a future version. Use pandas.concat instead.\n",
      "  components = components.append(new_comp)\n"
     ]
    },
    {
     "name": "stdout",
     "output_type": "stream",
     "text": [
      "     599       1469.93   5.89345e-06       68.0348      0.3874      0.3874      802   \n",
      "    Iter      log prob        ||dx||      ||grad||       alpha      alpha0  # evals  Notes \n",
      "     694       1469.95   1.36287e-05       86.0846   1.423e-07       0.001      965  LS failed, Hessian reset \n",
      "     699       1469.95   1.71984e-06       80.3374       0.356       0.356      971   \n",
      "    Iter      log prob        ||dx||      ||grad||       alpha      alpha0  # evals  Notes \n",
      "     726       1469.95   2.96524e-08       81.7404      0.3458           1     1006   \n",
      "Optimization terminated normally: \n",
      "  Convergence detected: relative gradient magnitude is below tolerance\n"
     ]
    },
    {
     "name": "stderr",
     "output_type": "stream",
     "text": [
      "/home/jonathan/anaconda3/lib/python3.9/site-packages/fbprophet/forecaster.py:891: FutureWarning: The frame.append method is deprecated and will be removed from pandas in a future version. Use pandas.concat instead.\n",
      "  components = components.append(new_comp)\n",
      "INFO:prophet:Applying in parallel with <concurrent.futures.process.ProcessPoolExecutor object at 0x7f4f4c7cfa90>\n",
      "/home/jonathan/anaconda3/lib/python3.9/site-packages/fbprophet/forecaster.py:891: FutureWarning: The frame.append method is deprecated and will be removed from pandas in a future version. Use pandas.concat instead.\n",
      "  components = components.append(new_comp)\n"
     ]
    },
    {
     "name": "stdout",
     "output_type": "stream",
     "text": [
      "Initial log joint probability = -17.5379\n",
      "    Iter      log prob        ||dx||      ||grad||       alpha      alpha0  # evals  Notes \n",
      "      99       1469.95    0.00232794       115.424           1           1      124   \n",
      "    Iter      log prob        ||dx||      ||grad||       alpha      alpha0  # evals  Notes \n",
      "     113       1470.39    0.00098658       186.822   9.364e-06       0.001      184  LS failed, Hessian reset \n",
      "     139        1470.7   0.000224176       77.6568   2.785e-06       0.001      249  LS failed, Hessian reset \n",
      "     199       1470.72   2.03735e-05       88.4606           1           1      324   \n",
      "    Iter      log prob        ||dx||      ||grad||       alpha      alpha0  # evals  Notes \n",
      "     296       1470.85   0.000167005       80.9135   1.837e-06       0.001      499  LS failed, Hessian reset \n",
      "     299       1470.86   5.47978e-05       71.1951           1           1      503   \n",
      "    Iter      log prob        ||dx||      ||grad||       alpha      alpha0  # evals  Notes \n",
      "     399       1470.95   4.85867e-05       76.3752      0.5808      0.5808      622   \n",
      "    Iter      log prob        ||dx||      ||grad||       alpha      alpha0  # evals  Notes \n",
      "     495       1471.42   0.000736222       92.4485   8.525e-06       0.001      788  LS failed, Hessian reset \n",
      "     499        1471.5    0.00181993       89.8713           1           1      792   \n",
      "    Iter      log prob        ||dx||      ||grad||       alpha      alpha0  # evals  Notes \n",
      "     599       1471.96   4.83246e-05       84.6497      0.7163      0.7163      905   \n",
      "    Iter      log prob        ||dx||      ||grad||       alpha      alpha0  # evals  Notes \n",
      "     699       1472.02   2.41051e-05       71.5313      0.2659      0.2659     1024   \n",
      "    Iter      log prob        ||dx||      ||grad||       alpha      alpha0  # evals  Notes \n",
      "     799       1472.05   2.54699e-05       93.5671           1           1     1146   \n",
      "    Iter      log prob        ||dx||      ||grad||       alpha      alpha0  # evals  Notes \n",
      "     801       1472.05   5.67052e-06       86.2637   6.597e-08       0.001     1186  LS failed, Hessian reset \n",
      "     826       1472.05   2.34561e-08       77.8994      0.2909      0.2909     1219   \n",
      "Optimization terminated normally: \n",
      "  Convergence detected: relative gradient magnitude is below tolerance\n"
     ]
    },
    {
     "name": "stderr",
     "output_type": "stream",
     "text": [
      "/home/jonathan/anaconda3/lib/python3.9/site-packages/fbprophet/forecaster.py:891: FutureWarning: The frame.append method is deprecated and will be removed from pandas in a future version. Use pandas.concat instead.\n",
      "  components = components.append(new_comp)\n",
      "/home/jonathan/anaconda3/lib/python3.9/site-packages/fbprophet/forecaster.py:891: FutureWarning: The frame.append method is deprecated and will be removed from pandas in a future version. Use pandas.concat instead.\n",
      "  components = components.append(new_comp)\n",
      "INFO:prophet:Applying in parallel with <concurrent.futures.process.ProcessPoolExecutor object at 0x7f4f4d7fdbb0>\n",
      "/home/jonathan/anaconda3/lib/python3.9/site-packages/fbprophet/forecaster.py:891: FutureWarning: The frame.append method is deprecated and will be removed from pandas in a future version. Use pandas.concat instead.\n",
      "  components = components.append(new_comp)\n"
     ]
    },
    {
     "name": "stdout",
     "output_type": "stream",
     "text": [
      "Initial log joint probability = -25.7375\n",
      "    Iter      log prob        ||dx||      ||grad||       alpha      alpha0  # evals  Notes \n",
      "      99       1471.38   0.000371596       78.6632      0.6915      0.6915      132   \n",
      "    Iter      log prob        ||dx||      ||grad||       alpha      alpha0  # evals  Notes \n",
      "     138       1472.37    0.00228544       241.298    2.13e-05       0.001      219  LS failed, Hessian reset \n",
      "     185       1472.57   0.000126431       79.7168   1.458e-06       0.001      313  LS failed, Hessian reset \n",
      "     199       1472.57   3.44631e-06       68.1781      0.2415           1      332   \n",
      "    Iter      log prob        ||dx||      ||grad||       alpha      alpha0  # evals  Notes \n"
     ]
    },
    {
     "name": "stderr",
     "output_type": "stream",
     "text": [
      "/home/jonathan/anaconda3/lib/python3.9/site-packages/fbprophet/forecaster.py:891: FutureWarning: The frame.append method is deprecated and will be removed from pandas in a future version. Use pandas.concat instead.\n",
      "  components = components.append(new_comp)\n",
      "/home/jonathan/anaconda3/lib/python3.9/site-packages/fbprophet/forecaster.py:891: FutureWarning: The frame.append method is deprecated and will be removed from pandas in a future version. Use pandas.concat instead.\n",
      "  components = components.append(new_comp)\n"
     ]
    },
    {
     "name": "stdout",
     "output_type": "stream",
     "text": [
      "     217       1472.57   8.02317e-08        72.406           1           1      353   \n",
      "Optimization terminated normally: \n",
      "  Convergence detected: relative gradient magnitude is below tolerance\n"
     ]
    },
    {
     "name": "stderr",
     "output_type": "stream",
     "text": [
      "INFO:prophet:Applying in parallel with <concurrent.futures.process.ProcessPoolExecutor object at 0x7f4f4d80ebe0>\n",
      "/home/jonathan/anaconda3/lib/python3.9/site-packages/fbprophet/forecaster.py:891: FutureWarning: The frame.append method is deprecated and will be removed from pandas in a future version. Use pandas.concat instead.\n",
      "  components = components.append(new_comp)\n"
     ]
    },
    {
     "name": "stdout",
     "output_type": "stream",
     "text": [
      "Initial log joint probability = -26.3969\n",
      "    Iter      log prob        ||dx||      ||grad||       alpha      alpha0  # evals  Notes \n",
      "      99       1472.67    0.00129959       81.3988           1           1      128   \n",
      "    Iter      log prob        ||dx||      ||grad||       alpha      alpha0  # evals  Notes \n",
      "     175        1473.9   0.000397132       95.7536   3.656e-06       0.001      258  LS failed, Hessian reset \n",
      "     199       1473.95   7.80129e-06       77.1538      0.2745           1      286   \n",
      "    Iter      log prob        ||dx||      ||grad||       alpha      alpha0  # evals  Notes \n"
     ]
    },
    {
     "name": "stderr",
     "output_type": "stream",
     "text": [
      "/home/jonathan/anaconda3/lib/python3.9/site-packages/fbprophet/forecaster.py:891: FutureWarning: The frame.append method is deprecated and will be removed from pandas in a future version. Use pandas.concat instead.\n",
      "  components = components.append(new_comp)\n",
      "/home/jonathan/anaconda3/lib/python3.9/site-packages/fbprophet/forecaster.py:891: FutureWarning: The frame.append method is deprecated and will be removed from pandas in a future version. Use pandas.concat instead.\n",
      "  components = components.append(new_comp)\n"
     ]
    },
    {
     "name": "stdout",
     "output_type": "stream",
     "text": [
      "     221       1473.95    1.1973e-05       83.0173   1.301e-07       0.001      349  LS failed, Hessian reset \n",
      "     246       1473.95   2.30503e-08       78.6283      0.2913      0.2913      386   \n",
      "Optimization terminated normally: \n",
      "  Convergence detected: relative gradient magnitude is below tolerance\n"
     ]
    },
    {
     "name": "stderr",
     "output_type": "stream",
     "text": [
      "INFO:prophet:Applying in parallel with <concurrent.futures.process.ProcessPoolExecutor object at 0x7f4f4c7d73d0>\n",
      "/home/jonathan/anaconda3/lib/python3.9/site-packages/fbprophet/forecaster.py:891: FutureWarning: The frame.append method is deprecated and will be removed from pandas in a future version. Use pandas.concat instead.\n",
      "  components = components.append(new_comp)\n"
     ]
    },
    {
     "name": "stdout",
     "output_type": "stream",
     "text": [
      "Initial log joint probability = -27.047\n",
      "    Iter      log prob        ||dx||      ||grad||       alpha      alpha0  # evals  Notes \n",
      "      99       1474.88    0.00117444       86.3901           1           1      119   \n",
      "    Iter      log prob        ||dx||      ||grad||       alpha      alpha0  # evals  Notes \n",
      "     172       1475.67   0.000393595       89.9876   4.374e-06       0.001      251  LS failed, Hessian reset \n",
      "     199       1475.86   3.47128e-05       64.1979      0.8796      0.8796      281   \n",
      "    Iter      log prob        ||dx||      ||grad||       alpha      alpha0  # evals  Notes \n"
     ]
    },
    {
     "name": "stderr",
     "output_type": "stream",
     "text": [
      "/home/jonathan/anaconda3/lib/python3.9/site-packages/fbprophet/forecaster.py:891: FutureWarning: The frame.append method is deprecated and will be removed from pandas in a future version. Use pandas.concat instead.\n",
      "  components = components.append(new_comp)\n"
     ]
    },
    {
     "name": "stdout",
     "output_type": "stream",
     "text": [
      "     265       1476.14   0.000548437       116.221   6.007e-06       0.001      395  LS failed, Hessian reset \n",
      "     299       1476.32   0.000120842       79.6327           1           1      436   \n",
      "    Iter      log prob        ||dx||      ||grad||       alpha      alpha0  # evals  Notes \n",
      "     355       1476.33    3.2617e-06       69.6573   3.803e-08       0.001      549  LS failed, Hessian reset \n",
      "     370       1476.33    3.4392e-08       70.5824      0.2437      0.2437      565   \n",
      "Optimization terminated normally: \n",
      "  Convergence detected: relative gradient magnitude is below tolerance\n"
     ]
    },
    {
     "name": "stderr",
     "output_type": "stream",
     "text": [
      "/home/jonathan/anaconda3/lib/python3.9/site-packages/fbprophet/forecaster.py:891: FutureWarning: The frame.append method is deprecated and will be removed from pandas in a future version. Use pandas.concat instead.\n",
      "  components = components.append(new_comp)\n",
      "INFO:prophet:Applying in parallel with <concurrent.futures.process.ProcessPoolExecutor object at 0x7f4f4d7fd790>\n",
      "/home/jonathan/anaconda3/lib/python3.9/site-packages/fbprophet/forecaster.py:891: FutureWarning: The frame.append method is deprecated and will be removed from pandas in a future version. Use pandas.concat instead.\n",
      "  components = components.append(new_comp)\n"
     ]
    },
    {
     "name": "stdout",
     "output_type": "stream",
     "text": [
      "Initial log joint probability = -18.3025\n",
      "    Iter      log prob        ||dx||      ||grad||       alpha      alpha0  # evals  Notes \n",
      "      99       1477.57    0.00224596       115.191           1           1      122   \n",
      "    Iter      log prob        ||dx||      ||grad||       alpha      alpha0  # evals  Notes \n",
      "     162       1478.67     0.0013511       99.8471   1.743e-05       0.001      220  LS failed, Hessian reset \n",
      "     199       1478.84   6.73606e-05       90.2402           1           1      265   \n",
      "    Iter      log prob        ||dx||      ||grad||       alpha      alpha0  # evals  Notes \n"
     ]
    },
    {
     "name": "stderr",
     "output_type": "stream",
     "text": [
      "/home/jonathan/anaconda3/lib/python3.9/site-packages/fbprophet/forecaster.py:891: FutureWarning: The frame.append method is deprecated and will be removed from pandas in a future version. Use pandas.concat instead.\n",
      "  components = components.append(new_comp)\n"
     ]
    },
    {
     "name": "stdout",
     "output_type": "stream",
     "text": [
      "     299       1478.94   0.000106879       74.0463      0.3383      0.3383      378   \n",
      "    Iter      log prob        ||dx||      ||grad||       alpha      alpha0  # evals  Notes \n",
      "     331       1479.08   0.000326615       95.3784   3.933e-06       0.001      449  LS failed, Hessian reset \n",
      "     388       1479.15   1.84004e-06       79.1371     2.1e-08       0.001      565  LS failed, Hessian reset \n",
      "     399       1479.15   5.94395e-08       69.3817           1           1      580   \n",
      "    Iter      log prob        ||dx||      ||grad||       alpha      alpha0  # evals  Notes \n",
      "     413       1479.15   1.08606e-07       84.0112      0.2831           1      598   \n",
      "Optimization terminated normally: \n",
      "  Convergence detected: relative gradient magnitude is below tolerance\n"
     ]
    },
    {
     "name": "stderr",
     "output_type": "stream",
     "text": [
      "/home/jonathan/anaconda3/lib/python3.9/site-packages/fbprophet/forecaster.py:891: FutureWarning: The frame.append method is deprecated and will be removed from pandas in a future version. Use pandas.concat instead.\n",
      "  components = components.append(new_comp)\n",
      "INFO:prophet:Applying in parallel with <concurrent.futures.process.ProcessPoolExecutor object at 0x7f4f4c7cfcd0>\n",
      "/home/jonathan/anaconda3/lib/python3.9/site-packages/fbprophet/forecaster.py:891: FutureWarning: The frame.append method is deprecated and will be removed from pandas in a future version. Use pandas.concat instead.\n",
      "  components = components.append(new_comp)\n"
     ]
    },
    {
     "name": "stdout",
     "output_type": "stream",
     "text": [
      "Initial log joint probability = -16.6104\n",
      "    Iter      log prob        ||dx||      ||grad||       alpha      alpha0  # evals  Notes \n",
      "      99       1481.21   0.000316285       74.9958       1.686           1      127   \n",
      "    Iter      log prob        ||dx||      ||grad||       alpha      alpha0  # evals  Notes \n",
      "     157       1481.39   0.000628841       91.3464   6.834e-06       0.001      233  LS failed, Hessian reset \n",
      "     199       1481.51   0.000398123       84.9188      0.1763           1      286   \n",
      "    Iter      log prob        ||dx||      ||grad||       alpha      alpha0  # evals  Notes \n"
     ]
    },
    {
     "name": "stderr",
     "output_type": "stream",
     "text": [
      "/home/jonathan/anaconda3/lib/python3.9/site-packages/fbprophet/forecaster.py:891: FutureWarning: The frame.append method is deprecated and will be removed from pandas in a future version. Use pandas.concat instead.\n",
      "  components = components.append(new_comp)\n"
     ]
    },
    {
     "name": "stdout",
     "output_type": "stream",
     "text": [
      "     299       1481.79   0.000428761       74.6838      0.2464      0.2464      397   \n",
      "    Iter      log prob        ||dx||      ||grad||       alpha      alpha0  # evals  Notes \n",
      "     345       1482.57   0.000424681       104.881   4.846e-06       0.001      493  LS failed, Hessian reset \n",
      "     399       1482.75   3.13525e-05       100.055           1           1      554   \n",
      "    Iter      log prob        ||dx||      ||grad||       alpha      alpha0  # evals  Notes \n",
      "     464       1482.76   8.23722e-08       81.6294      0.3651      0.3651      635   \n",
      "Optimization terminated normally: \n",
      "  Convergence detected: relative gradient magnitude is below tolerance\n"
     ]
    },
    {
     "name": "stderr",
     "output_type": "stream",
     "text": [
      "/home/jonathan/anaconda3/lib/python3.9/site-packages/fbprophet/forecaster.py:891: FutureWarning: The frame.append method is deprecated and will be removed from pandas in a future version. Use pandas.concat instead.\n",
      "  components = components.append(new_comp)\n",
      "INFO:prophet:Applying in parallel with <concurrent.futures.process.ProcessPoolExecutor object at 0x7f4f4d7136a0>\n",
      "/home/jonathan/anaconda3/lib/python3.9/site-packages/fbprophet/forecaster.py:891: FutureWarning: The frame.append method is deprecated and will be removed from pandas in a future version. Use pandas.concat instead.\n",
      "  components = components.append(new_comp)\n"
     ]
    },
    {
     "name": "stdout",
     "output_type": "stream",
     "text": [
      "Initial log joint probability = -18.1337\n",
      "    Iter      log prob        ||dx||      ||grad||       alpha      alpha0  # evals  Notes \n",
      "      91       1483.77    0.00180002       122.305   2.037e-05       0.001      140  LS failed, Hessian reset \n",
      "      99        1483.9   0.000507629       84.8036           1           1      149   \n",
      "    Iter      log prob        ||dx||      ||grad||       alpha      alpha0  # evals  Notes \n",
      "     199       1484.29   0.000130625       75.8942      0.4975      0.4975      267   \n",
      "    Iter      log prob        ||dx||      ||grad||       alpha      alpha0  # evals  Notes \n",
      "     299       1484.49   0.000248392       86.1416       0.427       0.427      386   \n",
      "    Iter      log prob        ||dx||      ||grad||       alpha      alpha0  # evals  Notes \n",
      "     399       1484.66   3.44748e-06       80.3813      0.3771           1      512   \n",
      "    Iter      log prob        ||dx||      ||grad||       alpha      alpha0  # evals  Notes \n",
      "     499       1484.72   6.86283e-07       81.5716           1           1      632   \n",
      "    Iter      log prob        ||dx||      ||grad||       alpha      alpha0  # evals  Notes \n",
      "     528       1484.72   5.96983e-08       69.3405      0.2579           1      673   \n",
      "Optimization terminated normally: \n",
      "  Convergence detected: relative gradient magnitude is below tolerance\n"
     ]
    },
    {
     "name": "stderr",
     "output_type": "stream",
     "text": [
      "/home/jonathan/anaconda3/lib/python3.9/site-packages/fbprophet/forecaster.py:891: FutureWarning: The frame.append method is deprecated and will be removed from pandas in a future version. Use pandas.concat instead.\n",
      "  components = components.append(new_comp)\n",
      "/home/jonathan/anaconda3/lib/python3.9/site-packages/fbprophet/forecaster.py:891: FutureWarning: The frame.append method is deprecated and will be removed from pandas in a future version. Use pandas.concat instead.\n",
      "  components = components.append(new_comp)\n",
      "INFO:prophet:Applying in parallel with <concurrent.futures.process.ProcessPoolExecutor object at 0x7f4f4d92f370>\n",
      "/home/jonathan/anaconda3/lib/python3.9/site-packages/fbprophet/forecaster.py:891: FutureWarning: The frame.append method is deprecated and will be removed from pandas in a future version. Use pandas.concat instead.\n",
      "  components = components.append(new_comp)\n"
     ]
    },
    {
     "name": "stdout",
     "output_type": "stream",
     "text": [
      "Initial log joint probability = -38.1681\n",
      "    Iter      log prob        ||dx||      ||grad||       alpha      alpha0  # evals  Notes \n",
      "      99       1759.78   1.50071e-05       88.6072      0.2674       0.941      131   \n",
      "    Iter      log prob        ||dx||      ||grad||       alpha      alpha0  # evals  Notes \n",
      "     199       1759.86   4.31977e-07       71.2439      0.2687           1      254   \n",
      "    Iter      log prob        ||dx||      ||grad||       alpha      alpha0  # evals  Notes \n",
      "     299          1760   4.57879e-05        66.285      0.7533      0.7533      363   \n",
      "    Iter      log prob        ||dx||      ||grad||       alpha      alpha0  # evals  Notes \n",
      "     399       1760.04   7.76497e-06       99.4624      0.4377      0.4377      483   \n",
      "    Iter      log prob        ||dx||      ||grad||       alpha      alpha0  # evals  Notes \n"
     ]
    },
    {
     "name": "stderr",
     "output_type": "stream",
     "text": [
      "/home/jonathan/anaconda3/lib/python3.9/site-packages/fbprophet/forecaster.py:891: FutureWarning: The frame.append method is deprecated and will be removed from pandas in a future version. Use pandas.concat instead.\n",
      "  components = components.append(new_comp)\n",
      "/home/jonathan/anaconda3/lib/python3.9/site-packages/fbprophet/forecaster.py:891: FutureWarning: The frame.append method is deprecated and will be removed from pandas in a future version. Use pandas.concat instead.\n",
      "  components = components.append(new_comp)\n"
     ]
    },
    {
     "name": "stdout",
     "output_type": "stream",
     "text": [
      "     499       1760.06    1.7896e-05       85.0353           1           1      600   \n",
      "    Iter      log prob        ||dx||      ||grad||       alpha      alpha0  # evals  Notes \n",
      "     528       1760.06    3.0797e-07       83.2669      0.3815      0.3815      634   \n",
      "Optimization terminated normally: \n",
      "  Convergence detected: relative gradient magnitude is below tolerance\n"
     ]
    },
    {
     "name": "stderr",
     "output_type": "stream",
     "text": [
      "INFO:prophet:Applying in parallel with <concurrent.futures.process.ProcessPoolExecutor object at 0x7f4f4c7cf970>\n",
      "/home/jonathan/anaconda3/lib/python3.9/site-packages/fbprophet/forecaster.py:891: FutureWarning: The frame.append method is deprecated and will be removed from pandas in a future version. Use pandas.concat instead.\n",
      "  components = components.append(new_comp)\n"
     ]
    },
    {
     "name": "stdout",
     "output_type": "stream",
     "text": [
      "Initial log joint probability = -32.3536\n",
      "    Iter      log prob        ||dx||      ||grad||       alpha      alpha0  # evals  Notes \n",
      "      98       1762.24   0.000143182       92.1289   1.763e-06       0.001      180  LS failed, Hessian reset \n",
      "      99       1762.24   8.03315e-05       70.9011           1           1      181   \n",
      "    Iter      log prob        ||dx||      ||grad||       alpha      alpha0  # evals  Notes \n",
      "     131       1762.28   1.17752e-05       94.8468    1.28e-07       0.001      262  LS failed, Hessian reset \n"
     ]
    },
    {
     "name": "stderr",
     "output_type": "stream",
     "text": [
      "/home/jonathan/anaconda3/lib/python3.9/site-packages/fbprophet/forecaster.py:891: FutureWarning: The frame.append method is deprecated and will be removed from pandas in a future version. Use pandas.concat instead.\n",
      "  components = components.append(new_comp)\n",
      "/home/jonathan/anaconda3/lib/python3.9/site-packages/fbprophet/forecaster.py:891: FutureWarning: The frame.append method is deprecated and will be removed from pandas in a future version. Use pandas.concat instead.\n",
      "  components = components.append(new_comp)\n"
     ]
    },
    {
     "name": "stdout",
     "output_type": "stream",
     "text": [
      "     162       1762.28   7.09684e-08       76.6504      0.6833      0.6833      299   \n",
      "Optimization terminated normally: \n",
      "  Convergence detected: relative gradient magnitude is below tolerance\n"
     ]
    },
    {
     "name": "stderr",
     "output_type": "stream",
     "text": [
      "INFO:prophet:Applying in parallel with <concurrent.futures.process.ProcessPoolExecutor object at 0x7f4f4d338fd0>\n",
      "/home/jonathan/anaconda3/lib/python3.9/site-packages/fbprophet/forecaster.py:891: FutureWarning: The frame.append method is deprecated and will be removed from pandas in a future version. Use pandas.concat instead.\n",
      "  components = components.append(new_comp)\n"
     ]
    },
    {
     "name": "stdout",
     "output_type": "stream",
     "text": [
      "Initial log joint probability = -37.1258\n",
      "    Iter      log prob        ||dx||      ||grad||       alpha      alpha0  # evals  Notes \n",
      "      99       1764.83   0.000203421       85.4602      0.5851      0.5851      127   \n",
      "    Iter      log prob        ||dx||      ||grad||       alpha      alpha0  # evals  Notes \n",
      "     199       1764.89   0.000183034       69.4471           1           1      241   \n",
      "    Iter      log prob        ||dx||      ||grad||       alpha      alpha0  # evals  Notes \n",
      "     299       1764.93   0.000217282       88.4424     0.05837           1      362   \n",
      "    Iter      log prob        ||dx||      ||grad||       alpha      alpha0  # evals  Notes \n",
      "     303       1764.94   5.49213e-05       92.0888   6.955e-07       0.001      441  LS failed, Hessian reset \n",
      "     399       1764.97   0.000320771       102.427           1           1      561   \n",
      "    Iter      log prob        ||dx||      ||grad||       alpha      alpha0  # evals  Notes \n",
      "     444       1764.98   5.76274e-08       92.0463      0.1999      0.1999      619   \n",
      "Optimization terminated normally: \n",
      "  Convergence detected: relative gradient magnitude is below tolerance\n"
     ]
    },
    {
     "name": "stderr",
     "output_type": "stream",
     "text": [
      "/home/jonathan/anaconda3/lib/python3.9/site-packages/fbprophet/forecaster.py:891: FutureWarning: The frame.append method is deprecated and will be removed from pandas in a future version. Use pandas.concat instead.\n",
      "  components = components.append(new_comp)\n",
      "/home/jonathan/anaconda3/lib/python3.9/site-packages/fbprophet/forecaster.py:891: FutureWarning: The frame.append method is deprecated and will be removed from pandas in a future version. Use pandas.concat instead.\n",
      "  components = components.append(new_comp)\n",
      "INFO:prophet:Applying in parallel with <concurrent.futures.process.ProcessPoolExecutor object at 0x7f4f4c7d7d30>\n",
      "/home/jonathan/anaconda3/lib/python3.9/site-packages/fbprophet/forecaster.py:891: FutureWarning: The frame.append method is deprecated and will be removed from pandas in a future version. Use pandas.concat instead.\n",
      "  components = components.append(new_comp)\n"
     ]
    },
    {
     "name": "stdout",
     "output_type": "stream",
     "text": [
      "Initial log joint probability = -46.6063\n",
      "    Iter      log prob        ||dx||      ||grad||       alpha      alpha0  # evals  Notes \n",
      "      99       1767.11   1.74043e-05       81.2554           1           1      119   \n",
      "    Iter      log prob        ||dx||      ||grad||       alpha      alpha0  # evals  Notes \n"
     ]
    },
    {
     "name": "stderr",
     "output_type": "stream",
     "text": [
      "/home/jonathan/anaconda3/lib/python3.9/site-packages/fbprophet/forecaster.py:891: FutureWarning: The frame.append method is deprecated and will be removed from pandas in a future version. Use pandas.concat instead.\n",
      "  components = components.append(new_comp)\n"
     ]
    },
    {
     "name": "stdout",
     "output_type": "stream",
     "text": [
      "     199       1767.33   4.01393e-05       72.1643           1           1      247   \n",
      "    Iter      log prob        ||dx||      ||grad||       alpha      alpha0  # evals  Notes \n",
      "     297       1767.34   1.87907e-07       72.8572           1           1      370   \n",
      "Optimization terminated normally: \n",
      "  Convergence detected: relative gradient magnitude is below tolerance\n"
     ]
    },
    {
     "name": "stderr",
     "output_type": "stream",
     "text": [
      "/home/jonathan/anaconda3/lib/python3.9/site-packages/fbprophet/forecaster.py:891: FutureWarning: The frame.append method is deprecated and will be removed from pandas in a future version. Use pandas.concat instead.\n",
      "  components = components.append(new_comp)\n",
      "INFO:prophet:Applying in parallel with <concurrent.futures.process.ProcessPoolExecutor object at 0x7f4f4d338e80>\n",
      "/home/jonathan/anaconda3/lib/python3.9/site-packages/fbprophet/forecaster.py:891: FutureWarning: The frame.append method is deprecated and will be removed from pandas in a future version. Use pandas.concat instead.\n",
      "  components = components.append(new_comp)\n"
     ]
    },
    {
     "name": "stdout",
     "output_type": "stream",
     "text": [
      "Initial log joint probability = -42.4919\n",
      "    Iter      log prob        ||dx||      ||grad||       alpha      alpha0  # evals  Notes \n",
      "      99       1769.53   0.000806342       103.751           1           1      125   \n",
      "    Iter      log prob        ||dx||      ||grad||       alpha      alpha0  # evals  Notes \n",
      "     199       1769.66   4.99133e-07        73.619           1           1      243   \n",
      "    Iter      log prob        ||dx||      ||grad||       alpha      alpha0  # evals  Notes \n"
     ]
    },
    {
     "name": "stderr",
     "output_type": "stream",
     "text": [
      "/home/jonathan/anaconda3/lib/python3.9/site-packages/fbprophet/forecaster.py:891: FutureWarning: The frame.append method is deprecated and will be removed from pandas in a future version. Use pandas.concat instead.\n",
      "  components = components.append(new_comp)\n"
     ]
    },
    {
     "name": "stdout",
     "output_type": "stream",
     "text": [
      "     299       1769.68   0.000100705       90.6006           1           1      359   \n",
      "    Iter      log prob        ||dx||      ||grad||       alpha      alpha0  # evals  Notes \n",
      "     370       1769.73   0.000103147       92.6273   1.072e-06       0.001      481  LS failed, Hessian reset \n",
      "     398       1769.74    4.5098e-08       82.1007      0.2725      0.2725      517   \n",
      "Optimization terminated normally: \n",
      "  Convergence detected: relative gradient magnitude is below tolerance\n"
     ]
    },
    {
     "name": "stderr",
     "output_type": "stream",
     "text": [
      "/home/jonathan/anaconda3/lib/python3.9/site-packages/fbprophet/forecaster.py:891: FutureWarning: The frame.append method is deprecated and will be removed from pandas in a future version. Use pandas.concat instead.\n",
      "  components = components.append(new_comp)\n",
      "INFO:prophet:Applying in parallel with <concurrent.futures.process.ProcessPoolExecutor object at 0x7f4f4c7cfcd0>\n",
      "/home/jonathan/anaconda3/lib/python3.9/site-packages/fbprophet/forecaster.py:891: FutureWarning: The frame.append method is deprecated and will be removed from pandas in a future version. Use pandas.concat instead.\n",
      "  components = components.append(new_comp)\n"
     ]
    },
    {
     "name": "stdout",
     "output_type": "stream",
     "text": [
      "Initial log joint probability = -41.078\n",
      "    Iter      log prob        ||dx||      ||grad||       alpha      alpha0  # evals  Notes \n",
      "      99       1771.75   1.67023e-05       59.0368           1           1      129   \n",
      "    Iter      log prob        ||dx||      ||grad||       alpha      alpha0  # evals  Notes \n",
      "     126       1771.76   0.000107439       83.5636   1.075e-06       0.001      200  LS failed, Hessian reset \n"
     ]
    },
    {
     "name": "stderr",
     "output_type": "stream",
     "text": [
      "/home/jonathan/anaconda3/lib/python3.9/site-packages/fbprophet/forecaster.py:891: FutureWarning: The frame.append method is deprecated and will be removed from pandas in a future version. Use pandas.concat instead.\n",
      "  components = components.append(new_comp)\n",
      "/home/jonathan/anaconda3/lib/python3.9/site-packages/fbprophet/forecaster.py:891: FutureWarning: The frame.append method is deprecated and will be removed from pandas in a future version. Use pandas.concat instead.\n",
      "  components = components.append(new_comp)\n"
     ]
    },
    {
     "name": "stdout",
     "output_type": "stream",
     "text": [
      "     171       1771.76   2.87824e-06        77.538   3.128e-08       0.001      294  LS failed, Hessian reset \n",
      "     184       1771.76   8.55868e-08       58.7232      0.2414           1      312   \n",
      "Optimization terminated normally: \n",
      "  Convergence detected: relative gradient magnitude is below tolerance\n"
     ]
    },
    {
     "name": "stderr",
     "output_type": "stream",
     "text": [
      "INFO:prophet:Applying in parallel with <concurrent.futures.process.ProcessPoolExecutor object at 0x7f4f4d338d90>\n",
      "/home/jonathan/anaconda3/lib/python3.9/site-packages/fbprophet/forecaster.py:891: FutureWarning: The frame.append method is deprecated and will be removed from pandas in a future version. Use pandas.concat instead.\n",
      "  components = components.append(new_comp)\n"
     ]
    },
    {
     "name": "stdout",
     "output_type": "stream",
     "text": [
      "Initial log joint probability = -34.334\n",
      "    Iter      log prob        ||dx||      ||grad||       alpha      alpha0  # evals  Notes \n",
      "      99       1774.17   0.000116372        78.162      0.9395      0.9395      117   \n",
      "    Iter      log prob        ||dx||      ||grad||       alpha      alpha0  # evals  Notes \n"
     ]
    },
    {
     "name": "stderr",
     "output_type": "stream",
     "text": [
      "/home/jonathan/anaconda3/lib/python3.9/site-packages/fbprophet/forecaster.py:891: FutureWarning: The frame.append method is deprecated and will be removed from pandas in a future version. Use pandas.concat instead.\n",
      "  components = components.append(new_comp)\n",
      "/home/jonathan/anaconda3/lib/python3.9/site-packages/fbprophet/forecaster.py:891: FutureWarning: The frame.append method is deprecated and will be removed from pandas in a future version. Use pandas.concat instead.\n",
      "  components = components.append(new_comp)\n"
     ]
    },
    {
     "name": "stdout",
     "output_type": "stream",
     "text": [
      "     197       1774.28    0.00011743       96.2452   1.267e-06       0.001      280  LS failed, Hessian reset \n",
      "     199       1774.28   3.19202e-05       65.6815      0.7387      0.7387      282   \n",
      "    Iter      log prob        ||dx||      ||grad||       alpha      alpha0  # evals  Notes \n",
      "     229       1774.29   9.31157e-08       81.6287      0.8199      0.8199      324   \n",
      "Optimization terminated normally: \n",
      "  Convergence detected: relative gradient magnitude is below tolerance\n"
     ]
    },
    {
     "name": "stderr",
     "output_type": "stream",
     "text": [
      "INFO:prophet:Applying in parallel with <concurrent.futures.process.ProcessPoolExecutor object at 0x7f4f4c7cf0d0>\n",
      "/home/jonathan/anaconda3/lib/python3.9/site-packages/fbprophet/forecaster.py:891: FutureWarning: The frame.append method is deprecated and will be removed from pandas in a future version. Use pandas.concat instead.\n",
      "  components = components.append(new_comp)\n"
     ]
    },
    {
     "name": "stdout",
     "output_type": "stream",
     "text": [
      "Initial log joint probability = -19.727\n",
      "    Iter      log prob        ||dx||      ||grad||       alpha      alpha0  # evals  Notes \n",
      "      99       1775.33    7.1544e-05        86.749      0.4088      0.4088      120   \n",
      "    Iter      log prob        ||dx||      ||grad||       alpha      alpha0  # evals  Notes \n",
      "     199       1776.05    0.00150622       97.2382           1           1      239   \n",
      "    Iter      log prob        ||dx||      ||grad||       alpha      alpha0  # evals  Notes \n",
      "     264       1776.23   4.89814e-05       93.4998   6.067e-07       0.001      363  LS failed, Hessian reset \n",
      "     299       1776.24   1.20084e-06       80.0615      0.3892           1      405   \n",
      "    Iter      log prob        ||dx||      ||grad||       alpha      alpha0  # evals  Notes \n",
      "     399       1776.31   0.000186651       80.3935           1           1      529   \n",
      "    Iter      log prob        ||dx||      ||grad||       alpha      alpha0  # evals  Notes \n"
     ]
    },
    {
     "name": "stderr",
     "output_type": "stream",
     "text": [
      "/home/jonathan/anaconda3/lib/python3.9/site-packages/fbprophet/forecaster.py:891: FutureWarning: The frame.append method is deprecated and will be removed from pandas in a future version. Use pandas.concat instead.\n",
      "  components = components.append(new_comp)\n",
      "/home/jonathan/anaconda3/lib/python3.9/site-packages/fbprophet/forecaster.py:891: FutureWarning: The frame.append method is deprecated and will be removed from pandas in a future version. Use pandas.concat instead.\n",
      "  components = components.append(new_comp)\n"
     ]
    },
    {
     "name": "stdout",
     "output_type": "stream",
     "text": [
      "     461       1776.39   0.000766759       92.1801   8.607e-06       0.001      661  LS failed, Hessian reset \n",
      "     499       1776.48   3.27505e-05        62.846      0.2078           1      705   \n",
      "    Iter      log prob        ||dx||      ||grad||       alpha      alpha0  # evals  Notes \n",
      "     511       1776.49   4.80158e-05       84.6634   5.057e-07       0.001      751  LS failed, Hessian reset \n",
      "     543       1776.49   7.25168e-08       75.9877      0.3309           1      791   \n",
      "Optimization terminated normally: \n",
      "  Convergence detected: relative gradient magnitude is below tolerance\n"
     ]
    },
    {
     "name": "stderr",
     "output_type": "stream",
     "text": [
      "INFO:prophet:Applying in parallel with <concurrent.futures.process.ProcessPoolExecutor object at 0x7f4f4d7fd0d0>\n",
      "/home/jonathan/anaconda3/lib/python3.9/site-packages/fbprophet/forecaster.py:891: FutureWarning: The frame.append method is deprecated and will be removed from pandas in a future version. Use pandas.concat instead.\n",
      "  components = components.append(new_comp)\n"
     ]
    },
    {
     "name": "stdout",
     "output_type": "stream",
     "text": [
      "Initial log joint probability = -19.9561\n",
      "    Iter      log prob        ||dx||      ||grad||       alpha      alpha0  # evals  Notes \n",
      "      99       1775.47    0.00374657       117.509           1           1      119   \n",
      "    Iter      log prob        ||dx||      ||grad||       alpha      alpha0  # evals  Notes \n",
      "     199       1776.33    0.00181473       86.1528      0.9328      0.9328      237   \n",
      "    Iter      log prob        ||dx||      ||grad||       alpha      alpha0  # evals  Notes \n",
      "     299       1777.26   2.76005e-05       86.4803           1           1      355   \n",
      "    Iter      log prob        ||dx||      ||grad||       alpha      alpha0  # evals  Notes \n",
      "     399       1777.27   1.59424e-05        70.137           1           1      476   \n",
      "    Iter      log prob        ||dx||      ||grad||       alpha      alpha0  # evals  Notes \n",
      "     464       1777.28   3.88258e-08       75.5353     0.08005           1      564   \n",
      "Optimization terminated normally: \n",
      "  Convergence detected: relative gradient magnitude is below tolerance\n"
     ]
    },
    {
     "name": "stderr",
     "output_type": "stream",
     "text": [
      "/home/jonathan/anaconda3/lib/python3.9/site-packages/fbprophet/forecaster.py:891: FutureWarning: The frame.append method is deprecated and will be removed from pandas in a future version. Use pandas.concat instead.\n",
      "  components = components.append(new_comp)\n",
      "/home/jonathan/anaconda3/lib/python3.9/site-packages/fbprophet/forecaster.py:891: FutureWarning: The frame.append method is deprecated and will be removed from pandas in a future version. Use pandas.concat instead.\n",
      "  components = components.append(new_comp)\n",
      "INFO:prophet:Applying in parallel with <concurrent.futures.process.ProcessPoolExecutor object at 0x7f4f4c7cff40>\n",
      "/home/jonathan/anaconda3/lib/python3.9/site-packages/fbprophet/forecaster.py:891: FutureWarning: The frame.append method is deprecated and will be removed from pandas in a future version. Use pandas.concat instead.\n",
      "  components = components.append(new_comp)\n"
     ]
    },
    {
     "name": "stdout",
     "output_type": "stream",
     "text": [
      "Initial log joint probability = -36.7092\n",
      "    Iter      log prob        ||dx||      ||grad||       alpha      alpha0  # evals  Notes \n",
      "      99       1773.27   0.000783507       96.4283           1           1      123   \n",
      "    Iter      log prob        ||dx||      ||grad||       alpha      alpha0  # evals  Notes \n",
      "     183       1776.08    0.00191541       82.6137   2.189e-05       0.001      260  LS failed, Hessian reset \n",
      "     199       1776.52    0.00072231       76.1086      0.6937      0.6937      279   \n",
      "    Iter      log prob        ||dx||      ||grad||       alpha      alpha0  # evals  Notes \n",
      "     265       1777.18   0.000708418       121.638   8.044e-06       0.001      393  LS failed, Hessian reset \n",
      "     299        1777.5   0.000432601       73.8325           1           1      429   \n",
      "    Iter      log prob        ||dx||      ||grad||       alpha      alpha0  # evals  Notes \n",
      "     399       1778.08    0.00154888       99.3293           1           1      542   \n",
      "    Iter      log prob        ||dx||      ||grad||       alpha      alpha0  # evals  Notes \n",
      "     499       1778.64   2.49872e-05        76.892           1           1      659   \n",
      "    Iter      log prob        ||dx||      ||grad||       alpha      alpha0  # evals  Notes \n",
      "     599       1778.66   1.98137e-07       82.0676      0.5331      0.5331      777   \n",
      "    Iter      log prob        ||dx||      ||grad||       alpha      alpha0  # evals  Notes \n"
     ]
    },
    {
     "name": "stderr",
     "output_type": "stream",
     "text": [
      "/home/jonathan/anaconda3/lib/python3.9/site-packages/fbprophet/forecaster.py:891: FutureWarning: The frame.append method is deprecated and will be removed from pandas in a future version. Use pandas.concat instead.\n",
      "  components = components.append(new_comp)\n",
      "/home/jonathan/anaconda3/lib/python3.9/site-packages/fbprophet/forecaster.py:891: FutureWarning: The frame.append method is deprecated and will be removed from pandas in a future version. Use pandas.concat instead.\n",
      "  components = components.append(new_comp)\n"
     ]
    },
    {
     "name": "stdout",
     "output_type": "stream",
     "text": [
      "     699       1778.68   2.21007e-07       77.1128      0.4791      0.4791      892   \n",
      "    Iter      log prob        ||dx||      ||grad||       alpha      alpha0  # evals  Notes \n",
      "     727       1778.68   4.69577e-08        81.862      0.5654           1      931   \n",
      "Optimization terminated normally: \n",
      "  Convergence detected: relative gradient magnitude is below tolerance\n"
     ]
    },
    {
     "name": "stderr",
     "output_type": "stream",
     "text": [
      "INFO:prophet:Applying in parallel with <concurrent.futures.process.ProcessPoolExecutor object at 0x7f4f4d338ee0>\n",
      "/home/jonathan/anaconda3/lib/python3.9/site-packages/fbprophet/forecaster.py:891: FutureWarning: The frame.append method is deprecated and will be removed from pandas in a future version. Use pandas.concat instead.\n",
      "  components = components.append(new_comp)\n"
     ]
    },
    {
     "name": "stdout",
     "output_type": "stream",
     "text": [
      "Initial log joint probability = -23.6717\n",
      "    Iter      log prob        ||dx||      ||grad||       alpha      alpha0  # evals  Notes \n",
      "      99       1777.78    0.00917926       235.938           1           1      117   \n",
      "    Iter      log prob        ||dx||      ||grad||       alpha      alpha0  # evals  Notes \n",
      "     199       1779.55    0.00158864       102.914           1           1      233   \n",
      "    Iter      log prob        ||dx||      ||grad||       alpha      alpha0  # evals  Notes \n"
     ]
    },
    {
     "name": "stderr",
     "output_type": "stream",
     "text": [
      "/home/jonathan/anaconda3/lib/python3.9/site-packages/fbprophet/forecaster.py:891: FutureWarning: The frame.append method is deprecated and will be removed from pandas in a future version. Use pandas.concat instead.\n",
      "  components = components.append(new_comp)\n"
     ]
    },
    {
     "name": "stdout",
     "output_type": "stream",
     "text": [
      "     270       1779.93   3.83172e-05       62.8766   4.785e-07       0.001      354  LS failed, Hessian reset \n",
      "     299       1779.95   0.000326049       67.4924           1           1      386   \n",
      "    Iter      log prob        ||dx||      ||grad||       alpha      alpha0  # evals  Notes \n",
      "     309       1779.95   1.45015e-05       79.1064   2.137e-07       0.001      430  LS failed, Hessian reset \n",
      "     341       1779.96   4.59967e-06       87.2692     6.3e-08       0.001      513  LS failed, Hessian reset \n",
      "     371       1779.96    1.8511e-07       75.3595           1           1      552   \n",
      "Optimization terminated normally: \n",
      "  Convergence detected: relative gradient magnitude is below tolerance\n"
     ]
    },
    {
     "name": "stderr",
     "output_type": "stream",
     "text": [
      "/home/jonathan/anaconda3/lib/python3.9/site-packages/fbprophet/forecaster.py:891: FutureWarning: The frame.append method is deprecated and will be removed from pandas in a future version. Use pandas.concat instead.\n",
      "  components = components.append(new_comp)\n",
      "INFO:prophet:Applying in parallel with <concurrent.futures.process.ProcessPoolExecutor object at 0x7f4f4c7cff40>\n",
      "/home/jonathan/anaconda3/lib/python3.9/site-packages/fbprophet/forecaster.py:891: FutureWarning: The frame.append method is deprecated and will be removed from pandas in a future version. Use pandas.concat instead.\n",
      "  components = components.append(new_comp)\n"
     ]
    },
    {
     "name": "stdout",
     "output_type": "stream",
     "text": [
      "Initial log joint probability = -32.3262\n",
      "    Iter      log prob        ||dx||      ||grad||       alpha      alpha0  # evals  Notes \n",
      "      99       1778.35    0.00826145       106.121           1           1      124   \n",
      "    Iter      log prob        ||dx||      ||grad||       alpha      alpha0  # evals  Notes \n",
      "     199       1780.44   0.000102801       70.8311           1           1      251   \n",
      "    Iter      log prob        ||dx||      ||grad||       alpha      alpha0  # evals  Notes \n",
      "     299       1781.48   0.000234011       89.5249           1           1      377   \n",
      "    Iter      log prob        ||dx||      ||grad||       alpha      alpha0  # evals  Notes \n",
      "     399       1781.81   0.000234069       83.4124      0.1854      0.1854      495   \n",
      "    Iter      log prob        ||dx||      ||grad||       alpha      alpha0  # evals  Notes \n",
      "     499       1782.25   6.56272e-05       69.3422           1           1      616   \n",
      "    Iter      log prob        ||dx||      ||grad||       alpha      alpha0  # evals  Notes \n"
     ]
    },
    {
     "name": "stderr",
     "output_type": "stream",
     "text": [
      "/home/jonathan/anaconda3/lib/python3.9/site-packages/fbprophet/forecaster.py:891: FutureWarning: The frame.append method is deprecated and will be removed from pandas in a future version. Use pandas.concat instead.\n",
      "  components = components.append(new_comp)\n",
      "/home/jonathan/anaconda3/lib/python3.9/site-packages/fbprophet/forecaster.py:891: FutureWarning: The frame.append method is deprecated and will be removed from pandas in a future version. Use pandas.concat instead.\n",
      "  components = components.append(new_comp)\n"
     ]
    },
    {
     "name": "stdout",
     "output_type": "stream",
     "text": [
      "     516       1782.26   3.45449e-05       84.0377   3.208e-07       0.001      675  LS failed, Hessian reset \n",
      "     542       1782.26   1.44004e-07       72.1824      0.9434      0.9434      708   \n",
      "Optimization terminated normally: \n",
      "  Convergence detected: relative gradient magnitude is below tolerance\n"
     ]
    },
    {
     "name": "stderr",
     "output_type": "stream",
     "text": [
      "INFO:prophet:Applying in parallel with <concurrent.futures.process.ProcessPoolExecutor object at 0x7f4f4d7fd0d0>\n",
      "/home/jonathan/anaconda3/lib/python3.9/site-packages/fbprophet/forecaster.py:891: FutureWarning: The frame.append method is deprecated and will be removed from pandas in a future version. Use pandas.concat instead.\n",
      "  components = components.append(new_comp)\n"
     ]
    },
    {
     "name": "stdout",
     "output_type": "stream",
     "text": [
      "Initial log joint probability = -31.5833\n",
      "    Iter      log prob        ||dx||      ||grad||       alpha      alpha0  # evals  Notes \n",
      "      99        1780.7   0.000470496       72.8527           1           1      115   \n",
      "    Iter      log prob        ||dx||      ||grad||       alpha      alpha0  # evals  Notes \n",
      "     199       1782.95   0.000498219       118.887      0.8435      0.8435      234   \n",
      "    Iter      log prob        ||dx||      ||grad||       alpha      alpha0  # evals  Notes \n",
      "     240       1783.47   0.000451804       112.271   5.735e-06       0.001      344  LS failed, Hessian reset \n",
      "     299       1783.99   0.000842097       80.1088      0.9936      0.9936      410   \n",
      "    Iter      log prob        ||dx||      ||grad||       alpha      alpha0  # evals  Notes \n",
      "     399       1784.37   0.000370726       84.8169      0.8729      0.8729      520   \n",
      "    Iter      log prob        ||dx||      ||grad||       alpha      alpha0  # evals  Notes \n",
      "     424       1784.64   0.000492613       113.146   5.309e-06       0.001      577  LS failed, Hessian reset \n",
      "     453       1784.69   9.57223e-05       80.5695   1.154e-06       0.001      647  LS failed, Hessian reset \n",
      "     499       1784.72    0.00012072       83.8297      0.3082           1      705   \n",
      "    Iter      log prob        ||dx||      ||grad||       alpha      alpha0  # evals  Notes \n",
      "     599        1784.8    1.4883e-06       60.9433      0.5594      0.5594      825   \n",
      "    Iter      log prob        ||dx||      ||grad||       alpha      alpha0  # evals  Notes \n",
      "     642       1784.81   5.79858e-06       84.8636    6.81e-08       0.001      942  LS failed, Hessian reset \n",
      "     699       1784.83   4.13308e-06       69.5393      0.2746           1     1015   \n",
      "    Iter      log prob        ||dx||      ||grad||       alpha      alpha0  # evals  Notes \n"
     ]
    },
    {
     "name": "stderr",
     "output_type": "stream",
     "text": [
      "/home/jonathan/anaconda3/lib/python3.9/site-packages/fbprophet/forecaster.py:891: FutureWarning: The frame.append method is deprecated and will be removed from pandas in a future version. Use pandas.concat instead.\n",
      "  components = components.append(new_comp)\n",
      "/home/jonathan/anaconda3/lib/python3.9/site-packages/fbprophet/forecaster.py:891: FutureWarning: The frame.append method is deprecated and will be removed from pandas in a future version. Use pandas.concat instead.\n",
      "  components = components.append(new_comp)\n"
     ]
    },
    {
     "name": "stdout",
     "output_type": "stream",
     "text": [
      "     719       1784.83   2.26306e-06       95.3301   3.096e-08       0.001     1081  LS failed, Hessian reset \n",
      "     734       1784.83   5.87369e-08       65.3449      0.5185      0.5185     1097   \n",
      "Optimization terminated normally: \n",
      "  Convergence detected: relative gradient magnitude is below tolerance\n"
     ]
    },
    {
     "name": "stderr",
     "output_type": "stream",
     "text": [
      "INFO:prophet:Applying in parallel with <concurrent.futures.process.ProcessPoolExecutor object at 0x7f4f4c94c0d0>\n",
      "/home/jonathan/anaconda3/lib/python3.9/site-packages/fbprophet/forecaster.py:891: FutureWarning: The frame.append method is deprecated and will be removed from pandas in a future version. Use pandas.concat instead.\n",
      "  components = components.append(new_comp)\n"
     ]
    },
    {
     "name": "stdout",
     "output_type": "stream",
     "text": [
      "Initial log joint probability = -28.8285\n",
      "    Iter      log prob        ||dx||      ||grad||       alpha      alpha0  # evals  Notes \n",
      "      99       1783.37      0.008666       95.7156           1           1      118   \n",
      "    Iter      log prob        ||dx||      ||grad||       alpha      alpha0  # evals  Notes \n",
      "     181       1786.17     0.0014698       105.226   1.435e-05       0.001      252  LS failed, Hessian reset \n",
      "     199       1786.39   0.000260293       76.3628           1           1      271   \n",
      "    Iter      log prob        ||dx||      ||grad||       alpha      alpha0  # evals  Notes \n",
      "     299       1786.73   5.01295e-05       92.8839      0.5022      0.5022      386   \n",
      "    Iter      log prob        ||dx||      ||grad||       alpha      alpha0  # evals  Notes \n",
      "     363       1787.18   0.000425382       109.853   4.442e-06       0.001      502  LS failed, Hessian reset \n",
      "     399       1787.25   1.27788e-05       82.6536       0.266           1      542   \n",
      "    Iter      log prob        ||dx||      ||grad||       alpha      alpha0  # evals  Notes \n",
      "     499        1787.3    9.8493e-05       75.6148           1           1      655   \n",
      "    Iter      log prob        ||dx||      ||grad||       alpha      alpha0  # evals  Notes \n",
      "     537       1787.33   1.16245e-05       99.4166   1.214e-07       0.001      745  LS failed, Hessian reset \n"
     ]
    },
    {
     "name": "stderr",
     "output_type": "stream",
     "text": [
      "/home/jonathan/anaconda3/lib/python3.9/site-packages/fbprophet/forecaster.py:891: FutureWarning: The frame.append method is deprecated and will be removed from pandas in a future version. Use pandas.concat instead.\n",
      "  components = components.append(new_comp)\n",
      "/home/jonathan/anaconda3/lib/python3.9/site-packages/fbprophet/forecaster.py:891: FutureWarning: The frame.append method is deprecated and will be removed from pandas in a future version. Use pandas.concat instead.\n",
      "  components = components.append(new_comp)\n"
     ]
    },
    {
     "name": "stdout",
     "output_type": "stream",
     "text": [
      "     564       1787.33   5.85291e-08       84.9898      0.3298      0.3298      778   \n",
      "Optimization terminated normally: \n",
      "  Convergence detected: relative gradient magnitude is below tolerance\n"
     ]
    },
    {
     "name": "stderr",
     "output_type": "stream",
     "text": [
      "INFO:prophet:Applying in parallel with <concurrent.futures.process.ProcessPoolExecutor object at 0x7f4f4d7fd3d0>\n",
      "/home/jonathan/anaconda3/lib/python3.9/site-packages/fbprophet/forecaster.py:891: FutureWarning: The frame.append method is deprecated and will be removed from pandas in a future version. Use pandas.concat instead.\n",
      "  components = components.append(new_comp)\n"
     ]
    },
    {
     "name": "stdout",
     "output_type": "stream",
     "text": [
      "Initial log joint probability = -62.1286\n",
      "    Iter      log prob        ||dx||      ||grad||       alpha      alpha0  # evals  Notes \n",
      "      99       1841.06    0.00217766       94.5714           1           1      129   \n",
      "    Iter      log prob        ||dx||      ||grad||       alpha      alpha0  # evals  Notes \n",
      "     199       1845.25    0.00105549       90.4285      0.3338           1      246   \n",
      "    Iter      log prob        ||dx||      ||grad||       alpha      alpha0  # evals  Notes \n",
      "     227       1845.44   0.000144284       85.5204   1.618e-06       0.001      309  LS failed, Hessian reset \n",
      "     299       1845.61   0.000880432       92.0695           1           1      387   \n",
      "    Iter      log prob        ||dx||      ||grad||       alpha      alpha0  # evals  Notes \n",
      "     333       1845.73   0.000198578       89.9843   2.228e-06       0.001      476  LS failed, Hessian reset \n",
      "     399       1845.85   0.000538447       93.5488      0.3355           1      553   \n",
      "    Iter      log prob        ||dx||      ||grad||       alpha      alpha0  # evals  Notes \n",
      "     491       1846.52   0.000322232        105.22   2.628e-06       0.001      735  LS failed, Hessian reset \n",
      "     499       1846.75   0.000927506       144.735           1           1      743   \n",
      "    Iter      log prob        ||dx||      ||grad||       alpha      alpha0  # evals  Notes \n"
     ]
    },
    {
     "name": "stderr",
     "output_type": "stream",
     "text": [
      "/home/jonathan/anaconda3/lib/python3.9/site-packages/fbprophet/forecaster.py:891: FutureWarning: The frame.append method is deprecated and will be removed from pandas in a future version. Use pandas.concat instead.\n",
      "  components = components.append(new_comp)\n",
      "/home/jonathan/anaconda3/lib/python3.9/site-packages/fbprophet/forecaster.py:891: FutureWarning: The frame.append method is deprecated and will be removed from pandas in a future version. Use pandas.concat instead.\n",
      "  components = components.append(new_comp)\n"
     ]
    },
    {
     "name": "stdout",
     "output_type": "stream",
     "text": [
      "     571       1847.26   7.65638e-06       73.6482   9.738e-08       0.001      865  LS failed, Hessian reset \n",
      "     587       1847.26   1.10571e-07       79.4293      0.5528      0.5528      887   \n",
      "Optimization terminated normally: \n",
      "  Convergence detected: relative gradient magnitude is below tolerance\n"
     ]
    },
    {
     "name": "stderr",
     "output_type": "stream",
     "text": [
      "INFO:prophet:Applying in parallel with <concurrent.futures.process.ProcessPoolExecutor object at 0x7f4f4c7cfd00>\n",
      "/home/jonathan/anaconda3/lib/python3.9/site-packages/fbprophet/forecaster.py:891: FutureWarning: The frame.append method is deprecated and will be removed from pandas in a future version. Use pandas.concat instead.\n",
      "  components = components.append(new_comp)\n"
     ]
    },
    {
     "name": "stdout",
     "output_type": "stream",
     "text": [
      "Initial log joint probability = -41.5163\n",
      "    Iter      log prob        ||dx||      ||grad||       alpha      alpha0  # evals  Notes \n",
      "      60       1843.63    0.00252126       86.5545    3.21e-05       0.001      109  LS failed, Hessian reset \n",
      "      99        1844.6    0.00567645       108.639           1           1      151   \n",
      "    Iter      log prob        ||dx||      ||grad||       alpha      alpha0  # evals  Notes \n",
      "     111       1845.39   0.000419052       135.468   3.529e-06       0.001      205  LS failed, Hessian reset \n",
      "     199       1847.77    0.00035781       80.8196      0.5812      0.5812      309   \n",
      "    Iter      log prob        ||dx||      ||grad||       alpha      alpha0  # evals  Notes \n",
      "     299       1848.76   2.51736e-05        77.715           1           1      431   \n",
      "    Iter      log prob        ||dx||      ||grad||       alpha      alpha0  # evals  Notes \n",
      "     375       1849.36   0.000905361       231.186   7.546e-06       0.001      548  LS failed, Hessian reset \n",
      "     399       1849.75   0.000178444       105.536      0.7634      0.7634      574   \n",
      "    Iter      log prob        ||dx||      ||grad||       alpha      alpha0  # evals  Notes \n"
     ]
    },
    {
     "name": "stderr",
     "output_type": "stream",
     "text": [
      "/home/jonathan/anaconda3/lib/python3.9/site-packages/fbprophet/forecaster.py:891: FutureWarning: The frame.append method is deprecated and will be removed from pandas in a future version. Use pandas.concat instead.\n",
      "  components = components.append(new_comp)\n",
      "/home/jonathan/anaconda3/lib/python3.9/site-packages/fbprophet/forecaster.py:891: FutureWarning: The frame.append method is deprecated and will be removed from pandas in a future version. Use pandas.concat instead.\n",
      "  components = components.append(new_comp)\n"
     ]
    },
    {
     "name": "stdout",
     "output_type": "stream",
     "text": [
      "     484       1849.85   1.80386e-08       92.1908      0.2451      0.2451      674   \n",
      "Optimization terminated normally: \n",
      "  Convergence detected: relative gradient magnitude is below tolerance\n"
     ]
    },
    {
     "name": "stderr",
     "output_type": "stream",
     "text": [
      "INFO:prophet:Applying in parallel with <concurrent.futures.process.ProcessPoolExecutor object at 0x7f4f4d24e3a0>\n",
      "/home/jonathan/anaconda3/lib/python3.9/site-packages/fbprophet/forecaster.py:891: FutureWarning: The frame.append method is deprecated and will be removed from pandas in a future version. Use pandas.concat instead.\n",
      "  components = components.append(new_comp)\n"
     ]
    },
    {
     "name": "stdout",
     "output_type": "stream",
     "text": [
      "Initial log joint probability = -49.7578\n",
      "    Iter      log prob        ||dx||      ||grad||       alpha      alpha0  # evals  Notes \n",
      "      99       1846.49    0.00631145       146.421           1           1      132   \n",
      "    Iter      log prob        ||dx||      ||grad||       alpha      alpha0  # evals  Notes \n",
      "     109       1847.27   0.000398279       130.871   2.673e-06       0.001      174  LS failed, Hessian reset \n",
      "     199       1850.04    0.00152309       106.168           1           1      291   \n",
      "    Iter      log prob        ||dx||      ||grad||       alpha      alpha0  # evals  Notes \n",
      "     299       1850.89   4.18669e-05        85.989           1           1      412   \n",
      "    Iter      log prob        ||dx||      ||grad||       alpha      alpha0  # evals  Notes \n",
      "     399       1850.96   0.000112318       99.8601           1           1      532   \n",
      "    Iter      log prob        ||dx||      ||grad||       alpha      alpha0  # evals  Notes \n",
      "     499       1851.08   4.35091e-05       93.3618           1           1      650   \n",
      "    Iter      log prob        ||dx||      ||grad||       alpha      alpha0  # evals  Notes \n",
      "     599       1851.11   5.36486e-05        90.828      0.5068      0.5068      769   \n",
      "    Iter      log prob        ||dx||      ||grad||       alpha      alpha0  # evals  Notes \n",
      "     683        1851.7   0.000381306       125.577   2.796e-06       0.001      954  LS failed, Hessian reset \n",
      "     699       1852.08   0.000418049       84.9728           1           1      972   \n",
      "    Iter      log prob        ||dx||      ||grad||       alpha      alpha0  # evals  Notes \n",
      "     789       1852.29   0.000156028        66.619   1.737e-06       0.001     1116  LS failed, Hessian reset \n",
      "     799        1852.3   9.18971e-05       91.0842      0.5215      0.5215     1128   \n",
      "    Iter      log prob        ||dx||      ||grad||       alpha      alpha0  # evals  Notes \n"
     ]
    },
    {
     "name": "stderr",
     "output_type": "stream",
     "text": [
      "/home/jonathan/anaconda3/lib/python3.9/site-packages/fbprophet/forecaster.py:891: FutureWarning: The frame.append method is deprecated and will be removed from pandas in a future version. Use pandas.concat instead.\n",
      "  components = components.append(new_comp)\n",
      "/home/jonathan/anaconda3/lib/python3.9/site-packages/fbprophet/forecaster.py:891: FutureWarning: The frame.append method is deprecated and will be removed from pandas in a future version. Use pandas.concat instead.\n",
      "  components = components.append(new_comp)\n"
     ]
    },
    {
     "name": "stdout",
     "output_type": "stream",
     "text": [
      "     853       1852.33    2.8746e-05       73.9331    3.29e-07       0.001     1246  LS failed, Hessian reset \n",
      "     893       1852.33   1.35988e-07       73.0969           1           1     1300   \n",
      "Optimization terminated normally: \n",
      "  Convergence detected: relative gradient magnitude is below tolerance\n"
     ]
    },
    {
     "name": "stderr",
     "output_type": "stream",
     "text": [
      "INFO:prophet:Applying in parallel with <concurrent.futures.process.ProcessPoolExecutor object at 0x7f4f4c7cfe80>\n",
      "/home/jonathan/anaconda3/lib/python3.9/site-packages/fbprophet/forecaster.py:891: FutureWarning: The frame.append method is deprecated and will be removed from pandas in a future version. Use pandas.concat instead.\n",
      "  components = components.append(new_comp)\n"
     ]
    },
    {
     "name": "stdout",
     "output_type": "stream",
     "text": [
      "Initial log joint probability = -32.7929\n",
      "    Iter      log prob        ||dx||      ||grad||       alpha      alpha0  # evals  Notes \n",
      "      99       1850.61    0.00463575       235.994           1           1      128   \n",
      "    Iter      log prob        ||dx||      ||grad||       alpha      alpha0  # evals  Notes \n",
      "     143       1852.35    0.00254613        373.79     2.7e-05       0.001      206  LS failed, Hessian reset \n",
      "     199       1853.03   0.000262821       88.6927           1           1      278   \n",
      "    Iter      log prob        ||dx||      ||grad||       alpha      alpha0  # evals  Notes \n",
      "     299       1853.66   0.000111908       84.2457      0.3559           1      398   \n",
      "    Iter      log prob        ||dx||      ||grad||       alpha      alpha0  # evals  Notes \n",
      "     386       1854.65    0.00134958       101.331   1.475e-05       0.001      531  LS failed, Hessian reset \n",
      "     399       1854.71   7.15734e-06       71.8434      0.2188      0.2188      546   \n",
      "    Iter      log prob        ||dx||      ||grad||       alpha      alpha0  # evals  Notes \n",
      "     499       1854.79   6.75332e-06       83.2547      0.4099           1      672   \n",
      "    Iter      log prob        ||dx||      ||grad||       alpha      alpha0  # evals  Notes \n"
     ]
    },
    {
     "name": "stderr",
     "output_type": "stream",
     "text": [
      "/home/jonathan/anaconda3/lib/python3.9/site-packages/fbprophet/forecaster.py:891: FutureWarning: The frame.append method is deprecated and will be removed from pandas in a future version. Use pandas.concat instead.\n",
      "  components = components.append(new_comp)\n",
      "/home/jonathan/anaconda3/lib/python3.9/site-packages/fbprophet/forecaster.py:891: FutureWarning: The frame.append method is deprecated and will be removed from pandas in a future version. Use pandas.concat instead.\n",
      "  components = components.append(new_comp)\n"
     ]
    },
    {
     "name": "stdout",
     "output_type": "stream",
     "text": [
      "     599       1854.81   6.39988e-05       74.4209      0.4206           1      794   \n",
      "    Iter      log prob        ||dx||      ||grad||       alpha      alpha0  # evals  Notes \n",
      "     645       1854.81    1.8997e-07       105.113      0.6838      0.6838      850   \n",
      "Optimization terminated normally: \n",
      "  Convergence detected: relative gradient magnitude is below tolerance\n"
     ]
    },
    {
     "name": "stderr",
     "output_type": "stream",
     "text": [
      "INFO:prophet:Applying in parallel with <concurrent.futures.process.ProcessPoolExecutor object at 0x7f4f4d24e4f0>\n",
      "/home/jonathan/anaconda3/lib/python3.9/site-packages/fbprophet/forecaster.py:891: FutureWarning: The frame.append method is deprecated and will be removed from pandas in a future version. Use pandas.concat instead.\n",
      "  components = components.append(new_comp)\n"
     ]
    },
    {
     "name": "stdout",
     "output_type": "stream",
     "text": [
      "Initial log joint probability = -25.4971\n",
      "    Iter      log prob        ||dx||      ||grad||       alpha      alpha0  # evals  Notes \n",
      "      99       1853.28    0.00031529       85.0654      0.3441      0.3441      124   \n",
      "    Iter      log prob        ||dx||      ||grad||       alpha      alpha0  # evals  Notes \n",
      "     138       1854.91   0.000817042       211.125   8.081e-06       0.001      208  LS failed, Hessian reset \n",
      "     199       1855.28   4.98712e-05       105.734      0.4987      0.4987      284   \n",
      "    Iter      log prob        ||dx||      ||grad||       alpha      alpha0  # evals  Notes \n",
      "     245       1855.93   0.000383517       106.418   4.157e-06       0.001      379  LS failed, Hessian reset \n",
      "     299        1856.1    0.00212729       84.0756           1           1      446   \n",
      "    Iter      log prob        ||dx||      ||grad||       alpha      alpha0  # evals  Notes \n",
      "     399       1856.79    0.00196802       94.4513           1           1      562   \n",
      "    Iter      log prob        ||dx||      ||grad||       alpha      alpha0  # evals  Notes \n",
      "     404       1856.83   0.000626862        92.592   6.832e-06       0.001      613  LS failed, Hessian reset \n",
      "     499       1856.96   3.61877e-05       95.8971      0.7695      0.7695      723   \n",
      "    Iter      log prob        ||dx||      ||grad||       alpha      alpha0  # evals  Notes \n"
     ]
    },
    {
     "name": "stderr",
     "output_type": "stream",
     "text": [
      "/home/jonathan/anaconda3/lib/python3.9/site-packages/fbprophet/forecaster.py:891: FutureWarning: The frame.append method is deprecated and will be removed from pandas in a future version. Use pandas.concat instead.\n",
      "  components = components.append(new_comp)\n",
      "/home/jonathan/anaconda3/lib/python3.9/site-packages/fbprophet/forecaster.py:891: FutureWarning: The frame.append method is deprecated and will be removed from pandas in a future version. Use pandas.concat instead.\n",
      "  components = components.append(new_comp)\n"
     ]
    },
    {
     "name": "stdout",
     "output_type": "stream",
     "text": [
      "     599       1856.99   1.81101e-06       72.9999      0.4122           1      848   \n",
      "    Iter      log prob        ||dx||      ||grad||       alpha      alpha0  # evals  Notes \n",
      "     665       1856.99   1.24933e-07        66.885           1           1      934   \n",
      "Optimization terminated normally: \n",
      "  Convergence detected: relative gradient magnitude is below tolerance\n"
     ]
    },
    {
     "name": "stderr",
     "output_type": "stream",
     "text": [
      "INFO:prophet:Applying in parallel with <concurrent.futures.process.ProcessPoolExecutor object at 0x7f4f4c94c910>\n",
      "/home/jonathan/anaconda3/lib/python3.9/site-packages/fbprophet/forecaster.py:891: FutureWarning: The frame.append method is deprecated and will be removed from pandas in a future version. Use pandas.concat instead.\n",
      "  components = components.append(new_comp)\n"
     ]
    },
    {
     "name": "stdout",
     "output_type": "stream",
     "text": [
      "Initial log joint probability = -56.7511\n",
      "    Iter      log prob        ||dx||      ||grad||       alpha      alpha0  # evals  Notes \n",
      "      99        1849.4     0.0142603       222.387       0.215           1      126   \n",
      "    Iter      log prob        ||dx||      ||grad||       alpha      alpha0  # evals  Notes \n",
      "     199        1854.4    0.00194453       108.191      0.7023      0.7023      244   \n",
      "    Iter      log prob        ||dx||      ||grad||       alpha      alpha0  # evals  Notes \n",
      "     299       1855.59    0.00269478       208.671      0.4183      0.4183      356   \n",
      "    Iter      log prob        ||dx||      ||grad||       alpha      alpha0  # evals  Notes \n",
      "     306       1855.87    0.00173087       153.328   2.068e-05       0.001      393  LS failed, Hessian reset \n",
      "     399        1856.6   2.23717e-05       77.3734           1           1      507   \n",
      "    Iter      log prob        ||dx||      ||grad||       alpha      alpha0  # evals  Notes \n",
      "     499       1856.74   0.000208563       92.7201           1           1      624   \n",
      "    Iter      log prob        ||dx||      ||grad||       alpha      alpha0  # evals  Notes \n",
      "     599       1856.87   0.000282315       89.3758           1           1      736   \n",
      "    Iter      log prob        ||dx||      ||grad||       alpha      alpha0  # evals  Notes \n",
      "     699        1857.2    0.00131651       96.4411           1           1      854   \n",
      "    Iter      log prob        ||dx||      ||grad||       alpha      alpha0  # evals  Notes \n",
      "     718       1857.34   0.000370182       89.4861   4.027e-06       0.001      913  LS failed, Hessian reset \n"
     ]
    },
    {
     "name": "stderr",
     "output_type": "stream",
     "text": [
      "/home/jonathan/anaconda3/lib/python3.9/site-packages/fbprophet/forecaster.py:891: FutureWarning: The frame.append method is deprecated and will be removed from pandas in a future version. Use pandas.concat instead.\n",
      "  components = components.append(new_comp)\n"
     ]
    },
    {
     "name": "stdout",
     "output_type": "stream",
     "text": [
      "     799       1857.47   0.000164055       87.5981           1           1     1009   \n",
      "    Iter      log prob        ||dx||      ||grad||       alpha      alpha0  # evals  Notes \n",
      "     898       1857.49   2.74016e-06       86.5975   3.331e-08       0.001     1175  LS failed, Hessian reset \n",
      "     899       1857.49   1.13132e-06       80.9178           1           1     1176   \n",
      "    Iter      log prob        ||dx||      ||grad||       alpha      alpha0  # evals  Notes \n",
      "     915       1857.49   7.19339e-08       99.5404     0.05488      0.9351     1198   \n",
      "Optimization terminated normally: \n",
      "  Convergence detected: relative gradient magnitude is below tolerance\n"
     ]
    },
    {
     "name": "stderr",
     "output_type": "stream",
     "text": [
      "/home/jonathan/anaconda3/lib/python3.9/site-packages/fbprophet/forecaster.py:891: FutureWarning: The frame.append method is deprecated and will be removed from pandas in a future version. Use pandas.concat instead.\n",
      "  components = components.append(new_comp)\n",
      "INFO:prophet:Applying in parallel with <concurrent.futures.process.ProcessPoolExecutor object at 0x7f4f4d338d30>\n",
      "/home/jonathan/anaconda3/lib/python3.9/site-packages/fbprophet/forecaster.py:891: FutureWarning: The frame.append method is deprecated and will be removed from pandas in a future version. Use pandas.concat instead.\n",
      "  components = components.append(new_comp)\n"
     ]
    },
    {
     "name": "stdout",
     "output_type": "stream",
     "text": [
      "Initial log joint probability = -36.2025\n",
      "    Iter      log prob        ||dx||      ||grad||       alpha      alpha0  # evals  Notes \n",
      "      99       1854.13     0.0125578       104.095           1           1      119   \n",
      "    Iter      log prob        ||dx||      ||grad||       alpha      alpha0  # evals  Notes \n",
      "     199       1857.45   4.60779e-05       87.5662      0.4773      0.4773      235   \n",
      "    Iter      log prob        ||dx||      ||grad||       alpha      alpha0  # evals  Notes \n",
      "     244       1857.66   0.000308156       109.714   2.842e-06       0.001      330  LS failed, Hessian reset \n",
      "     299       1857.78   0.000167718        94.459      0.9433      0.9433      391   \n",
      "    Iter      log prob        ||dx||      ||grad||       alpha      alpha0  # evals  Notes \n",
      "     398       1858.85   0.000390193       119.901   1.858e-06       0.001      551  LS failed, Hessian reset \n",
      "     399       1858.86   0.000122803       93.7272           1           1      552   \n",
      "    Iter      log prob        ||dx||      ||grad||       alpha      alpha0  # evals  Notes \n"
     ]
    },
    {
     "name": "stderr",
     "output_type": "stream",
     "text": [
      "/home/jonathan/anaconda3/lib/python3.9/site-packages/fbprophet/forecaster.py:891: FutureWarning: The frame.append method is deprecated and will be removed from pandas in a future version. Use pandas.concat instead.\n",
      "  components = components.append(new_comp)\n"
     ]
    },
    {
     "name": "stdout",
     "output_type": "stream",
     "text": [
      "     499        1859.2   7.39858e-07       94.2256      0.6023      0.6023      682   \n",
      "    Iter      log prob        ||dx||      ||grad||       alpha      alpha0  # evals  Notes \n",
      "     522       1859.21   0.000172651       88.5743   1.608e-06       0.001      756  LS failed, Hessian reset \n",
      "     568       1859.22   5.73645e-08       72.8757      0.2301           1      816   \n",
      "Optimization terminated normally: \n",
      "  Convergence detected: relative gradient magnitude is below tolerance\n"
     ]
    },
    {
     "name": "stderr",
     "output_type": "stream",
     "text": [
      "/home/jonathan/anaconda3/lib/python3.9/site-packages/fbprophet/forecaster.py:891: FutureWarning: The frame.append method is deprecated and will be removed from pandas in a future version. Use pandas.concat instead.\n",
      "  components = components.append(new_comp)\n",
      "INFO:prophet:Applying in parallel with <concurrent.futures.process.ProcessPoolExecutor object at 0x7f4f4d7fdbb0>\n",
      "/home/jonathan/anaconda3/lib/python3.9/site-packages/fbprophet/forecaster.py:891: FutureWarning: The frame.append method is deprecated and will be removed from pandas in a future version. Use pandas.concat instead.\n",
      "  components = components.append(new_comp)\n"
     ]
    },
    {
     "name": "stdout",
     "output_type": "stream",
     "text": [
      "Initial log joint probability = -35.4529\n",
      "    Iter      log prob        ||dx||      ||grad||       alpha      alpha0  # evals  Notes \n",
      "      99       1854.73    0.00299201       105.628        0.75        0.75      120   \n",
      "    Iter      log prob        ||dx||      ||grad||       alpha      alpha0  # evals  Notes \n",
      "     199       1858.54   8.77436e-05       78.2856      0.3566           1      246   \n",
      "    Iter      log prob        ||dx||      ||grad||       alpha      alpha0  # evals  Notes \n",
      "     299       1858.91     0.0104577        175.23           1           1      364   \n",
      "    Iter      log prob        ||dx||      ||grad||       alpha      alpha0  # evals  Notes \n",
      "     337       1859.89    0.00110098       233.556   1.092e-05       0.001      446  LS failed, Hessian reset \n",
      "     399       1860.16   1.46485e-05       83.6972      0.3289           1      526   \n",
      "    Iter      log prob        ||dx||      ||grad||       alpha      alpha0  # evals  Notes \n",
      "     499        1860.2   0.000645335       87.6122           1           1      639   \n",
      "    Iter      log prob        ||dx||      ||grad||       alpha      alpha0  # evals  Notes \n",
      "     599       1860.23   1.09285e-05       95.5685       0.617       0.617      761   \n",
      "    Iter      log prob        ||dx||      ||grad||       alpha      alpha0  # evals  Notes \n",
      "     689       1860.23   4.08559e-07       76.4208           1           1      866   \n",
      "Optimization terminated normally: \n",
      "  Convergence detected: relative gradient magnitude is below tolerance\n"
     ]
    },
    {
     "name": "stderr",
     "output_type": "stream",
     "text": [
      "/home/jonathan/anaconda3/lib/python3.9/site-packages/fbprophet/forecaster.py:891: FutureWarning: The frame.append method is deprecated and will be removed from pandas in a future version. Use pandas.concat instead.\n",
      "  components = components.append(new_comp)\n",
      "/home/jonathan/anaconda3/lib/python3.9/site-packages/fbprophet/forecaster.py:891: FutureWarning: The frame.append method is deprecated and will be removed from pandas in a future version. Use pandas.concat instead.\n",
      "  components = components.append(new_comp)\n",
      "INFO:prophet:Applying in parallel with <concurrent.futures.process.ProcessPoolExecutor object at 0x7f4f4d338f10>\n",
      "/home/jonathan/anaconda3/lib/python3.9/site-packages/fbprophet/forecaster.py:891: FutureWarning: The frame.append method is deprecated and will be removed from pandas in a future version. Use pandas.concat instead.\n",
      "  components = components.append(new_comp)\n"
     ]
    },
    {
     "name": "stdout",
     "output_type": "stream",
     "text": [
      "Initial log joint probability = -17.9195\n",
      "    Iter      log prob        ||dx||      ||grad||       alpha      alpha0  # evals  Notes \n",
      "      99       1859.89    0.00143651       116.083           1           1      129   \n",
      "    Iter      log prob        ||dx||      ||grad||       alpha      alpha0  # evals  Notes \n"
     ]
    },
    {
     "name": "stderr",
     "output_type": "stream",
     "text": [
      "/home/jonathan/anaconda3/lib/python3.9/site-packages/fbprophet/forecaster.py:891: FutureWarning: The frame.append method is deprecated and will be removed from pandas in a future version. Use pandas.concat instead.\n",
      "  components = components.append(new_comp)\n",
      "/home/jonathan/anaconda3/lib/python3.9/site-packages/fbprophet/forecaster.py:891: FutureWarning: The frame.append method is deprecated and will be removed from pandas in a future version. Use pandas.concat instead.\n",
      "  components = components.append(new_comp)\n"
     ]
    },
    {
     "name": "stdout",
     "output_type": "stream",
     "text": [
      "     199       1861.92    9.3829e-06       82.7643           1           1      258   \n",
      "    Iter      log prob        ||dx||      ||grad||       alpha      alpha0  # evals  Notes \n",
      "     202       1861.92    6.5651e-06       97.0993   7.074e-08       0.001      299  LS failed, Hessian reset \n",
      "     219       1861.92   4.34221e-08       79.2581      0.3294           1      323   \n",
      "Optimization terminated normally: \n",
      "  Convergence detected: relative gradient magnitude is below tolerance\n"
     ]
    },
    {
     "name": "stderr",
     "output_type": "stream",
     "text": [
      "INFO:prophet:Applying in parallel with <concurrent.futures.process.ProcessPoolExecutor object at 0x7f4f4c7cf490>\n",
      "/home/jonathan/anaconda3/lib/python3.9/site-packages/fbprophet/forecaster.py:891: FutureWarning: The frame.append method is deprecated and will be removed from pandas in a future version. Use pandas.concat instead.\n",
      "  components = components.append(new_comp)\n"
     ]
    },
    {
     "name": "stdout",
     "output_type": "stream",
     "text": [
      "Initial log joint probability = -18.006\n",
      "    Iter      log prob        ||dx||      ||grad||       alpha      alpha0  # evals  Notes \n",
      "      99       1861.91   0.000136806       94.5925      0.2918      0.2918      123   \n",
      "    Iter      log prob        ||dx||      ||grad||       alpha      alpha0  # evals  Notes \n",
      "     185       1862.88   0.000176855        89.271   2.162e-06       0.001      289  LS failed, Hessian reset \n",
      "     199       1862.95   0.000818863       89.4337      0.5978      0.5978      305   \n",
      "    Iter      log prob        ||dx||      ||grad||       alpha      alpha0  # evals  Notes \n",
      "     299       1863.64     0.0022826       85.8004      0.6435           1      414   \n",
      "    Iter      log prob        ||dx||      ||grad||       alpha      alpha0  # evals  Notes \n",
      "     301       1863.65   0.000318306       76.7578   3.775e-06       0.001      465  LS failed, Hessian reset \n"
     ]
    },
    {
     "name": "stderr",
     "output_type": "stream",
     "text": [
      "/home/jonathan/anaconda3/lib/python3.9/site-packages/fbprophet/forecaster.py:891: FutureWarning: The frame.append method is deprecated and will be removed from pandas in a future version. Use pandas.concat instead.\n",
      "  components = components.append(new_comp)\n",
      "/home/jonathan/anaconda3/lib/python3.9/site-packages/fbprophet/forecaster.py:891: FutureWarning: The frame.append method is deprecated and will be removed from pandas in a future version. Use pandas.concat instead.\n",
      "  components = components.append(new_comp)\n"
     ]
    },
    {
     "name": "stdout",
     "output_type": "stream",
     "text": [
      "     385       1863.83   5.98238e-06       88.0964   6.461e-08       0.001      602  LS failed, Hessian reset \n",
      "     399       1863.83   2.42183e-07       75.1942      0.5178      0.5178      620   \n",
      "    Iter      log prob        ||dx||      ||grad||       alpha      alpha0  # evals  Notes \n",
      "     409       1863.83   2.83802e-08       85.9895      0.1364       0.661      632   \n",
      "Optimization terminated normally: \n",
      "  Convergence detected: relative gradient magnitude is below tolerance\n",
      "                     0        rmse      MAPE\n",
      "0  2020-05-25 00:00:00    2.522748  0.078725\n",
      "1  2020-05-25 01:00:00    6.318716  0.381312\n",
      "2  2020-05-25 02:00:00   29.312567  1.312170\n",
      "3  2020-05-25 03:00:00   11.824737  0.684777\n",
      "4  2020-05-25 04:00:00   49.165859  0.757213\n",
      "..                 ...         ...       ...\n",
      "67 2020-06-08 19:00:00    2.868943  0.005672\n",
      "68 2020-06-08 20:00:00  112.220824  0.223582\n",
      "69 2020-06-08 21:00:00   84.902747  0.293522\n",
      "70 2020-06-08 22:00:00   66.362799  0.216905\n",
      "71 2020-06-08 23:00:00   41.481493  0.239520\n",
      "\n",
      "[72 rows x 3 columns]\n"
     ]
    }
   ],
   "source": [
    "import itertools\n",
    "param_grid = {  \n",
    "    'fecha': ['2020-05-25','2020-06-01','2020-06-08'],\n",
    "    'hora': ['00:00:00','01:00:00','02:00:00','03:00:00','04:00:00','05:00:00','06:00:00','07:00:00','08:00:00',\n",
    "             '09:00:00','10:00:00','11:00:00','12:00:00','13:00:00','14:00:00','15:00:00','16:00:00','17:00:00',\n",
    "             '18:00:00','19:00:00','20:00:00','21:00:00','22:00:00'],\n",
    "}\n",
    "\n",
    "# Generate all combinations of parameters\n",
    "cont = 0\n",
    "for fecha in param_grid['fecha']:    \n",
    "    if cont==0:\n",
    "        Fechas = pd.date_range(start=fecha, periods=24, freq='H')\n",
    "    else:\n",
    "        Fecha_Range = pd.date_range(start=fecha, periods=24, freq='H')\n",
    "        Fechas = Fechas.append(Fecha_Range)\n",
    "    cont += 1\n",
    "\n",
    "all_params = [dict(zip(param_grid.keys(), v)) for v in itertools.product(*param_grid.values())]\n",
    "rmses = []  # Store the RMSEs for each params here\n",
    "MAPEs = []  # Store the MAPEs for each params here\n",
    "cutoff24_1 = {'fecha': '2020-05-24', 'hora': '23:00:00'}\n",
    "cutoff24_2 = {'fecha': '2020-05-31', 'hora': '23:00:00'}\n",
    "cutoff24_3 = {'fecha': '2020-06-07', 'hora': '23:00:00'}\n",
    "\n",
    "all_params.insert(0, cutoff24_1)\n",
    "all_params.insert(24, cutoff24_2)\n",
    "all_params.insert(48, cutoff24_3)\n",
    "# # Use cross validation to evaluate all parameters\n",
    "for params in all_params:\n",
    "    cutoff = params['fecha'] + ' ' + params['hora']\n",
    "    cutoffs = pd.to_datetime([cutoff])\n",
    "    df_cv = cross_validation(m, cutoffs=cutoffs, horizon='1 hours', parallel=\"processes\")\n",
    "    df_p = performance_metrics(df_cv, rolling_window=0)    \n",
    "    rmses.append(df_p['rmse'].values[0])\n",
    "    MAPEs.append(df_p['mape'].values[0])\n",
    "\n",
    "# # # Find the best parameters\n",
    "tuning_results = pd.DataFrame(Fechas)\n",
    "tuning_results['rmse'] = rmses\n",
    "tuning_results['MAPE'] = MAPEs\n",
    "print(tuning_results)"
   ]
  },
  {
   "cell_type": "code",
   "execution_count": 27,
   "id": "e8c79349",
   "metadata": {},
   "outputs": [],
   "source": [
    "#tuning_results.to_csv('CVDes.csv')"
   ]
  },
  {
   "cell_type": "code",
   "execution_count": 28,
   "id": "0df03447",
   "metadata": {},
   "outputs": [
    {
     "data": {
      "text/html": [
       "<div>\n",
       "<style scoped>\n",
       "    .dataframe tbody tr th:only-of-type {\n",
       "        vertical-align: middle;\n",
       "    }\n",
       "\n",
       "    .dataframe tbody tr th {\n",
       "        vertical-align: top;\n",
       "    }\n",
       "\n",
       "    .dataframe thead th {\n",
       "        text-align: right;\n",
       "    }\n",
       "</style>\n",
       "<table border=\"1\" class=\"dataframe\">\n",
       "  <thead>\n",
       "    <tr style=\"text-align: right;\">\n",
       "      <th></th>\n",
       "      <th>ds</th>\n",
       "      <th>rmse</th>\n",
       "      <th>MAPE</th>\n",
       "    </tr>\n",
       "  </thead>\n",
       "  <tbody>\n",
       "    <tr>\n",
       "      <th>0</th>\n",
       "      <td>2020-05-25 00:00:00</td>\n",
       "      <td>2.522748</td>\n",
       "      <td>0.078725</td>\n",
       "    </tr>\n",
       "    <tr>\n",
       "      <th>1</th>\n",
       "      <td>2020-05-25 01:00:00</td>\n",
       "      <td>6.318716</td>\n",
       "      <td>0.381312</td>\n",
       "    </tr>\n",
       "    <tr>\n",
       "      <th>2</th>\n",
       "      <td>2020-05-25 02:00:00</td>\n",
       "      <td>29.312567</td>\n",
       "      <td>1.312170</td>\n",
       "    </tr>\n",
       "    <tr>\n",
       "      <th>3</th>\n",
       "      <td>2020-05-25 03:00:00</td>\n",
       "      <td>11.824737</td>\n",
       "      <td>0.684777</td>\n",
       "    </tr>\n",
       "    <tr>\n",
       "      <th>4</th>\n",
       "      <td>2020-05-25 04:00:00</td>\n",
       "      <td>49.165859</td>\n",
       "      <td>0.757213</td>\n",
       "    </tr>\n",
       "    <tr>\n",
       "      <th>...</th>\n",
       "      <td>...</td>\n",
       "      <td>...</td>\n",
       "      <td>...</td>\n",
       "    </tr>\n",
       "    <tr>\n",
       "      <th>67</th>\n",
       "      <td>2020-06-08 19:00:00</td>\n",
       "      <td>2.868943</td>\n",
       "      <td>0.005672</td>\n",
       "    </tr>\n",
       "    <tr>\n",
       "      <th>68</th>\n",
       "      <td>2020-06-08 20:00:00</td>\n",
       "      <td>112.220824</td>\n",
       "      <td>0.223582</td>\n",
       "    </tr>\n",
       "    <tr>\n",
       "      <th>69</th>\n",
       "      <td>2020-06-08 21:00:00</td>\n",
       "      <td>84.902747</td>\n",
       "      <td>0.293522</td>\n",
       "    </tr>\n",
       "    <tr>\n",
       "      <th>70</th>\n",
       "      <td>2020-06-08 22:00:00</td>\n",
       "      <td>66.362799</td>\n",
       "      <td>0.216905</td>\n",
       "    </tr>\n",
       "    <tr>\n",
       "      <th>71</th>\n",
       "      <td>2020-06-08 23:00:00</td>\n",
       "      <td>41.481493</td>\n",
       "      <td>0.239520</td>\n",
       "    </tr>\n",
       "  </tbody>\n",
       "</table>\n",
       "<p>72 rows × 3 columns</p>\n",
       "</div>"
      ],
      "text/plain": [
       "                    ds        rmse      MAPE\n",
       "0  2020-05-25 00:00:00    2.522748  0.078725\n",
       "1  2020-05-25 01:00:00    6.318716  0.381312\n",
       "2  2020-05-25 02:00:00   29.312567  1.312170\n",
       "3  2020-05-25 03:00:00   11.824737  0.684777\n",
       "4  2020-05-25 04:00:00   49.165859  0.757213\n",
       "..                 ...         ...       ...\n",
       "67 2020-06-08 19:00:00    2.868943  0.005672\n",
       "68 2020-06-08 20:00:00  112.220824  0.223582\n",
       "69 2020-06-08 21:00:00   84.902747  0.293522\n",
       "70 2020-06-08 22:00:00   66.362799  0.216905\n",
       "71 2020-06-08 23:00:00   41.481493  0.239520\n",
       "\n",
       "[72 rows x 3 columns]"
      ]
     },
     "execution_count": 28,
     "metadata": {},
     "output_type": "execute_result"
    }
   ],
   "source": [
    "tuning_results = tuning_results.rename(columns={0:'ds'})\n",
    "tuning_results"
   ]
  },
  {
   "cell_type": "code",
   "execution_count": 29,
   "id": "492fb7f9",
   "metadata": {},
   "outputs": [],
   "source": [
    "tuning_results_Lunes = tuning_results\n",
    "tuning_results_Lunes = tuning_results_Lunes.set_index('ds')"
   ]
  },
  {
   "cell_type": "code",
   "execution_count": 30,
   "id": "32ecea15",
   "metadata": {},
   "outputs": [],
   "source": [
    "tuning_results_Lunes['Hora'] = tuning_results_Lunes.index.hour"
   ]
  },
  {
   "cell_type": "code",
   "execution_count": 31,
   "id": "8a9d6783",
   "metadata": {},
   "outputs": [],
   "source": [
    "mask1AM = (tuning_results_Lunes['Hora'] == 1)\n",
    "mask2AM = (tuning_results_Lunes['Hora'] == 2)\n",
    "mask3AM = (tuning_results_Lunes['Hora'] == 3)\n",
    "mask4AM = (tuning_results_Lunes['Hora'] == 4)\n",
    "mask5AM = (tuning_results_Lunes['Hora'] == 5)\n",
    "mask6AM = (tuning_results_Lunes['Hora'] == 6)\n",
    "mask7AM = (tuning_results_Lunes['Hora'] == 7)\n",
    "mask8AM = (tuning_results_Lunes['Hora'] == 8)\n",
    "mask9AM = (tuning_results_Lunes['Hora'] == 9)\n",
    "mask10AM = (tuning_results_Lunes['Hora'] == 10)\n",
    "mask11AM = (tuning_results_Lunes['Hora'] == 11)\n",
    "mask12PM = (tuning_results_Lunes['Hora'] == 12)\n",
    "mask13PM = (tuning_results_Lunes['Hora'] == 13)\n",
    "mask14PM = (tuning_results_Lunes['Hora'] == 14)\n",
    "mask15PM = (tuning_results_Lunes['Hora'] == 15)\n",
    "mask16PM = (tuning_results_Lunes['Hora'] == 16)\n",
    "mask17PM = (tuning_results_Lunes['Hora'] == 17)\n",
    "mask18PM = (tuning_results_Lunes['Hora'] == 18)\n",
    "mask19PM = (tuning_results_Lunes['Hora'] == 19)\n",
    "mask20PM = (tuning_results_Lunes['Hora'] == 20)\n",
    "mask21PM = (tuning_results_Lunes['Hora'] == 21)\n",
    "mask22PM = (tuning_results_Lunes['Hora'] == 22)\n",
    "mask23PM = (tuning_results_Lunes['Hora'] == 23)\n",
    "mask24AM = (tuning_results_Lunes['Hora'] == 0)\n",
    "\n",
    "Metrics1AM = tuning_results_Lunes.loc[mask1AM]\n",
    "Metrics2AM = tuning_results_Lunes.loc[mask2AM]\n",
    "Metrics3AM = tuning_results_Lunes.loc[mask3AM]\n",
    "Metrics4AM = tuning_results_Lunes.loc[mask4AM]\n",
    "Metrics5AM = tuning_results_Lunes.loc[mask5AM]\n",
    "Metrics6AM = tuning_results_Lunes.loc[mask6AM]\n",
    "Metrics7AM = tuning_results_Lunes.loc[mask7AM]\n",
    "Metrics8AM = tuning_results_Lunes.loc[mask8AM]\n",
    "Metrics9AM = tuning_results_Lunes.loc[mask9AM]\n",
    "Metrics10AM = tuning_results_Lunes.loc[mask10AM]\n",
    "Metrics11AM = tuning_results_Lunes.loc[mask11AM]\n",
    "Metrics12PM = tuning_results_Lunes.loc[mask12PM]\n",
    "Metrics13PM = tuning_results_Lunes.loc[mask13PM]\n",
    "Metrics14PM = tuning_results_Lunes.loc[mask14PM]\n",
    "Metrics15PM = tuning_results_Lunes.loc[mask15PM]\n",
    "Metrics16PM = tuning_results_Lunes.loc[mask16PM]\n",
    "Metrics17PM = tuning_results_Lunes.loc[mask17PM]\n",
    "Metrics18PM = tuning_results_Lunes.loc[mask18PM]\n",
    "Metrics19PM = tuning_results_Lunes.loc[mask19PM]\n",
    "Metrics20PM = tuning_results_Lunes.loc[mask20PM]\n",
    "Metrics21PM = tuning_results_Lunes.loc[mask21PM]\n",
    "Metrics22PM = tuning_results_Lunes.loc[mask22PM]\n",
    "Metrics23PM = tuning_results_Lunes.loc[mask23PM]\n",
    "Metrics24AM = tuning_results_Lunes.loc[mask24AM]"
   ]
  },
  {
   "cell_type": "code",
   "execution_count": 39,
   "id": "136a270c",
   "metadata": {},
   "outputs": [
    {
     "data": {
      "text/html": [
       "<div>\n",
       "<style scoped>\n",
       "    .dataframe tbody tr th:only-of-type {\n",
       "        vertical-align: middle;\n",
       "    }\n",
       "\n",
       "    .dataframe tbody tr th {\n",
       "        vertical-align: top;\n",
       "    }\n",
       "\n",
       "    .dataframe thead th {\n",
       "        text-align: right;\n",
       "    }\n",
       "</style>\n",
       "<table border=\"1\" class=\"dataframe\">\n",
       "  <thead>\n",
       "    <tr style=\"text-align: right;\">\n",
       "      <th></th>\n",
       "      <th>rmse</th>\n",
       "      <th>MAPE</th>\n",
       "      <th>Hora</th>\n",
       "    </tr>\n",
       "    <tr>\n",
       "      <th>ds</th>\n",
       "      <th></th>\n",
       "      <th></th>\n",
       "      <th></th>\n",
       "    </tr>\n",
       "  </thead>\n",
       "  <tbody>\n",
       "    <tr>\n",
       "      <th>2020-05-25 01:00:00</th>\n",
       "      <td>6.318716</td>\n",
       "      <td>0.381312</td>\n",
       "      <td>1</td>\n",
       "    </tr>\n",
       "    <tr>\n",
       "      <th>2020-06-01 01:00:00</th>\n",
       "      <td>10.838466</td>\n",
       "      <td>0.334366</td>\n",
       "      <td>1</td>\n",
       "    </tr>\n",
       "    <tr>\n",
       "      <th>2020-06-08 01:00:00</th>\n",
       "      <td>7.488722</td>\n",
       "      <td>0.100483</td>\n",
       "      <td>1</td>\n",
       "    </tr>\n",
       "  </tbody>\n",
       "</table>\n",
       "</div>"
      ],
      "text/plain": [
       "                          rmse      MAPE  Hora\n",
       "ds                                            \n",
       "2020-05-25 01:00:00   6.318716  0.381312     1\n",
       "2020-06-01 01:00:00  10.838466  0.334366     1\n",
       "2020-06-08 01:00:00   7.488722  0.100483     1"
      ]
     },
     "execution_count": 39,
     "metadata": {},
     "output_type": "execute_result"
    }
   ],
   "source": [
    "Metrics1AM"
   ]
  },
  {
   "cell_type": "code",
   "execution_count": 36,
   "id": "59ca3ea1",
   "metadata": {},
   "outputs": [],
   "source": [
    "meanRmse01 = Metrics1AM.rmse.mean()\n",
    "meanMape01 = Metrics1AM.MAPE.mean()\n",
    "meanRmse02 = Metrics2AM.rmse.mean()\n",
    "meanMape02 = Metrics2AM.MAPE.mean()\n",
    "meanRmse03 = Metrics3AM.rmse.mean()\n",
    "meanMape03 = Metrics3AM.MAPE.mean()\n",
    "meanRmse04 = Metrics4AM.rmse.mean()\n",
    "meanMape04 = Metrics4AM.MAPE.mean()\n",
    "meanRmse05 = Metrics5AM.rmse.mean()\n",
    "meanMape05 = Metrics5AM.MAPE.mean()\n",
    "meanRmse06 = Metrics6AM.rmse.mean()\n",
    "meanMape06 = Metrics6AM.MAPE.mean()\n",
    "meanRmse07 = Metrics7AM.rmse.mean()\n",
    "meanMape07 = Metrics7AM.MAPE.mean()\n",
    "meanRmse08 = Metrics8AM.rmse.mean()\n",
    "meanMape08 = Metrics8AM.MAPE.mean()\n",
    "meanRmse09 = Metrics9AM.rmse.mean()\n",
    "meanMape09 = Metrics9AM.MAPE.mean()\n",
    "meanRmse10 = Metrics10AM.rmse.mean()\n",
    "meanMape10 = Metrics10AM.MAPE.mean()\n",
    "meanRmse11 = Metrics11AM.rmse.mean()\n",
    "meanMape11 = Metrics11AM.MAPE.mean()\n",
    "meanRmse12 = Metrics12PM.rmse.mean()\n",
    "meanMape12 = Metrics12PM.MAPE.mean()\n",
    "meanRmse13 = Metrics13PM.rmse.mean()\n",
    "meanMape13 = Metrics13PM.MAPE.mean()\n",
    "meanRmse14 = Metrics14PM.rmse.mean()\n",
    "meanMape14 = Metrics14PM.MAPE.mean()\n",
    "meanRmse15 = Metrics15PM.rmse.mean()\n",
    "meanMape15 = Metrics15PM.MAPE.mean()\n",
    "meanRmse16 = Metrics16PM.rmse.mean()\n",
    "meanMape16 = Metrics16PM.MAPE.mean()\n",
    "meanRmse17 = Metrics17PM.rmse.mean()\n",
    "meanMape17 = Metrics17PM.MAPE.mean()\n",
    "meanRmse18 = Metrics18PM.rmse.mean()\n",
    "meanMape18 = Metrics18PM.MAPE.mean()\n",
    "meanRmse19 = Metrics19PM.rmse.mean()\n",
    "meanMape19 = Metrics19PM.MAPE.mean()\n",
    "meanRmse20 = Metrics20PM.rmse.mean()\n",
    "meanMape20 = Metrics20PM.MAPE.mean()\n",
    "meanRmse21 = Metrics21PM.rmse.mean()\n",
    "meanMape21 = Metrics21PM.MAPE.mean()\n",
    "meanRmse22 = Metrics22PM.rmse.mean()\n",
    "meanMape22 = Metrics22PM.MAPE.mean()\n",
    "meanRmse23 = Metrics23PM.rmse.mean()\n",
    "meanMape23 = Metrics23PM.MAPE.mean()\n",
    "meanRmse24 = Metrics24AM.rmse.mean()\n",
    "meanMape24 = Metrics24AM.MAPE.mean()"
   ]
  },
  {
   "cell_type": "code",
   "execution_count": 37,
   "id": "b6e049ba",
   "metadata": {},
   "outputs": [
    {
     "name": "stdout",
     "output_type": "stream",
     "text": [
      "╒════════╤═══════════╤═══════════╕\n",
      "│ Hora   │      RMSE │      MAPE │\n",
      "╞════════╪═══════════╪═══════════╡\n",
      "│ 0AM    │   3.98327 │ 0.0641022 │\n",
      "├────────┼───────────┼───────────┤\n",
      "│ 1AM    │   8.2153  │ 0.272054  │\n",
      "├────────┼───────────┼───────────┤\n",
      "│ 2AM    │  21.4933  │ 0.911582  │\n",
      "├────────┼───────────┼───────────┤\n",
      "│ 3AM    │  14.0743  │ 0.446151  │\n",
      "├────────┼───────────┼───────────┤\n",
      "│ 4AM    │  33.6048  │ 0.567761  │\n",
      "├────────┼───────────┼───────────┤\n",
      "│ 5AM    │  10.7542  │ 0.167198  │\n",
      "├────────┼───────────┼───────────┤\n",
      "│ 6AM    │  20.3539  │ 0.106158  │\n",
      "├────────┼───────────┼───────────┤\n",
      "│ 7AM    │  55.4057  │ 0.166907  │\n",
      "├────────┼───────────┼───────────┤\n",
      "│ 8AM    │ 106.318   │ 0.370607  │\n",
      "├────────┼───────────┼───────────┤\n",
      "│ 9AM    │ 109.172   │ 0.271566  │\n",
      "├────────┼───────────┼───────────┤\n",
      "│ 10AM   │  44.5615  │ 0.131503  │\n",
      "├────────┼───────────┼───────────┤\n",
      "│ 11AM   │  59.2853  │ 0.16231   │\n",
      "├────────┼───────────┼───────────┤\n",
      "│ 12PM   │  44.4024  │ 0.143468  │\n",
      "├────────┼───────────┼───────────┤\n",
      "│ 13PM   │  87.4442  │ 0.179208  │\n",
      "├────────┼───────────┼───────────┤\n",
      "│ 14PM   │  16.5907  │ 0.041671  │\n",
      "├────────┼───────────┼───────────┤\n",
      "│ 15PM   │  35.0538  │ 0.0837021 │\n",
      "├────────┼───────────┼───────────┤\n",
      "│ 16PM   │  65.3973  │ 0.176895  │\n",
      "├────────┼───────────┼───────────┤\n",
      "│ 17PM   │  35.3684  │ 0.0873856 │\n",
      "├────────┼───────────┼───────────┤\n",
      "│ 18PM   │  98.5271  │ 0.213559  │\n",
      "├────────┼───────────┼───────────┤\n",
      "│ 19PM   │  50.5775  │ 0.11947   │\n",
      "├────────┼───────────┼───────────┤\n",
      "│ 20PM   │  74.0689  │ 0.209714  │\n",
      "├────────┼───────────┼───────────┤\n",
      "│ 21PM   │  58.8988  │ 0.193998  │\n",
      "├────────┼───────────┼───────────┤\n",
      "│ 22PM   │  44.5048  │ 0.198574  │\n",
      "├────────┼───────────┼───────────┤\n",
      "│ 23PM   │  49.2268  │ 0.509052  │\n",
      "╘════════╧═══════════╧═══════════╛\n"
     ]
    }
   ],
   "source": [
    "table = [['Hora', 'RMSE', 'MAPE'],['0AM',meanRmse24,meanMape24],['1AM',meanRmse01,meanMape01],\n",
    "         ['2AM',meanRmse02,meanMape02],['3AM',meanRmse03,meanMape03],['4AM',meanRmse04,meanMape04],\n",
    "         ['5AM',meanRmse05,meanMape05],['6AM',meanRmse06,meanMape06],['7AM',meanRmse07,meanMape07],\n",
    "         ['8AM',meanRmse08,meanMape08],['9AM',meanRmse09,meanMape09],['10AM',meanRmse10,meanMape10],\n",
    "         ['11AM',meanRmse11,meanMape11],['12PM',meanRmse12,meanMape12],['13PM',meanRmse13,meanMape13],\n",
    "         ['14PM',meanRmse14,meanMape14],['15PM',meanRmse15,meanMape15],['16PM',meanRmse16,meanMape16],\n",
    "         ['17PM',meanRmse17,meanMape17],['18PM',meanRmse18,meanMape18],['19PM',meanRmse19,meanMape19],\n",
    "         ['20PM',meanRmse20,meanMape20],['21PM',meanRmse21,meanMape21],['22PM',meanRmse22,meanMape22],['23PM',meanRmse23,meanMape23]]\n",
    "print(tabulate(table, headers='firstrow', tablefmt='fancy_grid'))"
   ]
  },
  {
   "cell_type": "markdown",
   "id": "76adc3ac",
   "metadata": {},
   "source": [
    "# Se comprobó que si son muy parecidas las metricas clculadas aquí con la metricas del notebook rolling forecasting\n",
    "# toca hacer un ciclo for para que la función calcule las metricas por cada muestra de hora, 4 muestras y sacar promedio.\n",
    "# Según prophet mape 0.3 es 30% 0.05 es 5%"
   ]
  }
 ],
 "metadata": {
  "kernelspec": {
   "display_name": "Python 3 (ipykernel)",
   "language": "python",
   "name": "python3"
  },
  "language_info": {
   "codemirror_mode": {
    "name": "ipython",
    "version": 3
   },
   "file_extension": ".py",
   "mimetype": "text/x-python",
   "name": "python",
   "nbconvert_exporter": "python",
   "pygments_lexer": "ipython3",
   "version": "3.9.7"
  }
 },
 "nbformat": 4,
 "nbformat_minor": 5
}
