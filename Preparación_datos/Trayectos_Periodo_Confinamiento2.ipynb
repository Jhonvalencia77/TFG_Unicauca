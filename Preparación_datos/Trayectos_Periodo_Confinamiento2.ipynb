{
 "cells": [
  {
   "cell_type": "code",
   "execution_count": 1,
   "id": "c0a0b0bc",
   "metadata": {},
   "outputs": [],
   "source": [
    "import pandas as pd\n",
    "import numpy as np\n",
    "import pickle"
   ]
  },
  {
   "cell_type": "code",
   "execution_count": 2,
   "id": "b4fa4d87",
   "metadata": {},
   "outputs": [
    {
     "data": {
      "text/html": [
       "<div>\n",
       "<style scoped>\n",
       "    .dataframe tbody tr th:only-of-type {\n",
       "        vertical-align: middle;\n",
       "    }\n",
       "\n",
       "    .dataframe tbody tr th {\n",
       "        vertical-align: top;\n",
       "    }\n",
       "\n",
       "    .dataframe thead th {\n",
       "        text-align: right;\n",
       "    }\n",
       "</style>\n",
       "<table border=\"1\" class=\"dataframe\">\n",
       "  <thead>\n",
       "    <tr style=\"text-align: right;\">\n",
       "      <th></th>\n",
       "      <th>origen</th>\n",
       "      <th>destino</th>\n",
       "      <th>periodo</th>\n",
       "      <th>distancia</th>\n",
       "      <th>viajes</th>\n",
       "    </tr>\n",
       "    <tr>\n",
       "      <th>fecha</th>\n",
       "      <th></th>\n",
       "      <th></th>\n",
       "      <th></th>\n",
       "      <th></th>\n",
       "      <th></th>\n",
       "    </tr>\n",
       "  </thead>\n",
       "  <tbody>\n",
       "    <tr>\n",
       "      <th>2020-07-17</th>\n",
       "      <td>19024</td>\n",
       "      <td>0200308</td>\n",
       "      <td>13</td>\n",
       "      <td>100+</td>\n",
       "      <td>2.859</td>\n",
       "    </tr>\n",
       "    <tr>\n",
       "      <th>2020-07-17</th>\n",
       "      <td>19024</td>\n",
       "      <td>0200308</td>\n",
       "      <td>14</td>\n",
       "      <td>100+</td>\n",
       "      <td>7.917</td>\n",
       "    </tr>\n",
       "    <tr>\n",
       "      <th>2020-07-17</th>\n",
       "      <td>19024</td>\n",
       "      <td>02025</td>\n",
       "      <td>12</td>\n",
       "      <td>100+</td>\n",
       "      <td>2.859</td>\n",
       "    </tr>\n",
       "    <tr>\n",
       "      <th>2020-07-17</th>\n",
       "      <td>19024</td>\n",
       "      <td>02069_AM</td>\n",
       "      <td>16</td>\n",
       "      <td>100+</td>\n",
       "      <td>7.324</td>\n",
       "    </tr>\n",
       "    <tr>\n",
       "      <th>2020-07-17</th>\n",
       "      <td>19024</td>\n",
       "      <td>02081</td>\n",
       "      <td>8</td>\n",
       "      <td>100+</td>\n",
       "      <td>7.008</td>\n",
       "    </tr>\n",
       "  </tbody>\n",
       "</table>\n",
       "</div>"
      ],
      "text/plain": [
       "           origen   destino  periodo distancia  viajes\n",
       "fecha                                                 \n",
       "2020-07-17  19024   0200308       13      100+   2.859\n",
       "2020-07-17  19024   0200308       14      100+   7.917\n",
       "2020-07-17  19024     02025       12      100+   2.859\n",
       "2020-07-17  19024  02069_AM       16      100+   7.324\n",
       "2020-07-17  19024     02081        8      100+   7.008"
      ]
     },
     "execution_count": 2,
     "metadata": {},
     "output_type": "execute_result"
    }
   ],
   "source": [
    "basepath = \"/media/jonathan/JHON/Tesis/DatosTesis/CSV_Filtrado_Origen/DataFiltradoJunio2020_1.csv\"\n",
    "data = pd.read_csv(basepath, sep=',',dtype={\"fecha\": str,\n",
    "                                        \"origen\": str,\n",
    "                                        \"destino\": str},index_col='fecha',parse_dates=True, usecols=[0,1,2,7,8,9])          \n",
    "\n",
    "data = data[data.distancia >= \"002-005\"]\n",
    "\n",
    "################3\n",
    "\n",
    "basepath = \"/media/jonathan/JHON/Tesis/DatosTesis/CSV_Filtrado_Origen/DataFiltradoJunio2020_2.csv\"\n",
    "data2 = pd.read_csv(basepath, sep=',',dtype={\"fecha\": str,\n",
    "                                        \"origen\": str,\n",
    "                                        \"destino\": str},index_col='fecha',parse_dates=True, usecols=[0,1,2,7,8,9])          \n",
    "\n",
    "data2 = data2[data2.distancia >= \"002-005\"]\n",
    "\n",
    "#################\n",
    "\n",
    "basepath = \"/media/jonathan/JHON/Tesis/DatosTesis/CSV_Filtrado_Origen/DataFiltradoJulio2020_1.csv\"\n",
    "data3 = pd.read_csv(basepath, sep=',',dtype={\"fecha\": str,\n",
    "                                        \"origen\": str,\n",
    "                                        \"destino\": str},index_col='fecha',parse_dates=True, usecols=[0,1,2,7,8,9])          \n",
    "\n",
    "data3 = data3[data3.distancia >= \"002-005\"]\n",
    "\n",
    "#################\n",
    "\n",
    "basepath = \"/media/jonathan/JHON/Tesis/DatosTesis/CSV_Filtrado_Origen/DataFiltradoJulio2020_2.csv\"\n",
    "data4 = pd.read_csv(basepath, sep=',',dtype={\"fecha\": str,\n",
    "                                        \"origen\": str,\n",
    "                                        \"destino\": str},index_col='fecha',parse_dates=True, usecols=[0,1,2,7,8,9])          \n",
    "\n",
    "data4 = data4[data4.distancia >= \"002-005\"]\n",
    "data4.head(5)\n",
    "\n",
    "\n"
   ]
  },
  {
   "cell_type": "markdown",
   "id": "3141584d",
   "metadata": {},
   "source": [
    "## Debido a que se tiene como destino toda España, se procede a filtrar la columna destino"
   ]
  },
  {
   "cell_type": "code",
   "execution_count": 3,
   "id": "b826366c",
   "metadata": {},
   "outputs": [
    {
     "name": "stderr",
     "output_type": "stream",
     "text": [
      "/tmp/ipykernel_22993/2883319910.py:14: FutureWarning: The frame.append method is deprecated and will be removed from pandas in a future version. Use pandas.concat instead.\n",
      "  filtrado_Data=filtrado_Data.append(filtrar)\n",
      "/tmp/ipykernel_22993/2883319910.py:15: FutureWarning: The frame.append method is deprecated and will be removed from pandas in a future version. Use pandas.concat instead.\n",
      "  filtrado_Data2=filtrado_Data2.append(filtrar2)\n",
      "/tmp/ipykernel_22993/2883319910.py:16: FutureWarning: The frame.append method is deprecated and will be removed from pandas in a future version. Use pandas.concat instead.\n",
      "  filtrado_Data3=filtrado_Data3.append(filtrar3)\n",
      "/tmp/ipykernel_22993/2883319910.py:17: FutureWarning: The frame.append method is deprecated and will be removed from pandas in a future version. Use pandas.concat instead.\n",
      "  filtrado_Data4=filtrado_Data4.append(filtrar4)\n",
      "/tmp/ipykernel_22993/2883319910.py:14: FutureWarning: The frame.append method is deprecated and will be removed from pandas in a future version. Use pandas.concat instead.\n",
      "  filtrado_Data=filtrado_Data.append(filtrar)\n",
      "/tmp/ipykernel_22993/2883319910.py:15: FutureWarning: The frame.append method is deprecated and will be removed from pandas in a future version. Use pandas.concat instead.\n",
      "  filtrado_Data2=filtrado_Data2.append(filtrar2)\n",
      "/tmp/ipykernel_22993/2883319910.py:16: FutureWarning: The frame.append method is deprecated and will be removed from pandas in a future version. Use pandas.concat instead.\n",
      "  filtrado_Data3=filtrado_Data3.append(filtrar3)\n",
      "/tmp/ipykernel_22993/2883319910.py:17: FutureWarning: The frame.append method is deprecated and will be removed from pandas in a future version. Use pandas.concat instead.\n",
      "  filtrado_Data4=filtrado_Data4.append(filtrar4)\n",
      "/tmp/ipykernel_22993/2883319910.py:14: FutureWarning: The frame.append method is deprecated and will be removed from pandas in a future version. Use pandas.concat instead.\n",
      "  filtrado_Data=filtrado_Data.append(filtrar)\n",
      "/tmp/ipykernel_22993/2883319910.py:15: FutureWarning: The frame.append method is deprecated and will be removed from pandas in a future version. Use pandas.concat instead.\n",
      "  filtrado_Data2=filtrado_Data2.append(filtrar2)\n",
      "/tmp/ipykernel_22993/2883319910.py:16: FutureWarning: The frame.append method is deprecated and will be removed from pandas in a future version. Use pandas.concat instead.\n",
      "  filtrado_Data3=filtrado_Data3.append(filtrar3)\n",
      "/tmp/ipykernel_22993/2883319910.py:17: FutureWarning: The frame.append method is deprecated and will be removed from pandas in a future version. Use pandas.concat instead.\n",
      "  filtrado_Data4=filtrado_Data4.append(filtrar4)\n",
      "/tmp/ipykernel_22993/2883319910.py:14: FutureWarning: The frame.append method is deprecated and will be removed from pandas in a future version. Use pandas.concat instead.\n",
      "  filtrado_Data=filtrado_Data.append(filtrar)\n",
      "/tmp/ipykernel_22993/2883319910.py:15: FutureWarning: The frame.append method is deprecated and will be removed from pandas in a future version. Use pandas.concat instead.\n",
      "  filtrado_Data2=filtrado_Data2.append(filtrar2)\n",
      "/tmp/ipykernel_22993/2883319910.py:16: FutureWarning: The frame.append method is deprecated and will be removed from pandas in a future version. Use pandas.concat instead.\n",
      "  filtrado_Data3=filtrado_Data3.append(filtrar3)\n",
      "/tmp/ipykernel_22993/2883319910.py:17: FutureWarning: The frame.append method is deprecated and will be removed from pandas in a future version. Use pandas.concat instead.\n",
      "  filtrado_Data4=filtrado_Data4.append(filtrar4)\n",
      "/tmp/ipykernel_22993/2883319910.py:14: FutureWarning: The frame.append method is deprecated and will be removed from pandas in a future version. Use pandas.concat instead.\n",
      "  filtrado_Data=filtrado_Data.append(filtrar)\n",
      "/tmp/ipykernel_22993/2883319910.py:15: FutureWarning: The frame.append method is deprecated and will be removed from pandas in a future version. Use pandas.concat instead.\n",
      "  filtrado_Data2=filtrado_Data2.append(filtrar2)\n",
      "/tmp/ipykernel_22993/2883319910.py:16: FutureWarning: The frame.append method is deprecated and will be removed from pandas in a future version. Use pandas.concat instead.\n",
      "  filtrado_Data3=filtrado_Data3.append(filtrar3)\n",
      "/tmp/ipykernel_22993/2883319910.py:17: FutureWarning: The frame.append method is deprecated and will be removed from pandas in a future version. Use pandas.concat instead.\n",
      "  filtrado_Data4=filtrado_Data4.append(filtrar4)\n",
      "/tmp/ipykernel_22993/2883319910.py:14: FutureWarning: The frame.append method is deprecated and will be removed from pandas in a future version. Use pandas.concat instead.\n",
      "  filtrado_Data=filtrado_Data.append(filtrar)\n",
      "/tmp/ipykernel_22993/2883319910.py:15: FutureWarning: The frame.append method is deprecated and will be removed from pandas in a future version. Use pandas.concat instead.\n",
      "  filtrado_Data2=filtrado_Data2.append(filtrar2)\n",
      "/tmp/ipykernel_22993/2883319910.py:16: FutureWarning: The frame.append method is deprecated and will be removed from pandas in a future version. Use pandas.concat instead.\n",
      "  filtrado_Data3=filtrado_Data3.append(filtrar3)\n",
      "/tmp/ipykernel_22993/2883319910.py:17: FutureWarning: The frame.append method is deprecated and will be removed from pandas in a future version. Use pandas.concat instead.\n",
      "  filtrado_Data4=filtrado_Data4.append(filtrar4)\n",
      "/tmp/ipykernel_22993/2883319910.py:14: FutureWarning: The frame.append method is deprecated and will be removed from pandas in a future version. Use pandas.concat instead.\n",
      "  filtrado_Data=filtrado_Data.append(filtrar)\n",
      "/tmp/ipykernel_22993/2883319910.py:15: FutureWarning: The frame.append method is deprecated and will be removed from pandas in a future version. Use pandas.concat instead.\n",
      "  filtrado_Data2=filtrado_Data2.append(filtrar2)\n",
      "/tmp/ipykernel_22993/2883319910.py:16: FutureWarning: The frame.append method is deprecated and will be removed from pandas in a future version. Use pandas.concat instead.\n",
      "  filtrado_Data3=filtrado_Data3.append(filtrar3)\n",
      "/tmp/ipykernel_22993/2883319910.py:17: FutureWarning: The frame.append method is deprecated and will be removed from pandas in a future version. Use pandas.concat instead.\n",
      "  filtrado_Data4=filtrado_Data4.append(filtrar4)\n",
      "/tmp/ipykernel_22993/2883319910.py:14: FutureWarning: The frame.append method is deprecated and will be removed from pandas in a future version. Use pandas.concat instead.\n",
      "  filtrado_Data=filtrado_Data.append(filtrar)\n",
      "/tmp/ipykernel_22993/2883319910.py:15: FutureWarning: The frame.append method is deprecated and will be removed from pandas in a future version. Use pandas.concat instead.\n",
      "  filtrado_Data2=filtrado_Data2.append(filtrar2)\n",
      "/tmp/ipykernel_22993/2883319910.py:16: FutureWarning: The frame.append method is deprecated and will be removed from pandas in a future version. Use pandas.concat instead.\n",
      "  filtrado_Data3=filtrado_Data3.append(filtrar3)\n",
      "/tmp/ipykernel_22993/2883319910.py:17: FutureWarning: The frame.append method is deprecated and will be removed from pandas in a future version. Use pandas.concat instead.\n",
      "  filtrado_Data4=filtrado_Data4.append(filtrar4)\n",
      "/tmp/ipykernel_22993/2883319910.py:14: FutureWarning: The frame.append method is deprecated and will be removed from pandas in a future version. Use pandas.concat instead.\n",
      "  filtrado_Data=filtrado_Data.append(filtrar)\n",
      "/tmp/ipykernel_22993/2883319910.py:15: FutureWarning: The frame.append method is deprecated and will be removed from pandas in a future version. Use pandas.concat instead.\n",
      "  filtrado_Data2=filtrado_Data2.append(filtrar2)\n",
      "/tmp/ipykernel_22993/2883319910.py:16: FutureWarning: The frame.append method is deprecated and will be removed from pandas in a future version. Use pandas.concat instead.\n",
      "  filtrado_Data3=filtrado_Data3.append(filtrar3)\n",
      "/tmp/ipykernel_22993/2883319910.py:17: FutureWarning: The frame.append method is deprecated and will be removed from pandas in a future version. Use pandas.concat instead.\n",
      "  filtrado_Data4=filtrado_Data4.append(filtrar4)\n",
      "/tmp/ipykernel_22993/2883319910.py:14: FutureWarning: The frame.append method is deprecated and will be removed from pandas in a future version. Use pandas.concat instead.\n",
      "  filtrado_Data=filtrado_Data.append(filtrar)\n",
      "/tmp/ipykernel_22993/2883319910.py:15: FutureWarning: The frame.append method is deprecated and will be removed from pandas in a future version. Use pandas.concat instead.\n",
      "  filtrado_Data2=filtrado_Data2.append(filtrar2)\n",
      "/tmp/ipykernel_22993/2883319910.py:16: FutureWarning: The frame.append method is deprecated and will be removed from pandas in a future version. Use pandas.concat instead.\n",
      "  filtrado_Data3=filtrado_Data3.append(filtrar3)\n",
      "/tmp/ipykernel_22993/2883319910.py:17: FutureWarning: The frame.append method is deprecated and will be removed from pandas in a future version. Use pandas.concat instead.\n",
      "  filtrado_Data4=filtrado_Data4.append(filtrar4)\n"
     ]
    },
    {
     "name": "stderr",
     "output_type": "stream",
     "text": [
      "/tmp/ipykernel_22993/2883319910.py:14: FutureWarning: The frame.append method is deprecated and will be removed from pandas in a future version. Use pandas.concat instead.\n",
      "  filtrado_Data=filtrado_Data.append(filtrar)\n",
      "/tmp/ipykernel_22993/2883319910.py:15: FutureWarning: The frame.append method is deprecated and will be removed from pandas in a future version. Use pandas.concat instead.\n",
      "  filtrado_Data2=filtrado_Data2.append(filtrar2)\n",
      "/tmp/ipykernel_22993/2883319910.py:16: FutureWarning: The frame.append method is deprecated and will be removed from pandas in a future version. Use pandas.concat instead.\n",
      "  filtrado_Data3=filtrado_Data3.append(filtrar3)\n",
      "/tmp/ipykernel_22993/2883319910.py:17: FutureWarning: The frame.append method is deprecated and will be removed from pandas in a future version. Use pandas.concat instead.\n",
      "  filtrado_Data4=filtrado_Data4.append(filtrar4)\n",
      "/tmp/ipykernel_22993/2883319910.py:14: FutureWarning: The frame.append method is deprecated and will be removed from pandas in a future version. Use pandas.concat instead.\n",
      "  filtrado_Data=filtrado_Data.append(filtrar)\n",
      "/tmp/ipykernel_22993/2883319910.py:15: FutureWarning: The frame.append method is deprecated and will be removed from pandas in a future version. Use pandas.concat instead.\n",
      "  filtrado_Data2=filtrado_Data2.append(filtrar2)\n",
      "/tmp/ipykernel_22993/2883319910.py:16: FutureWarning: The frame.append method is deprecated and will be removed from pandas in a future version. Use pandas.concat instead.\n",
      "  filtrado_Data3=filtrado_Data3.append(filtrar3)\n",
      "/tmp/ipykernel_22993/2883319910.py:17: FutureWarning: The frame.append method is deprecated and will be removed from pandas in a future version. Use pandas.concat instead.\n",
      "  filtrado_Data4=filtrado_Data4.append(filtrar4)\n",
      "/tmp/ipykernel_22993/2883319910.py:14: FutureWarning: The frame.append method is deprecated and will be removed from pandas in a future version. Use pandas.concat instead.\n",
      "  filtrado_Data=filtrado_Data.append(filtrar)\n",
      "/tmp/ipykernel_22993/2883319910.py:15: FutureWarning: The frame.append method is deprecated and will be removed from pandas in a future version. Use pandas.concat instead.\n",
      "  filtrado_Data2=filtrado_Data2.append(filtrar2)\n",
      "/tmp/ipykernel_22993/2883319910.py:16: FutureWarning: The frame.append method is deprecated and will be removed from pandas in a future version. Use pandas.concat instead.\n",
      "  filtrado_Data3=filtrado_Data3.append(filtrar3)\n",
      "/tmp/ipykernel_22993/2883319910.py:17: FutureWarning: The frame.append method is deprecated and will be removed from pandas in a future version. Use pandas.concat instead.\n",
      "  filtrado_Data4=filtrado_Data4.append(filtrar4)\n",
      "/tmp/ipykernel_22993/2883319910.py:14: FutureWarning: The frame.append method is deprecated and will be removed from pandas in a future version. Use pandas.concat instead.\n",
      "  filtrado_Data=filtrado_Data.append(filtrar)\n",
      "/tmp/ipykernel_22993/2883319910.py:15: FutureWarning: The frame.append method is deprecated and will be removed from pandas in a future version. Use pandas.concat instead.\n",
      "  filtrado_Data2=filtrado_Data2.append(filtrar2)\n",
      "/tmp/ipykernel_22993/2883319910.py:16: FutureWarning: The frame.append method is deprecated and will be removed from pandas in a future version. Use pandas.concat instead.\n",
      "  filtrado_Data3=filtrado_Data3.append(filtrar3)\n",
      "/tmp/ipykernel_22993/2883319910.py:17: FutureWarning: The frame.append method is deprecated and will be removed from pandas in a future version. Use pandas.concat instead.\n",
      "  filtrado_Data4=filtrado_Data4.append(filtrar4)\n",
      "/tmp/ipykernel_22993/2883319910.py:14: FutureWarning: The frame.append method is deprecated and will be removed from pandas in a future version. Use pandas.concat instead.\n",
      "  filtrado_Data=filtrado_Data.append(filtrar)\n",
      "/tmp/ipykernel_22993/2883319910.py:15: FutureWarning: The frame.append method is deprecated and will be removed from pandas in a future version. Use pandas.concat instead.\n",
      "  filtrado_Data2=filtrado_Data2.append(filtrar2)\n",
      "/tmp/ipykernel_22993/2883319910.py:16: FutureWarning: The frame.append method is deprecated and will be removed from pandas in a future version. Use pandas.concat instead.\n",
      "  filtrado_Data3=filtrado_Data3.append(filtrar3)\n",
      "/tmp/ipykernel_22993/2883319910.py:17: FutureWarning: The frame.append method is deprecated and will be removed from pandas in a future version. Use pandas.concat instead.\n",
      "  filtrado_Data4=filtrado_Data4.append(filtrar4)\n",
      "/tmp/ipykernel_22993/2883319910.py:14: FutureWarning: The frame.append method is deprecated and will be removed from pandas in a future version. Use pandas.concat instead.\n",
      "  filtrado_Data=filtrado_Data.append(filtrar)\n",
      "/tmp/ipykernel_22993/2883319910.py:15: FutureWarning: The frame.append method is deprecated and will be removed from pandas in a future version. Use pandas.concat instead.\n",
      "  filtrado_Data2=filtrado_Data2.append(filtrar2)\n",
      "/tmp/ipykernel_22993/2883319910.py:16: FutureWarning: The frame.append method is deprecated and will be removed from pandas in a future version. Use pandas.concat instead.\n",
      "  filtrado_Data3=filtrado_Data3.append(filtrar3)\n",
      "/tmp/ipykernel_22993/2883319910.py:17: FutureWarning: The frame.append method is deprecated and will be removed from pandas in a future version. Use pandas.concat instead.\n",
      "  filtrado_Data4=filtrado_Data4.append(filtrar4)\n",
      "/tmp/ipykernel_22993/2883319910.py:14: FutureWarning: The frame.append method is deprecated and will be removed from pandas in a future version. Use pandas.concat instead.\n",
      "  filtrado_Data=filtrado_Data.append(filtrar)\n",
      "/tmp/ipykernel_22993/2883319910.py:15: FutureWarning: The frame.append method is deprecated and will be removed from pandas in a future version. Use pandas.concat instead.\n",
      "  filtrado_Data2=filtrado_Data2.append(filtrar2)\n",
      "/tmp/ipykernel_22993/2883319910.py:16: FutureWarning: The frame.append method is deprecated and will be removed from pandas in a future version. Use pandas.concat instead.\n",
      "  filtrado_Data3=filtrado_Data3.append(filtrar3)\n",
      "/tmp/ipykernel_22993/2883319910.py:17: FutureWarning: The frame.append method is deprecated and will be removed from pandas in a future version. Use pandas.concat instead.\n",
      "  filtrado_Data4=filtrado_Data4.append(filtrar4)\n",
      "/tmp/ipykernel_22993/2883319910.py:14: FutureWarning: The frame.append method is deprecated and will be removed from pandas in a future version. Use pandas.concat instead.\n",
      "  filtrado_Data=filtrado_Data.append(filtrar)\n",
      "/tmp/ipykernel_22993/2883319910.py:15: FutureWarning: The frame.append method is deprecated and will be removed from pandas in a future version. Use pandas.concat instead.\n",
      "  filtrado_Data2=filtrado_Data2.append(filtrar2)\n",
      "/tmp/ipykernel_22993/2883319910.py:16: FutureWarning: The frame.append method is deprecated and will be removed from pandas in a future version. Use pandas.concat instead.\n",
      "  filtrado_Data3=filtrado_Data3.append(filtrar3)\n",
      "/tmp/ipykernel_22993/2883319910.py:17: FutureWarning: The frame.append method is deprecated and will be removed from pandas in a future version. Use pandas.concat instead.\n",
      "  filtrado_Data4=filtrado_Data4.append(filtrar4)\n",
      "/tmp/ipykernel_22993/2883319910.py:14: FutureWarning: The frame.append method is deprecated and will be removed from pandas in a future version. Use pandas.concat instead.\n",
      "  filtrado_Data=filtrado_Data.append(filtrar)\n",
      "/tmp/ipykernel_22993/2883319910.py:15: FutureWarning: The frame.append method is deprecated and will be removed from pandas in a future version. Use pandas.concat instead.\n",
      "  filtrado_Data2=filtrado_Data2.append(filtrar2)\n",
      "/tmp/ipykernel_22993/2883319910.py:16: FutureWarning: The frame.append method is deprecated and will be removed from pandas in a future version. Use pandas.concat instead.\n",
      "  filtrado_Data3=filtrado_Data3.append(filtrar3)\n",
      "/tmp/ipykernel_22993/2883319910.py:17: FutureWarning: The frame.append method is deprecated and will be removed from pandas in a future version. Use pandas.concat instead.\n",
      "  filtrado_Data4=filtrado_Data4.append(filtrar4)\n",
      "/tmp/ipykernel_22993/2883319910.py:14: FutureWarning: The frame.append method is deprecated and will be removed from pandas in a future version. Use pandas.concat instead.\n",
      "  filtrado_Data=filtrado_Data.append(filtrar)\n",
      "/tmp/ipykernel_22993/2883319910.py:15: FutureWarning: The frame.append method is deprecated and will be removed from pandas in a future version. Use pandas.concat instead.\n",
      "  filtrado_Data2=filtrado_Data2.append(filtrar2)\n",
      "/tmp/ipykernel_22993/2883319910.py:16: FutureWarning: The frame.append method is deprecated and will be removed from pandas in a future version. Use pandas.concat instead.\n",
      "  filtrado_Data3=filtrado_Data3.append(filtrar3)\n",
      "/tmp/ipykernel_22993/2883319910.py:17: FutureWarning: The frame.append method is deprecated and will be removed from pandas in a future version. Use pandas.concat instead.\n",
      "  filtrado_Data4=filtrado_Data4.append(filtrar4)\n"
     ]
    },
    {
     "name": "stderr",
     "output_type": "stream",
     "text": [
      "/tmp/ipykernel_22993/2883319910.py:14: FutureWarning: The frame.append method is deprecated and will be removed from pandas in a future version. Use pandas.concat instead.\n",
      "  filtrado_Data=filtrado_Data.append(filtrar)\n",
      "/tmp/ipykernel_22993/2883319910.py:15: FutureWarning: The frame.append method is deprecated and will be removed from pandas in a future version. Use pandas.concat instead.\n",
      "  filtrado_Data2=filtrado_Data2.append(filtrar2)\n",
      "/tmp/ipykernel_22993/2883319910.py:16: FutureWarning: The frame.append method is deprecated and will be removed from pandas in a future version. Use pandas.concat instead.\n",
      "  filtrado_Data3=filtrado_Data3.append(filtrar3)\n",
      "/tmp/ipykernel_22993/2883319910.py:17: FutureWarning: The frame.append method is deprecated and will be removed from pandas in a future version. Use pandas.concat instead.\n",
      "  filtrado_Data4=filtrado_Data4.append(filtrar4)\n",
      "/tmp/ipykernel_22993/2883319910.py:14: FutureWarning: The frame.append method is deprecated and will be removed from pandas in a future version. Use pandas.concat instead.\n",
      "  filtrado_Data=filtrado_Data.append(filtrar)\n",
      "/tmp/ipykernel_22993/2883319910.py:15: FutureWarning: The frame.append method is deprecated and will be removed from pandas in a future version. Use pandas.concat instead.\n",
      "  filtrado_Data2=filtrado_Data2.append(filtrar2)\n",
      "/tmp/ipykernel_22993/2883319910.py:16: FutureWarning: The frame.append method is deprecated and will be removed from pandas in a future version. Use pandas.concat instead.\n",
      "  filtrado_Data3=filtrado_Data3.append(filtrar3)\n",
      "/tmp/ipykernel_22993/2883319910.py:17: FutureWarning: The frame.append method is deprecated and will be removed from pandas in a future version. Use pandas.concat instead.\n",
      "  filtrado_Data4=filtrado_Data4.append(filtrar4)\n",
      "/tmp/ipykernel_22993/2883319910.py:14: FutureWarning: The frame.append method is deprecated and will be removed from pandas in a future version. Use pandas.concat instead.\n",
      "  filtrado_Data=filtrado_Data.append(filtrar)\n",
      "/tmp/ipykernel_22993/2883319910.py:15: FutureWarning: The frame.append method is deprecated and will be removed from pandas in a future version. Use pandas.concat instead.\n",
      "  filtrado_Data2=filtrado_Data2.append(filtrar2)\n",
      "/tmp/ipykernel_22993/2883319910.py:16: FutureWarning: The frame.append method is deprecated and will be removed from pandas in a future version. Use pandas.concat instead.\n",
      "  filtrado_Data3=filtrado_Data3.append(filtrar3)\n",
      "/tmp/ipykernel_22993/2883319910.py:17: FutureWarning: The frame.append method is deprecated and will be removed from pandas in a future version. Use pandas.concat instead.\n",
      "  filtrado_Data4=filtrado_Data4.append(filtrar4)\n",
      "/tmp/ipykernel_22993/2883319910.py:14: FutureWarning: The frame.append method is deprecated and will be removed from pandas in a future version. Use pandas.concat instead.\n",
      "  filtrado_Data=filtrado_Data.append(filtrar)\n",
      "/tmp/ipykernel_22993/2883319910.py:15: FutureWarning: The frame.append method is deprecated and will be removed from pandas in a future version. Use pandas.concat instead.\n",
      "  filtrado_Data2=filtrado_Data2.append(filtrar2)\n",
      "/tmp/ipykernel_22993/2883319910.py:16: FutureWarning: The frame.append method is deprecated and will be removed from pandas in a future version. Use pandas.concat instead.\n",
      "  filtrado_Data3=filtrado_Data3.append(filtrar3)\n",
      "/tmp/ipykernel_22993/2883319910.py:17: FutureWarning: The frame.append method is deprecated and will be removed from pandas in a future version. Use pandas.concat instead.\n",
      "  filtrado_Data4=filtrado_Data4.append(filtrar4)\n",
      "/tmp/ipykernel_22993/2883319910.py:14: FutureWarning: The frame.append method is deprecated and will be removed from pandas in a future version. Use pandas.concat instead.\n",
      "  filtrado_Data=filtrado_Data.append(filtrar)\n",
      "/tmp/ipykernel_22993/2883319910.py:15: FutureWarning: The frame.append method is deprecated and will be removed from pandas in a future version. Use pandas.concat instead.\n",
      "  filtrado_Data2=filtrado_Data2.append(filtrar2)\n",
      "/tmp/ipykernel_22993/2883319910.py:16: FutureWarning: The frame.append method is deprecated and will be removed from pandas in a future version. Use pandas.concat instead.\n",
      "  filtrado_Data3=filtrado_Data3.append(filtrar3)\n",
      "/tmp/ipykernel_22993/2883319910.py:17: FutureWarning: The frame.append method is deprecated and will be removed from pandas in a future version. Use pandas.concat instead.\n",
      "  filtrado_Data4=filtrado_Data4.append(filtrar4)\n",
      "/tmp/ipykernel_22993/2883319910.py:14: FutureWarning: The frame.append method is deprecated and will be removed from pandas in a future version. Use pandas.concat instead.\n",
      "  filtrado_Data=filtrado_Data.append(filtrar)\n",
      "/tmp/ipykernel_22993/2883319910.py:15: FutureWarning: The frame.append method is deprecated and will be removed from pandas in a future version. Use pandas.concat instead.\n",
      "  filtrado_Data2=filtrado_Data2.append(filtrar2)\n",
      "/tmp/ipykernel_22993/2883319910.py:16: FutureWarning: The frame.append method is deprecated and will be removed from pandas in a future version. Use pandas.concat instead.\n",
      "  filtrado_Data3=filtrado_Data3.append(filtrar3)\n",
      "/tmp/ipykernel_22993/2883319910.py:17: FutureWarning: The frame.append method is deprecated and will be removed from pandas in a future version. Use pandas.concat instead.\n",
      "  filtrado_Data4=filtrado_Data4.append(filtrar4)\n",
      "/tmp/ipykernel_22993/2883319910.py:14: FutureWarning: The frame.append method is deprecated and will be removed from pandas in a future version. Use pandas.concat instead.\n",
      "  filtrado_Data=filtrado_Data.append(filtrar)\n",
      "/tmp/ipykernel_22993/2883319910.py:15: FutureWarning: The frame.append method is deprecated and will be removed from pandas in a future version. Use pandas.concat instead.\n",
      "  filtrado_Data2=filtrado_Data2.append(filtrar2)\n",
      "/tmp/ipykernel_22993/2883319910.py:16: FutureWarning: The frame.append method is deprecated and will be removed from pandas in a future version. Use pandas.concat instead.\n",
      "  filtrado_Data3=filtrado_Data3.append(filtrar3)\n",
      "/tmp/ipykernel_22993/2883319910.py:17: FutureWarning: The frame.append method is deprecated and will be removed from pandas in a future version. Use pandas.concat instead.\n",
      "  filtrado_Data4=filtrado_Data4.append(filtrar4)\n",
      "/tmp/ipykernel_22993/2883319910.py:14: FutureWarning: The frame.append method is deprecated and will be removed from pandas in a future version. Use pandas.concat instead.\n",
      "  filtrado_Data=filtrado_Data.append(filtrar)\n",
      "/tmp/ipykernel_22993/2883319910.py:15: FutureWarning: The frame.append method is deprecated and will be removed from pandas in a future version. Use pandas.concat instead.\n",
      "  filtrado_Data2=filtrado_Data2.append(filtrar2)\n",
      "/tmp/ipykernel_22993/2883319910.py:16: FutureWarning: The frame.append method is deprecated and will be removed from pandas in a future version. Use pandas.concat instead.\n",
      "  filtrado_Data3=filtrado_Data3.append(filtrar3)\n",
      "/tmp/ipykernel_22993/2883319910.py:17: FutureWarning: The frame.append method is deprecated and will be removed from pandas in a future version. Use pandas.concat instead.\n",
      "  filtrado_Data4=filtrado_Data4.append(filtrar4)\n",
      "/tmp/ipykernel_22993/2883319910.py:14: FutureWarning: The frame.append method is deprecated and will be removed from pandas in a future version. Use pandas.concat instead.\n",
      "  filtrado_Data=filtrado_Data.append(filtrar)\n",
      "/tmp/ipykernel_22993/2883319910.py:15: FutureWarning: The frame.append method is deprecated and will be removed from pandas in a future version. Use pandas.concat instead.\n",
      "  filtrado_Data2=filtrado_Data2.append(filtrar2)\n",
      "/tmp/ipykernel_22993/2883319910.py:16: FutureWarning: The frame.append method is deprecated and will be removed from pandas in a future version. Use pandas.concat instead.\n",
      "  filtrado_Data3=filtrado_Data3.append(filtrar3)\n",
      "/tmp/ipykernel_22993/2883319910.py:17: FutureWarning: The frame.append method is deprecated and will be removed from pandas in a future version. Use pandas.concat instead.\n",
      "  filtrado_Data4=filtrado_Data4.append(filtrar4)\n",
      "/tmp/ipykernel_22993/2883319910.py:14: FutureWarning: The frame.append method is deprecated and will be removed from pandas in a future version. Use pandas.concat instead.\n",
      "  filtrado_Data=filtrado_Data.append(filtrar)\n",
      "/tmp/ipykernel_22993/2883319910.py:15: FutureWarning: The frame.append method is deprecated and will be removed from pandas in a future version. Use pandas.concat instead.\n",
      "  filtrado_Data2=filtrado_Data2.append(filtrar2)\n",
      "/tmp/ipykernel_22993/2883319910.py:16: FutureWarning: The frame.append method is deprecated and will be removed from pandas in a future version. Use pandas.concat instead.\n",
      "  filtrado_Data3=filtrado_Data3.append(filtrar3)\n",
      "/tmp/ipykernel_22993/2883319910.py:17: FutureWarning: The frame.append method is deprecated and will be removed from pandas in a future version. Use pandas.concat instead.\n",
      "  filtrado_Data4=filtrado_Data4.append(filtrar4)\n"
     ]
    },
    {
     "name": "stderr",
     "output_type": "stream",
     "text": [
      "/tmp/ipykernel_22993/2883319910.py:14: FutureWarning: The frame.append method is deprecated and will be removed from pandas in a future version. Use pandas.concat instead.\n",
      "  filtrado_Data=filtrado_Data.append(filtrar)\n",
      "/tmp/ipykernel_22993/2883319910.py:15: FutureWarning: The frame.append method is deprecated and will be removed from pandas in a future version. Use pandas.concat instead.\n",
      "  filtrado_Data2=filtrado_Data2.append(filtrar2)\n",
      "/tmp/ipykernel_22993/2883319910.py:16: FutureWarning: The frame.append method is deprecated and will be removed from pandas in a future version. Use pandas.concat instead.\n",
      "  filtrado_Data3=filtrado_Data3.append(filtrar3)\n",
      "/tmp/ipykernel_22993/2883319910.py:17: FutureWarning: The frame.append method is deprecated and will be removed from pandas in a future version. Use pandas.concat instead.\n",
      "  filtrado_Data4=filtrado_Data4.append(filtrar4)\n",
      "/tmp/ipykernel_22993/2883319910.py:14: FutureWarning: The frame.append method is deprecated and will be removed from pandas in a future version. Use pandas.concat instead.\n",
      "  filtrado_Data=filtrado_Data.append(filtrar)\n",
      "/tmp/ipykernel_22993/2883319910.py:15: FutureWarning: The frame.append method is deprecated and will be removed from pandas in a future version. Use pandas.concat instead.\n",
      "  filtrado_Data2=filtrado_Data2.append(filtrar2)\n",
      "/tmp/ipykernel_22993/2883319910.py:16: FutureWarning: The frame.append method is deprecated and will be removed from pandas in a future version. Use pandas.concat instead.\n",
      "  filtrado_Data3=filtrado_Data3.append(filtrar3)\n",
      "/tmp/ipykernel_22993/2883319910.py:17: FutureWarning: The frame.append method is deprecated and will be removed from pandas in a future version. Use pandas.concat instead.\n",
      "  filtrado_Data4=filtrado_Data4.append(filtrar4)\n",
      "/tmp/ipykernel_22993/2883319910.py:14: FutureWarning: The frame.append method is deprecated and will be removed from pandas in a future version. Use pandas.concat instead.\n",
      "  filtrado_Data=filtrado_Data.append(filtrar)\n",
      "/tmp/ipykernel_22993/2883319910.py:15: FutureWarning: The frame.append method is deprecated and will be removed from pandas in a future version. Use pandas.concat instead.\n",
      "  filtrado_Data2=filtrado_Data2.append(filtrar2)\n",
      "/tmp/ipykernel_22993/2883319910.py:16: FutureWarning: The frame.append method is deprecated and will be removed from pandas in a future version. Use pandas.concat instead.\n",
      "  filtrado_Data3=filtrado_Data3.append(filtrar3)\n",
      "/tmp/ipykernel_22993/2883319910.py:17: FutureWarning: The frame.append method is deprecated and will be removed from pandas in a future version. Use pandas.concat instead.\n",
      "  filtrado_Data4=filtrado_Data4.append(filtrar4)\n",
      "/tmp/ipykernel_22993/2883319910.py:14: FutureWarning: The frame.append method is deprecated and will be removed from pandas in a future version. Use pandas.concat instead.\n",
      "  filtrado_Data=filtrado_Data.append(filtrar)\n",
      "/tmp/ipykernel_22993/2883319910.py:15: FutureWarning: The frame.append method is deprecated and will be removed from pandas in a future version. Use pandas.concat instead.\n",
      "  filtrado_Data2=filtrado_Data2.append(filtrar2)\n",
      "/tmp/ipykernel_22993/2883319910.py:16: FutureWarning: The frame.append method is deprecated and will be removed from pandas in a future version. Use pandas.concat instead.\n",
      "  filtrado_Data3=filtrado_Data3.append(filtrar3)\n",
      "/tmp/ipykernel_22993/2883319910.py:17: FutureWarning: The frame.append method is deprecated and will be removed from pandas in a future version. Use pandas.concat instead.\n",
      "  filtrado_Data4=filtrado_Data4.append(filtrar4)\n",
      "/tmp/ipykernel_22993/2883319910.py:14: FutureWarning: The frame.append method is deprecated and will be removed from pandas in a future version. Use pandas.concat instead.\n",
      "  filtrado_Data=filtrado_Data.append(filtrar)\n",
      "/tmp/ipykernel_22993/2883319910.py:15: FutureWarning: The frame.append method is deprecated and will be removed from pandas in a future version. Use pandas.concat instead.\n",
      "  filtrado_Data2=filtrado_Data2.append(filtrar2)\n",
      "/tmp/ipykernel_22993/2883319910.py:16: FutureWarning: The frame.append method is deprecated and will be removed from pandas in a future version. Use pandas.concat instead.\n",
      "  filtrado_Data3=filtrado_Data3.append(filtrar3)\n",
      "/tmp/ipykernel_22993/2883319910.py:17: FutureWarning: The frame.append method is deprecated and will be removed from pandas in a future version. Use pandas.concat instead.\n",
      "  filtrado_Data4=filtrado_Data4.append(filtrar4)\n",
      "/tmp/ipykernel_22993/2883319910.py:14: FutureWarning: The frame.append method is deprecated and will be removed from pandas in a future version. Use pandas.concat instead.\n",
      "  filtrado_Data=filtrado_Data.append(filtrar)\n",
      "/tmp/ipykernel_22993/2883319910.py:15: FutureWarning: The frame.append method is deprecated and will be removed from pandas in a future version. Use pandas.concat instead.\n",
      "  filtrado_Data2=filtrado_Data2.append(filtrar2)\n",
      "/tmp/ipykernel_22993/2883319910.py:16: FutureWarning: The frame.append method is deprecated and will be removed from pandas in a future version. Use pandas.concat instead.\n",
      "  filtrado_Data3=filtrado_Data3.append(filtrar3)\n",
      "/tmp/ipykernel_22993/2883319910.py:17: FutureWarning: The frame.append method is deprecated and will be removed from pandas in a future version. Use pandas.concat instead.\n",
      "  filtrado_Data4=filtrado_Data4.append(filtrar4)\n",
      "/tmp/ipykernel_22993/2883319910.py:14: FutureWarning: The frame.append method is deprecated and will be removed from pandas in a future version. Use pandas.concat instead.\n",
      "  filtrado_Data=filtrado_Data.append(filtrar)\n",
      "/tmp/ipykernel_22993/2883319910.py:15: FutureWarning: The frame.append method is deprecated and will be removed from pandas in a future version. Use pandas.concat instead.\n",
      "  filtrado_Data2=filtrado_Data2.append(filtrar2)\n",
      "/tmp/ipykernel_22993/2883319910.py:16: FutureWarning: The frame.append method is deprecated and will be removed from pandas in a future version. Use pandas.concat instead.\n",
      "  filtrado_Data3=filtrado_Data3.append(filtrar3)\n",
      "/tmp/ipykernel_22993/2883319910.py:17: FutureWarning: The frame.append method is deprecated and will be removed from pandas in a future version. Use pandas.concat instead.\n",
      "  filtrado_Data4=filtrado_Data4.append(filtrar4)\n",
      "/tmp/ipykernel_22993/2883319910.py:14: FutureWarning: The frame.append method is deprecated and will be removed from pandas in a future version. Use pandas.concat instead.\n",
      "  filtrado_Data=filtrado_Data.append(filtrar)\n",
      "/tmp/ipykernel_22993/2883319910.py:15: FutureWarning: The frame.append method is deprecated and will be removed from pandas in a future version. Use pandas.concat instead.\n",
      "  filtrado_Data2=filtrado_Data2.append(filtrar2)\n",
      "/tmp/ipykernel_22993/2883319910.py:16: FutureWarning: The frame.append method is deprecated and will be removed from pandas in a future version. Use pandas.concat instead.\n",
      "  filtrado_Data3=filtrado_Data3.append(filtrar3)\n",
      "/tmp/ipykernel_22993/2883319910.py:17: FutureWarning: The frame.append method is deprecated and will be removed from pandas in a future version. Use pandas.concat instead.\n",
      "  filtrado_Data4=filtrado_Data4.append(filtrar4)\n",
      "/tmp/ipykernel_22993/2883319910.py:14: FutureWarning: The frame.append method is deprecated and will be removed from pandas in a future version. Use pandas.concat instead.\n",
      "  filtrado_Data=filtrado_Data.append(filtrar)\n",
      "/tmp/ipykernel_22993/2883319910.py:15: FutureWarning: The frame.append method is deprecated and will be removed from pandas in a future version. Use pandas.concat instead.\n",
      "  filtrado_Data2=filtrado_Data2.append(filtrar2)\n",
      "/tmp/ipykernel_22993/2883319910.py:16: FutureWarning: The frame.append method is deprecated and will be removed from pandas in a future version. Use pandas.concat instead.\n",
      "  filtrado_Data3=filtrado_Data3.append(filtrar3)\n",
      "/tmp/ipykernel_22993/2883319910.py:17: FutureWarning: The frame.append method is deprecated and will be removed from pandas in a future version. Use pandas.concat instead.\n",
      "  filtrado_Data4=filtrado_Data4.append(filtrar4)\n",
      "/tmp/ipykernel_22993/2883319910.py:14: FutureWarning: The frame.append method is deprecated and will be removed from pandas in a future version. Use pandas.concat instead.\n",
      "  filtrado_Data=filtrado_Data.append(filtrar)\n",
      "/tmp/ipykernel_22993/2883319910.py:15: FutureWarning: The frame.append method is deprecated and will be removed from pandas in a future version. Use pandas.concat instead.\n",
      "  filtrado_Data2=filtrado_Data2.append(filtrar2)\n",
      "/tmp/ipykernel_22993/2883319910.py:16: FutureWarning: The frame.append method is deprecated and will be removed from pandas in a future version. Use pandas.concat instead.\n",
      "  filtrado_Data3=filtrado_Data3.append(filtrar3)\n",
      "/tmp/ipykernel_22993/2883319910.py:17: FutureWarning: The frame.append method is deprecated and will be removed from pandas in a future version. Use pandas.concat instead.\n",
      "  filtrado_Data4=filtrado_Data4.append(filtrar4)\n"
     ]
    },
    {
     "name": "stderr",
     "output_type": "stream",
     "text": [
      "/tmp/ipykernel_22993/2883319910.py:14: FutureWarning: The frame.append method is deprecated and will be removed from pandas in a future version. Use pandas.concat instead.\n",
      "  filtrado_Data=filtrado_Data.append(filtrar)\n",
      "/tmp/ipykernel_22993/2883319910.py:15: FutureWarning: The frame.append method is deprecated and will be removed from pandas in a future version. Use pandas.concat instead.\n",
      "  filtrado_Data2=filtrado_Data2.append(filtrar2)\n",
      "/tmp/ipykernel_22993/2883319910.py:16: FutureWarning: The frame.append method is deprecated and will be removed from pandas in a future version. Use pandas.concat instead.\n",
      "  filtrado_Data3=filtrado_Data3.append(filtrar3)\n",
      "/tmp/ipykernel_22993/2883319910.py:17: FutureWarning: The frame.append method is deprecated and will be removed from pandas in a future version. Use pandas.concat instead.\n",
      "  filtrado_Data4=filtrado_Data4.append(filtrar4)\n",
      "/tmp/ipykernel_22993/2883319910.py:14: FutureWarning: The frame.append method is deprecated and will be removed from pandas in a future version. Use pandas.concat instead.\n",
      "  filtrado_Data=filtrado_Data.append(filtrar)\n",
      "/tmp/ipykernel_22993/2883319910.py:15: FutureWarning: The frame.append method is deprecated and will be removed from pandas in a future version. Use pandas.concat instead.\n",
      "  filtrado_Data2=filtrado_Data2.append(filtrar2)\n",
      "/tmp/ipykernel_22993/2883319910.py:16: FutureWarning: The frame.append method is deprecated and will be removed from pandas in a future version. Use pandas.concat instead.\n",
      "  filtrado_Data3=filtrado_Data3.append(filtrar3)\n",
      "/tmp/ipykernel_22993/2883319910.py:17: FutureWarning: The frame.append method is deprecated and will be removed from pandas in a future version. Use pandas.concat instead.\n",
      "  filtrado_Data4=filtrado_Data4.append(filtrar4)\n",
      "/tmp/ipykernel_22993/2883319910.py:14: FutureWarning: The frame.append method is deprecated and will be removed from pandas in a future version. Use pandas.concat instead.\n",
      "  filtrado_Data=filtrado_Data.append(filtrar)\n",
      "/tmp/ipykernel_22993/2883319910.py:15: FutureWarning: The frame.append method is deprecated and will be removed from pandas in a future version. Use pandas.concat instead.\n",
      "  filtrado_Data2=filtrado_Data2.append(filtrar2)\n",
      "/tmp/ipykernel_22993/2883319910.py:16: FutureWarning: The frame.append method is deprecated and will be removed from pandas in a future version. Use pandas.concat instead.\n",
      "  filtrado_Data3=filtrado_Data3.append(filtrar3)\n",
      "/tmp/ipykernel_22993/2883319910.py:17: FutureWarning: The frame.append method is deprecated and will be removed from pandas in a future version. Use pandas.concat instead.\n",
      "  filtrado_Data4=filtrado_Data4.append(filtrar4)\n",
      "/tmp/ipykernel_22993/2883319910.py:14: FutureWarning: The frame.append method is deprecated and will be removed from pandas in a future version. Use pandas.concat instead.\n",
      "  filtrado_Data=filtrado_Data.append(filtrar)\n",
      "/tmp/ipykernel_22993/2883319910.py:15: FutureWarning: The frame.append method is deprecated and will be removed from pandas in a future version. Use pandas.concat instead.\n",
      "  filtrado_Data2=filtrado_Data2.append(filtrar2)\n",
      "/tmp/ipykernel_22993/2883319910.py:16: FutureWarning: The frame.append method is deprecated and will be removed from pandas in a future version. Use pandas.concat instead.\n",
      "  filtrado_Data3=filtrado_Data3.append(filtrar3)\n",
      "/tmp/ipykernel_22993/2883319910.py:17: FutureWarning: The frame.append method is deprecated and will be removed from pandas in a future version. Use pandas.concat instead.\n",
      "  filtrado_Data4=filtrado_Data4.append(filtrar4)\n",
      "/tmp/ipykernel_22993/2883319910.py:14: FutureWarning: The frame.append method is deprecated and will be removed from pandas in a future version. Use pandas.concat instead.\n",
      "  filtrado_Data=filtrado_Data.append(filtrar)\n",
      "/tmp/ipykernel_22993/2883319910.py:15: FutureWarning: The frame.append method is deprecated and will be removed from pandas in a future version. Use pandas.concat instead.\n",
      "  filtrado_Data2=filtrado_Data2.append(filtrar2)\n",
      "/tmp/ipykernel_22993/2883319910.py:16: FutureWarning: The frame.append method is deprecated and will be removed from pandas in a future version. Use pandas.concat instead.\n",
      "  filtrado_Data3=filtrado_Data3.append(filtrar3)\n",
      "/tmp/ipykernel_22993/2883319910.py:17: FutureWarning: The frame.append method is deprecated and will be removed from pandas in a future version. Use pandas.concat instead.\n",
      "  filtrado_Data4=filtrado_Data4.append(filtrar4)\n",
      "/tmp/ipykernel_22993/2883319910.py:14: FutureWarning: The frame.append method is deprecated and will be removed from pandas in a future version. Use pandas.concat instead.\n",
      "  filtrado_Data=filtrado_Data.append(filtrar)\n",
      "/tmp/ipykernel_22993/2883319910.py:15: FutureWarning: The frame.append method is deprecated and will be removed from pandas in a future version. Use pandas.concat instead.\n",
      "  filtrado_Data2=filtrado_Data2.append(filtrar2)\n",
      "/tmp/ipykernel_22993/2883319910.py:16: FutureWarning: The frame.append method is deprecated and will be removed from pandas in a future version. Use pandas.concat instead.\n",
      "  filtrado_Data3=filtrado_Data3.append(filtrar3)\n",
      "/tmp/ipykernel_22993/2883319910.py:17: FutureWarning: The frame.append method is deprecated and will be removed from pandas in a future version. Use pandas.concat instead.\n",
      "  filtrado_Data4=filtrado_Data4.append(filtrar4)\n",
      "/tmp/ipykernel_22993/2883319910.py:14: FutureWarning: The frame.append method is deprecated and will be removed from pandas in a future version. Use pandas.concat instead.\n",
      "  filtrado_Data=filtrado_Data.append(filtrar)\n",
      "/tmp/ipykernel_22993/2883319910.py:15: FutureWarning: The frame.append method is deprecated and will be removed from pandas in a future version. Use pandas.concat instead.\n",
      "  filtrado_Data2=filtrado_Data2.append(filtrar2)\n",
      "/tmp/ipykernel_22993/2883319910.py:16: FutureWarning: The frame.append method is deprecated and will be removed from pandas in a future version. Use pandas.concat instead.\n",
      "  filtrado_Data3=filtrado_Data3.append(filtrar3)\n",
      "/tmp/ipykernel_22993/2883319910.py:17: FutureWarning: The frame.append method is deprecated and will be removed from pandas in a future version. Use pandas.concat instead.\n",
      "  filtrado_Data4=filtrado_Data4.append(filtrar4)\n",
      "/tmp/ipykernel_22993/2883319910.py:14: FutureWarning: The frame.append method is deprecated and will be removed from pandas in a future version. Use pandas.concat instead.\n",
      "  filtrado_Data=filtrado_Data.append(filtrar)\n",
      "/tmp/ipykernel_22993/2883319910.py:15: FutureWarning: The frame.append method is deprecated and will be removed from pandas in a future version. Use pandas.concat instead.\n",
      "  filtrado_Data2=filtrado_Data2.append(filtrar2)\n",
      "/tmp/ipykernel_22993/2883319910.py:16: FutureWarning: The frame.append method is deprecated and will be removed from pandas in a future version. Use pandas.concat instead.\n",
      "  filtrado_Data3=filtrado_Data3.append(filtrar3)\n",
      "/tmp/ipykernel_22993/2883319910.py:17: FutureWarning: The frame.append method is deprecated and will be removed from pandas in a future version. Use pandas.concat instead.\n",
      "  filtrado_Data4=filtrado_Data4.append(filtrar4)\n",
      "/tmp/ipykernel_22993/2883319910.py:14: FutureWarning: The frame.append method is deprecated and will be removed from pandas in a future version. Use pandas.concat instead.\n",
      "  filtrado_Data=filtrado_Data.append(filtrar)\n",
      "/tmp/ipykernel_22993/2883319910.py:15: FutureWarning: The frame.append method is deprecated and will be removed from pandas in a future version. Use pandas.concat instead.\n",
      "  filtrado_Data2=filtrado_Data2.append(filtrar2)\n",
      "/tmp/ipykernel_22993/2883319910.py:16: FutureWarning: The frame.append method is deprecated and will be removed from pandas in a future version. Use pandas.concat instead.\n",
      "  filtrado_Data3=filtrado_Data3.append(filtrar3)\n",
      "/tmp/ipykernel_22993/2883319910.py:17: FutureWarning: The frame.append method is deprecated and will be removed from pandas in a future version. Use pandas.concat instead.\n",
      "  filtrado_Data4=filtrado_Data4.append(filtrar4)\n",
      "/tmp/ipykernel_22993/2883319910.py:14: FutureWarning: The frame.append method is deprecated and will be removed from pandas in a future version. Use pandas.concat instead.\n",
      "  filtrado_Data=filtrado_Data.append(filtrar)\n",
      "/tmp/ipykernel_22993/2883319910.py:15: FutureWarning: The frame.append method is deprecated and will be removed from pandas in a future version. Use pandas.concat instead.\n",
      "  filtrado_Data2=filtrado_Data2.append(filtrar2)\n",
      "/tmp/ipykernel_22993/2883319910.py:16: FutureWarning: The frame.append method is deprecated and will be removed from pandas in a future version. Use pandas.concat instead.\n",
      "  filtrado_Data3=filtrado_Data3.append(filtrar3)\n",
      "/tmp/ipykernel_22993/2883319910.py:17: FutureWarning: The frame.append method is deprecated and will be removed from pandas in a future version. Use pandas.concat instead.\n",
      "  filtrado_Data4=filtrado_Data4.append(filtrar4)\n"
     ]
    },
    {
     "name": "stderr",
     "output_type": "stream",
     "text": [
      "/tmp/ipykernel_22993/2883319910.py:14: FutureWarning: The frame.append method is deprecated and will be removed from pandas in a future version. Use pandas.concat instead.\n",
      "  filtrado_Data=filtrado_Data.append(filtrar)\n",
      "/tmp/ipykernel_22993/2883319910.py:15: FutureWarning: The frame.append method is deprecated and will be removed from pandas in a future version. Use pandas.concat instead.\n",
      "  filtrado_Data2=filtrado_Data2.append(filtrar2)\n",
      "/tmp/ipykernel_22993/2883319910.py:16: FutureWarning: The frame.append method is deprecated and will be removed from pandas in a future version. Use pandas.concat instead.\n",
      "  filtrado_Data3=filtrado_Data3.append(filtrar3)\n",
      "/tmp/ipykernel_22993/2883319910.py:17: FutureWarning: The frame.append method is deprecated and will be removed from pandas in a future version. Use pandas.concat instead.\n",
      "  filtrado_Data4=filtrado_Data4.append(filtrar4)\n",
      "/tmp/ipykernel_22993/2883319910.py:14: FutureWarning: The frame.append method is deprecated and will be removed from pandas in a future version. Use pandas.concat instead.\n",
      "  filtrado_Data=filtrado_Data.append(filtrar)\n",
      "/tmp/ipykernel_22993/2883319910.py:15: FutureWarning: The frame.append method is deprecated and will be removed from pandas in a future version. Use pandas.concat instead.\n",
      "  filtrado_Data2=filtrado_Data2.append(filtrar2)\n",
      "/tmp/ipykernel_22993/2883319910.py:16: FutureWarning: The frame.append method is deprecated and will be removed from pandas in a future version. Use pandas.concat instead.\n",
      "  filtrado_Data3=filtrado_Data3.append(filtrar3)\n",
      "/tmp/ipykernel_22993/2883319910.py:17: FutureWarning: The frame.append method is deprecated and will be removed from pandas in a future version. Use pandas.concat instead.\n",
      "  filtrado_Data4=filtrado_Data4.append(filtrar4)\n",
      "/tmp/ipykernel_22993/2883319910.py:14: FutureWarning: The frame.append method is deprecated and will be removed from pandas in a future version. Use pandas.concat instead.\n",
      "  filtrado_Data=filtrado_Data.append(filtrar)\n",
      "/tmp/ipykernel_22993/2883319910.py:15: FutureWarning: The frame.append method is deprecated and will be removed from pandas in a future version. Use pandas.concat instead.\n",
      "  filtrado_Data2=filtrado_Data2.append(filtrar2)\n",
      "/tmp/ipykernel_22993/2883319910.py:16: FutureWarning: The frame.append method is deprecated and will be removed from pandas in a future version. Use pandas.concat instead.\n",
      "  filtrado_Data3=filtrado_Data3.append(filtrar3)\n",
      "/tmp/ipykernel_22993/2883319910.py:17: FutureWarning: The frame.append method is deprecated and will be removed from pandas in a future version. Use pandas.concat instead.\n",
      "  filtrado_Data4=filtrado_Data4.append(filtrar4)\n",
      "/tmp/ipykernel_22993/2883319910.py:14: FutureWarning: The frame.append method is deprecated and will be removed from pandas in a future version. Use pandas.concat instead.\n",
      "  filtrado_Data=filtrado_Data.append(filtrar)\n",
      "/tmp/ipykernel_22993/2883319910.py:15: FutureWarning: The frame.append method is deprecated and will be removed from pandas in a future version. Use pandas.concat instead.\n",
      "  filtrado_Data2=filtrado_Data2.append(filtrar2)\n",
      "/tmp/ipykernel_22993/2883319910.py:16: FutureWarning: The frame.append method is deprecated and will be removed from pandas in a future version. Use pandas.concat instead.\n",
      "  filtrado_Data3=filtrado_Data3.append(filtrar3)\n",
      "/tmp/ipykernel_22993/2883319910.py:17: FutureWarning: The frame.append method is deprecated and will be removed from pandas in a future version. Use pandas.concat instead.\n",
      "  filtrado_Data4=filtrado_Data4.append(filtrar4)\n",
      "/tmp/ipykernel_22993/2883319910.py:14: FutureWarning: The frame.append method is deprecated and will be removed from pandas in a future version. Use pandas.concat instead.\n",
      "  filtrado_Data=filtrado_Data.append(filtrar)\n",
      "/tmp/ipykernel_22993/2883319910.py:15: FutureWarning: The frame.append method is deprecated and will be removed from pandas in a future version. Use pandas.concat instead.\n",
      "  filtrado_Data2=filtrado_Data2.append(filtrar2)\n",
      "/tmp/ipykernel_22993/2883319910.py:16: FutureWarning: The frame.append method is deprecated and will be removed from pandas in a future version. Use pandas.concat instead.\n",
      "  filtrado_Data3=filtrado_Data3.append(filtrar3)\n",
      "/tmp/ipykernel_22993/2883319910.py:17: FutureWarning: The frame.append method is deprecated and will be removed from pandas in a future version. Use pandas.concat instead.\n",
      "  filtrado_Data4=filtrado_Data4.append(filtrar4)\n",
      "/tmp/ipykernel_22993/2883319910.py:14: FutureWarning: The frame.append method is deprecated and will be removed from pandas in a future version. Use pandas.concat instead.\n",
      "  filtrado_Data=filtrado_Data.append(filtrar)\n",
      "/tmp/ipykernel_22993/2883319910.py:15: FutureWarning: The frame.append method is deprecated and will be removed from pandas in a future version. Use pandas.concat instead.\n",
      "  filtrado_Data2=filtrado_Data2.append(filtrar2)\n",
      "/tmp/ipykernel_22993/2883319910.py:16: FutureWarning: The frame.append method is deprecated and will be removed from pandas in a future version. Use pandas.concat instead.\n",
      "  filtrado_Data3=filtrado_Data3.append(filtrar3)\n",
      "/tmp/ipykernel_22993/2883319910.py:17: FutureWarning: The frame.append method is deprecated and will be removed from pandas in a future version. Use pandas.concat instead.\n",
      "  filtrado_Data4=filtrado_Data4.append(filtrar4)\n",
      "/tmp/ipykernel_22993/2883319910.py:14: FutureWarning: The frame.append method is deprecated and will be removed from pandas in a future version. Use pandas.concat instead.\n",
      "  filtrado_Data=filtrado_Data.append(filtrar)\n",
      "/tmp/ipykernel_22993/2883319910.py:15: FutureWarning: The frame.append method is deprecated and will be removed from pandas in a future version. Use pandas.concat instead.\n",
      "  filtrado_Data2=filtrado_Data2.append(filtrar2)\n",
      "/tmp/ipykernel_22993/2883319910.py:16: FutureWarning: The frame.append method is deprecated and will be removed from pandas in a future version. Use pandas.concat instead.\n",
      "  filtrado_Data3=filtrado_Data3.append(filtrar3)\n",
      "/tmp/ipykernel_22993/2883319910.py:17: FutureWarning: The frame.append method is deprecated and will be removed from pandas in a future version. Use pandas.concat instead.\n",
      "  filtrado_Data4=filtrado_Data4.append(filtrar4)\n",
      "/tmp/ipykernel_22993/2883319910.py:14: FutureWarning: The frame.append method is deprecated and will be removed from pandas in a future version. Use pandas.concat instead.\n",
      "  filtrado_Data=filtrado_Data.append(filtrar)\n",
      "/tmp/ipykernel_22993/2883319910.py:15: FutureWarning: The frame.append method is deprecated and will be removed from pandas in a future version. Use pandas.concat instead.\n",
      "  filtrado_Data2=filtrado_Data2.append(filtrar2)\n",
      "/tmp/ipykernel_22993/2883319910.py:16: FutureWarning: The frame.append method is deprecated and will be removed from pandas in a future version. Use pandas.concat instead.\n",
      "  filtrado_Data3=filtrado_Data3.append(filtrar3)\n",
      "/tmp/ipykernel_22993/2883319910.py:17: FutureWarning: The frame.append method is deprecated and will be removed from pandas in a future version. Use pandas.concat instead.\n",
      "  filtrado_Data4=filtrado_Data4.append(filtrar4)\n",
      "/tmp/ipykernel_22993/2883319910.py:14: FutureWarning: The frame.append method is deprecated and will be removed from pandas in a future version. Use pandas.concat instead.\n",
      "  filtrado_Data=filtrado_Data.append(filtrar)\n",
      "/tmp/ipykernel_22993/2883319910.py:15: FutureWarning: The frame.append method is deprecated and will be removed from pandas in a future version. Use pandas.concat instead.\n",
      "  filtrado_Data2=filtrado_Data2.append(filtrar2)\n",
      "/tmp/ipykernel_22993/2883319910.py:16: FutureWarning: The frame.append method is deprecated and will be removed from pandas in a future version. Use pandas.concat instead.\n",
      "  filtrado_Data3=filtrado_Data3.append(filtrar3)\n",
      "/tmp/ipykernel_22993/2883319910.py:17: FutureWarning: The frame.append method is deprecated and will be removed from pandas in a future version. Use pandas.concat instead.\n",
      "  filtrado_Data4=filtrado_Data4.append(filtrar4)\n",
      "/tmp/ipykernel_22993/2883319910.py:14: FutureWarning: The frame.append method is deprecated and will be removed from pandas in a future version. Use pandas.concat instead.\n",
      "  filtrado_Data=filtrado_Data.append(filtrar)\n",
      "/tmp/ipykernel_22993/2883319910.py:15: FutureWarning: The frame.append method is deprecated and will be removed from pandas in a future version. Use pandas.concat instead.\n",
      "  filtrado_Data2=filtrado_Data2.append(filtrar2)\n",
      "/tmp/ipykernel_22993/2883319910.py:16: FutureWarning: The frame.append method is deprecated and will be removed from pandas in a future version. Use pandas.concat instead.\n",
      "  filtrado_Data3=filtrado_Data3.append(filtrar3)\n",
      "/tmp/ipykernel_22993/2883319910.py:17: FutureWarning: The frame.append method is deprecated and will be removed from pandas in a future version. Use pandas.concat instead.\n",
      "  filtrado_Data4=filtrado_Data4.append(filtrar4)\n"
     ]
    },
    {
     "name": "stderr",
     "output_type": "stream",
     "text": [
      "/tmp/ipykernel_22993/2883319910.py:14: FutureWarning: The frame.append method is deprecated and will be removed from pandas in a future version. Use pandas.concat instead.\n",
      "  filtrado_Data=filtrado_Data.append(filtrar)\n",
      "/tmp/ipykernel_22993/2883319910.py:15: FutureWarning: The frame.append method is deprecated and will be removed from pandas in a future version. Use pandas.concat instead.\n",
      "  filtrado_Data2=filtrado_Data2.append(filtrar2)\n",
      "/tmp/ipykernel_22993/2883319910.py:16: FutureWarning: The frame.append method is deprecated and will be removed from pandas in a future version. Use pandas.concat instead.\n",
      "  filtrado_Data3=filtrado_Data3.append(filtrar3)\n",
      "/tmp/ipykernel_22993/2883319910.py:17: FutureWarning: The frame.append method is deprecated and will be removed from pandas in a future version. Use pandas.concat instead.\n",
      "  filtrado_Data4=filtrado_Data4.append(filtrar4)\n",
      "/tmp/ipykernel_22993/2883319910.py:14: FutureWarning: The frame.append method is deprecated and will be removed from pandas in a future version. Use pandas.concat instead.\n",
      "  filtrado_Data=filtrado_Data.append(filtrar)\n",
      "/tmp/ipykernel_22993/2883319910.py:15: FutureWarning: The frame.append method is deprecated and will be removed from pandas in a future version. Use pandas.concat instead.\n",
      "  filtrado_Data2=filtrado_Data2.append(filtrar2)\n",
      "/tmp/ipykernel_22993/2883319910.py:16: FutureWarning: The frame.append method is deprecated and will be removed from pandas in a future version. Use pandas.concat instead.\n",
      "  filtrado_Data3=filtrado_Data3.append(filtrar3)\n",
      "/tmp/ipykernel_22993/2883319910.py:17: FutureWarning: The frame.append method is deprecated and will be removed from pandas in a future version. Use pandas.concat instead.\n",
      "  filtrado_Data4=filtrado_Data4.append(filtrar4)\n",
      "/tmp/ipykernel_22993/2883319910.py:14: FutureWarning: The frame.append method is deprecated and will be removed from pandas in a future version. Use pandas.concat instead.\n",
      "  filtrado_Data=filtrado_Data.append(filtrar)\n",
      "/tmp/ipykernel_22993/2883319910.py:15: FutureWarning: The frame.append method is deprecated and will be removed from pandas in a future version. Use pandas.concat instead.\n",
      "  filtrado_Data2=filtrado_Data2.append(filtrar2)\n",
      "/tmp/ipykernel_22993/2883319910.py:16: FutureWarning: The frame.append method is deprecated and will be removed from pandas in a future version. Use pandas.concat instead.\n",
      "  filtrado_Data3=filtrado_Data3.append(filtrar3)\n",
      "/tmp/ipykernel_22993/2883319910.py:17: FutureWarning: The frame.append method is deprecated and will be removed from pandas in a future version. Use pandas.concat instead.\n",
      "  filtrado_Data4=filtrado_Data4.append(filtrar4)\n",
      "/tmp/ipykernel_22993/2883319910.py:14: FutureWarning: The frame.append method is deprecated and will be removed from pandas in a future version. Use pandas.concat instead.\n",
      "  filtrado_Data=filtrado_Data.append(filtrar)\n",
      "/tmp/ipykernel_22993/2883319910.py:15: FutureWarning: The frame.append method is deprecated and will be removed from pandas in a future version. Use pandas.concat instead.\n",
      "  filtrado_Data2=filtrado_Data2.append(filtrar2)\n",
      "/tmp/ipykernel_22993/2883319910.py:16: FutureWarning: The frame.append method is deprecated and will be removed from pandas in a future version. Use pandas.concat instead.\n",
      "  filtrado_Data3=filtrado_Data3.append(filtrar3)\n",
      "/tmp/ipykernel_22993/2883319910.py:17: FutureWarning: The frame.append method is deprecated and will be removed from pandas in a future version. Use pandas.concat instead.\n",
      "  filtrado_Data4=filtrado_Data4.append(filtrar4)\n",
      "/tmp/ipykernel_22993/2883319910.py:14: FutureWarning: The frame.append method is deprecated and will be removed from pandas in a future version. Use pandas.concat instead.\n",
      "  filtrado_Data=filtrado_Data.append(filtrar)\n",
      "/tmp/ipykernel_22993/2883319910.py:15: FutureWarning: The frame.append method is deprecated and will be removed from pandas in a future version. Use pandas.concat instead.\n",
      "  filtrado_Data2=filtrado_Data2.append(filtrar2)\n",
      "/tmp/ipykernel_22993/2883319910.py:16: FutureWarning: The frame.append method is deprecated and will be removed from pandas in a future version. Use pandas.concat instead.\n",
      "  filtrado_Data3=filtrado_Data3.append(filtrar3)\n",
      "/tmp/ipykernel_22993/2883319910.py:17: FutureWarning: The frame.append method is deprecated and will be removed from pandas in a future version. Use pandas.concat instead.\n",
      "  filtrado_Data4=filtrado_Data4.append(filtrar4)\n",
      "/tmp/ipykernel_22993/2883319910.py:14: FutureWarning: The frame.append method is deprecated and will be removed from pandas in a future version. Use pandas.concat instead.\n",
      "  filtrado_Data=filtrado_Data.append(filtrar)\n",
      "/tmp/ipykernel_22993/2883319910.py:15: FutureWarning: The frame.append method is deprecated and will be removed from pandas in a future version. Use pandas.concat instead.\n",
      "  filtrado_Data2=filtrado_Data2.append(filtrar2)\n",
      "/tmp/ipykernel_22993/2883319910.py:16: FutureWarning: The frame.append method is deprecated and will be removed from pandas in a future version. Use pandas.concat instead.\n",
      "  filtrado_Data3=filtrado_Data3.append(filtrar3)\n",
      "/tmp/ipykernel_22993/2883319910.py:17: FutureWarning: The frame.append method is deprecated and will be removed from pandas in a future version. Use pandas.concat instead.\n",
      "  filtrado_Data4=filtrado_Data4.append(filtrar4)\n",
      "/tmp/ipykernel_22993/2883319910.py:14: FutureWarning: The frame.append method is deprecated and will be removed from pandas in a future version. Use pandas.concat instead.\n",
      "  filtrado_Data=filtrado_Data.append(filtrar)\n",
      "/tmp/ipykernel_22993/2883319910.py:15: FutureWarning: The frame.append method is deprecated and will be removed from pandas in a future version. Use pandas.concat instead.\n",
      "  filtrado_Data2=filtrado_Data2.append(filtrar2)\n",
      "/tmp/ipykernel_22993/2883319910.py:16: FutureWarning: The frame.append method is deprecated and will be removed from pandas in a future version. Use pandas.concat instead.\n",
      "  filtrado_Data3=filtrado_Data3.append(filtrar3)\n",
      "/tmp/ipykernel_22993/2883319910.py:17: FutureWarning: The frame.append method is deprecated and will be removed from pandas in a future version. Use pandas.concat instead.\n",
      "  filtrado_Data4=filtrado_Data4.append(filtrar4)\n",
      "/tmp/ipykernel_22993/2883319910.py:14: FutureWarning: The frame.append method is deprecated and will be removed from pandas in a future version. Use pandas.concat instead.\n",
      "  filtrado_Data=filtrado_Data.append(filtrar)\n",
      "/tmp/ipykernel_22993/2883319910.py:15: FutureWarning: The frame.append method is deprecated and will be removed from pandas in a future version. Use pandas.concat instead.\n",
      "  filtrado_Data2=filtrado_Data2.append(filtrar2)\n",
      "/tmp/ipykernel_22993/2883319910.py:16: FutureWarning: The frame.append method is deprecated and will be removed from pandas in a future version. Use pandas.concat instead.\n",
      "  filtrado_Data3=filtrado_Data3.append(filtrar3)\n",
      "/tmp/ipykernel_22993/2883319910.py:17: FutureWarning: The frame.append method is deprecated and will be removed from pandas in a future version. Use pandas.concat instead.\n",
      "  filtrado_Data4=filtrado_Data4.append(filtrar4)\n",
      "/tmp/ipykernel_22993/2883319910.py:14: FutureWarning: The frame.append method is deprecated and will be removed from pandas in a future version. Use pandas.concat instead.\n",
      "  filtrado_Data=filtrado_Data.append(filtrar)\n",
      "/tmp/ipykernel_22993/2883319910.py:15: FutureWarning: The frame.append method is deprecated and will be removed from pandas in a future version. Use pandas.concat instead.\n",
      "  filtrado_Data2=filtrado_Data2.append(filtrar2)\n",
      "/tmp/ipykernel_22993/2883319910.py:16: FutureWarning: The frame.append method is deprecated and will be removed from pandas in a future version. Use pandas.concat instead.\n",
      "  filtrado_Data3=filtrado_Data3.append(filtrar3)\n",
      "/tmp/ipykernel_22993/2883319910.py:17: FutureWarning: The frame.append method is deprecated and will be removed from pandas in a future version. Use pandas.concat instead.\n",
      "  filtrado_Data4=filtrado_Data4.append(filtrar4)\n",
      "/tmp/ipykernel_22993/2883319910.py:14: FutureWarning: The frame.append method is deprecated and will be removed from pandas in a future version. Use pandas.concat instead.\n",
      "  filtrado_Data=filtrado_Data.append(filtrar)\n",
      "/tmp/ipykernel_22993/2883319910.py:15: FutureWarning: The frame.append method is deprecated and will be removed from pandas in a future version. Use pandas.concat instead.\n",
      "  filtrado_Data2=filtrado_Data2.append(filtrar2)\n",
      "/tmp/ipykernel_22993/2883319910.py:16: FutureWarning: The frame.append method is deprecated and will be removed from pandas in a future version. Use pandas.concat instead.\n",
      "  filtrado_Data3=filtrado_Data3.append(filtrar3)\n",
      "/tmp/ipykernel_22993/2883319910.py:17: FutureWarning: The frame.append method is deprecated and will be removed from pandas in a future version. Use pandas.concat instead.\n",
      "  filtrado_Data4=filtrado_Data4.append(filtrar4)\n"
     ]
    },
    {
     "name": "stderr",
     "output_type": "stream",
     "text": [
      "/tmp/ipykernel_22993/2883319910.py:14: FutureWarning: The frame.append method is deprecated and will be removed from pandas in a future version. Use pandas.concat instead.\n",
      "  filtrado_Data=filtrado_Data.append(filtrar)\n",
      "/tmp/ipykernel_22993/2883319910.py:15: FutureWarning: The frame.append method is deprecated and will be removed from pandas in a future version. Use pandas.concat instead.\n",
      "  filtrado_Data2=filtrado_Data2.append(filtrar2)\n",
      "/tmp/ipykernel_22993/2883319910.py:16: FutureWarning: The frame.append method is deprecated and will be removed from pandas in a future version. Use pandas.concat instead.\n",
      "  filtrado_Data3=filtrado_Data3.append(filtrar3)\n",
      "/tmp/ipykernel_22993/2883319910.py:17: FutureWarning: The frame.append method is deprecated and will be removed from pandas in a future version. Use pandas.concat instead.\n",
      "  filtrado_Data4=filtrado_Data4.append(filtrar4)\n",
      "/tmp/ipykernel_22993/2883319910.py:14: FutureWarning: The frame.append method is deprecated and will be removed from pandas in a future version. Use pandas.concat instead.\n",
      "  filtrado_Data=filtrado_Data.append(filtrar)\n",
      "/tmp/ipykernel_22993/2883319910.py:15: FutureWarning: The frame.append method is deprecated and will be removed from pandas in a future version. Use pandas.concat instead.\n",
      "  filtrado_Data2=filtrado_Data2.append(filtrar2)\n",
      "/tmp/ipykernel_22993/2883319910.py:16: FutureWarning: The frame.append method is deprecated and will be removed from pandas in a future version. Use pandas.concat instead.\n",
      "  filtrado_Data3=filtrado_Data3.append(filtrar3)\n",
      "/tmp/ipykernel_22993/2883319910.py:17: FutureWarning: The frame.append method is deprecated and will be removed from pandas in a future version. Use pandas.concat instead.\n",
      "  filtrado_Data4=filtrado_Data4.append(filtrar4)\n",
      "/tmp/ipykernel_22993/2883319910.py:14: FutureWarning: The frame.append method is deprecated and will be removed from pandas in a future version. Use pandas.concat instead.\n",
      "  filtrado_Data=filtrado_Data.append(filtrar)\n",
      "/tmp/ipykernel_22993/2883319910.py:15: FutureWarning: The frame.append method is deprecated and will be removed from pandas in a future version. Use pandas.concat instead.\n",
      "  filtrado_Data2=filtrado_Data2.append(filtrar2)\n",
      "/tmp/ipykernel_22993/2883319910.py:16: FutureWarning: The frame.append method is deprecated and will be removed from pandas in a future version. Use pandas.concat instead.\n",
      "  filtrado_Data3=filtrado_Data3.append(filtrar3)\n",
      "/tmp/ipykernel_22993/2883319910.py:17: FutureWarning: The frame.append method is deprecated and will be removed from pandas in a future version. Use pandas.concat instead.\n",
      "  filtrado_Data4=filtrado_Data4.append(filtrar4)\n",
      "/tmp/ipykernel_22993/2883319910.py:14: FutureWarning: The frame.append method is deprecated and will be removed from pandas in a future version. Use pandas.concat instead.\n",
      "  filtrado_Data=filtrado_Data.append(filtrar)\n",
      "/tmp/ipykernel_22993/2883319910.py:15: FutureWarning: The frame.append method is deprecated and will be removed from pandas in a future version. Use pandas.concat instead.\n",
      "  filtrado_Data2=filtrado_Data2.append(filtrar2)\n",
      "/tmp/ipykernel_22993/2883319910.py:16: FutureWarning: The frame.append method is deprecated and will be removed from pandas in a future version. Use pandas.concat instead.\n",
      "  filtrado_Data3=filtrado_Data3.append(filtrar3)\n",
      "/tmp/ipykernel_22993/2883319910.py:17: FutureWarning: The frame.append method is deprecated and will be removed from pandas in a future version. Use pandas.concat instead.\n",
      "  filtrado_Data4=filtrado_Data4.append(filtrar4)\n",
      "/tmp/ipykernel_22993/2883319910.py:14: FutureWarning: The frame.append method is deprecated and will be removed from pandas in a future version. Use pandas.concat instead.\n",
      "  filtrado_Data=filtrado_Data.append(filtrar)\n",
      "/tmp/ipykernel_22993/2883319910.py:15: FutureWarning: The frame.append method is deprecated and will be removed from pandas in a future version. Use pandas.concat instead.\n",
      "  filtrado_Data2=filtrado_Data2.append(filtrar2)\n",
      "/tmp/ipykernel_22993/2883319910.py:16: FutureWarning: The frame.append method is deprecated and will be removed from pandas in a future version. Use pandas.concat instead.\n",
      "  filtrado_Data3=filtrado_Data3.append(filtrar3)\n",
      "/tmp/ipykernel_22993/2883319910.py:17: FutureWarning: The frame.append method is deprecated and will be removed from pandas in a future version. Use pandas.concat instead.\n",
      "  filtrado_Data4=filtrado_Data4.append(filtrar4)\n",
      "/tmp/ipykernel_22993/2883319910.py:14: FutureWarning: The frame.append method is deprecated and will be removed from pandas in a future version. Use pandas.concat instead.\n",
      "  filtrado_Data=filtrado_Data.append(filtrar)\n",
      "/tmp/ipykernel_22993/2883319910.py:15: FutureWarning: The frame.append method is deprecated and will be removed from pandas in a future version. Use pandas.concat instead.\n",
      "  filtrado_Data2=filtrado_Data2.append(filtrar2)\n",
      "/tmp/ipykernel_22993/2883319910.py:16: FutureWarning: The frame.append method is deprecated and will be removed from pandas in a future version. Use pandas.concat instead.\n",
      "  filtrado_Data3=filtrado_Data3.append(filtrar3)\n",
      "/tmp/ipykernel_22993/2883319910.py:17: FutureWarning: The frame.append method is deprecated and will be removed from pandas in a future version. Use pandas.concat instead.\n",
      "  filtrado_Data4=filtrado_Data4.append(filtrar4)\n",
      "/tmp/ipykernel_22993/2883319910.py:14: FutureWarning: The frame.append method is deprecated and will be removed from pandas in a future version. Use pandas.concat instead.\n",
      "  filtrado_Data=filtrado_Data.append(filtrar)\n",
      "/tmp/ipykernel_22993/2883319910.py:15: FutureWarning: The frame.append method is deprecated and will be removed from pandas in a future version. Use pandas.concat instead.\n",
      "  filtrado_Data2=filtrado_Data2.append(filtrar2)\n",
      "/tmp/ipykernel_22993/2883319910.py:16: FutureWarning: The frame.append method is deprecated and will be removed from pandas in a future version. Use pandas.concat instead.\n",
      "  filtrado_Data3=filtrado_Data3.append(filtrar3)\n",
      "/tmp/ipykernel_22993/2883319910.py:17: FutureWarning: The frame.append method is deprecated and will be removed from pandas in a future version. Use pandas.concat instead.\n",
      "  filtrado_Data4=filtrado_Data4.append(filtrar4)\n",
      "/tmp/ipykernel_22993/2883319910.py:14: FutureWarning: The frame.append method is deprecated and will be removed from pandas in a future version. Use pandas.concat instead.\n",
      "  filtrado_Data=filtrado_Data.append(filtrar)\n",
      "/tmp/ipykernel_22993/2883319910.py:15: FutureWarning: The frame.append method is deprecated and will be removed from pandas in a future version. Use pandas.concat instead.\n",
      "  filtrado_Data2=filtrado_Data2.append(filtrar2)\n",
      "/tmp/ipykernel_22993/2883319910.py:16: FutureWarning: The frame.append method is deprecated and will be removed from pandas in a future version. Use pandas.concat instead.\n",
      "  filtrado_Data3=filtrado_Data3.append(filtrar3)\n",
      "/tmp/ipykernel_22993/2883319910.py:17: FutureWarning: The frame.append method is deprecated and will be removed from pandas in a future version. Use pandas.concat instead.\n",
      "  filtrado_Data4=filtrado_Data4.append(filtrar4)\n",
      "/tmp/ipykernel_22993/2883319910.py:14: FutureWarning: The frame.append method is deprecated and will be removed from pandas in a future version. Use pandas.concat instead.\n",
      "  filtrado_Data=filtrado_Data.append(filtrar)\n",
      "/tmp/ipykernel_22993/2883319910.py:15: FutureWarning: The frame.append method is deprecated and will be removed from pandas in a future version. Use pandas.concat instead.\n",
      "  filtrado_Data2=filtrado_Data2.append(filtrar2)\n",
      "/tmp/ipykernel_22993/2883319910.py:16: FutureWarning: The frame.append method is deprecated and will be removed from pandas in a future version. Use pandas.concat instead.\n",
      "  filtrado_Data3=filtrado_Data3.append(filtrar3)\n",
      "/tmp/ipykernel_22993/2883319910.py:17: FutureWarning: The frame.append method is deprecated and will be removed from pandas in a future version. Use pandas.concat instead.\n",
      "  filtrado_Data4=filtrado_Data4.append(filtrar4)\n",
      "/tmp/ipykernel_22993/2883319910.py:14: FutureWarning: The frame.append method is deprecated and will be removed from pandas in a future version. Use pandas.concat instead.\n",
      "  filtrado_Data=filtrado_Data.append(filtrar)\n",
      "/tmp/ipykernel_22993/2883319910.py:15: FutureWarning: The frame.append method is deprecated and will be removed from pandas in a future version. Use pandas.concat instead.\n",
      "  filtrado_Data2=filtrado_Data2.append(filtrar2)\n",
      "/tmp/ipykernel_22993/2883319910.py:16: FutureWarning: The frame.append method is deprecated and will be removed from pandas in a future version. Use pandas.concat instead.\n",
      "  filtrado_Data3=filtrado_Data3.append(filtrar3)\n",
      "/tmp/ipykernel_22993/2883319910.py:17: FutureWarning: The frame.append method is deprecated and will be removed from pandas in a future version. Use pandas.concat instead.\n",
      "  filtrado_Data4=filtrado_Data4.append(filtrar4)\n"
     ]
    },
    {
     "name": "stderr",
     "output_type": "stream",
     "text": [
      "/tmp/ipykernel_22993/2883319910.py:14: FutureWarning: The frame.append method is deprecated and will be removed from pandas in a future version. Use pandas.concat instead.\n",
      "  filtrado_Data=filtrado_Data.append(filtrar)\n",
      "/tmp/ipykernel_22993/2883319910.py:15: FutureWarning: The frame.append method is deprecated and will be removed from pandas in a future version. Use pandas.concat instead.\n",
      "  filtrado_Data2=filtrado_Data2.append(filtrar2)\n",
      "/tmp/ipykernel_22993/2883319910.py:16: FutureWarning: The frame.append method is deprecated and will be removed from pandas in a future version. Use pandas.concat instead.\n",
      "  filtrado_Data3=filtrado_Data3.append(filtrar3)\n",
      "/tmp/ipykernel_22993/2883319910.py:17: FutureWarning: The frame.append method is deprecated and will be removed from pandas in a future version. Use pandas.concat instead.\n",
      "  filtrado_Data4=filtrado_Data4.append(filtrar4)\n",
      "/tmp/ipykernel_22993/2883319910.py:14: FutureWarning: The frame.append method is deprecated and will be removed from pandas in a future version. Use pandas.concat instead.\n",
      "  filtrado_Data=filtrado_Data.append(filtrar)\n",
      "/tmp/ipykernel_22993/2883319910.py:15: FutureWarning: The frame.append method is deprecated and will be removed from pandas in a future version. Use pandas.concat instead.\n",
      "  filtrado_Data2=filtrado_Data2.append(filtrar2)\n",
      "/tmp/ipykernel_22993/2883319910.py:16: FutureWarning: The frame.append method is deprecated and will be removed from pandas in a future version. Use pandas.concat instead.\n",
      "  filtrado_Data3=filtrado_Data3.append(filtrar3)\n",
      "/tmp/ipykernel_22993/2883319910.py:17: FutureWarning: The frame.append method is deprecated and will be removed from pandas in a future version. Use pandas.concat instead.\n",
      "  filtrado_Data4=filtrado_Data4.append(filtrar4)\n",
      "/tmp/ipykernel_22993/2883319910.py:14: FutureWarning: The frame.append method is deprecated and will be removed from pandas in a future version. Use pandas.concat instead.\n",
      "  filtrado_Data=filtrado_Data.append(filtrar)\n",
      "/tmp/ipykernel_22993/2883319910.py:15: FutureWarning: The frame.append method is deprecated and will be removed from pandas in a future version. Use pandas.concat instead.\n",
      "  filtrado_Data2=filtrado_Data2.append(filtrar2)\n",
      "/tmp/ipykernel_22993/2883319910.py:16: FutureWarning: The frame.append method is deprecated and will be removed from pandas in a future version. Use pandas.concat instead.\n",
      "  filtrado_Data3=filtrado_Data3.append(filtrar3)\n",
      "/tmp/ipykernel_22993/2883319910.py:17: FutureWarning: The frame.append method is deprecated and will be removed from pandas in a future version. Use pandas.concat instead.\n",
      "  filtrado_Data4=filtrado_Data4.append(filtrar4)\n",
      "/tmp/ipykernel_22993/2883319910.py:14: FutureWarning: The frame.append method is deprecated and will be removed from pandas in a future version. Use pandas.concat instead.\n",
      "  filtrado_Data=filtrado_Data.append(filtrar)\n",
      "/tmp/ipykernel_22993/2883319910.py:15: FutureWarning: The frame.append method is deprecated and will be removed from pandas in a future version. Use pandas.concat instead.\n",
      "  filtrado_Data2=filtrado_Data2.append(filtrar2)\n",
      "/tmp/ipykernel_22993/2883319910.py:16: FutureWarning: The frame.append method is deprecated and will be removed from pandas in a future version. Use pandas.concat instead.\n",
      "  filtrado_Data3=filtrado_Data3.append(filtrar3)\n",
      "/tmp/ipykernel_22993/2883319910.py:17: FutureWarning: The frame.append method is deprecated and will be removed from pandas in a future version. Use pandas.concat instead.\n",
      "  filtrado_Data4=filtrado_Data4.append(filtrar4)\n",
      "/tmp/ipykernel_22993/2883319910.py:14: FutureWarning: The frame.append method is deprecated and will be removed from pandas in a future version. Use pandas.concat instead.\n",
      "  filtrado_Data=filtrado_Data.append(filtrar)\n",
      "/tmp/ipykernel_22993/2883319910.py:15: FutureWarning: The frame.append method is deprecated and will be removed from pandas in a future version. Use pandas.concat instead.\n",
      "  filtrado_Data2=filtrado_Data2.append(filtrar2)\n",
      "/tmp/ipykernel_22993/2883319910.py:16: FutureWarning: The frame.append method is deprecated and will be removed from pandas in a future version. Use pandas.concat instead.\n",
      "  filtrado_Data3=filtrado_Data3.append(filtrar3)\n",
      "/tmp/ipykernel_22993/2883319910.py:17: FutureWarning: The frame.append method is deprecated and will be removed from pandas in a future version. Use pandas.concat instead.\n",
      "  filtrado_Data4=filtrado_Data4.append(filtrar4)\n",
      "/tmp/ipykernel_22993/2883319910.py:14: FutureWarning: The frame.append method is deprecated and will be removed from pandas in a future version. Use pandas.concat instead.\n",
      "  filtrado_Data=filtrado_Data.append(filtrar)\n",
      "/tmp/ipykernel_22993/2883319910.py:15: FutureWarning: The frame.append method is deprecated and will be removed from pandas in a future version. Use pandas.concat instead.\n",
      "  filtrado_Data2=filtrado_Data2.append(filtrar2)\n",
      "/tmp/ipykernel_22993/2883319910.py:16: FutureWarning: The frame.append method is deprecated and will be removed from pandas in a future version. Use pandas.concat instead.\n",
      "  filtrado_Data3=filtrado_Data3.append(filtrar3)\n",
      "/tmp/ipykernel_22993/2883319910.py:17: FutureWarning: The frame.append method is deprecated and will be removed from pandas in a future version. Use pandas.concat instead.\n",
      "  filtrado_Data4=filtrado_Data4.append(filtrar4)\n",
      "/tmp/ipykernel_22993/2883319910.py:14: FutureWarning: The frame.append method is deprecated and will be removed from pandas in a future version. Use pandas.concat instead.\n",
      "  filtrado_Data=filtrado_Data.append(filtrar)\n",
      "/tmp/ipykernel_22993/2883319910.py:15: FutureWarning: The frame.append method is deprecated and will be removed from pandas in a future version. Use pandas.concat instead.\n",
      "  filtrado_Data2=filtrado_Data2.append(filtrar2)\n",
      "/tmp/ipykernel_22993/2883319910.py:16: FutureWarning: The frame.append method is deprecated and will be removed from pandas in a future version. Use pandas.concat instead.\n",
      "  filtrado_Data3=filtrado_Data3.append(filtrar3)\n",
      "/tmp/ipykernel_22993/2883319910.py:17: FutureWarning: The frame.append method is deprecated and will be removed from pandas in a future version. Use pandas.concat instead.\n",
      "  filtrado_Data4=filtrado_Data4.append(filtrar4)\n",
      "/tmp/ipykernel_22993/2883319910.py:14: FutureWarning: The frame.append method is deprecated and will be removed from pandas in a future version. Use pandas.concat instead.\n",
      "  filtrado_Data=filtrado_Data.append(filtrar)\n",
      "/tmp/ipykernel_22993/2883319910.py:15: FutureWarning: The frame.append method is deprecated and will be removed from pandas in a future version. Use pandas.concat instead.\n",
      "  filtrado_Data2=filtrado_Data2.append(filtrar2)\n",
      "/tmp/ipykernel_22993/2883319910.py:16: FutureWarning: The frame.append method is deprecated and will be removed from pandas in a future version. Use pandas.concat instead.\n",
      "  filtrado_Data3=filtrado_Data3.append(filtrar3)\n",
      "/tmp/ipykernel_22993/2883319910.py:17: FutureWarning: The frame.append method is deprecated and will be removed from pandas in a future version. Use pandas.concat instead.\n",
      "  filtrado_Data4=filtrado_Data4.append(filtrar4)\n",
      "/tmp/ipykernel_22993/2883319910.py:14: FutureWarning: The frame.append method is deprecated and will be removed from pandas in a future version. Use pandas.concat instead.\n",
      "  filtrado_Data=filtrado_Data.append(filtrar)\n",
      "/tmp/ipykernel_22993/2883319910.py:15: FutureWarning: The frame.append method is deprecated and will be removed from pandas in a future version. Use pandas.concat instead.\n",
      "  filtrado_Data2=filtrado_Data2.append(filtrar2)\n",
      "/tmp/ipykernel_22993/2883319910.py:16: FutureWarning: The frame.append method is deprecated and will be removed from pandas in a future version. Use pandas.concat instead.\n",
      "  filtrado_Data3=filtrado_Data3.append(filtrar3)\n",
      "/tmp/ipykernel_22993/2883319910.py:17: FutureWarning: The frame.append method is deprecated and will be removed from pandas in a future version. Use pandas.concat instead.\n",
      "  filtrado_Data4=filtrado_Data4.append(filtrar4)\n",
      "/tmp/ipykernel_22993/2883319910.py:14: FutureWarning: The frame.append method is deprecated and will be removed from pandas in a future version. Use pandas.concat instead.\n",
      "  filtrado_Data=filtrado_Data.append(filtrar)\n",
      "/tmp/ipykernel_22993/2883319910.py:15: FutureWarning: The frame.append method is deprecated and will be removed from pandas in a future version. Use pandas.concat instead.\n",
      "  filtrado_Data2=filtrado_Data2.append(filtrar2)\n",
      "/tmp/ipykernel_22993/2883319910.py:16: FutureWarning: The frame.append method is deprecated and will be removed from pandas in a future version. Use pandas.concat instead.\n",
      "  filtrado_Data3=filtrado_Data3.append(filtrar3)\n",
      "/tmp/ipykernel_22993/2883319910.py:17: FutureWarning: The frame.append method is deprecated and will be removed from pandas in a future version. Use pandas.concat instead.\n",
      "  filtrado_Data4=filtrado_Data4.append(filtrar4)\n"
     ]
    },
    {
     "name": "stderr",
     "output_type": "stream",
     "text": [
      "/tmp/ipykernel_22993/2883319910.py:14: FutureWarning: The frame.append method is deprecated and will be removed from pandas in a future version. Use pandas.concat instead.\n",
      "  filtrado_Data=filtrado_Data.append(filtrar)\n",
      "/tmp/ipykernel_22993/2883319910.py:15: FutureWarning: The frame.append method is deprecated and will be removed from pandas in a future version. Use pandas.concat instead.\n",
      "  filtrado_Data2=filtrado_Data2.append(filtrar2)\n",
      "/tmp/ipykernel_22993/2883319910.py:16: FutureWarning: The frame.append method is deprecated and will be removed from pandas in a future version. Use pandas.concat instead.\n",
      "  filtrado_Data3=filtrado_Data3.append(filtrar3)\n",
      "/tmp/ipykernel_22993/2883319910.py:17: FutureWarning: The frame.append method is deprecated and will be removed from pandas in a future version. Use pandas.concat instead.\n",
      "  filtrado_Data4=filtrado_Data4.append(filtrar4)\n",
      "/tmp/ipykernel_22993/2883319910.py:14: FutureWarning: The frame.append method is deprecated and will be removed from pandas in a future version. Use pandas.concat instead.\n",
      "  filtrado_Data=filtrado_Data.append(filtrar)\n",
      "/tmp/ipykernel_22993/2883319910.py:15: FutureWarning: The frame.append method is deprecated and will be removed from pandas in a future version. Use pandas.concat instead.\n",
      "  filtrado_Data2=filtrado_Data2.append(filtrar2)\n",
      "/tmp/ipykernel_22993/2883319910.py:16: FutureWarning: The frame.append method is deprecated and will be removed from pandas in a future version. Use pandas.concat instead.\n",
      "  filtrado_Data3=filtrado_Data3.append(filtrar3)\n",
      "/tmp/ipykernel_22993/2883319910.py:17: FutureWarning: The frame.append method is deprecated and will be removed from pandas in a future version. Use pandas.concat instead.\n",
      "  filtrado_Data4=filtrado_Data4.append(filtrar4)\n",
      "/tmp/ipykernel_22993/2883319910.py:14: FutureWarning: The frame.append method is deprecated and will be removed from pandas in a future version. Use pandas.concat instead.\n",
      "  filtrado_Data=filtrado_Data.append(filtrar)\n",
      "/tmp/ipykernel_22993/2883319910.py:15: FutureWarning: The frame.append method is deprecated and will be removed from pandas in a future version. Use pandas.concat instead.\n",
      "  filtrado_Data2=filtrado_Data2.append(filtrar2)\n",
      "/tmp/ipykernel_22993/2883319910.py:16: FutureWarning: The frame.append method is deprecated and will be removed from pandas in a future version. Use pandas.concat instead.\n",
      "  filtrado_Data3=filtrado_Data3.append(filtrar3)\n",
      "/tmp/ipykernel_22993/2883319910.py:17: FutureWarning: The frame.append method is deprecated and will be removed from pandas in a future version. Use pandas.concat instead.\n",
      "  filtrado_Data4=filtrado_Data4.append(filtrar4)\n",
      "/tmp/ipykernel_22993/2883319910.py:14: FutureWarning: The frame.append method is deprecated and will be removed from pandas in a future version. Use pandas.concat instead.\n",
      "  filtrado_Data=filtrado_Data.append(filtrar)\n",
      "/tmp/ipykernel_22993/2883319910.py:15: FutureWarning: The frame.append method is deprecated and will be removed from pandas in a future version. Use pandas.concat instead.\n",
      "  filtrado_Data2=filtrado_Data2.append(filtrar2)\n",
      "/tmp/ipykernel_22993/2883319910.py:16: FutureWarning: The frame.append method is deprecated and will be removed from pandas in a future version. Use pandas.concat instead.\n",
      "  filtrado_Data3=filtrado_Data3.append(filtrar3)\n",
      "/tmp/ipykernel_22993/2883319910.py:17: FutureWarning: The frame.append method is deprecated and will be removed from pandas in a future version. Use pandas.concat instead.\n",
      "  filtrado_Data4=filtrado_Data4.append(filtrar4)\n",
      "/tmp/ipykernel_22993/2883319910.py:14: FutureWarning: The frame.append method is deprecated and will be removed from pandas in a future version. Use pandas.concat instead.\n",
      "  filtrado_Data=filtrado_Data.append(filtrar)\n",
      "/tmp/ipykernel_22993/2883319910.py:15: FutureWarning: The frame.append method is deprecated and will be removed from pandas in a future version. Use pandas.concat instead.\n",
      "  filtrado_Data2=filtrado_Data2.append(filtrar2)\n",
      "/tmp/ipykernel_22993/2883319910.py:16: FutureWarning: The frame.append method is deprecated and will be removed from pandas in a future version. Use pandas.concat instead.\n",
      "  filtrado_Data3=filtrado_Data3.append(filtrar3)\n",
      "/tmp/ipykernel_22993/2883319910.py:17: FutureWarning: The frame.append method is deprecated and will be removed from pandas in a future version. Use pandas.concat instead.\n",
      "  filtrado_Data4=filtrado_Data4.append(filtrar4)\n",
      "/tmp/ipykernel_22993/2883319910.py:14: FutureWarning: The frame.append method is deprecated and will be removed from pandas in a future version. Use pandas.concat instead.\n",
      "  filtrado_Data=filtrado_Data.append(filtrar)\n",
      "/tmp/ipykernel_22993/2883319910.py:15: FutureWarning: The frame.append method is deprecated and will be removed from pandas in a future version. Use pandas.concat instead.\n",
      "  filtrado_Data2=filtrado_Data2.append(filtrar2)\n",
      "/tmp/ipykernel_22993/2883319910.py:16: FutureWarning: The frame.append method is deprecated and will be removed from pandas in a future version. Use pandas.concat instead.\n",
      "  filtrado_Data3=filtrado_Data3.append(filtrar3)\n",
      "/tmp/ipykernel_22993/2883319910.py:17: FutureWarning: The frame.append method is deprecated and will be removed from pandas in a future version. Use pandas.concat instead.\n",
      "  filtrado_Data4=filtrado_Data4.append(filtrar4)\n",
      "/tmp/ipykernel_22993/2883319910.py:14: FutureWarning: The frame.append method is deprecated and will be removed from pandas in a future version. Use pandas.concat instead.\n",
      "  filtrado_Data=filtrado_Data.append(filtrar)\n",
      "/tmp/ipykernel_22993/2883319910.py:15: FutureWarning: The frame.append method is deprecated and will be removed from pandas in a future version. Use pandas.concat instead.\n",
      "  filtrado_Data2=filtrado_Data2.append(filtrar2)\n",
      "/tmp/ipykernel_22993/2883319910.py:16: FutureWarning: The frame.append method is deprecated and will be removed from pandas in a future version. Use pandas.concat instead.\n",
      "  filtrado_Data3=filtrado_Data3.append(filtrar3)\n",
      "/tmp/ipykernel_22993/2883319910.py:17: FutureWarning: The frame.append method is deprecated and will be removed from pandas in a future version. Use pandas.concat instead.\n",
      "  filtrado_Data4=filtrado_Data4.append(filtrar4)\n",
      "/tmp/ipykernel_22993/2883319910.py:14: FutureWarning: The frame.append method is deprecated and will be removed from pandas in a future version. Use pandas.concat instead.\n",
      "  filtrado_Data=filtrado_Data.append(filtrar)\n",
      "/tmp/ipykernel_22993/2883319910.py:15: FutureWarning: The frame.append method is deprecated and will be removed from pandas in a future version. Use pandas.concat instead.\n",
      "  filtrado_Data2=filtrado_Data2.append(filtrar2)\n",
      "/tmp/ipykernel_22993/2883319910.py:16: FutureWarning: The frame.append method is deprecated and will be removed from pandas in a future version. Use pandas.concat instead.\n",
      "  filtrado_Data3=filtrado_Data3.append(filtrar3)\n",
      "/tmp/ipykernel_22993/2883319910.py:17: FutureWarning: The frame.append method is deprecated and will be removed from pandas in a future version. Use pandas.concat instead.\n",
      "  filtrado_Data4=filtrado_Data4.append(filtrar4)\n",
      "/tmp/ipykernel_22993/2883319910.py:14: FutureWarning: The frame.append method is deprecated and will be removed from pandas in a future version. Use pandas.concat instead.\n",
      "  filtrado_Data=filtrado_Data.append(filtrar)\n",
      "/tmp/ipykernel_22993/2883319910.py:15: FutureWarning: The frame.append method is deprecated and will be removed from pandas in a future version. Use pandas.concat instead.\n",
      "  filtrado_Data2=filtrado_Data2.append(filtrar2)\n",
      "/tmp/ipykernel_22993/2883319910.py:16: FutureWarning: The frame.append method is deprecated and will be removed from pandas in a future version. Use pandas.concat instead.\n",
      "  filtrado_Data3=filtrado_Data3.append(filtrar3)\n",
      "/tmp/ipykernel_22993/2883319910.py:17: FutureWarning: The frame.append method is deprecated and will be removed from pandas in a future version. Use pandas.concat instead.\n",
      "  filtrado_Data4=filtrado_Data4.append(filtrar4)\n",
      "/tmp/ipykernel_22993/2883319910.py:14: FutureWarning: The frame.append method is deprecated and will be removed from pandas in a future version. Use pandas.concat instead.\n",
      "  filtrado_Data=filtrado_Data.append(filtrar)\n",
      "/tmp/ipykernel_22993/2883319910.py:15: FutureWarning: The frame.append method is deprecated and will be removed from pandas in a future version. Use pandas.concat instead.\n",
      "  filtrado_Data2=filtrado_Data2.append(filtrar2)\n",
      "/tmp/ipykernel_22993/2883319910.py:16: FutureWarning: The frame.append method is deprecated and will be removed from pandas in a future version. Use pandas.concat instead.\n",
      "  filtrado_Data3=filtrado_Data3.append(filtrar3)\n",
      "/tmp/ipykernel_22993/2883319910.py:17: FutureWarning: The frame.append method is deprecated and will be removed from pandas in a future version. Use pandas.concat instead.\n",
      "  filtrado_Data4=filtrado_Data4.append(filtrar4)\n"
     ]
    },
    {
     "name": "stderr",
     "output_type": "stream",
     "text": [
      "/tmp/ipykernel_22993/2883319910.py:14: FutureWarning: The frame.append method is deprecated and will be removed from pandas in a future version. Use pandas.concat instead.\n",
      "  filtrado_Data=filtrado_Data.append(filtrar)\n",
      "/tmp/ipykernel_22993/2883319910.py:15: FutureWarning: The frame.append method is deprecated and will be removed from pandas in a future version. Use pandas.concat instead.\n",
      "  filtrado_Data2=filtrado_Data2.append(filtrar2)\n",
      "/tmp/ipykernel_22993/2883319910.py:16: FutureWarning: The frame.append method is deprecated and will be removed from pandas in a future version. Use pandas.concat instead.\n",
      "  filtrado_Data3=filtrado_Data3.append(filtrar3)\n",
      "/tmp/ipykernel_22993/2883319910.py:17: FutureWarning: The frame.append method is deprecated and will be removed from pandas in a future version. Use pandas.concat instead.\n",
      "  filtrado_Data4=filtrado_Data4.append(filtrar4)\n",
      "/tmp/ipykernel_22993/2883319910.py:14: FutureWarning: The frame.append method is deprecated and will be removed from pandas in a future version. Use pandas.concat instead.\n",
      "  filtrado_Data=filtrado_Data.append(filtrar)\n",
      "/tmp/ipykernel_22993/2883319910.py:15: FutureWarning: The frame.append method is deprecated and will be removed from pandas in a future version. Use pandas.concat instead.\n",
      "  filtrado_Data2=filtrado_Data2.append(filtrar2)\n",
      "/tmp/ipykernel_22993/2883319910.py:16: FutureWarning: The frame.append method is deprecated and will be removed from pandas in a future version. Use pandas.concat instead.\n",
      "  filtrado_Data3=filtrado_Data3.append(filtrar3)\n",
      "/tmp/ipykernel_22993/2883319910.py:17: FutureWarning: The frame.append method is deprecated and will be removed from pandas in a future version. Use pandas.concat instead.\n",
      "  filtrado_Data4=filtrado_Data4.append(filtrar4)\n",
      "/tmp/ipykernel_22993/2883319910.py:14: FutureWarning: The frame.append method is deprecated and will be removed from pandas in a future version. Use pandas.concat instead.\n",
      "  filtrado_Data=filtrado_Data.append(filtrar)\n",
      "/tmp/ipykernel_22993/2883319910.py:15: FutureWarning: The frame.append method is deprecated and will be removed from pandas in a future version. Use pandas.concat instead.\n",
      "  filtrado_Data2=filtrado_Data2.append(filtrar2)\n",
      "/tmp/ipykernel_22993/2883319910.py:16: FutureWarning: The frame.append method is deprecated and will be removed from pandas in a future version. Use pandas.concat instead.\n",
      "  filtrado_Data3=filtrado_Data3.append(filtrar3)\n",
      "/tmp/ipykernel_22993/2883319910.py:17: FutureWarning: The frame.append method is deprecated and will be removed from pandas in a future version. Use pandas.concat instead.\n",
      "  filtrado_Data4=filtrado_Data4.append(filtrar4)\n",
      "/tmp/ipykernel_22993/2883319910.py:14: FutureWarning: The frame.append method is deprecated and will be removed from pandas in a future version. Use pandas.concat instead.\n",
      "  filtrado_Data=filtrado_Data.append(filtrar)\n",
      "/tmp/ipykernel_22993/2883319910.py:15: FutureWarning: The frame.append method is deprecated and will be removed from pandas in a future version. Use pandas.concat instead.\n",
      "  filtrado_Data2=filtrado_Data2.append(filtrar2)\n",
      "/tmp/ipykernel_22993/2883319910.py:16: FutureWarning: The frame.append method is deprecated and will be removed from pandas in a future version. Use pandas.concat instead.\n",
      "  filtrado_Data3=filtrado_Data3.append(filtrar3)\n",
      "/tmp/ipykernel_22993/2883319910.py:17: FutureWarning: The frame.append method is deprecated and will be removed from pandas in a future version. Use pandas.concat instead.\n",
      "  filtrado_Data4=filtrado_Data4.append(filtrar4)\n",
      "/tmp/ipykernel_22993/2883319910.py:14: FutureWarning: The frame.append method is deprecated and will be removed from pandas in a future version. Use pandas.concat instead.\n",
      "  filtrado_Data=filtrado_Data.append(filtrar)\n",
      "/tmp/ipykernel_22993/2883319910.py:15: FutureWarning: The frame.append method is deprecated and will be removed from pandas in a future version. Use pandas.concat instead.\n",
      "  filtrado_Data2=filtrado_Data2.append(filtrar2)\n",
      "/tmp/ipykernel_22993/2883319910.py:16: FutureWarning: The frame.append method is deprecated and will be removed from pandas in a future version. Use pandas.concat instead.\n",
      "  filtrado_Data3=filtrado_Data3.append(filtrar3)\n",
      "/tmp/ipykernel_22993/2883319910.py:17: FutureWarning: The frame.append method is deprecated and will be removed from pandas in a future version. Use pandas.concat instead.\n",
      "  filtrado_Data4=filtrado_Data4.append(filtrar4)\n",
      "/tmp/ipykernel_22993/2883319910.py:14: FutureWarning: The frame.append method is deprecated and will be removed from pandas in a future version. Use pandas.concat instead.\n",
      "  filtrado_Data=filtrado_Data.append(filtrar)\n",
      "/tmp/ipykernel_22993/2883319910.py:15: FutureWarning: The frame.append method is deprecated and will be removed from pandas in a future version. Use pandas.concat instead.\n",
      "  filtrado_Data2=filtrado_Data2.append(filtrar2)\n",
      "/tmp/ipykernel_22993/2883319910.py:16: FutureWarning: The frame.append method is deprecated and will be removed from pandas in a future version. Use pandas.concat instead.\n",
      "  filtrado_Data3=filtrado_Data3.append(filtrar3)\n",
      "/tmp/ipykernel_22993/2883319910.py:17: FutureWarning: The frame.append method is deprecated and will be removed from pandas in a future version. Use pandas.concat instead.\n",
      "  filtrado_Data4=filtrado_Data4.append(filtrar4)\n",
      "/tmp/ipykernel_22993/2883319910.py:14: FutureWarning: The frame.append method is deprecated and will be removed from pandas in a future version. Use pandas.concat instead.\n",
      "  filtrado_Data=filtrado_Data.append(filtrar)\n",
      "/tmp/ipykernel_22993/2883319910.py:15: FutureWarning: The frame.append method is deprecated and will be removed from pandas in a future version. Use pandas.concat instead.\n",
      "  filtrado_Data2=filtrado_Data2.append(filtrar2)\n",
      "/tmp/ipykernel_22993/2883319910.py:16: FutureWarning: The frame.append method is deprecated and will be removed from pandas in a future version. Use pandas.concat instead.\n",
      "  filtrado_Data3=filtrado_Data3.append(filtrar3)\n",
      "/tmp/ipykernel_22993/2883319910.py:17: FutureWarning: The frame.append method is deprecated and will be removed from pandas in a future version. Use pandas.concat instead.\n",
      "  filtrado_Data4=filtrado_Data4.append(filtrar4)\n",
      "/tmp/ipykernel_22993/2883319910.py:14: FutureWarning: The frame.append method is deprecated and will be removed from pandas in a future version. Use pandas.concat instead.\n",
      "  filtrado_Data=filtrado_Data.append(filtrar)\n",
      "/tmp/ipykernel_22993/2883319910.py:15: FutureWarning: The frame.append method is deprecated and will be removed from pandas in a future version. Use pandas.concat instead.\n",
      "  filtrado_Data2=filtrado_Data2.append(filtrar2)\n",
      "/tmp/ipykernel_22993/2883319910.py:16: FutureWarning: The frame.append method is deprecated and will be removed from pandas in a future version. Use pandas.concat instead.\n",
      "  filtrado_Data3=filtrado_Data3.append(filtrar3)\n",
      "/tmp/ipykernel_22993/2883319910.py:17: FutureWarning: The frame.append method is deprecated and will be removed from pandas in a future version. Use pandas.concat instead.\n",
      "  filtrado_Data4=filtrado_Data4.append(filtrar4)\n",
      "/tmp/ipykernel_22993/2883319910.py:14: FutureWarning: The frame.append method is deprecated and will be removed from pandas in a future version. Use pandas.concat instead.\n",
      "  filtrado_Data=filtrado_Data.append(filtrar)\n",
      "/tmp/ipykernel_22993/2883319910.py:15: FutureWarning: The frame.append method is deprecated and will be removed from pandas in a future version. Use pandas.concat instead.\n",
      "  filtrado_Data2=filtrado_Data2.append(filtrar2)\n",
      "/tmp/ipykernel_22993/2883319910.py:16: FutureWarning: The frame.append method is deprecated and will be removed from pandas in a future version. Use pandas.concat instead.\n",
      "  filtrado_Data3=filtrado_Data3.append(filtrar3)\n",
      "/tmp/ipykernel_22993/2883319910.py:17: FutureWarning: The frame.append method is deprecated and will be removed from pandas in a future version. Use pandas.concat instead.\n",
      "  filtrado_Data4=filtrado_Data4.append(filtrar4)\n",
      "/tmp/ipykernel_22993/2883319910.py:14: FutureWarning: The frame.append method is deprecated and will be removed from pandas in a future version. Use pandas.concat instead.\n",
      "  filtrado_Data=filtrado_Data.append(filtrar)\n",
      "/tmp/ipykernel_22993/2883319910.py:15: FutureWarning: The frame.append method is deprecated and will be removed from pandas in a future version. Use pandas.concat instead.\n",
      "  filtrado_Data2=filtrado_Data2.append(filtrar2)\n",
      "/tmp/ipykernel_22993/2883319910.py:16: FutureWarning: The frame.append method is deprecated and will be removed from pandas in a future version. Use pandas.concat instead.\n",
      "  filtrado_Data3=filtrado_Data3.append(filtrar3)\n",
      "/tmp/ipykernel_22993/2883319910.py:17: FutureWarning: The frame.append method is deprecated and will be removed from pandas in a future version. Use pandas.concat instead.\n",
      "  filtrado_Data4=filtrado_Data4.append(filtrar4)\n"
     ]
    },
    {
     "name": "stderr",
     "output_type": "stream",
     "text": [
      "/tmp/ipykernel_22993/2883319910.py:14: FutureWarning: The frame.append method is deprecated and will be removed from pandas in a future version. Use pandas.concat instead.\n",
      "  filtrado_Data=filtrado_Data.append(filtrar)\n",
      "/tmp/ipykernel_22993/2883319910.py:15: FutureWarning: The frame.append method is deprecated and will be removed from pandas in a future version. Use pandas.concat instead.\n",
      "  filtrado_Data2=filtrado_Data2.append(filtrar2)\n",
      "/tmp/ipykernel_22993/2883319910.py:16: FutureWarning: The frame.append method is deprecated and will be removed from pandas in a future version. Use pandas.concat instead.\n",
      "  filtrado_Data3=filtrado_Data3.append(filtrar3)\n",
      "/tmp/ipykernel_22993/2883319910.py:17: FutureWarning: The frame.append method is deprecated and will be removed from pandas in a future version. Use pandas.concat instead.\n",
      "  filtrado_Data4=filtrado_Data4.append(filtrar4)\n",
      "/tmp/ipykernel_22993/2883319910.py:14: FutureWarning: The frame.append method is deprecated and will be removed from pandas in a future version. Use pandas.concat instead.\n",
      "  filtrado_Data=filtrado_Data.append(filtrar)\n",
      "/tmp/ipykernel_22993/2883319910.py:15: FutureWarning: The frame.append method is deprecated and will be removed from pandas in a future version. Use pandas.concat instead.\n",
      "  filtrado_Data2=filtrado_Data2.append(filtrar2)\n",
      "/tmp/ipykernel_22993/2883319910.py:16: FutureWarning: The frame.append method is deprecated and will be removed from pandas in a future version. Use pandas.concat instead.\n",
      "  filtrado_Data3=filtrado_Data3.append(filtrar3)\n",
      "/tmp/ipykernel_22993/2883319910.py:17: FutureWarning: The frame.append method is deprecated and will be removed from pandas in a future version. Use pandas.concat instead.\n",
      "  filtrado_Data4=filtrado_Data4.append(filtrar4)\n",
      "/tmp/ipykernel_22993/2883319910.py:14: FutureWarning: The frame.append method is deprecated and will be removed from pandas in a future version. Use pandas.concat instead.\n",
      "  filtrado_Data=filtrado_Data.append(filtrar)\n",
      "/tmp/ipykernel_22993/2883319910.py:15: FutureWarning: The frame.append method is deprecated and will be removed from pandas in a future version. Use pandas.concat instead.\n",
      "  filtrado_Data2=filtrado_Data2.append(filtrar2)\n",
      "/tmp/ipykernel_22993/2883319910.py:16: FutureWarning: The frame.append method is deprecated and will be removed from pandas in a future version. Use pandas.concat instead.\n",
      "  filtrado_Data3=filtrado_Data3.append(filtrar3)\n",
      "/tmp/ipykernel_22993/2883319910.py:17: FutureWarning: The frame.append method is deprecated and will be removed from pandas in a future version. Use pandas.concat instead.\n",
      "  filtrado_Data4=filtrado_Data4.append(filtrar4)\n",
      "/tmp/ipykernel_22993/2883319910.py:14: FutureWarning: The frame.append method is deprecated and will be removed from pandas in a future version. Use pandas.concat instead.\n",
      "  filtrado_Data=filtrado_Data.append(filtrar)\n",
      "/tmp/ipykernel_22993/2883319910.py:15: FutureWarning: The frame.append method is deprecated and will be removed from pandas in a future version. Use pandas.concat instead.\n",
      "  filtrado_Data2=filtrado_Data2.append(filtrar2)\n",
      "/tmp/ipykernel_22993/2883319910.py:16: FutureWarning: The frame.append method is deprecated and will be removed from pandas in a future version. Use pandas.concat instead.\n",
      "  filtrado_Data3=filtrado_Data3.append(filtrar3)\n",
      "/tmp/ipykernel_22993/2883319910.py:17: FutureWarning: The frame.append method is deprecated and will be removed from pandas in a future version. Use pandas.concat instead.\n",
      "  filtrado_Data4=filtrado_Data4.append(filtrar4)\n",
      "/tmp/ipykernel_22993/2883319910.py:14: FutureWarning: The frame.append method is deprecated and will be removed from pandas in a future version. Use pandas.concat instead.\n",
      "  filtrado_Data=filtrado_Data.append(filtrar)\n",
      "/tmp/ipykernel_22993/2883319910.py:15: FutureWarning: The frame.append method is deprecated and will be removed from pandas in a future version. Use pandas.concat instead.\n",
      "  filtrado_Data2=filtrado_Data2.append(filtrar2)\n",
      "/tmp/ipykernel_22993/2883319910.py:16: FutureWarning: The frame.append method is deprecated and will be removed from pandas in a future version. Use pandas.concat instead.\n",
      "  filtrado_Data3=filtrado_Data3.append(filtrar3)\n",
      "/tmp/ipykernel_22993/2883319910.py:17: FutureWarning: The frame.append method is deprecated and will be removed from pandas in a future version. Use pandas.concat instead.\n",
      "  filtrado_Data4=filtrado_Data4.append(filtrar4)\n",
      "/tmp/ipykernel_22993/2883319910.py:14: FutureWarning: The frame.append method is deprecated and will be removed from pandas in a future version. Use pandas.concat instead.\n",
      "  filtrado_Data=filtrado_Data.append(filtrar)\n",
      "/tmp/ipykernel_22993/2883319910.py:15: FutureWarning: The frame.append method is deprecated and will be removed from pandas in a future version. Use pandas.concat instead.\n",
      "  filtrado_Data2=filtrado_Data2.append(filtrar2)\n",
      "/tmp/ipykernel_22993/2883319910.py:16: FutureWarning: The frame.append method is deprecated and will be removed from pandas in a future version. Use pandas.concat instead.\n",
      "  filtrado_Data3=filtrado_Data3.append(filtrar3)\n",
      "/tmp/ipykernel_22993/2883319910.py:17: FutureWarning: The frame.append method is deprecated and will be removed from pandas in a future version. Use pandas.concat instead.\n",
      "  filtrado_Data4=filtrado_Data4.append(filtrar4)\n",
      "/tmp/ipykernel_22993/2883319910.py:14: FutureWarning: The frame.append method is deprecated and will be removed from pandas in a future version. Use pandas.concat instead.\n",
      "  filtrado_Data=filtrado_Data.append(filtrar)\n",
      "/tmp/ipykernel_22993/2883319910.py:15: FutureWarning: The frame.append method is deprecated and will be removed from pandas in a future version. Use pandas.concat instead.\n",
      "  filtrado_Data2=filtrado_Data2.append(filtrar2)\n",
      "/tmp/ipykernel_22993/2883319910.py:16: FutureWarning: The frame.append method is deprecated and will be removed from pandas in a future version. Use pandas.concat instead.\n",
      "  filtrado_Data3=filtrado_Data3.append(filtrar3)\n",
      "/tmp/ipykernel_22993/2883319910.py:17: FutureWarning: The frame.append method is deprecated and will be removed from pandas in a future version. Use pandas.concat instead.\n",
      "  filtrado_Data4=filtrado_Data4.append(filtrar4)\n",
      "/tmp/ipykernel_22993/2883319910.py:14: FutureWarning: The frame.append method is deprecated and will be removed from pandas in a future version. Use pandas.concat instead.\n",
      "  filtrado_Data=filtrado_Data.append(filtrar)\n",
      "/tmp/ipykernel_22993/2883319910.py:15: FutureWarning: The frame.append method is deprecated and will be removed from pandas in a future version. Use pandas.concat instead.\n",
      "  filtrado_Data2=filtrado_Data2.append(filtrar2)\n",
      "/tmp/ipykernel_22993/2883319910.py:16: FutureWarning: The frame.append method is deprecated and will be removed from pandas in a future version. Use pandas.concat instead.\n",
      "  filtrado_Data3=filtrado_Data3.append(filtrar3)\n",
      "/tmp/ipykernel_22993/2883319910.py:17: FutureWarning: The frame.append method is deprecated and will be removed from pandas in a future version. Use pandas.concat instead.\n",
      "  filtrado_Data4=filtrado_Data4.append(filtrar4)\n",
      "/tmp/ipykernel_22993/2883319910.py:14: FutureWarning: The frame.append method is deprecated and will be removed from pandas in a future version. Use pandas.concat instead.\n",
      "  filtrado_Data=filtrado_Data.append(filtrar)\n",
      "/tmp/ipykernel_22993/2883319910.py:15: FutureWarning: The frame.append method is deprecated and will be removed from pandas in a future version. Use pandas.concat instead.\n",
      "  filtrado_Data2=filtrado_Data2.append(filtrar2)\n",
      "/tmp/ipykernel_22993/2883319910.py:16: FutureWarning: The frame.append method is deprecated and will be removed from pandas in a future version. Use pandas.concat instead.\n",
      "  filtrado_Data3=filtrado_Data3.append(filtrar3)\n",
      "/tmp/ipykernel_22993/2883319910.py:17: FutureWarning: The frame.append method is deprecated and will be removed from pandas in a future version. Use pandas.concat instead.\n",
      "  filtrado_Data4=filtrado_Data4.append(filtrar4)\n",
      "/tmp/ipykernel_22993/2883319910.py:14: FutureWarning: The frame.append method is deprecated and will be removed from pandas in a future version. Use pandas.concat instead.\n",
      "  filtrado_Data=filtrado_Data.append(filtrar)\n",
      "/tmp/ipykernel_22993/2883319910.py:15: FutureWarning: The frame.append method is deprecated and will be removed from pandas in a future version. Use pandas.concat instead.\n",
      "  filtrado_Data2=filtrado_Data2.append(filtrar2)\n",
      "/tmp/ipykernel_22993/2883319910.py:16: FutureWarning: The frame.append method is deprecated and will be removed from pandas in a future version. Use pandas.concat instead.\n",
      "  filtrado_Data3=filtrado_Data3.append(filtrar3)\n"
     ]
    },
    {
     "name": "stderr",
     "output_type": "stream",
     "text": [
      "/tmp/ipykernel_22993/2883319910.py:17: FutureWarning: The frame.append method is deprecated and will be removed from pandas in a future version. Use pandas.concat instead.\n",
      "  filtrado_Data4=filtrado_Data4.append(filtrar4)\n",
      "/tmp/ipykernel_22993/2883319910.py:14: FutureWarning: The frame.append method is deprecated and will be removed from pandas in a future version. Use pandas.concat instead.\n",
      "  filtrado_Data=filtrado_Data.append(filtrar)\n",
      "/tmp/ipykernel_22993/2883319910.py:15: FutureWarning: The frame.append method is deprecated and will be removed from pandas in a future version. Use pandas.concat instead.\n",
      "  filtrado_Data2=filtrado_Data2.append(filtrar2)\n",
      "/tmp/ipykernel_22993/2883319910.py:16: FutureWarning: The frame.append method is deprecated and will be removed from pandas in a future version. Use pandas.concat instead.\n",
      "  filtrado_Data3=filtrado_Data3.append(filtrar3)\n",
      "/tmp/ipykernel_22993/2883319910.py:17: FutureWarning: The frame.append method is deprecated and will be removed from pandas in a future version. Use pandas.concat instead.\n",
      "  filtrado_Data4=filtrado_Data4.append(filtrar4)\n",
      "/tmp/ipykernel_22993/2883319910.py:14: FutureWarning: The frame.append method is deprecated and will be removed from pandas in a future version. Use pandas.concat instead.\n",
      "  filtrado_Data=filtrado_Data.append(filtrar)\n",
      "/tmp/ipykernel_22993/2883319910.py:15: FutureWarning: The frame.append method is deprecated and will be removed from pandas in a future version. Use pandas.concat instead.\n",
      "  filtrado_Data2=filtrado_Data2.append(filtrar2)\n",
      "/tmp/ipykernel_22993/2883319910.py:16: FutureWarning: The frame.append method is deprecated and will be removed from pandas in a future version. Use pandas.concat instead.\n",
      "  filtrado_Data3=filtrado_Data3.append(filtrar3)\n",
      "/tmp/ipykernel_22993/2883319910.py:17: FutureWarning: The frame.append method is deprecated and will be removed from pandas in a future version. Use pandas.concat instead.\n",
      "  filtrado_Data4=filtrado_Data4.append(filtrar4)\n",
      "/tmp/ipykernel_22993/2883319910.py:14: FutureWarning: The frame.append method is deprecated and will be removed from pandas in a future version. Use pandas.concat instead.\n",
      "  filtrado_Data=filtrado_Data.append(filtrar)\n",
      "/tmp/ipykernel_22993/2883319910.py:15: FutureWarning: The frame.append method is deprecated and will be removed from pandas in a future version. Use pandas.concat instead.\n",
      "  filtrado_Data2=filtrado_Data2.append(filtrar2)\n",
      "/tmp/ipykernel_22993/2883319910.py:16: FutureWarning: The frame.append method is deprecated and will be removed from pandas in a future version. Use pandas.concat instead.\n",
      "  filtrado_Data3=filtrado_Data3.append(filtrar3)\n",
      "/tmp/ipykernel_22993/2883319910.py:17: FutureWarning: The frame.append method is deprecated and will be removed from pandas in a future version. Use pandas.concat instead.\n",
      "  filtrado_Data4=filtrado_Data4.append(filtrar4)\n",
      "/tmp/ipykernel_22993/2883319910.py:14: FutureWarning: The frame.append method is deprecated and will be removed from pandas in a future version. Use pandas.concat instead.\n",
      "  filtrado_Data=filtrado_Data.append(filtrar)\n",
      "/tmp/ipykernel_22993/2883319910.py:15: FutureWarning: The frame.append method is deprecated and will be removed from pandas in a future version. Use pandas.concat instead.\n",
      "  filtrado_Data2=filtrado_Data2.append(filtrar2)\n",
      "/tmp/ipykernel_22993/2883319910.py:16: FutureWarning: The frame.append method is deprecated and will be removed from pandas in a future version. Use pandas.concat instead.\n",
      "  filtrado_Data3=filtrado_Data3.append(filtrar3)\n",
      "/tmp/ipykernel_22993/2883319910.py:17: FutureWarning: The frame.append method is deprecated and will be removed from pandas in a future version. Use pandas.concat instead.\n",
      "  filtrado_Data4=filtrado_Data4.append(filtrar4)\n",
      "/tmp/ipykernel_22993/2883319910.py:14: FutureWarning: The frame.append method is deprecated and will be removed from pandas in a future version. Use pandas.concat instead.\n",
      "  filtrado_Data=filtrado_Data.append(filtrar)\n",
      "/tmp/ipykernel_22993/2883319910.py:15: FutureWarning: The frame.append method is deprecated and will be removed from pandas in a future version. Use pandas.concat instead.\n",
      "  filtrado_Data2=filtrado_Data2.append(filtrar2)\n",
      "/tmp/ipykernel_22993/2883319910.py:16: FutureWarning: The frame.append method is deprecated and will be removed from pandas in a future version. Use pandas.concat instead.\n",
      "  filtrado_Data3=filtrado_Data3.append(filtrar3)\n",
      "/tmp/ipykernel_22993/2883319910.py:17: FutureWarning: The frame.append method is deprecated and will be removed from pandas in a future version. Use pandas.concat instead.\n",
      "  filtrado_Data4=filtrado_Data4.append(filtrar4)\n",
      "/tmp/ipykernel_22993/2883319910.py:14: FutureWarning: The frame.append method is deprecated and will be removed from pandas in a future version. Use pandas.concat instead.\n",
      "  filtrado_Data=filtrado_Data.append(filtrar)\n",
      "/tmp/ipykernel_22993/2883319910.py:15: FutureWarning: The frame.append method is deprecated and will be removed from pandas in a future version. Use pandas.concat instead.\n",
      "  filtrado_Data2=filtrado_Data2.append(filtrar2)\n",
      "/tmp/ipykernel_22993/2883319910.py:16: FutureWarning: The frame.append method is deprecated and will be removed from pandas in a future version. Use pandas.concat instead.\n",
      "  filtrado_Data3=filtrado_Data3.append(filtrar3)\n",
      "/tmp/ipykernel_22993/2883319910.py:17: FutureWarning: The frame.append method is deprecated and will be removed from pandas in a future version. Use pandas.concat instead.\n",
      "  filtrado_Data4=filtrado_Data4.append(filtrar4)\n",
      "/tmp/ipykernel_22993/2883319910.py:14: FutureWarning: The frame.append method is deprecated and will be removed from pandas in a future version. Use pandas.concat instead.\n",
      "  filtrado_Data=filtrado_Data.append(filtrar)\n",
      "/tmp/ipykernel_22993/2883319910.py:15: FutureWarning: The frame.append method is deprecated and will be removed from pandas in a future version. Use pandas.concat instead.\n",
      "  filtrado_Data2=filtrado_Data2.append(filtrar2)\n",
      "/tmp/ipykernel_22993/2883319910.py:16: FutureWarning: The frame.append method is deprecated and will be removed from pandas in a future version. Use pandas.concat instead.\n",
      "  filtrado_Data3=filtrado_Data3.append(filtrar3)\n",
      "/tmp/ipykernel_22993/2883319910.py:17: FutureWarning: The frame.append method is deprecated and will be removed from pandas in a future version. Use pandas.concat instead.\n",
      "  filtrado_Data4=filtrado_Data4.append(filtrar4)\n",
      "/tmp/ipykernel_22993/2883319910.py:14: FutureWarning: The frame.append method is deprecated and will be removed from pandas in a future version. Use pandas.concat instead.\n",
      "  filtrado_Data=filtrado_Data.append(filtrar)\n",
      "/tmp/ipykernel_22993/2883319910.py:15: FutureWarning: The frame.append method is deprecated and will be removed from pandas in a future version. Use pandas.concat instead.\n",
      "  filtrado_Data2=filtrado_Data2.append(filtrar2)\n",
      "/tmp/ipykernel_22993/2883319910.py:16: FutureWarning: The frame.append method is deprecated and will be removed from pandas in a future version. Use pandas.concat instead.\n",
      "  filtrado_Data3=filtrado_Data3.append(filtrar3)\n",
      "/tmp/ipykernel_22993/2883319910.py:17: FutureWarning: The frame.append method is deprecated and will be removed from pandas in a future version. Use pandas.concat instead.\n",
      "  filtrado_Data4=filtrado_Data4.append(filtrar4)\n",
      "/tmp/ipykernel_22993/2883319910.py:14: FutureWarning: The frame.append method is deprecated and will be removed from pandas in a future version. Use pandas.concat instead.\n",
      "  filtrado_Data=filtrado_Data.append(filtrar)\n",
      "/tmp/ipykernel_22993/2883319910.py:15: FutureWarning: The frame.append method is deprecated and will be removed from pandas in a future version. Use pandas.concat instead.\n",
      "  filtrado_Data2=filtrado_Data2.append(filtrar2)\n",
      "/tmp/ipykernel_22993/2883319910.py:16: FutureWarning: The frame.append method is deprecated and will be removed from pandas in a future version. Use pandas.concat instead.\n",
      "  filtrado_Data3=filtrado_Data3.append(filtrar3)\n",
      "/tmp/ipykernel_22993/2883319910.py:17: FutureWarning: The frame.append method is deprecated and will be removed from pandas in a future version. Use pandas.concat instead.\n",
      "  filtrado_Data4=filtrado_Data4.append(filtrar4)\n",
      "/tmp/ipykernel_22993/2883319910.py:14: FutureWarning: The frame.append method is deprecated and will be removed from pandas in a future version. Use pandas.concat instead.\n",
      "  filtrado_Data=filtrado_Data.append(filtrar)\n",
      "/tmp/ipykernel_22993/2883319910.py:15: FutureWarning: The frame.append method is deprecated and will be removed from pandas in a future version. Use pandas.concat instead.\n",
      "  filtrado_Data2=filtrado_Data2.append(filtrar2)\n"
     ]
    },
    {
     "name": "stderr",
     "output_type": "stream",
     "text": [
      "/tmp/ipykernel_22993/2883319910.py:16: FutureWarning: The frame.append method is deprecated and will be removed from pandas in a future version. Use pandas.concat instead.\n",
      "  filtrado_Data3=filtrado_Data3.append(filtrar3)\n",
      "/tmp/ipykernel_22993/2883319910.py:17: FutureWarning: The frame.append method is deprecated and will be removed from pandas in a future version. Use pandas.concat instead.\n",
      "  filtrado_Data4=filtrado_Data4.append(filtrar4)\n",
      "/tmp/ipykernel_22993/2883319910.py:14: FutureWarning: The frame.append method is deprecated and will be removed from pandas in a future version. Use pandas.concat instead.\n",
      "  filtrado_Data=filtrado_Data.append(filtrar)\n",
      "/tmp/ipykernel_22993/2883319910.py:15: FutureWarning: The frame.append method is deprecated and will be removed from pandas in a future version. Use pandas.concat instead.\n",
      "  filtrado_Data2=filtrado_Data2.append(filtrar2)\n",
      "/tmp/ipykernel_22993/2883319910.py:16: FutureWarning: The frame.append method is deprecated and will be removed from pandas in a future version. Use pandas.concat instead.\n",
      "  filtrado_Data3=filtrado_Data3.append(filtrar3)\n",
      "/tmp/ipykernel_22993/2883319910.py:17: FutureWarning: The frame.append method is deprecated and will be removed from pandas in a future version. Use pandas.concat instead.\n",
      "  filtrado_Data4=filtrado_Data4.append(filtrar4)\n",
      "/tmp/ipykernel_22993/2883319910.py:14: FutureWarning: The frame.append method is deprecated and will be removed from pandas in a future version. Use pandas.concat instead.\n",
      "  filtrado_Data=filtrado_Data.append(filtrar)\n",
      "/tmp/ipykernel_22993/2883319910.py:15: FutureWarning: The frame.append method is deprecated and will be removed from pandas in a future version. Use pandas.concat instead.\n",
      "  filtrado_Data2=filtrado_Data2.append(filtrar2)\n",
      "/tmp/ipykernel_22993/2883319910.py:16: FutureWarning: The frame.append method is deprecated and will be removed from pandas in a future version. Use pandas.concat instead.\n",
      "  filtrado_Data3=filtrado_Data3.append(filtrar3)\n",
      "/tmp/ipykernel_22993/2883319910.py:17: FutureWarning: The frame.append method is deprecated and will be removed from pandas in a future version. Use pandas.concat instead.\n",
      "  filtrado_Data4=filtrado_Data4.append(filtrar4)\n",
      "/tmp/ipykernel_22993/2883319910.py:14: FutureWarning: The frame.append method is deprecated and will be removed from pandas in a future version. Use pandas.concat instead.\n",
      "  filtrado_Data=filtrado_Data.append(filtrar)\n",
      "/tmp/ipykernel_22993/2883319910.py:15: FutureWarning: The frame.append method is deprecated and will be removed from pandas in a future version. Use pandas.concat instead.\n",
      "  filtrado_Data2=filtrado_Data2.append(filtrar2)\n",
      "/tmp/ipykernel_22993/2883319910.py:16: FutureWarning: The frame.append method is deprecated and will be removed from pandas in a future version. Use pandas.concat instead.\n",
      "  filtrado_Data3=filtrado_Data3.append(filtrar3)\n",
      "/tmp/ipykernel_22993/2883319910.py:17: FutureWarning: The frame.append method is deprecated and will be removed from pandas in a future version. Use pandas.concat instead.\n",
      "  filtrado_Data4=filtrado_Data4.append(filtrar4)\n",
      "/tmp/ipykernel_22993/2883319910.py:14: FutureWarning: The frame.append method is deprecated and will be removed from pandas in a future version. Use pandas.concat instead.\n",
      "  filtrado_Data=filtrado_Data.append(filtrar)\n",
      "/tmp/ipykernel_22993/2883319910.py:15: FutureWarning: The frame.append method is deprecated and will be removed from pandas in a future version. Use pandas.concat instead.\n",
      "  filtrado_Data2=filtrado_Data2.append(filtrar2)\n",
      "/tmp/ipykernel_22993/2883319910.py:16: FutureWarning: The frame.append method is deprecated and will be removed from pandas in a future version. Use pandas.concat instead.\n",
      "  filtrado_Data3=filtrado_Data3.append(filtrar3)\n",
      "/tmp/ipykernel_22993/2883319910.py:17: FutureWarning: The frame.append method is deprecated and will be removed from pandas in a future version. Use pandas.concat instead.\n",
      "  filtrado_Data4=filtrado_Data4.append(filtrar4)\n",
      "/tmp/ipykernel_22993/2883319910.py:14: FutureWarning: The frame.append method is deprecated and will be removed from pandas in a future version. Use pandas.concat instead.\n",
      "  filtrado_Data=filtrado_Data.append(filtrar)\n",
      "/tmp/ipykernel_22993/2883319910.py:15: FutureWarning: The frame.append method is deprecated and will be removed from pandas in a future version. Use pandas.concat instead.\n",
      "  filtrado_Data2=filtrado_Data2.append(filtrar2)\n",
      "/tmp/ipykernel_22993/2883319910.py:16: FutureWarning: The frame.append method is deprecated and will be removed from pandas in a future version. Use pandas.concat instead.\n",
      "  filtrado_Data3=filtrado_Data3.append(filtrar3)\n",
      "/tmp/ipykernel_22993/2883319910.py:17: FutureWarning: The frame.append method is deprecated and will be removed from pandas in a future version. Use pandas.concat instead.\n",
      "  filtrado_Data4=filtrado_Data4.append(filtrar4)\n",
      "/tmp/ipykernel_22993/2883319910.py:14: FutureWarning: The frame.append method is deprecated and will be removed from pandas in a future version. Use pandas.concat instead.\n",
      "  filtrado_Data=filtrado_Data.append(filtrar)\n",
      "/tmp/ipykernel_22993/2883319910.py:15: FutureWarning: The frame.append method is deprecated and will be removed from pandas in a future version. Use pandas.concat instead.\n",
      "  filtrado_Data2=filtrado_Data2.append(filtrar2)\n",
      "/tmp/ipykernel_22993/2883319910.py:16: FutureWarning: The frame.append method is deprecated and will be removed from pandas in a future version. Use pandas.concat instead.\n",
      "  filtrado_Data3=filtrado_Data3.append(filtrar3)\n",
      "/tmp/ipykernel_22993/2883319910.py:17: FutureWarning: The frame.append method is deprecated and will be removed from pandas in a future version. Use pandas.concat instead.\n",
      "  filtrado_Data4=filtrado_Data4.append(filtrar4)\n",
      "/tmp/ipykernel_22993/2883319910.py:14: FutureWarning: The frame.append method is deprecated and will be removed from pandas in a future version. Use pandas.concat instead.\n",
      "  filtrado_Data=filtrado_Data.append(filtrar)\n",
      "/tmp/ipykernel_22993/2883319910.py:15: FutureWarning: The frame.append method is deprecated and will be removed from pandas in a future version. Use pandas.concat instead.\n",
      "  filtrado_Data2=filtrado_Data2.append(filtrar2)\n",
      "/tmp/ipykernel_22993/2883319910.py:16: FutureWarning: The frame.append method is deprecated and will be removed from pandas in a future version. Use pandas.concat instead.\n",
      "  filtrado_Data3=filtrado_Data3.append(filtrar3)\n",
      "/tmp/ipykernel_22993/2883319910.py:17: FutureWarning: The frame.append method is deprecated and will be removed from pandas in a future version. Use pandas.concat instead.\n",
      "  filtrado_Data4=filtrado_Data4.append(filtrar4)\n",
      "/tmp/ipykernel_22993/2883319910.py:14: FutureWarning: The frame.append method is deprecated and will be removed from pandas in a future version. Use pandas.concat instead.\n",
      "  filtrado_Data=filtrado_Data.append(filtrar)\n",
      "/tmp/ipykernel_22993/2883319910.py:15: FutureWarning: The frame.append method is deprecated and will be removed from pandas in a future version. Use pandas.concat instead.\n",
      "  filtrado_Data2=filtrado_Data2.append(filtrar2)\n",
      "/tmp/ipykernel_22993/2883319910.py:16: FutureWarning: The frame.append method is deprecated and will be removed from pandas in a future version. Use pandas.concat instead.\n",
      "  filtrado_Data3=filtrado_Data3.append(filtrar3)\n",
      "/tmp/ipykernel_22993/2883319910.py:17: FutureWarning: The frame.append method is deprecated and will be removed from pandas in a future version. Use pandas.concat instead.\n",
      "  filtrado_Data4=filtrado_Data4.append(filtrar4)\n",
      "/tmp/ipykernel_22993/2883319910.py:14: FutureWarning: The frame.append method is deprecated and will be removed from pandas in a future version. Use pandas.concat instead.\n",
      "  filtrado_Data=filtrado_Data.append(filtrar)\n",
      "/tmp/ipykernel_22993/2883319910.py:15: FutureWarning: The frame.append method is deprecated and will be removed from pandas in a future version. Use pandas.concat instead.\n",
      "  filtrado_Data2=filtrado_Data2.append(filtrar2)\n",
      "/tmp/ipykernel_22993/2883319910.py:16: FutureWarning: The frame.append method is deprecated and will be removed from pandas in a future version. Use pandas.concat instead.\n",
      "  filtrado_Data3=filtrado_Data3.append(filtrar3)\n",
      "/tmp/ipykernel_22993/2883319910.py:17: FutureWarning: The frame.append method is deprecated and will be removed from pandas in a future version. Use pandas.concat instead.\n",
      "  filtrado_Data4=filtrado_Data4.append(filtrar4)\n"
     ]
    },
    {
     "name": "stderr",
     "output_type": "stream",
     "text": [
      "/tmp/ipykernel_22993/2883319910.py:14: FutureWarning: The frame.append method is deprecated and will be removed from pandas in a future version. Use pandas.concat instead.\n",
      "  filtrado_Data=filtrado_Data.append(filtrar)\n",
      "/tmp/ipykernel_22993/2883319910.py:15: FutureWarning: The frame.append method is deprecated and will be removed from pandas in a future version. Use pandas.concat instead.\n",
      "  filtrado_Data2=filtrado_Data2.append(filtrar2)\n",
      "/tmp/ipykernel_22993/2883319910.py:16: FutureWarning: The frame.append method is deprecated and will be removed from pandas in a future version. Use pandas.concat instead.\n",
      "  filtrado_Data3=filtrado_Data3.append(filtrar3)\n",
      "/tmp/ipykernel_22993/2883319910.py:17: FutureWarning: The frame.append method is deprecated and will be removed from pandas in a future version. Use pandas.concat instead.\n",
      "  filtrado_Data4=filtrado_Data4.append(filtrar4)\n",
      "/tmp/ipykernel_22993/2883319910.py:14: FutureWarning: The frame.append method is deprecated and will be removed from pandas in a future version. Use pandas.concat instead.\n",
      "  filtrado_Data=filtrado_Data.append(filtrar)\n",
      "/tmp/ipykernel_22993/2883319910.py:15: FutureWarning: The frame.append method is deprecated and will be removed from pandas in a future version. Use pandas.concat instead.\n",
      "  filtrado_Data2=filtrado_Data2.append(filtrar2)\n",
      "/tmp/ipykernel_22993/2883319910.py:16: FutureWarning: The frame.append method is deprecated and will be removed from pandas in a future version. Use pandas.concat instead.\n",
      "  filtrado_Data3=filtrado_Data3.append(filtrar3)\n",
      "/tmp/ipykernel_22993/2883319910.py:17: FutureWarning: The frame.append method is deprecated and will be removed from pandas in a future version. Use pandas.concat instead.\n",
      "  filtrado_Data4=filtrado_Data4.append(filtrar4)\n",
      "/tmp/ipykernel_22993/2883319910.py:14: FutureWarning: The frame.append method is deprecated and will be removed from pandas in a future version. Use pandas.concat instead.\n",
      "  filtrado_Data=filtrado_Data.append(filtrar)\n",
      "/tmp/ipykernel_22993/2883319910.py:15: FutureWarning: The frame.append method is deprecated and will be removed from pandas in a future version. Use pandas.concat instead.\n",
      "  filtrado_Data2=filtrado_Data2.append(filtrar2)\n",
      "/tmp/ipykernel_22993/2883319910.py:16: FutureWarning: The frame.append method is deprecated and will be removed from pandas in a future version. Use pandas.concat instead.\n",
      "  filtrado_Data3=filtrado_Data3.append(filtrar3)\n",
      "/tmp/ipykernel_22993/2883319910.py:17: FutureWarning: The frame.append method is deprecated and will be removed from pandas in a future version. Use pandas.concat instead.\n",
      "  filtrado_Data4=filtrado_Data4.append(filtrar4)\n",
      "/tmp/ipykernel_22993/2883319910.py:14: FutureWarning: The frame.append method is deprecated and will be removed from pandas in a future version. Use pandas.concat instead.\n",
      "  filtrado_Data=filtrado_Data.append(filtrar)\n",
      "/tmp/ipykernel_22993/2883319910.py:15: FutureWarning: The frame.append method is deprecated and will be removed from pandas in a future version. Use pandas.concat instead.\n",
      "  filtrado_Data2=filtrado_Data2.append(filtrar2)\n",
      "/tmp/ipykernel_22993/2883319910.py:16: FutureWarning: The frame.append method is deprecated and will be removed from pandas in a future version. Use pandas.concat instead.\n",
      "  filtrado_Data3=filtrado_Data3.append(filtrar3)\n",
      "/tmp/ipykernel_22993/2883319910.py:17: FutureWarning: The frame.append method is deprecated and will be removed from pandas in a future version. Use pandas.concat instead.\n",
      "  filtrado_Data4=filtrado_Data4.append(filtrar4)\n",
      "/tmp/ipykernel_22993/2883319910.py:14: FutureWarning: The frame.append method is deprecated and will be removed from pandas in a future version. Use pandas.concat instead.\n",
      "  filtrado_Data=filtrado_Data.append(filtrar)\n",
      "/tmp/ipykernel_22993/2883319910.py:15: FutureWarning: The frame.append method is deprecated and will be removed from pandas in a future version. Use pandas.concat instead.\n",
      "  filtrado_Data2=filtrado_Data2.append(filtrar2)\n",
      "/tmp/ipykernel_22993/2883319910.py:16: FutureWarning: The frame.append method is deprecated and will be removed from pandas in a future version. Use pandas.concat instead.\n",
      "  filtrado_Data3=filtrado_Data3.append(filtrar3)\n",
      "/tmp/ipykernel_22993/2883319910.py:17: FutureWarning: The frame.append method is deprecated and will be removed from pandas in a future version. Use pandas.concat instead.\n",
      "  filtrado_Data4=filtrado_Data4.append(filtrar4)\n",
      "/tmp/ipykernel_22993/2883319910.py:14: FutureWarning: The frame.append method is deprecated and will be removed from pandas in a future version. Use pandas.concat instead.\n",
      "  filtrado_Data=filtrado_Data.append(filtrar)\n",
      "/tmp/ipykernel_22993/2883319910.py:15: FutureWarning: The frame.append method is deprecated and will be removed from pandas in a future version. Use pandas.concat instead.\n",
      "  filtrado_Data2=filtrado_Data2.append(filtrar2)\n",
      "/tmp/ipykernel_22993/2883319910.py:16: FutureWarning: The frame.append method is deprecated and will be removed from pandas in a future version. Use pandas.concat instead.\n",
      "  filtrado_Data3=filtrado_Data3.append(filtrar3)\n",
      "/tmp/ipykernel_22993/2883319910.py:17: FutureWarning: The frame.append method is deprecated and will be removed from pandas in a future version. Use pandas.concat instead.\n",
      "  filtrado_Data4=filtrado_Data4.append(filtrar4)\n",
      "/tmp/ipykernel_22993/2883319910.py:14: FutureWarning: The frame.append method is deprecated and will be removed from pandas in a future version. Use pandas.concat instead.\n",
      "  filtrado_Data=filtrado_Data.append(filtrar)\n",
      "/tmp/ipykernel_22993/2883319910.py:15: FutureWarning: The frame.append method is deprecated and will be removed from pandas in a future version. Use pandas.concat instead.\n",
      "  filtrado_Data2=filtrado_Data2.append(filtrar2)\n",
      "/tmp/ipykernel_22993/2883319910.py:16: FutureWarning: The frame.append method is deprecated and will be removed from pandas in a future version. Use pandas.concat instead.\n",
      "  filtrado_Data3=filtrado_Data3.append(filtrar3)\n",
      "/tmp/ipykernel_22993/2883319910.py:17: FutureWarning: The frame.append method is deprecated and will be removed from pandas in a future version. Use pandas.concat instead.\n",
      "  filtrado_Data4=filtrado_Data4.append(filtrar4)\n",
      "/tmp/ipykernel_22993/2883319910.py:14: FutureWarning: The frame.append method is deprecated and will be removed from pandas in a future version. Use pandas.concat instead.\n",
      "  filtrado_Data=filtrado_Data.append(filtrar)\n",
      "/tmp/ipykernel_22993/2883319910.py:15: FutureWarning: The frame.append method is deprecated and will be removed from pandas in a future version. Use pandas.concat instead.\n",
      "  filtrado_Data2=filtrado_Data2.append(filtrar2)\n",
      "/tmp/ipykernel_22993/2883319910.py:16: FutureWarning: The frame.append method is deprecated and will be removed from pandas in a future version. Use pandas.concat instead.\n",
      "  filtrado_Data3=filtrado_Data3.append(filtrar3)\n",
      "/tmp/ipykernel_22993/2883319910.py:17: FutureWarning: The frame.append method is deprecated and will be removed from pandas in a future version. Use pandas.concat instead.\n",
      "  filtrado_Data4=filtrado_Data4.append(filtrar4)\n",
      "/tmp/ipykernel_22993/2883319910.py:14: FutureWarning: The frame.append method is deprecated and will be removed from pandas in a future version. Use pandas.concat instead.\n",
      "  filtrado_Data=filtrado_Data.append(filtrar)\n",
      "/tmp/ipykernel_22993/2883319910.py:15: FutureWarning: The frame.append method is deprecated and will be removed from pandas in a future version. Use pandas.concat instead.\n",
      "  filtrado_Data2=filtrado_Data2.append(filtrar2)\n",
      "/tmp/ipykernel_22993/2883319910.py:16: FutureWarning: The frame.append method is deprecated and will be removed from pandas in a future version. Use pandas.concat instead.\n",
      "  filtrado_Data3=filtrado_Data3.append(filtrar3)\n",
      "/tmp/ipykernel_22993/2883319910.py:17: FutureWarning: The frame.append method is deprecated and will be removed from pandas in a future version. Use pandas.concat instead.\n",
      "  filtrado_Data4=filtrado_Data4.append(filtrar4)\n",
      "/tmp/ipykernel_22993/2883319910.py:14: FutureWarning: The frame.append method is deprecated and will be removed from pandas in a future version. Use pandas.concat instead.\n",
      "  filtrado_Data=filtrado_Data.append(filtrar)\n",
      "/tmp/ipykernel_22993/2883319910.py:15: FutureWarning: The frame.append method is deprecated and will be removed from pandas in a future version. Use pandas.concat instead.\n",
      "  filtrado_Data2=filtrado_Data2.append(filtrar2)\n"
     ]
    },
    {
     "name": "stderr",
     "output_type": "stream",
     "text": [
      "/tmp/ipykernel_22993/2883319910.py:16: FutureWarning: The frame.append method is deprecated and will be removed from pandas in a future version. Use pandas.concat instead.\n",
      "  filtrado_Data3=filtrado_Data3.append(filtrar3)\n",
      "/tmp/ipykernel_22993/2883319910.py:17: FutureWarning: The frame.append method is deprecated and will be removed from pandas in a future version. Use pandas.concat instead.\n",
      "  filtrado_Data4=filtrado_Data4.append(filtrar4)\n",
      "/tmp/ipykernel_22993/2883319910.py:14: FutureWarning: The frame.append method is deprecated and will be removed from pandas in a future version. Use pandas.concat instead.\n",
      "  filtrado_Data=filtrado_Data.append(filtrar)\n",
      "/tmp/ipykernel_22993/2883319910.py:15: FutureWarning: The frame.append method is deprecated and will be removed from pandas in a future version. Use pandas.concat instead.\n",
      "  filtrado_Data2=filtrado_Data2.append(filtrar2)\n",
      "/tmp/ipykernel_22993/2883319910.py:16: FutureWarning: The frame.append method is deprecated and will be removed from pandas in a future version. Use pandas.concat instead.\n",
      "  filtrado_Data3=filtrado_Data3.append(filtrar3)\n",
      "/tmp/ipykernel_22993/2883319910.py:17: FutureWarning: The frame.append method is deprecated and will be removed from pandas in a future version. Use pandas.concat instead.\n",
      "  filtrado_Data4=filtrado_Data4.append(filtrar4)\n",
      "/tmp/ipykernel_22993/2883319910.py:14: FutureWarning: The frame.append method is deprecated and will be removed from pandas in a future version. Use pandas.concat instead.\n",
      "  filtrado_Data=filtrado_Data.append(filtrar)\n",
      "/tmp/ipykernel_22993/2883319910.py:15: FutureWarning: The frame.append method is deprecated and will be removed from pandas in a future version. Use pandas.concat instead.\n",
      "  filtrado_Data2=filtrado_Data2.append(filtrar2)\n",
      "/tmp/ipykernel_22993/2883319910.py:16: FutureWarning: The frame.append method is deprecated and will be removed from pandas in a future version. Use pandas.concat instead.\n",
      "  filtrado_Data3=filtrado_Data3.append(filtrar3)\n",
      "/tmp/ipykernel_22993/2883319910.py:17: FutureWarning: The frame.append method is deprecated and will be removed from pandas in a future version. Use pandas.concat instead.\n",
      "  filtrado_Data4=filtrado_Data4.append(filtrar4)\n",
      "/tmp/ipykernel_22993/2883319910.py:14: FutureWarning: The frame.append method is deprecated and will be removed from pandas in a future version. Use pandas.concat instead.\n",
      "  filtrado_Data=filtrado_Data.append(filtrar)\n",
      "/tmp/ipykernel_22993/2883319910.py:15: FutureWarning: The frame.append method is deprecated and will be removed from pandas in a future version. Use pandas.concat instead.\n",
      "  filtrado_Data2=filtrado_Data2.append(filtrar2)\n",
      "/tmp/ipykernel_22993/2883319910.py:16: FutureWarning: The frame.append method is deprecated and will be removed from pandas in a future version. Use pandas.concat instead.\n",
      "  filtrado_Data3=filtrado_Data3.append(filtrar3)\n",
      "/tmp/ipykernel_22993/2883319910.py:17: FutureWarning: The frame.append method is deprecated and will be removed from pandas in a future version. Use pandas.concat instead.\n",
      "  filtrado_Data4=filtrado_Data4.append(filtrar4)\n",
      "/tmp/ipykernel_22993/2883319910.py:14: FutureWarning: The frame.append method is deprecated and will be removed from pandas in a future version. Use pandas.concat instead.\n",
      "  filtrado_Data=filtrado_Data.append(filtrar)\n",
      "/tmp/ipykernel_22993/2883319910.py:15: FutureWarning: The frame.append method is deprecated and will be removed from pandas in a future version. Use pandas.concat instead.\n",
      "  filtrado_Data2=filtrado_Data2.append(filtrar2)\n",
      "/tmp/ipykernel_22993/2883319910.py:16: FutureWarning: The frame.append method is deprecated and will be removed from pandas in a future version. Use pandas.concat instead.\n",
      "  filtrado_Data3=filtrado_Data3.append(filtrar3)\n",
      "/tmp/ipykernel_22993/2883319910.py:17: FutureWarning: The frame.append method is deprecated and will be removed from pandas in a future version. Use pandas.concat instead.\n",
      "  filtrado_Data4=filtrado_Data4.append(filtrar4)\n",
      "/tmp/ipykernel_22993/2883319910.py:14: FutureWarning: The frame.append method is deprecated and will be removed from pandas in a future version. Use pandas.concat instead.\n",
      "  filtrado_Data=filtrado_Data.append(filtrar)\n",
      "/tmp/ipykernel_22993/2883319910.py:15: FutureWarning: The frame.append method is deprecated and will be removed from pandas in a future version. Use pandas.concat instead.\n",
      "  filtrado_Data2=filtrado_Data2.append(filtrar2)\n",
      "/tmp/ipykernel_22993/2883319910.py:16: FutureWarning: The frame.append method is deprecated and will be removed from pandas in a future version. Use pandas.concat instead.\n",
      "  filtrado_Data3=filtrado_Data3.append(filtrar3)\n",
      "/tmp/ipykernel_22993/2883319910.py:17: FutureWarning: The frame.append method is deprecated and will be removed from pandas in a future version. Use pandas.concat instead.\n",
      "  filtrado_Data4=filtrado_Data4.append(filtrar4)\n",
      "/tmp/ipykernel_22993/2883319910.py:14: FutureWarning: The frame.append method is deprecated and will be removed from pandas in a future version. Use pandas.concat instead.\n",
      "  filtrado_Data=filtrado_Data.append(filtrar)\n",
      "/tmp/ipykernel_22993/2883319910.py:15: FutureWarning: The frame.append method is deprecated and will be removed from pandas in a future version. Use pandas.concat instead.\n",
      "  filtrado_Data2=filtrado_Data2.append(filtrar2)\n",
      "/tmp/ipykernel_22993/2883319910.py:16: FutureWarning: The frame.append method is deprecated and will be removed from pandas in a future version. Use pandas.concat instead.\n",
      "  filtrado_Data3=filtrado_Data3.append(filtrar3)\n",
      "/tmp/ipykernel_22993/2883319910.py:17: FutureWarning: The frame.append method is deprecated and will be removed from pandas in a future version. Use pandas.concat instead.\n",
      "  filtrado_Data4=filtrado_Data4.append(filtrar4)\n",
      "/tmp/ipykernel_22993/2883319910.py:14: FutureWarning: The frame.append method is deprecated and will be removed from pandas in a future version. Use pandas.concat instead.\n",
      "  filtrado_Data=filtrado_Data.append(filtrar)\n",
      "/tmp/ipykernel_22993/2883319910.py:15: FutureWarning: The frame.append method is deprecated and will be removed from pandas in a future version. Use pandas.concat instead.\n",
      "  filtrado_Data2=filtrado_Data2.append(filtrar2)\n",
      "/tmp/ipykernel_22993/2883319910.py:16: FutureWarning: The frame.append method is deprecated and will be removed from pandas in a future version. Use pandas.concat instead.\n",
      "  filtrado_Data3=filtrado_Data3.append(filtrar3)\n",
      "/tmp/ipykernel_22993/2883319910.py:17: FutureWarning: The frame.append method is deprecated and will be removed from pandas in a future version. Use pandas.concat instead.\n",
      "  filtrado_Data4=filtrado_Data4.append(filtrar4)\n",
      "/tmp/ipykernel_22993/2883319910.py:14: FutureWarning: The frame.append method is deprecated and will be removed from pandas in a future version. Use pandas.concat instead.\n",
      "  filtrado_Data=filtrado_Data.append(filtrar)\n",
      "/tmp/ipykernel_22993/2883319910.py:15: FutureWarning: The frame.append method is deprecated and will be removed from pandas in a future version. Use pandas.concat instead.\n",
      "  filtrado_Data2=filtrado_Data2.append(filtrar2)\n",
      "/tmp/ipykernel_22993/2883319910.py:16: FutureWarning: The frame.append method is deprecated and will be removed from pandas in a future version. Use pandas.concat instead.\n",
      "  filtrado_Data3=filtrado_Data3.append(filtrar3)\n",
      "/tmp/ipykernel_22993/2883319910.py:17: FutureWarning: The frame.append method is deprecated and will be removed from pandas in a future version. Use pandas.concat instead.\n",
      "  filtrado_Data4=filtrado_Data4.append(filtrar4)\n",
      "/tmp/ipykernel_22993/2883319910.py:14: FutureWarning: The frame.append method is deprecated and will be removed from pandas in a future version. Use pandas.concat instead.\n",
      "  filtrado_Data=filtrado_Data.append(filtrar)\n",
      "/tmp/ipykernel_22993/2883319910.py:15: FutureWarning: The frame.append method is deprecated and will be removed from pandas in a future version. Use pandas.concat instead.\n",
      "  filtrado_Data2=filtrado_Data2.append(filtrar2)\n",
      "/tmp/ipykernel_22993/2883319910.py:16: FutureWarning: The frame.append method is deprecated and will be removed from pandas in a future version. Use pandas.concat instead.\n",
      "  filtrado_Data3=filtrado_Data3.append(filtrar3)\n",
      "/tmp/ipykernel_22993/2883319910.py:17: FutureWarning: The frame.append method is deprecated and will be removed from pandas in a future version. Use pandas.concat instead.\n",
      "  filtrado_Data4=filtrado_Data4.append(filtrar4)\n"
     ]
    },
    {
     "name": "stderr",
     "output_type": "stream",
     "text": [
      "/tmp/ipykernel_22993/2883319910.py:14: FutureWarning: The frame.append method is deprecated and will be removed from pandas in a future version. Use pandas.concat instead.\n",
      "  filtrado_Data=filtrado_Data.append(filtrar)\n",
      "/tmp/ipykernel_22993/2883319910.py:15: FutureWarning: The frame.append method is deprecated and will be removed from pandas in a future version. Use pandas.concat instead.\n",
      "  filtrado_Data2=filtrado_Data2.append(filtrar2)\n",
      "/tmp/ipykernel_22993/2883319910.py:16: FutureWarning: The frame.append method is deprecated and will be removed from pandas in a future version. Use pandas.concat instead.\n",
      "  filtrado_Data3=filtrado_Data3.append(filtrar3)\n",
      "/tmp/ipykernel_22993/2883319910.py:17: FutureWarning: The frame.append method is deprecated and will be removed from pandas in a future version. Use pandas.concat instead.\n",
      "  filtrado_Data4=filtrado_Data4.append(filtrar4)\n",
      "/tmp/ipykernel_22993/2883319910.py:14: FutureWarning: The frame.append method is deprecated and will be removed from pandas in a future version. Use pandas.concat instead.\n",
      "  filtrado_Data=filtrado_Data.append(filtrar)\n",
      "/tmp/ipykernel_22993/2883319910.py:15: FutureWarning: The frame.append method is deprecated and will be removed from pandas in a future version. Use pandas.concat instead.\n",
      "  filtrado_Data2=filtrado_Data2.append(filtrar2)\n",
      "/tmp/ipykernel_22993/2883319910.py:16: FutureWarning: The frame.append method is deprecated and will be removed from pandas in a future version. Use pandas.concat instead.\n",
      "  filtrado_Data3=filtrado_Data3.append(filtrar3)\n",
      "/tmp/ipykernel_22993/2883319910.py:17: FutureWarning: The frame.append method is deprecated and will be removed from pandas in a future version. Use pandas.concat instead.\n",
      "  filtrado_Data4=filtrado_Data4.append(filtrar4)\n",
      "/tmp/ipykernel_22993/2883319910.py:14: FutureWarning: The frame.append method is deprecated and will be removed from pandas in a future version. Use pandas.concat instead.\n",
      "  filtrado_Data=filtrado_Data.append(filtrar)\n",
      "/tmp/ipykernel_22993/2883319910.py:15: FutureWarning: The frame.append method is deprecated and will be removed from pandas in a future version. Use pandas.concat instead.\n",
      "  filtrado_Data2=filtrado_Data2.append(filtrar2)\n",
      "/tmp/ipykernel_22993/2883319910.py:16: FutureWarning: The frame.append method is deprecated and will be removed from pandas in a future version. Use pandas.concat instead.\n",
      "  filtrado_Data3=filtrado_Data3.append(filtrar3)\n",
      "/tmp/ipykernel_22993/2883319910.py:17: FutureWarning: The frame.append method is deprecated and will be removed from pandas in a future version. Use pandas.concat instead.\n",
      "  filtrado_Data4=filtrado_Data4.append(filtrar4)\n",
      "/tmp/ipykernel_22993/2883319910.py:14: FutureWarning: The frame.append method is deprecated and will be removed from pandas in a future version. Use pandas.concat instead.\n",
      "  filtrado_Data=filtrado_Data.append(filtrar)\n",
      "/tmp/ipykernel_22993/2883319910.py:15: FutureWarning: The frame.append method is deprecated and will be removed from pandas in a future version. Use pandas.concat instead.\n",
      "  filtrado_Data2=filtrado_Data2.append(filtrar2)\n",
      "/tmp/ipykernel_22993/2883319910.py:16: FutureWarning: The frame.append method is deprecated and will be removed from pandas in a future version. Use pandas.concat instead.\n",
      "  filtrado_Data3=filtrado_Data3.append(filtrar3)\n",
      "/tmp/ipykernel_22993/2883319910.py:17: FutureWarning: The frame.append method is deprecated and will be removed from pandas in a future version. Use pandas.concat instead.\n",
      "  filtrado_Data4=filtrado_Data4.append(filtrar4)\n",
      "/tmp/ipykernel_22993/2883319910.py:14: FutureWarning: The frame.append method is deprecated and will be removed from pandas in a future version. Use pandas.concat instead.\n",
      "  filtrado_Data=filtrado_Data.append(filtrar)\n",
      "/tmp/ipykernel_22993/2883319910.py:15: FutureWarning: The frame.append method is deprecated and will be removed from pandas in a future version. Use pandas.concat instead.\n",
      "  filtrado_Data2=filtrado_Data2.append(filtrar2)\n",
      "/tmp/ipykernel_22993/2883319910.py:16: FutureWarning: The frame.append method is deprecated and will be removed from pandas in a future version. Use pandas.concat instead.\n",
      "  filtrado_Data3=filtrado_Data3.append(filtrar3)\n",
      "/tmp/ipykernel_22993/2883319910.py:17: FutureWarning: The frame.append method is deprecated and will be removed from pandas in a future version. Use pandas.concat instead.\n",
      "  filtrado_Data4=filtrado_Data4.append(filtrar4)\n",
      "/tmp/ipykernel_22993/2883319910.py:14: FutureWarning: The frame.append method is deprecated and will be removed from pandas in a future version. Use pandas.concat instead.\n",
      "  filtrado_Data=filtrado_Data.append(filtrar)\n",
      "/tmp/ipykernel_22993/2883319910.py:15: FutureWarning: The frame.append method is deprecated and will be removed from pandas in a future version. Use pandas.concat instead.\n",
      "  filtrado_Data2=filtrado_Data2.append(filtrar2)\n",
      "/tmp/ipykernel_22993/2883319910.py:16: FutureWarning: The frame.append method is deprecated and will be removed from pandas in a future version. Use pandas.concat instead.\n",
      "  filtrado_Data3=filtrado_Data3.append(filtrar3)\n",
      "/tmp/ipykernel_22993/2883319910.py:17: FutureWarning: The frame.append method is deprecated and will be removed from pandas in a future version. Use pandas.concat instead.\n",
      "  filtrado_Data4=filtrado_Data4.append(filtrar4)\n",
      "/tmp/ipykernel_22993/2883319910.py:14: FutureWarning: The frame.append method is deprecated and will be removed from pandas in a future version. Use pandas.concat instead.\n",
      "  filtrado_Data=filtrado_Data.append(filtrar)\n",
      "/tmp/ipykernel_22993/2883319910.py:15: FutureWarning: The frame.append method is deprecated and will be removed from pandas in a future version. Use pandas.concat instead.\n",
      "  filtrado_Data2=filtrado_Data2.append(filtrar2)\n",
      "/tmp/ipykernel_22993/2883319910.py:16: FutureWarning: The frame.append method is deprecated and will be removed from pandas in a future version. Use pandas.concat instead.\n",
      "  filtrado_Data3=filtrado_Data3.append(filtrar3)\n",
      "/tmp/ipykernel_22993/2883319910.py:17: FutureWarning: The frame.append method is deprecated and will be removed from pandas in a future version. Use pandas.concat instead.\n",
      "  filtrado_Data4=filtrado_Data4.append(filtrar4)\n",
      "/tmp/ipykernel_22993/2883319910.py:14: FutureWarning: The frame.append method is deprecated and will be removed from pandas in a future version. Use pandas.concat instead.\n",
      "  filtrado_Data=filtrado_Data.append(filtrar)\n",
      "/tmp/ipykernel_22993/2883319910.py:15: FutureWarning: The frame.append method is deprecated and will be removed from pandas in a future version. Use pandas.concat instead.\n",
      "  filtrado_Data2=filtrado_Data2.append(filtrar2)\n",
      "/tmp/ipykernel_22993/2883319910.py:16: FutureWarning: The frame.append method is deprecated and will be removed from pandas in a future version. Use pandas.concat instead.\n",
      "  filtrado_Data3=filtrado_Data3.append(filtrar3)\n",
      "/tmp/ipykernel_22993/2883319910.py:17: FutureWarning: The frame.append method is deprecated and will be removed from pandas in a future version. Use pandas.concat instead.\n",
      "  filtrado_Data4=filtrado_Data4.append(filtrar4)\n",
      "/tmp/ipykernel_22993/2883319910.py:14: FutureWarning: The frame.append method is deprecated and will be removed from pandas in a future version. Use pandas.concat instead.\n",
      "  filtrado_Data=filtrado_Data.append(filtrar)\n",
      "/tmp/ipykernel_22993/2883319910.py:15: FutureWarning: The frame.append method is deprecated and will be removed from pandas in a future version. Use pandas.concat instead.\n",
      "  filtrado_Data2=filtrado_Data2.append(filtrar2)\n",
      "/tmp/ipykernel_22993/2883319910.py:16: FutureWarning: The frame.append method is deprecated and will be removed from pandas in a future version. Use pandas.concat instead.\n",
      "  filtrado_Data3=filtrado_Data3.append(filtrar3)\n",
      "/tmp/ipykernel_22993/2883319910.py:17: FutureWarning: The frame.append method is deprecated and will be removed from pandas in a future version. Use pandas.concat instead.\n",
      "  filtrado_Data4=filtrado_Data4.append(filtrar4)\n",
      "/tmp/ipykernel_22993/2883319910.py:14: FutureWarning: The frame.append method is deprecated and will be removed from pandas in a future version. Use pandas.concat instead.\n",
      "  filtrado_Data=filtrado_Data.append(filtrar)\n",
      "/tmp/ipykernel_22993/2883319910.py:15: FutureWarning: The frame.append method is deprecated and will be removed from pandas in a future version. Use pandas.concat instead.\n",
      "  filtrado_Data2=filtrado_Data2.append(filtrar2)\n"
     ]
    },
    {
     "name": "stderr",
     "output_type": "stream",
     "text": [
      "/tmp/ipykernel_22993/2883319910.py:16: FutureWarning: The frame.append method is deprecated and will be removed from pandas in a future version. Use pandas.concat instead.\n",
      "  filtrado_Data3=filtrado_Data3.append(filtrar3)\n",
      "/tmp/ipykernel_22993/2883319910.py:17: FutureWarning: The frame.append method is deprecated and will be removed from pandas in a future version. Use pandas.concat instead.\n",
      "  filtrado_Data4=filtrado_Data4.append(filtrar4)\n",
      "/tmp/ipykernel_22993/2883319910.py:14: FutureWarning: The frame.append method is deprecated and will be removed from pandas in a future version. Use pandas.concat instead.\n",
      "  filtrado_Data=filtrado_Data.append(filtrar)\n",
      "/tmp/ipykernel_22993/2883319910.py:15: FutureWarning: The frame.append method is deprecated and will be removed from pandas in a future version. Use pandas.concat instead.\n",
      "  filtrado_Data2=filtrado_Data2.append(filtrar2)\n",
      "/tmp/ipykernel_22993/2883319910.py:16: FutureWarning: The frame.append method is deprecated and will be removed from pandas in a future version. Use pandas.concat instead.\n",
      "  filtrado_Data3=filtrado_Data3.append(filtrar3)\n",
      "/tmp/ipykernel_22993/2883319910.py:17: FutureWarning: The frame.append method is deprecated and will be removed from pandas in a future version. Use pandas.concat instead.\n",
      "  filtrado_Data4=filtrado_Data4.append(filtrar4)\n",
      "/tmp/ipykernel_22993/2883319910.py:14: FutureWarning: The frame.append method is deprecated and will be removed from pandas in a future version. Use pandas.concat instead.\n",
      "  filtrado_Data=filtrado_Data.append(filtrar)\n",
      "/tmp/ipykernel_22993/2883319910.py:15: FutureWarning: The frame.append method is deprecated and will be removed from pandas in a future version. Use pandas.concat instead.\n",
      "  filtrado_Data2=filtrado_Data2.append(filtrar2)\n",
      "/tmp/ipykernel_22993/2883319910.py:16: FutureWarning: The frame.append method is deprecated and will be removed from pandas in a future version. Use pandas.concat instead.\n",
      "  filtrado_Data3=filtrado_Data3.append(filtrar3)\n",
      "/tmp/ipykernel_22993/2883319910.py:17: FutureWarning: The frame.append method is deprecated and will be removed from pandas in a future version. Use pandas.concat instead.\n",
      "  filtrado_Data4=filtrado_Data4.append(filtrar4)\n",
      "/tmp/ipykernel_22993/2883319910.py:14: FutureWarning: The frame.append method is deprecated and will be removed from pandas in a future version. Use pandas.concat instead.\n",
      "  filtrado_Data=filtrado_Data.append(filtrar)\n",
      "/tmp/ipykernel_22993/2883319910.py:15: FutureWarning: The frame.append method is deprecated and will be removed from pandas in a future version. Use pandas.concat instead.\n",
      "  filtrado_Data2=filtrado_Data2.append(filtrar2)\n",
      "/tmp/ipykernel_22993/2883319910.py:16: FutureWarning: The frame.append method is deprecated and will be removed from pandas in a future version. Use pandas.concat instead.\n",
      "  filtrado_Data3=filtrado_Data3.append(filtrar3)\n",
      "/tmp/ipykernel_22993/2883319910.py:17: FutureWarning: The frame.append method is deprecated and will be removed from pandas in a future version. Use pandas.concat instead.\n",
      "  filtrado_Data4=filtrado_Data4.append(filtrar4)\n",
      "/tmp/ipykernel_22993/2883319910.py:14: FutureWarning: The frame.append method is deprecated and will be removed from pandas in a future version. Use pandas.concat instead.\n",
      "  filtrado_Data=filtrado_Data.append(filtrar)\n",
      "/tmp/ipykernel_22993/2883319910.py:15: FutureWarning: The frame.append method is deprecated and will be removed from pandas in a future version. Use pandas.concat instead.\n",
      "  filtrado_Data2=filtrado_Data2.append(filtrar2)\n",
      "/tmp/ipykernel_22993/2883319910.py:16: FutureWarning: The frame.append method is deprecated and will be removed from pandas in a future version. Use pandas.concat instead.\n",
      "  filtrado_Data3=filtrado_Data3.append(filtrar3)\n",
      "/tmp/ipykernel_22993/2883319910.py:17: FutureWarning: The frame.append method is deprecated and will be removed from pandas in a future version. Use pandas.concat instead.\n",
      "  filtrado_Data4=filtrado_Data4.append(filtrar4)\n",
      "/tmp/ipykernel_22993/2883319910.py:14: FutureWarning: The frame.append method is deprecated and will be removed from pandas in a future version. Use pandas.concat instead.\n",
      "  filtrado_Data=filtrado_Data.append(filtrar)\n",
      "/tmp/ipykernel_22993/2883319910.py:15: FutureWarning: The frame.append method is deprecated and will be removed from pandas in a future version. Use pandas.concat instead.\n",
      "  filtrado_Data2=filtrado_Data2.append(filtrar2)\n",
      "/tmp/ipykernel_22993/2883319910.py:16: FutureWarning: The frame.append method is deprecated and will be removed from pandas in a future version. Use pandas.concat instead.\n",
      "  filtrado_Data3=filtrado_Data3.append(filtrar3)\n",
      "/tmp/ipykernel_22993/2883319910.py:17: FutureWarning: The frame.append method is deprecated and will be removed from pandas in a future version. Use pandas.concat instead.\n",
      "  filtrado_Data4=filtrado_Data4.append(filtrar4)\n",
      "/tmp/ipykernel_22993/2883319910.py:14: FutureWarning: The frame.append method is deprecated and will be removed from pandas in a future version. Use pandas.concat instead.\n",
      "  filtrado_Data=filtrado_Data.append(filtrar)\n",
      "/tmp/ipykernel_22993/2883319910.py:15: FutureWarning: The frame.append method is deprecated and will be removed from pandas in a future version. Use pandas.concat instead.\n",
      "  filtrado_Data2=filtrado_Data2.append(filtrar2)\n",
      "/tmp/ipykernel_22993/2883319910.py:16: FutureWarning: The frame.append method is deprecated and will be removed from pandas in a future version. Use pandas.concat instead.\n",
      "  filtrado_Data3=filtrado_Data3.append(filtrar3)\n",
      "/tmp/ipykernel_22993/2883319910.py:17: FutureWarning: The frame.append method is deprecated and will be removed from pandas in a future version. Use pandas.concat instead.\n",
      "  filtrado_Data4=filtrado_Data4.append(filtrar4)\n",
      "/tmp/ipykernel_22993/2883319910.py:14: FutureWarning: The frame.append method is deprecated and will be removed from pandas in a future version. Use pandas.concat instead.\n",
      "  filtrado_Data=filtrado_Data.append(filtrar)\n",
      "/tmp/ipykernel_22993/2883319910.py:15: FutureWarning: The frame.append method is deprecated and will be removed from pandas in a future version. Use pandas.concat instead.\n",
      "  filtrado_Data2=filtrado_Data2.append(filtrar2)\n",
      "/tmp/ipykernel_22993/2883319910.py:16: FutureWarning: The frame.append method is deprecated and will be removed from pandas in a future version. Use pandas.concat instead.\n",
      "  filtrado_Data3=filtrado_Data3.append(filtrar3)\n",
      "/tmp/ipykernel_22993/2883319910.py:17: FutureWarning: The frame.append method is deprecated and will be removed from pandas in a future version. Use pandas.concat instead.\n",
      "  filtrado_Data4=filtrado_Data4.append(filtrar4)\n",
      "/tmp/ipykernel_22993/2883319910.py:14: FutureWarning: The frame.append method is deprecated and will be removed from pandas in a future version. Use pandas.concat instead.\n",
      "  filtrado_Data=filtrado_Data.append(filtrar)\n",
      "/tmp/ipykernel_22993/2883319910.py:15: FutureWarning: The frame.append method is deprecated and will be removed from pandas in a future version. Use pandas.concat instead.\n",
      "  filtrado_Data2=filtrado_Data2.append(filtrar2)\n",
      "/tmp/ipykernel_22993/2883319910.py:16: FutureWarning: The frame.append method is deprecated and will be removed from pandas in a future version. Use pandas.concat instead.\n",
      "  filtrado_Data3=filtrado_Data3.append(filtrar3)\n",
      "/tmp/ipykernel_22993/2883319910.py:17: FutureWarning: The frame.append method is deprecated and will be removed from pandas in a future version. Use pandas.concat instead.\n",
      "  filtrado_Data4=filtrado_Data4.append(filtrar4)\n",
      "/tmp/ipykernel_22993/2883319910.py:14: FutureWarning: The frame.append method is deprecated and will be removed from pandas in a future version. Use pandas.concat instead.\n",
      "  filtrado_Data=filtrado_Data.append(filtrar)\n",
      "/tmp/ipykernel_22993/2883319910.py:15: FutureWarning: The frame.append method is deprecated and will be removed from pandas in a future version. Use pandas.concat instead.\n",
      "  filtrado_Data2=filtrado_Data2.append(filtrar2)\n",
      "/tmp/ipykernel_22993/2883319910.py:16: FutureWarning: The frame.append method is deprecated and will be removed from pandas in a future version. Use pandas.concat instead.\n",
      "  filtrado_Data3=filtrado_Data3.append(filtrar3)\n",
      "/tmp/ipykernel_22993/2883319910.py:17: FutureWarning: The frame.append method is deprecated and will be removed from pandas in a future version. Use pandas.concat instead.\n",
      "  filtrado_Data4=filtrado_Data4.append(filtrar4)\n"
     ]
    },
    {
     "name": "stderr",
     "output_type": "stream",
     "text": [
      "/tmp/ipykernel_22993/2883319910.py:14: FutureWarning: The frame.append method is deprecated and will be removed from pandas in a future version. Use pandas.concat instead.\n",
      "  filtrado_Data=filtrado_Data.append(filtrar)\n",
      "/tmp/ipykernel_22993/2883319910.py:15: FutureWarning: The frame.append method is deprecated and will be removed from pandas in a future version. Use pandas.concat instead.\n",
      "  filtrado_Data2=filtrado_Data2.append(filtrar2)\n",
      "/tmp/ipykernel_22993/2883319910.py:16: FutureWarning: The frame.append method is deprecated and will be removed from pandas in a future version. Use pandas.concat instead.\n",
      "  filtrado_Data3=filtrado_Data3.append(filtrar3)\n",
      "/tmp/ipykernel_22993/2883319910.py:17: FutureWarning: The frame.append method is deprecated and will be removed from pandas in a future version. Use pandas.concat instead.\n",
      "  filtrado_Data4=filtrado_Data4.append(filtrar4)\n",
      "/tmp/ipykernel_22993/2883319910.py:14: FutureWarning: The frame.append method is deprecated and will be removed from pandas in a future version. Use pandas.concat instead.\n",
      "  filtrado_Data=filtrado_Data.append(filtrar)\n",
      "/tmp/ipykernel_22993/2883319910.py:15: FutureWarning: The frame.append method is deprecated and will be removed from pandas in a future version. Use pandas.concat instead.\n",
      "  filtrado_Data2=filtrado_Data2.append(filtrar2)\n",
      "/tmp/ipykernel_22993/2883319910.py:16: FutureWarning: The frame.append method is deprecated and will be removed from pandas in a future version. Use pandas.concat instead.\n",
      "  filtrado_Data3=filtrado_Data3.append(filtrar3)\n",
      "/tmp/ipykernel_22993/2883319910.py:17: FutureWarning: The frame.append method is deprecated and will be removed from pandas in a future version. Use pandas.concat instead.\n",
      "  filtrado_Data4=filtrado_Data4.append(filtrar4)\n",
      "/tmp/ipykernel_22993/2883319910.py:14: FutureWarning: The frame.append method is deprecated and will be removed from pandas in a future version. Use pandas.concat instead.\n",
      "  filtrado_Data=filtrado_Data.append(filtrar)\n",
      "/tmp/ipykernel_22993/2883319910.py:15: FutureWarning: The frame.append method is deprecated and will be removed from pandas in a future version. Use pandas.concat instead.\n",
      "  filtrado_Data2=filtrado_Data2.append(filtrar2)\n",
      "/tmp/ipykernel_22993/2883319910.py:16: FutureWarning: The frame.append method is deprecated and will be removed from pandas in a future version. Use pandas.concat instead.\n",
      "  filtrado_Data3=filtrado_Data3.append(filtrar3)\n",
      "/tmp/ipykernel_22993/2883319910.py:17: FutureWarning: The frame.append method is deprecated and will be removed from pandas in a future version. Use pandas.concat instead.\n",
      "  filtrado_Data4=filtrado_Data4.append(filtrar4)\n",
      "/tmp/ipykernel_22993/2883319910.py:14: FutureWarning: The frame.append method is deprecated and will be removed from pandas in a future version. Use pandas.concat instead.\n",
      "  filtrado_Data=filtrado_Data.append(filtrar)\n",
      "/tmp/ipykernel_22993/2883319910.py:15: FutureWarning: The frame.append method is deprecated and will be removed from pandas in a future version. Use pandas.concat instead.\n",
      "  filtrado_Data2=filtrado_Data2.append(filtrar2)\n",
      "/tmp/ipykernel_22993/2883319910.py:16: FutureWarning: The frame.append method is deprecated and will be removed from pandas in a future version. Use pandas.concat instead.\n",
      "  filtrado_Data3=filtrado_Data3.append(filtrar3)\n",
      "/tmp/ipykernel_22993/2883319910.py:17: FutureWarning: The frame.append method is deprecated and will be removed from pandas in a future version. Use pandas.concat instead.\n",
      "  filtrado_Data4=filtrado_Data4.append(filtrar4)\n",
      "/tmp/ipykernel_22993/2883319910.py:14: FutureWarning: The frame.append method is deprecated and will be removed from pandas in a future version. Use pandas.concat instead.\n",
      "  filtrado_Data=filtrado_Data.append(filtrar)\n",
      "/tmp/ipykernel_22993/2883319910.py:15: FutureWarning: The frame.append method is deprecated and will be removed from pandas in a future version. Use pandas.concat instead.\n",
      "  filtrado_Data2=filtrado_Data2.append(filtrar2)\n",
      "/tmp/ipykernel_22993/2883319910.py:16: FutureWarning: The frame.append method is deprecated and will be removed from pandas in a future version. Use pandas.concat instead.\n",
      "  filtrado_Data3=filtrado_Data3.append(filtrar3)\n",
      "/tmp/ipykernel_22993/2883319910.py:17: FutureWarning: The frame.append method is deprecated and will be removed from pandas in a future version. Use pandas.concat instead.\n",
      "  filtrado_Data4=filtrado_Data4.append(filtrar4)\n",
      "/tmp/ipykernel_22993/2883319910.py:14: FutureWarning: The frame.append method is deprecated and will be removed from pandas in a future version. Use pandas.concat instead.\n",
      "  filtrado_Data=filtrado_Data.append(filtrar)\n",
      "/tmp/ipykernel_22993/2883319910.py:15: FutureWarning: The frame.append method is deprecated and will be removed from pandas in a future version. Use pandas.concat instead.\n",
      "  filtrado_Data2=filtrado_Data2.append(filtrar2)\n",
      "/tmp/ipykernel_22993/2883319910.py:16: FutureWarning: The frame.append method is deprecated and will be removed from pandas in a future version. Use pandas.concat instead.\n",
      "  filtrado_Data3=filtrado_Data3.append(filtrar3)\n",
      "/tmp/ipykernel_22993/2883319910.py:17: FutureWarning: The frame.append method is deprecated and will be removed from pandas in a future version. Use pandas.concat instead.\n",
      "  filtrado_Data4=filtrado_Data4.append(filtrar4)\n",
      "/tmp/ipykernel_22993/2883319910.py:14: FutureWarning: The frame.append method is deprecated and will be removed from pandas in a future version. Use pandas.concat instead.\n",
      "  filtrado_Data=filtrado_Data.append(filtrar)\n",
      "/tmp/ipykernel_22993/2883319910.py:15: FutureWarning: The frame.append method is deprecated and will be removed from pandas in a future version. Use pandas.concat instead.\n",
      "  filtrado_Data2=filtrado_Data2.append(filtrar2)\n",
      "/tmp/ipykernel_22993/2883319910.py:16: FutureWarning: The frame.append method is deprecated and will be removed from pandas in a future version. Use pandas.concat instead.\n",
      "  filtrado_Data3=filtrado_Data3.append(filtrar3)\n",
      "/tmp/ipykernel_22993/2883319910.py:17: FutureWarning: The frame.append method is deprecated and will be removed from pandas in a future version. Use pandas.concat instead.\n",
      "  filtrado_Data4=filtrado_Data4.append(filtrar4)\n",
      "/tmp/ipykernel_22993/2883319910.py:14: FutureWarning: The frame.append method is deprecated and will be removed from pandas in a future version. Use pandas.concat instead.\n",
      "  filtrado_Data=filtrado_Data.append(filtrar)\n",
      "/tmp/ipykernel_22993/2883319910.py:15: FutureWarning: The frame.append method is deprecated and will be removed from pandas in a future version. Use pandas.concat instead.\n",
      "  filtrado_Data2=filtrado_Data2.append(filtrar2)\n",
      "/tmp/ipykernel_22993/2883319910.py:16: FutureWarning: The frame.append method is deprecated and will be removed from pandas in a future version. Use pandas.concat instead.\n",
      "  filtrado_Data3=filtrado_Data3.append(filtrar3)\n",
      "/tmp/ipykernel_22993/2883319910.py:17: FutureWarning: The frame.append method is deprecated and will be removed from pandas in a future version. Use pandas.concat instead.\n",
      "  filtrado_Data4=filtrado_Data4.append(filtrar4)\n",
      "/tmp/ipykernel_22993/2883319910.py:14: FutureWarning: The frame.append method is deprecated and will be removed from pandas in a future version. Use pandas.concat instead.\n",
      "  filtrado_Data=filtrado_Data.append(filtrar)\n",
      "/tmp/ipykernel_22993/2883319910.py:15: FutureWarning: The frame.append method is deprecated and will be removed from pandas in a future version. Use pandas.concat instead.\n",
      "  filtrado_Data2=filtrado_Data2.append(filtrar2)\n",
      "/tmp/ipykernel_22993/2883319910.py:16: FutureWarning: The frame.append method is deprecated and will be removed from pandas in a future version. Use pandas.concat instead.\n",
      "  filtrado_Data3=filtrado_Data3.append(filtrar3)\n",
      "/tmp/ipykernel_22993/2883319910.py:17: FutureWarning: The frame.append method is deprecated and will be removed from pandas in a future version. Use pandas.concat instead.\n",
      "  filtrado_Data4=filtrado_Data4.append(filtrar4)\n"
     ]
    }
   ],
   "source": [
    "columnas=[\"19024\",\"19046_AM\",\"19053_AM\",\"19058_AM\",\"19071_AM\",\"19086_AM\",\"1913001\",\"1913002\",\"1913003\",\"1913004\",\"1913005\",\"19151_AM\",\"19156_AM\",\"19160_AM\",\"19171\",\"19190_AM\",\"19192_AM\",\"19220_AM\",\"19245_AM\",\"19257_AM\",\"19274_AM\",\"19280_AM\",\"19319\",\"19326_AM\",\"19331_AM\",\"28002\",\"28004\",\"2800501\",\"2800502\",\"2800503\",\"2800504\",\"2800505\",\"2800601\",\"2800701\",\"2800702\",\"2800703\",\"2800704\",\"28008_AM\",\"28009\",\"28010\",\"2801301\",\"2801302\",\"2801303\",\"2801304\",\"28014\",\"28015\",\"28018\",\"28022\",\"28023\",\"28026\",\"28027_AM\",\"28030_AM\",\"28031_AM\",\"28032_AM\",\"28033\",\"28038_AM\",\"28040\",\"28041\",\"28043\",\"28044\",\"28045\",\"28046\",\"28047\",\"2804901\",\"2804902\",\"2804903_AD\",\"28050_AM\",\"28052_AM\",\"28053\",\"28054\",\"2805801\",\"2805802\",\"2805803\",\"2805804\",\"2805805\",\"2805806\",\"2805807\",\"2805808\",\"2805809\",\"28059\",\"28060_AM\",\"28061\",\"2806501\",\"2806502\",\"2806503\",\"2806504\",\"28066\",\"28067_AM\",\"28068\",\"28072\",\"28073\",\"2807401\",\"2807402\",\"2807403\",\"2807404\",\"2807405\",\"2807406\",\"2807407\",\"28075\",\"2807901\",\"2807902\",\"2807903\",\"2807904\",\"2807905\",\"2807906\",\"2807907\",\"2807908\",\"2807909\",\"2807910\",\"2807911\",\"2807912\",\"2807913\",\"2807914\",\"2807915\",\"2807916\",\"2807917\",\"2807918\",\"2807919\",\"2807920\",\"2807921\",\"2808001\",\"2808002\",\"28082\",\"28083\",\"28084\",\"28085_AM\",\"28086\",\"28087\",\"28089\",\"28090\",\"28091\",\"2809201\",\"2809202\",\"2809203\",\"2809204\",\"28095_AM\",\"28096\",\"28099_AM\",\"28100\",\"28104\",\"2810601\",\"28108\",\"28110_AM\",\"2811301\",\"2811302\",\"2811501\",\"2811502\",\"28119_AM\",\"2812301\",\"28125_AM\",\"2812701\",\"28129\",\"28130\",\"28131\",\"28132\",\"28133_AM\",\"2813401\",\"28137_AM\",\"28140_AM\",\"28141\",\"28144\",\"28145_AM\",\"2814801\",\"2814802\",\"2814803\",\"2814804\",\"28149\",\"28150\",\"28151_AM\",\"28152\",\"28154\",\"28160\",\"2816101\",\"2816102\",\"28162_AM\",\"28164\",\"28165_AM\",\"28167\",\"28171\",\"28172\",\"28176\",\"28177\",\"28180\",\"28181\",\"28901_AM\",\"28903\"]\n",
    "filtrado_Data = pd.DataFrame({})\n",
    "filtrado_Data2 = pd.DataFrame({})\n",
    "filtrado_Data3 = pd.DataFrame({})\n",
    "filtrado_Data4 = pd.DataFrame({})\n",
    "#filtrado_Data5 = pd.DataFrame({})\n",
    "for col in columnas:\n",
    "        filtrar = data.loc[data.loc[:,'destino'] == col]\n",
    "        filtrar2 = data2.loc[data2.loc[:,'destino'] == col]\n",
    "        filtrar3 = data3.loc[data3.loc[:,'destino'] == col]\n",
    "        filtrar4 = data4.loc[data4.loc[:,'destino'] == col]\n",
    "        \n",
    "        #print(filtrar5.head(3))\n",
    "        filtrado_Data=filtrado_Data.append(filtrar)\n",
    "        filtrado_Data2=filtrado_Data2.append(filtrar2)\n",
    "        filtrado_Data3=filtrado_Data3.append(filtrar3)\n",
    "        filtrado_Data4=filtrado_Data4.append(filtrar4)\n",
    "        "
   ]
  },
  {
   "cell_type": "code",
   "execution_count": 4,
   "id": "bdf95557",
   "metadata": {},
   "outputs": [
    {
     "data": {
      "text/plain": [
       "(8746968, 5)"
      ]
     },
     "execution_count": 4,
     "metadata": {},
     "output_type": "execute_result"
    }
   ],
   "source": [
    "#filtrado.dtypes\n",
    "filtrado_Data4.shape\n"
   ]
  },
  {
   "cell_type": "code",
   "execution_count": 5,
   "id": "29a1e51d",
   "metadata": {},
   "outputs": [],
   "source": [
    "#filtrado_Data5.shape"
   ]
  },
  {
   "cell_type": "code",
   "execution_count": 6,
   "id": "f6b461b3",
   "metadata": {},
   "outputs": [
    {
     "data": {
      "text/plain": [
       "DatetimeIndex(['2020-07-17', '2020-07-18', '2020-07-19', '2020-07-20',\n",
       "               '2020-07-21', '2020-07-22', '2020-07-23', '2020-07-24',\n",
       "               '2020-07-25', '2020-07-26', '2020-07-27', '2020-07-28',\n",
       "               '2020-07-29', '2020-07-30', '2020-07-31'],\n",
       "              dtype='datetime64[ns]', name='fecha', freq='24H')"
      ]
     },
     "execution_count": 6,
     "metadata": {},
     "output_type": "execute_result"
    }
   ],
   "source": [
    "filtrado_Data.index.freq = filtrado_Data.index.inferred_freq\n",
    "serieDia = filtrado_Data.resample('24H').sum()\n",
    "serieDia.index\n",
    "\n",
    "filtrado_Data2.index.freq = filtrado_Data2.index.inferred_freq\n",
    "serieDia2 = filtrado_Data2.resample('24H').sum()\n",
    "serieDia2.index\n",
    "\n",
    "filtrado_Data3.index.freq = filtrado_Data3.index.inferred_freq\n",
    "serieDia3 = filtrado_Data3.resample('24H').sum()\n",
    "serieDia3.index\n",
    "\n",
    "filtrado_Data4.index.freq = filtrado_Data4.index.inferred_freq\n",
    "serieDia4 = filtrado_Data4.resample('24H').sum()\n",
    "serieDia4.index\n",
    "\n",
    "#filtrado_Data5.index.freq = filtrado_Data5.index.inferred_freq\n",
    "#serieDia5 = filtrado_Data5.resample('24H').sum()\n",
    "#serieDia5.index"
   ]
  },
  {
   "cell_type": "code",
   "execution_count": 7,
   "id": "d0d6d0fb",
   "metadata": {},
   "outputs": [],
   "source": [
    "filtrado_Data['trayecto'] = filtrado_Data['origen'] + '-' + filtrado_Data['destino']\n",
    "filtrado_Data2['trayecto'] = filtrado_Data2['origen'] + '-' + filtrado_Data2['destino']\n",
    "filtrado_Data3['trayecto'] = filtrado_Data3['origen'] + '-' + filtrado_Data3['destino']\n",
    "filtrado_Data4['trayecto'] = filtrado_Data4['origen'] + '-' + filtrado_Data4['destino']\n",
    "#filtrado_Data5['trayecto'] = filtrado_Data5['origen'] + '-' + filtrado_Data5['destino']\n",
    "#filtrado_Data5.head(5)"
   ]
  },
  {
   "cell_type": "code",
   "execution_count": 8,
   "id": "5cec6f7c",
   "metadata": {},
   "outputs": [
    {
     "name": "stdout",
     "output_type": "stream",
     "text": [
      "(549379, 7)\n",
      "(195447, 4)\n",
      "(24, 22909)\n",
      "(570939, 7)\n"
     ]
    },
    {
     "name": "stderr",
     "output_type": "stream",
     "text": [
      "/tmp/ipykernel_22993/1544190192.py:27: FutureWarning: The frame.append method is deprecated and will be removed from pandas in a future version. Use pandas.concat instead.\n",
      "  df_Total = df_Total.append(table_B)\n"
     ]
    },
    {
     "name": "stdout",
     "output_type": "stream",
     "text": [
      "(200917, 4)\n",
      "(24, 23248)\n"
     ]
    },
    {
     "name": "stderr",
     "output_type": "stream",
     "text": [
      "/tmp/ipykernel_22993/1544190192.py:27: FutureWarning: The frame.append method is deprecated and will be removed from pandas in a future version. Use pandas.concat instead.\n",
      "  df_Total = df_Total.append(table_B)\n"
     ]
    },
    {
     "name": "stdout",
     "output_type": "stream",
     "text": [
      "(573591, 7)\n",
      "(202553, 4)\n",
      "(24, 23266)\n"
     ]
    },
    {
     "name": "stderr",
     "output_type": "stream",
     "text": [
      "/tmp/ipykernel_22993/1544190192.py:27: FutureWarning: The frame.append method is deprecated and will be removed from pandas in a future version. Use pandas.concat instead.\n",
      "  df_Total = df_Total.append(table_B)\n"
     ]
    },
    {
     "name": "stdout",
     "output_type": "stream",
     "text": [
      "(556296, 7)\n",
      "(196707, 4)\n",
      "(24, 22755)\n"
     ]
    },
    {
     "name": "stderr",
     "output_type": "stream",
     "text": [
      "/tmp/ipykernel_22993/1544190192.py:27: FutureWarning: The frame.append method is deprecated and will be removed from pandas in a future version. Use pandas.concat instead.\n",
      "  df_Total = df_Total.append(table_B)\n"
     ]
    },
    {
     "name": "stdout",
     "output_type": "stream",
     "text": [
      "(570881, 7)\n",
      "(203415, 4)\n",
      "(24, 23510)\n"
     ]
    },
    {
     "name": "stderr",
     "output_type": "stream",
     "text": [
      "/tmp/ipykernel_22993/1544190192.py:27: FutureWarning: The frame.append method is deprecated and will be removed from pandas in a future version. Use pandas.concat instead.\n",
      "  df_Total = df_Total.append(table_B)\n"
     ]
    },
    {
     "name": "stdout",
     "output_type": "stream",
     "text": [
      "(473225, 7)\n",
      "(188328, 4)\n",
      "(24, 22867)\n"
     ]
    },
    {
     "name": "stderr",
     "output_type": "stream",
     "text": [
      "/tmp/ipykernel_22993/1544190192.py:27: FutureWarning: The frame.append method is deprecated and will be removed from pandas in a future version. Use pandas.concat instead.\n",
      "  df_Total = df_Total.append(table_B)\n"
     ]
    },
    {
     "name": "stdout",
     "output_type": "stream",
     "text": [
      "(381821, 7)\n",
      "(158279, 4)\n",
      "(24, 20809)\n"
     ]
    },
    {
     "name": "stderr",
     "output_type": "stream",
     "text": [
      "/tmp/ipykernel_22993/1544190192.py:27: FutureWarning: The frame.append method is deprecated and will be removed from pandas in a future version. Use pandas.concat instead.\n",
      "  df_Total = df_Total.append(table_B)\n"
     ]
    },
    {
     "name": "stdout",
     "output_type": "stream",
     "text": [
      "(564469, 7)\n",
      "(198886, 4)\n",
      "(24, 23044)\n"
     ]
    },
    {
     "name": "stderr",
     "output_type": "stream",
     "text": [
      "/tmp/ipykernel_22993/1544190192.py:27: FutureWarning: The frame.append method is deprecated and will be removed from pandas in a future version. Use pandas.concat instead.\n",
      "  df_Total = df_Total.append(table_B)\n"
     ]
    },
    {
     "name": "stdout",
     "output_type": "stream",
     "text": [
      "(587034, 7)\n",
      "(205112, 4)\n",
      "(24, 23304)\n"
     ]
    },
    {
     "name": "stderr",
     "output_type": "stream",
     "text": [
      "/tmp/ipykernel_22993/1544190192.py:27: FutureWarning: The frame.append method is deprecated and will be removed from pandas in a future version. Use pandas.concat instead.\n",
      "  df_Total = df_Total.append(table_B)\n"
     ]
    },
    {
     "name": "stdout",
     "output_type": "stream",
     "text": [
      "(597633, 7)\n",
      "(208741, 4)\n",
      "(24, 23717)\n"
     ]
    },
    {
     "name": "stderr",
     "output_type": "stream",
     "text": [
      "/tmp/ipykernel_22993/1544190192.py:27: FutureWarning: The frame.append method is deprecated and will be removed from pandas in a future version. Use pandas.concat instead.\n",
      "  df_Total = df_Total.append(table_B)\n"
     ]
    },
    {
     "name": "stdout",
     "output_type": "stream",
     "text": [
      "(597066, 7)\n",
      "(208613, 4)\n",
      "(24, 23494)\n"
     ]
    },
    {
     "name": "stderr",
     "output_type": "stream",
     "text": [
      "/tmp/ipykernel_22993/1544190192.py:27: FutureWarning: The frame.append method is deprecated and will be removed from pandas in a future version. Use pandas.concat instead.\n",
      "  df_Total = df_Total.append(table_B)\n"
     ]
    },
    {
     "name": "stdout",
     "output_type": "stream",
     "text": [
      "(598252, 7)\n",
      "(209683, 4)\n",
      "(24, 23676)\n"
     ]
    },
    {
     "name": "stderr",
     "output_type": "stream",
     "text": [
      "/tmp/ipykernel_22993/1544190192.py:27: FutureWarning: The frame.append method is deprecated and will be removed from pandas in a future version. Use pandas.concat instead.\n",
      "  df_Total = df_Total.append(table_B)\n"
     ]
    },
    {
     "name": "stdout",
     "output_type": "stream",
     "text": [
      "(504676, 7)\n",
      "(198259, 4)\n",
      "(24, 23553)\n"
     ]
    },
    {
     "name": "stderr",
     "output_type": "stream",
     "text": [
      "/tmp/ipykernel_22993/1544190192.py:27: FutureWarning: The frame.append method is deprecated and will be removed from pandas in a future version. Use pandas.concat instead.\n",
      "  df_Total = df_Total.append(table_B)\n"
     ]
    },
    {
     "name": "stdout",
     "output_type": "stream",
     "text": [
      "(426135, 7)\n",
      "(176594, 4)\n",
      "(24, 22274)\n"
     ]
    },
    {
     "name": "stderr",
     "output_type": "stream",
     "text": [
      "/tmp/ipykernel_22993/1544190192.py:27: FutureWarning: The frame.append method is deprecated and will be removed from pandas in a future version. Use pandas.concat instead.\n",
      "  df_Total = df_Total.append(table_B)\n"
     ]
    },
    {
     "name": "stdout",
     "output_type": "stream",
     "text": [
      "(576970, 7)\n",
      "(203114, 4)\n",
      "(24, 23332)\n"
     ]
    },
    {
     "name": "stderr",
     "output_type": "stream",
     "text": [
      "/tmp/ipykernel_22993/1544190192.py:27: FutureWarning: The frame.append method is deprecated and will be removed from pandas in a future version. Use pandas.concat instead.\n",
      "  df_Total = df_Total.append(table_B)\n"
     ]
    },
    {
     "name": "stdout",
     "output_type": "stream",
     "text": [
      "(602998, 7)\n",
      "(209015, 4)\n",
      "(24, 23497)\n"
     ]
    },
    {
     "name": "stderr",
     "output_type": "stream",
     "text": [
      "/tmp/ipykernel_22993/1544190192.py:27: FutureWarning: The frame.append method is deprecated and will be removed from pandas in a future version. Use pandas.concat instead.\n",
      "  df_Total = df_Total.append(table_B)\n"
     ]
    },
    {
     "name": "stdout",
     "output_type": "stream",
     "text": [
      "(384, 32162)\n"
     ]
    }
   ],
   "source": [
    "df_Total = pd.DataFrame({})\n",
    "reindex=filtrado_Data.reset_index()  #Solo cambiamos esta linea\n",
    "\n",
    "for fecha in serieDia.index:   \n",
    "    filtrar = reindex.loc[reindex.loc[:,'fecha'] == fecha]\n",
    "    print(filtrar.shape)\n",
    "    table_A = pd.pivot_table(filtrar, values=['viajes','origen','destino','fecha'], index=[\"periodo\",\"trayecto\"], aggfunc={'viajes':np.sum,'origen': 'first','destino': 'first','fecha': 'first'})\n",
    "    reindex2 = table_A.reset_index()\n",
    "    table_B = pd.pivot_table(reindex2, values=['viajes'], index=[\"periodo\"], columns=[\"trayecto\"], aggfunc={'viajes':'first'}, fill_value=0)\n",
    "    print(table_A.shape)\n",
    "    print(table_B.shape)\n",
    "    \n",
    "    if table_B.index.shape[0] != 24:\n",
    "        j = 0\n",
    "        for i in range(24):\n",
    "            if table_B.index[i] != (i+j):\n",
    "                print (reindex.fecha.iloc[0],i+j,\"origen sin registros!\")\n",
    "                table_B.loc[i+j] = 0\n",
    "                j += 1\n",
    "            if (i + j) == 23: break\n",
    "        table_B = table_B.sort_index() \n",
    "    \n",
    "    table_B[\"ds\"] = pd.date_range(filtrar.fecha.iloc[0], \"%s 23:00:00\" % (filtrar.fecha.iloc[0]), freq=\"H\")  #fecha.iloc[0] devuelve \"20200214\"-\"20200215\"... y la hora en formato 24h      \n",
    "    table_B = table_B.set_index(\"ds\") #Fija como indice la columna ds           \n",
    "    table_B = table_B.astype(np.float32)\n",
    "    \n",
    "    df_Total = df_Total.append(table_B)\n",
    "    df_Total = df_Total.fillna(0)       \n",
    "    #break\n",
    "print(df_Total.shape)"
   ]
  },
  {
   "cell_type": "code",
   "execution_count": 9,
   "id": "44e9ecf0",
   "metadata": {},
   "outputs": [
    {
     "name": "stdout",
     "output_type": "stream",
     "text": [
      "(616143, 7)\n",
      "(212855, 4)\n",
      "(24, 23762)\n"
     ]
    },
    {
     "name": "stderr",
     "output_type": "stream",
     "text": [
      "/tmp/ipykernel_22993/2575003276.py:26: FutureWarning: The frame.append method is deprecated and will be removed from pandas in a future version. Use pandas.concat instead.\n",
      "  df_Total = df_Total.append(table_B)\n"
     ]
    },
    {
     "name": "stdout",
     "output_type": "stream",
     "text": [
      "(627263, 7)\n",
      "(216691, 4)\n",
      "(24, 24070)\n"
     ]
    },
    {
     "name": "stderr",
     "output_type": "stream",
     "text": [
      "/tmp/ipykernel_22993/2575003276.py:26: FutureWarning: The frame.append method is deprecated and will be removed from pandas in a future version. Use pandas.concat instead.\n",
      "  df_Total = df_Total.append(table_B)\n"
     ]
    },
    {
     "name": "stdout",
     "output_type": "stream",
     "text": [
      "(632735, 7)\n",
      "(218853, 4)\n",
      "(24, 24146)\n"
     ]
    },
    {
     "name": "stderr",
     "output_type": "stream",
     "text": [
      "/tmp/ipykernel_22993/2575003276.py:26: FutureWarning: The frame.append method is deprecated and will be removed from pandas in a future version. Use pandas.concat instead.\n",
      "  df_Total = df_Total.append(table_B)\n"
     ]
    },
    {
     "name": "stdout",
     "output_type": "stream",
     "text": [
      "(537877, 7)\n",
      "(210101, 4)\n",
      "(24, 24227)\n"
     ]
    },
    {
     "name": "stderr",
     "output_type": "stream",
     "text": [
      "/tmp/ipykernel_22993/2575003276.py:26: FutureWarning: The frame.append method is deprecated and will be removed from pandas in a future version. Use pandas.concat instead.\n",
      "  df_Total = df_Total.append(table_B)\n"
     ]
    },
    {
     "name": "stdout",
     "output_type": "stream",
     "text": [
      "(471832, 7)\n",
      "(195653, 4)\n",
      "(24, 24463)\n"
     ]
    },
    {
     "name": "stderr",
     "output_type": "stream",
     "text": [
      "/tmp/ipykernel_22993/2575003276.py:26: FutureWarning: The frame.append method is deprecated and will be removed from pandas in a future version. Use pandas.concat instead.\n",
      "  df_Total = df_Total.append(table_B)\n"
     ]
    },
    {
     "name": "stdout",
     "output_type": "stream",
     "text": [
      "(621675, 7)\n",
      "(216180, 4)\n",
      "(24, 24304)\n"
     ]
    },
    {
     "name": "stderr",
     "output_type": "stream",
     "text": [
      "/tmp/ipykernel_22993/2575003276.py:26: FutureWarning: The frame.append method is deprecated and will be removed from pandas in a future version. Use pandas.concat instead.\n",
      "  df_Total = df_Total.append(table_B)\n"
     ]
    },
    {
     "name": "stdout",
     "output_type": "stream",
     "text": [
      "(636827, 7)\n",
      "(219038, 4)\n",
      "(24, 24335)\n"
     ]
    },
    {
     "name": "stderr",
     "output_type": "stream",
     "text": [
      "/tmp/ipykernel_22993/2575003276.py:26: FutureWarning: The frame.append method is deprecated and will be removed from pandas in a future version. Use pandas.concat instead.\n",
      "  df_Total = df_Total.append(table_B)\n"
     ]
    },
    {
     "name": "stdout",
     "output_type": "stream",
     "text": [
      "(644628, 7)\n",
      "(220949, 4)\n",
      "(24, 24493)\n"
     ]
    },
    {
     "name": "stderr",
     "output_type": "stream",
     "text": [
      "/tmp/ipykernel_22993/2575003276.py:26: FutureWarning: The frame.append method is deprecated and will be removed from pandas in a future version. Use pandas.concat instead.\n",
      "  df_Total = df_Total.append(table_B)\n"
     ]
    },
    {
     "name": "stdout",
     "output_type": "stream",
     "text": [
      "(646183, 7)\n",
      "(221530, 4)\n",
      "(24, 24450)\n"
     ]
    },
    {
     "name": "stderr",
     "output_type": "stream",
     "text": [
      "/tmp/ipykernel_22993/2575003276.py:26: FutureWarning: The frame.append method is deprecated and will be removed from pandas in a future version. Use pandas.concat instead.\n",
      "  df_Total = df_Total.append(table_B)\n"
     ]
    },
    {
     "name": "stdout",
     "output_type": "stream",
     "text": [
      "(637748, 7)\n",
      "(222784, 4)\n",
      "(24, 24887)\n"
     ]
    },
    {
     "name": "stderr",
     "output_type": "stream",
     "text": [
      "/tmp/ipykernel_22993/2575003276.py:26: FutureWarning: The frame.append method is deprecated and will be removed from pandas in a future version. Use pandas.concat instead.\n",
      "  df_Total = df_Total.append(table_B)\n"
     ]
    },
    {
     "name": "stdout",
     "output_type": "stream",
     "text": [
      "(519599, 7)\n",
      "(206372, 4)\n",
      "(24, 24919)\n"
     ]
    },
    {
     "name": "stderr",
     "output_type": "stream",
     "text": [
      "/tmp/ipykernel_22993/2575003276.py:26: FutureWarning: The frame.append method is deprecated and will be removed from pandas in a future version. Use pandas.concat instead.\n",
      "  df_Total = df_Total.append(table_B)\n"
     ]
    },
    {
     "name": "stdout",
     "output_type": "stream",
     "text": [
      "(453212, 7)\n",
      "(189738, 4)\n",
      "(24, 24208)\n"
     ]
    },
    {
     "name": "stderr",
     "output_type": "stream",
     "text": [
      "/tmp/ipykernel_22993/2575003276.py:26: FutureWarning: The frame.append method is deprecated and will be removed from pandas in a future version. Use pandas.concat instead.\n",
      "  df_Total = df_Total.append(table_B)\n"
     ]
    },
    {
     "name": "stdout",
     "output_type": "stream",
     "text": [
      "(629512, 7)\n",
      "(217740, 4)\n",
      "(24, 24373)\n"
     ]
    },
    {
     "name": "stderr",
     "output_type": "stream",
     "text": [
      "/tmp/ipykernel_22993/2575003276.py:26: FutureWarning: The frame.append method is deprecated and will be removed from pandas in a future version. Use pandas.concat instead.\n",
      "  df_Total = df_Total.append(table_B)\n"
     ]
    },
    {
     "name": "stdout",
     "output_type": "stream",
     "text": [
      "(637421, 7)\n",
      "(218261, 4)\n",
      "(24, 23948)\n"
     ]
    },
    {
     "name": "stderr",
     "output_type": "stream",
     "text": [
      "/tmp/ipykernel_22993/2575003276.py:26: FutureWarning: The frame.append method is deprecated and will be removed from pandas in a future version. Use pandas.concat instead.\n",
      "  df_Total = df_Total.append(table_B)\n"
     ]
    },
    {
     "name": "stdout",
     "output_type": "stream",
     "text": [
      "(720, 33663)\n"
     ]
    }
   ],
   "source": [
    "reindex=filtrado_Data2.reset_index()\n",
    "\n",
    "for fecha in serieDia2.index:   \n",
    "    filtrar = reindex.loc[reindex.loc[:,'fecha'] == fecha]\n",
    "    print(filtrar.shape)\n",
    "    table_A = pd.pivot_table(filtrar, values=['viajes','origen','destino','fecha'], index=[\"periodo\",\"trayecto\"], aggfunc={'viajes':np.sum,'origen': 'first','destino': 'first','fecha': 'first'})\n",
    "    reindex2 = table_A.reset_index()\n",
    "    table_B = pd.pivot_table(reindex2, values=['viajes'], index=[\"periodo\"], columns=[\"trayecto\"], aggfunc={'viajes':'first'}, fill_value=0)\n",
    "    print(table_A.shape)\n",
    "    print(table_B.shape)\n",
    "    \n",
    "    if table_B.index.shape[0] != 24:\n",
    "        j = 0\n",
    "        for i in range(24):\n",
    "            if table_B.index[i] != (i+j):\n",
    "                print (reindex.fecha.iloc[0],i+j,\"origen sin registros!\")\n",
    "                table_B.loc[i+j] = 0\n",
    "                j += 1\n",
    "            if (i + j) == 23: break\n",
    "        table_B = table_B.sort_index() \n",
    "    \n",
    "    table_B[\"ds\"] = pd.date_range(filtrar.fecha.iloc[0], \"%s 23:00:00\" % (filtrar.fecha.iloc[0]), freq=\"H\")  #fecha.iloc[0] devuelve \"20200214\"-\"20200215\"... y la hora en formato 24h      \n",
    "    table_B = table_B.set_index(\"ds\") #Fija como indice la columna ds           \n",
    "    table_B = table_B.astype(np.float32)\n",
    "    \n",
    "    df_Total = df_Total.append(table_B)\n",
    "    df_Total = df_Total.fillna(0)       \n",
    "    #break\n",
    "print(df_Total.shape)"
   ]
  },
  {
   "cell_type": "code",
   "execution_count": 10,
   "id": "0b8c3170",
   "metadata": {},
   "outputs": [
    {
     "name": "stdout",
     "output_type": "stream",
     "text": [
      "(642064, 7)\n",
      "(220059, 4)\n",
      "(24, 24222)\n"
     ]
    },
    {
     "name": "stderr",
     "output_type": "stream",
     "text": [
      "/tmp/ipykernel_22993/1660391204.py:26: FutureWarning: The frame.append method is deprecated and will be removed from pandas in a future version. Use pandas.concat instead.\n",
      "  df_Total = df_Total.append(table_B)\n"
     ]
    },
    {
     "name": "stdout",
     "output_type": "stream",
     "text": [
      "(654999, 7)\n",
      "(224165, 4)\n",
      "(24, 24567)\n"
     ]
    },
    {
     "name": "stderr",
     "output_type": "stream",
     "text": [
      "/tmp/ipykernel_22993/1660391204.py:26: FutureWarning: The frame.append method is deprecated and will be removed from pandas in a future version. Use pandas.concat instead.\n",
      "  df_Total = df_Total.append(table_B)\n"
     ]
    },
    {
     "name": "stdout",
     "output_type": "stream",
     "text": [
      "(642816, 7)\n",
      "(224409, 4)\n",
      "(24, 24920)\n"
     ]
    },
    {
     "name": "stderr",
     "output_type": "stream",
     "text": [
      "/tmp/ipykernel_22993/1660391204.py:26: FutureWarning: The frame.append method is deprecated and will be removed from pandas in a future version. Use pandas.concat instead.\n",
      "  df_Total = df_Total.append(table_B)\n"
     ]
    },
    {
     "name": "stdout",
     "output_type": "stream",
     "text": [
      "(518006, 7)\n",
      "(206565, 4)\n",
      "(24, 24948)\n"
     ]
    },
    {
     "name": "stderr",
     "output_type": "stream",
     "text": [
      "/tmp/ipykernel_22993/1660391204.py:26: FutureWarning: The frame.append method is deprecated and will be removed from pandas in a future version. Use pandas.concat instead.\n",
      "  df_Total = df_Total.append(table_B)\n"
     ]
    },
    {
     "name": "stdout",
     "output_type": "stream",
     "text": [
      "(448544, 7)\n",
      "(188331, 4)\n",
      "(24, 24129)\n"
     ]
    },
    {
     "name": "stderr",
     "output_type": "stream",
     "text": [
      "/tmp/ipykernel_22993/1660391204.py:26: FutureWarning: The frame.append method is deprecated and will be removed from pandas in a future version. Use pandas.concat instead.\n",
      "  df_Total = df_Total.append(table_B)\n"
     ]
    },
    {
     "name": "stdout",
     "output_type": "stream",
     "text": [
      "(610426, 7)\n",
      "(213346, 4)\n",
      "(24, 24028)\n"
     ]
    },
    {
     "name": "stderr",
     "output_type": "stream",
     "text": [
      "/tmp/ipykernel_22993/1660391204.py:26: FutureWarning: The frame.append method is deprecated and will be removed from pandas in a future version. Use pandas.concat instead.\n",
      "  df_Total = df_Total.append(table_B)\n"
     ]
    },
    {
     "name": "stdout",
     "output_type": "stream",
     "text": [
      "(623176, 7)\n",
      "(216073, 4)\n",
      "(24, 24184)\n"
     ]
    },
    {
     "name": "stderr",
     "output_type": "stream",
     "text": [
      "/tmp/ipykernel_22993/1660391204.py:26: FutureWarning: The frame.append method is deprecated and will be removed from pandas in a future version. Use pandas.concat instead.\n",
      "  df_Total = df_Total.append(table_B)\n"
     ]
    },
    {
     "name": "stdout",
     "output_type": "stream",
     "text": [
      "(621348, 7)\n",
      "(216181, 4)\n",
      "(24, 24127)\n"
     ]
    },
    {
     "name": "stderr",
     "output_type": "stream",
     "text": [
      "/tmp/ipykernel_22993/1660391204.py:26: FutureWarning: The frame.append method is deprecated and will be removed from pandas in a future version. Use pandas.concat instead.\n",
      "  df_Total = df_Total.append(table_B)\n"
     ]
    },
    {
     "name": "stdout",
     "output_type": "stream",
     "text": [
      "(635142, 7)\n",
      "(219804, 4)\n",
      "(24, 24362)\n"
     ]
    },
    {
     "name": "stderr",
     "output_type": "stream",
     "text": [
      "/tmp/ipykernel_22993/1660391204.py:26: FutureWarning: The frame.append method is deprecated and will be removed from pandas in a future version. Use pandas.concat instead.\n",
      "  df_Total = df_Total.append(table_B)\n"
     ]
    },
    {
     "name": "stdout",
     "output_type": "stream",
     "text": [
      "(625507, 7)\n",
      "(220595, 4)\n",
      "(24, 24794)\n"
     ]
    },
    {
     "name": "stderr",
     "output_type": "stream",
     "text": [
      "/tmp/ipykernel_22993/1660391204.py:26: FutureWarning: The frame.append method is deprecated and will be removed from pandas in a future version. Use pandas.concat instead.\n",
      "  df_Total = df_Total.append(table_B)\n"
     ]
    },
    {
     "name": "stdout",
     "output_type": "stream",
     "text": [
      "(508912, 7)\n",
      "(204115, 4)\n",
      "(24, 24860)\n"
     ]
    },
    {
     "name": "stderr",
     "output_type": "stream",
     "text": [
      "/tmp/ipykernel_22993/1660391204.py:26: FutureWarning: The frame.append method is deprecated and will be removed from pandas in a future version. Use pandas.concat instead.\n",
      "  df_Total = df_Total.append(table_B)\n"
     ]
    },
    {
     "name": "stdout",
     "output_type": "stream",
     "text": [
      "(439966, 7)\n",
      "(185772, 4)\n",
      "(24, 24042)\n"
     ]
    },
    {
     "name": "stderr",
     "output_type": "stream",
     "text": [
      "/tmp/ipykernel_22993/1660391204.py:26: FutureWarning: The frame.append method is deprecated and will be removed from pandas in a future version. Use pandas.concat instead.\n",
      "  df_Total = df_Total.append(table_B)\n"
     ]
    },
    {
     "name": "stdout",
     "output_type": "stream",
     "text": [
      "(611167, 7)\n",
      "(214514, 4)\n",
      "(24, 24354)\n"
     ]
    },
    {
     "name": "stderr",
     "output_type": "stream",
     "text": [
      "/tmp/ipykernel_22993/1660391204.py:26: FutureWarning: The frame.append method is deprecated and will be removed from pandas in a future version. Use pandas.concat instead.\n",
      "  df_Total = df_Total.append(table_B)\n"
     ]
    },
    {
     "name": "stdout",
     "output_type": "stream",
     "text": [
      "(629123, 7)\n",
      "(219370, 4)\n",
      "(24, 24366)\n"
     ]
    },
    {
     "name": "stderr",
     "output_type": "stream",
     "text": [
      "/tmp/ipykernel_22993/1660391204.py:26: FutureWarning: The frame.append method is deprecated and will be removed from pandas in a future version. Use pandas.concat instead.\n",
      "  df_Total = df_Total.append(table_B)\n"
     ]
    },
    {
     "name": "stdout",
     "output_type": "stream",
     "text": [
      "(573309, 7)\n",
      "(207819, 4)\n",
      "(24, 23752)\n"
     ]
    },
    {
     "name": "stderr",
     "output_type": "stream",
     "text": [
      "/tmp/ipykernel_22993/1660391204.py:26: FutureWarning: The frame.append method is deprecated and will be removed from pandas in a future version. Use pandas.concat instead.\n",
      "  df_Total = df_Total.append(table_B)\n"
     ]
    },
    {
     "name": "stdout",
     "output_type": "stream",
     "text": [
      "(579028, 7)\n",
      "(208072, 4)\n",
      "(24, 23964)\n"
     ]
    },
    {
     "name": "stderr",
     "output_type": "stream",
     "text": [
      "/tmp/ipykernel_22993/1660391204.py:26: FutureWarning: The frame.append method is deprecated and will be removed from pandas in a future version. Use pandas.concat instead.\n",
      "  df_Total = df_Total.append(table_B)\n"
     ]
    },
    {
     "name": "stdout",
     "output_type": "stream",
     "text": [
      "(1104, 34167)\n"
     ]
    }
   ],
   "source": [
    "reindex=filtrado_Data3.reset_index()\n",
    "\n",
    "for fecha in serieDia3.index:   \n",
    "    filtrar = reindex.loc[reindex.loc[:,'fecha'] == fecha]\n",
    "    print(filtrar.shape)\n",
    "    table_A = pd.pivot_table(filtrar, values=['viajes','origen','destino','fecha'], index=[\"periodo\",\"trayecto\"], aggfunc={'viajes':np.sum,'origen': 'first','destino': 'first','fecha': 'first'})\n",
    "    reindex2 = table_A.reset_index()\n",
    "    table_B = pd.pivot_table(reindex2, values=['viajes'], index=[\"periodo\"], columns=[\"trayecto\"], aggfunc={'viajes':'first'}, fill_value=0)\n",
    "    print(table_A.shape)\n",
    "    print(table_B.shape)\n",
    "    \n",
    "    if table_B.index.shape[0] != 24:\n",
    "        j = 0\n",
    "        for i in range(24):\n",
    "            if table_B.index[i] != (i+j):\n",
    "                print (reindex.fecha.iloc[0],i+j,\"origen sin registros!\")\n",
    "                table_B.loc[i+j] = 0\n",
    "                j += 1\n",
    "            if (i + j) == 23: break\n",
    "        table_B = table_B.sort_index() \n",
    "    \n",
    "    table_B[\"ds\"] = pd.date_range(filtrar.fecha.iloc[0], \"%s 23:00:00\" % (filtrar.fecha.iloc[0]), freq=\"H\")  #fecha.iloc[0] devuelve \"20200214\"-\"20200215\"... y la hora en formato 24h      \n",
    "    table_B = table_B.set_index(\"ds\") #Fija como indice la columna ds           \n",
    "    table_B = table_B.astype(np.float32)\n",
    "    \n",
    "    df_Total = df_Total.append(table_B)\n",
    "    df_Total = df_Total.fillna(0)       \n",
    "    #break\n",
    "print(df_Total.shape)"
   ]
  },
  {
   "cell_type": "code",
   "execution_count": 11,
   "id": "d2d908d0",
   "metadata": {},
   "outputs": [
    {
     "name": "stdout",
     "output_type": "stream",
     "text": [
      "(590237, 7)\n",
      "(213319, 4)\n",
      "(24, 24561)\n"
     ]
    },
    {
     "name": "stderr",
     "output_type": "stream",
     "text": [
      "/tmp/ipykernel_22993/283518376.py:26: FutureWarning: The frame.append method is deprecated and will be removed from pandas in a future version. Use pandas.concat instead.\n",
      "  df_Total = df_Total.append(table_B)\n"
     ]
    },
    {
     "name": "stdout",
     "output_type": "stream",
     "text": [
      "(478979, 7)\n",
      "(195552, 4)\n",
      "(24, 24525)\n"
     ]
    },
    {
     "name": "stderr",
     "output_type": "stream",
     "text": [
      "/tmp/ipykernel_22993/283518376.py:26: FutureWarning: The frame.append method is deprecated and will be removed from pandas in a future version. Use pandas.concat instead.\n",
      "  df_Total = df_Total.append(table_B)\n"
     ]
    },
    {
     "name": "stdout",
     "output_type": "stream",
     "text": [
      "(421324, 7)\n",
      "(180688, 4)\n",
      "(24, 23668)\n"
     ]
    },
    {
     "name": "stderr",
     "output_type": "stream",
     "text": [
      "/tmp/ipykernel_22993/283518376.py:26: FutureWarning: The frame.append method is deprecated and will be removed from pandas in a future version. Use pandas.concat instead.\n",
      "  df_Total = df_Total.append(table_B)\n"
     ]
    },
    {
     "name": "stdout",
     "output_type": "stream",
     "text": [
      "(587749, 7)\n",
      "(210659, 4)\n",
      "(24, 24154)\n"
     ]
    },
    {
     "name": "stderr",
     "output_type": "stream",
     "text": [
      "/tmp/ipykernel_22993/283518376.py:26: FutureWarning: The frame.append method is deprecated and will be removed from pandas in a future version. Use pandas.concat instead.\n",
      "  df_Total = df_Total.append(table_B)\n"
     ]
    },
    {
     "name": "stdout",
     "output_type": "stream",
     "text": [
      "(654217, 7)\n",
      "(215935, 4)\n",
      "(24, 24290)\n"
     ]
    },
    {
     "name": "stderr",
     "output_type": "stream",
     "text": [
      "/tmp/ipykernel_22993/283518376.py:26: FutureWarning: The frame.append method is deprecated and will be removed from pandas in a future version. Use pandas.concat instead.\n",
      "  df_Total = df_Total.append(table_B)\n"
     ]
    },
    {
     "name": "stdout",
     "output_type": "stream",
     "text": [
      "(659339, 7)\n",
      "(220025, 4)\n",
      "(24, 24625)\n"
     ]
    },
    {
     "name": "stderr",
     "output_type": "stream",
     "text": [
      "/tmp/ipykernel_22993/283518376.py:26: FutureWarning: The frame.append method is deprecated and will be removed from pandas in a future version. Use pandas.concat instead.\n",
      "  df_Total = df_Total.append(table_B)\n"
     ]
    },
    {
     "name": "stdout",
     "output_type": "stream",
     "text": [
      "(662926, 7)\n",
      "(221354, 4)\n",
      "(24, 24700)\n"
     ]
    },
    {
     "name": "stderr",
     "output_type": "stream",
     "text": [
      "/tmp/ipykernel_22993/283518376.py:26: FutureWarning: The frame.append method is deprecated and will be removed from pandas in a future version. Use pandas.concat instead.\n",
      "  df_Total = df_Total.append(table_B)\n"
     ]
    },
    {
     "name": "stdout",
     "output_type": "stream",
     "text": [
      "(647766, 7)\n",
      "(219472, 4)\n",
      "(24, 24896)\n"
     ]
    },
    {
     "name": "stderr",
     "output_type": "stream",
     "text": [
      "/tmp/ipykernel_22993/283518376.py:26: FutureWarning: The frame.append method is deprecated and will be removed from pandas in a future version. Use pandas.concat instead.\n",
      "  df_Total = df_Total.append(table_B)\n"
     ]
    },
    {
     "name": "stdout",
     "output_type": "stream",
     "text": [
      "(511892, 7)\n",
      "(197627, 4)\n",
      "(24, 24673)\n"
     ]
    },
    {
     "name": "stderr",
     "output_type": "stream",
     "text": [
      "/tmp/ipykernel_22993/283518376.py:26: FutureWarning: The frame.append method is deprecated and will be removed from pandas in a future version. Use pandas.concat instead.\n",
      "  df_Total = df_Total.append(table_B)\n"
     ]
    },
    {
     "name": "stdout",
     "output_type": "stream",
     "text": [
      "(445993, 7)\n",
      "(180401, 4)\n",
      "(24, 23651)\n"
     ]
    },
    {
     "name": "stderr",
     "output_type": "stream",
     "text": [
      "/tmp/ipykernel_22993/283518376.py:26: FutureWarning: The frame.append method is deprecated and will be removed from pandas in a future version. Use pandas.concat instead.\n",
      "  df_Total = df_Total.append(table_B)\n"
     ]
    },
    {
     "name": "stdout",
     "output_type": "stream",
     "text": [
      "(625719, 7)\n",
      "(211932, 4)\n",
      "(24, 24359)\n"
     ]
    },
    {
     "name": "stderr",
     "output_type": "stream",
     "text": [
      "/tmp/ipykernel_22993/283518376.py:26: FutureWarning: The frame.append method is deprecated and will be removed from pandas in a future version. Use pandas.concat instead.\n",
      "  df_Total = df_Total.append(table_B)\n"
     ]
    },
    {
     "name": "stdout",
     "output_type": "stream",
     "text": [
      "(614082, 7)\n",
      "(216898, 4)\n",
      "(24, 24413)\n"
     ]
    },
    {
     "name": "stderr",
     "output_type": "stream",
     "text": [
      "/tmp/ipykernel_22993/283518376.py:26: FutureWarning: The frame.append method is deprecated and will be removed from pandas in a future version. Use pandas.concat instead.\n",
      "  df_Total = df_Total.append(table_B)\n"
     ]
    },
    {
     "name": "stdout",
     "output_type": "stream",
     "text": [
      "(622486, 7)\n",
      "(220019, 4)\n",
      "(24, 24658)\n"
     ]
    },
    {
     "name": "stderr",
     "output_type": "stream",
     "text": [
      "/tmp/ipykernel_22993/283518376.py:26: FutureWarning: The frame.append method is deprecated and will be removed from pandas in a future version. Use pandas.concat instead.\n",
      "  df_Total = df_Total.append(table_B)\n"
     ]
    },
    {
     "name": "stdout",
     "output_type": "stream",
     "text": [
      "(621601, 7)\n",
      "(219789, 4)\n",
      "(24, 24545)\n"
     ]
    },
    {
     "name": "stderr",
     "output_type": "stream",
     "text": [
      "/tmp/ipykernel_22993/283518376.py:26: FutureWarning: The frame.append method is deprecated and will be removed from pandas in a future version. Use pandas.concat instead.\n",
      "  df_Total = df_Total.append(table_B)\n"
     ]
    },
    {
     "name": "stdout",
     "output_type": "stream",
     "text": [
      "(602658, 7)\n",
      "(217593, 4)\n",
      "(24, 24754)\n"
     ]
    },
    {
     "name": "stderr",
     "output_type": "stream",
     "text": [
      "/tmp/ipykernel_22993/283518376.py:26: FutureWarning: The frame.append method is deprecated and will be removed from pandas in a future version. Use pandas.concat instead.\n",
      "  df_Total = df_Total.append(table_B)\n"
     ]
    },
    {
     "name": "stdout",
     "output_type": "stream",
     "text": [
      "(1464, 34352)\n",
      "(34351,)\n"
     ]
    }
   ],
   "source": [
    "reindex=filtrado_Data4.reset_index()\n",
    "\n",
    "for fecha in serieDia4.index:   \n",
    "    filtrar = reindex.loc[reindex.loc[:,'fecha'] == fecha]\n",
    "    print(filtrar.shape)\n",
    "    table_A = pd.pivot_table(filtrar, values=['viajes','origen','destino','fecha'], index=[\"periodo\",\"trayecto\"], aggfunc={'viajes':np.sum,'origen': 'first','destino': 'first','fecha': 'first'})\n",
    "    reindex2 = table_A.reset_index()\n",
    "    table_B = pd.pivot_table(reindex2, values=['viajes'], index=[\"periodo\"], columns=[\"trayecto\"], aggfunc={'viajes':'first'}, fill_value=0)\n",
    "    print(table_A.shape)\n",
    "    print(table_B.shape)\n",
    "    \n",
    "    if table_B.index.shape[0] != 24:\n",
    "        j = 0\n",
    "        for i in range(24):\n",
    "            if table_B.index[i] != (i+j):\n",
    "                print (reindex.fecha.iloc[0],i+j,\"origen sin registros!\")\n",
    "                table_B.loc[i+j] = 0\n",
    "                j += 1\n",
    "            if (i + j) == 23: break\n",
    "        table_B = table_B.sort_index() \n",
    "    \n",
    "    table_B[\"ds\"] = pd.date_range(filtrar.fecha.iloc[0], \"%s 23:00:00\" % (filtrar.fecha.iloc[0]), freq=\"H\")  #fecha.iloc[0] devuelve \"20200214\"-\"20200215\"... y la hora en formato 24h      \n",
    "    table_B = table_B.set_index(\"ds\") #Fija como indice la columna ds       \n",
    "    table_B = table_B.astype(np.float32)\n",
    "    \n",
    "    df_Total = df_Total.append(table_B)    \n",
    "    df_Total = df_Total.fillna(0)\n",
    "    #break\n",
    "\n",
    "df_Total.columns =[str(s2) for (s1,s2) in df_Total.columns.tolist()]\n",
    "df_Final = df_Total.reset_index()\n",
    "\n",
    "columns_names = df_Total.columns\n",
    "with open(\"columns_names_confinamiento2.pickle\", \"wb\") as file:\n",
    "    pickle.dump(columns_names,file)\n",
    "\n",
    "\n",
    "print(df_Final.shape)\n",
    "print(columns_names.shape)"
   ]
  },
  {
   "cell_type": "code",
   "execution_count": 12,
   "id": "93b184a9",
   "metadata": {},
   "outputs": [],
   "source": [
    "#df_Final.iloc[0:72,56:57000]"
   ]
  },
  {
   "cell_type": "code",
   "execution_count": 13,
   "id": "c9620741",
   "metadata": {},
   "outputs": [],
   "source": [
    "#hola = reindex2.loc[reindex2.loc[:,'trayecto'] == '19024-19046_AM']\n",
    "#hola.head(25)"
   ]
  },
  {
   "cell_type": "code",
   "execution_count": 14,
   "id": "78c8bac6",
   "metadata": {},
   "outputs": [],
   "source": [
    "#filtrar2 = filtrar.loc[filtrar.loc[:,'periodo'] == 0]\n",
    "#filtrar2.iloc[0:24,:]"
   ]
  },
  {
   "cell_type": "code",
   "execution_count": 15,
   "id": "d4593e31",
   "metadata": {},
   "outputs": [],
   "source": [
    "df_Final.to_csv(\"Trayectos_Periodo_Confinamiento2.csv\")"
   ]
  }
 ],
 "metadata": {
  "kernelspec": {
   "display_name": "Python 3 (ipykernel)",
   "language": "python",
   "name": "python3"
  },
  "language_info": {
   "codemirror_mode": {
    "name": "ipython",
    "version": 3
   },
   "file_extension": ".py",
   "mimetype": "text/x-python",
   "name": "python",
   "nbconvert_exporter": "python",
   "pygments_lexer": "ipython3",
   "version": "3.9.7"
  }
 },
 "nbformat": 4,
 "nbformat_minor": 5
}
