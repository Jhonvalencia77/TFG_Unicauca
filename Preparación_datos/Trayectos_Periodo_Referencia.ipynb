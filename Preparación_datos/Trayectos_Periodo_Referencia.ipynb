{
 "cells": [
  {
   "cell_type": "code",
   "execution_count": 1,
   "id": "c0a0b0bc",
   "metadata": {},
   "outputs": [],
   "source": [
    "import pandas as pd\n",
    "import numpy as np\n",
    "import pickle"
   ]
  },
  {
   "cell_type": "code",
   "execution_count": 2,
   "id": "b4fa4d87",
   "metadata": {},
   "outputs": [
    {
     "data": {
      "text/html": [
       "<div>\n",
       "<style scoped>\n",
       "    .dataframe tbody tr th:only-of-type {\n",
       "        vertical-align: middle;\n",
       "    }\n",
       "\n",
       "    .dataframe tbody tr th {\n",
       "        vertical-align: top;\n",
       "    }\n",
       "\n",
       "    .dataframe thead th {\n",
       "        text-align: right;\n",
       "    }\n",
       "</style>\n",
       "<table border=\"1\" class=\"dataframe\">\n",
       "  <thead>\n",
       "    <tr style=\"text-align: right;\">\n",
       "      <th></th>\n",
       "      <th>origen</th>\n",
       "      <th>destino</th>\n",
       "      <th>periodo</th>\n",
       "      <th>distancia</th>\n",
       "      <th>viajes</th>\n",
       "    </tr>\n",
       "    <tr>\n",
       "      <th>fecha</th>\n",
       "      <th></th>\n",
       "      <th></th>\n",
       "      <th></th>\n",
       "      <th></th>\n",
       "      <th></th>\n",
       "    </tr>\n",
       "  </thead>\n",
       "  <tbody>\n",
       "    <tr>\n",
       "      <th>2020-03-01</th>\n",
       "      <td>19024</td>\n",
       "      <td>0200304</td>\n",
       "      <td>14</td>\n",
       "      <td>100+</td>\n",
       "      <td>7.774</td>\n",
       "    </tr>\n",
       "    <tr>\n",
       "      <th>2020-03-01</th>\n",
       "      <td>19024</td>\n",
       "      <td>0501901_AD</td>\n",
       "      <td>9</td>\n",
       "      <td>100+</td>\n",
       "      <td>7.130</td>\n",
       "    </tr>\n",
       "    <tr>\n",
       "      <th>2020-03-01</th>\n",
       "      <td>19024</td>\n",
       "      <td>08298</td>\n",
       "      <td>21</td>\n",
       "      <td>100+</td>\n",
       "      <td>7.456</td>\n",
       "    </tr>\n",
       "    <tr>\n",
       "      <th>2020-03-01</th>\n",
       "      <td>19024</td>\n",
       "      <td>0905909</td>\n",
       "      <td>13</td>\n",
       "      <td>100+</td>\n",
       "      <td>10.763</td>\n",
       "    </tr>\n",
       "    <tr>\n",
       "      <th>2020-03-01</th>\n",
       "      <td>19024</td>\n",
       "      <td>13087</td>\n",
       "      <td>8</td>\n",
       "      <td>100+</td>\n",
       "      <td>6.826</td>\n",
       "    </tr>\n",
       "    <tr>\n",
       "      <th>2020-03-01</th>\n",
       "      <td>19024</td>\n",
       "      <td>16027_AM</td>\n",
       "      <td>12</td>\n",
       "      <td>050-100</td>\n",
       "      <td>13.652</td>\n",
       "    </tr>\n",
       "    <tr>\n",
       "      <th>2020-03-01</th>\n",
       "      <td>19024</td>\n",
       "      <td>1808702</td>\n",
       "      <td>14</td>\n",
       "      <td>100+</td>\n",
       "      <td>4.954</td>\n",
       "    </tr>\n",
       "    <tr>\n",
       "      <th>2020-03-01</th>\n",
       "      <td>19024</td>\n",
       "      <td>1808707</td>\n",
       "      <td>17</td>\n",
       "      <td>100+</td>\n",
       "      <td>8.084</td>\n",
       "    </tr>\n",
       "    <tr>\n",
       "      <th>2020-03-01</th>\n",
       "      <td>19024</td>\n",
       "      <td>19024</td>\n",
       "      <td>0</td>\n",
       "      <td>002-005</td>\n",
       "      <td>5.626</td>\n",
       "    </tr>\n",
       "    <tr>\n",
       "      <th>2020-03-01</th>\n",
       "      <td>19024</td>\n",
       "      <td>19024</td>\n",
       "      <td>1</td>\n",
       "      <td>002-005</td>\n",
       "      <td>5.626</td>\n",
       "    </tr>\n",
       "  </tbody>\n",
       "</table>\n",
       "</div>"
      ],
      "text/plain": [
       "           origen     destino  periodo distancia  viajes\n",
       "fecha                                                   \n",
       "2020-03-01  19024     0200304       14      100+   7.774\n",
       "2020-03-01  19024  0501901_AD        9      100+   7.130\n",
       "2020-03-01  19024       08298       21      100+   7.456\n",
       "2020-03-01  19024     0905909       13      100+  10.763\n",
       "2020-03-01  19024       13087        8      100+   6.826\n",
       "2020-03-01  19024    16027_AM       12   050-100  13.652\n",
       "2020-03-01  19024     1808702       14      100+   4.954\n",
       "2020-03-01  19024     1808707       17      100+   8.084\n",
       "2020-03-01  19024       19024        0   002-005   5.626\n",
       "2020-03-01  19024       19024        1   002-005   5.626"
      ]
     },
     "execution_count": 2,
     "metadata": {},
     "output_type": "execute_result"
    }
   ],
   "source": [
    "basepath = \"/media/jonathan/JHON/Tesis/DatosTesis/CSV_Filtrado_Origen/DataFiltradoFebrero2020.csv\"\n",
    "data = pd.read_csv(basepath, sep=',',dtype={\"fecha\": str,\n",
    "                                        \"origen\": str,\n",
    "                                        \"destino\": str},index_col='fecha',parse_dates=True, usecols=[0,1,2,7,8,9])          \n",
    "\n",
    "data = data[data.distancia >= \"002-005\"]\n",
    "\n",
    "\n",
    "basepath = \"/media/jonathan/JHON/Tesis/DatosTesis/CSV_Filtrado_Origen/DataFiltradoMarzo2020_1.csv\"\n",
    "data2 = pd.read_csv(basepath, sep=',',dtype={\"fecha\": str,\n",
    "                                        \"origen\": str,\n",
    "                                        \"destino\": str},index_col='fecha',parse_dates=True, usecols=[0,1,2,7,8,9])          \n",
    "\n",
    "data2 = data2[data2.distancia >= \"002-005\"]\n",
    "data2.head(10)"
   ]
  },
  {
   "cell_type": "markdown",
   "id": "3141584d",
   "metadata": {},
   "source": [
    "## Debido a que se tiene como destino toda España, se procede a filtrar la columna destino"
   ]
  },
  {
   "cell_type": "code",
   "execution_count": 3,
   "id": "b826366c",
   "metadata": {},
   "outputs": [
    {
     "name": "stderr",
     "output_type": "stream",
     "text": [
      "/tmp/ipykernel_14623/2862899226.py:8: FutureWarning: The frame.append method is deprecated and will be removed from pandas in a future version. Use pandas.concat instead.\n",
      "  filtrado_Data=filtrado_Data.append(filtrar)\n",
      "/tmp/ipykernel_14623/2862899226.py:9: FutureWarning: The frame.append method is deprecated and will be removed from pandas in a future version. Use pandas.concat instead.\n",
      "  filtrado_Data2=filtrado_Data2.append(filtrar2)\n",
      "/tmp/ipykernel_14623/2862899226.py:8: FutureWarning: The frame.append method is deprecated and will be removed from pandas in a future version. Use pandas.concat instead.\n",
      "  filtrado_Data=filtrado_Data.append(filtrar)\n",
      "/tmp/ipykernel_14623/2862899226.py:9: FutureWarning: The frame.append method is deprecated and will be removed from pandas in a future version. Use pandas.concat instead.\n",
      "  filtrado_Data2=filtrado_Data2.append(filtrar2)\n",
      "/tmp/ipykernel_14623/2862899226.py:8: FutureWarning: The frame.append method is deprecated and will be removed from pandas in a future version. Use pandas.concat instead.\n",
      "  filtrado_Data=filtrado_Data.append(filtrar)\n",
      "/tmp/ipykernel_14623/2862899226.py:9: FutureWarning: The frame.append method is deprecated and will be removed from pandas in a future version. Use pandas.concat instead.\n",
      "  filtrado_Data2=filtrado_Data2.append(filtrar2)\n",
      "/tmp/ipykernel_14623/2862899226.py:8: FutureWarning: The frame.append method is deprecated and will be removed from pandas in a future version. Use pandas.concat instead.\n",
      "  filtrado_Data=filtrado_Data.append(filtrar)\n",
      "/tmp/ipykernel_14623/2862899226.py:9: FutureWarning: The frame.append method is deprecated and will be removed from pandas in a future version. Use pandas.concat instead.\n",
      "  filtrado_Data2=filtrado_Data2.append(filtrar2)\n",
      "/tmp/ipykernel_14623/2862899226.py:8: FutureWarning: The frame.append method is deprecated and will be removed from pandas in a future version. Use pandas.concat instead.\n",
      "  filtrado_Data=filtrado_Data.append(filtrar)\n",
      "/tmp/ipykernel_14623/2862899226.py:9: FutureWarning: The frame.append method is deprecated and will be removed from pandas in a future version. Use pandas.concat instead.\n",
      "  filtrado_Data2=filtrado_Data2.append(filtrar2)\n",
      "/tmp/ipykernel_14623/2862899226.py:8: FutureWarning: The frame.append method is deprecated and will be removed from pandas in a future version. Use pandas.concat instead.\n",
      "  filtrado_Data=filtrado_Data.append(filtrar)\n",
      "/tmp/ipykernel_14623/2862899226.py:9: FutureWarning: The frame.append method is deprecated and will be removed from pandas in a future version. Use pandas.concat instead.\n",
      "  filtrado_Data2=filtrado_Data2.append(filtrar2)\n",
      "/tmp/ipykernel_14623/2862899226.py:8: FutureWarning: The frame.append method is deprecated and will be removed from pandas in a future version. Use pandas.concat instead.\n",
      "  filtrado_Data=filtrado_Data.append(filtrar)\n",
      "/tmp/ipykernel_14623/2862899226.py:9: FutureWarning: The frame.append method is deprecated and will be removed from pandas in a future version. Use pandas.concat instead.\n",
      "  filtrado_Data2=filtrado_Data2.append(filtrar2)\n",
      "/tmp/ipykernel_14623/2862899226.py:8: FutureWarning: The frame.append method is deprecated and will be removed from pandas in a future version. Use pandas.concat instead.\n",
      "  filtrado_Data=filtrado_Data.append(filtrar)\n",
      "/tmp/ipykernel_14623/2862899226.py:9: FutureWarning: The frame.append method is deprecated and will be removed from pandas in a future version. Use pandas.concat instead.\n",
      "  filtrado_Data2=filtrado_Data2.append(filtrar2)\n",
      "/tmp/ipykernel_14623/2862899226.py:8: FutureWarning: The frame.append method is deprecated and will be removed from pandas in a future version. Use pandas.concat instead.\n",
      "  filtrado_Data=filtrado_Data.append(filtrar)\n",
      "/tmp/ipykernel_14623/2862899226.py:9: FutureWarning: The frame.append method is deprecated and will be removed from pandas in a future version. Use pandas.concat instead.\n",
      "  filtrado_Data2=filtrado_Data2.append(filtrar2)\n",
      "/tmp/ipykernel_14623/2862899226.py:8: FutureWarning: The frame.append method is deprecated and will be removed from pandas in a future version. Use pandas.concat instead.\n",
      "  filtrado_Data=filtrado_Data.append(filtrar)\n",
      "/tmp/ipykernel_14623/2862899226.py:9: FutureWarning: The frame.append method is deprecated and will be removed from pandas in a future version. Use pandas.concat instead.\n",
      "  filtrado_Data2=filtrado_Data2.append(filtrar2)\n",
      "/tmp/ipykernel_14623/2862899226.py:8: FutureWarning: The frame.append method is deprecated and will be removed from pandas in a future version. Use pandas.concat instead.\n",
      "  filtrado_Data=filtrado_Data.append(filtrar)\n",
      "/tmp/ipykernel_14623/2862899226.py:9: FutureWarning: The frame.append method is deprecated and will be removed from pandas in a future version. Use pandas.concat instead.\n",
      "  filtrado_Data2=filtrado_Data2.append(filtrar2)\n",
      "/tmp/ipykernel_14623/2862899226.py:8: FutureWarning: The frame.append method is deprecated and will be removed from pandas in a future version. Use pandas.concat instead.\n",
      "  filtrado_Data=filtrado_Data.append(filtrar)\n",
      "/tmp/ipykernel_14623/2862899226.py:9: FutureWarning: The frame.append method is deprecated and will be removed from pandas in a future version. Use pandas.concat instead.\n",
      "  filtrado_Data2=filtrado_Data2.append(filtrar2)\n",
      "/tmp/ipykernel_14623/2862899226.py:8: FutureWarning: The frame.append method is deprecated and will be removed from pandas in a future version. Use pandas.concat instead.\n",
      "  filtrado_Data=filtrado_Data.append(filtrar)\n",
      "/tmp/ipykernel_14623/2862899226.py:9: FutureWarning: The frame.append method is deprecated and will be removed from pandas in a future version. Use pandas.concat instead.\n",
      "  filtrado_Data2=filtrado_Data2.append(filtrar2)\n",
      "/tmp/ipykernel_14623/2862899226.py:8: FutureWarning: The frame.append method is deprecated and will be removed from pandas in a future version. Use pandas.concat instead.\n",
      "  filtrado_Data=filtrado_Data.append(filtrar)\n",
      "/tmp/ipykernel_14623/2862899226.py:9: FutureWarning: The frame.append method is deprecated and will be removed from pandas in a future version. Use pandas.concat instead.\n",
      "  filtrado_Data2=filtrado_Data2.append(filtrar2)\n",
      "/tmp/ipykernel_14623/2862899226.py:8: FutureWarning: The frame.append method is deprecated and will be removed from pandas in a future version. Use pandas.concat instead.\n",
      "  filtrado_Data=filtrado_Data.append(filtrar)\n",
      "/tmp/ipykernel_14623/2862899226.py:9: FutureWarning: The frame.append method is deprecated and will be removed from pandas in a future version. Use pandas.concat instead.\n",
      "  filtrado_Data2=filtrado_Data2.append(filtrar2)\n",
      "/tmp/ipykernel_14623/2862899226.py:8: FutureWarning: The frame.append method is deprecated and will be removed from pandas in a future version. Use pandas.concat instead.\n",
      "  filtrado_Data=filtrado_Data.append(filtrar)\n",
      "/tmp/ipykernel_14623/2862899226.py:9: FutureWarning: The frame.append method is deprecated and will be removed from pandas in a future version. Use pandas.concat instead.\n",
      "  filtrado_Data2=filtrado_Data2.append(filtrar2)\n",
      "/tmp/ipykernel_14623/2862899226.py:8: FutureWarning: The frame.append method is deprecated and will be removed from pandas in a future version. Use pandas.concat instead.\n",
      "  filtrado_Data=filtrado_Data.append(filtrar)\n",
      "/tmp/ipykernel_14623/2862899226.py:9: FutureWarning: The frame.append method is deprecated and will be removed from pandas in a future version. Use pandas.concat instead.\n",
      "  filtrado_Data2=filtrado_Data2.append(filtrar2)\n",
      "/tmp/ipykernel_14623/2862899226.py:8: FutureWarning: The frame.append method is deprecated and will be removed from pandas in a future version. Use pandas.concat instead.\n",
      "  filtrado_Data=filtrado_Data.append(filtrar)\n",
      "/tmp/ipykernel_14623/2862899226.py:9: FutureWarning: The frame.append method is deprecated and will be removed from pandas in a future version. Use pandas.concat instead.\n",
      "  filtrado_Data2=filtrado_Data2.append(filtrar2)\n",
      "/tmp/ipykernel_14623/2862899226.py:8: FutureWarning: The frame.append method is deprecated and will be removed from pandas in a future version. Use pandas.concat instead.\n",
      "  filtrado_Data=filtrado_Data.append(filtrar)\n",
      "/tmp/ipykernel_14623/2862899226.py:9: FutureWarning: The frame.append method is deprecated and will be removed from pandas in a future version. Use pandas.concat instead.\n",
      "  filtrado_Data2=filtrado_Data2.append(filtrar2)\n"
     ]
    },
    {
     "name": "stderr",
     "output_type": "stream",
     "text": [
      "/tmp/ipykernel_14623/2862899226.py:8: FutureWarning: The frame.append method is deprecated and will be removed from pandas in a future version. Use pandas.concat instead.\n",
      "  filtrado_Data=filtrado_Data.append(filtrar)\n",
      "/tmp/ipykernel_14623/2862899226.py:9: FutureWarning: The frame.append method is deprecated and will be removed from pandas in a future version. Use pandas.concat instead.\n",
      "  filtrado_Data2=filtrado_Data2.append(filtrar2)\n",
      "/tmp/ipykernel_14623/2862899226.py:8: FutureWarning: The frame.append method is deprecated and will be removed from pandas in a future version. Use pandas.concat instead.\n",
      "  filtrado_Data=filtrado_Data.append(filtrar)\n",
      "/tmp/ipykernel_14623/2862899226.py:9: FutureWarning: The frame.append method is deprecated and will be removed from pandas in a future version. Use pandas.concat instead.\n",
      "  filtrado_Data2=filtrado_Data2.append(filtrar2)\n",
      "/tmp/ipykernel_14623/2862899226.py:8: FutureWarning: The frame.append method is deprecated and will be removed from pandas in a future version. Use pandas.concat instead.\n",
      "  filtrado_Data=filtrado_Data.append(filtrar)\n",
      "/tmp/ipykernel_14623/2862899226.py:9: FutureWarning: The frame.append method is deprecated and will be removed from pandas in a future version. Use pandas.concat instead.\n",
      "  filtrado_Data2=filtrado_Data2.append(filtrar2)\n",
      "/tmp/ipykernel_14623/2862899226.py:8: FutureWarning: The frame.append method is deprecated and will be removed from pandas in a future version. Use pandas.concat instead.\n",
      "  filtrado_Data=filtrado_Data.append(filtrar)\n",
      "/tmp/ipykernel_14623/2862899226.py:9: FutureWarning: The frame.append method is deprecated and will be removed from pandas in a future version. Use pandas.concat instead.\n",
      "  filtrado_Data2=filtrado_Data2.append(filtrar2)\n",
      "/tmp/ipykernel_14623/2862899226.py:8: FutureWarning: The frame.append method is deprecated and will be removed from pandas in a future version. Use pandas.concat instead.\n",
      "  filtrado_Data=filtrado_Data.append(filtrar)\n",
      "/tmp/ipykernel_14623/2862899226.py:9: FutureWarning: The frame.append method is deprecated and will be removed from pandas in a future version. Use pandas.concat instead.\n",
      "  filtrado_Data2=filtrado_Data2.append(filtrar2)\n",
      "/tmp/ipykernel_14623/2862899226.py:8: FutureWarning: The frame.append method is deprecated and will be removed from pandas in a future version. Use pandas.concat instead.\n",
      "  filtrado_Data=filtrado_Data.append(filtrar)\n",
      "/tmp/ipykernel_14623/2862899226.py:9: FutureWarning: The frame.append method is deprecated and will be removed from pandas in a future version. Use pandas.concat instead.\n",
      "  filtrado_Data2=filtrado_Data2.append(filtrar2)\n",
      "/tmp/ipykernel_14623/2862899226.py:8: FutureWarning: The frame.append method is deprecated and will be removed from pandas in a future version. Use pandas.concat instead.\n",
      "  filtrado_Data=filtrado_Data.append(filtrar)\n",
      "/tmp/ipykernel_14623/2862899226.py:9: FutureWarning: The frame.append method is deprecated and will be removed from pandas in a future version. Use pandas.concat instead.\n",
      "  filtrado_Data2=filtrado_Data2.append(filtrar2)\n",
      "/tmp/ipykernel_14623/2862899226.py:8: FutureWarning: The frame.append method is deprecated and will be removed from pandas in a future version. Use pandas.concat instead.\n",
      "  filtrado_Data=filtrado_Data.append(filtrar)\n",
      "/tmp/ipykernel_14623/2862899226.py:9: FutureWarning: The frame.append method is deprecated and will be removed from pandas in a future version. Use pandas.concat instead.\n",
      "  filtrado_Data2=filtrado_Data2.append(filtrar2)\n",
      "/tmp/ipykernel_14623/2862899226.py:8: FutureWarning: The frame.append method is deprecated and will be removed from pandas in a future version. Use pandas.concat instead.\n",
      "  filtrado_Data=filtrado_Data.append(filtrar)\n",
      "/tmp/ipykernel_14623/2862899226.py:9: FutureWarning: The frame.append method is deprecated and will be removed from pandas in a future version. Use pandas.concat instead.\n",
      "  filtrado_Data2=filtrado_Data2.append(filtrar2)\n",
      "/tmp/ipykernel_14623/2862899226.py:8: FutureWarning: The frame.append method is deprecated and will be removed from pandas in a future version. Use pandas.concat instead.\n",
      "  filtrado_Data=filtrado_Data.append(filtrar)\n",
      "/tmp/ipykernel_14623/2862899226.py:9: FutureWarning: The frame.append method is deprecated and will be removed from pandas in a future version. Use pandas.concat instead.\n",
      "  filtrado_Data2=filtrado_Data2.append(filtrar2)\n",
      "/tmp/ipykernel_14623/2862899226.py:8: FutureWarning: The frame.append method is deprecated and will be removed from pandas in a future version. Use pandas.concat instead.\n",
      "  filtrado_Data=filtrado_Data.append(filtrar)\n",
      "/tmp/ipykernel_14623/2862899226.py:9: FutureWarning: The frame.append method is deprecated and will be removed from pandas in a future version. Use pandas.concat instead.\n",
      "  filtrado_Data2=filtrado_Data2.append(filtrar2)\n",
      "/tmp/ipykernel_14623/2862899226.py:8: FutureWarning: The frame.append method is deprecated and will be removed from pandas in a future version. Use pandas.concat instead.\n",
      "  filtrado_Data=filtrado_Data.append(filtrar)\n",
      "/tmp/ipykernel_14623/2862899226.py:9: FutureWarning: The frame.append method is deprecated and will be removed from pandas in a future version. Use pandas.concat instead.\n",
      "  filtrado_Data2=filtrado_Data2.append(filtrar2)\n",
      "/tmp/ipykernel_14623/2862899226.py:8: FutureWarning: The frame.append method is deprecated and will be removed from pandas in a future version. Use pandas.concat instead.\n",
      "  filtrado_Data=filtrado_Data.append(filtrar)\n",
      "/tmp/ipykernel_14623/2862899226.py:9: FutureWarning: The frame.append method is deprecated and will be removed from pandas in a future version. Use pandas.concat instead.\n",
      "  filtrado_Data2=filtrado_Data2.append(filtrar2)\n",
      "/tmp/ipykernel_14623/2862899226.py:8: FutureWarning: The frame.append method is deprecated and will be removed from pandas in a future version. Use pandas.concat instead.\n",
      "  filtrado_Data=filtrado_Data.append(filtrar)\n",
      "/tmp/ipykernel_14623/2862899226.py:9: FutureWarning: The frame.append method is deprecated and will be removed from pandas in a future version. Use pandas.concat instead.\n",
      "  filtrado_Data2=filtrado_Data2.append(filtrar2)\n",
      "/tmp/ipykernel_14623/2862899226.py:8: FutureWarning: The frame.append method is deprecated and will be removed from pandas in a future version. Use pandas.concat instead.\n",
      "  filtrado_Data=filtrado_Data.append(filtrar)\n",
      "/tmp/ipykernel_14623/2862899226.py:9: FutureWarning: The frame.append method is deprecated and will be removed from pandas in a future version. Use pandas.concat instead.\n",
      "  filtrado_Data2=filtrado_Data2.append(filtrar2)\n",
      "/tmp/ipykernel_14623/2862899226.py:8: FutureWarning: The frame.append method is deprecated and will be removed from pandas in a future version. Use pandas.concat instead.\n",
      "  filtrado_Data=filtrado_Data.append(filtrar)\n",
      "/tmp/ipykernel_14623/2862899226.py:9: FutureWarning: The frame.append method is deprecated and will be removed from pandas in a future version. Use pandas.concat instead.\n",
      "  filtrado_Data2=filtrado_Data2.append(filtrar2)\n",
      "/tmp/ipykernel_14623/2862899226.py:8: FutureWarning: The frame.append method is deprecated and will be removed from pandas in a future version. Use pandas.concat instead.\n",
      "  filtrado_Data=filtrado_Data.append(filtrar)\n",
      "/tmp/ipykernel_14623/2862899226.py:9: FutureWarning: The frame.append method is deprecated and will be removed from pandas in a future version. Use pandas.concat instead.\n",
      "  filtrado_Data2=filtrado_Data2.append(filtrar2)\n",
      "/tmp/ipykernel_14623/2862899226.py:8: FutureWarning: The frame.append method is deprecated and will be removed from pandas in a future version. Use pandas.concat instead.\n",
      "  filtrado_Data=filtrado_Data.append(filtrar)\n",
      "/tmp/ipykernel_14623/2862899226.py:9: FutureWarning: The frame.append method is deprecated and will be removed from pandas in a future version. Use pandas.concat instead.\n",
      "  filtrado_Data2=filtrado_Data2.append(filtrar2)\n",
      "/tmp/ipykernel_14623/2862899226.py:8: FutureWarning: The frame.append method is deprecated and will be removed from pandas in a future version. Use pandas.concat instead.\n",
      "  filtrado_Data=filtrado_Data.append(filtrar)\n",
      "/tmp/ipykernel_14623/2862899226.py:9: FutureWarning: The frame.append method is deprecated and will be removed from pandas in a future version. Use pandas.concat instead.\n",
      "  filtrado_Data2=filtrado_Data2.append(filtrar2)\n"
     ]
    },
    {
     "name": "stderr",
     "output_type": "stream",
     "text": [
      "/tmp/ipykernel_14623/2862899226.py:8: FutureWarning: The frame.append method is deprecated and will be removed from pandas in a future version. Use pandas.concat instead.\n",
      "  filtrado_Data=filtrado_Data.append(filtrar)\n",
      "/tmp/ipykernel_14623/2862899226.py:9: FutureWarning: The frame.append method is deprecated and will be removed from pandas in a future version. Use pandas.concat instead.\n",
      "  filtrado_Data2=filtrado_Data2.append(filtrar2)\n",
      "/tmp/ipykernel_14623/2862899226.py:8: FutureWarning: The frame.append method is deprecated and will be removed from pandas in a future version. Use pandas.concat instead.\n",
      "  filtrado_Data=filtrado_Data.append(filtrar)\n",
      "/tmp/ipykernel_14623/2862899226.py:9: FutureWarning: The frame.append method is deprecated and will be removed from pandas in a future version. Use pandas.concat instead.\n",
      "  filtrado_Data2=filtrado_Data2.append(filtrar2)\n",
      "/tmp/ipykernel_14623/2862899226.py:8: FutureWarning: The frame.append method is deprecated and will be removed from pandas in a future version. Use pandas.concat instead.\n",
      "  filtrado_Data=filtrado_Data.append(filtrar)\n",
      "/tmp/ipykernel_14623/2862899226.py:9: FutureWarning: The frame.append method is deprecated and will be removed from pandas in a future version. Use pandas.concat instead.\n",
      "  filtrado_Data2=filtrado_Data2.append(filtrar2)\n",
      "/tmp/ipykernel_14623/2862899226.py:8: FutureWarning: The frame.append method is deprecated and will be removed from pandas in a future version. Use pandas.concat instead.\n",
      "  filtrado_Data=filtrado_Data.append(filtrar)\n",
      "/tmp/ipykernel_14623/2862899226.py:9: FutureWarning: The frame.append method is deprecated and will be removed from pandas in a future version. Use pandas.concat instead.\n",
      "  filtrado_Data2=filtrado_Data2.append(filtrar2)\n",
      "/tmp/ipykernel_14623/2862899226.py:8: FutureWarning: The frame.append method is deprecated and will be removed from pandas in a future version. Use pandas.concat instead.\n",
      "  filtrado_Data=filtrado_Data.append(filtrar)\n",
      "/tmp/ipykernel_14623/2862899226.py:9: FutureWarning: The frame.append method is deprecated and will be removed from pandas in a future version. Use pandas.concat instead.\n",
      "  filtrado_Data2=filtrado_Data2.append(filtrar2)\n",
      "/tmp/ipykernel_14623/2862899226.py:8: FutureWarning: The frame.append method is deprecated and will be removed from pandas in a future version. Use pandas.concat instead.\n",
      "  filtrado_Data=filtrado_Data.append(filtrar)\n",
      "/tmp/ipykernel_14623/2862899226.py:9: FutureWarning: The frame.append method is deprecated and will be removed from pandas in a future version. Use pandas.concat instead.\n",
      "  filtrado_Data2=filtrado_Data2.append(filtrar2)\n",
      "/tmp/ipykernel_14623/2862899226.py:8: FutureWarning: The frame.append method is deprecated and will be removed from pandas in a future version. Use pandas.concat instead.\n",
      "  filtrado_Data=filtrado_Data.append(filtrar)\n",
      "/tmp/ipykernel_14623/2862899226.py:9: FutureWarning: The frame.append method is deprecated and will be removed from pandas in a future version. Use pandas.concat instead.\n",
      "  filtrado_Data2=filtrado_Data2.append(filtrar2)\n",
      "/tmp/ipykernel_14623/2862899226.py:8: FutureWarning: The frame.append method is deprecated and will be removed from pandas in a future version. Use pandas.concat instead.\n",
      "  filtrado_Data=filtrado_Data.append(filtrar)\n",
      "/tmp/ipykernel_14623/2862899226.py:9: FutureWarning: The frame.append method is deprecated and will be removed from pandas in a future version. Use pandas.concat instead.\n",
      "  filtrado_Data2=filtrado_Data2.append(filtrar2)\n",
      "/tmp/ipykernel_14623/2862899226.py:8: FutureWarning: The frame.append method is deprecated and will be removed from pandas in a future version. Use pandas.concat instead.\n",
      "  filtrado_Data=filtrado_Data.append(filtrar)\n",
      "/tmp/ipykernel_14623/2862899226.py:9: FutureWarning: The frame.append method is deprecated and will be removed from pandas in a future version. Use pandas.concat instead.\n",
      "  filtrado_Data2=filtrado_Data2.append(filtrar2)\n",
      "/tmp/ipykernel_14623/2862899226.py:8: FutureWarning: The frame.append method is deprecated and will be removed from pandas in a future version. Use pandas.concat instead.\n",
      "  filtrado_Data=filtrado_Data.append(filtrar)\n",
      "/tmp/ipykernel_14623/2862899226.py:9: FutureWarning: The frame.append method is deprecated and will be removed from pandas in a future version. Use pandas.concat instead.\n",
      "  filtrado_Data2=filtrado_Data2.append(filtrar2)\n",
      "/tmp/ipykernel_14623/2862899226.py:8: FutureWarning: The frame.append method is deprecated and will be removed from pandas in a future version. Use pandas.concat instead.\n",
      "  filtrado_Data=filtrado_Data.append(filtrar)\n",
      "/tmp/ipykernel_14623/2862899226.py:9: FutureWarning: The frame.append method is deprecated and will be removed from pandas in a future version. Use pandas.concat instead.\n",
      "  filtrado_Data2=filtrado_Data2.append(filtrar2)\n",
      "/tmp/ipykernel_14623/2862899226.py:8: FutureWarning: The frame.append method is deprecated and will be removed from pandas in a future version. Use pandas.concat instead.\n",
      "  filtrado_Data=filtrado_Data.append(filtrar)\n",
      "/tmp/ipykernel_14623/2862899226.py:9: FutureWarning: The frame.append method is deprecated and will be removed from pandas in a future version. Use pandas.concat instead.\n",
      "  filtrado_Data2=filtrado_Data2.append(filtrar2)\n",
      "/tmp/ipykernel_14623/2862899226.py:8: FutureWarning: The frame.append method is deprecated and will be removed from pandas in a future version. Use pandas.concat instead.\n",
      "  filtrado_Data=filtrado_Data.append(filtrar)\n",
      "/tmp/ipykernel_14623/2862899226.py:9: FutureWarning: The frame.append method is deprecated and will be removed from pandas in a future version. Use pandas.concat instead.\n",
      "  filtrado_Data2=filtrado_Data2.append(filtrar2)\n",
      "/tmp/ipykernel_14623/2862899226.py:8: FutureWarning: The frame.append method is deprecated and will be removed from pandas in a future version. Use pandas.concat instead.\n",
      "  filtrado_Data=filtrado_Data.append(filtrar)\n",
      "/tmp/ipykernel_14623/2862899226.py:9: FutureWarning: The frame.append method is deprecated and will be removed from pandas in a future version. Use pandas.concat instead.\n",
      "  filtrado_Data2=filtrado_Data2.append(filtrar2)\n",
      "/tmp/ipykernel_14623/2862899226.py:8: FutureWarning: The frame.append method is deprecated and will be removed from pandas in a future version. Use pandas.concat instead.\n",
      "  filtrado_Data=filtrado_Data.append(filtrar)\n",
      "/tmp/ipykernel_14623/2862899226.py:9: FutureWarning: The frame.append method is deprecated and will be removed from pandas in a future version. Use pandas.concat instead.\n",
      "  filtrado_Data2=filtrado_Data2.append(filtrar2)\n",
      "/tmp/ipykernel_14623/2862899226.py:8: FutureWarning: The frame.append method is deprecated and will be removed from pandas in a future version. Use pandas.concat instead.\n",
      "  filtrado_Data=filtrado_Data.append(filtrar)\n",
      "/tmp/ipykernel_14623/2862899226.py:9: FutureWarning: The frame.append method is deprecated and will be removed from pandas in a future version. Use pandas.concat instead.\n",
      "  filtrado_Data2=filtrado_Data2.append(filtrar2)\n",
      "/tmp/ipykernel_14623/2862899226.py:8: FutureWarning: The frame.append method is deprecated and will be removed from pandas in a future version. Use pandas.concat instead.\n",
      "  filtrado_Data=filtrado_Data.append(filtrar)\n",
      "/tmp/ipykernel_14623/2862899226.py:9: FutureWarning: The frame.append method is deprecated and will be removed from pandas in a future version. Use pandas.concat instead.\n",
      "  filtrado_Data2=filtrado_Data2.append(filtrar2)\n",
      "/tmp/ipykernel_14623/2862899226.py:8: FutureWarning: The frame.append method is deprecated and will be removed from pandas in a future version. Use pandas.concat instead.\n",
      "  filtrado_Data=filtrado_Data.append(filtrar)\n",
      "/tmp/ipykernel_14623/2862899226.py:9: FutureWarning: The frame.append method is deprecated and will be removed from pandas in a future version. Use pandas.concat instead.\n",
      "  filtrado_Data2=filtrado_Data2.append(filtrar2)\n",
      "/tmp/ipykernel_14623/2862899226.py:8: FutureWarning: The frame.append method is deprecated and will be removed from pandas in a future version. Use pandas.concat instead.\n",
      "  filtrado_Data=filtrado_Data.append(filtrar)\n",
      "/tmp/ipykernel_14623/2862899226.py:9: FutureWarning: The frame.append method is deprecated and will be removed from pandas in a future version. Use pandas.concat instead.\n",
      "  filtrado_Data2=filtrado_Data2.append(filtrar2)\n"
     ]
    },
    {
     "name": "stderr",
     "output_type": "stream",
     "text": [
      "/tmp/ipykernel_14623/2862899226.py:8: FutureWarning: The frame.append method is deprecated and will be removed from pandas in a future version. Use pandas.concat instead.\n",
      "  filtrado_Data=filtrado_Data.append(filtrar)\n",
      "/tmp/ipykernel_14623/2862899226.py:9: FutureWarning: The frame.append method is deprecated and will be removed from pandas in a future version. Use pandas.concat instead.\n",
      "  filtrado_Data2=filtrado_Data2.append(filtrar2)\n",
      "/tmp/ipykernel_14623/2862899226.py:8: FutureWarning: The frame.append method is deprecated and will be removed from pandas in a future version. Use pandas.concat instead.\n",
      "  filtrado_Data=filtrado_Data.append(filtrar)\n",
      "/tmp/ipykernel_14623/2862899226.py:9: FutureWarning: The frame.append method is deprecated and will be removed from pandas in a future version. Use pandas.concat instead.\n",
      "  filtrado_Data2=filtrado_Data2.append(filtrar2)\n",
      "/tmp/ipykernel_14623/2862899226.py:8: FutureWarning: The frame.append method is deprecated and will be removed from pandas in a future version. Use pandas.concat instead.\n",
      "  filtrado_Data=filtrado_Data.append(filtrar)\n",
      "/tmp/ipykernel_14623/2862899226.py:9: FutureWarning: The frame.append method is deprecated and will be removed from pandas in a future version. Use pandas.concat instead.\n",
      "  filtrado_Data2=filtrado_Data2.append(filtrar2)\n",
      "/tmp/ipykernel_14623/2862899226.py:8: FutureWarning: The frame.append method is deprecated and will be removed from pandas in a future version. Use pandas.concat instead.\n",
      "  filtrado_Data=filtrado_Data.append(filtrar)\n",
      "/tmp/ipykernel_14623/2862899226.py:9: FutureWarning: The frame.append method is deprecated and will be removed from pandas in a future version. Use pandas.concat instead.\n",
      "  filtrado_Data2=filtrado_Data2.append(filtrar2)\n",
      "/tmp/ipykernel_14623/2862899226.py:8: FutureWarning: The frame.append method is deprecated and will be removed from pandas in a future version. Use pandas.concat instead.\n",
      "  filtrado_Data=filtrado_Data.append(filtrar)\n",
      "/tmp/ipykernel_14623/2862899226.py:9: FutureWarning: The frame.append method is deprecated and will be removed from pandas in a future version. Use pandas.concat instead.\n",
      "  filtrado_Data2=filtrado_Data2.append(filtrar2)\n",
      "/tmp/ipykernel_14623/2862899226.py:8: FutureWarning: The frame.append method is deprecated and will be removed from pandas in a future version. Use pandas.concat instead.\n",
      "  filtrado_Data=filtrado_Data.append(filtrar)\n",
      "/tmp/ipykernel_14623/2862899226.py:9: FutureWarning: The frame.append method is deprecated and will be removed from pandas in a future version. Use pandas.concat instead.\n",
      "  filtrado_Data2=filtrado_Data2.append(filtrar2)\n",
      "/tmp/ipykernel_14623/2862899226.py:8: FutureWarning: The frame.append method is deprecated and will be removed from pandas in a future version. Use pandas.concat instead.\n",
      "  filtrado_Data=filtrado_Data.append(filtrar)\n",
      "/tmp/ipykernel_14623/2862899226.py:9: FutureWarning: The frame.append method is deprecated and will be removed from pandas in a future version. Use pandas.concat instead.\n",
      "  filtrado_Data2=filtrado_Data2.append(filtrar2)\n",
      "/tmp/ipykernel_14623/2862899226.py:8: FutureWarning: The frame.append method is deprecated and will be removed from pandas in a future version. Use pandas.concat instead.\n",
      "  filtrado_Data=filtrado_Data.append(filtrar)\n",
      "/tmp/ipykernel_14623/2862899226.py:9: FutureWarning: The frame.append method is deprecated and will be removed from pandas in a future version. Use pandas.concat instead.\n",
      "  filtrado_Data2=filtrado_Data2.append(filtrar2)\n",
      "/tmp/ipykernel_14623/2862899226.py:8: FutureWarning: The frame.append method is deprecated and will be removed from pandas in a future version. Use pandas.concat instead.\n",
      "  filtrado_Data=filtrado_Data.append(filtrar)\n",
      "/tmp/ipykernel_14623/2862899226.py:9: FutureWarning: The frame.append method is deprecated and will be removed from pandas in a future version. Use pandas.concat instead.\n",
      "  filtrado_Data2=filtrado_Data2.append(filtrar2)\n",
      "/tmp/ipykernel_14623/2862899226.py:8: FutureWarning: The frame.append method is deprecated and will be removed from pandas in a future version. Use pandas.concat instead.\n",
      "  filtrado_Data=filtrado_Data.append(filtrar)\n",
      "/tmp/ipykernel_14623/2862899226.py:9: FutureWarning: The frame.append method is deprecated and will be removed from pandas in a future version. Use pandas.concat instead.\n",
      "  filtrado_Data2=filtrado_Data2.append(filtrar2)\n",
      "/tmp/ipykernel_14623/2862899226.py:8: FutureWarning: The frame.append method is deprecated and will be removed from pandas in a future version. Use pandas.concat instead.\n",
      "  filtrado_Data=filtrado_Data.append(filtrar)\n",
      "/tmp/ipykernel_14623/2862899226.py:9: FutureWarning: The frame.append method is deprecated and will be removed from pandas in a future version. Use pandas.concat instead.\n",
      "  filtrado_Data2=filtrado_Data2.append(filtrar2)\n",
      "/tmp/ipykernel_14623/2862899226.py:8: FutureWarning: The frame.append method is deprecated and will be removed from pandas in a future version. Use pandas.concat instead.\n",
      "  filtrado_Data=filtrado_Data.append(filtrar)\n",
      "/tmp/ipykernel_14623/2862899226.py:9: FutureWarning: The frame.append method is deprecated and will be removed from pandas in a future version. Use pandas.concat instead.\n",
      "  filtrado_Data2=filtrado_Data2.append(filtrar2)\n",
      "/tmp/ipykernel_14623/2862899226.py:8: FutureWarning: The frame.append method is deprecated and will be removed from pandas in a future version. Use pandas.concat instead.\n",
      "  filtrado_Data=filtrado_Data.append(filtrar)\n",
      "/tmp/ipykernel_14623/2862899226.py:9: FutureWarning: The frame.append method is deprecated and will be removed from pandas in a future version. Use pandas.concat instead.\n",
      "  filtrado_Data2=filtrado_Data2.append(filtrar2)\n",
      "/tmp/ipykernel_14623/2862899226.py:8: FutureWarning: The frame.append method is deprecated and will be removed from pandas in a future version. Use pandas.concat instead.\n",
      "  filtrado_Data=filtrado_Data.append(filtrar)\n",
      "/tmp/ipykernel_14623/2862899226.py:9: FutureWarning: The frame.append method is deprecated and will be removed from pandas in a future version. Use pandas.concat instead.\n",
      "  filtrado_Data2=filtrado_Data2.append(filtrar2)\n",
      "/tmp/ipykernel_14623/2862899226.py:8: FutureWarning: The frame.append method is deprecated and will be removed from pandas in a future version. Use pandas.concat instead.\n",
      "  filtrado_Data=filtrado_Data.append(filtrar)\n",
      "/tmp/ipykernel_14623/2862899226.py:9: FutureWarning: The frame.append method is deprecated and will be removed from pandas in a future version. Use pandas.concat instead.\n",
      "  filtrado_Data2=filtrado_Data2.append(filtrar2)\n",
      "/tmp/ipykernel_14623/2862899226.py:8: FutureWarning: The frame.append method is deprecated and will be removed from pandas in a future version. Use pandas.concat instead.\n",
      "  filtrado_Data=filtrado_Data.append(filtrar)\n",
      "/tmp/ipykernel_14623/2862899226.py:9: FutureWarning: The frame.append method is deprecated and will be removed from pandas in a future version. Use pandas.concat instead.\n",
      "  filtrado_Data2=filtrado_Data2.append(filtrar2)\n",
      "/tmp/ipykernel_14623/2862899226.py:8: FutureWarning: The frame.append method is deprecated and will be removed from pandas in a future version. Use pandas.concat instead.\n",
      "  filtrado_Data=filtrado_Data.append(filtrar)\n",
      "/tmp/ipykernel_14623/2862899226.py:9: FutureWarning: The frame.append method is deprecated and will be removed from pandas in a future version. Use pandas.concat instead.\n",
      "  filtrado_Data2=filtrado_Data2.append(filtrar2)\n",
      "/tmp/ipykernel_14623/2862899226.py:8: FutureWarning: The frame.append method is deprecated and will be removed from pandas in a future version. Use pandas.concat instead.\n",
      "  filtrado_Data=filtrado_Data.append(filtrar)\n",
      "/tmp/ipykernel_14623/2862899226.py:9: FutureWarning: The frame.append method is deprecated and will be removed from pandas in a future version. Use pandas.concat instead.\n",
      "  filtrado_Data2=filtrado_Data2.append(filtrar2)\n",
      "/tmp/ipykernel_14623/2862899226.py:8: FutureWarning: The frame.append method is deprecated and will be removed from pandas in a future version. Use pandas.concat instead.\n",
      "  filtrado_Data=filtrado_Data.append(filtrar)\n",
      "/tmp/ipykernel_14623/2862899226.py:9: FutureWarning: The frame.append method is deprecated and will be removed from pandas in a future version. Use pandas.concat instead.\n",
      "  filtrado_Data2=filtrado_Data2.append(filtrar2)\n"
     ]
    },
    {
     "name": "stderr",
     "output_type": "stream",
     "text": [
      "/tmp/ipykernel_14623/2862899226.py:8: FutureWarning: The frame.append method is deprecated and will be removed from pandas in a future version. Use pandas.concat instead.\n",
      "  filtrado_Data=filtrado_Data.append(filtrar)\n",
      "/tmp/ipykernel_14623/2862899226.py:9: FutureWarning: The frame.append method is deprecated and will be removed from pandas in a future version. Use pandas.concat instead.\n",
      "  filtrado_Data2=filtrado_Data2.append(filtrar2)\n",
      "/tmp/ipykernel_14623/2862899226.py:8: FutureWarning: The frame.append method is deprecated and will be removed from pandas in a future version. Use pandas.concat instead.\n",
      "  filtrado_Data=filtrado_Data.append(filtrar)\n",
      "/tmp/ipykernel_14623/2862899226.py:9: FutureWarning: The frame.append method is deprecated and will be removed from pandas in a future version. Use pandas.concat instead.\n",
      "  filtrado_Data2=filtrado_Data2.append(filtrar2)\n",
      "/tmp/ipykernel_14623/2862899226.py:8: FutureWarning: The frame.append method is deprecated and will be removed from pandas in a future version. Use pandas.concat instead.\n",
      "  filtrado_Data=filtrado_Data.append(filtrar)\n",
      "/tmp/ipykernel_14623/2862899226.py:9: FutureWarning: The frame.append method is deprecated and will be removed from pandas in a future version. Use pandas.concat instead.\n",
      "  filtrado_Data2=filtrado_Data2.append(filtrar2)\n",
      "/tmp/ipykernel_14623/2862899226.py:8: FutureWarning: The frame.append method is deprecated and will be removed from pandas in a future version. Use pandas.concat instead.\n",
      "  filtrado_Data=filtrado_Data.append(filtrar)\n",
      "/tmp/ipykernel_14623/2862899226.py:9: FutureWarning: The frame.append method is deprecated and will be removed from pandas in a future version. Use pandas.concat instead.\n",
      "  filtrado_Data2=filtrado_Data2.append(filtrar2)\n",
      "/tmp/ipykernel_14623/2862899226.py:8: FutureWarning: The frame.append method is deprecated and will be removed from pandas in a future version. Use pandas.concat instead.\n",
      "  filtrado_Data=filtrado_Data.append(filtrar)\n",
      "/tmp/ipykernel_14623/2862899226.py:9: FutureWarning: The frame.append method is deprecated and will be removed from pandas in a future version. Use pandas.concat instead.\n",
      "  filtrado_Data2=filtrado_Data2.append(filtrar2)\n",
      "/tmp/ipykernel_14623/2862899226.py:8: FutureWarning: The frame.append method is deprecated and will be removed from pandas in a future version. Use pandas.concat instead.\n",
      "  filtrado_Data=filtrado_Data.append(filtrar)\n",
      "/tmp/ipykernel_14623/2862899226.py:9: FutureWarning: The frame.append method is deprecated and will be removed from pandas in a future version. Use pandas.concat instead.\n",
      "  filtrado_Data2=filtrado_Data2.append(filtrar2)\n",
      "/tmp/ipykernel_14623/2862899226.py:8: FutureWarning: The frame.append method is deprecated and will be removed from pandas in a future version. Use pandas.concat instead.\n",
      "  filtrado_Data=filtrado_Data.append(filtrar)\n",
      "/tmp/ipykernel_14623/2862899226.py:9: FutureWarning: The frame.append method is deprecated and will be removed from pandas in a future version. Use pandas.concat instead.\n",
      "  filtrado_Data2=filtrado_Data2.append(filtrar2)\n",
      "/tmp/ipykernel_14623/2862899226.py:8: FutureWarning: The frame.append method is deprecated and will be removed from pandas in a future version. Use pandas.concat instead.\n",
      "  filtrado_Data=filtrado_Data.append(filtrar)\n",
      "/tmp/ipykernel_14623/2862899226.py:9: FutureWarning: The frame.append method is deprecated and will be removed from pandas in a future version. Use pandas.concat instead.\n",
      "  filtrado_Data2=filtrado_Data2.append(filtrar2)\n",
      "/tmp/ipykernel_14623/2862899226.py:8: FutureWarning: The frame.append method is deprecated and will be removed from pandas in a future version. Use pandas.concat instead.\n",
      "  filtrado_Data=filtrado_Data.append(filtrar)\n",
      "/tmp/ipykernel_14623/2862899226.py:9: FutureWarning: The frame.append method is deprecated and will be removed from pandas in a future version. Use pandas.concat instead.\n",
      "  filtrado_Data2=filtrado_Data2.append(filtrar2)\n",
      "/tmp/ipykernel_14623/2862899226.py:8: FutureWarning: The frame.append method is deprecated and will be removed from pandas in a future version. Use pandas.concat instead.\n",
      "  filtrado_Data=filtrado_Data.append(filtrar)\n",
      "/tmp/ipykernel_14623/2862899226.py:9: FutureWarning: The frame.append method is deprecated and will be removed from pandas in a future version. Use pandas.concat instead.\n",
      "  filtrado_Data2=filtrado_Data2.append(filtrar2)\n",
      "/tmp/ipykernel_14623/2862899226.py:8: FutureWarning: The frame.append method is deprecated and will be removed from pandas in a future version. Use pandas.concat instead.\n",
      "  filtrado_Data=filtrado_Data.append(filtrar)\n",
      "/tmp/ipykernel_14623/2862899226.py:9: FutureWarning: The frame.append method is deprecated and will be removed from pandas in a future version. Use pandas.concat instead.\n",
      "  filtrado_Data2=filtrado_Data2.append(filtrar2)\n",
      "/tmp/ipykernel_14623/2862899226.py:8: FutureWarning: The frame.append method is deprecated and will be removed from pandas in a future version. Use pandas.concat instead.\n",
      "  filtrado_Data=filtrado_Data.append(filtrar)\n",
      "/tmp/ipykernel_14623/2862899226.py:9: FutureWarning: The frame.append method is deprecated and will be removed from pandas in a future version. Use pandas.concat instead.\n",
      "  filtrado_Data2=filtrado_Data2.append(filtrar2)\n",
      "/tmp/ipykernel_14623/2862899226.py:8: FutureWarning: The frame.append method is deprecated and will be removed from pandas in a future version. Use pandas.concat instead.\n",
      "  filtrado_Data=filtrado_Data.append(filtrar)\n",
      "/tmp/ipykernel_14623/2862899226.py:9: FutureWarning: The frame.append method is deprecated and will be removed from pandas in a future version. Use pandas.concat instead.\n",
      "  filtrado_Data2=filtrado_Data2.append(filtrar2)\n",
      "/tmp/ipykernel_14623/2862899226.py:8: FutureWarning: The frame.append method is deprecated and will be removed from pandas in a future version. Use pandas.concat instead.\n",
      "  filtrado_Data=filtrado_Data.append(filtrar)\n",
      "/tmp/ipykernel_14623/2862899226.py:9: FutureWarning: The frame.append method is deprecated and will be removed from pandas in a future version. Use pandas.concat instead.\n",
      "  filtrado_Data2=filtrado_Data2.append(filtrar2)\n",
      "/tmp/ipykernel_14623/2862899226.py:8: FutureWarning: The frame.append method is deprecated and will be removed from pandas in a future version. Use pandas.concat instead.\n",
      "  filtrado_Data=filtrado_Data.append(filtrar)\n",
      "/tmp/ipykernel_14623/2862899226.py:9: FutureWarning: The frame.append method is deprecated and will be removed from pandas in a future version. Use pandas.concat instead.\n",
      "  filtrado_Data2=filtrado_Data2.append(filtrar2)\n",
      "/tmp/ipykernel_14623/2862899226.py:8: FutureWarning: The frame.append method is deprecated and will be removed from pandas in a future version. Use pandas.concat instead.\n",
      "  filtrado_Data=filtrado_Data.append(filtrar)\n",
      "/tmp/ipykernel_14623/2862899226.py:9: FutureWarning: The frame.append method is deprecated and will be removed from pandas in a future version. Use pandas.concat instead.\n",
      "  filtrado_Data2=filtrado_Data2.append(filtrar2)\n",
      "/tmp/ipykernel_14623/2862899226.py:8: FutureWarning: The frame.append method is deprecated and will be removed from pandas in a future version. Use pandas.concat instead.\n",
      "  filtrado_Data=filtrado_Data.append(filtrar)\n",
      "/tmp/ipykernel_14623/2862899226.py:9: FutureWarning: The frame.append method is deprecated and will be removed from pandas in a future version. Use pandas.concat instead.\n",
      "  filtrado_Data2=filtrado_Data2.append(filtrar2)\n",
      "/tmp/ipykernel_14623/2862899226.py:8: FutureWarning: The frame.append method is deprecated and will be removed from pandas in a future version. Use pandas.concat instead.\n",
      "  filtrado_Data=filtrado_Data.append(filtrar)\n",
      "/tmp/ipykernel_14623/2862899226.py:9: FutureWarning: The frame.append method is deprecated and will be removed from pandas in a future version. Use pandas.concat instead.\n",
      "  filtrado_Data2=filtrado_Data2.append(filtrar2)\n",
      "/tmp/ipykernel_14623/2862899226.py:8: FutureWarning: The frame.append method is deprecated and will be removed from pandas in a future version. Use pandas.concat instead.\n",
      "  filtrado_Data=filtrado_Data.append(filtrar)\n",
      "/tmp/ipykernel_14623/2862899226.py:9: FutureWarning: The frame.append method is deprecated and will be removed from pandas in a future version. Use pandas.concat instead.\n",
      "  filtrado_Data2=filtrado_Data2.append(filtrar2)\n"
     ]
    },
    {
     "name": "stderr",
     "output_type": "stream",
     "text": [
      "/tmp/ipykernel_14623/2862899226.py:8: FutureWarning: The frame.append method is deprecated and will be removed from pandas in a future version. Use pandas.concat instead.\n",
      "  filtrado_Data=filtrado_Data.append(filtrar)\n",
      "/tmp/ipykernel_14623/2862899226.py:9: FutureWarning: The frame.append method is deprecated and will be removed from pandas in a future version. Use pandas.concat instead.\n",
      "  filtrado_Data2=filtrado_Data2.append(filtrar2)\n",
      "/tmp/ipykernel_14623/2862899226.py:8: FutureWarning: The frame.append method is deprecated and will be removed from pandas in a future version. Use pandas.concat instead.\n",
      "  filtrado_Data=filtrado_Data.append(filtrar)\n",
      "/tmp/ipykernel_14623/2862899226.py:9: FutureWarning: The frame.append method is deprecated and will be removed from pandas in a future version. Use pandas.concat instead.\n",
      "  filtrado_Data2=filtrado_Data2.append(filtrar2)\n",
      "/tmp/ipykernel_14623/2862899226.py:8: FutureWarning: The frame.append method is deprecated and will be removed from pandas in a future version. Use pandas.concat instead.\n",
      "  filtrado_Data=filtrado_Data.append(filtrar)\n",
      "/tmp/ipykernel_14623/2862899226.py:9: FutureWarning: The frame.append method is deprecated and will be removed from pandas in a future version. Use pandas.concat instead.\n",
      "  filtrado_Data2=filtrado_Data2.append(filtrar2)\n",
      "/tmp/ipykernel_14623/2862899226.py:8: FutureWarning: The frame.append method is deprecated and will be removed from pandas in a future version. Use pandas.concat instead.\n",
      "  filtrado_Data=filtrado_Data.append(filtrar)\n",
      "/tmp/ipykernel_14623/2862899226.py:9: FutureWarning: The frame.append method is deprecated and will be removed from pandas in a future version. Use pandas.concat instead.\n",
      "  filtrado_Data2=filtrado_Data2.append(filtrar2)\n",
      "/tmp/ipykernel_14623/2862899226.py:8: FutureWarning: The frame.append method is deprecated and will be removed from pandas in a future version. Use pandas.concat instead.\n",
      "  filtrado_Data=filtrado_Data.append(filtrar)\n",
      "/tmp/ipykernel_14623/2862899226.py:9: FutureWarning: The frame.append method is deprecated and will be removed from pandas in a future version. Use pandas.concat instead.\n",
      "  filtrado_Data2=filtrado_Data2.append(filtrar2)\n",
      "/tmp/ipykernel_14623/2862899226.py:8: FutureWarning: The frame.append method is deprecated and will be removed from pandas in a future version. Use pandas.concat instead.\n",
      "  filtrado_Data=filtrado_Data.append(filtrar)\n",
      "/tmp/ipykernel_14623/2862899226.py:9: FutureWarning: The frame.append method is deprecated and will be removed from pandas in a future version. Use pandas.concat instead.\n",
      "  filtrado_Data2=filtrado_Data2.append(filtrar2)\n",
      "/tmp/ipykernel_14623/2862899226.py:8: FutureWarning: The frame.append method is deprecated and will be removed from pandas in a future version. Use pandas.concat instead.\n",
      "  filtrado_Data=filtrado_Data.append(filtrar)\n",
      "/tmp/ipykernel_14623/2862899226.py:9: FutureWarning: The frame.append method is deprecated and will be removed from pandas in a future version. Use pandas.concat instead.\n",
      "  filtrado_Data2=filtrado_Data2.append(filtrar2)\n",
      "/tmp/ipykernel_14623/2862899226.py:8: FutureWarning: The frame.append method is deprecated and will be removed from pandas in a future version. Use pandas.concat instead.\n",
      "  filtrado_Data=filtrado_Data.append(filtrar)\n",
      "/tmp/ipykernel_14623/2862899226.py:9: FutureWarning: The frame.append method is deprecated and will be removed from pandas in a future version. Use pandas.concat instead.\n",
      "  filtrado_Data2=filtrado_Data2.append(filtrar2)\n",
      "/tmp/ipykernel_14623/2862899226.py:8: FutureWarning: The frame.append method is deprecated and will be removed from pandas in a future version. Use pandas.concat instead.\n",
      "  filtrado_Data=filtrado_Data.append(filtrar)\n",
      "/tmp/ipykernel_14623/2862899226.py:9: FutureWarning: The frame.append method is deprecated and will be removed from pandas in a future version. Use pandas.concat instead.\n",
      "  filtrado_Data2=filtrado_Data2.append(filtrar2)\n",
      "/tmp/ipykernel_14623/2862899226.py:8: FutureWarning: The frame.append method is deprecated and will be removed from pandas in a future version. Use pandas.concat instead.\n",
      "  filtrado_Data=filtrado_Data.append(filtrar)\n",
      "/tmp/ipykernel_14623/2862899226.py:9: FutureWarning: The frame.append method is deprecated and will be removed from pandas in a future version. Use pandas.concat instead.\n",
      "  filtrado_Data2=filtrado_Data2.append(filtrar2)\n",
      "/tmp/ipykernel_14623/2862899226.py:8: FutureWarning: The frame.append method is deprecated and will be removed from pandas in a future version. Use pandas.concat instead.\n",
      "  filtrado_Data=filtrado_Data.append(filtrar)\n",
      "/tmp/ipykernel_14623/2862899226.py:9: FutureWarning: The frame.append method is deprecated and will be removed from pandas in a future version. Use pandas.concat instead.\n",
      "  filtrado_Data2=filtrado_Data2.append(filtrar2)\n",
      "/tmp/ipykernel_14623/2862899226.py:8: FutureWarning: The frame.append method is deprecated and will be removed from pandas in a future version. Use pandas.concat instead.\n",
      "  filtrado_Data=filtrado_Data.append(filtrar)\n",
      "/tmp/ipykernel_14623/2862899226.py:9: FutureWarning: The frame.append method is deprecated and will be removed from pandas in a future version. Use pandas.concat instead.\n",
      "  filtrado_Data2=filtrado_Data2.append(filtrar2)\n",
      "/tmp/ipykernel_14623/2862899226.py:8: FutureWarning: The frame.append method is deprecated and will be removed from pandas in a future version. Use pandas.concat instead.\n",
      "  filtrado_Data=filtrado_Data.append(filtrar)\n",
      "/tmp/ipykernel_14623/2862899226.py:9: FutureWarning: The frame.append method is deprecated and will be removed from pandas in a future version. Use pandas.concat instead.\n",
      "  filtrado_Data2=filtrado_Data2.append(filtrar2)\n",
      "/tmp/ipykernel_14623/2862899226.py:8: FutureWarning: The frame.append method is deprecated and will be removed from pandas in a future version. Use pandas.concat instead.\n",
      "  filtrado_Data=filtrado_Data.append(filtrar)\n",
      "/tmp/ipykernel_14623/2862899226.py:9: FutureWarning: The frame.append method is deprecated and will be removed from pandas in a future version. Use pandas.concat instead.\n",
      "  filtrado_Data2=filtrado_Data2.append(filtrar2)\n",
      "/tmp/ipykernel_14623/2862899226.py:8: FutureWarning: The frame.append method is deprecated and will be removed from pandas in a future version. Use pandas.concat instead.\n",
      "  filtrado_Data=filtrado_Data.append(filtrar)\n",
      "/tmp/ipykernel_14623/2862899226.py:9: FutureWarning: The frame.append method is deprecated and will be removed from pandas in a future version. Use pandas.concat instead.\n",
      "  filtrado_Data2=filtrado_Data2.append(filtrar2)\n",
      "/tmp/ipykernel_14623/2862899226.py:8: FutureWarning: The frame.append method is deprecated and will be removed from pandas in a future version. Use pandas.concat instead.\n",
      "  filtrado_Data=filtrado_Data.append(filtrar)\n",
      "/tmp/ipykernel_14623/2862899226.py:9: FutureWarning: The frame.append method is deprecated and will be removed from pandas in a future version. Use pandas.concat instead.\n",
      "  filtrado_Data2=filtrado_Data2.append(filtrar2)\n",
      "/tmp/ipykernel_14623/2862899226.py:8: FutureWarning: The frame.append method is deprecated and will be removed from pandas in a future version. Use pandas.concat instead.\n",
      "  filtrado_Data=filtrado_Data.append(filtrar)\n",
      "/tmp/ipykernel_14623/2862899226.py:9: FutureWarning: The frame.append method is deprecated and will be removed from pandas in a future version. Use pandas.concat instead.\n",
      "  filtrado_Data2=filtrado_Data2.append(filtrar2)\n",
      "/tmp/ipykernel_14623/2862899226.py:8: FutureWarning: The frame.append method is deprecated and will be removed from pandas in a future version. Use pandas.concat instead.\n",
      "  filtrado_Data=filtrado_Data.append(filtrar)\n",
      "/tmp/ipykernel_14623/2862899226.py:9: FutureWarning: The frame.append method is deprecated and will be removed from pandas in a future version. Use pandas.concat instead.\n",
      "  filtrado_Data2=filtrado_Data2.append(filtrar2)\n",
      "/tmp/ipykernel_14623/2862899226.py:8: FutureWarning: The frame.append method is deprecated and will be removed from pandas in a future version. Use pandas.concat instead.\n",
      "  filtrado_Data=filtrado_Data.append(filtrar)\n",
      "/tmp/ipykernel_14623/2862899226.py:9: FutureWarning: The frame.append method is deprecated and will be removed from pandas in a future version. Use pandas.concat instead.\n",
      "  filtrado_Data2=filtrado_Data2.append(filtrar2)\n"
     ]
    },
    {
     "name": "stderr",
     "output_type": "stream",
     "text": [
      "/tmp/ipykernel_14623/2862899226.py:8: FutureWarning: The frame.append method is deprecated and will be removed from pandas in a future version. Use pandas.concat instead.\n",
      "  filtrado_Data=filtrado_Data.append(filtrar)\n",
      "/tmp/ipykernel_14623/2862899226.py:9: FutureWarning: The frame.append method is deprecated and will be removed from pandas in a future version. Use pandas.concat instead.\n",
      "  filtrado_Data2=filtrado_Data2.append(filtrar2)\n",
      "/tmp/ipykernel_14623/2862899226.py:8: FutureWarning: The frame.append method is deprecated and will be removed from pandas in a future version. Use pandas.concat instead.\n",
      "  filtrado_Data=filtrado_Data.append(filtrar)\n",
      "/tmp/ipykernel_14623/2862899226.py:9: FutureWarning: The frame.append method is deprecated and will be removed from pandas in a future version. Use pandas.concat instead.\n",
      "  filtrado_Data2=filtrado_Data2.append(filtrar2)\n",
      "/tmp/ipykernel_14623/2862899226.py:8: FutureWarning: The frame.append method is deprecated and will be removed from pandas in a future version. Use pandas.concat instead.\n",
      "  filtrado_Data=filtrado_Data.append(filtrar)\n",
      "/tmp/ipykernel_14623/2862899226.py:9: FutureWarning: The frame.append method is deprecated and will be removed from pandas in a future version. Use pandas.concat instead.\n",
      "  filtrado_Data2=filtrado_Data2.append(filtrar2)\n",
      "/tmp/ipykernel_14623/2862899226.py:8: FutureWarning: The frame.append method is deprecated and will be removed from pandas in a future version. Use pandas.concat instead.\n",
      "  filtrado_Data=filtrado_Data.append(filtrar)\n",
      "/tmp/ipykernel_14623/2862899226.py:9: FutureWarning: The frame.append method is deprecated and will be removed from pandas in a future version. Use pandas.concat instead.\n",
      "  filtrado_Data2=filtrado_Data2.append(filtrar2)\n",
      "/tmp/ipykernel_14623/2862899226.py:8: FutureWarning: The frame.append method is deprecated and will be removed from pandas in a future version. Use pandas.concat instead.\n",
      "  filtrado_Data=filtrado_Data.append(filtrar)\n",
      "/tmp/ipykernel_14623/2862899226.py:9: FutureWarning: The frame.append method is deprecated and will be removed from pandas in a future version. Use pandas.concat instead.\n",
      "  filtrado_Data2=filtrado_Data2.append(filtrar2)\n",
      "/tmp/ipykernel_14623/2862899226.py:8: FutureWarning: The frame.append method is deprecated and will be removed from pandas in a future version. Use pandas.concat instead.\n",
      "  filtrado_Data=filtrado_Data.append(filtrar)\n",
      "/tmp/ipykernel_14623/2862899226.py:9: FutureWarning: The frame.append method is deprecated and will be removed from pandas in a future version. Use pandas.concat instead.\n",
      "  filtrado_Data2=filtrado_Data2.append(filtrar2)\n",
      "/tmp/ipykernel_14623/2862899226.py:8: FutureWarning: The frame.append method is deprecated and will be removed from pandas in a future version. Use pandas.concat instead.\n",
      "  filtrado_Data=filtrado_Data.append(filtrar)\n",
      "/tmp/ipykernel_14623/2862899226.py:9: FutureWarning: The frame.append method is deprecated and will be removed from pandas in a future version. Use pandas.concat instead.\n",
      "  filtrado_Data2=filtrado_Data2.append(filtrar2)\n",
      "/tmp/ipykernel_14623/2862899226.py:8: FutureWarning: The frame.append method is deprecated and will be removed from pandas in a future version. Use pandas.concat instead.\n",
      "  filtrado_Data=filtrado_Data.append(filtrar)\n",
      "/tmp/ipykernel_14623/2862899226.py:9: FutureWarning: The frame.append method is deprecated and will be removed from pandas in a future version. Use pandas.concat instead.\n",
      "  filtrado_Data2=filtrado_Data2.append(filtrar2)\n",
      "/tmp/ipykernel_14623/2862899226.py:8: FutureWarning: The frame.append method is deprecated and will be removed from pandas in a future version. Use pandas.concat instead.\n",
      "  filtrado_Data=filtrado_Data.append(filtrar)\n",
      "/tmp/ipykernel_14623/2862899226.py:9: FutureWarning: The frame.append method is deprecated and will be removed from pandas in a future version. Use pandas.concat instead.\n",
      "  filtrado_Data2=filtrado_Data2.append(filtrar2)\n",
      "/tmp/ipykernel_14623/2862899226.py:8: FutureWarning: The frame.append method is deprecated and will be removed from pandas in a future version. Use pandas.concat instead.\n",
      "  filtrado_Data=filtrado_Data.append(filtrar)\n",
      "/tmp/ipykernel_14623/2862899226.py:9: FutureWarning: The frame.append method is deprecated and will be removed from pandas in a future version. Use pandas.concat instead.\n",
      "  filtrado_Data2=filtrado_Data2.append(filtrar2)\n",
      "/tmp/ipykernel_14623/2862899226.py:8: FutureWarning: The frame.append method is deprecated and will be removed from pandas in a future version. Use pandas.concat instead.\n",
      "  filtrado_Data=filtrado_Data.append(filtrar)\n",
      "/tmp/ipykernel_14623/2862899226.py:9: FutureWarning: The frame.append method is deprecated and will be removed from pandas in a future version. Use pandas.concat instead.\n",
      "  filtrado_Data2=filtrado_Data2.append(filtrar2)\n",
      "/tmp/ipykernel_14623/2862899226.py:8: FutureWarning: The frame.append method is deprecated and will be removed from pandas in a future version. Use pandas.concat instead.\n",
      "  filtrado_Data=filtrado_Data.append(filtrar)\n",
      "/tmp/ipykernel_14623/2862899226.py:9: FutureWarning: The frame.append method is deprecated and will be removed from pandas in a future version. Use pandas.concat instead.\n",
      "  filtrado_Data2=filtrado_Data2.append(filtrar2)\n",
      "/tmp/ipykernel_14623/2862899226.py:8: FutureWarning: The frame.append method is deprecated and will be removed from pandas in a future version. Use pandas.concat instead.\n",
      "  filtrado_Data=filtrado_Data.append(filtrar)\n",
      "/tmp/ipykernel_14623/2862899226.py:9: FutureWarning: The frame.append method is deprecated and will be removed from pandas in a future version. Use pandas.concat instead.\n",
      "  filtrado_Data2=filtrado_Data2.append(filtrar2)\n",
      "/tmp/ipykernel_14623/2862899226.py:8: FutureWarning: The frame.append method is deprecated and will be removed from pandas in a future version. Use pandas.concat instead.\n",
      "  filtrado_Data=filtrado_Data.append(filtrar)\n",
      "/tmp/ipykernel_14623/2862899226.py:9: FutureWarning: The frame.append method is deprecated and will be removed from pandas in a future version. Use pandas.concat instead.\n",
      "  filtrado_Data2=filtrado_Data2.append(filtrar2)\n",
      "/tmp/ipykernel_14623/2862899226.py:8: FutureWarning: The frame.append method is deprecated and will be removed from pandas in a future version. Use pandas.concat instead.\n",
      "  filtrado_Data=filtrado_Data.append(filtrar)\n",
      "/tmp/ipykernel_14623/2862899226.py:9: FutureWarning: The frame.append method is deprecated and will be removed from pandas in a future version. Use pandas.concat instead.\n",
      "  filtrado_Data2=filtrado_Data2.append(filtrar2)\n",
      "/tmp/ipykernel_14623/2862899226.py:8: FutureWarning: The frame.append method is deprecated and will be removed from pandas in a future version. Use pandas.concat instead.\n",
      "  filtrado_Data=filtrado_Data.append(filtrar)\n",
      "/tmp/ipykernel_14623/2862899226.py:9: FutureWarning: The frame.append method is deprecated and will be removed from pandas in a future version. Use pandas.concat instead.\n",
      "  filtrado_Data2=filtrado_Data2.append(filtrar2)\n",
      "/tmp/ipykernel_14623/2862899226.py:8: FutureWarning: The frame.append method is deprecated and will be removed from pandas in a future version. Use pandas.concat instead.\n",
      "  filtrado_Data=filtrado_Data.append(filtrar)\n",
      "/tmp/ipykernel_14623/2862899226.py:9: FutureWarning: The frame.append method is deprecated and will be removed from pandas in a future version. Use pandas.concat instead.\n",
      "  filtrado_Data2=filtrado_Data2.append(filtrar2)\n",
      "/tmp/ipykernel_14623/2862899226.py:8: FutureWarning: The frame.append method is deprecated and will be removed from pandas in a future version. Use pandas.concat instead.\n",
      "  filtrado_Data=filtrado_Data.append(filtrar)\n",
      "/tmp/ipykernel_14623/2862899226.py:9: FutureWarning: The frame.append method is deprecated and will be removed from pandas in a future version. Use pandas.concat instead.\n",
      "  filtrado_Data2=filtrado_Data2.append(filtrar2)\n",
      "/tmp/ipykernel_14623/2862899226.py:8: FutureWarning: The frame.append method is deprecated and will be removed from pandas in a future version. Use pandas.concat instead.\n",
      "  filtrado_Data=filtrado_Data.append(filtrar)\n",
      "/tmp/ipykernel_14623/2862899226.py:9: FutureWarning: The frame.append method is deprecated and will be removed from pandas in a future version. Use pandas.concat instead.\n",
      "  filtrado_Data2=filtrado_Data2.append(filtrar2)\n"
     ]
    },
    {
     "name": "stderr",
     "output_type": "stream",
     "text": [
      "/tmp/ipykernel_14623/2862899226.py:8: FutureWarning: The frame.append method is deprecated and will be removed from pandas in a future version. Use pandas.concat instead.\n",
      "  filtrado_Data=filtrado_Data.append(filtrar)\n",
      "/tmp/ipykernel_14623/2862899226.py:9: FutureWarning: The frame.append method is deprecated and will be removed from pandas in a future version. Use pandas.concat instead.\n",
      "  filtrado_Data2=filtrado_Data2.append(filtrar2)\n",
      "/tmp/ipykernel_14623/2862899226.py:8: FutureWarning: The frame.append method is deprecated and will be removed from pandas in a future version. Use pandas.concat instead.\n",
      "  filtrado_Data=filtrado_Data.append(filtrar)\n",
      "/tmp/ipykernel_14623/2862899226.py:9: FutureWarning: The frame.append method is deprecated and will be removed from pandas in a future version. Use pandas.concat instead.\n",
      "  filtrado_Data2=filtrado_Data2.append(filtrar2)\n",
      "/tmp/ipykernel_14623/2862899226.py:8: FutureWarning: The frame.append method is deprecated and will be removed from pandas in a future version. Use pandas.concat instead.\n",
      "  filtrado_Data=filtrado_Data.append(filtrar)\n",
      "/tmp/ipykernel_14623/2862899226.py:9: FutureWarning: The frame.append method is deprecated and will be removed from pandas in a future version. Use pandas.concat instead.\n",
      "  filtrado_Data2=filtrado_Data2.append(filtrar2)\n",
      "/tmp/ipykernel_14623/2862899226.py:8: FutureWarning: The frame.append method is deprecated and will be removed from pandas in a future version. Use pandas.concat instead.\n",
      "  filtrado_Data=filtrado_Data.append(filtrar)\n",
      "/tmp/ipykernel_14623/2862899226.py:9: FutureWarning: The frame.append method is deprecated and will be removed from pandas in a future version. Use pandas.concat instead.\n",
      "  filtrado_Data2=filtrado_Data2.append(filtrar2)\n",
      "/tmp/ipykernel_14623/2862899226.py:8: FutureWarning: The frame.append method is deprecated and will be removed from pandas in a future version. Use pandas.concat instead.\n",
      "  filtrado_Data=filtrado_Data.append(filtrar)\n",
      "/tmp/ipykernel_14623/2862899226.py:9: FutureWarning: The frame.append method is deprecated and will be removed from pandas in a future version. Use pandas.concat instead.\n",
      "  filtrado_Data2=filtrado_Data2.append(filtrar2)\n",
      "/tmp/ipykernel_14623/2862899226.py:8: FutureWarning: The frame.append method is deprecated and will be removed from pandas in a future version. Use pandas.concat instead.\n",
      "  filtrado_Data=filtrado_Data.append(filtrar)\n",
      "/tmp/ipykernel_14623/2862899226.py:9: FutureWarning: The frame.append method is deprecated and will be removed from pandas in a future version. Use pandas.concat instead.\n",
      "  filtrado_Data2=filtrado_Data2.append(filtrar2)\n",
      "/tmp/ipykernel_14623/2862899226.py:8: FutureWarning: The frame.append method is deprecated and will be removed from pandas in a future version. Use pandas.concat instead.\n",
      "  filtrado_Data=filtrado_Data.append(filtrar)\n",
      "/tmp/ipykernel_14623/2862899226.py:9: FutureWarning: The frame.append method is deprecated and will be removed from pandas in a future version. Use pandas.concat instead.\n",
      "  filtrado_Data2=filtrado_Data2.append(filtrar2)\n",
      "/tmp/ipykernel_14623/2862899226.py:8: FutureWarning: The frame.append method is deprecated and will be removed from pandas in a future version. Use pandas.concat instead.\n",
      "  filtrado_Data=filtrado_Data.append(filtrar)\n",
      "/tmp/ipykernel_14623/2862899226.py:9: FutureWarning: The frame.append method is deprecated and will be removed from pandas in a future version. Use pandas.concat instead.\n",
      "  filtrado_Data2=filtrado_Data2.append(filtrar2)\n",
      "/tmp/ipykernel_14623/2862899226.py:8: FutureWarning: The frame.append method is deprecated and will be removed from pandas in a future version. Use pandas.concat instead.\n",
      "  filtrado_Data=filtrado_Data.append(filtrar)\n",
      "/tmp/ipykernel_14623/2862899226.py:9: FutureWarning: The frame.append method is deprecated and will be removed from pandas in a future version. Use pandas.concat instead.\n",
      "  filtrado_Data2=filtrado_Data2.append(filtrar2)\n",
      "/tmp/ipykernel_14623/2862899226.py:8: FutureWarning: The frame.append method is deprecated and will be removed from pandas in a future version. Use pandas.concat instead.\n",
      "  filtrado_Data=filtrado_Data.append(filtrar)\n",
      "/tmp/ipykernel_14623/2862899226.py:9: FutureWarning: The frame.append method is deprecated and will be removed from pandas in a future version. Use pandas.concat instead.\n",
      "  filtrado_Data2=filtrado_Data2.append(filtrar2)\n",
      "/tmp/ipykernel_14623/2862899226.py:8: FutureWarning: The frame.append method is deprecated and will be removed from pandas in a future version. Use pandas.concat instead.\n",
      "  filtrado_Data=filtrado_Data.append(filtrar)\n",
      "/tmp/ipykernel_14623/2862899226.py:9: FutureWarning: The frame.append method is deprecated and will be removed from pandas in a future version. Use pandas.concat instead.\n",
      "  filtrado_Data2=filtrado_Data2.append(filtrar2)\n",
      "/tmp/ipykernel_14623/2862899226.py:8: FutureWarning: The frame.append method is deprecated and will be removed from pandas in a future version. Use pandas.concat instead.\n",
      "  filtrado_Data=filtrado_Data.append(filtrar)\n",
      "/tmp/ipykernel_14623/2862899226.py:9: FutureWarning: The frame.append method is deprecated and will be removed from pandas in a future version. Use pandas.concat instead.\n",
      "  filtrado_Data2=filtrado_Data2.append(filtrar2)\n",
      "/tmp/ipykernel_14623/2862899226.py:8: FutureWarning: The frame.append method is deprecated and will be removed from pandas in a future version. Use pandas.concat instead.\n",
      "  filtrado_Data=filtrado_Data.append(filtrar)\n",
      "/tmp/ipykernel_14623/2862899226.py:9: FutureWarning: The frame.append method is deprecated and will be removed from pandas in a future version. Use pandas.concat instead.\n",
      "  filtrado_Data2=filtrado_Data2.append(filtrar2)\n",
      "/tmp/ipykernel_14623/2862899226.py:8: FutureWarning: The frame.append method is deprecated and will be removed from pandas in a future version. Use pandas.concat instead.\n",
      "  filtrado_Data=filtrado_Data.append(filtrar)\n",
      "/tmp/ipykernel_14623/2862899226.py:9: FutureWarning: The frame.append method is deprecated and will be removed from pandas in a future version. Use pandas.concat instead.\n",
      "  filtrado_Data2=filtrado_Data2.append(filtrar2)\n",
      "/tmp/ipykernel_14623/2862899226.py:8: FutureWarning: The frame.append method is deprecated and will be removed from pandas in a future version. Use pandas.concat instead.\n",
      "  filtrado_Data=filtrado_Data.append(filtrar)\n",
      "/tmp/ipykernel_14623/2862899226.py:9: FutureWarning: The frame.append method is deprecated and will be removed from pandas in a future version. Use pandas.concat instead.\n",
      "  filtrado_Data2=filtrado_Data2.append(filtrar2)\n",
      "/tmp/ipykernel_14623/2862899226.py:8: FutureWarning: The frame.append method is deprecated and will be removed from pandas in a future version. Use pandas.concat instead.\n",
      "  filtrado_Data=filtrado_Data.append(filtrar)\n",
      "/tmp/ipykernel_14623/2862899226.py:9: FutureWarning: The frame.append method is deprecated and will be removed from pandas in a future version. Use pandas.concat instead.\n",
      "  filtrado_Data2=filtrado_Data2.append(filtrar2)\n",
      "/tmp/ipykernel_14623/2862899226.py:8: FutureWarning: The frame.append method is deprecated and will be removed from pandas in a future version. Use pandas.concat instead.\n",
      "  filtrado_Data=filtrado_Data.append(filtrar)\n",
      "/tmp/ipykernel_14623/2862899226.py:9: FutureWarning: The frame.append method is deprecated and will be removed from pandas in a future version. Use pandas.concat instead.\n",
      "  filtrado_Data2=filtrado_Data2.append(filtrar2)\n",
      "/tmp/ipykernel_14623/2862899226.py:8: FutureWarning: The frame.append method is deprecated and will be removed from pandas in a future version. Use pandas.concat instead.\n",
      "  filtrado_Data=filtrado_Data.append(filtrar)\n",
      "/tmp/ipykernel_14623/2862899226.py:9: FutureWarning: The frame.append method is deprecated and will be removed from pandas in a future version. Use pandas.concat instead.\n",
      "  filtrado_Data2=filtrado_Data2.append(filtrar2)\n",
      "/tmp/ipykernel_14623/2862899226.py:8: FutureWarning: The frame.append method is deprecated and will be removed from pandas in a future version. Use pandas.concat instead.\n",
      "  filtrado_Data=filtrado_Data.append(filtrar)\n",
      "/tmp/ipykernel_14623/2862899226.py:9: FutureWarning: The frame.append method is deprecated and will be removed from pandas in a future version. Use pandas.concat instead.\n",
      "  filtrado_Data2=filtrado_Data2.append(filtrar2)\n"
     ]
    },
    {
     "name": "stderr",
     "output_type": "stream",
     "text": [
      "/tmp/ipykernel_14623/2862899226.py:8: FutureWarning: The frame.append method is deprecated and will be removed from pandas in a future version. Use pandas.concat instead.\n",
      "  filtrado_Data=filtrado_Data.append(filtrar)\n",
      "/tmp/ipykernel_14623/2862899226.py:9: FutureWarning: The frame.append method is deprecated and will be removed from pandas in a future version. Use pandas.concat instead.\n",
      "  filtrado_Data2=filtrado_Data2.append(filtrar2)\n",
      "/tmp/ipykernel_14623/2862899226.py:8: FutureWarning: The frame.append method is deprecated and will be removed from pandas in a future version. Use pandas.concat instead.\n",
      "  filtrado_Data=filtrado_Data.append(filtrar)\n",
      "/tmp/ipykernel_14623/2862899226.py:9: FutureWarning: The frame.append method is deprecated and will be removed from pandas in a future version. Use pandas.concat instead.\n",
      "  filtrado_Data2=filtrado_Data2.append(filtrar2)\n",
      "/tmp/ipykernel_14623/2862899226.py:8: FutureWarning: The frame.append method is deprecated and will be removed from pandas in a future version. Use pandas.concat instead.\n",
      "  filtrado_Data=filtrado_Data.append(filtrar)\n",
      "/tmp/ipykernel_14623/2862899226.py:9: FutureWarning: The frame.append method is deprecated and will be removed from pandas in a future version. Use pandas.concat instead.\n",
      "  filtrado_Data2=filtrado_Data2.append(filtrar2)\n",
      "/tmp/ipykernel_14623/2862899226.py:8: FutureWarning: The frame.append method is deprecated and will be removed from pandas in a future version. Use pandas.concat instead.\n",
      "  filtrado_Data=filtrado_Data.append(filtrar)\n",
      "/tmp/ipykernel_14623/2862899226.py:9: FutureWarning: The frame.append method is deprecated and will be removed from pandas in a future version. Use pandas.concat instead.\n",
      "  filtrado_Data2=filtrado_Data2.append(filtrar2)\n",
      "/tmp/ipykernel_14623/2862899226.py:8: FutureWarning: The frame.append method is deprecated and will be removed from pandas in a future version. Use pandas.concat instead.\n",
      "  filtrado_Data=filtrado_Data.append(filtrar)\n",
      "/tmp/ipykernel_14623/2862899226.py:9: FutureWarning: The frame.append method is deprecated and will be removed from pandas in a future version. Use pandas.concat instead.\n",
      "  filtrado_Data2=filtrado_Data2.append(filtrar2)\n",
      "/tmp/ipykernel_14623/2862899226.py:8: FutureWarning: The frame.append method is deprecated and will be removed from pandas in a future version. Use pandas.concat instead.\n",
      "  filtrado_Data=filtrado_Data.append(filtrar)\n",
      "/tmp/ipykernel_14623/2862899226.py:9: FutureWarning: The frame.append method is deprecated and will be removed from pandas in a future version. Use pandas.concat instead.\n",
      "  filtrado_Data2=filtrado_Data2.append(filtrar2)\n",
      "/tmp/ipykernel_14623/2862899226.py:8: FutureWarning: The frame.append method is deprecated and will be removed from pandas in a future version. Use pandas.concat instead.\n",
      "  filtrado_Data=filtrado_Data.append(filtrar)\n",
      "/tmp/ipykernel_14623/2862899226.py:9: FutureWarning: The frame.append method is deprecated and will be removed from pandas in a future version. Use pandas.concat instead.\n",
      "  filtrado_Data2=filtrado_Data2.append(filtrar2)\n",
      "/tmp/ipykernel_14623/2862899226.py:8: FutureWarning: The frame.append method is deprecated and will be removed from pandas in a future version. Use pandas.concat instead.\n",
      "  filtrado_Data=filtrado_Data.append(filtrar)\n",
      "/tmp/ipykernel_14623/2862899226.py:9: FutureWarning: The frame.append method is deprecated and will be removed from pandas in a future version. Use pandas.concat instead.\n",
      "  filtrado_Data2=filtrado_Data2.append(filtrar2)\n",
      "/tmp/ipykernel_14623/2862899226.py:8: FutureWarning: The frame.append method is deprecated and will be removed from pandas in a future version. Use pandas.concat instead.\n",
      "  filtrado_Data=filtrado_Data.append(filtrar)\n",
      "/tmp/ipykernel_14623/2862899226.py:9: FutureWarning: The frame.append method is deprecated and will be removed from pandas in a future version. Use pandas.concat instead.\n",
      "  filtrado_Data2=filtrado_Data2.append(filtrar2)\n",
      "/tmp/ipykernel_14623/2862899226.py:8: FutureWarning: The frame.append method is deprecated and will be removed from pandas in a future version. Use pandas.concat instead.\n",
      "  filtrado_Data=filtrado_Data.append(filtrar)\n",
      "/tmp/ipykernel_14623/2862899226.py:9: FutureWarning: The frame.append method is deprecated and will be removed from pandas in a future version. Use pandas.concat instead.\n",
      "  filtrado_Data2=filtrado_Data2.append(filtrar2)\n",
      "/tmp/ipykernel_14623/2862899226.py:8: FutureWarning: The frame.append method is deprecated and will be removed from pandas in a future version. Use pandas.concat instead.\n",
      "  filtrado_Data=filtrado_Data.append(filtrar)\n",
      "/tmp/ipykernel_14623/2862899226.py:9: FutureWarning: The frame.append method is deprecated and will be removed from pandas in a future version. Use pandas.concat instead.\n",
      "  filtrado_Data2=filtrado_Data2.append(filtrar2)\n",
      "/tmp/ipykernel_14623/2862899226.py:8: FutureWarning: The frame.append method is deprecated and will be removed from pandas in a future version. Use pandas.concat instead.\n",
      "  filtrado_Data=filtrado_Data.append(filtrar)\n",
      "/tmp/ipykernel_14623/2862899226.py:9: FutureWarning: The frame.append method is deprecated and will be removed from pandas in a future version. Use pandas.concat instead.\n",
      "  filtrado_Data2=filtrado_Data2.append(filtrar2)\n",
      "/tmp/ipykernel_14623/2862899226.py:8: FutureWarning: The frame.append method is deprecated and will be removed from pandas in a future version. Use pandas.concat instead.\n",
      "  filtrado_Data=filtrado_Data.append(filtrar)\n",
      "/tmp/ipykernel_14623/2862899226.py:9: FutureWarning: The frame.append method is deprecated and will be removed from pandas in a future version. Use pandas.concat instead.\n",
      "  filtrado_Data2=filtrado_Data2.append(filtrar2)\n",
      "/tmp/ipykernel_14623/2862899226.py:8: FutureWarning: The frame.append method is deprecated and will be removed from pandas in a future version. Use pandas.concat instead.\n",
      "  filtrado_Data=filtrado_Data.append(filtrar)\n",
      "/tmp/ipykernel_14623/2862899226.py:9: FutureWarning: The frame.append method is deprecated and will be removed from pandas in a future version. Use pandas.concat instead.\n",
      "  filtrado_Data2=filtrado_Data2.append(filtrar2)\n",
      "/tmp/ipykernel_14623/2862899226.py:8: FutureWarning: The frame.append method is deprecated and will be removed from pandas in a future version. Use pandas.concat instead.\n",
      "  filtrado_Data=filtrado_Data.append(filtrar)\n",
      "/tmp/ipykernel_14623/2862899226.py:9: FutureWarning: The frame.append method is deprecated and will be removed from pandas in a future version. Use pandas.concat instead.\n",
      "  filtrado_Data2=filtrado_Data2.append(filtrar2)\n",
      "/tmp/ipykernel_14623/2862899226.py:8: FutureWarning: The frame.append method is deprecated and will be removed from pandas in a future version. Use pandas.concat instead.\n",
      "  filtrado_Data=filtrado_Data.append(filtrar)\n",
      "/tmp/ipykernel_14623/2862899226.py:9: FutureWarning: The frame.append method is deprecated and will be removed from pandas in a future version. Use pandas.concat instead.\n",
      "  filtrado_Data2=filtrado_Data2.append(filtrar2)\n",
      "/tmp/ipykernel_14623/2862899226.py:8: FutureWarning: The frame.append method is deprecated and will be removed from pandas in a future version. Use pandas.concat instead.\n",
      "  filtrado_Data=filtrado_Data.append(filtrar)\n",
      "/tmp/ipykernel_14623/2862899226.py:9: FutureWarning: The frame.append method is deprecated and will be removed from pandas in a future version. Use pandas.concat instead.\n",
      "  filtrado_Data2=filtrado_Data2.append(filtrar2)\n",
      "/tmp/ipykernel_14623/2862899226.py:8: FutureWarning: The frame.append method is deprecated and will be removed from pandas in a future version. Use pandas.concat instead.\n",
      "  filtrado_Data=filtrado_Data.append(filtrar)\n",
      "/tmp/ipykernel_14623/2862899226.py:9: FutureWarning: The frame.append method is deprecated and will be removed from pandas in a future version. Use pandas.concat instead.\n",
      "  filtrado_Data2=filtrado_Data2.append(filtrar2)\n",
      "/tmp/ipykernel_14623/2862899226.py:8: FutureWarning: The frame.append method is deprecated and will be removed from pandas in a future version. Use pandas.concat instead.\n",
      "  filtrado_Data=filtrado_Data.append(filtrar)\n",
      "/tmp/ipykernel_14623/2862899226.py:9: FutureWarning: The frame.append method is deprecated and will be removed from pandas in a future version. Use pandas.concat instead.\n",
      "  filtrado_Data2=filtrado_Data2.append(filtrar2)\n"
     ]
    },
    {
     "name": "stderr",
     "output_type": "stream",
     "text": [
      "/tmp/ipykernel_14623/2862899226.py:8: FutureWarning: The frame.append method is deprecated and will be removed from pandas in a future version. Use pandas.concat instead.\n",
      "  filtrado_Data=filtrado_Data.append(filtrar)\n",
      "/tmp/ipykernel_14623/2862899226.py:9: FutureWarning: The frame.append method is deprecated and will be removed from pandas in a future version. Use pandas.concat instead.\n",
      "  filtrado_Data2=filtrado_Data2.append(filtrar2)\n",
      "/tmp/ipykernel_14623/2862899226.py:8: FutureWarning: The frame.append method is deprecated and will be removed from pandas in a future version. Use pandas.concat instead.\n",
      "  filtrado_Data=filtrado_Data.append(filtrar)\n",
      "/tmp/ipykernel_14623/2862899226.py:9: FutureWarning: The frame.append method is deprecated and will be removed from pandas in a future version. Use pandas.concat instead.\n",
      "  filtrado_Data2=filtrado_Data2.append(filtrar2)\n",
      "/tmp/ipykernel_14623/2862899226.py:8: FutureWarning: The frame.append method is deprecated and will be removed from pandas in a future version. Use pandas.concat instead.\n",
      "  filtrado_Data=filtrado_Data.append(filtrar)\n",
      "/tmp/ipykernel_14623/2862899226.py:9: FutureWarning: The frame.append method is deprecated and will be removed from pandas in a future version. Use pandas.concat instead.\n",
      "  filtrado_Data2=filtrado_Data2.append(filtrar2)\n",
      "/tmp/ipykernel_14623/2862899226.py:8: FutureWarning: The frame.append method is deprecated and will be removed from pandas in a future version. Use pandas.concat instead.\n",
      "  filtrado_Data=filtrado_Data.append(filtrar)\n",
      "/tmp/ipykernel_14623/2862899226.py:9: FutureWarning: The frame.append method is deprecated and will be removed from pandas in a future version. Use pandas.concat instead.\n",
      "  filtrado_Data2=filtrado_Data2.append(filtrar2)\n",
      "/tmp/ipykernel_14623/2862899226.py:8: FutureWarning: The frame.append method is deprecated and will be removed from pandas in a future version. Use pandas.concat instead.\n",
      "  filtrado_Data=filtrado_Data.append(filtrar)\n",
      "/tmp/ipykernel_14623/2862899226.py:9: FutureWarning: The frame.append method is deprecated and will be removed from pandas in a future version. Use pandas.concat instead.\n",
      "  filtrado_Data2=filtrado_Data2.append(filtrar2)\n",
      "/tmp/ipykernel_14623/2862899226.py:8: FutureWarning: The frame.append method is deprecated and will be removed from pandas in a future version. Use pandas.concat instead.\n",
      "  filtrado_Data=filtrado_Data.append(filtrar)\n",
      "/tmp/ipykernel_14623/2862899226.py:9: FutureWarning: The frame.append method is deprecated and will be removed from pandas in a future version. Use pandas.concat instead.\n",
      "  filtrado_Data2=filtrado_Data2.append(filtrar2)\n",
      "/tmp/ipykernel_14623/2862899226.py:8: FutureWarning: The frame.append method is deprecated and will be removed from pandas in a future version. Use pandas.concat instead.\n",
      "  filtrado_Data=filtrado_Data.append(filtrar)\n",
      "/tmp/ipykernel_14623/2862899226.py:9: FutureWarning: The frame.append method is deprecated and will be removed from pandas in a future version. Use pandas.concat instead.\n",
      "  filtrado_Data2=filtrado_Data2.append(filtrar2)\n",
      "/tmp/ipykernel_14623/2862899226.py:8: FutureWarning: The frame.append method is deprecated and will be removed from pandas in a future version. Use pandas.concat instead.\n",
      "  filtrado_Data=filtrado_Data.append(filtrar)\n",
      "/tmp/ipykernel_14623/2862899226.py:9: FutureWarning: The frame.append method is deprecated and will be removed from pandas in a future version. Use pandas.concat instead.\n",
      "  filtrado_Data2=filtrado_Data2.append(filtrar2)\n",
      "/tmp/ipykernel_14623/2862899226.py:8: FutureWarning: The frame.append method is deprecated and will be removed from pandas in a future version. Use pandas.concat instead.\n",
      "  filtrado_Data=filtrado_Data.append(filtrar)\n",
      "/tmp/ipykernel_14623/2862899226.py:9: FutureWarning: The frame.append method is deprecated and will be removed from pandas in a future version. Use pandas.concat instead.\n",
      "  filtrado_Data2=filtrado_Data2.append(filtrar2)\n",
      "/tmp/ipykernel_14623/2862899226.py:8: FutureWarning: The frame.append method is deprecated and will be removed from pandas in a future version. Use pandas.concat instead.\n",
      "  filtrado_Data=filtrado_Data.append(filtrar)\n",
      "/tmp/ipykernel_14623/2862899226.py:9: FutureWarning: The frame.append method is deprecated and will be removed from pandas in a future version. Use pandas.concat instead.\n",
      "  filtrado_Data2=filtrado_Data2.append(filtrar2)\n",
      "/tmp/ipykernel_14623/2862899226.py:8: FutureWarning: The frame.append method is deprecated and will be removed from pandas in a future version. Use pandas.concat instead.\n",
      "  filtrado_Data=filtrado_Data.append(filtrar)\n",
      "/tmp/ipykernel_14623/2862899226.py:9: FutureWarning: The frame.append method is deprecated and will be removed from pandas in a future version. Use pandas.concat instead.\n",
      "  filtrado_Data2=filtrado_Data2.append(filtrar2)\n",
      "/tmp/ipykernel_14623/2862899226.py:8: FutureWarning: The frame.append method is deprecated and will be removed from pandas in a future version. Use pandas.concat instead.\n",
      "  filtrado_Data=filtrado_Data.append(filtrar)\n",
      "/tmp/ipykernel_14623/2862899226.py:9: FutureWarning: The frame.append method is deprecated and will be removed from pandas in a future version. Use pandas.concat instead.\n",
      "  filtrado_Data2=filtrado_Data2.append(filtrar2)\n",
      "/tmp/ipykernel_14623/2862899226.py:8: FutureWarning: The frame.append method is deprecated and will be removed from pandas in a future version. Use pandas.concat instead.\n",
      "  filtrado_Data=filtrado_Data.append(filtrar)\n",
      "/tmp/ipykernel_14623/2862899226.py:9: FutureWarning: The frame.append method is deprecated and will be removed from pandas in a future version. Use pandas.concat instead.\n",
      "  filtrado_Data2=filtrado_Data2.append(filtrar2)\n",
      "/tmp/ipykernel_14623/2862899226.py:8: FutureWarning: The frame.append method is deprecated and will be removed from pandas in a future version. Use pandas.concat instead.\n",
      "  filtrado_Data=filtrado_Data.append(filtrar)\n",
      "/tmp/ipykernel_14623/2862899226.py:9: FutureWarning: The frame.append method is deprecated and will be removed from pandas in a future version. Use pandas.concat instead.\n",
      "  filtrado_Data2=filtrado_Data2.append(filtrar2)\n",
      "/tmp/ipykernel_14623/2862899226.py:8: FutureWarning: The frame.append method is deprecated and will be removed from pandas in a future version. Use pandas.concat instead.\n",
      "  filtrado_Data=filtrado_Data.append(filtrar)\n",
      "/tmp/ipykernel_14623/2862899226.py:9: FutureWarning: The frame.append method is deprecated and will be removed from pandas in a future version. Use pandas.concat instead.\n",
      "  filtrado_Data2=filtrado_Data2.append(filtrar2)\n"
     ]
    }
   ],
   "source": [
    "columnas=[\"19024\",\"19046_AM\",\"19053_AM\",\"19058_AM\",\"19071_AM\",\"19086_AM\",\"1913001\",\"1913002\",\"1913003\",\"1913004\",\"1913005\",\"19151_AM\",\"19156_AM\",\"19160_AM\",\"19171\",\"19190_AM\",\"19192_AM\",\"19220_AM\",\"19245_AM\",\"19257_AM\",\"19274_AM\",\"19280_AM\",\"19319\",\"19326_AM\",\"19331_AM\",\"28002\",\"28004\",\"2800501\",\"2800502\",\"2800503\",\"2800504\",\"2800505\",\"2800601\",\"2800701\",\"2800702\",\"2800703\",\"2800704\",\"28008_AM\",\"28009\",\"28010\",\"2801301\",\"2801302\",\"2801303\",\"2801304\",\"28014\",\"28015\",\"28018\",\"28022\",\"28023\",\"28026\",\"28027_AM\",\"28030_AM\",\"28031_AM\",\"28032_AM\",\"28033\",\"28038_AM\",\"28040\",\"28041\",\"28043\",\"28044\",\"28045\",\"28046\",\"28047\",\"2804901\",\"2804902\",\"2804903_AD\",\"28050_AM\",\"28052_AM\",\"28053\",\"28054\",\"2805801\",\"2805802\",\"2805803\",\"2805804\",\"2805805\",\"2805806\",\"2805807\",\"2805808\",\"2805809\",\"28059\",\"28060_AM\",\"28061\",\"2806501\",\"2806502\",\"2806503\",\"2806504\",\"28066\",\"28067_AM\",\"28068\",\"28072\",\"28073\",\"2807401\",\"2807402\",\"2807403\",\"2807404\",\"2807405\",\"2807406\",\"2807407\",\"28075\",\"2807901\",\"2807902\",\"2807903\",\"2807904\",\"2807905\",\"2807906\",\"2807907\",\"2807908\",\"2807909\",\"2807910\",\"2807911\",\"2807912\",\"2807913\",\"2807914\",\"2807915\",\"2807916\",\"2807917\",\"2807918\",\"2807919\",\"2807920\",\"2807921\",\"2808001\",\"2808002\",\"28082\",\"28083\",\"28084\",\"28085_AM\",\"28086\",\"28087\",\"28089\",\"28090\",\"28091\",\"2809201\",\"2809202\",\"2809203\",\"2809204\",\"28095_AM\",\"28096\",\"28099_AM\",\"28100\",\"28104\",\"2810601\",\"28108\",\"28110_AM\",\"2811301\",\"2811302\",\"2811501\",\"2811502\",\"28119_AM\",\"2812301\",\"28125_AM\",\"2812701\",\"28129\",\"28130\",\"28131\",\"28132\",\"28133_AM\",\"2813401\",\"28137_AM\",\"28140_AM\",\"28141\",\"28144\",\"28145_AM\",\"2814801\",\"2814802\",\"2814803\",\"2814804\",\"28149\",\"28150\",\"28151_AM\",\"28152\",\"28154\",\"28160\",\"2816101\",\"2816102\",\"28162_AM\",\"28164\",\"28165_AM\",\"28167\",\"28171\",\"28172\",\"28176\",\"28177\",\"28180\",\"28181\",\"28901_AM\",\"28903\"]\n",
    "filtrado_Data = pd.DataFrame({})\n",
    "filtrado_Data2 = pd.DataFrame({})\n",
    "for col in columnas:\n",
    "        filtrar = data.loc[data.loc[:,'destino'] == col]\n",
    "        filtrar2 = data2.loc[data2.loc[:,'destino'] == col]\n",
    "        #print(filtrar.head(5))\n",
    "        filtrado_Data=filtrado_Data.append(filtrar)\n",
    "        filtrado_Data2=filtrado_Data2.append(filtrar2)"
   ]
  },
  {
   "cell_type": "code",
   "execution_count": 4,
   "id": "bdf95557",
   "metadata": {},
   "outputs": [],
   "source": [
    "#filtrado.dtypes\n",
    "# filtrado.shape\n"
   ]
  },
  {
   "cell_type": "code",
   "execution_count": 5,
   "id": "29a1e51d",
   "metadata": {},
   "outputs": [
    {
     "data": {
      "text/plain": [
       "(9609448, 5)"
      ]
     },
     "execution_count": 5,
     "metadata": {},
     "output_type": "execute_result"
    }
   ],
   "source": [
    "filtrado_Data2.shape"
   ]
  },
  {
   "cell_type": "code",
   "execution_count": 6,
   "id": "f6b461b3",
   "metadata": {},
   "outputs": [
    {
     "data": {
      "text/plain": [
       "DatetimeIndex(['2020-03-01', '2020-03-02', '2020-03-03', '2020-03-04',\n",
       "               '2020-03-05', '2020-03-06', '2020-03-07', '2020-03-08',\n",
       "               '2020-03-09', '2020-03-10', '2020-03-11', '2020-03-12',\n",
       "               '2020-03-13', '2020-03-14', '2020-03-15', '2020-03-16'],\n",
       "              dtype='datetime64[ns]', name='fecha', freq='24H')"
      ]
     },
     "execution_count": 6,
     "metadata": {},
     "output_type": "execute_result"
    }
   ],
   "source": [
    "filtrado_Data.index.freq = filtrado_Data.index.inferred_freq\n",
    "serieDia = filtrado_Data.resample('24H').sum()\n",
    "serieDia.index\n",
    "\n",
    "filtrado_Data2.index.freq = filtrado_Data2.index.inferred_freq\n",
    "serieDia2 = filtrado_Data2.resample('24H').sum()\n",
    "serieDia2.index"
   ]
  },
  {
   "cell_type": "code",
   "execution_count": 7,
   "id": "d0d6d0fb",
   "metadata": {},
   "outputs": [
    {
     "data": {
      "text/html": [
       "<div>\n",
       "<style scoped>\n",
       "    .dataframe tbody tr th:only-of-type {\n",
       "        vertical-align: middle;\n",
       "    }\n",
       "\n",
       "    .dataframe tbody tr th {\n",
       "        vertical-align: top;\n",
       "    }\n",
       "\n",
       "    .dataframe thead th {\n",
       "        text-align: right;\n",
       "    }\n",
       "</style>\n",
       "<table border=\"1\" class=\"dataframe\">\n",
       "  <thead>\n",
       "    <tr style=\"text-align: right;\">\n",
       "      <th></th>\n",
       "      <th>origen</th>\n",
       "      <th>destino</th>\n",
       "      <th>periodo</th>\n",
       "      <th>distancia</th>\n",
       "      <th>viajes</th>\n",
       "      <th>trayecto</th>\n",
       "    </tr>\n",
       "    <tr>\n",
       "      <th>fecha</th>\n",
       "      <th></th>\n",
       "      <th></th>\n",
       "      <th></th>\n",
       "      <th></th>\n",
       "      <th></th>\n",
       "      <th></th>\n",
       "    </tr>\n",
       "  </thead>\n",
       "  <tbody>\n",
       "    <tr>\n",
       "      <th>2020-03-01</th>\n",
       "      <td>19024</td>\n",
       "      <td>19024</td>\n",
       "      <td>0</td>\n",
       "      <td>002-005</td>\n",
       "      <td>5.626</td>\n",
       "      <td>19024-19024</td>\n",
       "    </tr>\n",
       "    <tr>\n",
       "      <th>2020-03-01</th>\n",
       "      <td>19024</td>\n",
       "      <td>19024</td>\n",
       "      <td>1</td>\n",
       "      <td>002-005</td>\n",
       "      <td>5.626</td>\n",
       "      <td>19024-19024</td>\n",
       "    </tr>\n",
       "    <tr>\n",
       "      <th>2020-03-01</th>\n",
       "      <td>19024</td>\n",
       "      <td>19024</td>\n",
       "      <td>2</td>\n",
       "      <td>002-005</td>\n",
       "      <td>5.626</td>\n",
       "      <td>19024-19024</td>\n",
       "    </tr>\n",
       "    <tr>\n",
       "      <th>2020-03-01</th>\n",
       "      <td>19024</td>\n",
       "      <td>19024</td>\n",
       "      <td>4</td>\n",
       "      <td>002-005</td>\n",
       "      <td>5.626</td>\n",
       "      <td>19024-19024</td>\n",
       "    </tr>\n",
       "    <tr>\n",
       "      <th>2020-03-01</th>\n",
       "      <td>19024</td>\n",
       "      <td>19024</td>\n",
       "      <td>6</td>\n",
       "      <td>002-005</td>\n",
       "      <td>5.626</td>\n",
       "      <td>19024-19024</td>\n",
       "    </tr>\n",
       "  </tbody>\n",
       "</table>\n",
       "</div>"
      ],
      "text/plain": [
       "           origen destino  periodo distancia  viajes     trayecto\n",
       "fecha                                                            \n",
       "2020-03-01  19024   19024        0   002-005   5.626  19024-19024\n",
       "2020-03-01  19024   19024        1   002-005   5.626  19024-19024\n",
       "2020-03-01  19024   19024        2   002-005   5.626  19024-19024\n",
       "2020-03-01  19024   19024        4   002-005   5.626  19024-19024\n",
       "2020-03-01  19024   19024        6   002-005   5.626  19024-19024"
      ]
     },
     "execution_count": 7,
     "metadata": {},
     "output_type": "execute_result"
    }
   ],
   "source": [
    "filtrado_Data['trayecto'] = filtrado_Data['origen'] + '-' + filtrado_Data['destino']\n",
    "filtrado_Data2['trayecto'] = filtrado_Data2['origen'] + '-' + filtrado_Data2['destino']\n",
    "filtrado_Data2.head(5)"
   ]
  },
  {
   "cell_type": "code",
   "execution_count": 8,
   "id": "5cec6f7c",
   "metadata": {},
   "outputs": [
    {
     "name": "stdout",
     "output_type": "stream",
     "text": [
      "(777426, 7)\n",
      "(240842, 4)\n",
      "(24, 24732)\n",
      "(631398, 7)\n"
     ]
    },
    {
     "name": "stderr",
     "output_type": "stream",
     "text": [
      "/tmp/ipykernel_14623/1110636458.py:27: FutureWarning: The frame.append method is deprecated and will be removed from pandas in a future version. Use pandas.concat instead.\n",
      "  df_Total = df_Total.append(table_B)\n"
     ]
    },
    {
     "name": "stdout",
     "output_type": "stream",
     "text": [
      "(225518, 4)\n",
      "(24, 25215)\n"
     ]
    },
    {
     "name": "stderr",
     "output_type": "stream",
     "text": [
      "/tmp/ipykernel_14623/1110636458.py:27: FutureWarning: The frame.append method is deprecated and will be removed from pandas in a future version. Use pandas.concat instead.\n",
      "  df_Total = df_Total.append(table_B)\n"
     ]
    },
    {
     "name": "stdout",
     "output_type": "stream",
     "text": [
      "(536349, 7)\n",
      "(203925, 4)\n",
      "(24, 24409)\n"
     ]
    },
    {
     "name": "stderr",
     "output_type": "stream",
     "text": [
      "/tmp/ipykernel_14623/1110636458.py:27: FutureWarning: The frame.append method is deprecated and will be removed from pandas in a future version. Use pandas.concat instead.\n",
      "  df_Total = df_Total.append(table_B)\n"
     ]
    },
    {
     "name": "stdout",
     "output_type": "stream",
     "text": [
      "(730385, 7)\n",
      "(228868, 4)\n",
      "(24, 23973)\n"
     ]
    },
    {
     "name": "stderr",
     "output_type": "stream",
     "text": [
      "/tmp/ipykernel_14623/1110636458.py:27: FutureWarning: The frame.append method is deprecated and will be removed from pandas in a future version. Use pandas.concat instead.\n",
      "  df_Total = df_Total.append(table_B)\n"
     ]
    },
    {
     "name": "stdout",
     "output_type": "stream",
     "text": [
      "(739237, 7)\n",
      "(230745, 4)\n",
      "(24, 23967)\n"
     ]
    },
    {
     "name": "stderr",
     "output_type": "stream",
     "text": [
      "/tmp/ipykernel_14623/1110636458.py:27: FutureWarning: The frame.append method is deprecated and will be removed from pandas in a future version. Use pandas.concat instead.\n",
      "  df_Total = df_Total.append(table_B)\n"
     ]
    },
    {
     "name": "stdout",
     "output_type": "stream",
     "text": [
      "(743019, 7)\n",
      "(232149, 4)\n",
      "(24, 24145)\n"
     ]
    },
    {
     "name": "stderr",
     "output_type": "stream",
     "text": [
      "/tmp/ipykernel_14623/1110636458.py:27: FutureWarning: The frame.append method is deprecated and will be removed from pandas in a future version. Use pandas.concat instead.\n",
      "  df_Total = df_Total.append(table_B)\n"
     ]
    },
    {
     "name": "stdout",
     "output_type": "stream",
     "text": [
      "(756573, 7)\n",
      "(234987, 4)\n",
      "(24, 24431)\n"
     ]
    },
    {
     "name": "stderr",
     "output_type": "stream",
     "text": [
      "/tmp/ipykernel_14623/1110636458.py:27: FutureWarning: The frame.append method is deprecated and will be removed from pandas in a future version. Use pandas.concat instead.\n",
      "  df_Total = df_Total.append(table_B)\n"
     ]
    },
    {
     "name": "stdout",
     "output_type": "stream",
     "text": [
      "(751806, 7)\n",
      "(236559, 4)\n",
      "(24, 24575)\n"
     ]
    },
    {
     "name": "stderr",
     "output_type": "stream",
     "text": [
      "/tmp/ipykernel_14623/1110636458.py:27: FutureWarning: The frame.append method is deprecated and will be removed from pandas in a future version. Use pandas.concat instead.\n",
      "  df_Total = df_Total.append(table_B)\n"
     ]
    },
    {
     "name": "stdout",
     "output_type": "stream",
     "text": [
      "(606968, 7)\n",
      "(220811, 4)\n",
      "(24, 25097)\n"
     ]
    },
    {
     "name": "stderr",
     "output_type": "stream",
     "text": [
      "/tmp/ipykernel_14623/1110636458.py:27: FutureWarning: The frame.append method is deprecated and will be removed from pandas in a future version. Use pandas.concat instead.\n",
      "  df_Total = df_Total.append(table_B)\n"
     ]
    },
    {
     "name": "stdout",
     "output_type": "stream",
     "text": [
      "(525609, 7)\n",
      "(201615, 4)\n",
      "(24, 24284)\n"
     ]
    },
    {
     "name": "stderr",
     "output_type": "stream",
     "text": [
      "/tmp/ipykernel_14623/1110636458.py:27: FutureWarning: The frame.append method is deprecated and will be removed from pandas in a future version. Use pandas.concat instead.\n",
      "  df_Total = df_Total.append(table_B)\n"
     ]
    },
    {
     "name": "stdout",
     "output_type": "stream",
     "text": [
      "(718369, 7)\n",
      "(226889, 4)\n",
      "(24, 24061)\n"
     ]
    },
    {
     "name": "stderr",
     "output_type": "stream",
     "text": [
      "/tmp/ipykernel_14623/1110636458.py:27: FutureWarning: The frame.append method is deprecated and will be removed from pandas in a future version. Use pandas.concat instead.\n",
      "  df_Total = df_Total.append(table_B)\n"
     ]
    },
    {
     "name": "stdout",
     "output_type": "stream",
     "text": [
      "(744897, 7)\n",
      "(231760, 4)\n",
      "(24, 24203)\n"
     ]
    },
    {
     "name": "stderr",
     "output_type": "stream",
     "text": [
      "/tmp/ipykernel_14623/1110636458.py:27: FutureWarning: The frame.append method is deprecated and will be removed from pandas in a future version. Use pandas.concat instead.\n",
      "  df_Total = df_Total.append(table_B)\n"
     ]
    },
    {
     "name": "stdout",
     "output_type": "stream",
     "text": [
      "(755833, 7)\n",
      "(234213, 4)\n",
      "(24, 24203)\n"
     ]
    },
    {
     "name": "stderr",
     "output_type": "stream",
     "text": [
      "/tmp/ipykernel_14623/1110636458.py:27: FutureWarning: The frame.append method is deprecated and will be removed from pandas in a future version. Use pandas.concat instead.\n",
      "  df_Total = df_Total.append(table_B)\n"
     ]
    },
    {
     "name": "stdout",
     "output_type": "stream",
     "text": [
      "(763235, 7)\n",
      "(236134, 4)\n",
      "(24, 24470)\n"
     ]
    },
    {
     "name": "stderr",
     "output_type": "stream",
     "text": [
      "/tmp/ipykernel_14623/1110636458.py:27: FutureWarning: The frame.append method is deprecated and will be removed from pandas in a future version. Use pandas.concat instead.\n",
      "  df_Total = df_Total.append(table_B)\n"
     ]
    },
    {
     "name": "stdout",
     "output_type": "stream",
     "text": [
      "(745532, 7)\n",
      "(237768, 4)\n",
      "(24, 24910)\n"
     ]
    },
    {
     "name": "stderr",
     "output_type": "stream",
     "text": [
      "/tmp/ipykernel_14623/1110636458.py:27: FutureWarning: The frame.append method is deprecated and will be removed from pandas in a future version. Use pandas.concat instead.\n",
      "  df_Total = df_Total.append(table_B)\n"
     ]
    },
    {
     "name": "stdout",
     "output_type": "stream",
     "text": [
      "(601899, 7)\n",
      "(217140, 4)\n",
      "(24, 24923)\n"
     ]
    },
    {
     "name": "stderr",
     "output_type": "stream",
     "text": [
      "/tmp/ipykernel_14623/1110636458.py:27: FutureWarning: The frame.append method is deprecated and will be removed from pandas in a future version. Use pandas.concat instead.\n",
      "  df_Total = df_Total.append(table_B)\n"
     ]
    },
    {
     "name": "stdout",
     "output_type": "stream",
     "text": [
      "(384, 33161)\n"
     ]
    }
   ],
   "source": [
    "df_Total = pd.DataFrame({})\n",
    "reindex=filtrado_Data.reset_index()\n",
    "\n",
    "for fecha in serieDia.index:   \n",
    "    filtrar = reindex.loc[reindex.loc[:,'fecha'] == fecha]\n",
    "    print(filtrar.shape)\n",
    "    table_A = pd.pivot_table(filtrar, values=['viajes','origen','destino','fecha'], index=[\"periodo\",\"trayecto\"], aggfunc={'viajes':np.sum,'origen': 'first','destino': 'first','fecha': 'first'})\n",
    "    reindex2 = table_A.reset_index()\n",
    "    table_B = pd.pivot_table(reindex2, values=['viajes'], index=[\"periodo\"], columns=[\"trayecto\"], aggfunc={'viajes':'first'}, fill_value=0)\n",
    "    print(table_A.shape)\n",
    "    print(table_B.shape)\n",
    "    \n",
    "    if table_B.index.shape[0] != 24:\n",
    "        j = 0\n",
    "        for i in range(24):\n",
    "            if table_B.index[i] != (i+j):\n",
    "                print (reindex.fecha.iloc[0],i+j,\"origen sin registros!\")\n",
    "                table_B.loc[i+j] = 0\n",
    "                j += 1\n",
    "            if (i + j) == 23: break\n",
    "        table_B = table_B.sort_index() \n",
    "    \n",
    "    table_B[\"ds\"] = pd.date_range(filtrar.fecha.iloc[0], \"%s 23:00:00\" % (filtrar.fecha.iloc[0]), freq=\"H\")  #fecha.iloc[0] devuelve \"20200214\"-\"20200215\"... y la hora en formato 24h      \n",
    "    table_B = table_B.set_index(\"ds\") #Fija como indice la columna ds           \n",
    "    table_B = table_B.astype(np.float32)\n",
    "    \n",
    "    df_Total = df_Total.append(table_B)\n",
    "    df_Total = df_Total.fillna(0)       \n",
    "    #break\n",
    "print(df_Total.shape)"
   ]
  },
  {
   "cell_type": "code",
   "execution_count": 9,
   "id": "d2d908d0",
   "metadata": {},
   "outputs": [
    {
     "name": "stdout",
     "output_type": "stream",
     "text": [
      "(510534, 7)\n",
      "(194759, 4)\n",
      "(24, 23432)\n"
     ]
    },
    {
     "name": "stderr",
     "output_type": "stream",
     "text": [
      "/tmp/ipykernel_14623/3979786944.py:26: FutureWarning: The frame.append method is deprecated and will be removed from pandas in a future version. Use pandas.concat instead.\n",
      "  df_Total = df_Total.append(table_B)\n"
     ]
    },
    {
     "name": "stdout",
     "output_type": "stream",
     "text": [
      "(693288, 7)\n",
      "(223424, 4)\n",
      "(24, 23871)\n"
     ]
    },
    {
     "name": "stderr",
     "output_type": "stream",
     "text": [
      "/tmp/ipykernel_14623/3979786944.py:26: FutureWarning: The frame.append method is deprecated and will be removed from pandas in a future version. Use pandas.concat instead.\n",
      "  df_Total = df_Total.append(table_B)\n"
     ]
    },
    {
     "name": "stdout",
     "output_type": "stream",
     "text": [
      "(738050, 7)\n",
      "(230432, 4)\n",
      "(24, 24055)\n"
     ]
    },
    {
     "name": "stderr",
     "output_type": "stream",
     "text": [
      "/tmp/ipykernel_14623/3979786944.py:26: FutureWarning: The frame.append method is deprecated and will be removed from pandas in a future version. Use pandas.concat instead.\n",
      "  df_Total = df_Total.append(table_B)\n"
     ]
    },
    {
     "name": "stdout",
     "output_type": "stream",
     "text": [
      "(733381, 7)\n",
      "(229867, 4)\n",
      "(24, 24040)\n"
     ]
    },
    {
     "name": "stderr",
     "output_type": "stream",
     "text": [
      "/tmp/ipykernel_14623/3979786944.py:26: FutureWarning: The frame.append method is deprecated and will be removed from pandas in a future version. Use pandas.concat instead.\n",
      "  df_Total = df_Total.append(table_B)\n"
     ]
    },
    {
     "name": "stdout",
     "output_type": "stream",
     "text": [
      "(726610, 7)\n",
      "(228764, 4)\n",
      "(24, 23845)\n"
     ]
    },
    {
     "name": "stderr",
     "output_type": "stream",
     "text": [
      "/tmp/ipykernel_14623/3979786944.py:26: FutureWarning: The frame.append method is deprecated and will be removed from pandas in a future version. Use pandas.concat instead.\n",
      "  df_Total = df_Total.append(table_B)\n"
     ]
    },
    {
     "name": "stdout",
     "output_type": "stream",
     "text": [
      "(730329, 7)\n",
      "(232370, 4)\n",
      "(24, 24275)\n"
     ]
    },
    {
     "name": "stderr",
     "output_type": "stream",
     "text": [
      "/tmp/ipykernel_14623/3979786944.py:26: FutureWarning: The frame.append method is deprecated and will be removed from pandas in a future version. Use pandas.concat instead.\n",
      "  df_Total = df_Total.append(table_B)\n"
     ]
    },
    {
     "name": "stdout",
     "output_type": "stream",
     "text": [
      "(587152, 7)\n",
      "(213739, 4)\n",
      "(24, 24435)\n"
     ]
    },
    {
     "name": "stderr",
     "output_type": "stream",
     "text": [
      "/tmp/ipykernel_14623/3979786944.py:26: FutureWarning: The frame.append method is deprecated and will be removed from pandas in a future version. Use pandas.concat instead.\n",
      "  df_Total = df_Total.append(table_B)\n"
     ]
    },
    {
     "name": "stdout",
     "output_type": "stream",
     "text": [
      "(502446, 7)\n",
      "(196096, 4)\n",
      "(24, 23755)\n"
     ]
    },
    {
     "name": "stderr",
     "output_type": "stream",
     "text": [
      "/tmp/ipykernel_14623/3979786944.py:26: FutureWarning: The frame.append method is deprecated and will be removed from pandas in a future version. Use pandas.concat instead.\n",
      "  df_Total = df_Total.append(table_B)\n"
     ]
    },
    {
     "name": "stdout",
     "output_type": "stream",
     "text": [
      "(705527, 7)\n",
      "(224906, 4)\n",
      "(24, 23816)\n"
     ]
    },
    {
     "name": "stderr",
     "output_type": "stream",
     "text": [
      "/tmp/ipykernel_14623/3979786944.py:26: FutureWarning: The frame.append method is deprecated and will be removed from pandas in a future version. Use pandas.concat instead.\n",
      "  df_Total = df_Total.append(table_B)\n"
     ]
    },
    {
     "name": "stdout",
     "output_type": "stream",
     "text": [
      "(722328, 7)\n",
      "(228559, 4)\n",
      "(24, 24081)\n"
     ]
    },
    {
     "name": "stderr",
     "output_type": "stream",
     "text": [
      "/tmp/ipykernel_14623/3979786944.py:26: FutureWarning: The frame.append method is deprecated and will be removed from pandas in a future version. Use pandas.concat instead.\n",
      "  df_Total = df_Total.append(table_B)\n"
     ]
    },
    {
     "name": "stdout",
     "output_type": "stream",
     "text": [
      "(680540, 7)\n",
      "(222599, 4)\n",
      "(24, 23972)\n"
     ]
    },
    {
     "name": "stderr",
     "output_type": "stream",
     "text": [
      "/tmp/ipykernel_14623/3979786944.py:26: FutureWarning: The frame.append method is deprecated and will be removed from pandas in a future version. Use pandas.concat instead.\n",
      "  df_Total = df_Total.append(table_B)\n"
     ]
    },
    {
     "name": "stdout",
     "output_type": "stream",
     "text": [
      "(650947, 7)\n",
      "(217236, 4)\n",
      "(24, 23734)\n"
     ]
    },
    {
     "name": "stderr",
     "output_type": "stream",
     "text": [
      "/tmp/ipykernel_14623/3979786944.py:26: FutureWarning: The frame.append method is deprecated and will be removed from pandas in a future version. Use pandas.concat instead.\n",
      "  df_Total = df_Total.append(table_B)\n"
     ]
    },
    {
     "name": "stdout",
     "output_type": "stream",
     "text": [
      "(594086, 7)\n",
      "(204217, 4)\n",
      "(24, 23264)\n"
     ]
    },
    {
     "name": "stderr",
     "output_type": "stream",
     "text": [
      "/tmp/ipykernel_14623/3979786944.py:26: FutureWarning: The frame.append method is deprecated and will be removed from pandas in a future version. Use pandas.concat instead.\n",
      "  df_Total = df_Total.append(table_B)\n"
     ]
    },
    {
     "name": "stdout",
     "output_type": "stream",
     "text": [
      "(337422, 7)\n",
      "(135116, 4)\n",
      "(24, 18795)\n"
     ]
    },
    {
     "name": "stderr",
     "output_type": "stream",
     "text": [
      "/tmp/ipykernel_14623/3979786944.py:26: FutureWarning: The frame.append method is deprecated and will be removed from pandas in a future version. Use pandas.concat instead.\n",
      "  df_Total = df_Total.append(table_B)\n"
     ]
    },
    {
     "name": "stdout",
     "output_type": "stream",
     "text": [
      "(260293, 7)\n",
      "(105965, 4)\n",
      "(24, 15637)\n"
     ]
    },
    {
     "name": "stderr",
     "output_type": "stream",
     "text": [
      "/tmp/ipykernel_14623/3979786944.py:26: FutureWarning: The frame.append method is deprecated and will be removed from pandas in a future version. Use pandas.concat instead.\n",
      "  df_Total = df_Total.append(table_B)\n"
     ]
    },
    {
     "name": "stdout",
     "output_type": "stream",
     "text": [
      "(436515, 7)\n",
      "(161917, 4)\n",
      "(24, 20543)\n"
     ]
    },
    {
     "name": "stderr",
     "output_type": "stream",
     "text": [
      "/tmp/ipykernel_14623/3979786944.py:26: FutureWarning: The frame.append method is deprecated and will be removed from pandas in a future version. Use pandas.concat instead.\n",
      "  df_Total = df_Total.append(table_B)\n"
     ]
    },
    {
     "name": "stdout",
     "output_type": "stream",
     "text": [
      "(768, 33758)\n",
      "(33757,)\n"
     ]
    }
   ],
   "source": [
    "reindex=filtrado_Data2.reset_index()\n",
    "\n",
    "for fecha in serieDia2.index:   \n",
    "    filtrar = reindex.loc[reindex.loc[:,'fecha'] == fecha]\n",
    "    print(filtrar.shape)\n",
    "    table_A = pd.pivot_table(filtrar, values=['viajes','origen','destino','fecha'], index=[\"periodo\",\"trayecto\"], aggfunc={'viajes':np.sum,'origen': 'first','destino': 'first','fecha': 'first'})\n",
    "    reindex2 = table_A.reset_index()\n",
    "    table_B = pd.pivot_table(reindex2, values=['viajes'], index=[\"periodo\"], columns=[\"trayecto\"], aggfunc={'viajes':'first'}, fill_value=0)\n",
    "    print(table_A.shape)\n",
    "    print(table_B.shape)\n",
    "    \n",
    "    if table_B.index.shape[0] != 24:\n",
    "        j = 0\n",
    "        for i in range(24):\n",
    "            if table_B.index[i] != (i+j):\n",
    "                print (reindex.fecha.iloc[0],i+j,\"origen sin registros!\")\n",
    "                table_B.loc[i+j] = 0\n",
    "                j += 1\n",
    "            if (i + j) == 23: break\n",
    "        table_B = table_B.sort_index() \n",
    "    \n",
    "    table_B[\"ds\"] = pd.date_range(filtrar.fecha.iloc[0], \"%s 23:00:00\" % (filtrar.fecha.iloc[0]), freq=\"H\")  #fecha.iloc[0] devuelve \"20200214\"-\"20200215\"... y la hora en formato 24h      \n",
    "    table_B = table_B.set_index(\"ds\") #Fija como indice la columna ds       \n",
    "    table_B = table_B.astype(np.float32)\n",
    "    \n",
    "    df_Total = df_Total.append(table_B)    \n",
    "    df_Total = df_Total.fillna(0)\n",
    "    #break\n",
    "\n",
    "df_Total.columns =[str(s2) for (s1,s2) in df_Total.columns.tolist()]\n",
    "df_Final = df_Total.reset_index()\n",
    "\n",
    "columns_names = df_Total.columns\n",
    "with open(\"columns_names2.pickle\", \"wb\") as file:\n",
    "    pickle.dump(columns_names,file)\n",
    "\n",
    "\n",
    "print(df_Final.shape)\n",
    "print(columns_names.shape)"
   ]
  },
  {
   "cell_type": "code",
   "execution_count": 10,
   "id": "93b184a9",
   "metadata": {},
   "outputs": [],
   "source": [
    "#df_Final.iloc[0:72,56:57000]"
   ]
  },
  {
   "cell_type": "code",
   "execution_count": 11,
   "id": "c9620741",
   "metadata": {},
   "outputs": [],
   "source": [
    "#hola = reindex2.loc[reindex2.loc[:,'trayecto'] == '19024-19046_AM']\n",
    "#hola.head(25)"
   ]
  },
  {
   "cell_type": "code",
   "execution_count": 12,
   "id": "78c8bac6",
   "metadata": {},
   "outputs": [],
   "source": [
    "#filtrar2 = filtrar.loc[filtrar.loc[:,'periodo'] == 0]\n",
    "#filtrar2.iloc[0:24,:]"
   ]
  },
  {
   "cell_type": "code",
   "execution_count": 13,
   "id": "d4593e31",
   "metadata": {},
   "outputs": [],
   "source": [
    "# df_Final.to_csv(\"Trayectos_Periodo_Referencia2.csv\")"
   ]
  }
 ],
 "metadata": {
  "kernelspec": {
   "display_name": "Python 3 (ipykernel)",
   "language": "python",
   "name": "python3"
  },
  "language_info": {
   "codemirror_mode": {
    "name": "ipython",
    "version": 3
   },
   "file_extension": ".py",
   "mimetype": "text/x-python",
   "name": "python",
   "nbconvert_exporter": "python",
   "pygments_lexer": "ipython3",
   "version": "3.9.7"
  }
 },
 "nbformat": 4,
 "nbformat_minor": 5
}
