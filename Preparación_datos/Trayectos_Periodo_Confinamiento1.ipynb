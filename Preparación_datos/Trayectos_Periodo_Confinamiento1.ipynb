{
 "cells": [
  {
   "cell_type": "code",
   "execution_count": 1,
   "id": "c0a0b0bc",
   "metadata": {},
   "outputs": [],
   "source": [
    "import pandas as pd\n",
    "import numpy as np\n",
    "import pickle"
   ]
  },
  {
   "cell_type": "code",
   "execution_count": 2,
   "id": "b4fa4d87",
   "metadata": {},
   "outputs": [
    {
     "data": {
      "text/html": [
       "<div>\n",
       "<style scoped>\n",
       "    .dataframe tbody tr th:only-of-type {\n",
       "        vertical-align: middle;\n",
       "    }\n",
       "\n",
       "    .dataframe tbody tr th {\n",
       "        vertical-align: top;\n",
       "    }\n",
       "\n",
       "    .dataframe thead th {\n",
       "        text-align: right;\n",
       "    }\n",
       "</style>\n",
       "<table border=\"1\" class=\"dataframe\">\n",
       "  <thead>\n",
       "    <tr style=\"text-align: right;\">\n",
       "      <th></th>\n",
       "      <th>origen</th>\n",
       "      <th>destino</th>\n",
       "      <th>periodo</th>\n",
       "      <th>distancia</th>\n",
       "      <th>viajes</th>\n",
       "    </tr>\n",
       "    <tr>\n",
       "      <th>fecha</th>\n",
       "      <th></th>\n",
       "      <th></th>\n",
       "      <th></th>\n",
       "      <th></th>\n",
       "      <th></th>\n",
       "    </tr>\n",
       "  </thead>\n",
       "  <tbody>\n",
       "    <tr>\n",
       "      <th>2020-05-17</th>\n",
       "      <td>19024</td>\n",
       "      <td>01901_AM</td>\n",
       "      <td>22</td>\n",
       "      <td>100+</td>\n",
       "      <td>8.242</td>\n",
       "    </tr>\n",
       "    <tr>\n",
       "      <th>2020-05-17</th>\n",
       "      <td>19024</td>\n",
       "      <td>0818705</td>\n",
       "      <td>20</td>\n",
       "      <td>100+</td>\n",
       "      <td>8.242</td>\n",
       "    </tr>\n",
       "    <tr>\n",
       "      <th>2020-05-17</th>\n",
       "      <td>19024</td>\n",
       "      <td>10140_AM</td>\n",
       "      <td>16</td>\n",
       "      <td>100+</td>\n",
       "      <td>6.171</td>\n",
       "    </tr>\n",
       "    <tr>\n",
       "      <th>2020-05-17</th>\n",
       "      <td>19024</td>\n",
       "      <td>13096</td>\n",
       "      <td>20</td>\n",
       "      <td>100+</td>\n",
       "      <td>8.496</td>\n",
       "    </tr>\n",
       "    <tr>\n",
       "      <th>2020-05-17</th>\n",
       "      <td>19024</td>\n",
       "      <td>19024</td>\n",
       "      <td>0</td>\n",
       "      <td>002-005</td>\n",
       "      <td>6.099</td>\n",
       "    </tr>\n",
       "  </tbody>\n",
       "</table>\n",
       "</div>"
      ],
      "text/plain": [
       "           origen   destino  periodo distancia  viajes\n",
       "fecha                                                 \n",
       "2020-05-17  19024  01901_AM       22      100+   8.242\n",
       "2020-05-17  19024   0818705       20      100+   8.242\n",
       "2020-05-17  19024  10140_AM       16      100+   6.171\n",
       "2020-05-17  19024     13096       20      100+   8.496\n",
       "2020-05-17  19024     19024        0   002-005   6.099"
      ]
     },
     "execution_count": 2,
     "metadata": {},
     "output_type": "execute_result"
    }
   ],
   "source": [
    "basepath = \"/media/jonathan/JHON/Tesis/DatosTesis/CSV_Filtrado_Origen/DataFiltradoMarzo2020_2.csv\"\n",
    "data = pd.read_csv(basepath, sep=',',dtype={\"fecha\": str,\n",
    "                                        \"origen\": str,\n",
    "                                        \"destino\": str},index_col='fecha',parse_dates=True, usecols=[0,1,2,7,8,9])          \n",
    "\n",
    "data = data[data.distancia >= \"002-005\"]\n",
    "\n",
    "################3\n",
    "\n",
    "basepath = \"/media/jonathan/JHON/Tesis/DatosTesis/CSV_Filtrado_Origen/DataFiltradoAbril2020_1.csv\"\n",
    "data2 = pd.read_csv(basepath, sep=',',dtype={\"fecha\": str,\n",
    "                                        \"origen\": str,\n",
    "                                        \"destino\": str},index_col='fecha',parse_dates=True, usecols=[0,1,2,7,8,9])          \n",
    "\n",
    "data2 = data2[data2.distancia >= \"002-005\"]\n",
    "\n",
    "#################\n",
    "\n",
    "basepath = \"/media/jonathan/JHON/Tesis/DatosTesis/CSV_Filtrado_Origen/DataFiltradoAbril2020_2.csv\"\n",
    "data3 = pd.read_csv(basepath, sep=',',dtype={\"fecha\": str,\n",
    "                                        \"origen\": str,\n",
    "                                        \"destino\": str},index_col='fecha',parse_dates=True, usecols=[0,1,2,7,8,9])          \n",
    "\n",
    "data3 = data3[data3.distancia >= \"002-005\"]\n",
    "\n",
    "#################\n",
    "\n",
    "basepath = \"/media/jonathan/JHON/Tesis/DatosTesis/CSV_Filtrado_Origen/DataFiltradoMayo2020_1.csv\"\n",
    "data4 = pd.read_csv(basepath, sep=',',dtype={\"fecha\": str,\n",
    "                                        \"origen\": str,\n",
    "                                        \"destino\": str},index_col='fecha',parse_dates=True, usecols=[0,1,2,7,8,9])          \n",
    "\n",
    "data4 = data4[data4.distancia >= \"002-005\"]\n",
    "\n",
    "##################\n",
    "\n",
    "basepath = \"/media/jonathan/JHON/Tesis/DatosTesis/CSV_Filtrado_Origen/DataFiltradoMayo2020_2.csv\"\n",
    "data5 = pd.read_csv(basepath, sep=',',dtype={\"fecha\": str,\n",
    "                                        \"origen\": str,\n",
    "                                        \"destino\": str},index_col='fecha',parse_dates=True, usecols=[0,1,2,7,8,9])          \n",
    "\n",
    "data5 = data5[data5.distancia >= \"002-005\"]\n",
    "data5.head(5)"
   ]
  },
  {
   "cell_type": "markdown",
   "id": "3141584d",
   "metadata": {},
   "source": [
    "## Debido a que se tiene como destino toda España, se procede a filtrar la columna destino"
   ]
  },
  {
   "cell_type": "code",
   "execution_count": 3,
   "id": "b826366c",
   "metadata": {},
   "outputs": [
    {
     "name": "stdout",
     "output_type": "stream",
     "text": [
      "           origen destino  periodo distancia  viajes\n",
      "fecha                                               \n",
      "2020-05-17  19024   19024        0   002-005   6.099\n",
      "2020-05-17  19024   19024        2   002-005   6.099\n",
      "2020-05-17  19024   19024        6   002-005   6.099\n"
     ]
    },
    {
     "name": "stderr",
     "output_type": "stream",
     "text": [
      "/tmp/ipykernel_9904/3091215869.py:14: FutureWarning: The frame.append method is deprecated and will be removed from pandas in a future version. Use pandas.concat instead.\n",
      "  filtrado_Data=filtrado_Data.append(filtrar)\n",
      "/tmp/ipykernel_9904/3091215869.py:15: FutureWarning: The frame.append method is deprecated and will be removed from pandas in a future version. Use pandas.concat instead.\n",
      "  filtrado_Data2=filtrado_Data2.append(filtrar2)\n",
      "/tmp/ipykernel_9904/3091215869.py:16: FutureWarning: The frame.append method is deprecated and will be removed from pandas in a future version. Use pandas.concat instead.\n",
      "  filtrado_Data3=filtrado_Data3.append(filtrar3)\n",
      "/tmp/ipykernel_9904/3091215869.py:17: FutureWarning: The frame.append method is deprecated and will be removed from pandas in a future version. Use pandas.concat instead.\n",
      "  filtrado_Data4=filtrado_Data4.append(filtrar4)\n",
      "/tmp/ipykernel_9904/3091215869.py:18: FutureWarning: The frame.append method is deprecated and will be removed from pandas in a future version. Use pandas.concat instead.\n",
      "  filtrado_Data5=filtrado_Data5.append(filtrar5)\n"
     ]
    },
    {
     "name": "stdout",
     "output_type": "stream",
     "text": [
      "           origen   destino  periodo distancia  viajes\n",
      "fecha                                                 \n",
      "2020-05-17  19024  19046_AM        0   002-005   6.099\n",
      "2020-05-17  19024  19046_AM        0   005-010  12.198\n",
      "2020-05-17  19024  19046_AM        1   002-005  12.198\n"
     ]
    },
    {
     "name": "stderr",
     "output_type": "stream",
     "text": [
      "/tmp/ipykernel_9904/3091215869.py:14: FutureWarning: The frame.append method is deprecated and will be removed from pandas in a future version. Use pandas.concat instead.\n",
      "  filtrado_Data=filtrado_Data.append(filtrar)\n",
      "/tmp/ipykernel_9904/3091215869.py:15: FutureWarning: The frame.append method is deprecated and will be removed from pandas in a future version. Use pandas.concat instead.\n",
      "  filtrado_Data2=filtrado_Data2.append(filtrar2)\n",
      "/tmp/ipykernel_9904/3091215869.py:16: FutureWarning: The frame.append method is deprecated and will be removed from pandas in a future version. Use pandas.concat instead.\n",
      "  filtrado_Data3=filtrado_Data3.append(filtrar3)\n",
      "/tmp/ipykernel_9904/3091215869.py:17: FutureWarning: The frame.append method is deprecated and will be removed from pandas in a future version. Use pandas.concat instead.\n",
      "  filtrado_Data4=filtrado_Data4.append(filtrar4)\n",
      "/tmp/ipykernel_9904/3091215869.py:18: FutureWarning: The frame.append method is deprecated and will be removed from pandas in a future version. Use pandas.concat instead.\n",
      "  filtrado_Data5=filtrado_Data5.append(filtrar5)\n"
     ]
    },
    {
     "name": "stdout",
     "output_type": "stream",
     "text": [
      "              origen   destino  periodo distancia  viajes\n",
      "fecha                                                    \n",
      "2020-05-17  19046_AM  19053_AM        6   010-050   7.186\n",
      "2020-05-17  19046_AM  19053_AM       10   010-050  21.558\n",
      "2020-05-17  19046_AM  19053_AM       11   050-100   7.186\n"
     ]
    },
    {
     "name": "stderr",
     "output_type": "stream",
     "text": [
      "/tmp/ipykernel_9904/3091215869.py:14: FutureWarning: The frame.append method is deprecated and will be removed from pandas in a future version. Use pandas.concat instead.\n",
      "  filtrado_Data=filtrado_Data.append(filtrar)\n",
      "/tmp/ipykernel_9904/3091215869.py:15: FutureWarning: The frame.append method is deprecated and will be removed from pandas in a future version. Use pandas.concat instead.\n",
      "  filtrado_Data2=filtrado_Data2.append(filtrar2)\n",
      "/tmp/ipykernel_9904/3091215869.py:16: FutureWarning: The frame.append method is deprecated and will be removed from pandas in a future version. Use pandas.concat instead.\n",
      "  filtrado_Data3=filtrado_Data3.append(filtrar3)\n",
      "/tmp/ipykernel_9904/3091215869.py:17: FutureWarning: The frame.append method is deprecated and will be removed from pandas in a future version. Use pandas.concat instead.\n",
      "  filtrado_Data4=filtrado_Data4.append(filtrar4)\n",
      "/tmp/ipykernel_9904/3091215869.py:18: FutureWarning: The frame.append method is deprecated and will be removed from pandas in a future version. Use pandas.concat instead.\n",
      "  filtrado_Data5=filtrado_Data5.append(filtrar5)\n"
     ]
    },
    {
     "name": "stdout",
     "output_type": "stream",
     "text": [
      "           origen   destino  periodo distancia  viajes\n",
      "fecha                                                 \n",
      "2020-05-17  19024  19058_AM        0   002-005  54.889\n",
      "2020-05-17  19024  19058_AM        0   005-010  36.592\n",
      "2020-05-17  19024  19058_AM        1   002-005  30.494\n"
     ]
    },
    {
     "name": "stderr",
     "output_type": "stream",
     "text": [
      "/tmp/ipykernel_9904/3091215869.py:14: FutureWarning: The frame.append method is deprecated and will be removed from pandas in a future version. Use pandas.concat instead.\n",
      "  filtrado_Data=filtrado_Data.append(filtrar)\n",
      "/tmp/ipykernel_9904/3091215869.py:15: FutureWarning: The frame.append method is deprecated and will be removed from pandas in a future version. Use pandas.concat instead.\n",
      "  filtrado_Data2=filtrado_Data2.append(filtrar2)\n",
      "/tmp/ipykernel_9904/3091215869.py:16: FutureWarning: The frame.append method is deprecated and will be removed from pandas in a future version. Use pandas.concat instead.\n",
      "  filtrado_Data3=filtrado_Data3.append(filtrar3)\n",
      "/tmp/ipykernel_9904/3091215869.py:17: FutureWarning: The frame.append method is deprecated and will be removed from pandas in a future version. Use pandas.concat instead.\n",
      "  filtrado_Data4=filtrado_Data4.append(filtrar4)\n",
      "/tmp/ipykernel_9904/3091215869.py:18: FutureWarning: The frame.append method is deprecated and will be removed from pandas in a future version. Use pandas.concat instead.\n",
      "  filtrado_Data5=filtrado_Data5.append(filtrar5)\n"
     ]
    },
    {
     "name": "stdout",
     "output_type": "stream",
     "text": [
      "              origen   destino  periodo distancia  viajes\n",
      "fecha                                                    \n",
      "2020-05-17     19024  19071_AM       18   010-050   7.234\n",
      "2020-05-17  19046_AM  19071_AM        7   010-050   7.186\n",
      "2020-05-17  19046_AM  19071_AM       12   010-050   7.186\n"
     ]
    },
    {
     "name": "stderr",
     "output_type": "stream",
     "text": [
      "/tmp/ipykernel_9904/3091215869.py:14: FutureWarning: The frame.append method is deprecated and will be removed from pandas in a future version. Use pandas.concat instead.\n",
      "  filtrado_Data=filtrado_Data.append(filtrar)\n",
      "/tmp/ipykernel_9904/3091215869.py:15: FutureWarning: The frame.append method is deprecated and will be removed from pandas in a future version. Use pandas.concat instead.\n",
      "  filtrado_Data2=filtrado_Data2.append(filtrar2)\n",
      "/tmp/ipykernel_9904/3091215869.py:16: FutureWarning: The frame.append method is deprecated and will be removed from pandas in a future version. Use pandas.concat instead.\n",
      "  filtrado_Data3=filtrado_Data3.append(filtrar3)\n",
      "/tmp/ipykernel_9904/3091215869.py:17: FutureWarning: The frame.append method is deprecated and will be removed from pandas in a future version. Use pandas.concat instead.\n",
      "  filtrado_Data4=filtrado_Data4.append(filtrar4)\n",
      "/tmp/ipykernel_9904/3091215869.py:18: FutureWarning: The frame.append method is deprecated and will be removed from pandas in a future version. Use pandas.concat instead.\n",
      "  filtrado_Data5=filtrado_Data5.append(filtrar5)\n"
     ]
    },
    {
     "name": "stdout",
     "output_type": "stream",
     "text": [
      "              origen   destino  periodo distancia  viajes\n",
      "fecha                                                    \n",
      "2020-05-17  19046_AM  19086_AM       10   050-100  12.358\n",
      "2020-05-17  19046_AM  19086_AM       12   050-100   7.186\n",
      "2020-05-17  19046_AM  19086_AM       20   050-100   5.172\n"
     ]
    },
    {
     "name": "stderr",
     "output_type": "stream",
     "text": [
      "/tmp/ipykernel_9904/3091215869.py:14: FutureWarning: The frame.append method is deprecated and will be removed from pandas in a future version. Use pandas.concat instead.\n",
      "  filtrado_Data=filtrado_Data.append(filtrar)\n",
      "/tmp/ipykernel_9904/3091215869.py:15: FutureWarning: The frame.append method is deprecated and will be removed from pandas in a future version. Use pandas.concat instead.\n",
      "  filtrado_Data2=filtrado_Data2.append(filtrar2)\n",
      "/tmp/ipykernel_9904/3091215869.py:16: FutureWarning: The frame.append method is deprecated and will be removed from pandas in a future version. Use pandas.concat instead.\n",
      "  filtrado_Data3=filtrado_Data3.append(filtrar3)\n",
      "/tmp/ipykernel_9904/3091215869.py:17: FutureWarning: The frame.append method is deprecated and will be removed from pandas in a future version. Use pandas.concat instead.\n",
      "  filtrado_Data4=filtrado_Data4.append(filtrar4)\n",
      "/tmp/ipykernel_9904/3091215869.py:18: FutureWarning: The frame.append method is deprecated and will be removed from pandas in a future version. Use pandas.concat instead.\n",
      "  filtrado_Data5=filtrado_Data5.append(filtrar5)\n"
     ]
    },
    {
     "name": "stdout",
     "output_type": "stream",
     "text": [
      "           origen  destino  periodo distancia  viajes\n",
      "fecha                                                \n",
      "2020-05-17  19024  1913001        1   010-050   6.099\n",
      "2020-05-17  19024  1913001        3   005-010   6.099\n",
      "2020-05-17  19024  1913001        3   010-050   6.099\n"
     ]
    },
    {
     "name": "stderr",
     "output_type": "stream",
     "text": [
      "/tmp/ipykernel_9904/3091215869.py:14: FutureWarning: The frame.append method is deprecated and will be removed from pandas in a future version. Use pandas.concat instead.\n",
      "  filtrado_Data=filtrado_Data.append(filtrar)\n",
      "/tmp/ipykernel_9904/3091215869.py:15: FutureWarning: The frame.append method is deprecated and will be removed from pandas in a future version. Use pandas.concat instead.\n",
      "  filtrado_Data2=filtrado_Data2.append(filtrar2)\n",
      "/tmp/ipykernel_9904/3091215869.py:16: FutureWarning: The frame.append method is deprecated and will be removed from pandas in a future version. Use pandas.concat instead.\n",
      "  filtrado_Data3=filtrado_Data3.append(filtrar3)\n",
      "/tmp/ipykernel_9904/3091215869.py:17: FutureWarning: The frame.append method is deprecated and will be removed from pandas in a future version. Use pandas.concat instead.\n",
      "  filtrado_Data4=filtrado_Data4.append(filtrar4)\n",
      "/tmp/ipykernel_9904/3091215869.py:18: FutureWarning: The frame.append method is deprecated and will be removed from pandas in a future version. Use pandas.concat instead.\n",
      "  filtrado_Data5=filtrado_Data5.append(filtrar5)\n"
     ]
    },
    {
     "name": "stdout",
     "output_type": "stream",
     "text": [
      "           origen  destino  periodo distancia  viajes\n",
      "fecha                                                \n",
      "2020-05-17  19024  1913002        0   005-010   6.099\n",
      "2020-05-17  19024  1913002        1   005-010   6.099\n",
      "2020-05-17  19024  1913002        5   005-010   6.099\n"
     ]
    },
    {
     "name": "stderr",
     "output_type": "stream",
     "text": [
      "/tmp/ipykernel_9904/3091215869.py:14: FutureWarning: The frame.append method is deprecated and will be removed from pandas in a future version. Use pandas.concat instead.\n",
      "  filtrado_Data=filtrado_Data.append(filtrar)\n",
      "/tmp/ipykernel_9904/3091215869.py:15: FutureWarning: The frame.append method is deprecated and will be removed from pandas in a future version. Use pandas.concat instead.\n",
      "  filtrado_Data2=filtrado_Data2.append(filtrar2)\n",
      "/tmp/ipykernel_9904/3091215869.py:16: FutureWarning: The frame.append method is deprecated and will be removed from pandas in a future version. Use pandas.concat instead.\n",
      "  filtrado_Data3=filtrado_Data3.append(filtrar3)\n",
      "/tmp/ipykernel_9904/3091215869.py:17: FutureWarning: The frame.append method is deprecated and will be removed from pandas in a future version. Use pandas.concat instead.\n",
      "  filtrado_Data4=filtrado_Data4.append(filtrar4)\n",
      "/tmp/ipykernel_9904/3091215869.py:18: FutureWarning: The frame.append method is deprecated and will be removed from pandas in a future version. Use pandas.concat instead.\n",
      "  filtrado_Data5=filtrado_Data5.append(filtrar5)\n"
     ]
    },
    {
     "name": "stdout",
     "output_type": "stream",
     "text": [
      "           origen  destino  periodo distancia  viajes\n",
      "fecha                                                \n",
      "2020-05-17  19024  1913003        4   005-010   6.099\n",
      "2020-05-17  19024  1913003        5   005-010   6.099\n",
      "2020-05-17  19024  1913003        9   010-050   6.099\n"
     ]
    },
    {
     "name": "stderr",
     "output_type": "stream",
     "text": [
      "/tmp/ipykernel_9904/3091215869.py:14: FutureWarning: The frame.append method is deprecated and will be removed from pandas in a future version. Use pandas.concat instead.\n",
      "  filtrado_Data=filtrado_Data.append(filtrar)\n",
      "/tmp/ipykernel_9904/3091215869.py:15: FutureWarning: The frame.append method is deprecated and will be removed from pandas in a future version. Use pandas.concat instead.\n",
      "  filtrado_Data2=filtrado_Data2.append(filtrar2)\n",
      "/tmp/ipykernel_9904/3091215869.py:16: FutureWarning: The frame.append method is deprecated and will be removed from pandas in a future version. Use pandas.concat instead.\n",
      "  filtrado_Data3=filtrado_Data3.append(filtrar3)\n",
      "/tmp/ipykernel_9904/3091215869.py:17: FutureWarning: The frame.append method is deprecated and will be removed from pandas in a future version. Use pandas.concat instead.\n",
      "  filtrado_Data4=filtrado_Data4.append(filtrar4)\n",
      "/tmp/ipykernel_9904/3091215869.py:18: FutureWarning: The frame.append method is deprecated and will be removed from pandas in a future version. Use pandas.concat instead.\n",
      "  filtrado_Data5=filtrado_Data5.append(filtrar5)\n"
     ]
    },
    {
     "name": "stdout",
     "output_type": "stream",
     "text": [
      "           origen  destino  periodo distancia  viajes\n",
      "fecha                                                \n",
      "2020-05-17  19024  1913004        6   005-010  18.296\n",
      "2020-05-17  19024  1913004        7   005-010   6.099\n",
      "2020-05-17  19024  1913004       11   005-010   6.099\n"
     ]
    },
    {
     "name": "stderr",
     "output_type": "stream",
     "text": [
      "/tmp/ipykernel_9904/3091215869.py:14: FutureWarning: The frame.append method is deprecated and will be removed from pandas in a future version. Use pandas.concat instead.\n",
      "  filtrado_Data=filtrado_Data.append(filtrar)\n",
      "/tmp/ipykernel_9904/3091215869.py:15: FutureWarning: The frame.append method is deprecated and will be removed from pandas in a future version. Use pandas.concat instead.\n",
      "  filtrado_Data2=filtrado_Data2.append(filtrar2)\n",
      "/tmp/ipykernel_9904/3091215869.py:16: FutureWarning: The frame.append method is deprecated and will be removed from pandas in a future version. Use pandas.concat instead.\n",
      "  filtrado_Data3=filtrado_Data3.append(filtrar3)\n",
      "/tmp/ipykernel_9904/3091215869.py:17: FutureWarning: The frame.append method is deprecated and will be removed from pandas in a future version. Use pandas.concat instead.\n",
      "  filtrado_Data4=filtrado_Data4.append(filtrar4)\n",
      "/tmp/ipykernel_9904/3091215869.py:18: FutureWarning: The frame.append method is deprecated and will be removed from pandas in a future version. Use pandas.concat instead.\n",
      "  filtrado_Data5=filtrado_Data5.append(filtrar5)\n"
     ]
    },
    {
     "name": "stdout",
     "output_type": "stream",
     "text": [
      "           origen  destino  periodo distancia  viajes\n",
      "fecha                                                \n",
      "2020-05-17  19024  1913005        1   005-010   6.099\n",
      "2020-05-17  19024  1913005        4   005-010   6.099\n",
      "2020-05-17  19024  1913005        7   005-010   6.099\n"
     ]
    },
    {
     "name": "stderr",
     "output_type": "stream",
     "text": [
      "/tmp/ipykernel_9904/3091215869.py:14: FutureWarning: The frame.append method is deprecated and will be removed from pandas in a future version. Use pandas.concat instead.\n",
      "  filtrado_Data=filtrado_Data.append(filtrar)\n",
      "/tmp/ipykernel_9904/3091215869.py:15: FutureWarning: The frame.append method is deprecated and will be removed from pandas in a future version. Use pandas.concat instead.\n",
      "  filtrado_Data2=filtrado_Data2.append(filtrar2)\n",
      "/tmp/ipykernel_9904/3091215869.py:16: FutureWarning: The frame.append method is deprecated and will be removed from pandas in a future version. Use pandas.concat instead.\n",
      "  filtrado_Data3=filtrado_Data3.append(filtrar3)\n",
      "/tmp/ipykernel_9904/3091215869.py:17: FutureWarning: The frame.append method is deprecated and will be removed from pandas in a future version. Use pandas.concat instead.\n",
      "  filtrado_Data4=filtrado_Data4.append(filtrar4)\n",
      "/tmp/ipykernel_9904/3091215869.py:18: FutureWarning: The frame.append method is deprecated and will be removed from pandas in a future version. Use pandas.concat instead.\n",
      "  filtrado_Data5=filtrado_Data5.append(filtrar5)\n"
     ]
    },
    {
     "name": "stdout",
     "output_type": "stream",
     "text": [
      "           origen   destino  periodo distancia  viajes\n",
      "fecha                                                 \n",
      "2020-05-17  19024  19151_AM       11   010-050  12.198\n",
      "2020-05-17  19024  19151_AM       11   050-100  12.197\n",
      "2020-05-17  19024  19151_AM       13   010-050   6.099\n"
     ]
    },
    {
     "name": "stderr",
     "output_type": "stream",
     "text": [
      "/tmp/ipykernel_9904/3091215869.py:14: FutureWarning: The frame.append method is deprecated and will be removed from pandas in a future version. Use pandas.concat instead.\n",
      "  filtrado_Data=filtrado_Data.append(filtrar)\n",
      "/tmp/ipykernel_9904/3091215869.py:15: FutureWarning: The frame.append method is deprecated and will be removed from pandas in a future version. Use pandas.concat instead.\n",
      "  filtrado_Data2=filtrado_Data2.append(filtrar2)\n",
      "/tmp/ipykernel_9904/3091215869.py:16: FutureWarning: The frame.append method is deprecated and will be removed from pandas in a future version. Use pandas.concat instead.\n",
      "  filtrado_Data3=filtrado_Data3.append(filtrar3)\n",
      "/tmp/ipykernel_9904/3091215869.py:17: FutureWarning: The frame.append method is deprecated and will be removed from pandas in a future version. Use pandas.concat instead.\n",
      "  filtrado_Data4=filtrado_Data4.append(filtrar4)\n",
      "/tmp/ipykernel_9904/3091215869.py:18: FutureWarning: The frame.append method is deprecated and will be removed from pandas in a future version. Use pandas.concat instead.\n",
      "  filtrado_Data5=filtrado_Data5.append(filtrar5)\n"
     ]
    },
    {
     "name": "stdout",
     "output_type": "stream",
     "text": [
      "           origen   destino  periodo distancia  viajes\n",
      "fecha                                                 \n",
      "2020-05-17  19024  19156_AM       10   010-050   6.099\n",
      "2020-05-17  19024  19156_AM       10   050-100   6.099\n",
      "2020-05-17  19024  19156_AM       14   010-050   6.099\n"
     ]
    },
    {
     "name": "stderr",
     "output_type": "stream",
     "text": [
      "/tmp/ipykernel_9904/3091215869.py:14: FutureWarning: The frame.append method is deprecated and will be removed from pandas in a future version. Use pandas.concat instead.\n",
      "  filtrado_Data=filtrado_Data.append(filtrar)\n",
      "/tmp/ipykernel_9904/3091215869.py:15: FutureWarning: The frame.append method is deprecated and will be removed from pandas in a future version. Use pandas.concat instead.\n",
      "  filtrado_Data2=filtrado_Data2.append(filtrar2)\n",
      "/tmp/ipykernel_9904/3091215869.py:16: FutureWarning: The frame.append method is deprecated and will be removed from pandas in a future version. Use pandas.concat instead.\n",
      "  filtrado_Data3=filtrado_Data3.append(filtrar3)\n",
      "/tmp/ipykernel_9904/3091215869.py:17: FutureWarning: The frame.append method is deprecated and will be removed from pandas in a future version. Use pandas.concat instead.\n",
      "  filtrado_Data4=filtrado_Data4.append(filtrar4)\n",
      "/tmp/ipykernel_9904/3091215869.py:18: FutureWarning: The frame.append method is deprecated and will be removed from pandas in a future version. Use pandas.concat instead.\n",
      "  filtrado_Data5=filtrado_Data5.append(filtrar5)\n"
     ]
    },
    {
     "name": "stdout",
     "output_type": "stream",
     "text": [
      "           origen   destino  periodo distancia  viajes\n",
      "fecha                                                 \n",
      "2020-05-17  19024  19160_AM       10   010-050   6.099\n",
      "2020-05-17  19024  19160_AM       11   010-050   6.099\n",
      "2020-05-17  19024  19160_AM        6   010-050   5.027\n"
     ]
    },
    {
     "name": "stderr",
     "output_type": "stream",
     "text": [
      "/tmp/ipykernel_9904/3091215869.py:14: FutureWarning: The frame.append method is deprecated and will be removed from pandas in a future version. Use pandas.concat instead.\n",
      "  filtrado_Data=filtrado_Data.append(filtrar)\n",
      "/tmp/ipykernel_9904/3091215869.py:15: FutureWarning: The frame.append method is deprecated and will be removed from pandas in a future version. Use pandas.concat instead.\n",
      "  filtrado_Data2=filtrado_Data2.append(filtrar2)\n",
      "/tmp/ipykernel_9904/3091215869.py:16: FutureWarning: The frame.append method is deprecated and will be removed from pandas in a future version. Use pandas.concat instead.\n",
      "  filtrado_Data3=filtrado_Data3.append(filtrar3)\n",
      "/tmp/ipykernel_9904/3091215869.py:17: FutureWarning: The frame.append method is deprecated and will be removed from pandas in a future version. Use pandas.concat instead.\n",
      "  filtrado_Data4=filtrado_Data4.append(filtrar4)\n",
      "/tmp/ipykernel_9904/3091215869.py:18: FutureWarning: The frame.append method is deprecated and will be removed from pandas in a future version. Use pandas.concat instead.\n",
      "  filtrado_Data5=filtrado_Data5.append(filtrar5)\n"
     ]
    },
    {
     "name": "stdout",
     "output_type": "stream",
     "text": [
      "           origen destino  periodo distancia  viajes\n",
      "fecha                                               \n",
      "2020-05-17  19024   19171        3   005-010  18.296\n",
      "2020-05-17  19024   19171        3   010-050   6.099\n",
      "2020-05-17  19024   19171        4   005-010   6.099\n"
     ]
    },
    {
     "name": "stderr",
     "output_type": "stream",
     "text": [
      "/tmp/ipykernel_9904/3091215869.py:14: FutureWarning: The frame.append method is deprecated and will be removed from pandas in a future version. Use pandas.concat instead.\n",
      "  filtrado_Data=filtrado_Data.append(filtrar)\n",
      "/tmp/ipykernel_9904/3091215869.py:15: FutureWarning: The frame.append method is deprecated and will be removed from pandas in a future version. Use pandas.concat instead.\n",
      "  filtrado_Data2=filtrado_Data2.append(filtrar2)\n",
      "/tmp/ipykernel_9904/3091215869.py:16: FutureWarning: The frame.append method is deprecated and will be removed from pandas in a future version. Use pandas.concat instead.\n",
      "  filtrado_Data3=filtrado_Data3.append(filtrar3)\n",
      "/tmp/ipykernel_9904/3091215869.py:17: FutureWarning: The frame.append method is deprecated and will be removed from pandas in a future version. Use pandas.concat instead.\n",
      "  filtrado_Data4=filtrado_Data4.append(filtrar4)\n",
      "/tmp/ipykernel_9904/3091215869.py:18: FutureWarning: The frame.append method is deprecated and will be removed from pandas in a future version. Use pandas.concat instead.\n",
      "  filtrado_Data5=filtrado_Data5.append(filtrar5)\n"
     ]
    },
    {
     "name": "stdout",
     "output_type": "stream",
     "text": [
      "              origen   destino  periodo distancia  viajes\n",
      "fecha                                                    \n",
      "2020-05-17  19086_AM  19190_AM        7   010-050  22.062\n",
      "2020-05-17  19086_AM  19190_AM        8   005-010  22.062\n",
      "2020-05-17  19086_AM  19190_AM       10   010-050  22.062\n"
     ]
    },
    {
     "name": "stderr",
     "output_type": "stream",
     "text": [
      "/tmp/ipykernel_9904/3091215869.py:14: FutureWarning: The frame.append method is deprecated and will be removed from pandas in a future version. Use pandas.concat instead.\n",
      "  filtrado_Data=filtrado_Data.append(filtrar)\n",
      "/tmp/ipykernel_9904/3091215869.py:15: FutureWarning: The frame.append method is deprecated and will be removed from pandas in a future version. Use pandas.concat instead.\n",
      "  filtrado_Data2=filtrado_Data2.append(filtrar2)\n",
      "/tmp/ipykernel_9904/3091215869.py:16: FutureWarning: The frame.append method is deprecated and will be removed from pandas in a future version. Use pandas.concat instead.\n",
      "  filtrado_Data3=filtrado_Data3.append(filtrar3)\n",
      "/tmp/ipykernel_9904/3091215869.py:17: FutureWarning: The frame.append method is deprecated and will be removed from pandas in a future version. Use pandas.concat instead.\n",
      "  filtrado_Data4=filtrado_Data4.append(filtrar4)\n",
      "/tmp/ipykernel_9904/3091215869.py:18: FutureWarning: The frame.append method is deprecated and will be removed from pandas in a future version. Use pandas.concat instead.\n",
      "  filtrado_Data5=filtrado_Data5.append(filtrar5)\n"
     ]
    },
    {
     "name": "stdout",
     "output_type": "stream",
     "text": [
      "              origen   destino  periodo distancia  viajes\n",
      "fecha                                                    \n",
      "2020-05-17     19024  19192_AM        8   010-050   9.205\n",
      "2020-05-17  19046_AM  19192_AM       21   010-050  11.573\n",
      "2020-05-17  19046_AM  19192_AM       12   010-050   6.949\n"
     ]
    },
    {
     "name": "stderr",
     "output_type": "stream",
     "text": [
      "/tmp/ipykernel_9904/3091215869.py:14: FutureWarning: The frame.append method is deprecated and will be removed from pandas in a future version. Use pandas.concat instead.\n",
      "  filtrado_Data=filtrado_Data.append(filtrar)\n",
      "/tmp/ipykernel_9904/3091215869.py:15: FutureWarning: The frame.append method is deprecated and will be removed from pandas in a future version. Use pandas.concat instead.\n",
      "  filtrado_Data2=filtrado_Data2.append(filtrar2)\n",
      "/tmp/ipykernel_9904/3091215869.py:16: FutureWarning: The frame.append method is deprecated and will be removed from pandas in a future version. Use pandas.concat instead.\n",
      "  filtrado_Data3=filtrado_Data3.append(filtrar3)\n",
      "/tmp/ipykernel_9904/3091215869.py:17: FutureWarning: The frame.append method is deprecated and will be removed from pandas in a future version. Use pandas.concat instead.\n",
      "  filtrado_Data4=filtrado_Data4.append(filtrar4)\n",
      "/tmp/ipykernel_9904/3091215869.py:18: FutureWarning: The frame.append method is deprecated and will be removed from pandas in a future version. Use pandas.concat instead.\n",
      "  filtrado_Data5=filtrado_Data5.append(filtrar5)\n"
     ]
    },
    {
     "name": "stdout",
     "output_type": "stream",
     "text": [
      "              origen   destino  periodo distancia  viajes\n",
      "fecha                                                    \n",
      "2020-05-17     19024  19220_AM       19   010-050   6.099\n",
      "2020-05-17  19046_AM  19220_AM        0   005-010   5.172\n",
      "2020-05-17  19046_AM  19220_AM       12   010-050   7.186\n"
     ]
    },
    {
     "name": "stderr",
     "output_type": "stream",
     "text": [
      "/tmp/ipykernel_9904/3091215869.py:14: FutureWarning: The frame.append method is deprecated and will be removed from pandas in a future version. Use pandas.concat instead.\n",
      "  filtrado_Data=filtrado_Data.append(filtrar)\n",
      "/tmp/ipykernel_9904/3091215869.py:15: FutureWarning: The frame.append method is deprecated and will be removed from pandas in a future version. Use pandas.concat instead.\n",
      "  filtrado_Data2=filtrado_Data2.append(filtrar2)\n",
      "/tmp/ipykernel_9904/3091215869.py:16: FutureWarning: The frame.append method is deprecated and will be removed from pandas in a future version. Use pandas.concat instead.\n",
      "  filtrado_Data3=filtrado_Data3.append(filtrar3)\n",
      "/tmp/ipykernel_9904/3091215869.py:17: FutureWarning: The frame.append method is deprecated and will be removed from pandas in a future version. Use pandas.concat instead.\n",
      "  filtrado_Data4=filtrado_Data4.append(filtrar4)\n",
      "/tmp/ipykernel_9904/3091215869.py:18: FutureWarning: The frame.append method is deprecated and will be removed from pandas in a future version. Use pandas.concat instead.\n",
      "  filtrado_Data5=filtrado_Data5.append(filtrar5)\n"
     ]
    },
    {
     "name": "stdout",
     "output_type": "stream",
     "text": [
      "           origen   destino  periodo distancia  viajes\n",
      "fecha                                                 \n",
      "2020-05-17  19024  19245_AM       13   010-050  12.197\n",
      "2020-05-17  19024  19245_AM       18   050-100   6.099\n",
      "2020-05-17  19024  19245_AM       19   010-050  12.197\n"
     ]
    },
    {
     "name": "stderr",
     "output_type": "stream",
     "text": [
      "/tmp/ipykernel_9904/3091215869.py:14: FutureWarning: The frame.append method is deprecated and will be removed from pandas in a future version. Use pandas.concat instead.\n",
      "  filtrado_Data=filtrado_Data.append(filtrar)\n",
      "/tmp/ipykernel_9904/3091215869.py:15: FutureWarning: The frame.append method is deprecated and will be removed from pandas in a future version. Use pandas.concat instead.\n",
      "  filtrado_Data2=filtrado_Data2.append(filtrar2)\n",
      "/tmp/ipykernel_9904/3091215869.py:16: FutureWarning: The frame.append method is deprecated and will be removed from pandas in a future version. Use pandas.concat instead.\n",
      "  filtrado_Data3=filtrado_Data3.append(filtrar3)\n",
      "/tmp/ipykernel_9904/3091215869.py:17: FutureWarning: The frame.append method is deprecated and will be removed from pandas in a future version. Use pandas.concat instead.\n",
      "  filtrado_Data4=filtrado_Data4.append(filtrar4)\n",
      "/tmp/ipykernel_9904/3091215869.py:18: FutureWarning: The frame.append method is deprecated and will be removed from pandas in a future version. Use pandas.concat instead.\n",
      "  filtrado_Data5=filtrado_Data5.append(filtrar5)\n"
     ]
    },
    {
     "name": "stdout",
     "output_type": "stream",
     "text": [
      "              origen   destino  periodo distancia  viajes\n",
      "fecha                                                    \n",
      "2020-05-17  19046_AM  19257_AM       11   050-100   7.186\n",
      "2020-05-17  19046_AM  19257_AM       14   050-100   7.186\n",
      "2020-05-17  19046_AM  19257_AM        5   050-100   4.829\n"
     ]
    },
    {
     "name": "stderr",
     "output_type": "stream",
     "text": [
      "/tmp/ipykernel_9904/3091215869.py:14: FutureWarning: The frame.append method is deprecated and will be removed from pandas in a future version. Use pandas.concat instead.\n",
      "  filtrado_Data=filtrado_Data.append(filtrar)\n",
      "/tmp/ipykernel_9904/3091215869.py:15: FutureWarning: The frame.append method is deprecated and will be removed from pandas in a future version. Use pandas.concat instead.\n",
      "  filtrado_Data2=filtrado_Data2.append(filtrar2)\n",
      "/tmp/ipykernel_9904/3091215869.py:16: FutureWarning: The frame.append method is deprecated and will be removed from pandas in a future version. Use pandas.concat instead.\n",
      "  filtrado_Data3=filtrado_Data3.append(filtrar3)\n",
      "/tmp/ipykernel_9904/3091215869.py:17: FutureWarning: The frame.append method is deprecated and will be removed from pandas in a future version. Use pandas.concat instead.\n",
      "  filtrado_Data4=filtrado_Data4.append(filtrar4)\n",
      "/tmp/ipykernel_9904/3091215869.py:18: FutureWarning: The frame.append method is deprecated and will be removed from pandas in a future version. Use pandas.concat instead.\n",
      "  filtrado_Data5=filtrado_Data5.append(filtrar5)\n"
     ]
    },
    {
     "name": "stdout",
     "output_type": "stream",
     "text": [
      "           origen   destino  periodo distancia  viajes\n",
      "fecha                                                 \n",
      "2020-05-17  19024  19274_AM       10   010-050   6.099\n",
      "2020-05-17  19024  19274_AM       11   010-050   6.099\n",
      "2020-05-17  19024  19274_AM       14   010-050  12.198\n"
     ]
    },
    {
     "name": "stderr",
     "output_type": "stream",
     "text": [
      "/tmp/ipykernel_9904/3091215869.py:14: FutureWarning: The frame.append method is deprecated and will be removed from pandas in a future version. Use pandas.concat instead.\n",
      "  filtrado_Data=filtrado_Data.append(filtrar)\n",
      "/tmp/ipykernel_9904/3091215869.py:15: FutureWarning: The frame.append method is deprecated and will be removed from pandas in a future version. Use pandas.concat instead.\n",
      "  filtrado_Data2=filtrado_Data2.append(filtrar2)\n",
      "/tmp/ipykernel_9904/3091215869.py:16: FutureWarning: The frame.append method is deprecated and will be removed from pandas in a future version. Use pandas.concat instead.\n",
      "  filtrado_Data3=filtrado_Data3.append(filtrar3)\n",
      "/tmp/ipykernel_9904/3091215869.py:17: FutureWarning: The frame.append method is deprecated and will be removed from pandas in a future version. Use pandas.concat instead.\n",
      "  filtrado_Data4=filtrado_Data4.append(filtrar4)\n",
      "/tmp/ipykernel_9904/3091215869.py:18: FutureWarning: The frame.append method is deprecated and will be removed from pandas in a future version. Use pandas.concat instead.\n",
      "  filtrado_Data5=filtrado_Data5.append(filtrar5)\n"
     ]
    },
    {
     "name": "stdout",
     "output_type": "stream",
     "text": [
      "           origen   destino  periodo distancia  viajes\n",
      "fecha                                                 \n",
      "2020-05-17  19024  19280_AM       13   005-010   6.099\n",
      "2020-05-17  19024  19280_AM       13   010-050   6.099\n",
      "2020-05-17  19024  19280_AM       14   010-050   6.099\n"
     ]
    },
    {
     "name": "stderr",
     "output_type": "stream",
     "text": [
      "/tmp/ipykernel_9904/3091215869.py:14: FutureWarning: The frame.append method is deprecated and will be removed from pandas in a future version. Use pandas.concat instead.\n",
      "  filtrado_Data=filtrado_Data.append(filtrar)\n",
      "/tmp/ipykernel_9904/3091215869.py:15: FutureWarning: The frame.append method is deprecated and will be removed from pandas in a future version. Use pandas.concat instead.\n",
      "  filtrado_Data2=filtrado_Data2.append(filtrar2)\n",
      "/tmp/ipykernel_9904/3091215869.py:16: FutureWarning: The frame.append method is deprecated and will be removed from pandas in a future version. Use pandas.concat instead.\n",
      "  filtrado_Data3=filtrado_Data3.append(filtrar3)\n",
      "/tmp/ipykernel_9904/3091215869.py:17: FutureWarning: The frame.append method is deprecated and will be removed from pandas in a future version. Use pandas.concat instead.\n",
      "  filtrado_Data4=filtrado_Data4.append(filtrar4)\n",
      "/tmp/ipykernel_9904/3091215869.py:18: FutureWarning: The frame.append method is deprecated and will be removed from pandas in a future version. Use pandas.concat instead.\n",
      "  filtrado_Data5=filtrado_Data5.append(filtrar5)\n"
     ]
    },
    {
     "name": "stdout",
     "output_type": "stream",
     "text": [
      "           origen destino  periodo distancia  viajes\n",
      "fecha                                               \n",
      "2020-05-17  19024   19319        0   002-005  12.197\n",
      "2020-05-17  19024   19319        1   002-005   6.099\n",
      "2020-05-17  19024   19319        2   002-005   6.099\n"
     ]
    },
    {
     "name": "stderr",
     "output_type": "stream",
     "text": [
      "/tmp/ipykernel_9904/3091215869.py:14: FutureWarning: The frame.append method is deprecated and will be removed from pandas in a future version. Use pandas.concat instead.\n",
      "  filtrado_Data=filtrado_Data.append(filtrar)\n",
      "/tmp/ipykernel_9904/3091215869.py:15: FutureWarning: The frame.append method is deprecated and will be removed from pandas in a future version. Use pandas.concat instead.\n",
      "  filtrado_Data2=filtrado_Data2.append(filtrar2)\n",
      "/tmp/ipykernel_9904/3091215869.py:16: FutureWarning: The frame.append method is deprecated and will be removed from pandas in a future version. Use pandas.concat instead.\n",
      "  filtrado_Data3=filtrado_Data3.append(filtrar3)\n",
      "/tmp/ipykernel_9904/3091215869.py:17: FutureWarning: The frame.append method is deprecated and will be removed from pandas in a future version. Use pandas.concat instead.\n",
      "  filtrado_Data4=filtrado_Data4.append(filtrar4)\n",
      "/tmp/ipykernel_9904/3091215869.py:18: FutureWarning: The frame.append method is deprecated and will be removed from pandas in a future version. Use pandas.concat instead.\n",
      "  filtrado_Data5=filtrado_Data5.append(filtrar5)\n"
     ]
    },
    {
     "name": "stdout",
     "output_type": "stream",
     "text": [
      "           origen   destino  periodo distancia  viajes\n",
      "fecha                                                 \n",
      "2020-05-17  19024  19326_AM        0   010-050   6.099\n",
      "2020-05-17  19024  19326_AM       14   010-050   6.099\n",
      "2020-05-17  19024  19326_AM       17   010-050  12.197\n"
     ]
    },
    {
     "name": "stderr",
     "output_type": "stream",
     "text": [
      "/tmp/ipykernel_9904/3091215869.py:14: FutureWarning: The frame.append method is deprecated and will be removed from pandas in a future version. Use pandas.concat instead.\n",
      "  filtrado_Data=filtrado_Data.append(filtrar)\n",
      "/tmp/ipykernel_9904/3091215869.py:15: FutureWarning: The frame.append method is deprecated and will be removed from pandas in a future version. Use pandas.concat instead.\n",
      "  filtrado_Data2=filtrado_Data2.append(filtrar2)\n",
      "/tmp/ipykernel_9904/3091215869.py:16: FutureWarning: The frame.append method is deprecated and will be removed from pandas in a future version. Use pandas.concat instead.\n",
      "  filtrado_Data3=filtrado_Data3.append(filtrar3)\n",
      "/tmp/ipykernel_9904/3091215869.py:17: FutureWarning: The frame.append method is deprecated and will be removed from pandas in a future version. Use pandas.concat instead.\n",
      "  filtrado_Data4=filtrado_Data4.append(filtrar4)\n",
      "/tmp/ipykernel_9904/3091215869.py:18: FutureWarning: The frame.append method is deprecated and will be removed from pandas in a future version. Use pandas.concat instead.\n",
      "  filtrado_Data5=filtrado_Data5.append(filtrar5)\n"
     ]
    },
    {
     "name": "stdout",
     "output_type": "stream",
     "text": [
      "           origen   destino  periodo distancia  viajes\n",
      "fecha                                                 \n",
      "2020-05-17  19024  19331_AM       10   010-050   6.099\n",
      "2020-05-17  19024  19331_AM       13   010-050   6.099\n",
      "2020-05-17  19024  19331_AM       18   010-050   6.099\n"
     ]
    },
    {
     "name": "stderr",
     "output_type": "stream",
     "text": [
      "/tmp/ipykernel_9904/3091215869.py:14: FutureWarning: The frame.append method is deprecated and will be removed from pandas in a future version. Use pandas.concat instead.\n",
      "  filtrado_Data=filtrado_Data.append(filtrar)\n",
      "/tmp/ipykernel_9904/3091215869.py:15: FutureWarning: The frame.append method is deprecated and will be removed from pandas in a future version. Use pandas.concat instead.\n",
      "  filtrado_Data2=filtrado_Data2.append(filtrar2)\n",
      "/tmp/ipykernel_9904/3091215869.py:16: FutureWarning: The frame.append method is deprecated and will be removed from pandas in a future version. Use pandas.concat instead.\n",
      "  filtrado_Data3=filtrado_Data3.append(filtrar3)\n",
      "/tmp/ipykernel_9904/3091215869.py:17: FutureWarning: The frame.append method is deprecated and will be removed from pandas in a future version. Use pandas.concat instead.\n",
      "  filtrado_Data4=filtrado_Data4.append(filtrar4)\n",
      "/tmp/ipykernel_9904/3091215869.py:18: FutureWarning: The frame.append method is deprecated and will be removed from pandas in a future version. Use pandas.concat instead.\n",
      "  filtrado_Data5=filtrado_Data5.append(filtrar5)\n"
     ]
    },
    {
     "name": "stdout",
     "output_type": "stream",
     "text": [
      "              origen destino  periodo distancia  viajes\n",
      "fecha                                                  \n",
      "2020-05-17  19046_AM   28002        7   010-050   9.549\n",
      "2020-05-17  19046_AM   28002       19   010-050   6.258\n",
      "2020-05-17  19071_AM   28002        8   010-050   7.656\n"
     ]
    },
    {
     "name": "stderr",
     "output_type": "stream",
     "text": [
      "/tmp/ipykernel_9904/3091215869.py:14: FutureWarning: The frame.append method is deprecated and will be removed from pandas in a future version. Use pandas.concat instead.\n",
      "  filtrado_Data=filtrado_Data.append(filtrar)\n",
      "/tmp/ipykernel_9904/3091215869.py:15: FutureWarning: The frame.append method is deprecated and will be removed from pandas in a future version. Use pandas.concat instead.\n",
      "  filtrado_Data2=filtrado_Data2.append(filtrar2)\n",
      "/tmp/ipykernel_9904/3091215869.py:16: FutureWarning: The frame.append method is deprecated and will be removed from pandas in a future version. Use pandas.concat instead.\n",
      "  filtrado_Data3=filtrado_Data3.append(filtrar3)\n",
      "/tmp/ipykernel_9904/3091215869.py:17: FutureWarning: The frame.append method is deprecated and will be removed from pandas in a future version. Use pandas.concat instead.\n",
      "  filtrado_Data4=filtrado_Data4.append(filtrar4)\n",
      "/tmp/ipykernel_9904/3091215869.py:18: FutureWarning: The frame.append method is deprecated and will be removed from pandas in a future version. Use pandas.concat instead.\n",
      "  filtrado_Data5=filtrado_Data5.append(filtrar5)\n"
     ]
    },
    {
     "name": "stdout",
     "output_type": "stream",
     "text": [
      "           origen destino  periodo distancia  viajes\n",
      "fecha                                               \n",
      "2020-05-17  28004   28004        0   002-005  10.021\n",
      "2020-05-17  28004   28004        4   002-005  10.021\n",
      "2020-05-17  28004   28004        5   002-005  10.021\n"
     ]
    },
    {
     "name": "stderr",
     "output_type": "stream",
     "text": [
      "/tmp/ipykernel_9904/3091215869.py:14: FutureWarning: The frame.append method is deprecated and will be removed from pandas in a future version. Use pandas.concat instead.\n",
      "  filtrado_Data=filtrado_Data.append(filtrar)\n",
      "/tmp/ipykernel_9904/3091215869.py:15: FutureWarning: The frame.append method is deprecated and will be removed from pandas in a future version. Use pandas.concat instead.\n",
      "  filtrado_Data2=filtrado_Data2.append(filtrar2)\n",
      "/tmp/ipykernel_9904/3091215869.py:16: FutureWarning: The frame.append method is deprecated and will be removed from pandas in a future version. Use pandas.concat instead.\n",
      "  filtrado_Data3=filtrado_Data3.append(filtrar3)\n",
      "/tmp/ipykernel_9904/3091215869.py:17: FutureWarning: The frame.append method is deprecated and will be removed from pandas in a future version. Use pandas.concat instead.\n",
      "  filtrado_Data4=filtrado_Data4.append(filtrar4)\n",
      "/tmp/ipykernel_9904/3091215869.py:18: FutureWarning: The frame.append method is deprecated and will be removed from pandas in a future version. Use pandas.concat instead.\n",
      "  filtrado_Data5=filtrado_Data5.append(filtrar5)\n"
     ]
    },
    {
     "name": "stdout",
     "output_type": "stream",
     "text": [
      "           origen  destino  periodo distancia  viajes\n",
      "fecha                                                \n",
      "2020-05-17  19024  2800501       11   010-050   8.242\n",
      "2020-05-17  19024  2800501       18   010-050   8.681\n",
      "2020-05-17  19024  2800501       20   010-050   8.681\n"
     ]
    },
    {
     "name": "stderr",
     "output_type": "stream",
     "text": [
      "/tmp/ipykernel_9904/3091215869.py:14: FutureWarning: The frame.append method is deprecated and will be removed from pandas in a future version. Use pandas.concat instead.\n",
      "  filtrado_Data=filtrado_Data.append(filtrar)\n",
      "/tmp/ipykernel_9904/3091215869.py:15: FutureWarning: The frame.append method is deprecated and will be removed from pandas in a future version. Use pandas.concat instead.\n",
      "  filtrado_Data2=filtrado_Data2.append(filtrar2)\n",
      "/tmp/ipykernel_9904/3091215869.py:16: FutureWarning: The frame.append method is deprecated and will be removed from pandas in a future version. Use pandas.concat instead.\n",
      "  filtrado_Data3=filtrado_Data3.append(filtrar3)\n",
      "/tmp/ipykernel_9904/3091215869.py:17: FutureWarning: The frame.append method is deprecated and will be removed from pandas in a future version. Use pandas.concat instead.\n",
      "  filtrado_Data4=filtrado_Data4.append(filtrar4)\n",
      "/tmp/ipykernel_9904/3091215869.py:18: FutureWarning: The frame.append method is deprecated and will be removed from pandas in a future version. Use pandas.concat instead.\n",
      "  filtrado_Data5=filtrado_Data5.append(filtrar5)\n"
     ]
    },
    {
     "name": "stdout",
     "output_type": "stream",
     "text": [
      "           origen  destino  periodo distancia  viajes\n",
      "fecha                                                \n",
      "2020-05-17  19024  2800502       13   010-050   8.242\n",
      "2020-05-17  19024  2800502       22   010-050   8.242\n",
      "2020-05-17  19024  2800502       10   010-050  11.000\n"
     ]
    },
    {
     "name": "stderr",
     "output_type": "stream",
     "text": [
      "/tmp/ipykernel_9904/3091215869.py:14: FutureWarning: The frame.append method is deprecated and will be removed from pandas in a future version. Use pandas.concat instead.\n",
      "  filtrado_Data=filtrado_Data.append(filtrar)\n",
      "/tmp/ipykernel_9904/3091215869.py:15: FutureWarning: The frame.append method is deprecated and will be removed from pandas in a future version. Use pandas.concat instead.\n",
      "  filtrado_Data2=filtrado_Data2.append(filtrar2)\n",
      "/tmp/ipykernel_9904/3091215869.py:16: FutureWarning: The frame.append method is deprecated and will be removed from pandas in a future version. Use pandas.concat instead.\n",
      "  filtrado_Data3=filtrado_Data3.append(filtrar3)\n",
      "/tmp/ipykernel_9904/3091215869.py:17: FutureWarning: The frame.append method is deprecated and will be removed from pandas in a future version. Use pandas.concat instead.\n",
      "  filtrado_Data4=filtrado_Data4.append(filtrar4)\n",
      "/tmp/ipykernel_9904/3091215869.py:18: FutureWarning: The frame.append method is deprecated and will be removed from pandas in a future version. Use pandas.concat instead.\n",
      "  filtrado_Data5=filtrado_Data5.append(filtrar5)\n"
     ]
    },
    {
     "name": "stdout",
     "output_type": "stream",
     "text": [
      "           origen  destino  periodo distancia  viajes\n",
      "fecha                                                \n",
      "2020-05-17  19024  2800503        3   010-050   8.242\n",
      "2020-05-17  19024  2800503        8   010-050   8.242\n",
      "2020-05-17  19024  2800503       15   010-050   8.242\n"
     ]
    },
    {
     "name": "stderr",
     "output_type": "stream",
     "text": [
      "/tmp/ipykernel_9904/3091215869.py:14: FutureWarning: The frame.append method is deprecated and will be removed from pandas in a future version. Use pandas.concat instead.\n",
      "  filtrado_Data=filtrado_Data.append(filtrar)\n",
      "/tmp/ipykernel_9904/3091215869.py:15: FutureWarning: The frame.append method is deprecated and will be removed from pandas in a future version. Use pandas.concat instead.\n",
      "  filtrado_Data2=filtrado_Data2.append(filtrar2)\n",
      "/tmp/ipykernel_9904/3091215869.py:16: FutureWarning: The frame.append method is deprecated and will be removed from pandas in a future version. Use pandas.concat instead.\n",
      "  filtrado_Data3=filtrado_Data3.append(filtrar3)\n",
      "/tmp/ipykernel_9904/3091215869.py:17: FutureWarning: The frame.append method is deprecated and will be removed from pandas in a future version. Use pandas.concat instead.\n",
      "  filtrado_Data4=filtrado_Data4.append(filtrar4)\n",
      "/tmp/ipykernel_9904/3091215869.py:18: FutureWarning: The frame.append method is deprecated and will be removed from pandas in a future version. Use pandas.concat instead.\n",
      "  filtrado_Data5=filtrado_Data5.append(filtrar5)\n"
     ]
    },
    {
     "name": "stdout",
     "output_type": "stream",
     "text": [
      "           origen  destino  periodo distancia  viajes\n",
      "fecha                                                \n",
      "2020-05-17  19024  2800504        0   010-050   8.242\n",
      "2020-05-17  19024  2800504        9   010-050   8.242\n",
      "2020-05-17  19024  2800504       16   010-050   8.242\n"
     ]
    },
    {
     "name": "stderr",
     "output_type": "stream",
     "text": [
      "/tmp/ipykernel_9904/3091215869.py:14: FutureWarning: The frame.append method is deprecated and will be removed from pandas in a future version. Use pandas.concat instead.\n",
      "  filtrado_Data=filtrado_Data.append(filtrar)\n",
      "/tmp/ipykernel_9904/3091215869.py:15: FutureWarning: The frame.append method is deprecated and will be removed from pandas in a future version. Use pandas.concat instead.\n",
      "  filtrado_Data2=filtrado_Data2.append(filtrar2)\n",
      "/tmp/ipykernel_9904/3091215869.py:16: FutureWarning: The frame.append method is deprecated and will be removed from pandas in a future version. Use pandas.concat instead.\n",
      "  filtrado_Data3=filtrado_Data3.append(filtrar3)\n",
      "/tmp/ipykernel_9904/3091215869.py:17: FutureWarning: The frame.append method is deprecated and will be removed from pandas in a future version. Use pandas.concat instead.\n",
      "  filtrado_Data4=filtrado_Data4.append(filtrar4)\n",
      "/tmp/ipykernel_9904/3091215869.py:18: FutureWarning: The frame.append method is deprecated and will be removed from pandas in a future version. Use pandas.concat instead.\n",
      "  filtrado_Data5=filtrado_Data5.append(filtrar5)\n"
     ]
    },
    {
     "name": "stdout",
     "output_type": "stream",
     "text": [
      "           origen  destino  periodo distancia  viajes\n",
      "fecha                                                \n",
      "2020-05-17  19024  2800505        6   010-050   8.242\n",
      "2020-05-17  19024  2800505        9   010-050   8.242\n",
      "2020-05-17  19024  2800505       12   010-050   8.242\n"
     ]
    },
    {
     "name": "stderr",
     "output_type": "stream",
     "text": [
      "/tmp/ipykernel_9904/3091215869.py:14: FutureWarning: The frame.append method is deprecated and will be removed from pandas in a future version. Use pandas.concat instead.\n",
      "  filtrado_Data=filtrado_Data.append(filtrar)\n",
      "/tmp/ipykernel_9904/3091215869.py:15: FutureWarning: The frame.append method is deprecated and will be removed from pandas in a future version. Use pandas.concat instead.\n",
      "  filtrado_Data2=filtrado_Data2.append(filtrar2)\n",
      "/tmp/ipykernel_9904/3091215869.py:16: FutureWarning: The frame.append method is deprecated and will be removed from pandas in a future version. Use pandas.concat instead.\n",
      "  filtrado_Data3=filtrado_Data3.append(filtrar3)\n",
      "/tmp/ipykernel_9904/3091215869.py:17: FutureWarning: The frame.append method is deprecated and will be removed from pandas in a future version. Use pandas.concat instead.\n",
      "  filtrado_Data4=filtrado_Data4.append(filtrar4)\n",
      "/tmp/ipykernel_9904/3091215869.py:18: FutureWarning: The frame.append method is deprecated and will be removed from pandas in a future version. Use pandas.concat instead.\n",
      "  filtrado_Data5=filtrado_Data5.append(filtrar5)\n"
     ]
    },
    {
     "name": "stdout",
     "output_type": "stream",
     "text": [
      "              origen  destino  periodo distancia  viajes\n",
      "fecha                                                   \n",
      "2020-05-17  19046_AM  2800601        8   010-050   9.549\n",
      "2020-05-17  19046_AM  2800601       18   010-050   9.549\n",
      "2020-05-17  19046_AM  2800601       23   010-050   9.549\n"
     ]
    },
    {
     "name": "stderr",
     "output_type": "stream",
     "text": [
      "/tmp/ipykernel_9904/3091215869.py:14: FutureWarning: The frame.append method is deprecated and will be removed from pandas in a future version. Use pandas.concat instead.\n",
      "  filtrado_Data=filtrado_Data.append(filtrar)\n",
      "/tmp/ipykernel_9904/3091215869.py:15: FutureWarning: The frame.append method is deprecated and will be removed from pandas in a future version. Use pandas.concat instead.\n",
      "  filtrado_Data2=filtrado_Data2.append(filtrar2)\n",
      "/tmp/ipykernel_9904/3091215869.py:16: FutureWarning: The frame.append method is deprecated and will be removed from pandas in a future version. Use pandas.concat instead.\n",
      "  filtrado_Data3=filtrado_Data3.append(filtrar3)\n",
      "/tmp/ipykernel_9904/3091215869.py:17: FutureWarning: The frame.append method is deprecated and will be removed from pandas in a future version. Use pandas.concat instead.\n",
      "  filtrado_Data4=filtrado_Data4.append(filtrar4)\n",
      "/tmp/ipykernel_9904/3091215869.py:18: FutureWarning: The frame.append method is deprecated and will be removed from pandas in a future version. Use pandas.concat instead.\n",
      "  filtrado_Data5=filtrado_Data5.append(filtrar5)\n"
     ]
    },
    {
     "name": "stdout",
     "output_type": "stream",
     "text": [
      "              origen  destino  periodo distancia  viajes\n",
      "fecha                                                   \n",
      "2020-05-17  19058_AM  2800701       15   050-100   7.419\n",
      "2020-05-17     28004  2800701        9   010-050  10.021\n",
      "2020-05-17     28004  2800701       16   010-050  10.021\n"
     ]
    },
    {
     "name": "stderr",
     "output_type": "stream",
     "text": [
      "/tmp/ipykernel_9904/3091215869.py:14: FutureWarning: The frame.append method is deprecated and will be removed from pandas in a future version. Use pandas.concat instead.\n",
      "  filtrado_Data=filtrado_Data.append(filtrar)\n",
      "/tmp/ipykernel_9904/3091215869.py:15: FutureWarning: The frame.append method is deprecated and will be removed from pandas in a future version. Use pandas.concat instead.\n",
      "  filtrado_Data2=filtrado_Data2.append(filtrar2)\n",
      "/tmp/ipykernel_9904/3091215869.py:16: FutureWarning: The frame.append method is deprecated and will be removed from pandas in a future version. Use pandas.concat instead.\n",
      "  filtrado_Data3=filtrado_Data3.append(filtrar3)\n",
      "/tmp/ipykernel_9904/3091215869.py:17: FutureWarning: The frame.append method is deprecated and will be removed from pandas in a future version. Use pandas.concat instead.\n",
      "  filtrado_Data4=filtrado_Data4.append(filtrar4)\n",
      "/tmp/ipykernel_9904/3091215869.py:18: FutureWarning: The frame.append method is deprecated and will be removed from pandas in a future version. Use pandas.concat instead.\n",
      "  filtrado_Data5=filtrado_Data5.append(filtrar5)\n"
     ]
    },
    {
     "name": "stdout",
     "output_type": "stream",
     "text": [
      "              origen  destino  periodo distancia  viajes\n",
      "fecha                                                   \n",
      "2020-05-17  19156_AM  2800702       19   050-100   5.275\n",
      "2020-05-17     28004  2800702        5   010-050  10.021\n",
      "2020-05-17     28004  2800702       10   010-050   8.398\n"
     ]
    },
    {
     "name": "stderr",
     "output_type": "stream",
     "text": [
      "/tmp/ipykernel_9904/3091215869.py:14: FutureWarning: The frame.append method is deprecated and will be removed from pandas in a future version. Use pandas.concat instead.\n",
      "  filtrado_Data=filtrado_Data.append(filtrar)\n",
      "/tmp/ipykernel_9904/3091215869.py:15: FutureWarning: The frame.append method is deprecated and will be removed from pandas in a future version. Use pandas.concat instead.\n",
      "  filtrado_Data2=filtrado_Data2.append(filtrar2)\n",
      "/tmp/ipykernel_9904/3091215869.py:16: FutureWarning: The frame.append method is deprecated and will be removed from pandas in a future version. Use pandas.concat instead.\n",
      "  filtrado_Data3=filtrado_Data3.append(filtrar3)\n",
      "/tmp/ipykernel_9904/3091215869.py:17: FutureWarning: The frame.append method is deprecated and will be removed from pandas in a future version. Use pandas.concat instead.\n",
      "  filtrado_Data4=filtrado_Data4.append(filtrar4)\n",
      "/tmp/ipykernel_9904/3091215869.py:18: FutureWarning: The frame.append method is deprecated and will be removed from pandas in a future version. Use pandas.concat instead.\n",
      "  filtrado_Data5=filtrado_Data5.append(filtrar5)\n"
     ]
    },
    {
     "name": "stdout",
     "output_type": "stream",
     "text": [
      "              origen  destino  periodo distancia  viajes\n",
      "fecha                                                   \n",
      "2020-05-17  19071_AM  2800703       20   050-100   8.083\n",
      "2020-05-17  19071_AM  2800703       19   050-100   7.058\n",
      "2020-05-17     28004  2800703       13   010-050  10.021\n"
     ]
    },
    {
     "name": "stderr",
     "output_type": "stream",
     "text": [
      "/tmp/ipykernel_9904/3091215869.py:14: FutureWarning: The frame.append method is deprecated and will be removed from pandas in a future version. Use pandas.concat instead.\n",
      "  filtrado_Data=filtrado_Data.append(filtrar)\n",
      "/tmp/ipykernel_9904/3091215869.py:15: FutureWarning: The frame.append method is deprecated and will be removed from pandas in a future version. Use pandas.concat instead.\n",
      "  filtrado_Data2=filtrado_Data2.append(filtrar2)\n",
      "/tmp/ipykernel_9904/3091215869.py:16: FutureWarning: The frame.append method is deprecated and will be removed from pandas in a future version. Use pandas.concat instead.\n",
      "  filtrado_Data3=filtrado_Data3.append(filtrar3)\n",
      "/tmp/ipykernel_9904/3091215869.py:17: FutureWarning: The frame.append method is deprecated and will be removed from pandas in a future version. Use pandas.concat instead.\n",
      "  filtrado_Data4=filtrado_Data4.append(filtrar4)\n",
      "/tmp/ipykernel_9904/3091215869.py:18: FutureWarning: The frame.append method is deprecated and will be removed from pandas in a future version. Use pandas.concat instead.\n",
      "  filtrado_Data5=filtrado_Data5.append(filtrar5)\n"
     ]
    },
    {
     "name": "stdout",
     "output_type": "stream",
     "text": [
      "              origen  destino  periodo distancia  viajes\n",
      "fecha                                                   \n",
      "2020-05-17  19160_AM  2800704       17   050-100   8.393\n",
      "2020-05-17     28004  2800704       19   010-050  10.021\n",
      "2020-05-17     28004  2800704       21   010-050  10.021\n"
     ]
    },
    {
     "name": "stderr",
     "output_type": "stream",
     "text": [
      "/tmp/ipykernel_9904/3091215869.py:14: FutureWarning: The frame.append method is deprecated and will be removed from pandas in a future version. Use pandas.concat instead.\n",
      "  filtrado_Data=filtrado_Data.append(filtrar)\n",
      "/tmp/ipykernel_9904/3091215869.py:15: FutureWarning: The frame.append method is deprecated and will be removed from pandas in a future version. Use pandas.concat instead.\n",
      "  filtrado_Data2=filtrado_Data2.append(filtrar2)\n",
      "/tmp/ipykernel_9904/3091215869.py:16: FutureWarning: The frame.append method is deprecated and will be removed from pandas in a future version. Use pandas.concat instead.\n",
      "  filtrado_Data3=filtrado_Data3.append(filtrar3)\n",
      "/tmp/ipykernel_9904/3091215869.py:17: FutureWarning: The frame.append method is deprecated and will be removed from pandas in a future version. Use pandas.concat instead.\n",
      "  filtrado_Data4=filtrado_Data4.append(filtrar4)\n",
      "/tmp/ipykernel_9904/3091215869.py:18: FutureWarning: The frame.append method is deprecated and will be removed from pandas in a future version. Use pandas.concat instead.\n",
      "  filtrado_Data5=filtrado_Data5.append(filtrar5)\n"
     ]
    },
    {
     "name": "stdout",
     "output_type": "stream",
     "text": [
      "             origen   destino  periodo distancia  viajes\n",
      "fecha                                                   \n",
      "2020-05-17    28004  28008_AM       12   010-050  10.021\n",
      "2020-05-17  2800701  28008_AM        0   010-050   6.491\n",
      "2020-05-17  2800701  28008_AM       23   010-050   6.491\n"
     ]
    },
    {
     "name": "stderr",
     "output_type": "stream",
     "text": [
      "/tmp/ipykernel_9904/3091215869.py:14: FutureWarning: The frame.append method is deprecated and will be removed from pandas in a future version. Use pandas.concat instead.\n",
      "  filtrado_Data=filtrado_Data.append(filtrar)\n",
      "/tmp/ipykernel_9904/3091215869.py:15: FutureWarning: The frame.append method is deprecated and will be removed from pandas in a future version. Use pandas.concat instead.\n",
      "  filtrado_Data2=filtrado_Data2.append(filtrar2)\n",
      "/tmp/ipykernel_9904/3091215869.py:16: FutureWarning: The frame.append method is deprecated and will be removed from pandas in a future version. Use pandas.concat instead.\n",
      "  filtrado_Data3=filtrado_Data3.append(filtrar3)\n",
      "/tmp/ipykernel_9904/3091215869.py:17: FutureWarning: The frame.append method is deprecated and will be removed from pandas in a future version. Use pandas.concat instead.\n",
      "  filtrado_Data4=filtrado_Data4.append(filtrar4)\n",
      "/tmp/ipykernel_9904/3091215869.py:18: FutureWarning: The frame.append method is deprecated and will be removed from pandas in a future version. Use pandas.concat instead.\n",
      "  filtrado_Data5=filtrado_Data5.append(filtrar5)\n"
     ]
    },
    {
     "name": "stdout",
     "output_type": "stream",
     "text": [
      "              origen destino  periodo distancia  viajes\n",
      "fecha                                                  \n",
      "2020-05-17  19058_AM   28009        8   010-050   5.641\n",
      "2020-05-17  19071_AM   28009        3   010-050   9.396\n",
      "2020-05-17  19071_AM   28009        9   010-050  18.792\n"
     ]
    },
    {
     "name": "stderr",
     "output_type": "stream",
     "text": [
      "/tmp/ipykernel_9904/3091215869.py:14: FutureWarning: The frame.append method is deprecated and will be removed from pandas in a future version. Use pandas.concat instead.\n",
      "  filtrado_Data=filtrado_Data.append(filtrar)\n",
      "/tmp/ipykernel_9904/3091215869.py:15: FutureWarning: The frame.append method is deprecated and will be removed from pandas in a future version. Use pandas.concat instead.\n",
      "  filtrado_Data2=filtrado_Data2.append(filtrar2)\n",
      "/tmp/ipykernel_9904/3091215869.py:16: FutureWarning: The frame.append method is deprecated and will be removed from pandas in a future version. Use pandas.concat instead.\n",
      "  filtrado_Data3=filtrado_Data3.append(filtrar3)\n",
      "/tmp/ipykernel_9904/3091215869.py:17: FutureWarning: The frame.append method is deprecated and will be removed from pandas in a future version. Use pandas.concat instead.\n",
      "  filtrado_Data4=filtrado_Data4.append(filtrar4)\n",
      "/tmp/ipykernel_9904/3091215869.py:18: FutureWarning: The frame.append method is deprecated and will be removed from pandas in a future version. Use pandas.concat instead.\n",
      "  filtrado_Data5=filtrado_Data5.append(filtrar5)\n"
     ]
    },
    {
     "name": "stdout",
     "output_type": "stream",
     "text": [
      "           origen destino  periodo distancia  viajes\n",
      "fecha                                               \n",
      "2020-05-17  28009   28010        9   010-050   9.260\n",
      "2020-05-17  28010   28010        0   002-005  10.319\n",
      "2020-05-17  28010   28010        2   002-005  10.319\n"
     ]
    },
    {
     "name": "stderr",
     "output_type": "stream",
     "text": [
      "/tmp/ipykernel_9904/3091215869.py:14: FutureWarning: The frame.append method is deprecated and will be removed from pandas in a future version. Use pandas.concat instead.\n",
      "  filtrado_Data=filtrado_Data.append(filtrar)\n",
      "/tmp/ipykernel_9904/3091215869.py:15: FutureWarning: The frame.append method is deprecated and will be removed from pandas in a future version. Use pandas.concat instead.\n",
      "  filtrado_Data2=filtrado_Data2.append(filtrar2)\n",
      "/tmp/ipykernel_9904/3091215869.py:16: FutureWarning: The frame.append method is deprecated and will be removed from pandas in a future version. Use pandas.concat instead.\n",
      "  filtrado_Data3=filtrado_Data3.append(filtrar3)\n",
      "/tmp/ipykernel_9904/3091215869.py:17: FutureWarning: The frame.append method is deprecated and will be removed from pandas in a future version. Use pandas.concat instead.\n",
      "  filtrado_Data4=filtrado_Data4.append(filtrar4)\n",
      "/tmp/ipykernel_9904/3091215869.py:18: FutureWarning: The frame.append method is deprecated and will be removed from pandas in a future version. Use pandas.concat instead.\n",
      "  filtrado_Data5=filtrado_Data5.append(filtrar5)\n"
     ]
    },
    {
     "name": "stdout",
     "output_type": "stream",
     "text": [
      "             origen  destino  periodo distancia  viajes\n",
      "fecha                                                  \n",
      "2020-05-17  2801302  2801301        5   002-005   6.265\n",
      "2020-05-17  2801302  2801301       14   002-005   6.265\n",
      "2020-05-17  2801302  2801301       18   002-005   6.265\n"
     ]
    },
    {
     "name": "stderr",
     "output_type": "stream",
     "text": [
      "/tmp/ipykernel_9904/3091215869.py:14: FutureWarning: The frame.append method is deprecated and will be removed from pandas in a future version. Use pandas.concat instead.\n",
      "  filtrado_Data=filtrado_Data.append(filtrar)\n",
      "/tmp/ipykernel_9904/3091215869.py:15: FutureWarning: The frame.append method is deprecated and will be removed from pandas in a future version. Use pandas.concat instead.\n",
      "  filtrado_Data2=filtrado_Data2.append(filtrar2)\n",
      "/tmp/ipykernel_9904/3091215869.py:16: FutureWarning: The frame.append method is deprecated and will be removed from pandas in a future version. Use pandas.concat instead.\n",
      "  filtrado_Data3=filtrado_Data3.append(filtrar3)\n",
      "/tmp/ipykernel_9904/3091215869.py:17: FutureWarning: The frame.append method is deprecated and will be removed from pandas in a future version. Use pandas.concat instead.\n",
      "  filtrado_Data4=filtrado_Data4.append(filtrar4)\n",
      "/tmp/ipykernel_9904/3091215869.py:18: FutureWarning: The frame.append method is deprecated and will be removed from pandas in a future version. Use pandas.concat instead.\n",
      "  filtrado_Data5=filtrado_Data5.append(filtrar5)\n"
     ]
    },
    {
     "name": "stdout",
     "output_type": "stream",
     "text": [
      "             origen  destino  periodo distancia  viajes\n",
      "fecha                                                  \n",
      "2020-05-17  2800704  2801302        8   010-050   6.265\n",
      "2020-05-17  2801301  2801302       13   002-005   7.648\n",
      "2020-05-17  2801301  2801302        0   002-005   6.265\n"
     ]
    },
    {
     "name": "stderr",
     "output_type": "stream",
     "text": [
      "/tmp/ipykernel_9904/3091215869.py:14: FutureWarning: The frame.append method is deprecated and will be removed from pandas in a future version. Use pandas.concat instead.\n",
      "  filtrado_Data=filtrado_Data.append(filtrar)\n",
      "/tmp/ipykernel_9904/3091215869.py:15: FutureWarning: The frame.append method is deprecated and will be removed from pandas in a future version. Use pandas.concat instead.\n",
      "  filtrado_Data2=filtrado_Data2.append(filtrar2)\n",
      "/tmp/ipykernel_9904/3091215869.py:16: FutureWarning: The frame.append method is deprecated and will be removed from pandas in a future version. Use pandas.concat instead.\n",
      "  filtrado_Data3=filtrado_Data3.append(filtrar3)\n",
      "/tmp/ipykernel_9904/3091215869.py:17: FutureWarning: The frame.append method is deprecated and will be removed from pandas in a future version. Use pandas.concat instead.\n",
      "  filtrado_Data4=filtrado_Data4.append(filtrar4)\n",
      "/tmp/ipykernel_9904/3091215869.py:18: FutureWarning: The frame.append method is deprecated and will be removed from pandas in a future version. Use pandas.concat instead.\n",
      "  filtrado_Data5=filtrado_Data5.append(filtrar5)\n"
     ]
    },
    {
     "name": "stdout",
     "output_type": "stream",
     "text": [
      "             origen  destino  periodo distancia  viajes\n",
      "fecha                                                  \n",
      "2020-05-17  2801301  2801303        0   002-005  15.296\n",
      "2020-05-17  2801301  2801303        4   002-005   7.648\n",
      "2020-05-17  2801301  2801303        5   002-005   7.648\n"
     ]
    },
    {
     "name": "stderr",
     "output_type": "stream",
     "text": [
      "/tmp/ipykernel_9904/3091215869.py:14: FutureWarning: The frame.append method is deprecated and will be removed from pandas in a future version. Use pandas.concat instead.\n",
      "  filtrado_Data=filtrado_Data.append(filtrar)\n",
      "/tmp/ipykernel_9904/3091215869.py:15: FutureWarning: The frame.append method is deprecated and will be removed from pandas in a future version. Use pandas.concat instead.\n",
      "  filtrado_Data2=filtrado_Data2.append(filtrar2)\n",
      "/tmp/ipykernel_9904/3091215869.py:16: FutureWarning: The frame.append method is deprecated and will be removed from pandas in a future version. Use pandas.concat instead.\n",
      "  filtrado_Data3=filtrado_Data3.append(filtrar3)\n",
      "/tmp/ipykernel_9904/3091215869.py:17: FutureWarning: The frame.append method is deprecated and will be removed from pandas in a future version. Use pandas.concat instead.\n",
      "  filtrado_Data4=filtrado_Data4.append(filtrar4)\n",
      "/tmp/ipykernel_9904/3091215869.py:18: FutureWarning: The frame.append method is deprecated and will be removed from pandas in a future version. Use pandas.concat instead.\n",
      "  filtrado_Data5=filtrado_Data5.append(filtrar5)\n"
     ]
    },
    {
     "name": "stdout",
     "output_type": "stream",
     "text": [
      "              origen  destino  periodo distancia  viajes\n",
      "fecha                                                   \n",
      "2020-05-17  19192_AM  2801304        7   010-050   7.976\n",
      "2020-05-17   2800502  2801304       17   050-100   3.162\n",
      "2020-05-17     28010  2801304       13   050-100   6.265\n"
     ]
    },
    {
     "name": "stderr",
     "output_type": "stream",
     "text": [
      "/tmp/ipykernel_9904/3091215869.py:14: FutureWarning: The frame.append method is deprecated and will be removed from pandas in a future version. Use pandas.concat instead.\n",
      "  filtrado_Data=filtrado_Data.append(filtrar)\n",
      "/tmp/ipykernel_9904/3091215869.py:15: FutureWarning: The frame.append method is deprecated and will be removed from pandas in a future version. Use pandas.concat instead.\n",
      "  filtrado_Data2=filtrado_Data2.append(filtrar2)\n",
      "/tmp/ipykernel_9904/3091215869.py:16: FutureWarning: The frame.append method is deprecated and will be removed from pandas in a future version. Use pandas.concat instead.\n",
      "  filtrado_Data3=filtrado_Data3.append(filtrar3)\n",
      "/tmp/ipykernel_9904/3091215869.py:17: FutureWarning: The frame.append method is deprecated and will be removed from pandas in a future version. Use pandas.concat instead.\n",
      "  filtrado_Data4=filtrado_Data4.append(filtrar4)\n",
      "/tmp/ipykernel_9904/3091215869.py:18: FutureWarning: The frame.append method is deprecated and will be removed from pandas in a future version. Use pandas.concat instead.\n",
      "  filtrado_Data5=filtrado_Data5.append(filtrar5)\n"
     ]
    },
    {
     "name": "stdout",
     "output_type": "stream",
     "text": [
      "              origen destino  periodo distancia  viajes\n",
      "fecha                                                  \n",
      "2020-05-17  19058_AM   28014       22   010-050   7.405\n",
      "2020-05-17  19071_AM   28014        5   050-100  14.810\n",
      "2020-05-17     19171   28014       21   010-050   6.555\n"
     ]
    },
    {
     "name": "stderr",
     "output_type": "stream",
     "text": [
      "/tmp/ipykernel_9904/3091215869.py:14: FutureWarning: The frame.append method is deprecated and will be removed from pandas in a future version. Use pandas.concat instead.\n",
      "  filtrado_Data=filtrado_Data.append(filtrar)\n",
      "/tmp/ipykernel_9904/3091215869.py:15: FutureWarning: The frame.append method is deprecated and will be removed from pandas in a future version. Use pandas.concat instead.\n",
      "  filtrado_Data2=filtrado_Data2.append(filtrar2)\n",
      "/tmp/ipykernel_9904/3091215869.py:16: FutureWarning: The frame.append method is deprecated and will be removed from pandas in a future version. Use pandas.concat instead.\n",
      "  filtrado_Data3=filtrado_Data3.append(filtrar3)\n",
      "/tmp/ipykernel_9904/3091215869.py:17: FutureWarning: The frame.append method is deprecated and will be removed from pandas in a future version. Use pandas.concat instead.\n",
      "  filtrado_Data4=filtrado_Data4.append(filtrar4)\n",
      "/tmp/ipykernel_9904/3091215869.py:18: FutureWarning: The frame.append method is deprecated and will be removed from pandas in a future version. Use pandas.concat instead.\n",
      "  filtrado_Data5=filtrado_Data5.append(filtrar5)\n"
     ]
    },
    {
     "name": "stdout",
     "output_type": "stream",
     "text": [
      "           origen destino  periodo distancia  viajes\n",
      "fecha                                               \n",
      "2020-05-17  28004   28015        0   005-010  40.083\n",
      "2020-05-17  28004   28015        1   005-010  20.042\n",
      "2020-05-17  28004   28015        3   005-010  10.021\n"
     ]
    },
    {
     "name": "stderr",
     "output_type": "stream",
     "text": [
      "/tmp/ipykernel_9904/3091215869.py:14: FutureWarning: The frame.append method is deprecated and will be removed from pandas in a future version. Use pandas.concat instead.\n",
      "  filtrado_Data=filtrado_Data.append(filtrar)\n",
      "/tmp/ipykernel_9904/3091215869.py:15: FutureWarning: The frame.append method is deprecated and will be removed from pandas in a future version. Use pandas.concat instead.\n",
      "  filtrado_Data2=filtrado_Data2.append(filtrar2)\n",
      "/tmp/ipykernel_9904/3091215869.py:16: FutureWarning: The frame.append method is deprecated and will be removed from pandas in a future version. Use pandas.concat instead.\n",
      "  filtrado_Data3=filtrado_Data3.append(filtrar3)\n",
      "/tmp/ipykernel_9904/3091215869.py:17: FutureWarning: The frame.append method is deprecated and will be removed from pandas in a future version. Use pandas.concat instead.\n",
      "  filtrado_Data4=filtrado_Data4.append(filtrar4)\n",
      "/tmp/ipykernel_9904/3091215869.py:18: FutureWarning: The frame.append method is deprecated and will be removed from pandas in a future version. Use pandas.concat instead.\n",
      "  filtrado_Data5=filtrado_Data5.append(filtrar5)\n"
     ]
    },
    {
     "name": "stdout",
     "output_type": "stream",
     "text": [
      "             origen destino  periodo distancia  viajes\n",
      "fecha                                                 \n",
      "2020-05-17  2800503   28018       16   050-100   6.813\n",
      "2020-05-17  2800601   28018       19   010-050   7.231\n",
      "2020-05-17  2800601   28018       12   010-050   7.622\n"
     ]
    },
    {
     "name": "stderr",
     "output_type": "stream",
     "text": [
      "/tmp/ipykernel_9904/3091215869.py:14: FutureWarning: The frame.append method is deprecated and will be removed from pandas in a future version. Use pandas.concat instead.\n",
      "  filtrado_Data=filtrado_Data.append(filtrar)\n",
      "/tmp/ipykernel_9904/3091215869.py:15: FutureWarning: The frame.append method is deprecated and will be removed from pandas in a future version. Use pandas.concat instead.\n",
      "  filtrado_Data2=filtrado_Data2.append(filtrar2)\n",
      "/tmp/ipykernel_9904/3091215869.py:16: FutureWarning: The frame.append method is deprecated and will be removed from pandas in a future version. Use pandas.concat instead.\n",
      "  filtrado_Data3=filtrado_Data3.append(filtrar3)\n",
      "/tmp/ipykernel_9904/3091215869.py:17: FutureWarning: The frame.append method is deprecated and will be removed from pandas in a future version. Use pandas.concat instead.\n",
      "  filtrado_Data4=filtrado_Data4.append(filtrar4)\n",
      "/tmp/ipykernel_9904/3091215869.py:18: FutureWarning: The frame.append method is deprecated and will be removed from pandas in a future version. Use pandas.concat instead.\n",
      "  filtrado_Data5=filtrado_Data5.append(filtrar5)\n"
     ]
    },
    {
     "name": "stdout",
     "output_type": "stream",
     "text": [
      "              origen destino  periodo distancia  viajes\n",
      "fecha                                                  \n",
      "2020-05-17  19071_AM   28022       16   050-100   7.019\n",
      "2020-05-17   1913004   28022        6   050-100   8.496\n",
      "2020-05-17     28004   28022        5   010-050  10.021\n"
     ]
    },
    {
     "name": "stderr",
     "output_type": "stream",
     "text": [
      "/tmp/ipykernel_9904/3091215869.py:14: FutureWarning: The frame.append method is deprecated and will be removed from pandas in a future version. Use pandas.concat instead.\n",
      "  filtrado_Data=filtrado_Data.append(filtrar)\n",
      "/tmp/ipykernel_9904/3091215869.py:15: FutureWarning: The frame.append method is deprecated and will be removed from pandas in a future version. Use pandas.concat instead.\n",
      "  filtrado_Data2=filtrado_Data2.append(filtrar2)\n",
      "/tmp/ipykernel_9904/3091215869.py:16: FutureWarning: The frame.append method is deprecated and will be removed from pandas in a future version. Use pandas.concat instead.\n",
      "  filtrado_Data3=filtrado_Data3.append(filtrar3)\n",
      "/tmp/ipykernel_9904/3091215869.py:17: FutureWarning: The frame.append method is deprecated and will be removed from pandas in a future version. Use pandas.concat instead.\n",
      "  filtrado_Data4=filtrado_Data4.append(filtrar4)\n",
      "/tmp/ipykernel_9904/3091215869.py:18: FutureWarning: The frame.append method is deprecated and will be removed from pandas in a future version. Use pandas.concat instead.\n",
      "  filtrado_Data5=filtrado_Data5.append(filtrar5)\n"
     ]
    },
    {
     "name": "stdout",
     "output_type": "stream",
     "text": [
      "             origen destino  periodo distancia  viajes\n",
      "fecha                                                 \n",
      "2020-05-17  2800503   28023       16   050-100   6.574\n",
      "2020-05-17  2800504   28023        0   050-100   6.813\n",
      "2020-05-17  2800601   28023       19   010-050   6.813\n"
     ]
    },
    {
     "name": "stderr",
     "output_type": "stream",
     "text": [
      "/tmp/ipykernel_9904/3091215869.py:14: FutureWarning: The frame.append method is deprecated and will be removed from pandas in a future version. Use pandas.concat instead.\n",
      "  filtrado_Data=filtrado_Data.append(filtrar)\n",
      "/tmp/ipykernel_9904/3091215869.py:15: FutureWarning: The frame.append method is deprecated and will be removed from pandas in a future version. Use pandas.concat instead.\n",
      "  filtrado_Data2=filtrado_Data2.append(filtrar2)\n",
      "/tmp/ipykernel_9904/3091215869.py:16: FutureWarning: The frame.append method is deprecated and will be removed from pandas in a future version. Use pandas.concat instead.\n",
      "  filtrado_Data3=filtrado_Data3.append(filtrar3)\n",
      "/tmp/ipykernel_9904/3091215869.py:17: FutureWarning: The frame.append method is deprecated and will be removed from pandas in a future version. Use pandas.concat instead.\n",
      "  filtrado_Data4=filtrado_Data4.append(filtrar4)\n",
      "/tmp/ipykernel_9904/3091215869.py:18: FutureWarning: The frame.append method is deprecated and will be removed from pandas in a future version. Use pandas.concat instead.\n",
      "  filtrado_Data5=filtrado_Data5.append(filtrar5)\n"
     ]
    },
    {
     "name": "stdout",
     "output_type": "stream",
     "text": [
      "             origen destino  periodo distancia  viajes\n",
      "fecha                                                 \n",
      "2020-05-17    28004   28026       13   010-050   5.226\n",
      "2020-05-17  2800701   28026        0   010-050   5.823\n",
      "2020-05-17  2800701   28026       11   005-010   5.823\n"
     ]
    },
    {
     "name": "stderr",
     "output_type": "stream",
     "text": [
      "/tmp/ipykernel_9904/3091215869.py:14: FutureWarning: The frame.append method is deprecated and will be removed from pandas in a future version. Use pandas.concat instead.\n",
      "  filtrado_Data=filtrado_Data.append(filtrar)\n",
      "/tmp/ipykernel_9904/3091215869.py:15: FutureWarning: The frame.append method is deprecated and will be removed from pandas in a future version. Use pandas.concat instead.\n",
      "  filtrado_Data2=filtrado_Data2.append(filtrar2)\n",
      "/tmp/ipykernel_9904/3091215869.py:16: FutureWarning: The frame.append method is deprecated and will be removed from pandas in a future version. Use pandas.concat instead.\n",
      "  filtrado_Data3=filtrado_Data3.append(filtrar3)\n",
      "/tmp/ipykernel_9904/3091215869.py:17: FutureWarning: The frame.append method is deprecated and will be removed from pandas in a future version. Use pandas.concat instead.\n",
      "  filtrado_Data4=filtrado_Data4.append(filtrar4)\n",
      "/tmp/ipykernel_9904/3091215869.py:18: FutureWarning: The frame.append method is deprecated and will be removed from pandas in a future version. Use pandas.concat instead.\n",
      "  filtrado_Data5=filtrado_Data5.append(filtrar5)\n"
     ]
    },
    {
     "name": "stdout",
     "output_type": "stream",
     "text": [
      "              origen   destino  periodo distancia  viajes\n",
      "fecha                                                    \n",
      "2020-05-17  19071_AM  28027_AM       22   010-050   7.665\n",
      "2020-05-17  19151_AM  28027_AM       13   010-050  13.733\n",
      "2020-05-17  19151_AM  28027_AM        6   010-050   9.716\n"
     ]
    },
    {
     "name": "stderr",
     "output_type": "stream",
     "text": [
      "/tmp/ipykernel_9904/3091215869.py:14: FutureWarning: The frame.append method is deprecated and will be removed from pandas in a future version. Use pandas.concat instead.\n",
      "  filtrado_Data=filtrado_Data.append(filtrar)\n",
      "/tmp/ipykernel_9904/3091215869.py:15: FutureWarning: The frame.append method is deprecated and will be removed from pandas in a future version. Use pandas.concat instead.\n",
      "  filtrado_Data2=filtrado_Data2.append(filtrar2)\n",
      "/tmp/ipykernel_9904/3091215869.py:16: FutureWarning: The frame.append method is deprecated and will be removed from pandas in a future version. Use pandas.concat instead.\n",
      "  filtrado_Data3=filtrado_Data3.append(filtrar3)\n",
      "/tmp/ipykernel_9904/3091215869.py:17: FutureWarning: The frame.append method is deprecated and will be removed from pandas in a future version. Use pandas.concat instead.\n",
      "  filtrado_Data4=filtrado_Data4.append(filtrar4)\n",
      "/tmp/ipykernel_9904/3091215869.py:18: FutureWarning: The frame.append method is deprecated and will be removed from pandas in a future version. Use pandas.concat instead.\n",
      "  filtrado_Data5=filtrado_Data5.append(filtrar5)\n"
     ]
    },
    {
     "name": "stdout",
     "output_type": "stream",
     "text": [
      "              origen   destino  periodo distancia  viajes\n",
      "fecha                                                    \n",
      "2020-05-17  19071_AM  28030_AM        3   010-050  10.134\n",
      "2020-05-17  19071_AM  28030_AM       13   010-050  18.792\n",
      "2020-05-17  19071_AM  28030_AM       16   010-050  10.134\n"
     ]
    },
    {
     "name": "stderr",
     "output_type": "stream",
     "text": [
      "/tmp/ipykernel_9904/3091215869.py:14: FutureWarning: The frame.append method is deprecated and will be removed from pandas in a future version. Use pandas.concat instead.\n",
      "  filtrado_Data=filtrado_Data.append(filtrar)\n",
      "/tmp/ipykernel_9904/3091215869.py:15: FutureWarning: The frame.append method is deprecated and will be removed from pandas in a future version. Use pandas.concat instead.\n",
      "  filtrado_Data2=filtrado_Data2.append(filtrar2)\n",
      "/tmp/ipykernel_9904/3091215869.py:16: FutureWarning: The frame.append method is deprecated and will be removed from pandas in a future version. Use pandas.concat instead.\n",
      "  filtrado_Data3=filtrado_Data3.append(filtrar3)\n",
      "/tmp/ipykernel_9904/3091215869.py:17: FutureWarning: The frame.append method is deprecated and will be removed from pandas in a future version. Use pandas.concat instead.\n",
      "  filtrado_Data4=filtrado_Data4.append(filtrar4)\n",
      "/tmp/ipykernel_9904/3091215869.py:18: FutureWarning: The frame.append method is deprecated and will be removed from pandas in a future version. Use pandas.concat instead.\n",
      "  filtrado_Data5=filtrado_Data5.append(filtrar5)\n"
     ]
    },
    {
     "name": "stdout",
     "output_type": "stream",
     "text": [
      "              origen   destino  periodo distancia  viajes\n",
      "fecha                                                    \n",
      "2020-05-17   2800701  28031_AM       14   050-100   5.605\n",
      "2020-05-17  28008_AM  28031_AM       11   010-050   7.712\n",
      "2020-05-17  28008_AM  28031_AM        8   010-050   5.605\n"
     ]
    },
    {
     "name": "stderr",
     "output_type": "stream",
     "text": [
      "/tmp/ipykernel_9904/3091215869.py:14: FutureWarning: The frame.append method is deprecated and will be removed from pandas in a future version. Use pandas.concat instead.\n",
      "  filtrado_Data=filtrado_Data.append(filtrar)\n",
      "/tmp/ipykernel_9904/3091215869.py:15: FutureWarning: The frame.append method is deprecated and will be removed from pandas in a future version. Use pandas.concat instead.\n",
      "  filtrado_Data2=filtrado_Data2.append(filtrar2)\n",
      "/tmp/ipykernel_9904/3091215869.py:16: FutureWarning: The frame.append method is deprecated and will be removed from pandas in a future version. Use pandas.concat instead.\n",
      "  filtrado_Data3=filtrado_Data3.append(filtrar3)\n",
      "/tmp/ipykernel_9904/3091215869.py:17: FutureWarning: The frame.append method is deprecated and will be removed from pandas in a future version. Use pandas.concat instead.\n",
      "  filtrado_Data4=filtrado_Data4.append(filtrar4)\n",
      "/tmp/ipykernel_9904/3091215869.py:18: FutureWarning: The frame.append method is deprecated and will be removed from pandas in a future version. Use pandas.concat instead.\n",
      "  filtrado_Data5=filtrado_Data5.append(filtrar5)\n"
     ]
    },
    {
     "name": "stdout",
     "output_type": "stream",
     "text": [
      "           origen   destino  periodo distancia  viajes\n",
      "fecha                                                 \n",
      "2020-05-17  19024  28032_AM        4   010-050   8.242\n",
      "2020-05-17  19024  28032_AM       17   005-010   8.242\n",
      "2020-05-17  19024  28032_AM       22   010-050   6.258\n"
     ]
    },
    {
     "name": "stderr",
     "output_type": "stream",
     "text": [
      "/tmp/ipykernel_9904/3091215869.py:14: FutureWarning: The frame.append method is deprecated and will be removed from pandas in a future version. Use pandas.concat instead.\n",
      "  filtrado_Data=filtrado_Data.append(filtrar)\n",
      "/tmp/ipykernel_9904/3091215869.py:15: FutureWarning: The frame.append method is deprecated and will be removed from pandas in a future version. Use pandas.concat instead.\n",
      "  filtrado_Data2=filtrado_Data2.append(filtrar2)\n",
      "/tmp/ipykernel_9904/3091215869.py:16: FutureWarning: The frame.append method is deprecated and will be removed from pandas in a future version. Use pandas.concat instead.\n",
      "  filtrado_Data3=filtrado_Data3.append(filtrar3)\n",
      "/tmp/ipykernel_9904/3091215869.py:17: FutureWarning: The frame.append method is deprecated and will be removed from pandas in a future version. Use pandas.concat instead.\n",
      "  filtrado_Data4=filtrado_Data4.append(filtrar4)\n",
      "/tmp/ipykernel_9904/3091215869.py:18: FutureWarning: The frame.append method is deprecated and will be removed from pandas in a future version. Use pandas.concat instead.\n",
      "  filtrado_Data5=filtrado_Data5.append(filtrar5)\n"
     ]
    },
    {
     "name": "stdout",
     "output_type": "stream",
     "text": [
      "              origen destino  periodo distancia  viajes\n",
      "fecha                                                  \n",
      "2020-05-17   1913002   28033        9   010-050   8.601\n",
      "2020-05-17  19192_AM   28033        9   010-050   7.760\n",
      "2020-05-17   2800501   28033       17   010-050   6.759\n"
     ]
    },
    {
     "name": "stderr",
     "output_type": "stream",
     "text": [
      "/tmp/ipykernel_9904/3091215869.py:14: FutureWarning: The frame.append method is deprecated and will be removed from pandas in a future version. Use pandas.concat instead.\n",
      "  filtrado_Data=filtrado_Data.append(filtrar)\n",
      "/tmp/ipykernel_9904/3091215869.py:15: FutureWarning: The frame.append method is deprecated and will be removed from pandas in a future version. Use pandas.concat instead.\n",
      "  filtrado_Data2=filtrado_Data2.append(filtrar2)\n",
      "/tmp/ipykernel_9904/3091215869.py:16: FutureWarning: The frame.append method is deprecated and will be removed from pandas in a future version. Use pandas.concat instead.\n",
      "  filtrado_Data3=filtrado_Data3.append(filtrar3)\n",
      "/tmp/ipykernel_9904/3091215869.py:17: FutureWarning: The frame.append method is deprecated and will be removed from pandas in a future version. Use pandas.concat instead.\n",
      "  filtrado_Data4=filtrado_Data4.append(filtrar4)\n",
      "/tmp/ipykernel_9904/3091215869.py:18: FutureWarning: The frame.append method is deprecated and will be removed from pandas in a future version. Use pandas.concat instead.\n",
      "  filtrado_Data5=filtrado_Data5.append(filtrar5)\n"
     ]
    },
    {
     "name": "stdout",
     "output_type": "stream",
     "text": [
      "             origen   destino  periodo distancia  viajes\n",
      "fecha                                                   \n",
      "2020-05-17  2800601  28038_AM       12   010-050   6.533\n",
      "2020-05-17    28010  28038_AM        1   010-050  20.638\n",
      "2020-05-17    28010  28038_AM        6   005-010  10.319\n"
     ]
    },
    {
     "name": "stderr",
     "output_type": "stream",
     "text": [
      "/tmp/ipykernel_9904/3091215869.py:14: FutureWarning: The frame.append method is deprecated and will be removed from pandas in a future version. Use pandas.concat instead.\n",
      "  filtrado_Data=filtrado_Data.append(filtrar)\n",
      "/tmp/ipykernel_9904/3091215869.py:15: FutureWarning: The frame.append method is deprecated and will be removed from pandas in a future version. Use pandas.concat instead.\n",
      "  filtrado_Data2=filtrado_Data2.append(filtrar2)\n",
      "/tmp/ipykernel_9904/3091215869.py:16: FutureWarning: The frame.append method is deprecated and will be removed from pandas in a future version. Use pandas.concat instead.\n",
      "  filtrado_Data3=filtrado_Data3.append(filtrar3)\n",
      "/tmp/ipykernel_9904/3091215869.py:17: FutureWarning: The frame.append method is deprecated and will be removed from pandas in a future version. Use pandas.concat instead.\n",
      "  filtrado_Data4=filtrado_Data4.append(filtrar4)\n",
      "/tmp/ipykernel_9904/3091215869.py:18: FutureWarning: The frame.append method is deprecated and will be removed from pandas in a future version. Use pandas.concat instead.\n",
      "  filtrado_Data5=filtrado_Data5.append(filtrar5)\n"
     ]
    },
    {
     "name": "stdout",
     "output_type": "stream",
     "text": [
      "              origen destino  periodo distancia  viajes\n",
      "fecha                                                  \n",
      "2020-05-17  19086_AM   28040       11      100+   6.541\n",
      "2020-05-17   2800502   28040       10   010-050   7.735\n",
      "2020-05-17   2800505   28040        5   010-050   7.735\n"
     ]
    },
    {
     "name": "stderr",
     "output_type": "stream",
     "text": [
      "/tmp/ipykernel_9904/3091215869.py:14: FutureWarning: The frame.append method is deprecated and will be removed from pandas in a future version. Use pandas.concat instead.\n",
      "  filtrado_Data=filtrado_Data.append(filtrar)\n",
      "/tmp/ipykernel_9904/3091215869.py:15: FutureWarning: The frame.append method is deprecated and will be removed from pandas in a future version. Use pandas.concat instead.\n",
      "  filtrado_Data2=filtrado_Data2.append(filtrar2)\n",
      "/tmp/ipykernel_9904/3091215869.py:16: FutureWarning: The frame.append method is deprecated and will be removed from pandas in a future version. Use pandas.concat instead.\n",
      "  filtrado_Data3=filtrado_Data3.append(filtrar3)\n",
      "/tmp/ipykernel_9904/3091215869.py:17: FutureWarning: The frame.append method is deprecated and will be removed from pandas in a future version. Use pandas.concat instead.\n",
      "  filtrado_Data4=filtrado_Data4.append(filtrar4)\n",
      "/tmp/ipykernel_9904/3091215869.py:18: FutureWarning: The frame.append method is deprecated and will be removed from pandas in a future version. Use pandas.concat instead.\n",
      "  filtrado_Data5=filtrado_Data5.append(filtrar5)\n"
     ]
    },
    {
     "name": "stdout",
     "output_type": "stream",
     "text": [
      "              origen destino  periodo distancia  viajes\n",
      "fecha                                                  \n",
      "2020-05-17  19071_AM   28041        0   010-050   9.396\n",
      "2020-05-17  19071_AM   28041        1   010-050  18.792\n",
      "2020-05-17  19071_AM   28041        2   010-050   9.396\n"
     ]
    },
    {
     "name": "stderr",
     "output_type": "stream",
     "text": [
      "/tmp/ipykernel_9904/3091215869.py:14: FutureWarning: The frame.append method is deprecated and will be removed from pandas in a future version. Use pandas.concat instead.\n",
      "  filtrado_Data=filtrado_Data.append(filtrar)\n",
      "/tmp/ipykernel_9904/3091215869.py:15: FutureWarning: The frame.append method is deprecated and will be removed from pandas in a future version. Use pandas.concat instead.\n",
      "  filtrado_Data2=filtrado_Data2.append(filtrar2)\n",
      "/tmp/ipykernel_9904/3091215869.py:16: FutureWarning: The frame.append method is deprecated and will be removed from pandas in a future version. Use pandas.concat instead.\n",
      "  filtrado_Data3=filtrado_Data3.append(filtrar3)\n",
      "/tmp/ipykernel_9904/3091215869.py:17: FutureWarning: The frame.append method is deprecated and will be removed from pandas in a future version. Use pandas.concat instead.\n",
      "  filtrado_Data4=filtrado_Data4.append(filtrar4)\n",
      "/tmp/ipykernel_9904/3091215869.py:18: FutureWarning: The frame.append method is deprecated and will be removed from pandas in a future version. Use pandas.concat instead.\n",
      "  filtrado_Data5=filtrado_Data5.append(filtrar5)\n"
     ]
    },
    {
     "name": "stdout",
     "output_type": "stream",
     "text": [
      "              origen destino  periodo distancia  viajes\n",
      "fecha                                                  \n",
      "2020-05-17  19046_AM   28043       15   050-100   9.549\n",
      "2020-05-17  19046_AM   28043       15   010-050   8.625\n",
      "2020-05-17   2800503   28043       11   010-050   7.650\n"
     ]
    },
    {
     "name": "stderr",
     "output_type": "stream",
     "text": [
      "/tmp/ipykernel_9904/3091215869.py:14: FutureWarning: The frame.append method is deprecated and will be removed from pandas in a future version. Use pandas.concat instead.\n",
      "  filtrado_Data=filtrado_Data.append(filtrar)\n",
      "/tmp/ipykernel_9904/3091215869.py:15: FutureWarning: The frame.append method is deprecated and will be removed from pandas in a future version. Use pandas.concat instead.\n",
      "  filtrado_Data2=filtrado_Data2.append(filtrar2)\n",
      "/tmp/ipykernel_9904/3091215869.py:16: FutureWarning: The frame.append method is deprecated and will be removed from pandas in a future version. Use pandas.concat instead.\n",
      "  filtrado_Data3=filtrado_Data3.append(filtrar3)\n",
      "/tmp/ipykernel_9904/3091215869.py:17: FutureWarning: The frame.append method is deprecated and will be removed from pandas in a future version. Use pandas.concat instead.\n",
      "  filtrado_Data4=filtrado_Data4.append(filtrar4)\n",
      "/tmp/ipykernel_9904/3091215869.py:18: FutureWarning: The frame.append method is deprecated and will be removed from pandas in a future version. Use pandas.concat instead.\n",
      "  filtrado_Data5=filtrado_Data5.append(filtrar5)\n"
     ]
    },
    {
     "name": "stdout",
     "output_type": "stream",
     "text": [
      "             origen destino  periodo distancia  viajes\n",
      "fecha                                                 \n",
      "2020-05-17  2800503   28044       13   050-100   6.029\n",
      "2020-05-17  2800601   28044       21   010-050   6.609\n",
      "2020-05-17  2800704   28044        7   010-050   6.369\n"
     ]
    },
    {
     "name": "stderr",
     "output_type": "stream",
     "text": [
      "/tmp/ipykernel_9904/3091215869.py:14: FutureWarning: The frame.append method is deprecated and will be removed from pandas in a future version. Use pandas.concat instead.\n",
      "  filtrado_Data=filtrado_Data.append(filtrar)\n",
      "/tmp/ipykernel_9904/3091215869.py:15: FutureWarning: The frame.append method is deprecated and will be removed from pandas in a future version. Use pandas.concat instead.\n",
      "  filtrado_Data2=filtrado_Data2.append(filtrar2)\n",
      "/tmp/ipykernel_9904/3091215869.py:16: FutureWarning: The frame.append method is deprecated and will be removed from pandas in a future version. Use pandas.concat instead.\n",
      "  filtrado_Data3=filtrado_Data3.append(filtrar3)\n",
      "/tmp/ipykernel_9904/3091215869.py:17: FutureWarning: The frame.append method is deprecated and will be removed from pandas in a future version. Use pandas.concat instead.\n",
      "  filtrado_Data4=filtrado_Data4.append(filtrar4)\n",
      "/tmp/ipykernel_9904/3091215869.py:18: FutureWarning: The frame.append method is deprecated and will be removed from pandas in a future version. Use pandas.concat instead.\n",
      "  filtrado_Data5=filtrado_Data5.append(filtrar5)\n"
     ]
    },
    {
     "name": "stdout",
     "output_type": "stream",
     "text": [
      "              origen destino  periodo distancia  viajes\n",
      "fecha                                                  \n",
      "2020-05-17  19071_AM   28045       21   010-050   7.042\n",
      "2020-05-17  19071_AM   28045        9   010-050   6.766\n",
      "2020-05-17  19071_AM   28045       17   010-050   7.728\n"
     ]
    },
    {
     "name": "stderr",
     "output_type": "stream",
     "text": [
      "/tmp/ipykernel_9904/3091215869.py:14: FutureWarning: The frame.append method is deprecated and will be removed from pandas in a future version. Use pandas.concat instead.\n",
      "  filtrado_Data=filtrado_Data.append(filtrar)\n",
      "/tmp/ipykernel_9904/3091215869.py:15: FutureWarning: The frame.append method is deprecated and will be removed from pandas in a future version. Use pandas.concat instead.\n",
      "  filtrado_Data2=filtrado_Data2.append(filtrar2)\n",
      "/tmp/ipykernel_9904/3091215869.py:16: FutureWarning: The frame.append method is deprecated and will be removed from pandas in a future version. Use pandas.concat instead.\n",
      "  filtrado_Data3=filtrado_Data3.append(filtrar3)\n",
      "/tmp/ipykernel_9904/3091215869.py:17: FutureWarning: The frame.append method is deprecated and will be removed from pandas in a future version. Use pandas.concat instead.\n",
      "  filtrado_Data4=filtrado_Data4.append(filtrar4)\n",
      "/tmp/ipykernel_9904/3091215869.py:18: FutureWarning: The frame.append method is deprecated and will be removed from pandas in a future version. Use pandas.concat instead.\n",
      "  filtrado_Data5=filtrado_Data5.append(filtrar5)\n"
     ]
    },
    {
     "name": "stdout",
     "output_type": "stream",
     "text": [
      "             origen destino  periodo distancia  viajes\n",
      "fecha                                                 \n",
      "2020-05-17  2800601   28046       19   010-050  10.319\n",
      "2020-05-17  2800601   28046       18   010-050   6.512\n",
      "2020-05-17    28010   28046        1   002-005  10.319\n"
     ]
    },
    {
     "name": "stderr",
     "output_type": "stream",
     "text": [
      "/tmp/ipykernel_9904/3091215869.py:14: FutureWarning: The frame.append method is deprecated and will be removed from pandas in a future version. Use pandas.concat instead.\n",
      "  filtrado_Data=filtrado_Data.append(filtrar)\n",
      "/tmp/ipykernel_9904/3091215869.py:15: FutureWarning: The frame.append method is deprecated and will be removed from pandas in a future version. Use pandas.concat instead.\n",
      "  filtrado_Data2=filtrado_Data2.append(filtrar2)\n",
      "/tmp/ipykernel_9904/3091215869.py:16: FutureWarning: The frame.append method is deprecated and will be removed from pandas in a future version. Use pandas.concat instead.\n",
      "  filtrado_Data3=filtrado_Data3.append(filtrar3)\n",
      "/tmp/ipykernel_9904/3091215869.py:17: FutureWarning: The frame.append method is deprecated and will be removed from pandas in a future version. Use pandas.concat instead.\n",
      "  filtrado_Data4=filtrado_Data4.append(filtrar4)\n",
      "/tmp/ipykernel_9904/3091215869.py:18: FutureWarning: The frame.append method is deprecated and will be removed from pandas in a future version. Use pandas.concat instead.\n",
      "  filtrado_Data5=filtrado_Data5.append(filtrar5)\n"
     ]
    },
    {
     "name": "stdout",
     "output_type": "stream",
     "text": [
      "              origen destino  periodo distancia  viajes\n",
      "fecha                                                  \n",
      "2020-05-17  19046_AM   28047        8   050-100   6.376\n",
      "2020-05-17  19160_AM   28047       12   050-100  18.000\n",
      "2020-05-17   2800502   28047        8   050-100  18.035\n"
     ]
    },
    {
     "name": "stderr",
     "output_type": "stream",
     "text": [
      "/tmp/ipykernel_9904/3091215869.py:14: FutureWarning: The frame.append method is deprecated and will be removed from pandas in a future version. Use pandas.concat instead.\n",
      "  filtrado_Data=filtrado_Data.append(filtrar)\n",
      "/tmp/ipykernel_9904/3091215869.py:15: FutureWarning: The frame.append method is deprecated and will be removed from pandas in a future version. Use pandas.concat instead.\n",
      "  filtrado_Data2=filtrado_Data2.append(filtrar2)\n",
      "/tmp/ipykernel_9904/3091215869.py:16: FutureWarning: The frame.append method is deprecated and will be removed from pandas in a future version. Use pandas.concat instead.\n",
      "  filtrado_Data3=filtrado_Data3.append(filtrar3)\n",
      "/tmp/ipykernel_9904/3091215869.py:17: FutureWarning: The frame.append method is deprecated and will be removed from pandas in a future version. Use pandas.concat instead.\n",
      "  filtrado_Data4=filtrado_Data4.append(filtrar4)\n",
      "/tmp/ipykernel_9904/3091215869.py:18: FutureWarning: The frame.append method is deprecated and will be removed from pandas in a future version. Use pandas.concat instead.\n",
      "  filtrado_Data5=filtrado_Data5.append(filtrar5)\n"
     ]
    },
    {
     "name": "stdout",
     "output_type": "stream",
     "text": [
      "              origen  destino  periodo distancia  viajes\n",
      "fecha                                                   \n",
      "2020-05-17  19046_AM  2804901       14   010-050   6.794\n",
      "2020-05-17     19171  2804901        6   010-050   8.496\n",
      "2020-05-17  19280_AM  2804901       20   010-050   6.794\n"
     ]
    },
    {
     "name": "stderr",
     "output_type": "stream",
     "text": [
      "/tmp/ipykernel_9904/3091215869.py:14: FutureWarning: The frame.append method is deprecated and will be removed from pandas in a future version. Use pandas.concat instead.\n",
      "  filtrado_Data=filtrado_Data.append(filtrar)\n",
      "/tmp/ipykernel_9904/3091215869.py:15: FutureWarning: The frame.append method is deprecated and will be removed from pandas in a future version. Use pandas.concat instead.\n",
      "  filtrado_Data2=filtrado_Data2.append(filtrar2)\n",
      "/tmp/ipykernel_9904/3091215869.py:16: FutureWarning: The frame.append method is deprecated and will be removed from pandas in a future version. Use pandas.concat instead.\n",
      "  filtrado_Data3=filtrado_Data3.append(filtrar3)\n",
      "/tmp/ipykernel_9904/3091215869.py:17: FutureWarning: The frame.append method is deprecated and will be removed from pandas in a future version. Use pandas.concat instead.\n",
      "  filtrado_Data4=filtrado_Data4.append(filtrar4)\n",
      "/tmp/ipykernel_9904/3091215869.py:18: FutureWarning: The frame.append method is deprecated and will be removed from pandas in a future version. Use pandas.concat instead.\n",
      "  filtrado_Data5=filtrado_Data5.append(filtrar5)\n"
     ]
    },
    {
     "name": "stdout",
     "output_type": "stream",
     "text": [
      "              origen  destino  periodo distancia  viajes\n",
      "fecha                                                   \n",
      "2020-05-17     19024  2804902        6   010-050   8.242\n",
      "2020-05-17     19024  2804902        6   010-050  13.059\n",
      "2020-05-17  19046_AM  2804902       22   010-050   9.549\n"
     ]
    },
    {
     "name": "stderr",
     "output_type": "stream",
     "text": [
      "/tmp/ipykernel_9904/3091215869.py:14: FutureWarning: The frame.append method is deprecated and will be removed from pandas in a future version. Use pandas.concat instead.\n",
      "  filtrado_Data=filtrado_Data.append(filtrar)\n",
      "/tmp/ipykernel_9904/3091215869.py:15: FutureWarning: The frame.append method is deprecated and will be removed from pandas in a future version. Use pandas.concat instead.\n",
      "  filtrado_Data2=filtrado_Data2.append(filtrar2)\n",
      "/tmp/ipykernel_9904/3091215869.py:16: FutureWarning: The frame.append method is deprecated and will be removed from pandas in a future version. Use pandas.concat instead.\n",
      "  filtrado_Data3=filtrado_Data3.append(filtrar3)\n",
      "/tmp/ipykernel_9904/3091215869.py:17: FutureWarning: The frame.append method is deprecated and will be removed from pandas in a future version. Use pandas.concat instead.\n",
      "  filtrado_Data4=filtrado_Data4.append(filtrar4)\n",
      "/tmp/ipykernel_9904/3091215869.py:18: FutureWarning: The frame.append method is deprecated and will be removed from pandas in a future version. Use pandas.concat instead.\n",
      "  filtrado_Data5=filtrado_Data5.append(filtrar5)\n"
     ]
    },
    {
     "name": "stdout",
     "output_type": "stream",
     "text": [
      "              origen     destino  periodo distancia  viajes\n",
      "fecha                                                      \n",
      "2020-05-17  19046_AM  2804903_AD       15   010-050   9.549\n",
      "2020-05-17  19046_AM  2804903_AD       13   010-050   5.335\n",
      "2020-05-17  19046_AM  2804903_AD       22   010-050   8.020\n"
     ]
    },
    {
     "name": "stderr",
     "output_type": "stream",
     "text": [
      "/tmp/ipykernel_9904/3091215869.py:14: FutureWarning: The frame.append method is deprecated and will be removed from pandas in a future version. Use pandas.concat instead.\n",
      "  filtrado_Data=filtrado_Data.append(filtrar)\n",
      "/tmp/ipykernel_9904/3091215869.py:15: FutureWarning: The frame.append method is deprecated and will be removed from pandas in a future version. Use pandas.concat instead.\n",
      "  filtrado_Data2=filtrado_Data2.append(filtrar2)\n",
      "/tmp/ipykernel_9904/3091215869.py:16: FutureWarning: The frame.append method is deprecated and will be removed from pandas in a future version. Use pandas.concat instead.\n",
      "  filtrado_Data3=filtrado_Data3.append(filtrar3)\n",
      "/tmp/ipykernel_9904/3091215869.py:17: FutureWarning: The frame.append method is deprecated and will be removed from pandas in a future version. Use pandas.concat instead.\n",
      "  filtrado_Data4=filtrado_Data4.append(filtrar4)\n",
      "/tmp/ipykernel_9904/3091215869.py:18: FutureWarning: The frame.append method is deprecated and will be removed from pandas in a future version. Use pandas.concat instead.\n",
      "  filtrado_Data5=filtrado_Data5.append(filtrar5)\n"
     ]
    },
    {
     "name": "stdout",
     "output_type": "stream",
     "text": [
      "             origen   destino  periodo distancia  viajes\n",
      "fecha                                                   \n",
      "2020-05-17    28004  28050_AM       19   010-050   7.315\n",
      "2020-05-17    28004  28050_AM       15   010-050   7.622\n",
      "2020-05-17  2800702  28050_AM       10   010-050   8.273\n"
     ]
    },
    {
     "name": "stderr",
     "output_type": "stream",
     "text": [
      "/tmp/ipykernel_9904/3091215869.py:14: FutureWarning: The frame.append method is deprecated and will be removed from pandas in a future version. Use pandas.concat instead.\n",
      "  filtrado_Data=filtrado_Data.append(filtrar)\n",
      "/tmp/ipykernel_9904/3091215869.py:15: FutureWarning: The frame.append method is deprecated and will be removed from pandas in a future version. Use pandas.concat instead.\n",
      "  filtrado_Data2=filtrado_Data2.append(filtrar2)\n",
      "/tmp/ipykernel_9904/3091215869.py:16: FutureWarning: The frame.append method is deprecated and will be removed from pandas in a future version. Use pandas.concat instead.\n",
      "  filtrado_Data3=filtrado_Data3.append(filtrar3)\n",
      "/tmp/ipykernel_9904/3091215869.py:17: FutureWarning: The frame.append method is deprecated and will be removed from pandas in a future version. Use pandas.concat instead.\n",
      "  filtrado_Data4=filtrado_Data4.append(filtrar4)\n",
      "/tmp/ipykernel_9904/3091215869.py:18: FutureWarning: The frame.append method is deprecated and will be removed from pandas in a future version. Use pandas.concat instead.\n",
      "  filtrado_Data5=filtrado_Data5.append(filtrar5)\n"
     ]
    },
    {
     "name": "stdout",
     "output_type": "stream",
     "text": [
      "             origen   destino  periodo distancia  viajes\n",
      "fecha                                                   \n",
      "2020-05-17  2800502  28052_AM       19   010-050   3.828\n",
      "2020-05-17  2800502  28052_AM        2   010-050   7.009\n",
      "2020-05-17  2801301  28052_AM        5   010-050   7.648\n"
     ]
    },
    {
     "name": "stderr",
     "output_type": "stream",
     "text": [
      "/tmp/ipykernel_9904/3091215869.py:14: FutureWarning: The frame.append method is deprecated and will be removed from pandas in a future version. Use pandas.concat instead.\n",
      "  filtrado_Data=filtrado_Data.append(filtrar)\n",
      "/tmp/ipykernel_9904/3091215869.py:15: FutureWarning: The frame.append method is deprecated and will be removed from pandas in a future version. Use pandas.concat instead.\n",
      "  filtrado_Data2=filtrado_Data2.append(filtrar2)\n",
      "/tmp/ipykernel_9904/3091215869.py:16: FutureWarning: The frame.append method is deprecated and will be removed from pandas in a future version. Use pandas.concat instead.\n",
      "  filtrado_Data3=filtrado_Data3.append(filtrar3)\n",
      "/tmp/ipykernel_9904/3091215869.py:17: FutureWarning: The frame.append method is deprecated and will be removed from pandas in a future version. Use pandas.concat instead.\n",
      "  filtrado_Data4=filtrado_Data4.append(filtrar4)\n",
      "/tmp/ipykernel_9904/3091215869.py:18: FutureWarning: The frame.append method is deprecated and will be removed from pandas in a future version. Use pandas.concat instead.\n",
      "  filtrado_Data5=filtrado_Data5.append(filtrar5)\n"
     ]
    },
    {
     "name": "stdout",
     "output_type": "stream",
     "text": [
      "              origen destino  periodo distancia  viajes\n",
      "fecha                                                  \n",
      "2020-05-17  19046_AM   28053        5   010-050   9.549\n",
      "2020-05-17  19046_AM   28053        7   010-050   7.212\n",
      "2020-05-17  19046_AM   28053       17   010-050   7.212\n"
     ]
    },
    {
     "name": "stderr",
     "output_type": "stream",
     "text": [
      "/tmp/ipykernel_9904/3091215869.py:14: FutureWarning: The frame.append method is deprecated and will be removed from pandas in a future version. Use pandas.concat instead.\n",
      "  filtrado_Data=filtrado_Data.append(filtrar)\n",
      "/tmp/ipykernel_9904/3091215869.py:15: FutureWarning: The frame.append method is deprecated and will be removed from pandas in a future version. Use pandas.concat instead.\n",
      "  filtrado_Data2=filtrado_Data2.append(filtrar2)\n",
      "/tmp/ipykernel_9904/3091215869.py:16: FutureWarning: The frame.append method is deprecated and will be removed from pandas in a future version. Use pandas.concat instead.\n",
      "  filtrado_Data3=filtrado_Data3.append(filtrar3)\n",
      "/tmp/ipykernel_9904/3091215869.py:17: FutureWarning: The frame.append method is deprecated and will be removed from pandas in a future version. Use pandas.concat instead.\n",
      "  filtrado_Data4=filtrado_Data4.append(filtrar4)\n",
      "/tmp/ipykernel_9904/3091215869.py:18: FutureWarning: The frame.append method is deprecated and will be removed from pandas in a future version. Use pandas.concat instead.\n",
      "  filtrado_Data5=filtrado_Data5.append(filtrar5)\n"
     ]
    },
    {
     "name": "stdout",
     "output_type": "stream",
     "text": [
      "             origen destino  periodo distancia  viajes\n",
      "fecha                                                 \n",
      "2020-05-17  2800505   28054       22   050-100  11.370\n",
      "2020-05-17  2800703   28054        8   010-050   6.411\n",
      "2020-05-17    28009   28054        7   050-100   9.260\n"
     ]
    },
    {
     "name": "stderr",
     "output_type": "stream",
     "text": [
      "/tmp/ipykernel_9904/3091215869.py:14: FutureWarning: The frame.append method is deprecated and will be removed from pandas in a future version. Use pandas.concat instead.\n",
      "  filtrado_Data=filtrado_Data.append(filtrar)\n",
      "/tmp/ipykernel_9904/3091215869.py:15: FutureWarning: The frame.append method is deprecated and will be removed from pandas in a future version. Use pandas.concat instead.\n",
      "  filtrado_Data2=filtrado_Data2.append(filtrar2)\n",
      "/tmp/ipykernel_9904/3091215869.py:16: FutureWarning: The frame.append method is deprecated and will be removed from pandas in a future version. Use pandas.concat instead.\n",
      "  filtrado_Data3=filtrado_Data3.append(filtrar3)\n",
      "/tmp/ipykernel_9904/3091215869.py:17: FutureWarning: The frame.append method is deprecated and will be removed from pandas in a future version. Use pandas.concat instead.\n",
      "  filtrado_Data4=filtrado_Data4.append(filtrar4)\n",
      "/tmp/ipykernel_9904/3091215869.py:18: FutureWarning: The frame.append method is deprecated and will be removed from pandas in a future version. Use pandas.concat instead.\n",
      "  filtrado_Data5=filtrado_Data5.append(filtrar5)\n"
     ]
    },
    {
     "name": "stdout",
     "output_type": "stream",
     "text": [
      "              origen  destino  periodo distancia  viajes\n",
      "fecha                                                   \n",
      "2020-05-17  28052_AM  2805801       19   010-050   3.828\n",
      "2020-05-17   2805802  2805801        6   002-005   6.907\n",
      "2020-05-17   2805802  2805801        8   002-005  29.997\n"
     ]
    },
    {
     "name": "stderr",
     "output_type": "stream",
     "text": [
      "/tmp/ipykernel_9904/3091215869.py:14: FutureWarning: The frame.append method is deprecated and will be removed from pandas in a future version. Use pandas.concat instead.\n",
      "  filtrado_Data=filtrado_Data.append(filtrar)\n",
      "/tmp/ipykernel_9904/3091215869.py:15: FutureWarning: The frame.append method is deprecated and will be removed from pandas in a future version. Use pandas.concat instead.\n",
      "  filtrado_Data2=filtrado_Data2.append(filtrar2)\n",
      "/tmp/ipykernel_9904/3091215869.py:16: FutureWarning: The frame.append method is deprecated and will be removed from pandas in a future version. Use pandas.concat instead.\n",
      "  filtrado_Data3=filtrado_Data3.append(filtrar3)\n",
      "/tmp/ipykernel_9904/3091215869.py:17: FutureWarning: The frame.append method is deprecated and will be removed from pandas in a future version. Use pandas.concat instead.\n",
      "  filtrado_Data4=filtrado_Data4.append(filtrar4)\n",
      "/tmp/ipykernel_9904/3091215869.py:18: FutureWarning: The frame.append method is deprecated and will be removed from pandas in a future version. Use pandas.concat instead.\n",
      "  filtrado_Data5=filtrado_Data5.append(filtrar5)\n"
     ]
    },
    {
     "name": "stdout",
     "output_type": "stream",
     "text": [
      "             origen  destino  periodo distancia  viajes\n",
      "fecha                                                  \n",
      "2020-05-17    28004  2805802        6   010-050   6.907\n",
      "2020-05-17    28004  2805802       15   010-050   6.907\n",
      "2020-05-17  2800502  2805802        0   010-050   6.907\n"
     ]
    },
    {
     "name": "stderr",
     "output_type": "stream",
     "text": [
      "/tmp/ipykernel_9904/3091215869.py:14: FutureWarning: The frame.append method is deprecated and will be removed from pandas in a future version. Use pandas.concat instead.\n",
      "  filtrado_Data=filtrado_Data.append(filtrar)\n",
      "/tmp/ipykernel_9904/3091215869.py:15: FutureWarning: The frame.append method is deprecated and will be removed from pandas in a future version. Use pandas.concat instead.\n",
      "  filtrado_Data2=filtrado_Data2.append(filtrar2)\n",
      "/tmp/ipykernel_9904/3091215869.py:16: FutureWarning: The frame.append method is deprecated and will be removed from pandas in a future version. Use pandas.concat instead.\n",
      "  filtrado_Data3=filtrado_Data3.append(filtrar3)\n",
      "/tmp/ipykernel_9904/3091215869.py:17: FutureWarning: The frame.append method is deprecated and will be removed from pandas in a future version. Use pandas.concat instead.\n",
      "  filtrado_Data4=filtrado_Data4.append(filtrar4)\n",
      "/tmp/ipykernel_9904/3091215869.py:18: FutureWarning: The frame.append method is deprecated and will be removed from pandas in a future version. Use pandas.concat instead.\n",
      "  filtrado_Data5=filtrado_Data5.append(filtrar5)\n"
     ]
    },
    {
     "name": "stdout",
     "output_type": "stream",
     "text": [
      "             origen  destino  periodo distancia  viajes\n",
      "fecha                                                  \n",
      "2020-05-17  2800601  2805803       13   010-050   4.112\n",
      "2020-05-17  2800601  2805803       22   010-050   6.708\n",
      "2020-05-17  2800601  2805803       13   010-050   6.926\n"
     ]
    },
    {
     "name": "stderr",
     "output_type": "stream",
     "text": [
      "/tmp/ipykernel_9904/3091215869.py:14: FutureWarning: The frame.append method is deprecated and will be removed from pandas in a future version. Use pandas.concat instead.\n",
      "  filtrado_Data=filtrado_Data.append(filtrar)\n",
      "/tmp/ipykernel_9904/3091215869.py:15: FutureWarning: The frame.append method is deprecated and will be removed from pandas in a future version. Use pandas.concat instead.\n",
      "  filtrado_Data2=filtrado_Data2.append(filtrar2)\n",
      "/tmp/ipykernel_9904/3091215869.py:16: FutureWarning: The frame.append method is deprecated and will be removed from pandas in a future version. Use pandas.concat instead.\n",
      "  filtrado_Data3=filtrado_Data3.append(filtrar3)\n",
      "/tmp/ipykernel_9904/3091215869.py:17: FutureWarning: The frame.append method is deprecated and will be removed from pandas in a future version. Use pandas.concat instead.\n",
      "  filtrado_Data4=filtrado_Data4.append(filtrar4)\n",
      "/tmp/ipykernel_9904/3091215869.py:18: FutureWarning: The frame.append method is deprecated and will be removed from pandas in a future version. Use pandas.concat instead.\n",
      "  filtrado_Data5=filtrado_Data5.append(filtrar5)\n"
     ]
    },
    {
     "name": "stdout",
     "output_type": "stream",
     "text": [
      "              origen  destino  periodo distancia  viajes\n",
      "fecha                                                   \n",
      "2020-05-17  19071_AM  2805804       12   050-100  10.134\n",
      "2020-05-17   1913002  2805804        8   050-100   8.601\n",
      "2020-05-17     28004  2805804        9   010-050  10.021\n"
     ]
    },
    {
     "name": "stderr",
     "output_type": "stream",
     "text": [
      "/tmp/ipykernel_9904/3091215869.py:14: FutureWarning: The frame.append method is deprecated and will be removed from pandas in a future version. Use pandas.concat instead.\n",
      "  filtrado_Data=filtrado_Data.append(filtrar)\n",
      "/tmp/ipykernel_9904/3091215869.py:15: FutureWarning: The frame.append method is deprecated and will be removed from pandas in a future version. Use pandas.concat instead.\n",
      "  filtrado_Data2=filtrado_Data2.append(filtrar2)\n",
      "/tmp/ipykernel_9904/3091215869.py:16: FutureWarning: The frame.append method is deprecated and will be removed from pandas in a future version. Use pandas.concat instead.\n",
      "  filtrado_Data3=filtrado_Data3.append(filtrar3)\n",
      "/tmp/ipykernel_9904/3091215869.py:17: FutureWarning: The frame.append method is deprecated and will be removed from pandas in a future version. Use pandas.concat instead.\n",
      "  filtrado_Data4=filtrado_Data4.append(filtrar4)\n",
      "/tmp/ipykernel_9904/3091215869.py:18: FutureWarning: The frame.append method is deprecated and will be removed from pandas in a future version. Use pandas.concat instead.\n",
      "  filtrado_Data5=filtrado_Data5.append(filtrar5)\n"
     ]
    },
    {
     "name": "stdout",
     "output_type": "stream",
     "text": [
      "             origen  destino  periodo distancia  viajes\n",
      "fecha                                                  \n",
      "2020-05-17  2800601  2805805       14   010-050   9.109\n",
      "2020-05-17  2800601  2805805       22   010-050   6.542\n",
      "2020-05-17  2800701  2805805       13   010-050   9.109\n"
     ]
    },
    {
     "name": "stderr",
     "output_type": "stream",
     "text": [
      "/tmp/ipykernel_9904/3091215869.py:14: FutureWarning: The frame.append method is deprecated and will be removed from pandas in a future version. Use pandas.concat instead.\n",
      "  filtrado_Data=filtrado_Data.append(filtrar)\n",
      "/tmp/ipykernel_9904/3091215869.py:15: FutureWarning: The frame.append method is deprecated and will be removed from pandas in a future version. Use pandas.concat instead.\n",
      "  filtrado_Data2=filtrado_Data2.append(filtrar2)\n",
      "/tmp/ipykernel_9904/3091215869.py:16: FutureWarning: The frame.append method is deprecated and will be removed from pandas in a future version. Use pandas.concat instead.\n",
      "  filtrado_Data3=filtrado_Data3.append(filtrar3)\n",
      "/tmp/ipykernel_9904/3091215869.py:17: FutureWarning: The frame.append method is deprecated and will be removed from pandas in a future version. Use pandas.concat instead.\n",
      "  filtrado_Data4=filtrado_Data4.append(filtrar4)\n",
      "/tmp/ipykernel_9904/3091215869.py:18: FutureWarning: The frame.append method is deprecated and will be removed from pandas in a future version. Use pandas.concat instead.\n",
      "  filtrado_Data5=filtrado_Data5.append(filtrar5)\n"
     ]
    },
    {
     "name": "stdout",
     "output_type": "stream",
     "text": [
      "              origen  destino  periodo distancia  viajes\n",
      "fecha                                                   \n",
      "2020-05-17  19274_AM  2805806        5   050-100   6.832\n",
      "2020-05-17     19319  2805806       22   050-100   8.405\n",
      "2020-05-17     28004  2805806       14   010-050   6.425\n"
     ]
    },
    {
     "name": "stderr",
     "output_type": "stream",
     "text": [
      "/tmp/ipykernel_9904/3091215869.py:14: FutureWarning: The frame.append method is deprecated and will be removed from pandas in a future version. Use pandas.concat instead.\n",
      "  filtrado_Data=filtrado_Data.append(filtrar)\n",
      "/tmp/ipykernel_9904/3091215869.py:15: FutureWarning: The frame.append method is deprecated and will be removed from pandas in a future version. Use pandas.concat instead.\n",
      "  filtrado_Data2=filtrado_Data2.append(filtrar2)\n",
      "/tmp/ipykernel_9904/3091215869.py:16: FutureWarning: The frame.append method is deprecated and will be removed from pandas in a future version. Use pandas.concat instead.\n",
      "  filtrado_Data3=filtrado_Data3.append(filtrar3)\n",
      "/tmp/ipykernel_9904/3091215869.py:17: FutureWarning: The frame.append method is deprecated and will be removed from pandas in a future version. Use pandas.concat instead.\n",
      "  filtrado_Data4=filtrado_Data4.append(filtrar4)\n",
      "/tmp/ipykernel_9904/3091215869.py:18: FutureWarning: The frame.append method is deprecated and will be removed from pandas in a future version. Use pandas.concat instead.\n",
      "  filtrado_Data5=filtrado_Data5.append(filtrar5)\n"
     ]
    },
    {
     "name": "stdout",
     "output_type": "stream",
     "text": [
      "             origen  destino  periodo distancia  viajes\n",
      "fecha                                                  \n",
      "2020-05-17    28004  2805807        2   010-050   5.882\n",
      "2020-05-17  2800502  2805807       11   010-050   2.087\n",
      "2020-05-17  2800504  2805807       17   010-050   5.725\n"
     ]
    },
    {
     "name": "stderr",
     "output_type": "stream",
     "text": [
      "/tmp/ipykernel_9904/3091215869.py:14: FutureWarning: The frame.append method is deprecated and will be removed from pandas in a future version. Use pandas.concat instead.\n",
      "  filtrado_Data=filtrado_Data.append(filtrar)\n",
      "/tmp/ipykernel_9904/3091215869.py:15: FutureWarning: The frame.append method is deprecated and will be removed from pandas in a future version. Use pandas.concat instead.\n",
      "  filtrado_Data2=filtrado_Data2.append(filtrar2)\n",
      "/tmp/ipykernel_9904/3091215869.py:16: FutureWarning: The frame.append method is deprecated and will be removed from pandas in a future version. Use pandas.concat instead.\n",
      "  filtrado_Data3=filtrado_Data3.append(filtrar3)\n",
      "/tmp/ipykernel_9904/3091215869.py:17: FutureWarning: The frame.append method is deprecated and will be removed from pandas in a future version. Use pandas.concat instead.\n",
      "  filtrado_Data4=filtrado_Data4.append(filtrar4)\n",
      "/tmp/ipykernel_9904/3091215869.py:18: FutureWarning: The frame.append method is deprecated and will be removed from pandas in a future version. Use pandas.concat instead.\n",
      "  filtrado_Data5=filtrado_Data5.append(filtrar5)\n"
     ]
    },
    {
     "name": "stdout",
     "output_type": "stream",
     "text": [
      "              origen  destino  periodo distancia  viajes\n",
      "fecha                                                   \n",
      "2020-05-17  19046_AM  2805808       18   050-100   8.582\n",
      "2020-05-17     28004  2805808       21   010-050   6.542\n",
      "2020-05-17   2800505  2805808       20   010-050   6.620\n"
     ]
    },
    {
     "name": "stderr",
     "output_type": "stream",
     "text": [
      "/tmp/ipykernel_9904/3091215869.py:14: FutureWarning: The frame.append method is deprecated and will be removed from pandas in a future version. Use pandas.concat instead.\n",
      "  filtrado_Data=filtrado_Data.append(filtrar)\n",
      "/tmp/ipykernel_9904/3091215869.py:15: FutureWarning: The frame.append method is deprecated and will be removed from pandas in a future version. Use pandas.concat instead.\n",
      "  filtrado_Data2=filtrado_Data2.append(filtrar2)\n",
      "/tmp/ipykernel_9904/3091215869.py:16: FutureWarning: The frame.append method is deprecated and will be removed from pandas in a future version. Use pandas.concat instead.\n",
      "  filtrado_Data3=filtrado_Data3.append(filtrar3)\n",
      "/tmp/ipykernel_9904/3091215869.py:17: FutureWarning: The frame.append method is deprecated and will be removed from pandas in a future version. Use pandas.concat instead.\n",
      "  filtrado_Data4=filtrado_Data4.append(filtrar4)\n",
      "/tmp/ipykernel_9904/3091215869.py:18: FutureWarning: The frame.append method is deprecated and will be removed from pandas in a future version. Use pandas.concat instead.\n",
      "  filtrado_Data5=filtrado_Data5.append(filtrar5)\n"
     ]
    },
    {
     "name": "stdout",
     "output_type": "stream",
     "text": [
      "           origen  destino  periodo distancia  viajes\n",
      "fecha                                                \n",
      "2020-05-17  28004  2805809       12   010-050  10.021\n",
      "2020-05-17  28004  2805809       16   010-050  10.021\n",
      "2020-05-17  28004  2805809        0   010-050   9.609\n"
     ]
    },
    {
     "name": "stderr",
     "output_type": "stream",
     "text": [
      "/tmp/ipykernel_9904/3091215869.py:14: FutureWarning: The frame.append method is deprecated and will be removed from pandas in a future version. Use pandas.concat instead.\n",
      "  filtrado_Data=filtrado_Data.append(filtrar)\n",
      "/tmp/ipykernel_9904/3091215869.py:15: FutureWarning: The frame.append method is deprecated and will be removed from pandas in a future version. Use pandas.concat instead.\n",
      "  filtrado_Data2=filtrado_Data2.append(filtrar2)\n",
      "/tmp/ipykernel_9904/3091215869.py:16: FutureWarning: The frame.append method is deprecated and will be removed from pandas in a future version. Use pandas.concat instead.\n",
      "  filtrado_Data3=filtrado_Data3.append(filtrar3)\n",
      "/tmp/ipykernel_9904/3091215869.py:17: FutureWarning: The frame.append method is deprecated and will be removed from pandas in a future version. Use pandas.concat instead.\n",
      "  filtrado_Data4=filtrado_Data4.append(filtrar4)\n",
      "/tmp/ipykernel_9904/3091215869.py:18: FutureWarning: The frame.append method is deprecated and will be removed from pandas in a future version. Use pandas.concat instead.\n",
      "  filtrado_Data5=filtrado_Data5.append(filtrar5)\n"
     ]
    },
    {
     "name": "stdout",
     "output_type": "stream",
     "text": [
      "              origen destino  periodo distancia  viajes\n",
      "fecha                                                  \n",
      "2020-05-17  19058_AM   28059       19   010-050   6.776\n",
      "2020-05-17  19071_AM   28059        9   005-010   9.396\n",
      "2020-05-17  19071_AM   28059       10   005-010   9.396\n"
     ]
    },
    {
     "name": "stderr",
     "output_type": "stream",
     "text": [
      "/tmp/ipykernel_9904/3091215869.py:14: FutureWarning: The frame.append method is deprecated and will be removed from pandas in a future version. Use pandas.concat instead.\n",
      "  filtrado_Data=filtrado_Data.append(filtrar)\n",
      "/tmp/ipykernel_9904/3091215869.py:15: FutureWarning: The frame.append method is deprecated and will be removed from pandas in a future version. Use pandas.concat instead.\n",
      "  filtrado_Data2=filtrado_Data2.append(filtrar2)\n",
      "/tmp/ipykernel_9904/3091215869.py:16: FutureWarning: The frame.append method is deprecated and will be removed from pandas in a future version. Use pandas.concat instead.\n",
      "  filtrado_Data3=filtrado_Data3.append(filtrar3)\n",
      "/tmp/ipykernel_9904/3091215869.py:17: FutureWarning: The frame.append method is deprecated and will be removed from pandas in a future version. Use pandas.concat instead.\n",
      "  filtrado_Data4=filtrado_Data4.append(filtrar4)\n",
      "/tmp/ipykernel_9904/3091215869.py:18: FutureWarning: The frame.append method is deprecated and will be removed from pandas in a future version. Use pandas.concat instead.\n",
      "  filtrado_Data5=filtrado_Data5.append(filtrar5)\n"
     ]
    },
    {
     "name": "stdout",
     "output_type": "stream",
     "text": [
      "              origen   destino  periodo distancia  viajes\n",
      "fecha                                                    \n",
      "2020-05-17   1913002  28060_AM        9   010-050   8.601\n",
      "2020-05-17  19160_AM  28060_AM        5   010-050  19.250\n",
      "2020-05-17  19160_AM  28060_AM        4   010-050   9.549\n"
     ]
    },
    {
     "name": "stderr",
     "output_type": "stream",
     "text": [
      "/tmp/ipykernel_9904/3091215869.py:14: FutureWarning: The frame.append method is deprecated and will be removed from pandas in a future version. Use pandas.concat instead.\n",
      "  filtrado_Data=filtrado_Data.append(filtrar)\n",
      "/tmp/ipykernel_9904/3091215869.py:15: FutureWarning: The frame.append method is deprecated and will be removed from pandas in a future version. Use pandas.concat instead.\n",
      "  filtrado_Data2=filtrado_Data2.append(filtrar2)\n",
      "/tmp/ipykernel_9904/3091215869.py:16: FutureWarning: The frame.append method is deprecated and will be removed from pandas in a future version. Use pandas.concat instead.\n",
      "  filtrado_Data3=filtrado_Data3.append(filtrar3)\n",
      "/tmp/ipykernel_9904/3091215869.py:17: FutureWarning: The frame.append method is deprecated and will be removed from pandas in a future version. Use pandas.concat instead.\n",
      "  filtrado_Data4=filtrado_Data4.append(filtrar4)\n",
      "/tmp/ipykernel_9904/3091215869.py:18: FutureWarning: The frame.append method is deprecated and will be removed from pandas in a future version. Use pandas.concat instead.\n",
      "  filtrado_Data5=filtrado_Data5.append(filtrar5)\n"
     ]
    },
    {
     "name": "stdout",
     "output_type": "stream",
     "text": [
      "             origen destino  periodo distancia  viajes\n",
      "fecha                                                 \n",
      "2020-05-17  2800505   28061       17   050-100   5.077\n",
      "2020-05-17  2800601   28061       19   010-050   5.383\n",
      "2020-05-17  2800601   28061       21   010-050   5.077\n"
     ]
    },
    {
     "name": "stderr",
     "output_type": "stream",
     "text": [
      "/tmp/ipykernel_9904/3091215869.py:14: FutureWarning: The frame.append method is deprecated and will be removed from pandas in a future version. Use pandas.concat instead.\n",
      "  filtrado_Data=filtrado_Data.append(filtrar)\n",
      "/tmp/ipykernel_9904/3091215869.py:15: FutureWarning: The frame.append method is deprecated and will be removed from pandas in a future version. Use pandas.concat instead.\n",
      "  filtrado_Data2=filtrado_Data2.append(filtrar2)\n",
      "/tmp/ipykernel_9904/3091215869.py:16: FutureWarning: The frame.append method is deprecated and will be removed from pandas in a future version. Use pandas.concat instead.\n",
      "  filtrado_Data3=filtrado_Data3.append(filtrar3)\n",
      "/tmp/ipykernel_9904/3091215869.py:17: FutureWarning: The frame.append method is deprecated and will be removed from pandas in a future version. Use pandas.concat instead.\n",
      "  filtrado_Data4=filtrado_Data4.append(filtrar4)\n",
      "/tmp/ipykernel_9904/3091215869.py:18: FutureWarning: The frame.append method is deprecated and will be removed from pandas in a future version. Use pandas.concat instead.\n",
      "  filtrado_Data5=filtrado_Data5.append(filtrar5)\n"
     ]
    },
    {
     "name": "stdout",
     "output_type": "stream",
     "text": [
      "              origen  destino  periodo distancia  viajes\n",
      "fecha                                                   \n",
      "2020-05-17  19046_AM  2806501        6   010-050   9.549\n",
      "2020-05-17   1913001  2806501       15   050-100   8.913\n",
      "2020-05-17   1913002  2806501       16   050-100  12.190\n"
     ]
    },
    {
     "name": "stderr",
     "output_type": "stream",
     "text": [
      "/tmp/ipykernel_9904/3091215869.py:14: FutureWarning: The frame.append method is deprecated and will be removed from pandas in a future version. Use pandas.concat instead.\n",
      "  filtrado_Data=filtrado_Data.append(filtrar)\n",
      "/tmp/ipykernel_9904/3091215869.py:15: FutureWarning: The frame.append method is deprecated and will be removed from pandas in a future version. Use pandas.concat instead.\n",
      "  filtrado_Data2=filtrado_Data2.append(filtrar2)\n",
      "/tmp/ipykernel_9904/3091215869.py:16: FutureWarning: The frame.append method is deprecated and will be removed from pandas in a future version. Use pandas.concat instead.\n",
      "  filtrado_Data3=filtrado_Data3.append(filtrar3)\n",
      "/tmp/ipykernel_9904/3091215869.py:17: FutureWarning: The frame.append method is deprecated and will be removed from pandas in a future version. Use pandas.concat instead.\n",
      "  filtrado_Data4=filtrado_Data4.append(filtrar4)\n",
      "/tmp/ipykernel_9904/3091215869.py:18: FutureWarning: The frame.append method is deprecated and will be removed from pandas in a future version. Use pandas.concat instead.\n",
      "  filtrado_Data5=filtrado_Data5.append(filtrar5)\n"
     ]
    },
    {
     "name": "stdout",
     "output_type": "stream",
     "text": [
      "             origen  destino  periodo distancia  viajes\n",
      "fecha                                                  \n",
      "2020-05-17  2800502  2806502       14   010-050   7.059\n",
      "2020-05-17  2800503  2806502       14   010-050   6.375\n",
      "2020-05-17  2800601  2806502        7   010-050   8.044\n"
     ]
    },
    {
     "name": "stderr",
     "output_type": "stream",
     "text": [
      "/tmp/ipykernel_9904/3091215869.py:14: FutureWarning: The frame.append method is deprecated and will be removed from pandas in a future version. Use pandas.concat instead.\n",
      "  filtrado_Data=filtrado_Data.append(filtrar)\n",
      "/tmp/ipykernel_9904/3091215869.py:15: FutureWarning: The frame.append method is deprecated and will be removed from pandas in a future version. Use pandas.concat instead.\n",
      "  filtrado_Data2=filtrado_Data2.append(filtrar2)\n",
      "/tmp/ipykernel_9904/3091215869.py:16: FutureWarning: The frame.append method is deprecated and will be removed from pandas in a future version. Use pandas.concat instead.\n",
      "  filtrado_Data3=filtrado_Data3.append(filtrar3)\n",
      "/tmp/ipykernel_9904/3091215869.py:17: FutureWarning: The frame.append method is deprecated and will be removed from pandas in a future version. Use pandas.concat instead.\n",
      "  filtrado_Data4=filtrado_Data4.append(filtrar4)\n",
      "/tmp/ipykernel_9904/3091215869.py:18: FutureWarning: The frame.append method is deprecated and will be removed from pandas in a future version. Use pandas.concat instead.\n",
      "  filtrado_Data5=filtrado_Data5.append(filtrar5)\n"
     ]
    },
    {
     "name": "stdout",
     "output_type": "stream",
     "text": [
      "              origen  destino  periodo distancia  viajes\n",
      "fecha                                                   \n",
      "2020-05-17  19046_AM  2806503       19   010-050  18.445\n",
      "2020-05-17  19046_AM  2806503       22   010-050   7.832\n",
      "2020-05-17  19086_AM  2806503        9      100+   8.648\n"
     ]
    },
    {
     "name": "stderr",
     "output_type": "stream",
     "text": [
      "/tmp/ipykernel_9904/3091215869.py:14: FutureWarning: The frame.append method is deprecated and will be removed from pandas in a future version. Use pandas.concat instead.\n",
      "  filtrado_Data=filtrado_Data.append(filtrar)\n",
      "/tmp/ipykernel_9904/3091215869.py:15: FutureWarning: The frame.append method is deprecated and will be removed from pandas in a future version. Use pandas.concat instead.\n",
      "  filtrado_Data2=filtrado_Data2.append(filtrar2)\n",
      "/tmp/ipykernel_9904/3091215869.py:16: FutureWarning: The frame.append method is deprecated and will be removed from pandas in a future version. Use pandas.concat instead.\n",
      "  filtrado_Data3=filtrado_Data3.append(filtrar3)\n",
      "/tmp/ipykernel_9904/3091215869.py:17: FutureWarning: The frame.append method is deprecated and will be removed from pandas in a future version. Use pandas.concat instead.\n",
      "  filtrado_Data4=filtrado_Data4.append(filtrar4)\n",
      "/tmp/ipykernel_9904/3091215869.py:18: FutureWarning: The frame.append method is deprecated and will be removed from pandas in a future version. Use pandas.concat instead.\n",
      "  filtrado_Data5=filtrado_Data5.append(filtrar5)\n"
     ]
    },
    {
     "name": "stdout",
     "output_type": "stream",
     "text": [
      "           origen  destino  periodo distancia  viajes\n",
      "fecha                                                \n",
      "2020-05-17  19024  2806504        3   050-100   8.242\n",
      "2020-05-17  19024  2806504       21   010-050   8.250\n",
      "2020-05-17  19024  2806504       21   010-050   5.734\n"
     ]
    },
    {
     "name": "stderr",
     "output_type": "stream",
     "text": [
      "/tmp/ipykernel_9904/3091215869.py:14: FutureWarning: The frame.append method is deprecated and will be removed from pandas in a future version. Use pandas.concat instead.\n",
      "  filtrado_Data=filtrado_Data.append(filtrar)\n",
      "/tmp/ipykernel_9904/3091215869.py:15: FutureWarning: The frame.append method is deprecated and will be removed from pandas in a future version. Use pandas.concat instead.\n",
      "  filtrado_Data2=filtrado_Data2.append(filtrar2)\n",
      "/tmp/ipykernel_9904/3091215869.py:16: FutureWarning: The frame.append method is deprecated and will be removed from pandas in a future version. Use pandas.concat instead.\n",
      "  filtrado_Data3=filtrado_Data3.append(filtrar3)\n",
      "/tmp/ipykernel_9904/3091215869.py:17: FutureWarning: The frame.append method is deprecated and will be removed from pandas in a future version. Use pandas.concat instead.\n",
      "  filtrado_Data4=filtrado_Data4.append(filtrar4)\n",
      "/tmp/ipykernel_9904/3091215869.py:18: FutureWarning: The frame.append method is deprecated and will be removed from pandas in a future version. Use pandas.concat instead.\n",
      "  filtrado_Data5=filtrado_Data5.append(filtrar5)\n"
     ]
    },
    {
     "name": "stdout",
     "output_type": "stream",
     "text": [
      "           origen destino  periodo distancia  viajes\n",
      "fecha                                               \n",
      "2020-05-17  28004   28066        2   010-050  10.021\n",
      "2020-05-17  28004   28066        3   010-050  10.021\n",
      "2020-05-17  28004   28066        4   005-010  10.021\n"
     ]
    },
    {
     "name": "stderr",
     "output_type": "stream",
     "text": [
      "/tmp/ipykernel_9904/3091215869.py:14: FutureWarning: The frame.append method is deprecated and will be removed from pandas in a future version. Use pandas.concat instead.\n",
      "  filtrado_Data=filtrado_Data.append(filtrar)\n",
      "/tmp/ipykernel_9904/3091215869.py:15: FutureWarning: The frame.append method is deprecated and will be removed from pandas in a future version. Use pandas.concat instead.\n",
      "  filtrado_Data2=filtrado_Data2.append(filtrar2)\n",
      "/tmp/ipykernel_9904/3091215869.py:16: FutureWarning: The frame.append method is deprecated and will be removed from pandas in a future version. Use pandas.concat instead.\n",
      "  filtrado_Data3=filtrado_Data3.append(filtrar3)\n",
      "/tmp/ipykernel_9904/3091215869.py:17: FutureWarning: The frame.append method is deprecated and will be removed from pandas in a future version. Use pandas.concat instead.\n",
      "  filtrado_Data4=filtrado_Data4.append(filtrar4)\n",
      "/tmp/ipykernel_9904/3091215869.py:18: FutureWarning: The frame.append method is deprecated and will be removed from pandas in a future version. Use pandas.concat instead.\n",
      "  filtrado_Data5=filtrado_Data5.append(filtrar5)\n"
     ]
    },
    {
     "name": "stdout",
     "output_type": "stream",
     "text": [
      "              origen   destino  periodo distancia  viajes\n",
      "fecha                                                    \n",
      "2020-05-17  19046_AM  28067_AM       22   010-050   9.549\n",
      "2020-05-17  19071_AM  28067_AM       19   010-050  13.532\n",
      "2020-05-17  19071_AM  28067_AM       14   010-050   6.766\n"
     ]
    },
    {
     "name": "stderr",
     "output_type": "stream",
     "text": [
      "/tmp/ipykernel_9904/3091215869.py:14: FutureWarning: The frame.append method is deprecated and will be removed from pandas in a future version. Use pandas.concat instead.\n",
      "  filtrado_Data=filtrado_Data.append(filtrar)\n",
      "/tmp/ipykernel_9904/3091215869.py:15: FutureWarning: The frame.append method is deprecated and will be removed from pandas in a future version. Use pandas.concat instead.\n",
      "  filtrado_Data2=filtrado_Data2.append(filtrar2)\n",
      "/tmp/ipykernel_9904/3091215869.py:16: FutureWarning: The frame.append method is deprecated and will be removed from pandas in a future version. Use pandas.concat instead.\n",
      "  filtrado_Data3=filtrado_Data3.append(filtrar3)\n",
      "/tmp/ipykernel_9904/3091215869.py:17: FutureWarning: The frame.append method is deprecated and will be removed from pandas in a future version. Use pandas.concat instead.\n",
      "  filtrado_Data4=filtrado_Data4.append(filtrar4)\n",
      "/tmp/ipykernel_9904/3091215869.py:18: FutureWarning: The frame.append method is deprecated and will be removed from pandas in a future version. Use pandas.concat instead.\n",
      "  filtrado_Data5=filtrado_Data5.append(filtrar5)\n"
     ]
    },
    {
     "name": "stdout",
     "output_type": "stream",
     "text": [
      "             origen destino  periodo distancia  viajes\n",
      "fecha                                                 \n",
      "2020-05-17  2800601   28068        8   010-050   8.044\n",
      "2020-05-17  2800601   28068        9   010-050   5.756\n",
      "2020-05-17  2800601   28068       22   010-050   5.724\n"
     ]
    },
    {
     "name": "stderr",
     "output_type": "stream",
     "text": [
      "/tmp/ipykernel_9904/3091215869.py:14: FutureWarning: The frame.append method is deprecated and will be removed from pandas in a future version. Use pandas.concat instead.\n",
      "  filtrado_Data=filtrado_Data.append(filtrar)\n",
      "/tmp/ipykernel_9904/3091215869.py:15: FutureWarning: The frame.append method is deprecated and will be removed from pandas in a future version. Use pandas.concat instead.\n",
      "  filtrado_Data2=filtrado_Data2.append(filtrar2)\n",
      "/tmp/ipykernel_9904/3091215869.py:16: FutureWarning: The frame.append method is deprecated and will be removed from pandas in a future version. Use pandas.concat instead.\n",
      "  filtrado_Data3=filtrado_Data3.append(filtrar3)\n",
      "/tmp/ipykernel_9904/3091215869.py:17: FutureWarning: The frame.append method is deprecated and will be removed from pandas in a future version. Use pandas.concat instead.\n",
      "  filtrado_Data4=filtrado_Data4.append(filtrar4)\n",
      "/tmp/ipykernel_9904/3091215869.py:18: FutureWarning: The frame.append method is deprecated and will be removed from pandas in a future version. Use pandas.concat instead.\n",
      "  filtrado_Data5=filtrado_Data5.append(filtrar5)\n"
     ]
    },
    {
     "name": "stdout",
     "output_type": "stream",
     "text": [
      "             origen destino  periodo distancia  viajes\n",
      "fecha                                                 \n",
      "2020-05-17  2800502   28072        7   010-050   9.017\n",
      "2020-05-17  2800601   28072       12   010-050   7.282\n",
      "2020-05-17  2800601   28072       15   010-050   6.830\n"
     ]
    },
    {
     "name": "stderr",
     "output_type": "stream",
     "text": [
      "/tmp/ipykernel_9904/3091215869.py:14: FutureWarning: The frame.append method is deprecated and will be removed from pandas in a future version. Use pandas.concat instead.\n",
      "  filtrado_Data=filtrado_Data.append(filtrar)\n",
      "/tmp/ipykernel_9904/3091215869.py:15: FutureWarning: The frame.append method is deprecated and will be removed from pandas in a future version. Use pandas.concat instead.\n",
      "  filtrado_Data2=filtrado_Data2.append(filtrar2)\n",
      "/tmp/ipykernel_9904/3091215869.py:16: FutureWarning: The frame.append method is deprecated and will be removed from pandas in a future version. Use pandas.concat instead.\n",
      "  filtrado_Data3=filtrado_Data3.append(filtrar3)\n",
      "/tmp/ipykernel_9904/3091215869.py:17: FutureWarning: The frame.append method is deprecated and will be removed from pandas in a future version. Use pandas.concat instead.\n",
      "  filtrado_Data4=filtrado_Data4.append(filtrar4)\n",
      "/tmp/ipykernel_9904/3091215869.py:18: FutureWarning: The frame.append method is deprecated and will be removed from pandas in a future version. Use pandas.concat instead.\n",
      "  filtrado_Data5=filtrado_Data5.append(filtrar5)\n"
     ]
    },
    {
     "name": "stdout",
     "output_type": "stream",
     "text": [
      "             origen destino  periodo distancia  viajes\n",
      "fecha                                                 \n",
      "2020-05-17  2800505   28073       22   010-050   6.880\n",
      "2020-05-17  2800505   28073       14   010-050   8.273\n",
      "2020-05-17  2800601   28073       21   010-050   4.405\n"
     ]
    },
    {
     "name": "stderr",
     "output_type": "stream",
     "text": [
      "/tmp/ipykernel_9904/3091215869.py:14: FutureWarning: The frame.append method is deprecated and will be removed from pandas in a future version. Use pandas.concat instead.\n",
      "  filtrado_Data=filtrado_Data.append(filtrar)\n",
      "/tmp/ipykernel_9904/3091215869.py:15: FutureWarning: The frame.append method is deprecated and will be removed from pandas in a future version. Use pandas.concat instead.\n",
      "  filtrado_Data2=filtrado_Data2.append(filtrar2)\n",
      "/tmp/ipykernel_9904/3091215869.py:16: FutureWarning: The frame.append method is deprecated and will be removed from pandas in a future version. Use pandas.concat instead.\n",
      "  filtrado_Data3=filtrado_Data3.append(filtrar3)\n",
      "/tmp/ipykernel_9904/3091215869.py:17: FutureWarning: The frame.append method is deprecated and will be removed from pandas in a future version. Use pandas.concat instead.\n",
      "  filtrado_Data4=filtrado_Data4.append(filtrar4)\n",
      "/tmp/ipykernel_9904/3091215869.py:18: FutureWarning: The frame.append method is deprecated and will be removed from pandas in a future version. Use pandas.concat instead.\n",
      "  filtrado_Data5=filtrado_Data5.append(filtrar5)\n"
     ]
    },
    {
     "name": "stdout",
     "output_type": "stream",
     "text": [
      "             origen  destino  periodo distancia  viajes\n",
      "fecha                                                  \n",
      "2020-05-17    19024  2807401       22   050-100   5.416\n",
      "2020-05-17  2800502  2807401       19   010-050   9.017\n",
      "2020-05-17  2800502  2807401       20   010-050   9.017\n"
     ]
    },
    {
     "name": "stderr",
     "output_type": "stream",
     "text": [
      "/tmp/ipykernel_9904/3091215869.py:14: FutureWarning: The frame.append method is deprecated and will be removed from pandas in a future version. Use pandas.concat instead.\n",
      "  filtrado_Data=filtrado_Data.append(filtrar)\n",
      "/tmp/ipykernel_9904/3091215869.py:15: FutureWarning: The frame.append method is deprecated and will be removed from pandas in a future version. Use pandas.concat instead.\n",
      "  filtrado_Data2=filtrado_Data2.append(filtrar2)\n",
      "/tmp/ipykernel_9904/3091215869.py:16: FutureWarning: The frame.append method is deprecated and will be removed from pandas in a future version. Use pandas.concat instead.\n",
      "  filtrado_Data3=filtrado_Data3.append(filtrar3)\n",
      "/tmp/ipykernel_9904/3091215869.py:17: FutureWarning: The frame.append method is deprecated and will be removed from pandas in a future version. Use pandas.concat instead.\n",
      "  filtrado_Data4=filtrado_Data4.append(filtrar4)\n",
      "/tmp/ipykernel_9904/3091215869.py:18: FutureWarning: The frame.append method is deprecated and will be removed from pandas in a future version. Use pandas.concat instead.\n",
      "  filtrado_Data5=filtrado_Data5.append(filtrar5)\n"
     ]
    },
    {
     "name": "stdout",
     "output_type": "stream",
     "text": [
      "             origen  destino  periodo distancia  viajes\n",
      "fecha                                                  \n",
      "2020-05-17  2800504  2807402        7   010-050   8.426\n",
      "2020-05-17  2800504  2807402       12   010-050   7.650\n",
      "2020-05-17  2800601  2807402       19   010-050   8.426\n"
     ]
    },
    {
     "name": "stderr",
     "output_type": "stream",
     "text": [
      "/tmp/ipykernel_9904/3091215869.py:14: FutureWarning: The frame.append method is deprecated and will be removed from pandas in a future version. Use pandas.concat instead.\n",
      "  filtrado_Data=filtrado_Data.append(filtrar)\n",
      "/tmp/ipykernel_9904/3091215869.py:15: FutureWarning: The frame.append method is deprecated and will be removed from pandas in a future version. Use pandas.concat instead.\n",
      "  filtrado_Data2=filtrado_Data2.append(filtrar2)\n",
      "/tmp/ipykernel_9904/3091215869.py:16: FutureWarning: The frame.append method is deprecated and will be removed from pandas in a future version. Use pandas.concat instead.\n",
      "  filtrado_Data3=filtrado_Data3.append(filtrar3)\n",
      "/tmp/ipykernel_9904/3091215869.py:17: FutureWarning: The frame.append method is deprecated and will be removed from pandas in a future version. Use pandas.concat instead.\n",
      "  filtrado_Data4=filtrado_Data4.append(filtrar4)\n",
      "/tmp/ipykernel_9904/3091215869.py:18: FutureWarning: The frame.append method is deprecated and will be removed from pandas in a future version. Use pandas.concat instead.\n",
      "  filtrado_Data5=filtrado_Data5.append(filtrar5)\n"
     ]
    },
    {
     "name": "stdout",
     "output_type": "stream",
     "text": [
      "             origen  destino  periodo distancia  viajes\n",
      "fecha                                                  \n",
      "2020-05-17    19319  2807403       12   010-050   8.625\n",
      "2020-05-17    28004  2807403       22   010-050  10.021\n",
      "2020-05-17  2800503  2807403       21   010-050   7.650\n"
     ]
    },
    {
     "name": "stderr",
     "output_type": "stream",
     "text": [
      "/tmp/ipykernel_9904/3091215869.py:14: FutureWarning: The frame.append method is deprecated and will be removed from pandas in a future version. Use pandas.concat instead.\n",
      "  filtrado_Data=filtrado_Data.append(filtrar)\n",
      "/tmp/ipykernel_9904/3091215869.py:15: FutureWarning: The frame.append method is deprecated and will be removed from pandas in a future version. Use pandas.concat instead.\n",
      "  filtrado_Data2=filtrado_Data2.append(filtrar2)\n",
      "/tmp/ipykernel_9904/3091215869.py:16: FutureWarning: The frame.append method is deprecated and will be removed from pandas in a future version. Use pandas.concat instead.\n",
      "  filtrado_Data3=filtrado_Data3.append(filtrar3)\n",
      "/tmp/ipykernel_9904/3091215869.py:17: FutureWarning: The frame.append method is deprecated and will be removed from pandas in a future version. Use pandas.concat instead.\n",
      "  filtrado_Data4=filtrado_Data4.append(filtrar4)\n",
      "/tmp/ipykernel_9904/3091215869.py:18: FutureWarning: The frame.append method is deprecated and will be removed from pandas in a future version. Use pandas.concat instead.\n",
      "  filtrado_Data5=filtrado_Data5.append(filtrar5)\n"
     ]
    },
    {
     "name": "stdout",
     "output_type": "stream",
     "text": [
      "              origen  destino  periodo distancia  viajes\n",
      "fecha                                                   \n",
      "2020-05-17  19046_AM  2807404       22   010-050   10.44\n",
      "2020-05-17   2800503  2807404       14   010-050    8.04\n",
      "2020-05-17   2800503  2807404       20   010-050    8.04\n"
     ]
    },
    {
     "name": "stderr",
     "output_type": "stream",
     "text": [
      "/tmp/ipykernel_9904/3091215869.py:14: FutureWarning: The frame.append method is deprecated and will be removed from pandas in a future version. Use pandas.concat instead.\n",
      "  filtrado_Data=filtrado_Data.append(filtrar)\n",
      "/tmp/ipykernel_9904/3091215869.py:15: FutureWarning: The frame.append method is deprecated and will be removed from pandas in a future version. Use pandas.concat instead.\n",
      "  filtrado_Data2=filtrado_Data2.append(filtrar2)\n",
      "/tmp/ipykernel_9904/3091215869.py:16: FutureWarning: The frame.append method is deprecated and will be removed from pandas in a future version. Use pandas.concat instead.\n",
      "  filtrado_Data3=filtrado_Data3.append(filtrar3)\n",
      "/tmp/ipykernel_9904/3091215869.py:17: FutureWarning: The frame.append method is deprecated and will be removed from pandas in a future version. Use pandas.concat instead.\n",
      "  filtrado_Data4=filtrado_Data4.append(filtrar4)\n",
      "/tmp/ipykernel_9904/3091215869.py:18: FutureWarning: The frame.append method is deprecated and will be removed from pandas in a future version. Use pandas.concat instead.\n",
      "  filtrado_Data5=filtrado_Data5.append(filtrar5)\n"
     ]
    },
    {
     "name": "stdout",
     "output_type": "stream",
     "text": [
      "           origen  destino  periodo distancia  viajes\n",
      "fecha                                                \n",
      "2020-05-17  19024  2807405       11   050-100   8.242\n",
      "2020-05-17  28004  2807405       13   010-050  10.021\n",
      "2020-05-17  28004  2807405       21   010-050  10.021\n"
     ]
    },
    {
     "name": "stderr",
     "output_type": "stream",
     "text": [
      "/tmp/ipykernel_9904/3091215869.py:14: FutureWarning: The frame.append method is deprecated and will be removed from pandas in a future version. Use pandas.concat instead.\n",
      "  filtrado_Data=filtrado_Data.append(filtrar)\n",
      "/tmp/ipykernel_9904/3091215869.py:15: FutureWarning: The frame.append method is deprecated and will be removed from pandas in a future version. Use pandas.concat instead.\n",
      "  filtrado_Data2=filtrado_Data2.append(filtrar2)\n",
      "/tmp/ipykernel_9904/3091215869.py:16: FutureWarning: The frame.append method is deprecated and will be removed from pandas in a future version. Use pandas.concat instead.\n",
      "  filtrado_Data3=filtrado_Data3.append(filtrar3)\n",
      "/tmp/ipykernel_9904/3091215869.py:17: FutureWarning: The frame.append method is deprecated and will be removed from pandas in a future version. Use pandas.concat instead.\n",
      "  filtrado_Data4=filtrado_Data4.append(filtrar4)\n",
      "/tmp/ipykernel_9904/3091215869.py:18: FutureWarning: The frame.append method is deprecated and will be removed from pandas in a future version. Use pandas.concat instead.\n",
      "  filtrado_Data5=filtrado_Data5.append(filtrar5)\n"
     ]
    },
    {
     "name": "stdout",
     "output_type": "stream",
     "text": [
      "              origen  destino  periodo distancia  viajes\n",
      "fecha                                                   \n",
      "2020-05-17  19058_AM  2807406        5   050-100   6.171\n",
      "2020-05-17  19160_AM  2807406        9   050-100   6.855\n",
      "2020-05-17   2800503  2807406       13   010-050  37.132\n"
     ]
    },
    {
     "name": "stderr",
     "output_type": "stream",
     "text": [
      "/tmp/ipykernel_9904/3091215869.py:14: FutureWarning: The frame.append method is deprecated and will be removed from pandas in a future version. Use pandas.concat instead.\n",
      "  filtrado_Data=filtrado_Data.append(filtrar)\n",
      "/tmp/ipykernel_9904/3091215869.py:15: FutureWarning: The frame.append method is deprecated and will be removed from pandas in a future version. Use pandas.concat instead.\n",
      "  filtrado_Data2=filtrado_Data2.append(filtrar2)\n",
      "/tmp/ipykernel_9904/3091215869.py:16: FutureWarning: The frame.append method is deprecated and will be removed from pandas in a future version. Use pandas.concat instead.\n",
      "  filtrado_Data3=filtrado_Data3.append(filtrar3)\n",
      "/tmp/ipykernel_9904/3091215869.py:17: FutureWarning: The frame.append method is deprecated and will be removed from pandas in a future version. Use pandas.concat instead.\n",
      "  filtrado_Data4=filtrado_Data4.append(filtrar4)\n",
      "/tmp/ipykernel_9904/3091215869.py:18: FutureWarning: The frame.append method is deprecated and will be removed from pandas in a future version. Use pandas.concat instead.\n",
      "  filtrado_Data5=filtrado_Data5.append(filtrar5)\n"
     ]
    },
    {
     "name": "stdout",
     "output_type": "stream",
     "text": [
      "             origen  destino  periodo distancia  viajes\n",
      "fecha                                                  \n",
      "2020-05-17  2800701  2807407       18   005-010   5.823\n",
      "2020-05-17  2800701  2807407       20   005-010   5.823\n",
      "2020-05-17  2800701  2807407        0   002-005   8.086\n"
     ]
    },
    {
     "name": "stderr",
     "output_type": "stream",
     "text": [
      "/tmp/ipykernel_9904/3091215869.py:14: FutureWarning: The frame.append method is deprecated and will be removed from pandas in a future version. Use pandas.concat instead.\n",
      "  filtrado_Data=filtrado_Data.append(filtrar)\n",
      "/tmp/ipykernel_9904/3091215869.py:15: FutureWarning: The frame.append method is deprecated and will be removed from pandas in a future version. Use pandas.concat instead.\n",
      "  filtrado_Data2=filtrado_Data2.append(filtrar2)\n",
      "/tmp/ipykernel_9904/3091215869.py:16: FutureWarning: The frame.append method is deprecated and will be removed from pandas in a future version. Use pandas.concat instead.\n",
      "  filtrado_Data3=filtrado_Data3.append(filtrar3)\n",
      "/tmp/ipykernel_9904/3091215869.py:17: FutureWarning: The frame.append method is deprecated and will be removed from pandas in a future version. Use pandas.concat instead.\n",
      "  filtrado_Data4=filtrado_Data4.append(filtrar4)\n",
      "/tmp/ipykernel_9904/3091215869.py:18: FutureWarning: The frame.append method is deprecated and will be removed from pandas in a future version. Use pandas.concat instead.\n",
      "  filtrado_Data5=filtrado_Data5.append(filtrar5)\n"
     ]
    },
    {
     "name": "stdout",
     "output_type": "stream",
     "text": [
      "              origen destino  periodo distancia  viajes\n",
      "fecha                                                  \n",
      "2020-05-17  19220_AM   28075       20   010-050   8.719\n",
      "2020-05-17     28002   28075       16   010-050   6.774\n",
      "2020-05-17     28002   28075       22   010-050   4.742\n"
     ]
    },
    {
     "name": "stderr",
     "output_type": "stream",
     "text": [
      "/tmp/ipykernel_9904/3091215869.py:14: FutureWarning: The frame.append method is deprecated and will be removed from pandas in a future version. Use pandas.concat instead.\n",
      "  filtrado_Data=filtrado_Data.append(filtrar)\n",
      "/tmp/ipykernel_9904/3091215869.py:15: FutureWarning: The frame.append method is deprecated and will be removed from pandas in a future version. Use pandas.concat instead.\n",
      "  filtrado_Data2=filtrado_Data2.append(filtrar2)\n",
      "/tmp/ipykernel_9904/3091215869.py:16: FutureWarning: The frame.append method is deprecated and will be removed from pandas in a future version. Use pandas.concat instead.\n",
      "  filtrado_Data3=filtrado_Data3.append(filtrar3)\n",
      "/tmp/ipykernel_9904/3091215869.py:17: FutureWarning: The frame.append method is deprecated and will be removed from pandas in a future version. Use pandas.concat instead.\n",
      "  filtrado_Data4=filtrado_Data4.append(filtrar4)\n",
      "/tmp/ipykernel_9904/3091215869.py:18: FutureWarning: The frame.append method is deprecated and will be removed from pandas in a future version. Use pandas.concat instead.\n",
      "  filtrado_Data5=filtrado_Data5.append(filtrar5)\n"
     ]
    },
    {
     "name": "stdout",
     "output_type": "stream",
     "text": [
      "              origen  destino  periodo distancia  viajes\n",
      "fecha                                                   \n",
      "2020-05-17  19071_AM  2807901       14   010-050   9.396\n",
      "2020-05-17     19171  2807901        3   050-100   6.544\n",
      "2020-05-17     28004  2807901       14   010-050  10.021\n"
     ]
    },
    {
     "name": "stderr",
     "output_type": "stream",
     "text": [
      "/tmp/ipykernel_9904/3091215869.py:14: FutureWarning: The frame.append method is deprecated and will be removed from pandas in a future version. Use pandas.concat instead.\n",
      "  filtrado_Data=filtrado_Data.append(filtrar)\n",
      "/tmp/ipykernel_9904/3091215869.py:15: FutureWarning: The frame.append method is deprecated and will be removed from pandas in a future version. Use pandas.concat instead.\n",
      "  filtrado_Data2=filtrado_Data2.append(filtrar2)\n",
      "/tmp/ipykernel_9904/3091215869.py:16: FutureWarning: The frame.append method is deprecated and will be removed from pandas in a future version. Use pandas.concat instead.\n",
      "  filtrado_Data3=filtrado_Data3.append(filtrar3)\n",
      "/tmp/ipykernel_9904/3091215869.py:17: FutureWarning: The frame.append method is deprecated and will be removed from pandas in a future version. Use pandas.concat instead.\n",
      "  filtrado_Data4=filtrado_Data4.append(filtrar4)\n",
      "/tmp/ipykernel_9904/3091215869.py:18: FutureWarning: The frame.append method is deprecated and will be removed from pandas in a future version. Use pandas.concat instead.\n",
      "  filtrado_Data5=filtrado_Data5.append(filtrar5)\n"
     ]
    },
    {
     "name": "stdout",
     "output_type": "stream",
     "text": [
      "              origen  destino  periodo distancia  viajes\n",
      "fecha                                                   \n",
      "2020-05-17     19024  2807902       14   010-050   9.121\n",
      "2020-05-17  19046_AM  2807902       12   010-050   9.549\n",
      "2020-05-17  19046_AM  2807902        5   010-050   9.549\n"
     ]
    },
    {
     "name": "stderr",
     "output_type": "stream",
     "text": [
      "/tmp/ipykernel_9904/3091215869.py:14: FutureWarning: The frame.append method is deprecated and will be removed from pandas in a future version. Use pandas.concat instead.\n",
      "  filtrado_Data=filtrado_Data.append(filtrar)\n",
      "/tmp/ipykernel_9904/3091215869.py:15: FutureWarning: The frame.append method is deprecated and will be removed from pandas in a future version. Use pandas.concat instead.\n",
      "  filtrado_Data2=filtrado_Data2.append(filtrar2)\n",
      "/tmp/ipykernel_9904/3091215869.py:16: FutureWarning: The frame.append method is deprecated and will be removed from pandas in a future version. Use pandas.concat instead.\n",
      "  filtrado_Data3=filtrado_Data3.append(filtrar3)\n",
      "/tmp/ipykernel_9904/3091215869.py:17: FutureWarning: The frame.append method is deprecated and will be removed from pandas in a future version. Use pandas.concat instead.\n",
      "  filtrado_Data4=filtrado_Data4.append(filtrar4)\n",
      "/tmp/ipykernel_9904/3091215869.py:18: FutureWarning: The frame.append method is deprecated and will be removed from pandas in a future version. Use pandas.concat instead.\n",
      "  filtrado_Data5=filtrado_Data5.append(filtrar5)\n"
     ]
    },
    {
     "name": "stdout",
     "output_type": "stream",
     "text": [
      "              origen  destino  periodo distancia  viajes\n",
      "fecha                                                   \n",
      "2020-05-17  19046_AM  2807903       12   010-050   9.549\n",
      "2020-05-17  19071_AM  2807903       12   010-050   9.396\n",
      "2020-05-17  19071_AM  2807903        7   010-050   7.728\n"
     ]
    },
    {
     "name": "stderr",
     "output_type": "stream",
     "text": [
      "/tmp/ipykernel_9904/3091215869.py:14: FutureWarning: The frame.append method is deprecated and will be removed from pandas in a future version. Use pandas.concat instead.\n",
      "  filtrado_Data=filtrado_Data.append(filtrar)\n",
      "/tmp/ipykernel_9904/3091215869.py:15: FutureWarning: The frame.append method is deprecated and will be removed from pandas in a future version. Use pandas.concat instead.\n",
      "  filtrado_Data2=filtrado_Data2.append(filtrar2)\n",
      "/tmp/ipykernel_9904/3091215869.py:16: FutureWarning: The frame.append method is deprecated and will be removed from pandas in a future version. Use pandas.concat instead.\n",
      "  filtrado_Data3=filtrado_Data3.append(filtrar3)\n",
      "/tmp/ipykernel_9904/3091215869.py:17: FutureWarning: The frame.append method is deprecated and will be removed from pandas in a future version. Use pandas.concat instead.\n",
      "  filtrado_Data4=filtrado_Data4.append(filtrar4)\n",
      "/tmp/ipykernel_9904/3091215869.py:18: FutureWarning: The frame.append method is deprecated and will be removed from pandas in a future version. Use pandas.concat instead.\n",
      "  filtrado_Data5=filtrado_Data5.append(filtrar5)\n"
     ]
    },
    {
     "name": "stdout",
     "output_type": "stream",
     "text": [
      "              origen  destino  periodo distancia  viajes\n",
      "fecha                                                   \n",
      "2020-05-17  19046_AM  2807904       14   010-050    7.68\n",
      "2020-05-17  19071_AM  2807904       10   010-050    7.68\n",
      "2020-05-17  19071_AM  2807904       22   010-050    7.68\n"
     ]
    },
    {
     "name": "stderr",
     "output_type": "stream",
     "text": [
      "/tmp/ipykernel_9904/3091215869.py:14: FutureWarning: The frame.append method is deprecated and will be removed from pandas in a future version. Use pandas.concat instead.\n",
      "  filtrado_Data=filtrado_Data.append(filtrar)\n",
      "/tmp/ipykernel_9904/3091215869.py:15: FutureWarning: The frame.append method is deprecated and will be removed from pandas in a future version. Use pandas.concat instead.\n",
      "  filtrado_Data2=filtrado_Data2.append(filtrar2)\n",
      "/tmp/ipykernel_9904/3091215869.py:16: FutureWarning: The frame.append method is deprecated and will be removed from pandas in a future version. Use pandas.concat instead.\n",
      "  filtrado_Data3=filtrado_Data3.append(filtrar3)\n",
      "/tmp/ipykernel_9904/3091215869.py:17: FutureWarning: The frame.append method is deprecated and will be removed from pandas in a future version. Use pandas.concat instead.\n",
      "  filtrado_Data4=filtrado_Data4.append(filtrar4)\n",
      "/tmp/ipykernel_9904/3091215869.py:18: FutureWarning: The frame.append method is deprecated and will be removed from pandas in a future version. Use pandas.concat instead.\n",
      "  filtrado_Data5=filtrado_Data5.append(filtrar5)\n"
     ]
    },
    {
     "name": "stdout",
     "output_type": "stream",
     "text": [
      "              origen  destino  periodo distancia  viajes\n",
      "fecha                                                   \n",
      "2020-05-17  19046_AM  2807905        3   010-050   9.549\n",
      "2020-05-17  19046_AM  2807905       17   010-050   9.549\n",
      "2020-05-17  19046_AM  2807905       20   010-050   9.549\n"
     ]
    },
    {
     "name": "stderr",
     "output_type": "stream",
     "text": [
      "/tmp/ipykernel_9904/3091215869.py:14: FutureWarning: The frame.append method is deprecated and will be removed from pandas in a future version. Use pandas.concat instead.\n",
      "  filtrado_Data=filtrado_Data.append(filtrar)\n",
      "/tmp/ipykernel_9904/3091215869.py:15: FutureWarning: The frame.append method is deprecated and will be removed from pandas in a future version. Use pandas.concat instead.\n",
      "  filtrado_Data2=filtrado_Data2.append(filtrar2)\n",
      "/tmp/ipykernel_9904/3091215869.py:16: FutureWarning: The frame.append method is deprecated and will be removed from pandas in a future version. Use pandas.concat instead.\n",
      "  filtrado_Data3=filtrado_Data3.append(filtrar3)\n",
      "/tmp/ipykernel_9904/3091215869.py:17: FutureWarning: The frame.append method is deprecated and will be removed from pandas in a future version. Use pandas.concat instead.\n",
      "  filtrado_Data4=filtrado_Data4.append(filtrar4)\n",
      "/tmp/ipykernel_9904/3091215869.py:18: FutureWarning: The frame.append method is deprecated and will be removed from pandas in a future version. Use pandas.concat instead.\n",
      "  filtrado_Data5=filtrado_Data5.append(filtrar5)\n"
     ]
    },
    {
     "name": "stdout",
     "output_type": "stream",
     "text": [
      "              origen  destino  periodo distancia  viajes\n",
      "fecha                                                   \n",
      "2020-05-17  19046_AM  2807906       13   010-050   9.549\n",
      "2020-05-17  19058_AM  2807906       17   010-050   8.121\n",
      "2020-05-17  19071_AM  2807906        3   010-050   9.396\n"
     ]
    },
    {
     "name": "stderr",
     "output_type": "stream",
     "text": [
      "/tmp/ipykernel_9904/3091215869.py:14: FutureWarning: The frame.append method is deprecated and will be removed from pandas in a future version. Use pandas.concat instead.\n",
      "  filtrado_Data=filtrado_Data.append(filtrar)\n",
      "/tmp/ipykernel_9904/3091215869.py:15: FutureWarning: The frame.append method is deprecated and will be removed from pandas in a future version. Use pandas.concat instead.\n",
      "  filtrado_Data2=filtrado_Data2.append(filtrar2)\n",
      "/tmp/ipykernel_9904/3091215869.py:16: FutureWarning: The frame.append method is deprecated and will be removed from pandas in a future version. Use pandas.concat instead.\n",
      "  filtrado_Data3=filtrado_Data3.append(filtrar3)\n",
      "/tmp/ipykernel_9904/3091215869.py:17: FutureWarning: The frame.append method is deprecated and will be removed from pandas in a future version. Use pandas.concat instead.\n",
      "  filtrado_Data4=filtrado_Data4.append(filtrar4)\n",
      "/tmp/ipykernel_9904/3091215869.py:18: FutureWarning: The frame.append method is deprecated and will be removed from pandas in a future version. Use pandas.concat instead.\n",
      "  filtrado_Data5=filtrado_Data5.append(filtrar5)\n"
     ]
    },
    {
     "name": "stdout",
     "output_type": "stream",
     "text": [
      "              origen  destino  periodo distancia  viajes\n",
      "fecha                                                   \n",
      "2020-05-17  19046_AM  2807907       19   010-050   9.549\n",
      "2020-05-17  19046_AM  2807907        8   010-050   7.294\n",
      "2020-05-17  19071_AM  2807907       20   010-050   9.396\n"
     ]
    },
    {
     "name": "stderr",
     "output_type": "stream",
     "text": [
      "/tmp/ipykernel_9904/3091215869.py:14: FutureWarning: The frame.append method is deprecated and will be removed from pandas in a future version. Use pandas.concat instead.\n",
      "  filtrado_Data=filtrado_Data.append(filtrar)\n",
      "/tmp/ipykernel_9904/3091215869.py:15: FutureWarning: The frame.append method is deprecated and will be removed from pandas in a future version. Use pandas.concat instead.\n",
      "  filtrado_Data2=filtrado_Data2.append(filtrar2)\n",
      "/tmp/ipykernel_9904/3091215869.py:16: FutureWarning: The frame.append method is deprecated and will be removed from pandas in a future version. Use pandas.concat instead.\n",
      "  filtrado_Data3=filtrado_Data3.append(filtrar3)\n",
      "/tmp/ipykernel_9904/3091215869.py:17: FutureWarning: The frame.append method is deprecated and will be removed from pandas in a future version. Use pandas.concat instead.\n",
      "  filtrado_Data4=filtrado_Data4.append(filtrar4)\n",
      "/tmp/ipykernel_9904/3091215869.py:18: FutureWarning: The frame.append method is deprecated and will be removed from pandas in a future version. Use pandas.concat instead.\n",
      "  filtrado_Data5=filtrado_Data5.append(filtrar5)\n"
     ]
    },
    {
     "name": "stdout",
     "output_type": "stream",
     "text": [
      "              origen  destino  periodo distancia  viajes\n",
      "fecha                                                   \n",
      "2020-05-17     19024  2807908       10   010-050   8.242\n",
      "2020-05-17  19046_AM  2807908        5   010-050   9.549\n",
      "2020-05-17  19046_AM  2807908       18   010-050   9.549\n"
     ]
    },
    {
     "name": "stderr",
     "output_type": "stream",
     "text": [
      "/tmp/ipykernel_9904/3091215869.py:14: FutureWarning: The frame.append method is deprecated and will be removed from pandas in a future version. Use pandas.concat instead.\n",
      "  filtrado_Data=filtrado_Data.append(filtrar)\n",
      "/tmp/ipykernel_9904/3091215869.py:15: FutureWarning: The frame.append method is deprecated and will be removed from pandas in a future version. Use pandas.concat instead.\n",
      "  filtrado_Data2=filtrado_Data2.append(filtrar2)\n",
      "/tmp/ipykernel_9904/3091215869.py:16: FutureWarning: The frame.append method is deprecated and will be removed from pandas in a future version. Use pandas.concat instead.\n",
      "  filtrado_Data3=filtrado_Data3.append(filtrar3)\n",
      "/tmp/ipykernel_9904/3091215869.py:17: FutureWarning: The frame.append method is deprecated and will be removed from pandas in a future version. Use pandas.concat instead.\n",
      "  filtrado_Data4=filtrado_Data4.append(filtrar4)\n",
      "/tmp/ipykernel_9904/3091215869.py:18: FutureWarning: The frame.append method is deprecated and will be removed from pandas in a future version. Use pandas.concat instead.\n",
      "  filtrado_Data5=filtrado_Data5.append(filtrar5)\n"
     ]
    },
    {
     "name": "stdout",
     "output_type": "stream",
     "text": [
      "              origen  destino  periodo distancia  viajes\n",
      "fecha                                                   \n",
      "2020-05-17  19046_AM  2807909        3   010-050   9.549\n",
      "2020-05-17  19046_AM  2807909        6   010-050   9.549\n",
      "2020-05-17  19046_AM  2807909       14   010-050   9.549\n"
     ]
    },
    {
     "name": "stderr",
     "output_type": "stream",
     "text": [
      "/tmp/ipykernel_9904/3091215869.py:14: FutureWarning: The frame.append method is deprecated and will be removed from pandas in a future version. Use pandas.concat instead.\n",
      "  filtrado_Data=filtrado_Data.append(filtrar)\n",
      "/tmp/ipykernel_9904/3091215869.py:15: FutureWarning: The frame.append method is deprecated and will be removed from pandas in a future version. Use pandas.concat instead.\n",
      "  filtrado_Data2=filtrado_Data2.append(filtrar2)\n",
      "/tmp/ipykernel_9904/3091215869.py:16: FutureWarning: The frame.append method is deprecated and will be removed from pandas in a future version. Use pandas.concat instead.\n",
      "  filtrado_Data3=filtrado_Data3.append(filtrar3)\n",
      "/tmp/ipykernel_9904/3091215869.py:17: FutureWarning: The frame.append method is deprecated and will be removed from pandas in a future version. Use pandas.concat instead.\n",
      "  filtrado_Data4=filtrado_Data4.append(filtrar4)\n",
      "/tmp/ipykernel_9904/3091215869.py:18: FutureWarning: The frame.append method is deprecated and will be removed from pandas in a future version. Use pandas.concat instead.\n",
      "  filtrado_Data5=filtrado_Data5.append(filtrar5)\n"
     ]
    },
    {
     "name": "stdout",
     "output_type": "stream",
     "text": [
      "              origen  destino  periodo distancia  viajes\n",
      "fecha                                                   \n",
      "2020-05-17  19046_AM  2807910       12   010-050   4.752\n",
      "2020-05-17   1913001  2807910        9   050-100   8.291\n",
      "2020-05-17   1913001  2807910        9   050-100   8.436\n"
     ]
    },
    {
     "name": "stderr",
     "output_type": "stream",
     "text": [
      "/tmp/ipykernel_9904/3091215869.py:14: FutureWarning: The frame.append method is deprecated and will be removed from pandas in a future version. Use pandas.concat instead.\n",
      "  filtrado_Data=filtrado_Data.append(filtrar)\n",
      "/tmp/ipykernel_9904/3091215869.py:15: FutureWarning: The frame.append method is deprecated and will be removed from pandas in a future version. Use pandas.concat instead.\n",
      "  filtrado_Data2=filtrado_Data2.append(filtrar2)\n",
      "/tmp/ipykernel_9904/3091215869.py:16: FutureWarning: The frame.append method is deprecated and will be removed from pandas in a future version. Use pandas.concat instead.\n",
      "  filtrado_Data3=filtrado_Data3.append(filtrar3)\n",
      "/tmp/ipykernel_9904/3091215869.py:17: FutureWarning: The frame.append method is deprecated and will be removed from pandas in a future version. Use pandas.concat instead.\n",
      "  filtrado_Data4=filtrado_Data4.append(filtrar4)\n",
      "/tmp/ipykernel_9904/3091215869.py:18: FutureWarning: The frame.append method is deprecated and will be removed from pandas in a future version. Use pandas.concat instead.\n",
      "  filtrado_Data5=filtrado_Data5.append(filtrar5)\n"
     ]
    },
    {
     "name": "stdout",
     "output_type": "stream",
     "text": [
      "              origen  destino  periodo distancia  viajes\n",
      "fecha                                                   \n",
      "2020-05-17  19046_AM  2807911        2   010-050   9.549\n",
      "2020-05-17  19053_AM  2807911       22      100+   9.285\n",
      "2020-05-17  19058_AM  2807911       19   010-050  17.363\n"
     ]
    },
    {
     "name": "stderr",
     "output_type": "stream",
     "text": [
      "/tmp/ipykernel_9904/3091215869.py:14: FutureWarning: The frame.append method is deprecated and will be removed from pandas in a future version. Use pandas.concat instead.\n",
      "  filtrado_Data=filtrado_Data.append(filtrar)\n",
      "/tmp/ipykernel_9904/3091215869.py:15: FutureWarning: The frame.append method is deprecated and will be removed from pandas in a future version. Use pandas.concat instead.\n",
      "  filtrado_Data2=filtrado_Data2.append(filtrar2)\n",
      "/tmp/ipykernel_9904/3091215869.py:16: FutureWarning: The frame.append method is deprecated and will be removed from pandas in a future version. Use pandas.concat instead.\n",
      "  filtrado_Data3=filtrado_Data3.append(filtrar3)\n",
      "/tmp/ipykernel_9904/3091215869.py:17: FutureWarning: The frame.append method is deprecated and will be removed from pandas in a future version. Use pandas.concat instead.\n",
      "  filtrado_Data4=filtrado_Data4.append(filtrar4)\n",
      "/tmp/ipykernel_9904/3091215869.py:18: FutureWarning: The frame.append method is deprecated and will be removed from pandas in a future version. Use pandas.concat instead.\n",
      "  filtrado_Data5=filtrado_Data5.append(filtrar5)\n"
     ]
    },
    {
     "name": "stdout",
     "output_type": "stream",
     "text": [
      "              origen  destino  periodo distancia  viajes\n",
      "fecha                                                   \n",
      "2020-05-17   1913001  2807912       12   050-100   8.291\n",
      "2020-05-17   1913003  2807912       17   050-100   9.285\n",
      "2020-05-17  19192_AM  2807912        9   050-100   7.307\n"
     ]
    },
    {
     "name": "stderr",
     "output_type": "stream",
     "text": [
      "/tmp/ipykernel_9904/3091215869.py:14: FutureWarning: The frame.append method is deprecated and will be removed from pandas in a future version. Use pandas.concat instead.\n",
      "  filtrado_Data=filtrado_Data.append(filtrar)\n",
      "/tmp/ipykernel_9904/3091215869.py:15: FutureWarning: The frame.append method is deprecated and will be removed from pandas in a future version. Use pandas.concat instead.\n",
      "  filtrado_Data2=filtrado_Data2.append(filtrar2)\n",
      "/tmp/ipykernel_9904/3091215869.py:16: FutureWarning: The frame.append method is deprecated and will be removed from pandas in a future version. Use pandas.concat instead.\n",
      "  filtrado_Data3=filtrado_Data3.append(filtrar3)\n",
      "/tmp/ipykernel_9904/3091215869.py:17: FutureWarning: The frame.append method is deprecated and will be removed from pandas in a future version. Use pandas.concat instead.\n",
      "  filtrado_Data4=filtrado_Data4.append(filtrar4)\n",
      "/tmp/ipykernel_9904/3091215869.py:18: FutureWarning: The frame.append method is deprecated and will be removed from pandas in a future version. Use pandas.concat instead.\n",
      "  filtrado_Data5=filtrado_Data5.append(filtrar5)\n"
     ]
    },
    {
     "name": "stdout",
     "output_type": "stream",
     "text": [
      "              origen  destino  periodo distancia  viajes\n",
      "fecha                                                   \n",
      "2020-05-17     19024  2807913       14   010-050  15.330\n",
      "2020-05-17  19046_AM  2807913       12   010-050   9.549\n",
      "2020-05-17  19046_AM  2807913        6   010-050   7.665\n"
     ]
    },
    {
     "name": "stderr",
     "output_type": "stream",
     "text": [
      "/tmp/ipykernel_9904/3091215869.py:14: FutureWarning: The frame.append method is deprecated and will be removed from pandas in a future version. Use pandas.concat instead.\n",
      "  filtrado_Data=filtrado_Data.append(filtrar)\n",
      "/tmp/ipykernel_9904/3091215869.py:15: FutureWarning: The frame.append method is deprecated and will be removed from pandas in a future version. Use pandas.concat instead.\n",
      "  filtrado_Data2=filtrado_Data2.append(filtrar2)\n",
      "/tmp/ipykernel_9904/3091215869.py:16: FutureWarning: The frame.append method is deprecated and will be removed from pandas in a future version. Use pandas.concat instead.\n",
      "  filtrado_Data3=filtrado_Data3.append(filtrar3)\n",
      "/tmp/ipykernel_9904/3091215869.py:17: FutureWarning: The frame.append method is deprecated and will be removed from pandas in a future version. Use pandas.concat instead.\n",
      "  filtrado_Data4=filtrado_Data4.append(filtrar4)\n",
      "/tmp/ipykernel_9904/3091215869.py:18: FutureWarning: The frame.append method is deprecated and will be removed from pandas in a future version. Use pandas.concat instead.\n",
      "  filtrado_Data5=filtrado_Data5.append(filtrar5)\n"
     ]
    },
    {
     "name": "stdout",
     "output_type": "stream",
     "text": [
      "              origen  destino  periodo distancia  viajes\n",
      "fecha                                                   \n",
      "2020-05-17  19046_AM  2807914       16   010-050    9.21\n",
      "2020-05-17  19071_AM  2807914       20   010-050    9.21\n",
      "2020-05-17  19160_AM  2807914       11   010-050    9.21\n"
     ]
    },
    {
     "name": "stderr",
     "output_type": "stream",
     "text": [
      "/tmp/ipykernel_9904/3091215869.py:14: FutureWarning: The frame.append method is deprecated and will be removed from pandas in a future version. Use pandas.concat instead.\n",
      "  filtrado_Data=filtrado_Data.append(filtrar)\n",
      "/tmp/ipykernel_9904/3091215869.py:15: FutureWarning: The frame.append method is deprecated and will be removed from pandas in a future version. Use pandas.concat instead.\n",
      "  filtrado_Data2=filtrado_Data2.append(filtrar2)\n",
      "/tmp/ipykernel_9904/3091215869.py:16: FutureWarning: The frame.append method is deprecated and will be removed from pandas in a future version. Use pandas.concat instead.\n",
      "  filtrado_Data3=filtrado_Data3.append(filtrar3)\n",
      "/tmp/ipykernel_9904/3091215869.py:17: FutureWarning: The frame.append method is deprecated and will be removed from pandas in a future version. Use pandas.concat instead.\n",
      "  filtrado_Data4=filtrado_Data4.append(filtrar4)\n",
      "/tmp/ipykernel_9904/3091215869.py:18: FutureWarning: The frame.append method is deprecated and will be removed from pandas in a future version. Use pandas.concat instead.\n",
      "  filtrado_Data5=filtrado_Data5.append(filtrar5)\n"
     ]
    },
    {
     "name": "stdout",
     "output_type": "stream",
     "text": [
      "              origen  destino  periodo distancia  viajes\n",
      "fecha                                                   \n",
      "2020-05-17  19046_AM  2807915       17   010-050   8.767\n",
      "2020-05-17  19058_AM  2807915        6   010-050   9.549\n",
      "2020-05-17  19071_AM  2807915       11   010-050   8.767\n"
     ]
    },
    {
     "name": "stderr",
     "output_type": "stream",
     "text": [
      "/tmp/ipykernel_9904/3091215869.py:14: FutureWarning: The frame.append method is deprecated and will be removed from pandas in a future version. Use pandas.concat instead.\n",
      "  filtrado_Data=filtrado_Data.append(filtrar)\n",
      "/tmp/ipykernel_9904/3091215869.py:15: FutureWarning: The frame.append method is deprecated and will be removed from pandas in a future version. Use pandas.concat instead.\n",
      "  filtrado_Data2=filtrado_Data2.append(filtrar2)\n",
      "/tmp/ipykernel_9904/3091215869.py:16: FutureWarning: The frame.append method is deprecated and will be removed from pandas in a future version. Use pandas.concat instead.\n",
      "  filtrado_Data3=filtrado_Data3.append(filtrar3)\n",
      "/tmp/ipykernel_9904/3091215869.py:17: FutureWarning: The frame.append method is deprecated and will be removed from pandas in a future version. Use pandas.concat instead.\n",
      "  filtrado_Data4=filtrado_Data4.append(filtrar4)\n",
      "/tmp/ipykernel_9904/3091215869.py:18: FutureWarning: The frame.append method is deprecated and will be removed from pandas in a future version. Use pandas.concat instead.\n",
      "  filtrado_Data5=filtrado_Data5.append(filtrar5)\n"
     ]
    },
    {
     "name": "stdout",
     "output_type": "stream",
     "text": [
      "              origen  destino  periodo distancia  viajes\n",
      "fecha                                                   \n",
      "2020-05-17  19046_AM  2807916       20   010-050   9.549\n",
      "2020-05-17  19046_AM  2807916       23   010-050   7.656\n",
      "2020-05-17  19058_AM  2807916       10   010-050   7.656\n"
     ]
    },
    {
     "name": "stderr",
     "output_type": "stream",
     "text": [
      "/tmp/ipykernel_9904/3091215869.py:14: FutureWarning: The frame.append method is deprecated and will be removed from pandas in a future version. Use pandas.concat instead.\n",
      "  filtrado_Data=filtrado_Data.append(filtrar)\n",
      "/tmp/ipykernel_9904/3091215869.py:15: FutureWarning: The frame.append method is deprecated and will be removed from pandas in a future version. Use pandas.concat instead.\n",
      "  filtrado_Data2=filtrado_Data2.append(filtrar2)\n",
      "/tmp/ipykernel_9904/3091215869.py:16: FutureWarning: The frame.append method is deprecated and will be removed from pandas in a future version. Use pandas.concat instead.\n",
      "  filtrado_Data3=filtrado_Data3.append(filtrar3)\n",
      "/tmp/ipykernel_9904/3091215869.py:17: FutureWarning: The frame.append method is deprecated and will be removed from pandas in a future version. Use pandas.concat instead.\n",
      "  filtrado_Data4=filtrado_Data4.append(filtrar4)\n",
      "/tmp/ipykernel_9904/3091215869.py:18: FutureWarning: The frame.append method is deprecated and will be removed from pandas in a future version. Use pandas.concat instead.\n",
      "  filtrado_Data5=filtrado_Data5.append(filtrar5)\n"
     ]
    },
    {
     "name": "stdout",
     "output_type": "stream",
     "text": [
      "              origen  destino  periodo distancia  viajes\n",
      "fecha                                                   \n",
      "2020-05-17     19024  2807917       18   010-050   5.856\n",
      "2020-05-17  19058_AM  2807917       16   010-050   7.306\n",
      "2020-05-17   1913003  2807917        8   050-100   7.306\n"
     ]
    },
    {
     "name": "stderr",
     "output_type": "stream",
     "text": [
      "/tmp/ipykernel_9904/3091215869.py:14: FutureWarning: The frame.append method is deprecated and will be removed from pandas in a future version. Use pandas.concat instead.\n",
      "  filtrado_Data=filtrado_Data.append(filtrar)\n",
      "/tmp/ipykernel_9904/3091215869.py:15: FutureWarning: The frame.append method is deprecated and will be removed from pandas in a future version. Use pandas.concat instead.\n",
      "  filtrado_Data2=filtrado_Data2.append(filtrar2)\n",
      "/tmp/ipykernel_9904/3091215869.py:16: FutureWarning: The frame.append method is deprecated and will be removed from pandas in a future version. Use pandas.concat instead.\n",
      "  filtrado_Data3=filtrado_Data3.append(filtrar3)\n",
      "/tmp/ipykernel_9904/3091215869.py:17: FutureWarning: The frame.append method is deprecated and will be removed from pandas in a future version. Use pandas.concat instead.\n",
      "  filtrado_Data4=filtrado_Data4.append(filtrar4)\n",
      "/tmp/ipykernel_9904/3091215869.py:18: FutureWarning: The frame.append method is deprecated and will be removed from pandas in a future version. Use pandas.concat instead.\n",
      "  filtrado_Data5=filtrado_Data5.append(filtrar5)\n"
     ]
    },
    {
     "name": "stdout",
     "output_type": "stream",
     "text": [
      "              origen  destino  periodo distancia  viajes\n",
      "fecha                                                   \n",
      "2020-05-17     19024  2807918       10   010-050   1.395\n",
      "2020-05-17  19046_AM  2807918        7   010-050   9.549\n",
      "2020-05-17  19046_AM  2807918       21   010-050   5.734\n"
     ]
    },
    {
     "name": "stderr",
     "output_type": "stream",
     "text": [
      "/tmp/ipykernel_9904/3091215869.py:14: FutureWarning: The frame.append method is deprecated and will be removed from pandas in a future version. Use pandas.concat instead.\n",
      "  filtrado_Data=filtrado_Data.append(filtrar)\n",
      "/tmp/ipykernel_9904/3091215869.py:15: FutureWarning: The frame.append method is deprecated and will be removed from pandas in a future version. Use pandas.concat instead.\n",
      "  filtrado_Data2=filtrado_Data2.append(filtrar2)\n",
      "/tmp/ipykernel_9904/3091215869.py:16: FutureWarning: The frame.append method is deprecated and will be removed from pandas in a future version. Use pandas.concat instead.\n",
      "  filtrado_Data3=filtrado_Data3.append(filtrar3)\n",
      "/tmp/ipykernel_9904/3091215869.py:17: FutureWarning: The frame.append method is deprecated and will be removed from pandas in a future version. Use pandas.concat instead.\n",
      "  filtrado_Data4=filtrado_Data4.append(filtrar4)\n",
      "/tmp/ipykernel_9904/3091215869.py:18: FutureWarning: The frame.append method is deprecated and will be removed from pandas in a future version. Use pandas.concat instead.\n",
      "  filtrado_Data5=filtrado_Data5.append(filtrar5)\n"
     ]
    },
    {
     "name": "stdout",
     "output_type": "stream",
     "text": [
      "              origen  destino  periodo distancia  viajes\n",
      "fecha                                                   \n",
      "2020-05-17     19024  2807919        4   010-050   8.242\n",
      "2020-05-17  19046_AM  2807919       19   010-050   9.549\n",
      "2020-05-17  19046_AM  2807919       22   010-050   6.557\n"
     ]
    },
    {
     "name": "stderr",
     "output_type": "stream",
     "text": [
      "/tmp/ipykernel_9904/3091215869.py:14: FutureWarning: The frame.append method is deprecated and will be removed from pandas in a future version. Use pandas.concat instead.\n",
      "  filtrado_Data=filtrado_Data.append(filtrar)\n",
      "/tmp/ipykernel_9904/3091215869.py:15: FutureWarning: The frame.append method is deprecated and will be removed from pandas in a future version. Use pandas.concat instead.\n",
      "  filtrado_Data2=filtrado_Data2.append(filtrar2)\n",
      "/tmp/ipykernel_9904/3091215869.py:16: FutureWarning: The frame.append method is deprecated and will be removed from pandas in a future version. Use pandas.concat instead.\n",
      "  filtrado_Data3=filtrado_Data3.append(filtrar3)\n",
      "/tmp/ipykernel_9904/3091215869.py:17: FutureWarning: The frame.append method is deprecated and will be removed from pandas in a future version. Use pandas.concat instead.\n",
      "  filtrado_Data4=filtrado_Data4.append(filtrar4)\n",
      "/tmp/ipykernel_9904/3091215869.py:18: FutureWarning: The frame.append method is deprecated and will be removed from pandas in a future version. Use pandas.concat instead.\n",
      "  filtrado_Data5=filtrado_Data5.append(filtrar5)\n"
     ]
    },
    {
     "name": "stdout",
     "output_type": "stream",
     "text": [
      "              origen  destino  periodo distancia  viajes\n",
      "fecha                                                   \n",
      "2020-05-17  19046_AM  2807920        4   010-050   9.549\n",
      "2020-05-17  19046_AM  2807920        7   010-050   9.549\n",
      "2020-05-17  19046_AM  2807920       12   010-050   9.549\n"
     ]
    },
    {
     "name": "stderr",
     "output_type": "stream",
     "text": [
      "/tmp/ipykernel_9904/3091215869.py:14: FutureWarning: The frame.append method is deprecated and will be removed from pandas in a future version. Use pandas.concat instead.\n",
      "  filtrado_Data=filtrado_Data.append(filtrar)\n",
      "/tmp/ipykernel_9904/3091215869.py:15: FutureWarning: The frame.append method is deprecated and will be removed from pandas in a future version. Use pandas.concat instead.\n",
      "  filtrado_Data2=filtrado_Data2.append(filtrar2)\n",
      "/tmp/ipykernel_9904/3091215869.py:16: FutureWarning: The frame.append method is deprecated and will be removed from pandas in a future version. Use pandas.concat instead.\n",
      "  filtrado_Data3=filtrado_Data3.append(filtrar3)\n",
      "/tmp/ipykernel_9904/3091215869.py:17: FutureWarning: The frame.append method is deprecated and will be removed from pandas in a future version. Use pandas.concat instead.\n",
      "  filtrado_Data4=filtrado_Data4.append(filtrar4)\n",
      "/tmp/ipykernel_9904/3091215869.py:18: FutureWarning: The frame.append method is deprecated and will be removed from pandas in a future version. Use pandas.concat instead.\n",
      "  filtrado_Data5=filtrado_Data5.append(filtrar5)\n"
     ]
    },
    {
     "name": "stdout",
     "output_type": "stream",
     "text": [
      "              origen  destino  periodo distancia  viajes\n",
      "fecha                                                   \n",
      "2020-05-17  19046_AM  2807921        6   010-050  15.925\n",
      "2020-05-17  19046_AM  2807921       11   010-050   9.549\n",
      "2020-05-17  19046_AM  2807921       13   010-050   9.549\n"
     ]
    },
    {
     "name": "stderr",
     "output_type": "stream",
     "text": [
      "/tmp/ipykernel_9904/3091215869.py:14: FutureWarning: The frame.append method is deprecated and will be removed from pandas in a future version. Use pandas.concat instead.\n",
      "  filtrado_Data=filtrado_Data.append(filtrar)\n",
      "/tmp/ipykernel_9904/3091215869.py:15: FutureWarning: The frame.append method is deprecated and will be removed from pandas in a future version. Use pandas.concat instead.\n",
      "  filtrado_Data2=filtrado_Data2.append(filtrar2)\n",
      "/tmp/ipykernel_9904/3091215869.py:16: FutureWarning: The frame.append method is deprecated and will be removed from pandas in a future version. Use pandas.concat instead.\n",
      "  filtrado_Data3=filtrado_Data3.append(filtrar3)\n",
      "/tmp/ipykernel_9904/3091215869.py:17: FutureWarning: The frame.append method is deprecated and will be removed from pandas in a future version. Use pandas.concat instead.\n",
      "  filtrado_Data4=filtrado_Data4.append(filtrar4)\n",
      "/tmp/ipykernel_9904/3091215869.py:18: FutureWarning: The frame.append method is deprecated and will be removed from pandas in a future version. Use pandas.concat instead.\n",
      "  filtrado_Data5=filtrado_Data5.append(filtrar5)\n"
     ]
    },
    {
     "name": "stdout",
     "output_type": "stream",
     "text": [
      "             origen  destino  periodo distancia  viajes\n",
      "fecha                                                  \n",
      "2020-05-17    28004  2808001        9   010-050   7.606\n",
      "2020-05-17    28004  2808001       17   010-050   7.606\n",
      "2020-05-17  2800504  2808001       22   010-050   6.099\n"
     ]
    },
    {
     "name": "stderr",
     "output_type": "stream",
     "text": [
      "/tmp/ipykernel_9904/3091215869.py:14: FutureWarning: The frame.append method is deprecated and will be removed from pandas in a future version. Use pandas.concat instead.\n",
      "  filtrado_Data=filtrado_Data.append(filtrar)\n",
      "/tmp/ipykernel_9904/3091215869.py:15: FutureWarning: The frame.append method is deprecated and will be removed from pandas in a future version. Use pandas.concat instead.\n",
      "  filtrado_Data2=filtrado_Data2.append(filtrar2)\n",
      "/tmp/ipykernel_9904/3091215869.py:16: FutureWarning: The frame.append method is deprecated and will be removed from pandas in a future version. Use pandas.concat instead.\n",
      "  filtrado_Data3=filtrado_Data3.append(filtrar3)\n",
      "/tmp/ipykernel_9904/3091215869.py:17: FutureWarning: The frame.append method is deprecated and will be removed from pandas in a future version. Use pandas.concat instead.\n",
      "  filtrado_Data4=filtrado_Data4.append(filtrar4)\n",
      "/tmp/ipykernel_9904/3091215869.py:18: FutureWarning: The frame.append method is deprecated and will be removed from pandas in a future version. Use pandas.concat instead.\n",
      "  filtrado_Data5=filtrado_Data5.append(filtrar5)\n"
     ]
    },
    {
     "name": "stdout",
     "output_type": "stream",
     "text": [
      "              origen  destino  periodo distancia  viajes\n",
      "fecha                                                   \n",
      "2020-05-17  19245_AM  2808002       11      100+   10.96\n",
      "2020-05-17     28004  2808002        7   010-050    7.63\n",
      "2020-05-17   2800503  2808002        9   010-050    6.88\n"
     ]
    },
    {
     "name": "stderr",
     "output_type": "stream",
     "text": [
      "/tmp/ipykernel_9904/3091215869.py:14: FutureWarning: The frame.append method is deprecated and will be removed from pandas in a future version. Use pandas.concat instead.\n",
      "  filtrado_Data=filtrado_Data.append(filtrar)\n",
      "/tmp/ipykernel_9904/3091215869.py:15: FutureWarning: The frame.append method is deprecated and will be removed from pandas in a future version. Use pandas.concat instead.\n",
      "  filtrado_Data2=filtrado_Data2.append(filtrar2)\n",
      "/tmp/ipykernel_9904/3091215869.py:16: FutureWarning: The frame.append method is deprecated and will be removed from pandas in a future version. Use pandas.concat instead.\n",
      "  filtrado_Data3=filtrado_Data3.append(filtrar3)\n",
      "/tmp/ipykernel_9904/3091215869.py:17: FutureWarning: The frame.append method is deprecated and will be removed from pandas in a future version. Use pandas.concat instead.\n",
      "  filtrado_Data4=filtrado_Data4.append(filtrar4)\n",
      "/tmp/ipykernel_9904/3091215869.py:18: FutureWarning: The frame.append method is deprecated and will be removed from pandas in a future version. Use pandas.concat instead.\n",
      "  filtrado_Data5=filtrado_Data5.append(filtrar5)\n"
     ]
    },
    {
     "name": "stdout",
     "output_type": "stream",
     "text": [
      "             origen destino  periodo distancia  viajes\n",
      "fecha                                                 \n",
      "2020-05-17  2800601   28082       15   010-050   8.604\n",
      "2020-05-17    28010   28082        6   010-050   6.574\n",
      "2020-05-17    28018   28082        0   010-050   7.622\n"
     ]
    },
    {
     "name": "stderr",
     "output_type": "stream",
     "text": [
      "/tmp/ipykernel_9904/3091215869.py:14: FutureWarning: The frame.append method is deprecated and will be removed from pandas in a future version. Use pandas.concat instead.\n",
      "  filtrado_Data=filtrado_Data.append(filtrar)\n",
      "/tmp/ipykernel_9904/3091215869.py:15: FutureWarning: The frame.append method is deprecated and will be removed from pandas in a future version. Use pandas.concat instead.\n",
      "  filtrado_Data2=filtrado_Data2.append(filtrar2)\n",
      "/tmp/ipykernel_9904/3091215869.py:16: FutureWarning: The frame.append method is deprecated and will be removed from pandas in a future version. Use pandas.concat instead.\n",
      "  filtrado_Data3=filtrado_Data3.append(filtrar3)\n",
      "/tmp/ipykernel_9904/3091215869.py:17: FutureWarning: The frame.append method is deprecated and will be removed from pandas in a future version. Use pandas.concat instead.\n",
      "  filtrado_Data4=filtrado_Data4.append(filtrar4)\n",
      "/tmp/ipykernel_9904/3091215869.py:18: FutureWarning: The frame.append method is deprecated and will be removed from pandas in a future version. Use pandas.concat instead.\n",
      "  filtrado_Data5=filtrado_Data5.append(filtrar5)\n"
     ]
    },
    {
     "name": "stdout",
     "output_type": "stream",
     "text": [
      "           origen destino  periodo distancia  viajes\n",
      "fecha                                               \n",
      "2020-05-17  19024   28083        8   005-010   8.242\n",
      "2020-05-17  19024   28083       15   005-010   8.242\n",
      "2020-05-17  19024   28083       17   002-005   8.242\n"
     ]
    },
    {
     "name": "stderr",
     "output_type": "stream",
     "text": [
      "/tmp/ipykernel_9904/3091215869.py:14: FutureWarning: The frame.append method is deprecated and will be removed from pandas in a future version. Use pandas.concat instead.\n",
      "  filtrado_Data=filtrado_Data.append(filtrar)\n",
      "/tmp/ipykernel_9904/3091215869.py:15: FutureWarning: The frame.append method is deprecated and will be removed from pandas in a future version. Use pandas.concat instead.\n",
      "  filtrado_Data2=filtrado_Data2.append(filtrar2)\n",
      "/tmp/ipykernel_9904/3091215869.py:16: FutureWarning: The frame.append method is deprecated and will be removed from pandas in a future version. Use pandas.concat instead.\n",
      "  filtrado_Data3=filtrado_Data3.append(filtrar3)\n",
      "/tmp/ipykernel_9904/3091215869.py:17: FutureWarning: The frame.append method is deprecated and will be removed from pandas in a future version. Use pandas.concat instead.\n",
      "  filtrado_Data4=filtrado_Data4.append(filtrar4)\n",
      "/tmp/ipykernel_9904/3091215869.py:18: FutureWarning: The frame.append method is deprecated and will be removed from pandas in a future version. Use pandas.concat instead.\n",
      "  filtrado_Data5=filtrado_Data5.append(filtrar5)\n"
     ]
    },
    {
     "name": "stdout",
     "output_type": "stream",
     "text": [
      "              origen destino  periodo distancia  viajes\n",
      "fecha                                                  \n",
      "2020-05-17  19046_AM   28084        2   010-050   9.549\n",
      "2020-05-17  19046_AM   28084       12   010-050   5.275\n",
      "2020-05-17  19046_AM   28084       16   010-050   5.275\n"
     ]
    },
    {
     "name": "stderr",
     "output_type": "stream",
     "text": [
      "/tmp/ipykernel_9904/3091215869.py:14: FutureWarning: The frame.append method is deprecated and will be removed from pandas in a future version. Use pandas.concat instead.\n",
      "  filtrado_Data=filtrado_Data.append(filtrar)\n",
      "/tmp/ipykernel_9904/3091215869.py:15: FutureWarning: The frame.append method is deprecated and will be removed from pandas in a future version. Use pandas.concat instead.\n",
      "  filtrado_Data2=filtrado_Data2.append(filtrar2)\n",
      "/tmp/ipykernel_9904/3091215869.py:16: FutureWarning: The frame.append method is deprecated and will be removed from pandas in a future version. Use pandas.concat instead.\n",
      "  filtrado_Data3=filtrado_Data3.append(filtrar3)\n",
      "/tmp/ipykernel_9904/3091215869.py:17: FutureWarning: The frame.append method is deprecated and will be removed from pandas in a future version. Use pandas.concat instead.\n",
      "  filtrado_Data4=filtrado_Data4.append(filtrar4)\n",
      "/tmp/ipykernel_9904/3091215869.py:18: FutureWarning: The frame.append method is deprecated and will be removed from pandas in a future version. Use pandas.concat instead.\n",
      "  filtrado_Data5=filtrado_Data5.append(filtrar5)\n"
     ]
    },
    {
     "name": "stdout",
     "output_type": "stream",
     "text": [
      "              origen   destino  periodo distancia  viajes\n",
      "fecha                                                    \n",
      "2020-05-17  19071_AM  28085_AM        8   010-050  10.134\n",
      "2020-05-17  19071_AM  28085_AM        9   010-050   9.396\n",
      "2020-05-17  19071_AM  28085_AM       10   010-050   9.396\n"
     ]
    },
    {
     "name": "stderr",
     "output_type": "stream",
     "text": [
      "/tmp/ipykernel_9904/3091215869.py:14: FutureWarning: The frame.append method is deprecated and will be removed from pandas in a future version. Use pandas.concat instead.\n",
      "  filtrado_Data=filtrado_Data.append(filtrar)\n",
      "/tmp/ipykernel_9904/3091215869.py:15: FutureWarning: The frame.append method is deprecated and will be removed from pandas in a future version. Use pandas.concat instead.\n",
      "  filtrado_Data2=filtrado_Data2.append(filtrar2)\n",
      "/tmp/ipykernel_9904/3091215869.py:16: FutureWarning: The frame.append method is deprecated and will be removed from pandas in a future version. Use pandas.concat instead.\n",
      "  filtrado_Data3=filtrado_Data3.append(filtrar3)\n",
      "/tmp/ipykernel_9904/3091215869.py:17: FutureWarning: The frame.append method is deprecated and will be removed from pandas in a future version. Use pandas.concat instead.\n",
      "  filtrado_Data4=filtrado_Data4.append(filtrar4)\n",
      "/tmp/ipykernel_9904/3091215869.py:18: FutureWarning: The frame.append method is deprecated and will be removed from pandas in a future version. Use pandas.concat instead.\n",
      "  filtrado_Data5=filtrado_Data5.append(filtrar5)\n"
     ]
    },
    {
     "name": "stdout",
     "output_type": "stream",
     "text": [
      "              origen destino  periodo distancia  viajes\n",
      "fecha                                                  \n",
      "2020-05-17  19071_AM   28086        0   010-050   9.396\n",
      "2020-05-17  19071_AM   28086        3   010-050   9.396\n",
      "2020-05-17  19071_AM   28086        5   010-050   9.396\n"
     ]
    },
    {
     "name": "stderr",
     "output_type": "stream",
     "text": [
      "/tmp/ipykernel_9904/3091215869.py:14: FutureWarning: The frame.append method is deprecated and will be removed from pandas in a future version. Use pandas.concat instead.\n",
      "  filtrado_Data=filtrado_Data.append(filtrar)\n",
      "/tmp/ipykernel_9904/3091215869.py:15: FutureWarning: The frame.append method is deprecated and will be removed from pandas in a future version. Use pandas.concat instead.\n",
      "  filtrado_Data2=filtrado_Data2.append(filtrar2)\n",
      "/tmp/ipykernel_9904/3091215869.py:16: FutureWarning: The frame.append method is deprecated and will be removed from pandas in a future version. Use pandas.concat instead.\n",
      "  filtrado_Data3=filtrado_Data3.append(filtrar3)\n",
      "/tmp/ipykernel_9904/3091215869.py:17: FutureWarning: The frame.append method is deprecated and will be removed from pandas in a future version. Use pandas.concat instead.\n",
      "  filtrado_Data4=filtrado_Data4.append(filtrar4)\n",
      "/tmp/ipykernel_9904/3091215869.py:18: FutureWarning: The frame.append method is deprecated and will be removed from pandas in a future version. Use pandas.concat instead.\n",
      "  filtrado_Data5=filtrado_Data5.append(filtrar5)\n"
     ]
    },
    {
     "name": "stdout",
     "output_type": "stream",
     "text": [
      "             origen destino  periodo distancia  viajes\n",
      "fecha                                                 \n",
      "2020-05-17  2800601   28087       21   010-050  13.838\n",
      "2020-05-17    28010   28087        2   005-010  10.319\n",
      "2020-05-17    28010   28087        6   005-010  10.319\n"
     ]
    },
    {
     "name": "stderr",
     "output_type": "stream",
     "text": [
      "/tmp/ipykernel_9904/3091215869.py:14: FutureWarning: The frame.append method is deprecated and will be removed from pandas in a future version. Use pandas.concat instead.\n",
      "  filtrado_Data=filtrado_Data.append(filtrar)\n",
      "/tmp/ipykernel_9904/3091215869.py:15: FutureWarning: The frame.append method is deprecated and will be removed from pandas in a future version. Use pandas.concat instead.\n",
      "  filtrado_Data2=filtrado_Data2.append(filtrar2)\n",
      "/tmp/ipykernel_9904/3091215869.py:16: FutureWarning: The frame.append method is deprecated and will be removed from pandas in a future version. Use pandas.concat instead.\n",
      "  filtrado_Data3=filtrado_Data3.append(filtrar3)\n",
      "/tmp/ipykernel_9904/3091215869.py:17: FutureWarning: The frame.append method is deprecated and will be removed from pandas in a future version. Use pandas.concat instead.\n",
      "  filtrado_Data4=filtrado_Data4.append(filtrar4)\n",
      "/tmp/ipykernel_9904/3091215869.py:18: FutureWarning: The frame.append method is deprecated and will be removed from pandas in a future version. Use pandas.concat instead.\n",
      "  filtrado_Data5=filtrado_Data5.append(filtrar5)\n"
     ]
    },
    {
     "name": "stdout",
     "output_type": "stream",
     "text": [
      "           origen destino  periodo distancia  viajes\n",
      "fecha                                               \n",
      "2020-05-17  28004   28089       10   010-050  10.021\n",
      "2020-05-17  28004   28089        0   010-050   2.087\n",
      "2020-05-17  28004   28089       15   010-050   2.087\n"
     ]
    },
    {
     "name": "stderr",
     "output_type": "stream",
     "text": [
      "/tmp/ipykernel_9904/3091215869.py:14: FutureWarning: The frame.append method is deprecated and will be removed from pandas in a future version. Use pandas.concat instead.\n",
      "  filtrado_Data=filtrado_Data.append(filtrar)\n",
      "/tmp/ipykernel_9904/3091215869.py:15: FutureWarning: The frame.append method is deprecated and will be removed from pandas in a future version. Use pandas.concat instead.\n",
      "  filtrado_Data2=filtrado_Data2.append(filtrar2)\n",
      "/tmp/ipykernel_9904/3091215869.py:16: FutureWarning: The frame.append method is deprecated and will be removed from pandas in a future version. Use pandas.concat instead.\n",
      "  filtrado_Data3=filtrado_Data3.append(filtrar3)\n",
      "/tmp/ipykernel_9904/3091215869.py:17: FutureWarning: The frame.append method is deprecated and will be removed from pandas in a future version. Use pandas.concat instead.\n",
      "  filtrado_Data4=filtrado_Data4.append(filtrar4)\n",
      "/tmp/ipykernel_9904/3091215869.py:18: FutureWarning: The frame.append method is deprecated and will be removed from pandas in a future version. Use pandas.concat instead.\n",
      "  filtrado_Data5=filtrado_Data5.append(filtrar5)\n"
     ]
    },
    {
     "name": "stdout",
     "output_type": "stream",
     "text": [
      "             origen destino  periodo distancia  viajes\n",
      "fecha                                                 \n",
      "2020-05-17  2800504   28090        6   050-100   5.664\n",
      "2020-05-17  2800601   28090       10   010-050   6.813\n",
      "2020-05-17  2800601   28090       17   010-050   5.664\n"
     ]
    },
    {
     "name": "stderr",
     "output_type": "stream",
     "text": [
      "/tmp/ipykernel_9904/3091215869.py:14: FutureWarning: The frame.append method is deprecated and will be removed from pandas in a future version. Use pandas.concat instead.\n",
      "  filtrado_Data=filtrado_Data.append(filtrar)\n",
      "/tmp/ipykernel_9904/3091215869.py:15: FutureWarning: The frame.append method is deprecated and will be removed from pandas in a future version. Use pandas.concat instead.\n",
      "  filtrado_Data2=filtrado_Data2.append(filtrar2)\n",
      "/tmp/ipykernel_9904/3091215869.py:16: FutureWarning: The frame.append method is deprecated and will be removed from pandas in a future version. Use pandas.concat instead.\n",
      "  filtrado_Data3=filtrado_Data3.append(filtrar3)\n",
      "/tmp/ipykernel_9904/3091215869.py:17: FutureWarning: The frame.append method is deprecated and will be removed from pandas in a future version. Use pandas.concat instead.\n",
      "  filtrado_Data4=filtrado_Data4.append(filtrar4)\n",
      "/tmp/ipykernel_9904/3091215869.py:18: FutureWarning: The frame.append method is deprecated and will be removed from pandas in a future version. Use pandas.concat instead.\n",
      "  filtrado_Data5=filtrado_Data5.append(filtrar5)\n"
     ]
    },
    {
     "name": "stdout",
     "output_type": "stream",
     "text": [
      "              origen destino  periodo distancia  viajes\n",
      "fecha                                                  \n",
      "2020-05-17   1913001   28091        5   050-100   8.913\n",
      "2020-05-17  19192_AM   28091       13   010-050   9.960\n",
      "2020-05-17  19192_AM   28091       18   010-050   9.960\n"
     ]
    },
    {
     "name": "stderr",
     "output_type": "stream",
     "text": [
      "/tmp/ipykernel_9904/3091215869.py:14: FutureWarning: The frame.append method is deprecated and will be removed from pandas in a future version. Use pandas.concat instead.\n",
      "  filtrado_Data=filtrado_Data.append(filtrar)\n",
      "/tmp/ipykernel_9904/3091215869.py:15: FutureWarning: The frame.append method is deprecated and will be removed from pandas in a future version. Use pandas.concat instead.\n",
      "  filtrado_Data2=filtrado_Data2.append(filtrar2)\n",
      "/tmp/ipykernel_9904/3091215869.py:16: FutureWarning: The frame.append method is deprecated and will be removed from pandas in a future version. Use pandas.concat instead.\n",
      "  filtrado_Data3=filtrado_Data3.append(filtrar3)\n",
      "/tmp/ipykernel_9904/3091215869.py:17: FutureWarning: The frame.append method is deprecated and will be removed from pandas in a future version. Use pandas.concat instead.\n",
      "  filtrado_Data4=filtrado_Data4.append(filtrar4)\n",
      "/tmp/ipykernel_9904/3091215869.py:18: FutureWarning: The frame.append method is deprecated and will be removed from pandas in a future version. Use pandas.concat instead.\n",
      "  filtrado_Data5=filtrado_Data5.append(filtrar5)\n"
     ]
    },
    {
     "name": "stdout",
     "output_type": "stream",
     "text": [
      "           origen  destino  periodo distancia  viajes\n",
      "fecha                                                \n",
      "2020-05-17  28004  2809201        6   005-010  10.021\n",
      "2020-05-17  28004  2809201       10   005-010  10.021\n",
      "2020-05-17  28004  2809201       11   010-050  10.021\n"
     ]
    },
    {
     "name": "stderr",
     "output_type": "stream",
     "text": [
      "/tmp/ipykernel_9904/3091215869.py:14: FutureWarning: The frame.append method is deprecated and will be removed from pandas in a future version. Use pandas.concat instead.\n",
      "  filtrado_Data=filtrado_Data.append(filtrar)\n",
      "/tmp/ipykernel_9904/3091215869.py:15: FutureWarning: The frame.append method is deprecated and will be removed from pandas in a future version. Use pandas.concat instead.\n",
      "  filtrado_Data2=filtrado_Data2.append(filtrar2)\n",
      "/tmp/ipykernel_9904/3091215869.py:16: FutureWarning: The frame.append method is deprecated and will be removed from pandas in a future version. Use pandas.concat instead.\n",
      "  filtrado_Data3=filtrado_Data3.append(filtrar3)\n",
      "/tmp/ipykernel_9904/3091215869.py:17: FutureWarning: The frame.append method is deprecated and will be removed from pandas in a future version. Use pandas.concat instead.\n",
      "  filtrado_Data4=filtrado_Data4.append(filtrar4)\n",
      "/tmp/ipykernel_9904/3091215869.py:18: FutureWarning: The frame.append method is deprecated and will be removed from pandas in a future version. Use pandas.concat instead.\n",
      "  filtrado_Data5=filtrado_Data5.append(filtrar5)\n"
     ]
    },
    {
     "name": "stdout",
     "output_type": "stream",
     "text": [
      "              origen  destino  periodo distancia  viajes\n",
      "fecha                                                   \n",
      "2020-05-17  19046_AM  2809202       21   050-100   8.407\n",
      "2020-05-17  19046_AM  2809202       19   050-100  12.987\n",
      "2020-05-17     28004  2809202        8   010-050  10.021\n"
     ]
    },
    {
     "name": "stderr",
     "output_type": "stream",
     "text": [
      "/tmp/ipykernel_9904/3091215869.py:14: FutureWarning: The frame.append method is deprecated and will be removed from pandas in a future version. Use pandas.concat instead.\n",
      "  filtrado_Data=filtrado_Data.append(filtrar)\n",
      "/tmp/ipykernel_9904/3091215869.py:15: FutureWarning: The frame.append method is deprecated and will be removed from pandas in a future version. Use pandas.concat instead.\n",
      "  filtrado_Data2=filtrado_Data2.append(filtrar2)\n",
      "/tmp/ipykernel_9904/3091215869.py:16: FutureWarning: The frame.append method is deprecated and will be removed from pandas in a future version. Use pandas.concat instead.\n",
      "  filtrado_Data3=filtrado_Data3.append(filtrar3)\n",
      "/tmp/ipykernel_9904/3091215869.py:17: FutureWarning: The frame.append method is deprecated and will be removed from pandas in a future version. Use pandas.concat instead.\n",
      "  filtrado_Data4=filtrado_Data4.append(filtrar4)\n",
      "/tmp/ipykernel_9904/3091215869.py:18: FutureWarning: The frame.append method is deprecated and will be removed from pandas in a future version. Use pandas.concat instead.\n",
      "  filtrado_Data5=filtrado_Data5.append(filtrar5)\n"
     ]
    },
    {
     "name": "stdout",
     "output_type": "stream",
     "text": [
      "             origen  destino  periodo distancia  viajes\n",
      "fecha                                                  \n",
      "2020-05-17    28004  2809203       15   010-050   9.964\n",
      "2020-05-17  2800501  2809203        5   010-050   7.009\n",
      "2020-05-17  2800502  2809203        8   010-050   5.717\n"
     ]
    },
    {
     "name": "stderr",
     "output_type": "stream",
     "text": [
      "/tmp/ipykernel_9904/3091215869.py:14: FutureWarning: The frame.append method is deprecated and will be removed from pandas in a future version. Use pandas.concat instead.\n",
      "  filtrado_Data=filtrado_Data.append(filtrar)\n",
      "/tmp/ipykernel_9904/3091215869.py:15: FutureWarning: The frame.append method is deprecated and will be removed from pandas in a future version. Use pandas.concat instead.\n",
      "  filtrado_Data2=filtrado_Data2.append(filtrar2)\n",
      "/tmp/ipykernel_9904/3091215869.py:16: FutureWarning: The frame.append method is deprecated and will be removed from pandas in a future version. Use pandas.concat instead.\n",
      "  filtrado_Data3=filtrado_Data3.append(filtrar3)\n",
      "/tmp/ipykernel_9904/3091215869.py:17: FutureWarning: The frame.append method is deprecated and will be removed from pandas in a future version. Use pandas.concat instead.\n",
      "  filtrado_Data4=filtrado_Data4.append(filtrar4)\n",
      "/tmp/ipykernel_9904/3091215869.py:18: FutureWarning: The frame.append method is deprecated and will be removed from pandas in a future version. Use pandas.concat instead.\n",
      "  filtrado_Data5=filtrado_Data5.append(filtrar5)\n"
     ]
    },
    {
     "name": "stdout",
     "output_type": "stream",
     "text": [
      "             origen  destino  periodo distancia  viajes\n",
      "fecha                                                  \n",
      "2020-05-17  1913001  2809204       16   050-100   7.419\n",
      "2020-05-17    28004  2809204        5   010-050  10.021\n",
      "2020-05-17    28004  2809204        7   010-050  10.021\n"
     ]
    },
    {
     "name": "stderr",
     "output_type": "stream",
     "text": [
      "/tmp/ipykernel_9904/3091215869.py:14: FutureWarning: The frame.append method is deprecated and will be removed from pandas in a future version. Use pandas.concat instead.\n",
      "  filtrado_Data=filtrado_Data.append(filtrar)\n",
      "/tmp/ipykernel_9904/3091215869.py:15: FutureWarning: The frame.append method is deprecated and will be removed from pandas in a future version. Use pandas.concat instead.\n",
      "  filtrado_Data2=filtrado_Data2.append(filtrar2)\n",
      "/tmp/ipykernel_9904/3091215869.py:16: FutureWarning: The frame.append method is deprecated and will be removed from pandas in a future version. Use pandas.concat instead.\n",
      "  filtrado_Data3=filtrado_Data3.append(filtrar3)\n",
      "/tmp/ipykernel_9904/3091215869.py:17: FutureWarning: The frame.append method is deprecated and will be removed from pandas in a future version. Use pandas.concat instead.\n",
      "  filtrado_Data4=filtrado_Data4.append(filtrar4)\n",
      "/tmp/ipykernel_9904/3091215869.py:18: FutureWarning: The frame.append method is deprecated and will be removed from pandas in a future version. Use pandas.concat instead.\n",
      "  filtrado_Data5=filtrado_Data5.append(filtrar5)\n"
     ]
    },
    {
     "name": "stdout",
     "output_type": "stream",
     "text": [
      "             origen   destino  periodo distancia  viajes\n",
      "fecha                                                   \n",
      "2020-05-17  2800701  28095_AM       19   010-050   5.823\n",
      "2020-05-17  2800701  28095_AM       18   010-050   5.725\n",
      "2020-05-17  2800704  28095_AM        1   010-050  10.906\n"
     ]
    },
    {
     "name": "stderr",
     "output_type": "stream",
     "text": [
      "/tmp/ipykernel_9904/3091215869.py:14: FutureWarning: The frame.append method is deprecated and will be removed from pandas in a future version. Use pandas.concat instead.\n",
      "  filtrado_Data=filtrado_Data.append(filtrar)\n",
      "/tmp/ipykernel_9904/3091215869.py:15: FutureWarning: The frame.append method is deprecated and will be removed from pandas in a future version. Use pandas.concat instead.\n",
      "  filtrado_Data2=filtrado_Data2.append(filtrar2)\n",
      "/tmp/ipykernel_9904/3091215869.py:16: FutureWarning: The frame.append method is deprecated and will be removed from pandas in a future version. Use pandas.concat instead.\n",
      "  filtrado_Data3=filtrado_Data3.append(filtrar3)\n",
      "/tmp/ipykernel_9904/3091215869.py:17: FutureWarning: The frame.append method is deprecated and will be removed from pandas in a future version. Use pandas.concat instead.\n",
      "  filtrado_Data4=filtrado_Data4.append(filtrar4)\n",
      "/tmp/ipykernel_9904/3091215869.py:18: FutureWarning: The frame.append method is deprecated and will be removed from pandas in a future version. Use pandas.concat instead.\n",
      "  filtrado_Data5=filtrado_Data5.append(filtrar5)\n"
     ]
    },
    {
     "name": "stdout",
     "output_type": "stream",
     "text": [
      "              origen destino  periodo distancia  viajes\n",
      "fecha                                                  \n",
      "2020-05-17  19071_AM   28096       10   050-100   6.037\n",
      "2020-05-17   1913001   28096       14   050-100   4.954\n",
      "2020-05-17     28002   28096        6   010-050   4.596\n"
     ]
    },
    {
     "name": "stderr",
     "output_type": "stream",
     "text": [
      "/tmp/ipykernel_9904/3091215869.py:14: FutureWarning: The frame.append method is deprecated and will be removed from pandas in a future version. Use pandas.concat instead.\n",
      "  filtrado_Data=filtrado_Data.append(filtrar)\n",
      "/tmp/ipykernel_9904/3091215869.py:15: FutureWarning: The frame.append method is deprecated and will be removed from pandas in a future version. Use pandas.concat instead.\n",
      "  filtrado_Data2=filtrado_Data2.append(filtrar2)\n",
      "/tmp/ipykernel_9904/3091215869.py:16: FutureWarning: The frame.append method is deprecated and will be removed from pandas in a future version. Use pandas.concat instead.\n",
      "  filtrado_Data3=filtrado_Data3.append(filtrar3)\n",
      "/tmp/ipykernel_9904/3091215869.py:17: FutureWarning: The frame.append method is deprecated and will be removed from pandas in a future version. Use pandas.concat instead.\n",
      "  filtrado_Data4=filtrado_Data4.append(filtrar4)\n",
      "/tmp/ipykernel_9904/3091215869.py:18: FutureWarning: The frame.append method is deprecated and will be removed from pandas in a future version. Use pandas.concat instead.\n",
      "  filtrado_Data5=filtrado_Data5.append(filtrar5)\n"
     ]
    },
    {
     "name": "stdout",
     "output_type": "stream",
     "text": [
      "             origen   destino  periodo distancia  viajes\n",
      "fecha                                                   \n",
      "2020-05-17  2800701  28099_AM        9   010-050   5.823\n",
      "2020-05-17  2800701  28099_AM        9   010-050   5.183\n",
      "2020-05-17  2800703  28099_AM        7   010-050   6.411\n"
     ]
    },
    {
     "name": "stderr",
     "output_type": "stream",
     "text": [
      "/tmp/ipykernel_9904/3091215869.py:14: FutureWarning: The frame.append method is deprecated and will be removed from pandas in a future version. Use pandas.concat instead.\n",
      "  filtrado_Data=filtrado_Data.append(filtrar)\n",
      "/tmp/ipykernel_9904/3091215869.py:15: FutureWarning: The frame.append method is deprecated and will be removed from pandas in a future version. Use pandas.concat instead.\n",
      "  filtrado_Data2=filtrado_Data2.append(filtrar2)\n",
      "/tmp/ipykernel_9904/3091215869.py:16: FutureWarning: The frame.append method is deprecated and will be removed from pandas in a future version. Use pandas.concat instead.\n",
      "  filtrado_Data3=filtrado_Data3.append(filtrar3)\n",
      "/tmp/ipykernel_9904/3091215869.py:17: FutureWarning: The frame.append method is deprecated and will be removed from pandas in a future version. Use pandas.concat instead.\n",
      "  filtrado_Data4=filtrado_Data4.append(filtrar4)\n",
      "/tmp/ipykernel_9904/3091215869.py:18: FutureWarning: The frame.append method is deprecated and will be removed from pandas in a future version. Use pandas.concat instead.\n",
      "  filtrado_Data5=filtrado_Data5.append(filtrar5)\n"
     ]
    },
    {
     "name": "stdout",
     "output_type": "stream",
     "text": [
      "              origen destino  periodo distancia  viajes\n",
      "fecha                                                  \n",
      "2020-05-17  19046_AM   28100       17   010-050   7.870\n",
      "2020-05-17  19046_AM   28100        0   010-050   6.490\n",
      "2020-05-17  19046_AM   28100        8   010-050   6.284\n"
     ]
    },
    {
     "name": "stderr",
     "output_type": "stream",
     "text": [
      "/tmp/ipykernel_9904/3091215869.py:14: FutureWarning: The frame.append method is deprecated and will be removed from pandas in a future version. Use pandas.concat instead.\n",
      "  filtrado_Data=filtrado_Data.append(filtrar)\n",
      "/tmp/ipykernel_9904/3091215869.py:15: FutureWarning: The frame.append method is deprecated and will be removed from pandas in a future version. Use pandas.concat instead.\n",
      "  filtrado_Data2=filtrado_Data2.append(filtrar2)\n",
      "/tmp/ipykernel_9904/3091215869.py:16: FutureWarning: The frame.append method is deprecated and will be removed from pandas in a future version. Use pandas.concat instead.\n",
      "  filtrado_Data3=filtrado_Data3.append(filtrar3)\n",
      "/tmp/ipykernel_9904/3091215869.py:17: FutureWarning: The frame.append method is deprecated and will be removed from pandas in a future version. Use pandas.concat instead.\n",
      "  filtrado_Data4=filtrado_Data4.append(filtrar4)\n",
      "/tmp/ipykernel_9904/3091215869.py:18: FutureWarning: The frame.append method is deprecated and will be removed from pandas in a future version. Use pandas.concat instead.\n",
      "  filtrado_Data5=filtrado_Data5.append(filtrar5)\n"
     ]
    },
    {
     "name": "stdout",
     "output_type": "stream",
     "text": [
      "              origen destino  periodo distancia  viajes\n",
      "fecha                                                  \n",
      "2020-05-17     19024   28104        7   010-050   8.242\n",
      "2020-05-17     19024   28104       14   010-050   5.856\n",
      "2020-05-17  19046_AM   28104       21   010-050   5.691\n"
     ]
    },
    {
     "name": "stderr",
     "output_type": "stream",
     "text": [
      "/tmp/ipykernel_9904/3091215869.py:14: FutureWarning: The frame.append method is deprecated and will be removed from pandas in a future version. Use pandas.concat instead.\n",
      "  filtrado_Data=filtrado_Data.append(filtrar)\n",
      "/tmp/ipykernel_9904/3091215869.py:15: FutureWarning: The frame.append method is deprecated and will be removed from pandas in a future version. Use pandas.concat instead.\n",
      "  filtrado_Data2=filtrado_Data2.append(filtrar2)\n",
      "/tmp/ipykernel_9904/3091215869.py:16: FutureWarning: The frame.append method is deprecated and will be removed from pandas in a future version. Use pandas.concat instead.\n",
      "  filtrado_Data3=filtrado_Data3.append(filtrar3)\n",
      "/tmp/ipykernel_9904/3091215869.py:17: FutureWarning: The frame.append method is deprecated and will be removed from pandas in a future version. Use pandas.concat instead.\n",
      "  filtrado_Data4=filtrado_Data4.append(filtrar4)\n",
      "/tmp/ipykernel_9904/3091215869.py:18: FutureWarning: The frame.append method is deprecated and will be removed from pandas in a future version. Use pandas.concat instead.\n",
      "  filtrado_Data5=filtrado_Data5.append(filtrar5)\n"
     ]
    },
    {
     "name": "stdout",
     "output_type": "stream",
     "text": [
      "              origen  destino  periodo distancia  viajes\n",
      "fecha                                                   \n",
      "2020-05-17  19046_AM  2810601        5   050-100   9.549\n",
      "2020-05-17  19046_AM  2810601       15   050-100   9.549\n",
      "2020-05-17  19046_AM  2810601       18   050-100   9.180\n"
     ]
    },
    {
     "name": "stderr",
     "output_type": "stream",
     "text": [
      "/tmp/ipykernel_9904/3091215869.py:14: FutureWarning: The frame.append method is deprecated and will be removed from pandas in a future version. Use pandas.concat instead.\n",
      "  filtrado_Data=filtrado_Data.append(filtrar)\n",
      "/tmp/ipykernel_9904/3091215869.py:15: FutureWarning: The frame.append method is deprecated and will be removed from pandas in a future version. Use pandas.concat instead.\n",
      "  filtrado_Data2=filtrado_Data2.append(filtrar2)\n",
      "/tmp/ipykernel_9904/3091215869.py:16: FutureWarning: The frame.append method is deprecated and will be removed from pandas in a future version. Use pandas.concat instead.\n",
      "  filtrado_Data3=filtrado_Data3.append(filtrar3)\n",
      "/tmp/ipykernel_9904/3091215869.py:17: FutureWarning: The frame.append method is deprecated and will be removed from pandas in a future version. Use pandas.concat instead.\n",
      "  filtrado_Data4=filtrado_Data4.append(filtrar4)\n",
      "/tmp/ipykernel_9904/3091215869.py:18: FutureWarning: The frame.append method is deprecated and will be removed from pandas in a future version. Use pandas.concat instead.\n",
      "  filtrado_Data5=filtrado_Data5.append(filtrar5)\n"
     ]
    },
    {
     "name": "stdout",
     "output_type": "stream",
     "text": [
      "              origen destino  periodo distancia  viajes\n",
      "fecha                                                  \n",
      "2020-05-17  19071_AM   28108        8   010-050   9.396\n",
      "2020-05-17  19071_AM   28108       11   010-050   9.396\n",
      "2020-05-17  19071_AM   28108       14   010-050   9.396\n"
     ]
    },
    {
     "name": "stderr",
     "output_type": "stream",
     "text": [
      "/tmp/ipykernel_9904/3091215869.py:14: FutureWarning: The frame.append method is deprecated and will be removed from pandas in a future version. Use pandas.concat instead.\n",
      "  filtrado_Data=filtrado_Data.append(filtrar)\n",
      "/tmp/ipykernel_9904/3091215869.py:15: FutureWarning: The frame.append method is deprecated and will be removed from pandas in a future version. Use pandas.concat instead.\n",
      "  filtrado_Data2=filtrado_Data2.append(filtrar2)\n",
      "/tmp/ipykernel_9904/3091215869.py:16: FutureWarning: The frame.append method is deprecated and will be removed from pandas in a future version. Use pandas.concat instead.\n",
      "  filtrado_Data3=filtrado_Data3.append(filtrar3)\n",
      "/tmp/ipykernel_9904/3091215869.py:17: FutureWarning: The frame.append method is deprecated and will be removed from pandas in a future version. Use pandas.concat instead.\n",
      "  filtrado_Data4=filtrado_Data4.append(filtrar4)\n",
      "/tmp/ipykernel_9904/3091215869.py:18: FutureWarning: The frame.append method is deprecated and will be removed from pandas in a future version. Use pandas.concat instead.\n",
      "  filtrado_Data5=filtrado_Data5.append(filtrar5)\n"
     ]
    },
    {
     "name": "stdout",
     "output_type": "stream",
     "text": [
      "              origen   destino  periodo distancia  viajes\n",
      "fecha                                                    \n",
      "2020-05-17   1913003  28110_AM       11   010-050  11.154\n",
      "2020-05-17  19160_AM  28110_AM       14   010-050  11.154\n",
      "2020-05-17  19192_AM  28110_AM        6   010-050  17.632\n"
     ]
    },
    {
     "name": "stderr",
     "output_type": "stream",
     "text": [
      "/tmp/ipykernel_9904/3091215869.py:14: FutureWarning: The frame.append method is deprecated and will be removed from pandas in a future version. Use pandas.concat instead.\n",
      "  filtrado_Data=filtrado_Data.append(filtrar)\n",
      "/tmp/ipykernel_9904/3091215869.py:15: FutureWarning: The frame.append method is deprecated and will be removed from pandas in a future version. Use pandas.concat instead.\n",
      "  filtrado_Data2=filtrado_Data2.append(filtrar2)\n",
      "/tmp/ipykernel_9904/3091215869.py:16: FutureWarning: The frame.append method is deprecated and will be removed from pandas in a future version. Use pandas.concat instead.\n",
      "  filtrado_Data3=filtrado_Data3.append(filtrar3)\n",
      "/tmp/ipykernel_9904/3091215869.py:17: FutureWarning: The frame.append method is deprecated and will be removed from pandas in a future version. Use pandas.concat instead.\n",
      "  filtrado_Data4=filtrado_Data4.append(filtrar4)\n",
      "/tmp/ipykernel_9904/3091215869.py:18: FutureWarning: The frame.append method is deprecated and will be removed from pandas in a future version. Use pandas.concat instead.\n",
      "  filtrado_Data5=filtrado_Data5.append(filtrar5)\n"
     ]
    },
    {
     "name": "stdout",
     "output_type": "stream",
     "text": [
      "              origen  destino  periodo distancia  viajes\n",
      "fecha                                                   \n",
      "2020-05-17  19058_AM  2811301        9   050-100   6.616\n",
      "2020-05-17   2800505  2811301       21   010-050   6.466\n",
      "2020-05-17   2800601  2811301       23   010-050   6.466\n"
     ]
    },
    {
     "name": "stderr",
     "output_type": "stream",
     "text": [
      "/tmp/ipykernel_9904/3091215869.py:14: FutureWarning: The frame.append method is deprecated and will be removed from pandas in a future version. Use pandas.concat instead.\n",
      "  filtrado_Data=filtrado_Data.append(filtrar)\n",
      "/tmp/ipykernel_9904/3091215869.py:15: FutureWarning: The frame.append method is deprecated and will be removed from pandas in a future version. Use pandas.concat instead.\n",
      "  filtrado_Data2=filtrado_Data2.append(filtrar2)\n",
      "/tmp/ipykernel_9904/3091215869.py:16: FutureWarning: The frame.append method is deprecated and will be removed from pandas in a future version. Use pandas.concat instead.\n",
      "  filtrado_Data3=filtrado_Data3.append(filtrar3)\n",
      "/tmp/ipykernel_9904/3091215869.py:17: FutureWarning: The frame.append method is deprecated and will be removed from pandas in a future version. Use pandas.concat instead.\n",
      "  filtrado_Data4=filtrado_Data4.append(filtrar4)\n",
      "/tmp/ipykernel_9904/3091215869.py:18: FutureWarning: The frame.append method is deprecated and will be removed from pandas in a future version. Use pandas.concat instead.\n",
      "  filtrado_Data5=filtrado_Data5.append(filtrar5)\n"
     ]
    },
    {
     "name": "stdout",
     "output_type": "stream",
     "text": [
      "             origen  destino  periodo distancia  viajes\n",
      "fecha                                                  \n",
      "2020-05-17    28004  2811302       21   010-050   4.991\n",
      "2020-05-17  2800501  2811302        5   010-050   7.009\n",
      "2020-05-17  2800502  2811302       19   010-050   4.991\n"
     ]
    },
    {
     "name": "stderr",
     "output_type": "stream",
     "text": [
      "/tmp/ipykernel_9904/3091215869.py:14: FutureWarning: The frame.append method is deprecated and will be removed from pandas in a future version. Use pandas.concat instead.\n",
      "  filtrado_Data=filtrado_Data.append(filtrar)\n",
      "/tmp/ipykernel_9904/3091215869.py:15: FutureWarning: The frame.append method is deprecated and will be removed from pandas in a future version. Use pandas.concat instead.\n",
      "  filtrado_Data2=filtrado_Data2.append(filtrar2)\n",
      "/tmp/ipykernel_9904/3091215869.py:16: FutureWarning: The frame.append method is deprecated and will be removed from pandas in a future version. Use pandas.concat instead.\n",
      "  filtrado_Data3=filtrado_Data3.append(filtrar3)\n",
      "/tmp/ipykernel_9904/3091215869.py:17: FutureWarning: The frame.append method is deprecated and will be removed from pandas in a future version. Use pandas.concat instead.\n",
      "  filtrado_Data4=filtrado_Data4.append(filtrar4)\n",
      "/tmp/ipykernel_9904/3091215869.py:18: FutureWarning: The frame.append method is deprecated and will be removed from pandas in a future version. Use pandas.concat instead.\n",
      "  filtrado_Data5=filtrado_Data5.append(filtrar5)\n"
     ]
    },
    {
     "name": "stdout",
     "output_type": "stream",
     "text": [
      "              origen  destino  periodo distancia  viajes\n",
      "fecha                                                   \n",
      "2020-05-17  19058_AM  2811501        0   050-100  10.230\n",
      "2020-05-17  19245_AM  2811501       12      100+   6.544\n",
      "2020-05-17     28004  2811501       16   010-050   8.703\n"
     ]
    },
    {
     "name": "stderr",
     "output_type": "stream",
     "text": [
      "/tmp/ipykernel_9904/3091215869.py:14: FutureWarning: The frame.append method is deprecated and will be removed from pandas in a future version. Use pandas.concat instead.\n",
      "  filtrado_Data=filtrado_Data.append(filtrar)\n",
      "/tmp/ipykernel_9904/3091215869.py:15: FutureWarning: The frame.append method is deprecated and will be removed from pandas in a future version. Use pandas.concat instead.\n",
      "  filtrado_Data2=filtrado_Data2.append(filtrar2)\n",
      "/tmp/ipykernel_9904/3091215869.py:16: FutureWarning: The frame.append method is deprecated and will be removed from pandas in a future version. Use pandas.concat instead.\n",
      "  filtrado_Data3=filtrado_Data3.append(filtrar3)\n",
      "/tmp/ipykernel_9904/3091215869.py:17: FutureWarning: The frame.append method is deprecated and will be removed from pandas in a future version. Use pandas.concat instead.\n",
      "  filtrado_Data4=filtrado_Data4.append(filtrar4)\n",
      "/tmp/ipykernel_9904/3091215869.py:18: FutureWarning: The frame.append method is deprecated and will be removed from pandas in a future version. Use pandas.concat instead.\n",
      "  filtrado_Data5=filtrado_Data5.append(filtrar5)\n"
     ]
    },
    {
     "name": "stdout",
     "output_type": "stream",
     "text": [
      "              origen  destino  periodo distancia  viajes\n",
      "fecha                                                   \n",
      "2020-05-17  19086_AM  2811502       11      100+  11.461\n",
      "2020-05-17  19192_AM  2811502       21   050-100   9.121\n",
      "2020-05-17     28004  2811502       15   010-050   6.130\n"
     ]
    },
    {
     "name": "stderr",
     "output_type": "stream",
     "text": [
      "/tmp/ipykernel_9904/3091215869.py:14: FutureWarning: The frame.append method is deprecated and will be removed from pandas in a future version. Use pandas.concat instead.\n",
      "  filtrado_Data=filtrado_Data.append(filtrar)\n",
      "/tmp/ipykernel_9904/3091215869.py:15: FutureWarning: The frame.append method is deprecated and will be removed from pandas in a future version. Use pandas.concat instead.\n",
      "  filtrado_Data2=filtrado_Data2.append(filtrar2)\n",
      "/tmp/ipykernel_9904/3091215869.py:16: FutureWarning: The frame.append method is deprecated and will be removed from pandas in a future version. Use pandas.concat instead.\n",
      "  filtrado_Data3=filtrado_Data3.append(filtrar3)\n",
      "/tmp/ipykernel_9904/3091215869.py:17: FutureWarning: The frame.append method is deprecated and will be removed from pandas in a future version. Use pandas.concat instead.\n",
      "  filtrado_Data4=filtrado_Data4.append(filtrar4)\n",
      "/tmp/ipykernel_9904/3091215869.py:18: FutureWarning: The frame.append method is deprecated and will be removed from pandas in a future version. Use pandas.concat instead.\n",
      "  filtrado_Data5=filtrado_Data5.append(filtrar5)\n"
     ]
    },
    {
     "name": "stdout",
     "output_type": "stream",
     "text": [
      "              origen   destino  periodo distancia  viajes\n",
      "fecha                                                    \n",
      "2020-05-17   1913002  28119_AM        7   050-100   8.601\n",
      "2020-05-17   2800704  28119_AM       20   010-050  17.365\n",
      "2020-05-17  28008_AM  28119_AM        3   010-050   6.491\n"
     ]
    },
    {
     "name": "stderr",
     "output_type": "stream",
     "text": [
      "/tmp/ipykernel_9904/3091215869.py:14: FutureWarning: The frame.append method is deprecated and will be removed from pandas in a future version. Use pandas.concat instead.\n",
      "  filtrado_Data=filtrado_Data.append(filtrar)\n",
      "/tmp/ipykernel_9904/3091215869.py:15: FutureWarning: The frame.append method is deprecated and will be removed from pandas in a future version. Use pandas.concat instead.\n",
      "  filtrado_Data2=filtrado_Data2.append(filtrar2)\n",
      "/tmp/ipykernel_9904/3091215869.py:16: FutureWarning: The frame.append method is deprecated and will be removed from pandas in a future version. Use pandas.concat instead.\n",
      "  filtrado_Data3=filtrado_Data3.append(filtrar3)\n",
      "/tmp/ipykernel_9904/3091215869.py:17: FutureWarning: The frame.append method is deprecated and will be removed from pandas in a future version. Use pandas.concat instead.\n",
      "  filtrado_Data4=filtrado_Data4.append(filtrar4)\n",
      "/tmp/ipykernel_9904/3091215869.py:18: FutureWarning: The frame.append method is deprecated and will be removed from pandas in a future version. Use pandas.concat instead.\n",
      "  filtrado_Data5=filtrado_Data5.append(filtrar5)\n"
     ]
    },
    {
     "name": "stdout",
     "output_type": "stream",
     "text": [
      "              origen  destino  periodo distancia  viajes\n",
      "fecha                                                   \n",
      "2020-05-17  19046_AM  2812301       20   010-050   6.376\n",
      "2020-05-17  19151_AM  2812301       17   050-100   8.598\n",
      "2020-05-17  19156_AM  2812301       19   050-100   8.598\n"
     ]
    },
    {
     "name": "stderr",
     "output_type": "stream",
     "text": [
      "/tmp/ipykernel_9904/3091215869.py:14: FutureWarning: The frame.append method is deprecated and will be removed from pandas in a future version. Use pandas.concat instead.\n",
      "  filtrado_Data=filtrado_Data.append(filtrar)\n",
      "/tmp/ipykernel_9904/3091215869.py:15: FutureWarning: The frame.append method is deprecated and will be removed from pandas in a future version. Use pandas.concat instead.\n",
      "  filtrado_Data2=filtrado_Data2.append(filtrar2)\n",
      "/tmp/ipykernel_9904/3091215869.py:16: FutureWarning: The frame.append method is deprecated and will be removed from pandas in a future version. Use pandas.concat instead.\n",
      "  filtrado_Data3=filtrado_Data3.append(filtrar3)\n",
      "/tmp/ipykernel_9904/3091215869.py:17: FutureWarning: The frame.append method is deprecated and will be removed from pandas in a future version. Use pandas.concat instead.\n",
      "  filtrado_Data4=filtrado_Data4.append(filtrar4)\n",
      "/tmp/ipykernel_9904/3091215869.py:18: FutureWarning: The frame.append method is deprecated and will be removed from pandas in a future version. Use pandas.concat instead.\n",
      "  filtrado_Data5=filtrado_Data5.append(filtrar5)\n"
     ]
    },
    {
     "name": "stdout",
     "output_type": "stream",
     "text": [
      "           origen   destino  periodo distancia  viajes\n",
      "fecha                                                 \n",
      "2020-05-17  28010  28125_AM        9   010-050   5.724\n",
      "2020-05-17  28022  28125_AM       13   010-050   5.882\n",
      "2020-05-17  28022  28125_AM       18   010-050   5.882\n"
     ]
    },
    {
     "name": "stderr",
     "output_type": "stream",
     "text": [
      "/tmp/ipykernel_9904/3091215869.py:14: FutureWarning: The frame.append method is deprecated and will be removed from pandas in a future version. Use pandas.concat instead.\n",
      "  filtrado_Data=filtrado_Data.append(filtrar)\n",
      "/tmp/ipykernel_9904/3091215869.py:15: FutureWarning: The frame.append method is deprecated and will be removed from pandas in a future version. Use pandas.concat instead.\n",
      "  filtrado_Data2=filtrado_Data2.append(filtrar2)\n",
      "/tmp/ipykernel_9904/3091215869.py:16: FutureWarning: The frame.append method is deprecated and will be removed from pandas in a future version. Use pandas.concat instead.\n",
      "  filtrado_Data3=filtrado_Data3.append(filtrar3)\n",
      "/tmp/ipykernel_9904/3091215869.py:17: FutureWarning: The frame.append method is deprecated and will be removed from pandas in a future version. Use pandas.concat instead.\n",
      "  filtrado_Data4=filtrado_Data4.append(filtrar4)\n",
      "/tmp/ipykernel_9904/3091215869.py:18: FutureWarning: The frame.append method is deprecated and will be removed from pandas in a future version. Use pandas.concat instead.\n",
      "  filtrado_Data5=filtrado_Data5.append(filtrar5)\n"
     ]
    },
    {
     "name": "stdout",
     "output_type": "stream",
     "text": [
      "              origen  destino  periodo distancia  viajes\n",
      "fecha                                                   \n",
      "2020-05-17  19071_AM  2812701       14   010-050   8.106\n",
      "2020-05-17   2800501  2812701        4   010-050   6.657\n",
      "2020-05-17   2800502  2812701        6   010-050   4.742\n"
     ]
    },
    {
     "name": "stderr",
     "output_type": "stream",
     "text": [
      "/tmp/ipykernel_9904/3091215869.py:14: FutureWarning: The frame.append method is deprecated and will be removed from pandas in a future version. Use pandas.concat instead.\n",
      "  filtrado_Data=filtrado_Data.append(filtrar)\n",
      "/tmp/ipykernel_9904/3091215869.py:15: FutureWarning: The frame.append method is deprecated and will be removed from pandas in a future version. Use pandas.concat instead.\n",
      "  filtrado_Data2=filtrado_Data2.append(filtrar2)\n",
      "/tmp/ipykernel_9904/3091215869.py:16: FutureWarning: The frame.append method is deprecated and will be removed from pandas in a future version. Use pandas.concat instead.\n",
      "  filtrado_Data3=filtrado_Data3.append(filtrar3)\n",
      "/tmp/ipykernel_9904/3091215869.py:17: FutureWarning: The frame.append method is deprecated and will be removed from pandas in a future version. Use pandas.concat instead.\n",
      "  filtrado_Data4=filtrado_Data4.append(filtrar4)\n",
      "/tmp/ipykernel_9904/3091215869.py:18: FutureWarning: The frame.append method is deprecated and will be removed from pandas in a future version. Use pandas.concat instead.\n",
      "  filtrado_Data5=filtrado_Data5.append(filtrar5)\n"
     ]
    },
    {
     "name": "stdout",
     "output_type": "stream",
     "text": [
      "              origen destino  periodo distancia  viajes\n",
      "fecha                                                  \n",
      "2020-05-17  19046_AM   28129       22   010-050   9.549\n",
      "2020-05-17  19071_AM   28129        9   010-050   9.396\n",
      "2020-05-17  19071_AM   28129       20   010-050   9.396\n"
     ]
    },
    {
     "name": "stderr",
     "output_type": "stream",
     "text": [
      "/tmp/ipykernel_9904/3091215869.py:14: FutureWarning: The frame.append method is deprecated and will be removed from pandas in a future version. Use pandas.concat instead.\n",
      "  filtrado_Data=filtrado_Data.append(filtrar)\n",
      "/tmp/ipykernel_9904/3091215869.py:15: FutureWarning: The frame.append method is deprecated and will be removed from pandas in a future version. Use pandas.concat instead.\n",
      "  filtrado_Data2=filtrado_Data2.append(filtrar2)\n",
      "/tmp/ipykernel_9904/3091215869.py:16: FutureWarning: The frame.append method is deprecated and will be removed from pandas in a future version. Use pandas.concat instead.\n",
      "  filtrado_Data3=filtrado_Data3.append(filtrar3)\n",
      "/tmp/ipykernel_9904/3091215869.py:17: FutureWarning: The frame.append method is deprecated and will be removed from pandas in a future version. Use pandas.concat instead.\n",
      "  filtrado_Data4=filtrado_Data4.append(filtrar4)\n",
      "/tmp/ipykernel_9904/3091215869.py:18: FutureWarning: The frame.append method is deprecated and will be removed from pandas in a future version. Use pandas.concat instead.\n",
      "  filtrado_Data5=filtrado_Data5.append(filtrar5)\n"
     ]
    },
    {
     "name": "stdout",
     "output_type": "stream",
     "text": [
      "              origen destino  periodo distancia  viajes\n",
      "fecha                                                  \n",
      "2020-05-17     19024   28130        5   010-050   8.242\n",
      "2020-05-17     19024   28130       12   010-050   5.275\n",
      "2020-05-17  19046_AM   28130       14   010-050   9.549\n"
     ]
    },
    {
     "name": "stderr",
     "output_type": "stream",
     "text": [
      "/tmp/ipykernel_9904/3091215869.py:14: FutureWarning: The frame.append method is deprecated and will be removed from pandas in a future version. Use pandas.concat instead.\n",
      "  filtrado_Data=filtrado_Data.append(filtrar)\n",
      "/tmp/ipykernel_9904/3091215869.py:15: FutureWarning: The frame.append method is deprecated and will be removed from pandas in a future version. Use pandas.concat instead.\n",
      "  filtrado_Data2=filtrado_Data2.append(filtrar2)\n",
      "/tmp/ipykernel_9904/3091215869.py:16: FutureWarning: The frame.append method is deprecated and will be removed from pandas in a future version. Use pandas.concat instead.\n",
      "  filtrado_Data3=filtrado_Data3.append(filtrar3)\n",
      "/tmp/ipykernel_9904/3091215869.py:17: FutureWarning: The frame.append method is deprecated and will be removed from pandas in a future version. Use pandas.concat instead.\n",
      "  filtrado_Data4=filtrado_Data4.append(filtrar4)\n",
      "/tmp/ipykernel_9904/3091215869.py:18: FutureWarning: The frame.append method is deprecated and will be removed from pandas in a future version. Use pandas.concat instead.\n",
      "  filtrado_Data5=filtrado_Data5.append(filtrar5)\n"
     ]
    },
    {
     "name": "stdout",
     "output_type": "stream",
     "text": [
      "             origen destino  periodo distancia  viajes\n",
      "fecha                                                 \n",
      "2020-05-17    28004   28131        7   010-050   5.724\n",
      "2020-05-17  2800601   28131        5   010-050   5.724\n",
      "2020-05-17  2800701   28131        9   010-050   5.986\n"
     ]
    },
    {
     "name": "stderr",
     "output_type": "stream",
     "text": [
      "/tmp/ipykernel_9904/3091215869.py:14: FutureWarning: The frame.append method is deprecated and will be removed from pandas in a future version. Use pandas.concat instead.\n",
      "  filtrado_Data=filtrado_Data.append(filtrar)\n",
      "/tmp/ipykernel_9904/3091215869.py:15: FutureWarning: The frame.append method is deprecated and will be removed from pandas in a future version. Use pandas.concat instead.\n",
      "  filtrado_Data2=filtrado_Data2.append(filtrar2)\n",
      "/tmp/ipykernel_9904/3091215869.py:16: FutureWarning: The frame.append method is deprecated and will be removed from pandas in a future version. Use pandas.concat instead.\n",
      "  filtrado_Data3=filtrado_Data3.append(filtrar3)\n",
      "/tmp/ipykernel_9904/3091215869.py:17: FutureWarning: The frame.append method is deprecated and will be removed from pandas in a future version. Use pandas.concat instead.\n",
      "  filtrado_Data4=filtrado_Data4.append(filtrar4)\n",
      "/tmp/ipykernel_9904/3091215869.py:18: FutureWarning: The frame.append method is deprecated and will be removed from pandas in a future version. Use pandas.concat instead.\n",
      "  filtrado_Data5=filtrado_Data5.append(filtrar5)\n"
     ]
    },
    {
     "name": "stdout",
     "output_type": "stream",
     "text": [
      "             origen destino  periodo distancia  viajes\n",
      "fecha                                                 \n",
      "2020-05-17    28004   28132       16   010-050   5.415\n",
      "2020-05-17    28004   28132       17   010-050   5.415\n",
      "2020-05-17  2800702   28132        5   010-050   8.398\n"
     ]
    },
    {
     "name": "stderr",
     "output_type": "stream",
     "text": [
      "/tmp/ipykernel_9904/3091215869.py:14: FutureWarning: The frame.append method is deprecated and will be removed from pandas in a future version. Use pandas.concat instead.\n",
      "  filtrado_Data=filtrado_Data.append(filtrar)\n",
      "/tmp/ipykernel_9904/3091215869.py:15: FutureWarning: The frame.append method is deprecated and will be removed from pandas in a future version. Use pandas.concat instead.\n",
      "  filtrado_Data2=filtrado_Data2.append(filtrar2)\n",
      "/tmp/ipykernel_9904/3091215869.py:16: FutureWarning: The frame.append method is deprecated and will be removed from pandas in a future version. Use pandas.concat instead.\n",
      "  filtrado_Data3=filtrado_Data3.append(filtrar3)\n",
      "/tmp/ipykernel_9904/3091215869.py:17: FutureWarning: The frame.append method is deprecated and will be removed from pandas in a future version. Use pandas.concat instead.\n",
      "  filtrado_Data4=filtrado_Data4.append(filtrar4)\n",
      "/tmp/ipykernel_9904/3091215869.py:18: FutureWarning: The frame.append method is deprecated and will be removed from pandas in a future version. Use pandas.concat instead.\n",
      "  filtrado_Data5=filtrado_Data5.append(filtrar5)\n"
     ]
    },
    {
     "name": "stdout",
     "output_type": "stream",
     "text": [
      "             origen   destino  periodo distancia  viajes\n",
      "fecha                                                   \n",
      "2020-05-17  2800701  28133_AM        6   010-050   5.823\n",
      "2020-05-17  2800701  28133_AM       20   010-050   5.492\n",
      "2020-05-17  2800701  28133_AM       21   010-050   5.492\n"
     ]
    },
    {
     "name": "stderr",
     "output_type": "stream",
     "text": [
      "/tmp/ipykernel_9904/3091215869.py:14: FutureWarning: The frame.append method is deprecated and will be removed from pandas in a future version. Use pandas.concat instead.\n",
      "  filtrado_Data=filtrado_Data.append(filtrar)\n",
      "/tmp/ipykernel_9904/3091215869.py:15: FutureWarning: The frame.append method is deprecated and will be removed from pandas in a future version. Use pandas.concat instead.\n",
      "  filtrado_Data2=filtrado_Data2.append(filtrar2)\n",
      "/tmp/ipykernel_9904/3091215869.py:16: FutureWarning: The frame.append method is deprecated and will be removed from pandas in a future version. Use pandas.concat instead.\n",
      "  filtrado_Data3=filtrado_Data3.append(filtrar3)\n",
      "/tmp/ipykernel_9904/3091215869.py:17: FutureWarning: The frame.append method is deprecated and will be removed from pandas in a future version. Use pandas.concat instead.\n",
      "  filtrado_Data4=filtrado_Data4.append(filtrar4)\n",
      "/tmp/ipykernel_9904/3091215869.py:18: FutureWarning: The frame.append method is deprecated and will be removed from pandas in a future version. Use pandas.concat instead.\n",
      "  filtrado_Data5=filtrado_Data5.append(filtrar5)\n"
     ]
    },
    {
     "name": "stdout",
     "output_type": "stream",
     "text": [
      "              origen  destino  periodo distancia  viajes\n",
      "fecha                                                   \n",
      "2020-05-17  19046_AM  2813401       16   010-050   9.549\n",
      "2020-05-17  19046_AM  2813401       15   010-050   7.728\n",
      "2020-05-17  19071_AM  2813401        2   010-050   9.396\n"
     ]
    },
    {
     "name": "stderr",
     "output_type": "stream",
     "text": [
      "/tmp/ipykernel_9904/3091215869.py:14: FutureWarning: The frame.append method is deprecated and will be removed from pandas in a future version. Use pandas.concat instead.\n",
      "  filtrado_Data=filtrado_Data.append(filtrar)\n",
      "/tmp/ipykernel_9904/3091215869.py:15: FutureWarning: The frame.append method is deprecated and will be removed from pandas in a future version. Use pandas.concat instead.\n",
      "  filtrado_Data2=filtrado_Data2.append(filtrar2)\n",
      "/tmp/ipykernel_9904/3091215869.py:16: FutureWarning: The frame.append method is deprecated and will be removed from pandas in a future version. Use pandas.concat instead.\n",
      "  filtrado_Data3=filtrado_Data3.append(filtrar3)\n",
      "/tmp/ipykernel_9904/3091215869.py:17: FutureWarning: The frame.append method is deprecated and will be removed from pandas in a future version. Use pandas.concat instead.\n",
      "  filtrado_Data4=filtrado_Data4.append(filtrar4)\n",
      "/tmp/ipykernel_9904/3091215869.py:18: FutureWarning: The frame.append method is deprecated and will be removed from pandas in a future version. Use pandas.concat instead.\n",
      "  filtrado_Data5=filtrado_Data5.append(filtrar5)\n"
     ]
    },
    {
     "name": "stdout",
     "output_type": "stream",
     "text": [
      "           origen   destino  periodo distancia  viajes\n",
      "fecha                                                 \n",
      "2020-05-17  19024  28137_AM       12   005-010   8.242\n",
      "2020-05-17  19024  28137_AM       19   005-010   8.242\n",
      "2020-05-17  19024  28137_AM       17   005-010   8.681\n"
     ]
    },
    {
     "name": "stderr",
     "output_type": "stream",
     "text": [
      "/tmp/ipykernel_9904/3091215869.py:14: FutureWarning: The frame.append method is deprecated and will be removed from pandas in a future version. Use pandas.concat instead.\n",
      "  filtrado_Data=filtrado_Data.append(filtrar)\n",
      "/tmp/ipykernel_9904/3091215869.py:15: FutureWarning: The frame.append method is deprecated and will be removed from pandas in a future version. Use pandas.concat instead.\n",
      "  filtrado_Data2=filtrado_Data2.append(filtrar2)\n",
      "/tmp/ipykernel_9904/3091215869.py:16: FutureWarning: The frame.append method is deprecated and will be removed from pandas in a future version. Use pandas.concat instead.\n",
      "  filtrado_Data3=filtrado_Data3.append(filtrar3)\n",
      "/tmp/ipykernel_9904/3091215869.py:17: FutureWarning: The frame.append method is deprecated and will be removed from pandas in a future version. Use pandas.concat instead.\n",
      "  filtrado_Data4=filtrado_Data4.append(filtrar4)\n",
      "/tmp/ipykernel_9904/3091215869.py:18: FutureWarning: The frame.append method is deprecated and will be removed from pandas in a future version. Use pandas.concat instead.\n",
      "  filtrado_Data5=filtrado_Data5.append(filtrar5)\n"
     ]
    },
    {
     "name": "stdout",
     "output_type": "stream",
     "text": [
      "           origen   destino  periodo distancia  viajes\n",
      "fecha                                                 \n",
      "2020-05-17  28004  28140_AM        0   002-005  10.021\n",
      "2020-05-17  28004  28140_AM        0   005-010  30.063\n",
      "2020-05-17  28004  28140_AM        0   010-050  10.021\n"
     ]
    },
    {
     "name": "stderr",
     "output_type": "stream",
     "text": [
      "/tmp/ipykernel_9904/3091215869.py:14: FutureWarning: The frame.append method is deprecated and will be removed from pandas in a future version. Use pandas.concat instead.\n",
      "  filtrado_Data=filtrado_Data.append(filtrar)\n",
      "/tmp/ipykernel_9904/3091215869.py:15: FutureWarning: The frame.append method is deprecated and will be removed from pandas in a future version. Use pandas.concat instead.\n",
      "  filtrado_Data2=filtrado_Data2.append(filtrar2)\n",
      "/tmp/ipykernel_9904/3091215869.py:16: FutureWarning: The frame.append method is deprecated and will be removed from pandas in a future version. Use pandas.concat instead.\n",
      "  filtrado_Data3=filtrado_Data3.append(filtrar3)\n",
      "/tmp/ipykernel_9904/3091215869.py:17: FutureWarning: The frame.append method is deprecated and will be removed from pandas in a future version. Use pandas.concat instead.\n",
      "  filtrado_Data4=filtrado_Data4.append(filtrar4)\n",
      "/tmp/ipykernel_9904/3091215869.py:18: FutureWarning: The frame.append method is deprecated and will be removed from pandas in a future version. Use pandas.concat instead.\n",
      "  filtrado_Data5=filtrado_Data5.append(filtrar5)\n"
     ]
    },
    {
     "name": "stdout",
     "output_type": "stream",
     "text": [
      "              origen destino  periodo distancia  viajes\n",
      "fecha                                                  \n",
      "2020-05-17   1913001   28141       17   050-100  19.725\n",
      "2020-05-17  19192_AM   28141       16   050-100   7.976\n",
      "2020-05-17   2800701   28141        9   010-050  14.619\n"
     ]
    },
    {
     "name": "stderr",
     "output_type": "stream",
     "text": [
      "/tmp/ipykernel_9904/3091215869.py:14: FutureWarning: The frame.append method is deprecated and will be removed from pandas in a future version. Use pandas.concat instead.\n",
      "  filtrado_Data=filtrado_Data.append(filtrar)\n",
      "/tmp/ipykernel_9904/3091215869.py:15: FutureWarning: The frame.append method is deprecated and will be removed from pandas in a future version. Use pandas.concat instead.\n",
      "  filtrado_Data2=filtrado_Data2.append(filtrar2)\n",
      "/tmp/ipykernel_9904/3091215869.py:16: FutureWarning: The frame.append method is deprecated and will be removed from pandas in a future version. Use pandas.concat instead.\n",
      "  filtrado_Data3=filtrado_Data3.append(filtrar3)\n",
      "/tmp/ipykernel_9904/3091215869.py:17: FutureWarning: The frame.append method is deprecated and will be removed from pandas in a future version. Use pandas.concat instead.\n",
      "  filtrado_Data4=filtrado_Data4.append(filtrar4)\n",
      "/tmp/ipykernel_9904/3091215869.py:18: FutureWarning: The frame.append method is deprecated and will be removed from pandas in a future version. Use pandas.concat instead.\n",
      "  filtrado_Data5=filtrado_Data5.append(filtrar5)\n"
     ]
    },
    {
     "name": "stdout",
     "output_type": "stream",
     "text": [
      "              origen destino  periodo distancia  viajes\n",
      "fecha                                                  \n",
      "2020-05-17  19071_AM   28144        7   010-050   7.294\n",
      "2020-05-17   2800601   28144       10   010-050   6.188\n",
      "2020-05-17   2800601   28144       16   010-050   6.574\n"
     ]
    },
    {
     "name": "stderr",
     "output_type": "stream",
     "text": [
      "/tmp/ipykernel_9904/3091215869.py:14: FutureWarning: The frame.append method is deprecated and will be removed from pandas in a future version. Use pandas.concat instead.\n",
      "  filtrado_Data=filtrado_Data.append(filtrar)\n",
      "/tmp/ipykernel_9904/3091215869.py:15: FutureWarning: The frame.append method is deprecated and will be removed from pandas in a future version. Use pandas.concat instead.\n",
      "  filtrado_Data2=filtrado_Data2.append(filtrar2)\n",
      "/tmp/ipykernel_9904/3091215869.py:16: FutureWarning: The frame.append method is deprecated and will be removed from pandas in a future version. Use pandas.concat instead.\n",
      "  filtrado_Data3=filtrado_Data3.append(filtrar3)\n",
      "/tmp/ipykernel_9904/3091215869.py:17: FutureWarning: The frame.append method is deprecated and will be removed from pandas in a future version. Use pandas.concat instead.\n",
      "  filtrado_Data4=filtrado_Data4.append(filtrar4)\n",
      "/tmp/ipykernel_9904/3091215869.py:18: FutureWarning: The frame.append method is deprecated and will be removed from pandas in a future version. Use pandas.concat instead.\n",
      "  filtrado_Data5=filtrado_Data5.append(filtrar5)\n"
     ]
    },
    {
     "name": "stdout",
     "output_type": "stream",
     "text": [
      "              origen   destino  periodo distancia  viajes\n",
      "fecha                                                    \n",
      "2020-05-17     19024  28145_AM       18   010-050   6.604\n",
      "2020-05-17     19024  28145_AM       22   010-050  10.246\n",
      "2020-05-17  19053_AM  28145_AM       12   010-050   6.604\n"
     ]
    },
    {
     "name": "stderr",
     "output_type": "stream",
     "text": [
      "/tmp/ipykernel_9904/3091215869.py:14: FutureWarning: The frame.append method is deprecated and will be removed from pandas in a future version. Use pandas.concat instead.\n",
      "  filtrado_Data=filtrado_Data.append(filtrar)\n",
      "/tmp/ipykernel_9904/3091215869.py:15: FutureWarning: The frame.append method is deprecated and will be removed from pandas in a future version. Use pandas.concat instead.\n",
      "  filtrado_Data2=filtrado_Data2.append(filtrar2)\n",
      "/tmp/ipykernel_9904/3091215869.py:16: FutureWarning: The frame.append method is deprecated and will be removed from pandas in a future version. Use pandas.concat instead.\n",
      "  filtrado_Data3=filtrado_Data3.append(filtrar3)\n",
      "/tmp/ipykernel_9904/3091215869.py:17: FutureWarning: The frame.append method is deprecated and will be removed from pandas in a future version. Use pandas.concat instead.\n",
      "  filtrado_Data4=filtrado_Data4.append(filtrar4)\n",
      "/tmp/ipykernel_9904/3091215869.py:18: FutureWarning: The frame.append method is deprecated and will be removed from pandas in a future version. Use pandas.concat instead.\n",
      "  filtrado_Data5=filtrado_Data5.append(filtrar5)\n"
     ]
    },
    {
     "name": "stdout",
     "output_type": "stream",
     "text": [
      "              origen  destino  periodo distancia  viajes\n",
      "fecha                                                   \n",
      "2020-05-17     19024  2814801       15   010-050   6.020\n",
      "2020-05-17  19046_AM  2814801        1   010-050   6.376\n",
      "2020-05-17  19046_AM  2814801       12   010-050   9.549\n"
     ]
    },
    {
     "name": "stderr",
     "output_type": "stream",
     "text": [
      "/tmp/ipykernel_9904/3091215869.py:14: FutureWarning: The frame.append method is deprecated and will be removed from pandas in a future version. Use pandas.concat instead.\n",
      "  filtrado_Data=filtrado_Data.append(filtrar)\n",
      "/tmp/ipykernel_9904/3091215869.py:15: FutureWarning: The frame.append method is deprecated and will be removed from pandas in a future version. Use pandas.concat instead.\n",
      "  filtrado_Data2=filtrado_Data2.append(filtrar2)\n",
      "/tmp/ipykernel_9904/3091215869.py:16: FutureWarning: The frame.append method is deprecated and will be removed from pandas in a future version. Use pandas.concat instead.\n",
      "  filtrado_Data3=filtrado_Data3.append(filtrar3)\n",
      "/tmp/ipykernel_9904/3091215869.py:17: FutureWarning: The frame.append method is deprecated and will be removed from pandas in a future version. Use pandas.concat instead.\n",
      "  filtrado_Data4=filtrado_Data4.append(filtrar4)\n",
      "/tmp/ipykernel_9904/3091215869.py:18: FutureWarning: The frame.append method is deprecated and will be removed from pandas in a future version. Use pandas.concat instead.\n",
      "  filtrado_Data5=filtrado_Data5.append(filtrar5)\n"
     ]
    },
    {
     "name": "stdout",
     "output_type": "stream",
     "text": [
      "           origen  destino  periodo distancia  viajes\n",
      "fecha                                                \n",
      "2020-05-17  19024  2814802       12   010-050   8.242\n",
      "2020-05-17  19024  2814802       22   010-050   8.242\n",
      "2020-05-17  19024  2814802       15   010-050   8.719\n"
     ]
    },
    {
     "name": "stderr",
     "output_type": "stream",
     "text": [
      "/tmp/ipykernel_9904/3091215869.py:14: FutureWarning: The frame.append method is deprecated and will be removed from pandas in a future version. Use pandas.concat instead.\n",
      "  filtrado_Data=filtrado_Data.append(filtrar)\n",
      "/tmp/ipykernel_9904/3091215869.py:15: FutureWarning: The frame.append method is deprecated and will be removed from pandas in a future version. Use pandas.concat instead.\n",
      "  filtrado_Data2=filtrado_Data2.append(filtrar2)\n",
      "/tmp/ipykernel_9904/3091215869.py:16: FutureWarning: The frame.append method is deprecated and will be removed from pandas in a future version. Use pandas.concat instead.\n",
      "  filtrado_Data3=filtrado_Data3.append(filtrar3)\n",
      "/tmp/ipykernel_9904/3091215869.py:17: FutureWarning: The frame.append method is deprecated and will be removed from pandas in a future version. Use pandas.concat instead.\n",
      "  filtrado_Data4=filtrado_Data4.append(filtrar4)\n",
      "/tmp/ipykernel_9904/3091215869.py:18: FutureWarning: The frame.append method is deprecated and will be removed from pandas in a future version. Use pandas.concat instead.\n",
      "  filtrado_Data5=filtrado_Data5.append(filtrar5)\n"
     ]
    },
    {
     "name": "stdout",
     "output_type": "stream",
     "text": [
      "              origen  destino  periodo distancia  viajes\n",
      "fecha                                                   \n",
      "2020-05-17     19024  2814803       22   010-050   9.066\n",
      "2020-05-17  19046_AM  2814803       19   010-050  10.601\n",
      "2020-05-17  19058_AM  2814803       16   010-050   9.549\n"
     ]
    },
    {
     "name": "stderr",
     "output_type": "stream",
     "text": [
      "/tmp/ipykernel_9904/3091215869.py:14: FutureWarning: The frame.append method is deprecated and will be removed from pandas in a future version. Use pandas.concat instead.\n",
      "  filtrado_Data=filtrado_Data.append(filtrar)\n",
      "/tmp/ipykernel_9904/3091215869.py:15: FutureWarning: The frame.append method is deprecated and will be removed from pandas in a future version. Use pandas.concat instead.\n",
      "  filtrado_Data2=filtrado_Data2.append(filtrar2)\n",
      "/tmp/ipykernel_9904/3091215869.py:16: FutureWarning: The frame.append method is deprecated and will be removed from pandas in a future version. Use pandas.concat instead.\n",
      "  filtrado_Data3=filtrado_Data3.append(filtrar3)\n",
      "/tmp/ipykernel_9904/3091215869.py:17: FutureWarning: The frame.append method is deprecated and will be removed from pandas in a future version. Use pandas.concat instead.\n",
      "  filtrado_Data4=filtrado_Data4.append(filtrar4)\n",
      "/tmp/ipykernel_9904/3091215869.py:18: FutureWarning: The frame.append method is deprecated and will be removed from pandas in a future version. Use pandas.concat instead.\n",
      "  filtrado_Data5=filtrado_Data5.append(filtrar5)\n"
     ]
    },
    {
     "name": "stdout",
     "output_type": "stream",
     "text": [
      "              origen  destino  periodo distancia  viajes\n",
      "fecha                                                   \n",
      "2020-05-17  19046_AM  2814804       13   010-050   9.549\n",
      "2020-05-17  19046_AM  2814804       22   010-050   9.549\n",
      "2020-05-17  19046_AM  2814804        6   010-050   9.549\n"
     ]
    },
    {
     "name": "stderr",
     "output_type": "stream",
     "text": [
      "/tmp/ipykernel_9904/3091215869.py:14: FutureWarning: The frame.append method is deprecated and will be removed from pandas in a future version. Use pandas.concat instead.\n",
      "  filtrado_Data=filtrado_Data.append(filtrar)\n",
      "/tmp/ipykernel_9904/3091215869.py:15: FutureWarning: The frame.append method is deprecated and will be removed from pandas in a future version. Use pandas.concat instead.\n",
      "  filtrado_Data2=filtrado_Data2.append(filtrar2)\n",
      "/tmp/ipykernel_9904/3091215869.py:16: FutureWarning: The frame.append method is deprecated and will be removed from pandas in a future version. Use pandas.concat instead.\n",
      "  filtrado_Data3=filtrado_Data3.append(filtrar3)\n",
      "/tmp/ipykernel_9904/3091215869.py:17: FutureWarning: The frame.append method is deprecated and will be removed from pandas in a future version. Use pandas.concat instead.\n",
      "  filtrado_Data4=filtrado_Data4.append(filtrar4)\n",
      "/tmp/ipykernel_9904/3091215869.py:18: FutureWarning: The frame.append method is deprecated and will be removed from pandas in a future version. Use pandas.concat instead.\n",
      "  filtrado_Data5=filtrado_Data5.append(filtrar5)\n"
     ]
    },
    {
     "name": "stdout",
     "output_type": "stream",
     "text": [
      "             origen destino  periodo distancia  viajes\n",
      "fecha                                                 \n",
      "2020-05-17  2800702   28149       18   010-050   5.035\n",
      "2020-05-17  2800704   28149       18   010-050   6.708\n",
      "2020-05-17  2800704   28149       19   010-050   6.708\n"
     ]
    },
    {
     "name": "stderr",
     "output_type": "stream",
     "text": [
      "/tmp/ipykernel_9904/3091215869.py:14: FutureWarning: The frame.append method is deprecated and will be removed from pandas in a future version. Use pandas.concat instead.\n",
      "  filtrado_Data=filtrado_Data.append(filtrar)\n",
      "/tmp/ipykernel_9904/3091215869.py:15: FutureWarning: The frame.append method is deprecated and will be removed from pandas in a future version. Use pandas.concat instead.\n",
      "  filtrado_Data2=filtrado_Data2.append(filtrar2)\n",
      "/tmp/ipykernel_9904/3091215869.py:16: FutureWarning: The frame.append method is deprecated and will be removed from pandas in a future version. Use pandas.concat instead.\n",
      "  filtrado_Data3=filtrado_Data3.append(filtrar3)\n",
      "/tmp/ipykernel_9904/3091215869.py:17: FutureWarning: The frame.append method is deprecated and will be removed from pandas in a future version. Use pandas.concat instead.\n",
      "  filtrado_Data4=filtrado_Data4.append(filtrar4)\n",
      "/tmp/ipykernel_9904/3091215869.py:18: FutureWarning: The frame.append method is deprecated and will be removed from pandas in a future version. Use pandas.concat instead.\n",
      "  filtrado_Data5=filtrado_Data5.append(filtrar5)\n"
     ]
    },
    {
     "name": "stdout",
     "output_type": "stream",
     "text": [
      "             origen destino  periodo distancia  viajes\n",
      "fecha                                                 \n",
      "2020-05-17  2800503   28150       22   010-050   6.354\n",
      "2020-05-17  2800702   28150       14   010-050   7.309\n",
      "2020-05-17  2800704   28150        1   010-050   6.369\n"
     ]
    },
    {
     "name": "stderr",
     "output_type": "stream",
     "text": [
      "/tmp/ipykernel_9904/3091215869.py:14: FutureWarning: The frame.append method is deprecated and will be removed from pandas in a future version. Use pandas.concat instead.\n",
      "  filtrado_Data=filtrado_Data.append(filtrar)\n",
      "/tmp/ipykernel_9904/3091215869.py:15: FutureWarning: The frame.append method is deprecated and will be removed from pandas in a future version. Use pandas.concat instead.\n",
      "  filtrado_Data2=filtrado_Data2.append(filtrar2)\n",
      "/tmp/ipykernel_9904/3091215869.py:16: FutureWarning: The frame.append method is deprecated and will be removed from pandas in a future version. Use pandas.concat instead.\n",
      "  filtrado_Data3=filtrado_Data3.append(filtrar3)\n",
      "/tmp/ipykernel_9904/3091215869.py:17: FutureWarning: The frame.append method is deprecated and will be removed from pandas in a future version. Use pandas.concat instead.\n",
      "  filtrado_Data4=filtrado_Data4.append(filtrar4)\n",
      "/tmp/ipykernel_9904/3091215869.py:18: FutureWarning: The frame.append method is deprecated and will be removed from pandas in a future version. Use pandas.concat instead.\n",
      "  filtrado_Data5=filtrado_Data5.append(filtrar5)\n"
     ]
    },
    {
     "name": "stdout",
     "output_type": "stream",
     "text": [
      "              origen   destino  periodo distancia  viajes\n",
      "fecha                                                    \n",
      "2020-05-17  19071_AM  28151_AM       11   010-050   9.396\n",
      "2020-05-17  19071_AM  28151_AM        1   005-010  16.809\n",
      "2020-05-17  19071_AM  28151_AM       10   005-010  16.577\n"
     ]
    },
    {
     "name": "stderr",
     "output_type": "stream",
     "text": [
      "/tmp/ipykernel_9904/3091215869.py:14: FutureWarning: The frame.append method is deprecated and will be removed from pandas in a future version. Use pandas.concat instead.\n",
      "  filtrado_Data=filtrado_Data.append(filtrar)\n",
      "/tmp/ipykernel_9904/3091215869.py:15: FutureWarning: The frame.append method is deprecated and will be removed from pandas in a future version. Use pandas.concat instead.\n",
      "  filtrado_Data2=filtrado_Data2.append(filtrar2)\n",
      "/tmp/ipykernel_9904/3091215869.py:16: FutureWarning: The frame.append method is deprecated and will be removed from pandas in a future version. Use pandas.concat instead.\n",
      "  filtrado_Data3=filtrado_Data3.append(filtrar3)\n",
      "/tmp/ipykernel_9904/3091215869.py:17: FutureWarning: The frame.append method is deprecated and will be removed from pandas in a future version. Use pandas.concat instead.\n",
      "  filtrado_Data4=filtrado_Data4.append(filtrar4)\n",
      "/tmp/ipykernel_9904/3091215869.py:18: FutureWarning: The frame.append method is deprecated and will be removed from pandas in a future version. Use pandas.concat instead.\n",
      "  filtrado_Data5=filtrado_Data5.append(filtrar5)\n"
     ]
    },
    {
     "name": "stdout",
     "output_type": "stream",
     "text": [
      "              origen destino  periodo distancia  viajes\n",
      "fecha                                                  \n",
      "2020-05-17  19071_AM   28152        9   010-050  10.925\n",
      "2020-05-17  19071_AM   28152       17   010-050  10.925\n",
      "2020-05-17  19071_AM   28152       23   010-050  10.925\n"
     ]
    },
    {
     "name": "stderr",
     "output_type": "stream",
     "text": [
      "/tmp/ipykernel_9904/3091215869.py:14: FutureWarning: The frame.append method is deprecated and will be removed from pandas in a future version. Use pandas.concat instead.\n",
      "  filtrado_Data=filtrado_Data.append(filtrar)\n",
      "/tmp/ipykernel_9904/3091215869.py:15: FutureWarning: The frame.append method is deprecated and will be removed from pandas in a future version. Use pandas.concat instead.\n",
      "  filtrado_Data2=filtrado_Data2.append(filtrar2)\n",
      "/tmp/ipykernel_9904/3091215869.py:16: FutureWarning: The frame.append method is deprecated and will be removed from pandas in a future version. Use pandas.concat instead.\n",
      "  filtrado_Data3=filtrado_Data3.append(filtrar3)\n",
      "/tmp/ipykernel_9904/3091215869.py:17: FutureWarning: The frame.append method is deprecated and will be removed from pandas in a future version. Use pandas.concat instead.\n",
      "  filtrado_Data4=filtrado_Data4.append(filtrar4)\n",
      "/tmp/ipykernel_9904/3091215869.py:18: FutureWarning: The frame.append method is deprecated and will be removed from pandas in a future version. Use pandas.concat instead.\n",
      "  filtrado_Data5=filtrado_Data5.append(filtrar5)\n"
     ]
    },
    {
     "name": "stdout",
     "output_type": "stream",
     "text": [
      "              origen destino  periodo distancia  viajes\n",
      "fecha                                                  \n",
      "2020-05-17  19220_AM   28154       17   010-050   6.142\n",
      "2020-05-17     28002   28154       21   010-050   4.860\n",
      "2020-05-17     28002   28154       13   010-050   7.521\n"
     ]
    },
    {
     "name": "stderr",
     "output_type": "stream",
     "text": [
      "/tmp/ipykernel_9904/3091215869.py:14: FutureWarning: The frame.append method is deprecated and will be removed from pandas in a future version. Use pandas.concat instead.\n",
      "  filtrado_Data=filtrado_Data.append(filtrar)\n",
      "/tmp/ipykernel_9904/3091215869.py:15: FutureWarning: The frame.append method is deprecated and will be removed from pandas in a future version. Use pandas.concat instead.\n",
      "  filtrado_Data2=filtrado_Data2.append(filtrar2)\n",
      "/tmp/ipykernel_9904/3091215869.py:16: FutureWarning: The frame.append method is deprecated and will be removed from pandas in a future version. Use pandas.concat instead.\n",
      "  filtrado_Data3=filtrado_Data3.append(filtrar3)\n",
      "/tmp/ipykernel_9904/3091215869.py:17: FutureWarning: The frame.append method is deprecated and will be removed from pandas in a future version. Use pandas.concat instead.\n",
      "  filtrado_Data4=filtrado_Data4.append(filtrar4)\n",
      "/tmp/ipykernel_9904/3091215869.py:18: FutureWarning: The frame.append method is deprecated and will be removed from pandas in a future version. Use pandas.concat instead.\n",
      "  filtrado_Data5=filtrado_Data5.append(filtrar5)\n"
     ]
    },
    {
     "name": "stdout",
     "output_type": "stream",
     "text": [
      "             origen destino  periodo distancia  viajes\n",
      "fecha                                                 \n",
      "2020-05-17    28004   28160       15   010-050  11.370\n",
      "2020-05-17  2800601   28160       21   010-050   5.341\n",
      "2020-05-17  2800701   28160        1   010-050   5.341\n"
     ]
    },
    {
     "name": "stderr",
     "output_type": "stream",
     "text": [
      "/tmp/ipykernel_9904/3091215869.py:14: FutureWarning: The frame.append method is deprecated and will be removed from pandas in a future version. Use pandas.concat instead.\n",
      "  filtrado_Data=filtrado_Data.append(filtrar)\n",
      "/tmp/ipykernel_9904/3091215869.py:15: FutureWarning: The frame.append method is deprecated and will be removed from pandas in a future version. Use pandas.concat instead.\n",
      "  filtrado_Data2=filtrado_Data2.append(filtrar2)\n",
      "/tmp/ipykernel_9904/3091215869.py:16: FutureWarning: The frame.append method is deprecated and will be removed from pandas in a future version. Use pandas.concat instead.\n",
      "  filtrado_Data3=filtrado_Data3.append(filtrar3)\n",
      "/tmp/ipykernel_9904/3091215869.py:17: FutureWarning: The frame.append method is deprecated and will be removed from pandas in a future version. Use pandas.concat instead.\n",
      "  filtrado_Data4=filtrado_Data4.append(filtrar4)\n",
      "/tmp/ipykernel_9904/3091215869.py:18: FutureWarning: The frame.append method is deprecated and will be removed from pandas in a future version. Use pandas.concat instead.\n",
      "  filtrado_Data5=filtrado_Data5.append(filtrar5)\n"
     ]
    },
    {
     "name": "stdout",
     "output_type": "stream",
     "text": [
      "              origen  destino  periodo distancia  viajes\n",
      "fecha                                                   \n",
      "2020-05-17     19024  2816101       22   050-100   3.066\n",
      "2020-05-17  19046_AM  2816101       21   050-100   9.549\n",
      "2020-05-17  19086_AM  2816101       17      100+   5.703\n"
     ]
    },
    {
     "name": "stderr",
     "output_type": "stream",
     "text": [
      "/tmp/ipykernel_9904/3091215869.py:14: FutureWarning: The frame.append method is deprecated and will be removed from pandas in a future version. Use pandas.concat instead.\n",
      "  filtrado_Data=filtrado_Data.append(filtrar)\n",
      "/tmp/ipykernel_9904/3091215869.py:15: FutureWarning: The frame.append method is deprecated and will be removed from pandas in a future version. Use pandas.concat instead.\n",
      "  filtrado_Data2=filtrado_Data2.append(filtrar2)\n",
      "/tmp/ipykernel_9904/3091215869.py:16: FutureWarning: The frame.append method is deprecated and will be removed from pandas in a future version. Use pandas.concat instead.\n",
      "  filtrado_Data3=filtrado_Data3.append(filtrar3)\n",
      "/tmp/ipykernel_9904/3091215869.py:17: FutureWarning: The frame.append method is deprecated and will be removed from pandas in a future version. Use pandas.concat instead.\n",
      "  filtrado_Data4=filtrado_Data4.append(filtrar4)\n",
      "/tmp/ipykernel_9904/3091215869.py:18: FutureWarning: The frame.append method is deprecated and will be removed from pandas in a future version. Use pandas.concat instead.\n",
      "  filtrado_Data5=filtrado_Data5.append(filtrar5)\n"
     ]
    },
    {
     "name": "stdout",
     "output_type": "stream",
     "text": [
      "              origen  destino  periodo distancia  viajes\n",
      "fecha                                                   \n",
      "2020-05-17  19160_AM  2816102       10   050-100   5.641\n",
      "2020-05-17  19192_AM  2816102       12   010-050   9.007\n",
      "2020-05-17  19220_AM  2816102       10   050-100   9.007\n"
     ]
    },
    {
     "name": "stderr",
     "output_type": "stream",
     "text": [
      "/tmp/ipykernel_9904/3091215869.py:14: FutureWarning: The frame.append method is deprecated and will be removed from pandas in a future version. Use pandas.concat instead.\n",
      "  filtrado_Data=filtrado_Data.append(filtrar)\n",
      "/tmp/ipykernel_9904/3091215869.py:15: FutureWarning: The frame.append method is deprecated and will be removed from pandas in a future version. Use pandas.concat instead.\n",
      "  filtrado_Data2=filtrado_Data2.append(filtrar2)\n",
      "/tmp/ipykernel_9904/3091215869.py:16: FutureWarning: The frame.append method is deprecated and will be removed from pandas in a future version. Use pandas.concat instead.\n",
      "  filtrado_Data3=filtrado_Data3.append(filtrar3)\n",
      "/tmp/ipykernel_9904/3091215869.py:17: FutureWarning: The frame.append method is deprecated and will be removed from pandas in a future version. Use pandas.concat instead.\n",
      "  filtrado_Data4=filtrado_Data4.append(filtrar4)\n",
      "/tmp/ipykernel_9904/3091215869.py:18: FutureWarning: The frame.append method is deprecated and will be removed from pandas in a future version. Use pandas.concat instead.\n",
      "  filtrado_Data5=filtrado_Data5.append(filtrar5)\n"
     ]
    },
    {
     "name": "stdout",
     "output_type": "stream",
     "text": [
      "              origen   destino  periodo distancia  viajes\n",
      "fecha                                                    \n",
      "2020-05-17     19024  28162_AM       15   010-050   8.242\n",
      "2020-05-17     19024  28162_AM        9   010-050   9.285\n",
      "2020-05-17  19046_AM  28162_AM       10   010-050   9.549\n"
     ]
    },
    {
     "name": "stderr",
     "output_type": "stream",
     "text": [
      "/tmp/ipykernel_9904/3091215869.py:14: FutureWarning: The frame.append method is deprecated and will be removed from pandas in a future version. Use pandas.concat instead.\n",
      "  filtrado_Data=filtrado_Data.append(filtrar)\n",
      "/tmp/ipykernel_9904/3091215869.py:15: FutureWarning: The frame.append method is deprecated and will be removed from pandas in a future version. Use pandas.concat instead.\n",
      "  filtrado_Data2=filtrado_Data2.append(filtrar2)\n",
      "/tmp/ipykernel_9904/3091215869.py:16: FutureWarning: The frame.append method is deprecated and will be removed from pandas in a future version. Use pandas.concat instead.\n",
      "  filtrado_Data3=filtrado_Data3.append(filtrar3)\n",
      "/tmp/ipykernel_9904/3091215869.py:17: FutureWarning: The frame.append method is deprecated and will be removed from pandas in a future version. Use pandas.concat instead.\n",
      "  filtrado_Data4=filtrado_Data4.append(filtrar4)\n",
      "/tmp/ipykernel_9904/3091215869.py:18: FutureWarning: The frame.append method is deprecated and will be removed from pandas in a future version. Use pandas.concat instead.\n",
      "  filtrado_Data5=filtrado_Data5.append(filtrar5)\n"
     ]
    },
    {
     "name": "stdout",
     "output_type": "stream",
     "text": [
      "              origen destino  periodo distancia  viajes\n",
      "fecha                                                  \n",
      "2020-05-17  19058_AM   28164       12   010-050   6.171\n",
      "2020-05-17  19058_AM   28164        6   010-050  14.581\n",
      "2020-05-17  19071_AM   28164        0   005-010   9.396\n"
     ]
    },
    {
     "name": "stderr",
     "output_type": "stream",
     "text": [
      "/tmp/ipykernel_9904/3091215869.py:14: FutureWarning: The frame.append method is deprecated and will be removed from pandas in a future version. Use pandas.concat instead.\n",
      "  filtrado_Data=filtrado_Data.append(filtrar)\n",
      "/tmp/ipykernel_9904/3091215869.py:15: FutureWarning: The frame.append method is deprecated and will be removed from pandas in a future version. Use pandas.concat instead.\n",
      "  filtrado_Data2=filtrado_Data2.append(filtrar2)\n",
      "/tmp/ipykernel_9904/3091215869.py:16: FutureWarning: The frame.append method is deprecated and will be removed from pandas in a future version. Use pandas.concat instead.\n",
      "  filtrado_Data3=filtrado_Data3.append(filtrar3)\n",
      "/tmp/ipykernel_9904/3091215869.py:17: FutureWarning: The frame.append method is deprecated and will be removed from pandas in a future version. Use pandas.concat instead.\n",
      "  filtrado_Data4=filtrado_Data4.append(filtrar4)\n",
      "/tmp/ipykernel_9904/3091215869.py:18: FutureWarning: The frame.append method is deprecated and will be removed from pandas in a future version. Use pandas.concat instead.\n",
      "  filtrado_Data5=filtrado_Data5.append(filtrar5)\n"
     ]
    },
    {
     "name": "stdout",
     "output_type": "stream",
     "text": [
      "              origen   destino  periodo distancia  viajes\n",
      "fecha                                                    \n",
      "2020-05-17  19160_AM  28165_AM       11   010-050   9.161\n",
      "2020-05-17  19160_AM  28165_AM       14   010-050   9.161\n",
      "2020-05-17  19160_AM  28165_AM       17   010-050   9.161\n"
     ]
    },
    {
     "name": "stderr",
     "output_type": "stream",
     "text": [
      "/tmp/ipykernel_9904/3091215869.py:14: FutureWarning: The frame.append method is deprecated and will be removed from pandas in a future version. Use pandas.concat instead.\n",
      "  filtrado_Data=filtrado_Data.append(filtrar)\n",
      "/tmp/ipykernel_9904/3091215869.py:15: FutureWarning: The frame.append method is deprecated and will be removed from pandas in a future version. Use pandas.concat instead.\n",
      "  filtrado_Data2=filtrado_Data2.append(filtrar2)\n",
      "/tmp/ipykernel_9904/3091215869.py:16: FutureWarning: The frame.append method is deprecated and will be removed from pandas in a future version. Use pandas.concat instead.\n",
      "  filtrado_Data3=filtrado_Data3.append(filtrar3)\n",
      "/tmp/ipykernel_9904/3091215869.py:17: FutureWarning: The frame.append method is deprecated and will be removed from pandas in a future version. Use pandas.concat instead.\n",
      "  filtrado_Data4=filtrado_Data4.append(filtrar4)\n",
      "/tmp/ipykernel_9904/3091215869.py:18: FutureWarning: The frame.append method is deprecated and will be removed from pandas in a future version. Use pandas.concat instead.\n",
      "  filtrado_Data5=filtrado_Data5.append(filtrar5)\n"
     ]
    },
    {
     "name": "stdout",
     "output_type": "stream",
     "text": [
      "              origen destino  periodo distancia  viajes\n",
      "fecha                                                  \n",
      "2020-05-17  19071_AM   28167       11   010-050  10.135\n",
      "2020-05-17  19071_AM   28167       19   010-050  10.135\n",
      "2020-05-17  19071_AM   28167       16   010-050   7.405\n"
     ]
    },
    {
     "name": "stderr",
     "output_type": "stream",
     "text": [
      "/tmp/ipykernel_9904/3091215869.py:14: FutureWarning: The frame.append method is deprecated and will be removed from pandas in a future version. Use pandas.concat instead.\n",
      "  filtrado_Data=filtrado_Data.append(filtrar)\n",
      "/tmp/ipykernel_9904/3091215869.py:15: FutureWarning: The frame.append method is deprecated and will be removed from pandas in a future version. Use pandas.concat instead.\n",
      "  filtrado_Data2=filtrado_Data2.append(filtrar2)\n",
      "/tmp/ipykernel_9904/3091215869.py:16: FutureWarning: The frame.append method is deprecated and will be removed from pandas in a future version. Use pandas.concat instead.\n",
      "  filtrado_Data3=filtrado_Data3.append(filtrar3)\n",
      "/tmp/ipykernel_9904/3091215869.py:17: FutureWarning: The frame.append method is deprecated and will be removed from pandas in a future version. Use pandas.concat instead.\n",
      "  filtrado_Data4=filtrado_Data4.append(filtrar4)\n",
      "/tmp/ipykernel_9904/3091215869.py:18: FutureWarning: The frame.append method is deprecated and will be removed from pandas in a future version. Use pandas.concat instead.\n",
      "  filtrado_Data5=filtrado_Data5.append(filtrar5)\n"
     ]
    },
    {
     "name": "stdout",
     "output_type": "stream",
     "text": [
      "           origen destino  periodo distancia  viajes\n",
      "fecha                                               \n",
      "2020-05-17  28004   28171        6   010-050  10.021\n",
      "2020-05-17  28004   28171       10   010-050   7.496\n",
      "2020-05-17  28004   28171        1   010-050   6.774\n"
     ]
    },
    {
     "name": "stderr",
     "output_type": "stream",
     "text": [
      "/tmp/ipykernel_9904/3091215869.py:14: FutureWarning: The frame.append method is deprecated and will be removed from pandas in a future version. Use pandas.concat instead.\n",
      "  filtrado_Data=filtrado_Data.append(filtrar)\n",
      "/tmp/ipykernel_9904/3091215869.py:15: FutureWarning: The frame.append method is deprecated and will be removed from pandas in a future version. Use pandas.concat instead.\n",
      "  filtrado_Data2=filtrado_Data2.append(filtrar2)\n",
      "/tmp/ipykernel_9904/3091215869.py:16: FutureWarning: The frame.append method is deprecated and will be removed from pandas in a future version. Use pandas.concat instead.\n",
      "  filtrado_Data3=filtrado_Data3.append(filtrar3)\n",
      "/tmp/ipykernel_9904/3091215869.py:17: FutureWarning: The frame.append method is deprecated and will be removed from pandas in a future version. Use pandas.concat instead.\n",
      "  filtrado_Data4=filtrado_Data4.append(filtrar4)\n",
      "/tmp/ipykernel_9904/3091215869.py:18: FutureWarning: The frame.append method is deprecated and will be removed from pandas in a future version. Use pandas.concat instead.\n",
      "  filtrado_Data5=filtrado_Data5.append(filtrar5)\n"
     ]
    },
    {
     "name": "stdout",
     "output_type": "stream",
     "text": [
      "              origen destino  periodo distancia  viajes\n",
      "fecha                                                  \n",
      "2020-05-17  19046_AM   28172        3   010-050   9.549\n",
      "2020-05-17  19046_AM   28172       15   010-050  12.417\n",
      "2020-05-17  19046_AM   28172       12   010-050   9.066\n"
     ]
    },
    {
     "name": "stderr",
     "output_type": "stream",
     "text": [
      "/tmp/ipykernel_9904/3091215869.py:14: FutureWarning: The frame.append method is deprecated and will be removed from pandas in a future version. Use pandas.concat instead.\n",
      "  filtrado_Data=filtrado_Data.append(filtrar)\n",
      "/tmp/ipykernel_9904/3091215869.py:15: FutureWarning: The frame.append method is deprecated and will be removed from pandas in a future version. Use pandas.concat instead.\n",
      "  filtrado_Data2=filtrado_Data2.append(filtrar2)\n",
      "/tmp/ipykernel_9904/3091215869.py:16: FutureWarning: The frame.append method is deprecated and will be removed from pandas in a future version. Use pandas.concat instead.\n",
      "  filtrado_Data3=filtrado_Data3.append(filtrar3)\n",
      "/tmp/ipykernel_9904/3091215869.py:17: FutureWarning: The frame.append method is deprecated and will be removed from pandas in a future version. Use pandas.concat instead.\n",
      "  filtrado_Data4=filtrado_Data4.append(filtrar4)\n",
      "/tmp/ipykernel_9904/3091215869.py:18: FutureWarning: The frame.append method is deprecated and will be removed from pandas in a future version. Use pandas.concat instead.\n",
      "  filtrado_Data5=filtrado_Data5.append(filtrar5)\n"
     ]
    },
    {
     "name": "stdout",
     "output_type": "stream",
     "text": [
      "             origen destino  periodo distancia  viajes\n",
      "fecha                                                 \n",
      "2020-05-17  2800601   28176        7   010-050   5.847\n",
      "2020-05-17  2800601   28176       13   010-050   6.512\n",
      "2020-05-17  2800701   28176       21   010-050   5.823\n"
     ]
    },
    {
     "name": "stderr",
     "output_type": "stream",
     "text": [
      "/tmp/ipykernel_9904/3091215869.py:14: FutureWarning: The frame.append method is deprecated and will be removed from pandas in a future version. Use pandas.concat instead.\n",
      "  filtrado_Data=filtrado_Data.append(filtrar)\n",
      "/tmp/ipykernel_9904/3091215869.py:15: FutureWarning: The frame.append method is deprecated and will be removed from pandas in a future version. Use pandas.concat instead.\n",
      "  filtrado_Data2=filtrado_Data2.append(filtrar2)\n",
      "/tmp/ipykernel_9904/3091215869.py:16: FutureWarning: The frame.append method is deprecated and will be removed from pandas in a future version. Use pandas.concat instead.\n",
      "  filtrado_Data3=filtrado_Data3.append(filtrar3)\n",
      "/tmp/ipykernel_9904/3091215869.py:17: FutureWarning: The frame.append method is deprecated and will be removed from pandas in a future version. Use pandas.concat instead.\n",
      "  filtrado_Data4=filtrado_Data4.append(filtrar4)\n",
      "/tmp/ipykernel_9904/3091215869.py:18: FutureWarning: The frame.append method is deprecated and will be removed from pandas in a future version. Use pandas.concat instead.\n",
      "  filtrado_Data5=filtrado_Data5.append(filtrar5)\n"
     ]
    },
    {
     "name": "stdout",
     "output_type": "stream",
     "text": [
      "             origen destino  periodo distancia  viajes\n",
      "fecha                                                 \n",
      "2020-05-17  2800701   28177       10   010-050   5.823\n",
      "2020-05-17  2800701   28177        9   010-050   5.823\n",
      "2020-05-17  2800702   28177        7   010-050   8.398\n"
     ]
    },
    {
     "name": "stderr",
     "output_type": "stream",
     "text": [
      "/tmp/ipykernel_9904/3091215869.py:14: FutureWarning: The frame.append method is deprecated and will be removed from pandas in a future version. Use pandas.concat instead.\n",
      "  filtrado_Data=filtrado_Data.append(filtrar)\n",
      "/tmp/ipykernel_9904/3091215869.py:15: FutureWarning: The frame.append method is deprecated and will be removed from pandas in a future version. Use pandas.concat instead.\n",
      "  filtrado_Data2=filtrado_Data2.append(filtrar2)\n",
      "/tmp/ipykernel_9904/3091215869.py:16: FutureWarning: The frame.append method is deprecated and will be removed from pandas in a future version. Use pandas.concat instead.\n",
      "  filtrado_Data3=filtrado_Data3.append(filtrar3)\n",
      "/tmp/ipykernel_9904/3091215869.py:17: FutureWarning: The frame.append method is deprecated and will be removed from pandas in a future version. Use pandas.concat instead.\n",
      "  filtrado_Data4=filtrado_Data4.append(filtrar4)\n",
      "/tmp/ipykernel_9904/3091215869.py:18: FutureWarning: The frame.append method is deprecated and will be removed from pandas in a future version. Use pandas.concat instead.\n",
      "  filtrado_Data5=filtrado_Data5.append(filtrar5)\n"
     ]
    },
    {
     "name": "stdout",
     "output_type": "stream",
     "text": [
      "              origen destino  periodo distancia  viajes\n",
      "fecha                                                  \n",
      "2020-05-17  19192_AM   28180       22   010-050  15.921\n",
      "2020-05-17  19192_AM   28180       18   010-050   9.446\n",
      "2020-05-17  19192_AM   28180       20   010-050   9.446\n"
     ]
    },
    {
     "name": "stderr",
     "output_type": "stream",
     "text": [
      "/tmp/ipykernel_9904/3091215869.py:14: FutureWarning: The frame.append method is deprecated and will be removed from pandas in a future version. Use pandas.concat instead.\n",
      "  filtrado_Data=filtrado_Data.append(filtrar)\n",
      "/tmp/ipykernel_9904/3091215869.py:15: FutureWarning: The frame.append method is deprecated and will be removed from pandas in a future version. Use pandas.concat instead.\n",
      "  filtrado_Data2=filtrado_Data2.append(filtrar2)\n",
      "/tmp/ipykernel_9904/3091215869.py:16: FutureWarning: The frame.append method is deprecated and will be removed from pandas in a future version. Use pandas.concat instead.\n",
      "  filtrado_Data3=filtrado_Data3.append(filtrar3)\n",
      "/tmp/ipykernel_9904/3091215869.py:17: FutureWarning: The frame.append method is deprecated and will be removed from pandas in a future version. Use pandas.concat instead.\n",
      "  filtrado_Data4=filtrado_Data4.append(filtrar4)\n",
      "/tmp/ipykernel_9904/3091215869.py:18: FutureWarning: The frame.append method is deprecated and will be removed from pandas in a future version. Use pandas.concat instead.\n",
      "  filtrado_Data5=filtrado_Data5.append(filtrar5)\n"
     ]
    },
    {
     "name": "stdout",
     "output_type": "stream",
     "text": [
      "              origen destino  periodo distancia  viajes\n",
      "fecha                                                  \n",
      "2020-05-17     19024   28181       14   050-100   6.350\n",
      "2020-05-17  19071_AM   28181       16   050-100   9.396\n",
      "2020-05-17     28002   28181        9   010-050   5.497\n"
     ]
    },
    {
     "name": "stderr",
     "output_type": "stream",
     "text": [
      "/tmp/ipykernel_9904/3091215869.py:14: FutureWarning: The frame.append method is deprecated and will be removed from pandas in a future version. Use pandas.concat instead.\n",
      "  filtrado_Data=filtrado_Data.append(filtrar)\n",
      "/tmp/ipykernel_9904/3091215869.py:15: FutureWarning: The frame.append method is deprecated and will be removed from pandas in a future version. Use pandas.concat instead.\n",
      "  filtrado_Data2=filtrado_Data2.append(filtrar2)\n",
      "/tmp/ipykernel_9904/3091215869.py:16: FutureWarning: The frame.append method is deprecated and will be removed from pandas in a future version. Use pandas.concat instead.\n",
      "  filtrado_Data3=filtrado_Data3.append(filtrar3)\n",
      "/tmp/ipykernel_9904/3091215869.py:17: FutureWarning: The frame.append method is deprecated and will be removed from pandas in a future version. Use pandas.concat instead.\n",
      "  filtrado_Data4=filtrado_Data4.append(filtrar4)\n",
      "/tmp/ipykernel_9904/3091215869.py:18: FutureWarning: The frame.append method is deprecated and will be removed from pandas in a future version. Use pandas.concat instead.\n",
      "  filtrado_Data5=filtrado_Data5.append(filtrar5)\n"
     ]
    },
    {
     "name": "stdout",
     "output_type": "stream",
     "text": [
      "              origen   destino  periodo distancia  viajes\n",
      "fecha                                                    \n",
      "2020-05-17  19071_AM  28901_AM        1   005-010  10.134\n",
      "2020-05-17  19071_AM  28901_AM        7   005-010  10.134\n",
      "2020-05-17  19071_AM  28901_AM        9   005-010  10.134\n"
     ]
    },
    {
     "name": "stderr",
     "output_type": "stream",
     "text": [
      "/tmp/ipykernel_9904/3091215869.py:14: FutureWarning: The frame.append method is deprecated and will be removed from pandas in a future version. Use pandas.concat instead.\n",
      "  filtrado_Data=filtrado_Data.append(filtrar)\n",
      "/tmp/ipykernel_9904/3091215869.py:15: FutureWarning: The frame.append method is deprecated and will be removed from pandas in a future version. Use pandas.concat instead.\n",
      "  filtrado_Data2=filtrado_Data2.append(filtrar2)\n",
      "/tmp/ipykernel_9904/3091215869.py:16: FutureWarning: The frame.append method is deprecated and will be removed from pandas in a future version. Use pandas.concat instead.\n",
      "  filtrado_Data3=filtrado_Data3.append(filtrar3)\n",
      "/tmp/ipykernel_9904/3091215869.py:17: FutureWarning: The frame.append method is deprecated and will be removed from pandas in a future version. Use pandas.concat instead.\n",
      "  filtrado_Data4=filtrado_Data4.append(filtrar4)\n",
      "/tmp/ipykernel_9904/3091215869.py:18: FutureWarning: The frame.append method is deprecated and will be removed from pandas in a future version. Use pandas.concat instead.\n",
      "  filtrado_Data5=filtrado_Data5.append(filtrar5)\n"
     ]
    },
    {
     "name": "stdout",
     "output_type": "stream",
     "text": [
      "              origen destino  periodo distancia  viajes\n",
      "fecha                                                  \n",
      "2020-05-17  19071_AM   28903        0   010-050  18.792\n",
      "2020-05-17  19071_AM   28903       14   010-050   9.396\n",
      "2020-05-17  19071_AM   28903       17   010-050   9.396\n"
     ]
    },
    {
     "name": "stderr",
     "output_type": "stream",
     "text": [
      "/tmp/ipykernel_9904/3091215869.py:14: FutureWarning: The frame.append method is deprecated and will be removed from pandas in a future version. Use pandas.concat instead.\n",
      "  filtrado_Data=filtrado_Data.append(filtrar)\n",
      "/tmp/ipykernel_9904/3091215869.py:15: FutureWarning: The frame.append method is deprecated and will be removed from pandas in a future version. Use pandas.concat instead.\n",
      "  filtrado_Data2=filtrado_Data2.append(filtrar2)\n",
      "/tmp/ipykernel_9904/3091215869.py:16: FutureWarning: The frame.append method is deprecated and will be removed from pandas in a future version. Use pandas.concat instead.\n",
      "  filtrado_Data3=filtrado_Data3.append(filtrar3)\n",
      "/tmp/ipykernel_9904/3091215869.py:17: FutureWarning: The frame.append method is deprecated and will be removed from pandas in a future version. Use pandas.concat instead.\n",
      "  filtrado_Data4=filtrado_Data4.append(filtrar4)\n",
      "/tmp/ipykernel_9904/3091215869.py:18: FutureWarning: The frame.append method is deprecated and will be removed from pandas in a future version. Use pandas.concat instead.\n",
      "  filtrado_Data5=filtrado_Data5.append(filtrar5)\n"
     ]
    }
   ],
   "source": [
    "columnas=[\"19024\",\"19046_AM\",\"19053_AM\",\"19058_AM\",\"19071_AM\",\"19086_AM\",\"1913001\",\"1913002\",\"1913003\",\"1913004\",\"1913005\",\"19151_AM\",\"19156_AM\",\"19160_AM\",\"19171\",\"19190_AM\",\"19192_AM\",\"19220_AM\",\"19245_AM\",\"19257_AM\",\"19274_AM\",\"19280_AM\",\"19319\",\"19326_AM\",\"19331_AM\",\"28002\",\"28004\",\"2800501\",\"2800502\",\"2800503\",\"2800504\",\"2800505\",\"2800601\",\"2800701\",\"2800702\",\"2800703\",\"2800704\",\"28008_AM\",\"28009\",\"28010\",\"2801301\",\"2801302\",\"2801303\",\"2801304\",\"28014\",\"28015\",\"28018\",\"28022\",\"28023\",\"28026\",\"28027_AM\",\"28030_AM\",\"28031_AM\",\"28032_AM\",\"28033\",\"28038_AM\",\"28040\",\"28041\",\"28043\",\"28044\",\"28045\",\"28046\",\"28047\",\"2804901\",\"2804902\",\"2804903_AD\",\"28050_AM\",\"28052_AM\",\"28053\",\"28054\",\"2805801\",\"2805802\",\"2805803\",\"2805804\",\"2805805\",\"2805806\",\"2805807\",\"2805808\",\"2805809\",\"28059\",\"28060_AM\",\"28061\",\"2806501\",\"2806502\",\"2806503\",\"2806504\",\"28066\",\"28067_AM\",\"28068\",\"28072\",\"28073\",\"2807401\",\"2807402\",\"2807403\",\"2807404\",\"2807405\",\"2807406\",\"2807407\",\"28075\",\"2807901\",\"2807902\",\"2807903\",\"2807904\",\"2807905\",\"2807906\",\"2807907\",\"2807908\",\"2807909\",\"2807910\",\"2807911\",\"2807912\",\"2807913\",\"2807914\",\"2807915\",\"2807916\",\"2807917\",\"2807918\",\"2807919\",\"2807920\",\"2807921\",\"2808001\",\"2808002\",\"28082\",\"28083\",\"28084\",\"28085_AM\",\"28086\",\"28087\",\"28089\",\"28090\",\"28091\",\"2809201\",\"2809202\",\"2809203\",\"2809204\",\"28095_AM\",\"28096\",\"28099_AM\",\"28100\",\"28104\",\"2810601\",\"28108\",\"28110_AM\",\"2811301\",\"2811302\",\"2811501\",\"2811502\",\"28119_AM\",\"2812301\",\"28125_AM\",\"2812701\",\"28129\",\"28130\",\"28131\",\"28132\",\"28133_AM\",\"2813401\",\"28137_AM\",\"28140_AM\",\"28141\",\"28144\",\"28145_AM\",\"2814801\",\"2814802\",\"2814803\",\"2814804\",\"28149\",\"28150\",\"28151_AM\",\"28152\",\"28154\",\"28160\",\"2816101\",\"2816102\",\"28162_AM\",\"28164\",\"28165_AM\",\"28167\",\"28171\",\"28172\",\"28176\",\"28177\",\"28180\",\"28181\",\"28901_AM\",\"28903\"]\n",
    "filtrado_Data = pd.DataFrame({})\n",
    "filtrado_Data2 = pd.DataFrame({})\n",
    "filtrado_Data3 = pd.DataFrame({})\n",
    "filtrado_Data4 = pd.DataFrame({})\n",
    "filtrado_Data5 = pd.DataFrame({})\n",
    "for col in columnas:\n",
    "        filtrar = data.loc[data.loc[:,'destino'] == col]\n",
    "        filtrar2 = data2.loc[data2.loc[:,'destino'] == col]\n",
    "        filtrar3 = data3.loc[data3.loc[:,'destino'] == col]\n",
    "        filtrar4 = data4.loc[data4.loc[:,'destino'] == col]\n",
    "        filtrar5 = data5.loc[data5.loc[:,'destino'] == col]\n",
    "        print(filtrar5.head(3))\n",
    "        filtrado_Data=filtrado_Data.append(filtrar)\n",
    "        filtrado_Data2=filtrado_Data2.append(filtrar2)\n",
    "        filtrado_Data3=filtrado_Data3.append(filtrar3)\n",
    "        filtrado_Data4=filtrado_Data4.append(filtrar4)\n",
    "        filtrado_Data5=filtrado_Data5.append(filtrar5)"
   ]
  },
  {
   "cell_type": "code",
   "execution_count": 4,
   "id": "bdf95557",
   "metadata": {},
   "outputs": [
    {
     "data": {
      "text/plain": [
       "(5572608, 5)"
      ]
     },
     "execution_count": 4,
     "metadata": {},
     "output_type": "execute_result"
    }
   ],
   "source": [
    "#filtrado.dtypes\n",
    "filtrado_Data4.shape\n"
   ]
  },
  {
   "cell_type": "code",
   "execution_count": 5,
   "id": "29a1e51d",
   "metadata": {},
   "outputs": [
    {
     "data": {
      "text/plain": [
       "(6821613, 5)"
      ]
     },
     "execution_count": 5,
     "metadata": {},
     "output_type": "execute_result"
    }
   ],
   "source": [
    "filtrado_Data5.shape"
   ]
  },
  {
   "cell_type": "code",
   "execution_count": 6,
   "id": "f6b461b3",
   "metadata": {},
   "outputs": [
    {
     "data": {
      "text/plain": [
       "DatetimeIndex(['2020-05-17', '2020-05-18', '2020-05-19', '2020-05-20',\n",
       "               '2020-05-21', '2020-05-22', '2020-05-23', '2020-05-24',\n",
       "               '2020-05-25', '2020-05-26', '2020-05-27', '2020-05-28',\n",
       "               '2020-05-29', '2020-05-30', '2020-05-31'],\n",
       "              dtype='datetime64[ns]', name='fecha', freq='24H')"
      ]
     },
     "execution_count": 6,
     "metadata": {},
     "output_type": "execute_result"
    }
   ],
   "source": [
    "filtrado_Data.index.freq = filtrado_Data.index.inferred_freq\n",
    "serieDia = filtrado_Data.resample('24H').sum()\n",
    "serieDia.index\n",
    "\n",
    "filtrado_Data2.index.freq = filtrado_Data2.index.inferred_freq\n",
    "serieDia2 = filtrado_Data2.resample('24H').sum()\n",
    "serieDia2.index\n",
    "\n",
    "filtrado_Data3.index.freq = filtrado_Data3.index.inferred_freq\n",
    "serieDia3 = filtrado_Data3.resample('24H').sum()\n",
    "serieDia3.index\n",
    "\n",
    "filtrado_Data4.index.freq = filtrado_Data4.index.inferred_freq\n",
    "serieDia4 = filtrado_Data4.resample('24H').sum()\n",
    "serieDia4.index\n",
    "\n",
    "filtrado_Data5.index.freq = filtrado_Data5.index.inferred_freq\n",
    "serieDia5 = filtrado_Data5.resample('24H').sum()\n",
    "serieDia5.index"
   ]
  },
  {
   "cell_type": "code",
   "execution_count": 7,
   "id": "d0d6d0fb",
   "metadata": {},
   "outputs": [
    {
     "data": {
      "text/html": [
       "<div>\n",
       "<style scoped>\n",
       "    .dataframe tbody tr th:only-of-type {\n",
       "        vertical-align: middle;\n",
       "    }\n",
       "\n",
       "    .dataframe tbody tr th {\n",
       "        vertical-align: top;\n",
       "    }\n",
       "\n",
       "    .dataframe thead th {\n",
       "        text-align: right;\n",
       "    }\n",
       "</style>\n",
       "<table border=\"1\" class=\"dataframe\">\n",
       "  <thead>\n",
       "    <tr style=\"text-align: right;\">\n",
       "      <th></th>\n",
       "      <th>origen</th>\n",
       "      <th>destino</th>\n",
       "      <th>periodo</th>\n",
       "      <th>distancia</th>\n",
       "      <th>viajes</th>\n",
       "      <th>trayecto</th>\n",
       "    </tr>\n",
       "    <tr>\n",
       "      <th>fecha</th>\n",
       "      <th></th>\n",
       "      <th></th>\n",
       "      <th></th>\n",
       "      <th></th>\n",
       "      <th></th>\n",
       "      <th></th>\n",
       "    </tr>\n",
       "  </thead>\n",
       "  <tbody>\n",
       "    <tr>\n",
       "      <th>2020-05-17</th>\n",
       "      <td>19024</td>\n",
       "      <td>19024</td>\n",
       "      <td>0</td>\n",
       "      <td>002-005</td>\n",
       "      <td>6.099</td>\n",
       "      <td>19024-19024</td>\n",
       "    </tr>\n",
       "    <tr>\n",
       "      <th>2020-05-17</th>\n",
       "      <td>19024</td>\n",
       "      <td>19024</td>\n",
       "      <td>2</td>\n",
       "      <td>002-005</td>\n",
       "      <td>6.099</td>\n",
       "      <td>19024-19024</td>\n",
       "    </tr>\n",
       "    <tr>\n",
       "      <th>2020-05-17</th>\n",
       "      <td>19024</td>\n",
       "      <td>19024</td>\n",
       "      <td>6</td>\n",
       "      <td>002-005</td>\n",
       "      <td>6.099</td>\n",
       "      <td>19024-19024</td>\n",
       "    </tr>\n",
       "    <tr>\n",
       "      <th>2020-05-17</th>\n",
       "      <td>19024</td>\n",
       "      <td>19024</td>\n",
       "      <td>10</td>\n",
       "      <td>002-005</td>\n",
       "      <td>6.099</td>\n",
       "      <td>19024-19024</td>\n",
       "    </tr>\n",
       "    <tr>\n",
       "      <th>2020-05-17</th>\n",
       "      <td>19024</td>\n",
       "      <td>19024</td>\n",
       "      <td>11</td>\n",
       "      <td>002-005</td>\n",
       "      <td>6.099</td>\n",
       "      <td>19024-19024</td>\n",
       "    </tr>\n",
       "  </tbody>\n",
       "</table>\n",
       "</div>"
      ],
      "text/plain": [
       "           origen destino  periodo distancia  viajes     trayecto\n",
       "fecha                                                            \n",
       "2020-05-17  19024   19024        0   002-005   6.099  19024-19024\n",
       "2020-05-17  19024   19024        2   002-005   6.099  19024-19024\n",
       "2020-05-17  19024   19024        6   002-005   6.099  19024-19024\n",
       "2020-05-17  19024   19024       10   002-005   6.099  19024-19024\n",
       "2020-05-17  19024   19024       11   002-005   6.099  19024-19024"
      ]
     },
     "execution_count": 7,
     "metadata": {},
     "output_type": "execute_result"
    }
   ],
   "source": [
    "filtrado_Data['trayecto'] = filtrado_Data['origen'] + '-' + filtrado_Data['destino']\n",
    "filtrado_Data2['trayecto'] = filtrado_Data2['origen'] + '-' + filtrado_Data2['destino']\n",
    "filtrado_Data3['trayecto'] = filtrado_Data3['origen'] + '-' + filtrado_Data3['destino']\n",
    "filtrado_Data4['trayecto'] = filtrado_Data4['origen'] + '-' + filtrado_Data4['destino']\n",
    "filtrado_Data5['trayecto'] = filtrado_Data5['origen'] + '-' + filtrado_Data5['destino']\n",
    "filtrado_Data5.head(5)"
   ]
  },
  {
   "cell_type": "code",
   "execution_count": 8,
   "id": "5cec6f7c",
   "metadata": {},
   "outputs": [
    {
     "name": "stdout",
     "output_type": "stream",
     "text": [
      "(415291, 7)\n",
      "(157510, 4)\n",
      "(24, 20257)\n",
      "(402647, 7)\n"
     ]
    },
    {
     "name": "stderr",
     "output_type": "stream",
     "text": [
      "/tmp/ipykernel_9904/1544190192.py:27: FutureWarning: The frame.append method is deprecated and will be removed from pandas in a future version. Use pandas.concat instead.\n",
      "  df_Total = df_Total.append(table_B)\n"
     ]
    },
    {
     "name": "stdout",
     "output_type": "stream",
     "text": [
      "(154121, 4)\n",
      "(24, 20118)\n"
     ]
    },
    {
     "name": "stderr",
     "output_type": "stream",
     "text": [
      "/tmp/ipykernel_9904/1544190192.py:27: FutureWarning: The frame.append method is deprecated and will be removed from pandas in a future version. Use pandas.concat instead.\n",
      "  df_Total = df_Total.append(table_B)\n"
     ]
    },
    {
     "name": "stdout",
     "output_type": "stream",
     "text": [
      "(389862, 7)\n",
      "(150162, 4)\n",
      "(24, 19666)\n"
     ]
    },
    {
     "name": "stderr",
     "output_type": "stream",
     "text": [
      "/tmp/ipykernel_9904/1544190192.py:27: FutureWarning: The frame.append method is deprecated and will be removed from pandas in a future version. Use pandas.concat instead.\n",
      "  df_Total = df_Total.append(table_B)\n"
     ]
    },
    {
     "name": "stdout",
     "output_type": "stream",
     "text": [
      "(377464, 7)\n",
      "(145485, 4)\n",
      "(24, 19440)\n"
     ]
    },
    {
     "name": "stderr",
     "output_type": "stream",
     "text": [
      "/tmp/ipykernel_9904/1544190192.py:27: FutureWarning: The frame.append method is deprecated and will be removed from pandas in a future version. Use pandas.concat instead.\n",
      "  df_Total = df_Total.append(table_B)\n"
     ]
    },
    {
     "name": "stdout",
     "output_type": "stream",
     "text": [
      "(242495, 7)\n",
      "(96774, 4)\n",
      "(24, 14040)\n"
     ]
    },
    {
     "name": "stderr",
     "output_type": "stream",
     "text": [
      "/tmp/ipykernel_9904/1544190192.py:27: FutureWarning: The frame.append method is deprecated and will be removed from pandas in a future version. Use pandas.concat instead.\n",
      "  df_Total = df_Total.append(table_B)\n"
     ]
    },
    {
     "name": "stdout",
     "output_type": "stream",
     "text": [
      "(214462, 7)\n",
      "(85842, 4)\n",
      "(24, 12440)\n"
     ]
    },
    {
     "name": "stderr",
     "output_type": "stream",
     "text": [
      "/tmp/ipykernel_9904/1544190192.py:27: FutureWarning: The frame.append method is deprecated and will be removed from pandas in a future version. Use pandas.concat instead.\n",
      "  df_Total = df_Total.append(table_B)\n"
     ]
    },
    {
     "name": "stdout",
     "output_type": "stream",
     "text": [
      "(364871, 7)\n",
      "(141945, 4)\n",
      "(24, 19074)\n"
     ]
    },
    {
     "name": "stderr",
     "output_type": "stream",
     "text": [
      "/tmp/ipykernel_9904/1544190192.py:27: FutureWarning: The frame.append method is deprecated and will be removed from pandas in a future version. Use pandas.concat instead.\n",
      "  df_Total = df_Total.append(table_B)\n"
     ]
    },
    {
     "name": "stdout",
     "output_type": "stream",
     "text": [
      "(362387, 7)\n",
      "(141523, 4)\n",
      "(24, 19182)\n"
     ]
    },
    {
     "name": "stderr",
     "output_type": "stream",
     "text": [
      "/tmp/ipykernel_9904/1544190192.py:27: FutureWarning: The frame.append method is deprecated and will be removed from pandas in a future version. Use pandas.concat instead.\n",
      "  df_Total = df_Total.append(table_B)\n"
     ]
    },
    {
     "name": "stdout",
     "output_type": "stream",
     "text": [
      "(358675, 7)\n",
      "(140986, 4)\n",
      "(24, 19107)\n"
     ]
    },
    {
     "name": "stderr",
     "output_type": "stream",
     "text": [
      "/tmp/ipykernel_9904/1544190192.py:27: FutureWarning: The frame.append method is deprecated and will be removed from pandas in a future version. Use pandas.concat instead.\n",
      "  df_Total = df_Total.append(table_B)\n"
     ]
    },
    {
     "name": "stdout",
     "output_type": "stream",
     "text": [
      "(358820, 7)\n",
      "(140969, 4)\n",
      "(24, 19108)\n"
     ]
    },
    {
     "name": "stderr",
     "output_type": "stream",
     "text": [
      "/tmp/ipykernel_9904/1544190192.py:27: FutureWarning: The frame.append method is deprecated and will be removed from pandas in a future version. Use pandas.concat instead.\n",
      "  df_Total = df_Total.append(table_B)\n"
     ]
    },
    {
     "name": "stdout",
     "output_type": "stream",
     "text": [
      "(349991, 7)\n",
      "(137097, 4)\n",
      "(24, 18750)\n"
     ]
    },
    {
     "name": "stderr",
     "output_type": "stream",
     "text": [
      "/tmp/ipykernel_9904/1544190192.py:27: FutureWarning: The frame.append method is deprecated and will be removed from pandas in a future version. Use pandas.concat instead.\n",
      "  df_Total = df_Total.append(table_B)\n"
     ]
    },
    {
     "name": "stdout",
     "output_type": "stream",
     "text": [
      "(237183, 7)\n",
      "(94994, 4)\n",
      "(24, 13755)\n"
     ]
    },
    {
     "name": "stderr",
     "output_type": "stream",
     "text": [
      "/tmp/ipykernel_9904/1544190192.py:27: FutureWarning: The frame.append method is deprecated and will be removed from pandas in a future version. Use pandas.concat instead.\n",
      "  df_Total = df_Total.append(table_B)\n"
     ]
    },
    {
     "name": "stdout",
     "output_type": "stream",
     "text": [
      "(196147, 7)\n",
      "(80827, 4)\n",
      "(23, 12260)\n",
      "2020-03-17 00:00:00 2 origen sin registros!\n"
     ]
    },
    {
     "name": "stderr",
     "output_type": "stream",
     "text": [
      "/tmp/ipykernel_9904/1544190192.py:27: FutureWarning: The frame.append method is deprecated and will be removed from pandas in a future version. Use pandas.concat instead.\n",
      "  df_Total = df_Total.append(table_B)\n"
     ]
    },
    {
     "name": "stdout",
     "output_type": "stream",
     "text": [
      "(305306, 7)\n",
      "(121654, 4)\n",
      "(24, 17060)\n"
     ]
    },
    {
     "name": "stderr",
     "output_type": "stream",
     "text": [
      "/tmp/ipykernel_9904/1544190192.py:27: FutureWarning: The frame.append method is deprecated and will be removed from pandas in a future version. Use pandas.concat instead.\n",
      "  df_Total = df_Total.append(table_B)\n"
     ]
    },
    {
     "name": "stdout",
     "output_type": "stream",
     "text": [
      "(310087, 7)\n",
      "(122781, 4)\n",
      "(24, 17064)\n"
     ]
    },
    {
     "name": "stderr",
     "output_type": "stream",
     "text": [
      "/tmp/ipykernel_9904/1544190192.py:27: FutureWarning: The frame.append method is deprecated and will be removed from pandas in a future version. Use pandas.concat instead.\n",
      "  df_Total = df_Total.append(table_B)\n"
     ]
    },
    {
     "name": "stdout",
     "output_type": "stream",
     "text": [
      "(360, 28390)\n"
     ]
    }
   ],
   "source": [
    "df_Total = pd.DataFrame({})\n",
    "reindex=filtrado_Data.reset_index()  #Solo cambiamos esta linea\n",
    "\n",
    "for fecha in serieDia.index:   \n",
    "    filtrar = reindex.loc[reindex.loc[:,'fecha'] == fecha]\n",
    "    print(filtrar.shape)\n",
    "    table_A = pd.pivot_table(filtrar, values=['viajes','origen','destino','fecha'], index=[\"periodo\",\"trayecto\"], aggfunc={'viajes':np.sum,'origen': 'first','destino': 'first','fecha': 'first'})\n",
    "    reindex2 = table_A.reset_index()\n",
    "    table_B = pd.pivot_table(reindex2, values=['viajes'], index=[\"periodo\"], columns=[\"trayecto\"], aggfunc={'viajes':'first'}, fill_value=0)\n",
    "    print(table_A.shape)\n",
    "    print(table_B.shape)\n",
    "    \n",
    "    if table_B.index.shape[0] != 24:\n",
    "        j = 0\n",
    "        for i in range(24):\n",
    "            if table_B.index[i] != (i+j):\n",
    "                print (reindex.fecha.iloc[0],i+j,\"origen sin registros!\")\n",
    "                table_B.loc[i+j] = 0\n",
    "                j += 1\n",
    "            if (i + j) == 23: break\n",
    "        table_B = table_B.sort_index() \n",
    "    \n",
    "    table_B[\"ds\"] = pd.date_range(filtrar.fecha.iloc[0], \"%s 23:00:00\" % (filtrar.fecha.iloc[0]), freq=\"H\")  #fecha.iloc[0] devuelve \"20200214\"-\"20200215\"... y la hora en formato 24h      \n",
    "    table_B = table_B.set_index(\"ds\") #Fija como indice la columna ds           \n",
    "    table_B = table_B.astype(np.float32)\n",
    "    \n",
    "    df_Total = df_Total.append(table_B)\n",
    "    df_Total = df_Total.fillna(0)       \n",
    "    #break\n",
    "print(df_Total.shape)"
   ]
  },
  {
   "cell_type": "code",
   "execution_count": 10,
   "id": "44e9ecf0",
   "metadata": {},
   "outputs": [
    {
     "name": "stdout",
     "output_type": "stream",
     "text": [
      "(313130, 7)\n",
      "(123963, 4)\n",
      "(24, 17251)\n"
     ]
    },
    {
     "name": "stderr",
     "output_type": "stream",
     "text": [
      "/tmp/ipykernel_9904/2575003276.py:26: FutureWarning: The frame.append method is deprecated and will be removed from pandas in a future version. Use pandas.concat instead.\n",
      "  df_Total = df_Total.append(table_B)\n"
     ]
    },
    {
     "name": "stdout",
     "output_type": "stream",
     "text": [
      "(314953, 7)\n",
      "(124494, 4)\n",
      "(24, 17332)\n"
     ]
    },
    {
     "name": "stderr",
     "output_type": "stream",
     "text": [
      "/tmp/ipykernel_9904/2575003276.py:26: FutureWarning: The frame.append method is deprecated and will be removed from pandas in a future version. Use pandas.concat instead.\n",
      "  df_Total = df_Total.append(table_B)\n"
     ]
    },
    {
     "name": "stdout",
     "output_type": "stream",
     "text": [
      "(308865, 7)\n",
      "(122306, 4)\n",
      "(24, 17013)\n"
     ]
    },
    {
     "name": "stderr",
     "output_type": "stream",
     "text": [
      "/tmp/ipykernel_9904/2575003276.py:26: FutureWarning: The frame.append method is deprecated and will be removed from pandas in a future version. Use pandas.concat instead.\n",
      "  df_Total = df_Total.append(table_B)\n"
     ]
    },
    {
     "name": "stdout",
     "output_type": "stream",
     "text": [
      "(228836, 7)\n",
      "(91523, 4)\n",
      "(24, 13378)\n"
     ]
    },
    {
     "name": "stderr",
     "output_type": "stream",
     "text": [
      "/tmp/ipykernel_9904/2575003276.py:26: FutureWarning: The frame.append method is deprecated and will be removed from pandas in a future version. Use pandas.concat instead.\n",
      "  df_Total = df_Total.append(table_B)\n"
     ]
    },
    {
     "name": "stdout",
     "output_type": "stream",
     "text": [
      "(201514, 7)\n",
      "(81361, 4)\n",
      "(24, 11970)\n"
     ]
    },
    {
     "name": "stderr",
     "output_type": "stream",
     "text": [
      "/tmp/ipykernel_9904/2575003276.py:26: FutureWarning: The frame.append method is deprecated and will be removed from pandas in a future version. Use pandas.concat instead.\n",
      "  df_Total = df_Total.append(table_B)\n"
     ]
    },
    {
     "name": "stdout",
     "output_type": "stream",
     "text": [
      "(309374, 7)\n",
      "(122178, 4)\n",
      "(24, 17076)\n"
     ]
    },
    {
     "name": "stderr",
     "output_type": "stream",
     "text": [
      "/tmp/ipykernel_9904/2575003276.py:26: FutureWarning: The frame.append method is deprecated and will be removed from pandas in a future version. Use pandas.concat instead.\n",
      "  df_Total = df_Total.append(table_B)\n"
     ]
    },
    {
     "name": "stdout",
     "output_type": "stream",
     "text": [
      "(315119, 7)\n",
      "(124419, 4)\n",
      "(24, 17349)\n"
     ]
    },
    {
     "name": "stderr",
     "output_type": "stream",
     "text": [
      "/tmp/ipykernel_9904/2575003276.py:26: FutureWarning: The frame.append method is deprecated and will be removed from pandas in a future version. Use pandas.concat instead.\n",
      "  df_Total = df_Total.append(table_B)\n"
     ]
    },
    {
     "name": "stdout",
     "output_type": "stream",
     "text": [
      "(315484, 7)\n",
      "(123892, 4)\n",
      "(24, 17255)\n"
     ]
    },
    {
     "name": "stderr",
     "output_type": "stream",
     "text": [
      "/tmp/ipykernel_9904/2575003276.py:26: FutureWarning: The frame.append method is deprecated and will be removed from pandas in a future version. Use pandas.concat instead.\n",
      "  df_Total = df_Total.append(table_B)\n"
     ]
    },
    {
     "name": "stdout",
     "output_type": "stream",
     "text": [
      "(224400, 7)\n",
      "(90674, 4)\n",
      "(24, 13584)\n"
     ]
    },
    {
     "name": "stderr",
     "output_type": "stream",
     "text": [
      "/tmp/ipykernel_9904/2575003276.py:26: FutureWarning: The frame.append method is deprecated and will be removed from pandas in a future version. Use pandas.concat instead.\n",
      "  df_Total = df_Total.append(table_B)\n"
     ]
    },
    {
     "name": "stdout",
     "output_type": "stream",
     "text": [
      "(214251, 7)\n",
      "(85835, 4)\n",
      "(24, 12632)\n"
     ]
    },
    {
     "name": "stderr",
     "output_type": "stream",
     "text": [
      "/tmp/ipykernel_9904/2575003276.py:26: FutureWarning: The frame.append method is deprecated and will be removed from pandas in a future version. Use pandas.concat instead.\n",
      "  df_Total = df_Total.append(table_B)\n"
     ]
    },
    {
     "name": "stdout",
     "output_type": "stream",
     "text": [
      "(231778, 7)\n",
      "(91615, 4)\n",
      "(24, 13281)\n"
     ]
    },
    {
     "name": "stderr",
     "output_type": "stream",
     "text": [
      "/tmp/ipykernel_9904/2575003276.py:26: FutureWarning: The frame.append method is deprecated and will be removed from pandas in a future version. Use pandas.concat instead.\n",
      "  df_Total = df_Total.append(table_B)\n"
     ]
    },
    {
     "name": "stdout",
     "output_type": "stream",
     "text": [
      "(205897, 7)\n",
      "(81941, 4)\n",
      "(24, 12018)\n"
     ]
    },
    {
     "name": "stderr",
     "output_type": "stream",
     "text": [
      "/tmp/ipykernel_9904/2575003276.py:26: FutureWarning: The frame.append method is deprecated and will be removed from pandas in a future version. Use pandas.concat instead.\n",
      "  df_Total = df_Total.append(table_B)\n"
     ]
    },
    {
     "name": "stdout",
     "output_type": "stream",
     "text": [
      "(346384, 7)\n",
      "(135672, 4)\n",
      "(24, 18529)\n"
     ]
    },
    {
     "name": "stderr",
     "output_type": "stream",
     "text": [
      "/tmp/ipykernel_9904/2575003276.py:26: FutureWarning: The frame.append method is deprecated and will be removed from pandas in a future version. Use pandas.concat instead.\n",
      "  df_Total = df_Total.append(table_B)\n"
     ]
    },
    {
     "name": "stdout",
     "output_type": "stream",
     "text": [
      "(369661, 7)\n",
      "(143924, 4)\n",
      "(24, 19538)\n"
     ]
    },
    {
     "name": "stderr",
     "output_type": "stream",
     "text": [
      "/tmp/ipykernel_9904/2575003276.py:26: FutureWarning: The frame.append method is deprecated and will be removed from pandas in a future version. Use pandas.concat instead.\n",
      "  df_Total = df_Total.append(table_B)\n"
     ]
    },
    {
     "name": "stdout",
     "output_type": "stream",
     "text": [
      "(368511, 7)\n",
      "(143601, 4)\n",
      "(24, 19587)\n"
     ]
    },
    {
     "name": "stderr",
     "output_type": "stream",
     "text": [
      "/tmp/ipykernel_9904/2575003276.py:26: FutureWarning: The frame.append method is deprecated and will be removed from pandas in a future version. Use pandas.concat instead.\n",
      "  df_Total = df_Total.append(table_B)\n"
     ]
    },
    {
     "name": "stdout",
     "output_type": "stream",
     "text": [
      "(367371, 7)\n",
      "(143586, 4)\n",
      "(24, 19518)\n"
     ]
    },
    {
     "name": "stderr",
     "output_type": "stream",
     "text": [
      "/tmp/ipykernel_9904/2575003276.py:26: FutureWarning: The frame.append method is deprecated and will be removed from pandas in a future version. Use pandas.concat instead.\n",
      "  df_Total = df_Total.append(table_B)\n"
     ]
    },
    {
     "name": "stdout",
     "output_type": "stream",
     "text": [
      "(744, 29947)\n"
     ]
    }
   ],
   "source": [
    "reindex=filtrado_Data2.reset_index()\n",
    "\n",
    "for fecha in serieDia2.index:   \n",
    "    filtrar = reindex.loc[reindex.loc[:,'fecha'] == fecha]\n",
    "    print(filtrar.shape)\n",
    "    table_A = pd.pivot_table(filtrar, values=['viajes','origen','destino','fecha'], index=[\"periodo\",\"trayecto\"], aggfunc={'viajes':np.sum,'origen': 'first','destino': 'first','fecha': 'first'})\n",
    "    reindex2 = table_A.reset_index()\n",
    "    table_B = pd.pivot_table(reindex2, values=['viajes'], index=[\"periodo\"], columns=[\"trayecto\"], aggfunc={'viajes':'first'}, fill_value=0)\n",
    "    print(table_A.shape)\n",
    "    print(table_B.shape)\n",
    "    \n",
    "    if table_B.index.shape[0] != 24:\n",
    "        j = 0\n",
    "        for i in range(24):\n",
    "            if table_B.index[i] != (i+j):\n",
    "                print (reindex.fecha.iloc[0],i+j,\"origen sin registros!\")\n",
    "                table_B.loc[i+j] = 0\n",
    "                j += 1\n",
    "            if (i + j) == 23: break\n",
    "        table_B = table_B.sort_index() \n",
    "    \n",
    "    table_B[\"ds\"] = pd.date_range(filtrar.fecha.iloc[0], \"%s 23:00:00\" % (filtrar.fecha.iloc[0]), freq=\"H\")  #fecha.iloc[0] devuelve \"20200214\"-\"20200215\"... y la hora en formato 24h      \n",
    "    table_B = table_B.set_index(\"ds\") #Fija como indice la columna ds           \n",
    "    table_B = table_B.astype(np.float32)\n",
    "    \n",
    "    df_Total = df_Total.append(table_B)\n",
    "    df_Total = df_Total.fillna(0)       \n",
    "    #break\n",
    "print(df_Total.shape)"
   ]
  },
  {
   "cell_type": "code",
   "execution_count": 11,
   "id": "0b8c3170",
   "metadata": {},
   "outputs": [
    {
     "name": "stdout",
     "output_type": "stream",
     "text": [
      "(365796, 7)\n",
      "(142142, 4)\n",
      "(24, 19339)\n"
     ]
    },
    {
     "name": "stderr",
     "output_type": "stream",
     "text": [
      "/tmp/ipykernel_9904/1660391204.py:26: FutureWarning: The frame.append method is deprecated and will be removed from pandas in a future version. Use pandas.concat instead.\n",
      "  df_Total = df_Total.append(table_B)\n"
     ]
    },
    {
     "name": "stdout",
     "output_type": "stream",
     "text": [
      "(246528, 7)\n",
      "(97795, 4)\n",
      "(24, 14257)\n"
     ]
    },
    {
     "name": "stderr",
     "output_type": "stream",
     "text": [
      "/tmp/ipykernel_9904/1660391204.py:26: FutureWarning: The frame.append method is deprecated and will be removed from pandas in a future version. Use pandas.concat instead.\n",
      "  df_Total = df_Total.append(table_B)\n"
     ]
    },
    {
     "name": "stdout",
     "output_type": "stream",
     "text": [
      "(213348, 7)\n",
      "(84725, 4)\n",
      "(24, 12365)\n"
     ]
    },
    {
     "name": "stderr",
     "output_type": "stream",
     "text": [
      "/tmp/ipykernel_9904/1660391204.py:26: FutureWarning: The frame.append method is deprecated and will be removed from pandas in a future version. Use pandas.concat instead.\n",
      "  df_Total = df_Total.append(table_B)\n"
     ]
    },
    {
     "name": "stdout",
     "output_type": "stream",
     "text": [
      "(372957, 7)\n",
      "(144835, 4)\n",
      "(24, 19754)\n"
     ]
    },
    {
     "name": "stderr",
     "output_type": "stream",
     "text": [
      "/tmp/ipykernel_9904/1660391204.py:26: FutureWarning: The frame.append method is deprecated and will be removed from pandas in a future version. Use pandas.concat instead.\n",
      "  df_Total = df_Total.append(table_B)\n"
     ]
    },
    {
     "name": "stdout",
     "output_type": "stream",
     "text": [
      "(378569, 7)\n",
      "(147103, 4)\n",
      "(24, 19757)\n"
     ]
    },
    {
     "name": "stderr",
     "output_type": "stream",
     "text": [
      "/tmp/ipykernel_9904/1660391204.py:26: FutureWarning: The frame.append method is deprecated and will be removed from pandas in a future version. Use pandas.concat instead.\n",
      "  df_Total = df_Total.append(table_B)\n"
     ]
    },
    {
     "name": "stdout",
     "output_type": "stream",
     "text": [
      "(380328, 7)\n",
      "(147549, 4)\n",
      "(24, 19847)\n"
     ]
    },
    {
     "name": "stderr",
     "output_type": "stream",
     "text": [
      "/tmp/ipykernel_9904/1660391204.py:26: FutureWarning: The frame.append method is deprecated and will be removed from pandas in a future version. Use pandas.concat instead.\n",
      "  df_Total = df_Total.append(table_B)\n"
     ]
    },
    {
     "name": "stdout",
     "output_type": "stream",
     "text": [
      "(378834, 7)\n",
      "(147565, 4)\n",
      "(24, 19936)\n"
     ]
    },
    {
     "name": "stderr",
     "output_type": "stream",
     "text": [
      "/tmp/ipykernel_9904/1660391204.py:26: FutureWarning: The frame.append method is deprecated and will be removed from pandas in a future version. Use pandas.concat instead.\n",
      "  df_Total = df_Total.append(table_B)\n"
     ]
    },
    {
     "name": "stdout",
     "output_type": "stream",
     "text": [
      "(371665, 7)\n",
      "(144832, 4)\n",
      "(24, 19577)\n"
     ]
    },
    {
     "name": "stderr",
     "output_type": "stream",
     "text": [
      "/tmp/ipykernel_9904/1660391204.py:26: FutureWarning: The frame.append method is deprecated and will be removed from pandas in a future version. Use pandas.concat instead.\n",
      "  df_Total = df_Total.append(table_B)\n"
     ]
    },
    {
     "name": "stdout",
     "output_type": "stream",
     "text": [
      "(249936, 7)\n",
      "(99813, 4)\n",
      "(24, 14643)\n"
     ]
    },
    {
     "name": "stderr",
     "output_type": "stream",
     "text": [
      "/tmp/ipykernel_9904/1660391204.py:26: FutureWarning: The frame.append method is deprecated and will be removed from pandas in a future version. Use pandas.concat instead.\n",
      "  df_Total = df_Total.append(table_B)\n"
     ]
    },
    {
     "name": "stdout",
     "output_type": "stream",
     "text": [
      "(212587, 7)\n",
      "(84812, 4)\n",
      "(24, 12487)\n"
     ]
    },
    {
     "name": "stderr",
     "output_type": "stream",
     "text": [
      "/tmp/ipykernel_9904/1660391204.py:26: FutureWarning: The frame.append method is deprecated and will be removed from pandas in a future version. Use pandas.concat instead.\n",
      "  df_Total = df_Total.append(table_B)\n"
     ]
    },
    {
     "name": "stdout",
     "output_type": "stream",
     "text": [
      "(382721, 7)\n",
      "(148283, 4)\n",
      "(24, 20091)\n"
     ]
    },
    {
     "name": "stderr",
     "output_type": "stream",
     "text": [
      "/tmp/ipykernel_9904/1660391204.py:26: FutureWarning: The frame.append method is deprecated and will be removed from pandas in a future version. Use pandas.concat instead.\n",
      "  df_Total = df_Total.append(table_B)\n"
     ]
    },
    {
     "name": "stdout",
     "output_type": "stream",
     "text": [
      "(391713, 7)\n",
      "(151269, 4)\n",
      "(24, 20207)\n"
     ]
    },
    {
     "name": "stderr",
     "output_type": "stream",
     "text": [
      "/tmp/ipykernel_9904/1660391204.py:26: FutureWarning: The frame.append method is deprecated and will be removed from pandas in a future version. Use pandas.concat instead.\n",
      "  df_Total = df_Total.append(table_B)\n"
     ]
    },
    {
     "name": "stdout",
     "output_type": "stream",
     "text": [
      "(394491, 7)\n",
      "(152466, 4)\n",
      "(24, 20329)\n"
     ]
    },
    {
     "name": "stderr",
     "output_type": "stream",
     "text": [
      "/tmp/ipykernel_9904/1660391204.py:26: FutureWarning: The frame.append method is deprecated and will be removed from pandas in a future version. Use pandas.concat instead.\n",
      "  df_Total = df_Total.append(table_B)\n"
     ]
    },
    {
     "name": "stdout",
     "output_type": "stream",
     "text": [
      "(389285, 7)\n",
      "(150112, 4)\n",
      "(24, 20056)\n"
     ]
    },
    {
     "name": "stderr",
     "output_type": "stream",
     "text": [
      "/tmp/ipykernel_9904/1660391204.py:26: FutureWarning: The frame.append method is deprecated and will be removed from pandas in a future version. Use pandas.concat instead.\n",
      "  df_Total = df_Total.append(table_B)\n"
     ]
    },
    {
     "name": "stdout",
     "output_type": "stream",
     "text": [
      "(1080, 31192)\n"
     ]
    }
   ],
   "source": [
    "reindex=filtrado_Data3.reset_index()\n",
    "\n",
    "for fecha in serieDia3.index:   \n",
    "    filtrar = reindex.loc[reindex.loc[:,'fecha'] == fecha]\n",
    "    print(filtrar.shape)\n",
    "    table_A = pd.pivot_table(filtrar, values=['viajes','origen','destino','fecha'], index=[\"periodo\",\"trayecto\"], aggfunc={'viajes':np.sum,'origen': 'first','destino': 'first','fecha': 'first'})\n",
    "    reindex2 = table_A.reset_index()\n",
    "    table_B = pd.pivot_table(reindex2, values=['viajes'], index=[\"periodo\"], columns=[\"trayecto\"], aggfunc={'viajes':'first'}, fill_value=0)\n",
    "    print(table_A.shape)\n",
    "    print(table_B.shape)\n",
    "    \n",
    "    if table_B.index.shape[0] != 24:\n",
    "        j = 0\n",
    "        for i in range(24):\n",
    "            if table_B.index[i] != (i+j):\n",
    "                print (reindex.fecha.iloc[0],i+j,\"origen sin registros!\")\n",
    "                table_B.loc[i+j] = 0\n",
    "                j += 1\n",
    "            if (i + j) == 23: break\n",
    "        table_B = table_B.sort_index() \n",
    "    \n",
    "    table_B[\"ds\"] = pd.date_range(filtrar.fecha.iloc[0], \"%s 23:00:00\" % (filtrar.fecha.iloc[0]), freq=\"H\")  #fecha.iloc[0] devuelve \"20200214\"-\"20200215\"... y la hora en formato 24h      \n",
    "    table_B = table_B.set_index(\"ds\") #Fija como indice la columna ds           \n",
    "    table_B = table_B.astype(np.float32)\n",
    "    \n",
    "    df_Total = df_Total.append(table_B)\n",
    "    df_Total = df_Total.fillna(0)       \n",
    "    #break\n",
    "print(df_Total.shape)"
   ]
  },
  {
   "cell_type": "code",
   "execution_count": 12,
   "id": "110a8a20",
   "metadata": {},
   "outputs": [
    {
     "name": "stdout",
     "output_type": "stream",
     "text": [
      "(228764, 7)\n",
      "(92123, 4)\n",
      "(24, 14020)\n"
     ]
    },
    {
     "name": "stderr",
     "output_type": "stream",
     "text": [
      "/tmp/ipykernel_9904/4160912050.py:26: FutureWarning: The frame.append method is deprecated and will be removed from pandas in a future version. Use pandas.concat instead.\n",
      "  df_Total = df_Total.append(table_B)\n"
     ]
    },
    {
     "name": "stdout",
     "output_type": "stream",
     "text": [
      "(247725, 7)\n",
      "(96660, 4)\n",
      "(24, 14090)\n"
     ]
    },
    {
     "name": "stderr",
     "output_type": "stream",
     "text": [
      "/tmp/ipykernel_9904/4160912050.py:26: FutureWarning: The frame.append method is deprecated and will be removed from pandas in a future version. Use pandas.concat instead.\n",
      "  df_Total = df_Total.append(table_B)\n"
     ]
    },
    {
     "name": "stdout",
     "output_type": "stream",
     "text": [
      "(231267, 7)\n",
      "(89914, 4)\n",
      "(24, 12929)\n"
     ]
    },
    {
     "name": "stderr",
     "output_type": "stream",
     "text": [
      "/tmp/ipykernel_9904/4160912050.py:26: FutureWarning: The frame.append method is deprecated and will be removed from pandas in a future version. Use pandas.concat instead.\n",
      "  df_Total = df_Total.append(table_B)\n"
     ]
    },
    {
     "name": "stdout",
     "output_type": "stream",
     "text": [
      "(412757, 7)\n",
      "(156030, 4)\n",
      "(24, 20329)\n"
     ]
    },
    {
     "name": "stderr",
     "output_type": "stream",
     "text": [
      "/tmp/ipykernel_9904/4160912050.py:26: FutureWarning: The frame.append method is deprecated and will be removed from pandas in a future version. Use pandas.concat instead.\n",
      "  df_Total = df_Total.append(table_B)\n"
     ]
    },
    {
     "name": "stdout",
     "output_type": "stream",
     "text": [
      "(427094, 7)\n",
      "(160031, 4)\n",
      "(24, 20626)\n"
     ]
    },
    {
     "name": "stderr",
     "output_type": "stream",
     "text": [
      "/tmp/ipykernel_9904/4160912050.py:26: FutureWarning: The frame.append method is deprecated and will be removed from pandas in a future version. Use pandas.concat instead.\n",
      "  df_Total = df_Total.append(table_B)\n"
     ]
    },
    {
     "name": "stdout",
     "output_type": "stream",
     "text": [
      "(389511, 7)\n",
      "(150244, 4)\n",
      "(24, 19876)\n"
     ]
    },
    {
     "name": "stderr",
     "output_type": "stream",
     "text": [
      "/tmp/ipykernel_9904/4160912050.py:26: FutureWarning: The frame.append method is deprecated and will be removed from pandas in a future version. Use pandas.concat instead.\n",
      "  df_Total = df_Total.append(table_B)\n"
     ]
    },
    {
     "name": "stdout",
     "output_type": "stream",
     "text": [
      "(419042, 7)\n",
      "(158437, 4)\n",
      "(24, 20545)\n"
     ]
    },
    {
     "name": "stderr",
     "output_type": "stream",
     "text": [
      "/tmp/ipykernel_9904/4160912050.py:26: FutureWarning: The frame.append method is deprecated and will be removed from pandas in a future version. Use pandas.concat instead.\n",
      "  df_Total = df_Total.append(table_B)\n"
     ]
    },
    {
     "name": "stdout",
     "output_type": "stream",
     "text": [
      "(412004, 7)\n",
      "(155703, 4)\n",
      "(24, 20459)\n"
     ]
    },
    {
     "name": "stderr",
     "output_type": "stream",
     "text": [
      "/tmp/ipykernel_9904/4160912050.py:26: FutureWarning: The frame.append method is deprecated and will be removed from pandas in a future version. Use pandas.concat instead.\n",
      "  df_Total = df_Total.append(table_B)\n"
     ]
    },
    {
     "name": "stdout",
     "output_type": "stream",
     "text": [
      "(274446, 7)\n",
      "(107308, 4)\n",
      "(24, 15358)\n"
     ]
    },
    {
     "name": "stderr",
     "output_type": "stream",
     "text": [
      "/tmp/ipykernel_9904/4160912050.py:26: FutureWarning: The frame.append method is deprecated and will be removed from pandas in a future version. Use pandas.concat instead.\n",
      "  df_Total = df_Total.append(table_B)\n"
     ]
    },
    {
     "name": "stdout",
     "output_type": "stream",
     "text": [
      "(228725, 7)\n",
      "(90397, 4)\n",
      "(24, 13220)\n"
     ]
    },
    {
     "name": "stderr",
     "output_type": "stream",
     "text": [
      "/tmp/ipykernel_9904/4160912050.py:26: FutureWarning: The frame.append method is deprecated and will be removed from pandas in a future version. Use pandas.concat instead.\n",
      "  df_Total = df_Total.append(table_B)\n"
     ]
    },
    {
     "name": "stdout",
     "output_type": "stream",
     "text": [
      "(430879, 7)\n",
      "(161450, 4)\n",
      "(24, 20817)\n"
     ]
    },
    {
     "name": "stderr",
     "output_type": "stream",
     "text": [
      "/tmp/ipykernel_9904/4160912050.py:26: FutureWarning: The frame.append method is deprecated and will be removed from pandas in a future version. Use pandas.concat instead.\n",
      "  df_Total = df_Total.append(table_B)\n"
     ]
    },
    {
     "name": "stdout",
     "output_type": "stream",
     "text": [
      "(427912, 7)\n",
      "(162016, 4)\n",
      "(24, 20647)\n"
     ]
    },
    {
     "name": "stderr",
     "output_type": "stream",
     "text": [
      "/tmp/ipykernel_9904/4160912050.py:26: FutureWarning: The frame.append method is deprecated and will be removed from pandas in a future version. Use pandas.concat instead.\n",
      "  df_Total = df_Total.append(table_B)\n"
     ]
    },
    {
     "name": "stdout",
     "output_type": "stream",
     "text": [
      "(424009, 7)\n",
      "(160609, 4)\n",
      "(24, 20545)\n"
     ]
    },
    {
     "name": "stderr",
     "output_type": "stream",
     "text": [
      "/tmp/ipykernel_9904/4160912050.py:26: FutureWarning: The frame.append method is deprecated and will be removed from pandas in a future version. Use pandas.concat instead.\n",
      "  df_Total = df_Total.append(table_B)\n"
     ]
    },
    {
     "name": "stdout",
     "output_type": "stream",
     "text": [
      "(414379, 7)\n",
      "(157643, 4)\n",
      "(24, 20365)\n"
     ]
    },
    {
     "name": "stderr",
     "output_type": "stream",
     "text": [
      "/tmp/ipykernel_9904/4160912050.py:26: FutureWarning: The frame.append method is deprecated and will be removed from pandas in a future version. Use pandas.concat instead.\n",
      "  df_Total = df_Total.append(table_B)\n"
     ]
    },
    {
     "name": "stdout",
     "output_type": "stream",
     "text": [
      "(325546, 7)\n",
      "(129802, 4)\n",
      "(24, 18536)\n"
     ]
    },
    {
     "name": "stderr",
     "output_type": "stream",
     "text": [
      "/tmp/ipykernel_9904/4160912050.py:26: FutureWarning: The frame.append method is deprecated and will be removed from pandas in a future version. Use pandas.concat instead.\n",
      "  df_Total = df_Total.append(table_B)\n"
     ]
    },
    {
     "name": "stdout",
     "output_type": "stream",
     "text": [
      "(278548, 7)\n",
      "(108532, 4)\n",
      "(24, 15441)\n"
     ]
    },
    {
     "name": "stderr",
     "output_type": "stream",
     "text": [
      "/tmp/ipykernel_9904/4160912050.py:26: FutureWarning: The frame.append method is deprecated and will be removed from pandas in a future version. Use pandas.concat instead.\n",
      "  df_Total = df_Total.append(table_B)\n"
     ]
    },
    {
     "name": "stdout",
     "output_type": "stream",
     "text": [
      "(1464, 32052)\n"
     ]
    }
   ],
   "source": [
    "reindex=filtrado_Data4.reset_index()\n",
    "\n",
    "for fecha in serieDia4.index:   \n",
    "    filtrar = reindex.loc[reindex.loc[:,'fecha'] == fecha]\n",
    "    print(filtrar.shape)\n",
    "    table_A = pd.pivot_table(filtrar, values=['viajes','origen','destino','fecha'], index=[\"periodo\",\"trayecto\"], aggfunc={'viajes':np.sum,'origen': 'first','destino': 'first','fecha': 'first'})\n",
    "    reindex2 = table_A.reset_index()\n",
    "    table_B = pd.pivot_table(reindex2, values=['viajes'], index=[\"periodo\"], columns=[\"trayecto\"], aggfunc={'viajes':'first'}, fill_value=0)\n",
    "    print(table_A.shape)\n",
    "    print(table_B.shape)\n",
    "    \n",
    "    if table_B.index.shape[0] != 24:\n",
    "        j = 0\n",
    "        for i in range(24):\n",
    "            if table_B.index[i] != (i+j):\n",
    "                print (reindex.fecha.iloc[0],i+j,\"origen sin registros!\")\n",
    "                table_B.loc[i+j] = 0\n",
    "                j += 1\n",
    "            if (i + j) == 23: break\n",
    "        table_B = table_B.sort_index() \n",
    "    \n",
    "    table_B[\"ds\"] = pd.date_range(filtrar.fecha.iloc[0], \"%s 23:00:00\" % (filtrar.fecha.iloc[0]), freq=\"H\")  #fecha.iloc[0] devuelve \"20200214\"-\"20200215\"... y la hora en formato 24h      \n",
    "    table_B = table_B.set_index(\"ds\") #Fija como indice la columna ds           \n",
    "    table_B = table_B.astype(np.float32)\n",
    "    \n",
    "    df_Total = df_Total.append(table_B)\n",
    "    df_Total = df_Total.fillna(0)       \n",
    "    #break\n",
    "print(df_Total.shape)"
   ]
  },
  {
   "cell_type": "code",
   "execution_count": 13,
   "id": "d2d908d0",
   "metadata": {},
   "outputs": [
    {
     "name": "stdout",
     "output_type": "stream",
     "text": [
      "(240277, 7)\n",
      "(93917, 4)\n",
      "(24, 13583)\n"
     ]
    },
    {
     "name": "stderr",
     "output_type": "stream",
     "text": [
      "/tmp/ipykernel_9904/2790427357.py:26: FutureWarning: The frame.append method is deprecated and will be removed from pandas in a future version. Use pandas.concat instead.\n",
      "  df_Total = df_Total.append(table_B)\n"
     ]
    },
    {
     "name": "stdout",
     "output_type": "stream",
     "text": [
      "(458734, 7)\n",
      "(169047, 4)\n",
      "(24, 21293)\n"
     ]
    },
    {
     "name": "stderr",
     "output_type": "stream",
     "text": [
      "/tmp/ipykernel_9904/2790427357.py:26: FutureWarning: The frame.append method is deprecated and will be removed from pandas in a future version. Use pandas.concat instead.\n",
      "  df_Total = df_Total.append(table_B)\n"
     ]
    },
    {
     "name": "stdout",
     "output_type": "stream",
     "text": [
      "(472118, 7)\n",
      "(172553, 4)\n",
      "(24, 21459)\n"
     ]
    },
    {
     "name": "stderr",
     "output_type": "stream",
     "text": [
      "/tmp/ipykernel_9904/2790427357.py:26: FutureWarning: The frame.append method is deprecated and will be removed from pandas in a future version. Use pandas.concat instead.\n",
      "  df_Total = df_Total.append(table_B)\n"
     ]
    },
    {
     "name": "stdout",
     "output_type": "stream",
     "text": [
      "(476898, 7)\n",
      "(173705, 4)\n",
      "(24, 21507)\n"
     ]
    },
    {
     "name": "stderr",
     "output_type": "stream",
     "text": [
      "/tmp/ipykernel_9904/2790427357.py:26: FutureWarning: The frame.append method is deprecated and will be removed from pandas in a future version. Use pandas.concat instead.\n",
      "  df_Total = df_Total.append(table_B)\n"
     ]
    },
    {
     "name": "stdout",
     "output_type": "stream",
     "text": [
      "(477874, 7)\n",
      "(174487, 4)\n",
      "(24, 21552)\n"
     ]
    },
    {
     "name": "stderr",
     "output_type": "stream",
     "text": [
      "/tmp/ipykernel_9904/2790427357.py:26: FutureWarning: The frame.append method is deprecated and will be removed from pandas in a future version. Use pandas.concat instead.\n",
      "  df_Total = df_Total.append(table_B)\n"
     ]
    },
    {
     "name": "stdout",
     "output_type": "stream",
     "text": [
      "(472175, 7)\n",
      "(171503, 4)\n",
      "(24, 21305)\n"
     ]
    },
    {
     "name": "stderr",
     "output_type": "stream",
     "text": [
      "/tmp/ipykernel_9904/2790427357.py:26: FutureWarning: The frame.append method is deprecated and will be removed from pandas in a future version. Use pandas.concat instead.\n",
      "  df_Total = df_Total.append(table_B)\n"
     ]
    },
    {
     "name": "stdout",
     "output_type": "stream",
     "text": [
      "(317594, 7)\n",
      "(121407, 4)\n",
      "(24, 16735)\n"
     ]
    },
    {
     "name": "stderr",
     "output_type": "stream",
     "text": [
      "/tmp/ipykernel_9904/2790427357.py:26: FutureWarning: The frame.append method is deprecated and will be removed from pandas in a future version. Use pandas.concat instead.\n",
      "  df_Total = df_Total.append(table_B)\n"
     ]
    },
    {
     "name": "stdout",
     "output_type": "stream",
     "text": [
      "(263996, 7)\n",
      "(102657, 4)\n",
      "(24, 14711)\n"
     ]
    },
    {
     "name": "stderr",
     "output_type": "stream",
     "text": [
      "/tmp/ipykernel_9904/2790427357.py:26: FutureWarning: The frame.append method is deprecated and will be removed from pandas in a future version. Use pandas.concat instead.\n",
      "  df_Total = df_Total.append(table_B)\n"
     ]
    },
    {
     "name": "stdout",
     "output_type": "stream",
     "text": [
      "(539203, 7)\n",
      "(194390, 4)\n",
      "(24, 22957)\n"
     ]
    },
    {
     "name": "stderr",
     "output_type": "stream",
     "text": [
      "/tmp/ipykernel_9904/2790427357.py:26: FutureWarning: The frame.append method is deprecated and will be removed from pandas in a future version. Use pandas.concat instead.\n",
      "  df_Total = df_Total.append(table_B)\n"
     ]
    },
    {
     "name": "stdout",
     "output_type": "stream",
     "text": [
      "(546023, 7)\n",
      "(195260, 4)\n",
      "(24, 22797)\n"
     ]
    },
    {
     "name": "stderr",
     "output_type": "stream",
     "text": [
      "/tmp/ipykernel_9904/2790427357.py:26: FutureWarning: The frame.append method is deprecated and will be removed from pandas in a future version. Use pandas.concat instead.\n",
      "  df_Total = df_Total.append(table_B)\n"
     ]
    },
    {
     "name": "stdout",
     "output_type": "stream",
     "text": [
      "(566397, 7)\n",
      "(201019, 4)\n",
      "(24, 23231)\n"
     ]
    },
    {
     "name": "stderr",
     "output_type": "stream",
     "text": [
      "/tmp/ipykernel_9904/2790427357.py:26: FutureWarning: The frame.append method is deprecated and will be removed from pandas in a future version. Use pandas.concat instead.\n",
      "  df_Total = df_Total.append(table_B)\n"
     ]
    },
    {
     "name": "stdout",
     "output_type": "stream",
     "text": [
      "(572063, 7)\n",
      "(203481, 4)\n",
      "(24, 23218)\n"
     ]
    },
    {
     "name": "stderr",
     "output_type": "stream",
     "text": [
      "/tmp/ipykernel_9904/2790427357.py:26: FutureWarning: The frame.append method is deprecated and will be removed from pandas in a future version. Use pandas.concat instead.\n",
      "  df_Total = df_Total.append(table_B)\n"
     ]
    },
    {
     "name": "stdout",
     "output_type": "stream",
     "text": [
      "(568944, 7)\n",
      "(202612, 4)\n",
      "(24, 23487)\n"
     ]
    },
    {
     "name": "stderr",
     "output_type": "stream",
     "text": [
      "/tmp/ipykernel_9904/2790427357.py:26: FutureWarning: The frame.append method is deprecated and will be removed from pandas in a future version. Use pandas.concat instead.\n",
      "  df_Total = df_Total.append(table_B)\n"
     ]
    },
    {
     "name": "stdout",
     "output_type": "stream",
     "text": [
      "(464533, 7)\n",
      "(184285, 4)\n",
      "(24, 22736)\n"
     ]
    },
    {
     "name": "stderr",
     "output_type": "stream",
     "text": [
      "/tmp/ipykernel_9904/2790427357.py:26: FutureWarning: The frame.append method is deprecated and will be removed from pandas in a future version. Use pandas.concat instead.\n",
      "  df_Total = df_Total.append(table_B)\n"
     ]
    },
    {
     "name": "stdout",
     "output_type": "stream",
     "text": [
      "(384784, 7)\n",
      "(160258, 4)\n",
      "(24, 21183)\n"
     ]
    },
    {
     "name": "stderr",
     "output_type": "stream",
     "text": [
      "/tmp/ipykernel_9904/2790427357.py:26: FutureWarning: The frame.append method is deprecated and will be removed from pandas in a future version. Use pandas.concat instead.\n",
      "  df_Total = df_Total.append(table_B)\n"
     ]
    },
    {
     "name": "stdout",
     "output_type": "stream",
     "text": [
      "(1824, 32971)\n",
      "(32970,)\n"
     ]
    }
   ],
   "source": [
    "reindex=filtrado_Data5.reset_index()\n",
    "\n",
    "for fecha in serieDia5.index:   \n",
    "    filtrar = reindex.loc[reindex.loc[:,'fecha'] == fecha]\n",
    "    print(filtrar.shape)\n",
    "    table_A = pd.pivot_table(filtrar, values=['viajes','origen','destino','fecha'], index=[\"periodo\",\"trayecto\"], aggfunc={'viajes':np.sum,'origen': 'first','destino': 'first','fecha': 'first'})\n",
    "    reindex2 = table_A.reset_index()\n",
    "    table_B = pd.pivot_table(reindex2, values=['viajes'], index=[\"periodo\"], columns=[\"trayecto\"], aggfunc={'viajes':'first'}, fill_value=0)\n",
    "    print(table_A.shape)\n",
    "    print(table_B.shape)\n",
    "    \n",
    "    if table_B.index.shape[0] != 24:\n",
    "        j = 0\n",
    "        for i in range(24):\n",
    "            if table_B.index[i] != (i+j):\n",
    "                print (reindex.fecha.iloc[0],i+j,\"origen sin registros!\")\n",
    "                table_B.loc[i+j] = 0\n",
    "                j += 1\n",
    "            if (i + j) == 23: break\n",
    "        table_B = table_B.sort_index() \n",
    "    \n",
    "    table_B[\"ds\"] = pd.date_range(filtrar.fecha.iloc[0], \"%s 23:00:00\" % (filtrar.fecha.iloc[0]), freq=\"H\")  #fecha.iloc[0] devuelve \"20200214\"-\"20200215\"... y la hora en formato 24h      \n",
    "    table_B = table_B.set_index(\"ds\") #Fija como indice la columna ds       \n",
    "    table_B = table_B.astype(np.float32)\n",
    "    \n",
    "    df_Total = df_Total.append(table_B)    \n",
    "    df_Total = df_Total.fillna(0)\n",
    "    #break\n",
    "\n",
    "df_Total.columns =[str(s2) for (s1,s2) in df_Total.columns.tolist()]\n",
    "df_Final = df_Total.reset_index()\n",
    "\n",
    "columns_names = df_Total.columns\n",
    "with open(\"columns_names_confinamiento1.pickle\", \"wb\") as file:\n",
    "    pickle.dump(columns_names,file)\n",
    "\n",
    "\n",
    "print(df_Final.shape)\n",
    "print(columns_names.shape)"
   ]
  },
  {
   "cell_type": "code",
   "execution_count": null,
   "id": "93b184a9",
   "metadata": {},
   "outputs": [],
   "source": [
    "#df_Final.iloc[0:72,56:57000]"
   ]
  },
  {
   "cell_type": "code",
   "execution_count": null,
   "id": "c9620741",
   "metadata": {},
   "outputs": [],
   "source": [
    "#hola = reindex2.loc[reindex2.loc[:,'trayecto'] == '19024-19046_AM']\n",
    "#hola.head(25)"
   ]
  },
  {
   "cell_type": "code",
   "execution_count": null,
   "id": "78c8bac6",
   "metadata": {},
   "outputs": [],
   "source": [
    "#filtrar2 = filtrar.loc[filtrar.loc[:,'periodo'] == 0]\n",
    "#filtrar2.iloc[0:24,:]"
   ]
  },
  {
   "cell_type": "code",
   "execution_count": 14,
   "id": "d4593e31",
   "metadata": {},
   "outputs": [],
   "source": [
    "df_Final.to_csv(\"Trayectos_Periodo_Confinamiento1.csv\")"
   ]
  }
 ],
 "metadata": {
  "kernelspec": {
   "display_name": "Python 3 (ipykernel)",
   "language": "python",
   "name": "python3"
  },
  "language_info": {
   "codemirror_mode": {
    "name": "ipython",
    "version": 3
   },
   "file_extension": ".py",
   "mimetype": "text/x-python",
   "name": "python",
   "nbconvert_exporter": "python",
   "pygments_lexer": "ipython3",
   "version": "3.9.7"
  }
 },
 "nbformat": 4,
 "nbformat_minor": 5
}
