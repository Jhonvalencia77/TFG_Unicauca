{
 "cells": [
  {
   "cell_type": "code",
   "execution_count": 1,
   "id": "2f9eb8b4",
   "metadata": {},
   "outputs": [],
   "source": [
    "import pandas as pd\n",
    "import matplotlib.pyplot as plt\n",
    "import seaborn as sns\n",
    "import numpy as np \n",
    "from scipy import stats\n",
    "import plotly.express as px"
   ]
  },
  {
   "cell_type": "markdown",
   "id": "d391cc45",
   "metadata": {},
   "source": [
    "# Se cargan los datos y se visualiza la estructura"
   ]
  },
  {
   "cell_type": "code",
   "execution_count": 2,
   "id": "7b4996b3",
   "metadata": {},
   "outputs": [],
   "source": [
    "df = pd.read_csv(\"/home/jonathan/tesis/Data_Temperatura_Lluvia/2020_Accidentalidad.csv\",sep=';')"
   ]
  },
  {
   "cell_type": "code",
   "execution_count": 3,
   "id": "a23d0d80",
   "metadata": {
    "scrolled": true
   },
   "outputs": [
    {
     "data": {
      "text/html": [
       "<div>\n",
       "<style scoped>\n",
       "    .dataframe tbody tr th:only-of-type {\n",
       "        vertical-align: middle;\n",
       "    }\n",
       "\n",
       "    .dataframe tbody tr th {\n",
       "        vertical-align: top;\n",
       "    }\n",
       "\n",
       "    .dataframe thead th {\n",
       "        text-align: right;\n",
       "    }\n",
       "</style>\n",
       "<table border=\"1\" class=\"dataframe\">\n",
       "  <thead>\n",
       "    <tr style=\"text-align: right;\">\n",
       "      <th></th>\n",
       "      <th>num_expediente</th>\n",
       "      <th>fecha</th>\n",
       "      <th>hora</th>\n",
       "      <th>localizacion</th>\n",
       "      <th>numero</th>\n",
       "      <th>cod_distrito</th>\n",
       "      <th>distrito</th>\n",
       "      <th>tipo_accidente</th>\n",
       "      <th>estado_meteorológico</th>\n",
       "      <th>tipo_vehiculo</th>\n",
       "      <th>tipo_persona</th>\n",
       "      <th>rango_edad</th>\n",
       "      <th>sexo</th>\n",
       "      <th>cod_lesividad</th>\n",
       "      <th>lesividad</th>\n",
       "      <th>coordenada_x_utm</th>\n",
       "      <th>coordenada_y_utm</th>\n",
       "      <th>positiva_alcohol</th>\n",
       "      <th>positiva_droga</th>\n",
       "    </tr>\n",
       "  </thead>\n",
       "  <tbody>\n",
       "    <tr>\n",
       "      <th>0</th>\n",
       "      <td>2019S040008</td>\n",
       "      <td>07/09/2020</td>\n",
       "      <td>23:00:00</td>\n",
       "      <td>CALL. SAN MAXIMILIANO, 38</td>\n",
       "      <td>38</td>\n",
       "      <td>15.0</td>\n",
       "      <td>CIUDAD LINEAL</td>\n",
       "      <td>Choque contra obstáculo fijo</td>\n",
       "      <td>Despejado</td>\n",
       "      <td>Turismo</td>\n",
       "      <td>Conductor</td>\n",
       "      <td>De 21 a 24 años</td>\n",
       "      <td>Hombre</td>\n",
       "      <td>NaN</td>\n",
       "      <td>NaN</td>\n",
       "      <td>444578,153</td>\n",
       "      <td>4475148,102</td>\n",
       "      <td>N</td>\n",
       "      <td>NaN</td>\n",
       "    </tr>\n",
       "    <tr>\n",
       "      <th>1</th>\n",
       "      <td>2019S040008</td>\n",
       "      <td>07/09/2020</td>\n",
       "      <td>23:00:00</td>\n",
       "      <td>CALL. SAN MAXIMILIANO, 38</td>\n",
       "      <td>38</td>\n",
       "      <td>15.0</td>\n",
       "      <td>CIUDAD LINEAL</td>\n",
       "      <td>Choque contra obstáculo fijo</td>\n",
       "      <td>Despejado</td>\n",
       "      <td>VMU eléctrico</td>\n",
       "      <td>Conductor</td>\n",
       "      <td>De 25 a 29 años</td>\n",
       "      <td>Mujer</td>\n",
       "      <td>NaN</td>\n",
       "      <td>NaN</td>\n",
       "      <td>444578,153</td>\n",
       "      <td>4475148,102</td>\n",
       "      <td>N</td>\n",
       "      <td>NaN</td>\n",
       "    </tr>\n",
       "    <tr>\n",
       "      <th>2</th>\n",
       "      <td>2020S000001</td>\n",
       "      <td>01/01/2020</td>\n",
       "      <td>1:15:00</td>\n",
       "      <td>AVDA. CANILLEJAS A VICALVARO / CALL. SILFIDE</td>\n",
       "      <td>1</td>\n",
       "      <td>20.0</td>\n",
       "      <td>SAN BLAS-CANILLEJAS</td>\n",
       "      <td>Colisión fronto-lateral</td>\n",
       "      <td>NaN</td>\n",
       "      <td>Turismo</td>\n",
       "      <td>Conductor</td>\n",
       "      <td>De 18 a 20 años</td>\n",
       "      <td>Hombre</td>\n",
       "      <td>NaN</td>\n",
       "      <td>NaN</td>\n",
       "      <td>447894,521</td>\n",
       "      <td>4476691,236</td>\n",
       "      <td>N</td>\n",
       "      <td>NaN</td>\n",
       "    </tr>\n",
       "    <tr>\n",
       "      <th>3</th>\n",
       "      <td>2020S000001</td>\n",
       "      <td>01/01/2020</td>\n",
       "      <td>1:15:00</td>\n",
       "      <td>AVDA. CANILLEJAS A VICALVARO / CALL. SILFIDE</td>\n",
       "      <td>1</td>\n",
       "      <td>20.0</td>\n",
       "      <td>SAN BLAS-CANILLEJAS</td>\n",
       "      <td>Colisión fronto-lateral</td>\n",
       "      <td>NaN</td>\n",
       "      <td>Turismo</td>\n",
       "      <td>Conductor</td>\n",
       "      <td>De 30 a 34 años</td>\n",
       "      <td>Hombre</td>\n",
       "      <td>NaN</td>\n",
       "      <td>NaN</td>\n",
       "      <td>447894,521</td>\n",
       "      <td>4476691,236</td>\n",
       "      <td>S</td>\n",
       "      <td>NaN</td>\n",
       "    </tr>\n",
       "    <tr>\n",
       "      <th>4</th>\n",
       "      <td>2020S000002</td>\n",
       "      <td>01/01/2020</td>\n",
       "      <td>1:20:00</td>\n",
       "      <td>CALL. SILVANO, 31</td>\n",
       "      <td>31</td>\n",
       "      <td>16.0</td>\n",
       "      <td>HORTALEZA</td>\n",
       "      <td>Choque contra obstáculo fijo</td>\n",
       "      <td>Despejado</td>\n",
       "      <td>Turismo</td>\n",
       "      <td>Conductor</td>\n",
       "      <td>De 21 a 24 años</td>\n",
       "      <td>Hombre</td>\n",
       "      <td>NaN</td>\n",
       "      <td>NaN</td>\n",
       "      <td>445094,901</td>\n",
       "      <td>4478370,057</td>\n",
       "      <td>N</td>\n",
       "      <td>NaN</td>\n",
       "    </tr>\n",
       "  </tbody>\n",
       "</table>\n",
       "</div>"
      ],
      "text/plain": [
       "  num_expediente       fecha      hora  \\\n",
       "0    2019S040008  07/09/2020  23:00:00   \n",
       "1    2019S040008  07/09/2020  23:00:00   \n",
       "2    2020S000001  01/01/2020   1:15:00   \n",
       "3    2020S000001  01/01/2020   1:15:00   \n",
       "4    2020S000002  01/01/2020   1:20:00   \n",
       "\n",
       "                                   localizacion numero  cod_distrito  \\\n",
       "0                     CALL. SAN MAXIMILIANO, 38     38          15.0   \n",
       "1                     CALL. SAN MAXIMILIANO, 38     38          15.0   \n",
       "2  AVDA. CANILLEJAS A VICALVARO / CALL. SILFIDE      1          20.0   \n",
       "3  AVDA. CANILLEJAS A VICALVARO / CALL. SILFIDE      1          20.0   \n",
       "4                             CALL. SILVANO, 31     31          16.0   \n",
       "\n",
       "              distrito                tipo_accidente estado_meteorológico  \\\n",
       "0        CIUDAD LINEAL  Choque contra obstáculo fijo            Despejado   \n",
       "1        CIUDAD LINEAL  Choque contra obstáculo fijo            Despejado   \n",
       "2  SAN BLAS-CANILLEJAS       Colisión fronto-lateral                  NaN   \n",
       "3  SAN BLAS-CANILLEJAS       Colisión fronto-lateral                  NaN   \n",
       "4            HORTALEZA  Choque contra obstáculo fijo            Despejado   \n",
       "\n",
       "   tipo_vehiculo tipo_persona       rango_edad    sexo  cod_lesividad  \\\n",
       "0        Turismo    Conductor  De 21 a 24 años  Hombre            NaN   \n",
       "1  VMU eléctrico    Conductor  De 25 a 29 años   Mujer            NaN   \n",
       "2        Turismo    Conductor  De 18 a 20 años  Hombre            NaN   \n",
       "3        Turismo    Conductor  De 30 a 34 años  Hombre            NaN   \n",
       "4        Turismo    Conductor  De 21 a 24 años  Hombre            NaN   \n",
       "\n",
       "  lesividad coordenada_x_utm coordenada_y_utm positiva_alcohol  positiva_droga  \n",
       "0       NaN       444578,153      4475148,102                N             NaN  \n",
       "1       NaN       444578,153      4475148,102                N             NaN  \n",
       "2       NaN       447894,521      4476691,236                N             NaN  \n",
       "3       NaN       447894,521      4476691,236                S             NaN  \n",
       "4       NaN       445094,901      4478370,057                N             NaN  "
      ]
     },
     "execution_count": 3,
     "metadata": {},
     "output_type": "execute_result"
    }
   ],
   "source": [
    "df.head()"
   ]
  },
  {
   "cell_type": "code",
   "execution_count": 4,
   "id": "328398f3",
   "metadata": {},
   "outputs": [
    {
     "name": "stdout",
     "output_type": "stream",
     "text": [
      "Dimensión:\n",
      "(32433, 19)\n",
      " \n",
      "num_expediente           object\n",
      "fecha                    object\n",
      "hora                     object\n",
      "localizacion             object\n",
      "numero                   object\n",
      "cod_distrito            float64\n",
      "distrito                 object\n",
      "tipo_accidente           object\n",
      "estado_meteorológico     object\n",
      "tipo_vehiculo            object\n",
      "tipo_persona             object\n",
      "rango_edad               object\n",
      "sexo                     object\n",
      "cod_lesividad           float64\n",
      "lesividad                object\n",
      "coordenada_x_utm         object\n",
      "coordenada_y_utm         object\n",
      "positiva_alcohol         object\n",
      "positiva_droga          float64\n",
      "dtype: object\n"
     ]
    }
   ],
   "source": [
    "dimension = df.shape\n",
    "tipos_de_datos = df.dtypes\n",
    "\n",
    "print(\"Dimensión:\")\n",
    "print(dimension)\n",
    "print(\" \")\n",
    "print(tipos_de_datos)"
   ]
  },
  {
   "cell_type": "markdown",
   "id": "c2afcca6",
   "metadata": {},
   "source": [
    "# Se verifica la cantidad de datos por categoria"
   ]
  },
  {
   "cell_type": "code",
   "execution_count": 5,
   "id": "c1c3a97d",
   "metadata": {},
   "outputs": [
    {
     "data": {
      "text/plain": [
       "13.0    2635\n",
       "4.0     2486\n",
       "15.0    2127\n",
       "5.0     2084\n",
       "11.0    2076\n",
       "8.0     1786\n",
       "20.0    1778\n",
       "9.0     1756\n",
       "6.0     1598\n",
       "3.0     1530\n",
       "1.0     1518\n",
       "16.0    1508\n",
       "10.0    1505\n",
       "7.0     1491\n",
       "2.0     1351\n",
       "12.0    1217\n",
       "18.0     976\n",
       "17.0     971\n",
       "14.0     961\n",
       "21.0     545\n",
       "19.0     532\n",
       "Name: cod_distrito, dtype: int64"
      ]
     },
     "execution_count": 5,
     "metadata": {},
     "output_type": "execute_result"
    }
   ],
   "source": [
    "df['cod_distrito'].value_counts()"
   ]
  },
  {
   "cell_type": "code",
   "execution_count": 6,
   "id": "4904f080",
   "metadata": {},
   "outputs": [
    {
     "data": {
      "text/plain": [
       "PUENTE DE VALLECAS     2635\n",
       "SALAMANCA              2486\n",
       "CIUDAD LINEAL          2127\n",
       "CHAMARTÍN              2084\n",
       "CARABANCHEL            2076\n",
       "FUENCARRAL-EL PARDO    1786\n",
       "SAN BLAS-CANILLEJAS    1778\n",
       "MONCLOA-ARAVACA        1756\n",
       "TETUÁN                 1598\n",
       "RETIRO                 1530\n",
       "CENTRO                 1518\n",
       "HORTALEZA              1508\n",
       "LATINA                 1505\n",
       "CHAMBERÍ               1491\n",
       "ARGANZUELA             1351\n",
       "USERA                  1217\n",
       "VILLA DE VALLECAS       976\n",
       "VILLAVERDE              971\n",
       "MORATALAZ               961\n",
       "BARAJAS                 545\n",
       "VICÁLVARO               532\n",
       "Name: distrito, dtype: int64"
      ]
     },
     "execution_count": 6,
     "metadata": {},
     "output_type": "execute_result"
    }
   ],
   "source": [
    "df['distrito'].value_counts()"
   ]
  },
  {
   "cell_type": "code",
   "execution_count": 7,
   "id": "65df1aa1",
   "metadata": {},
   "outputs": [
    {
     "data": {
      "text/plain": [
       "Colisión fronto-lateral         8085\n",
       "Alcance                         7294\n",
       "Choque contra obstáculo fijo    4667\n",
       "Colisión lateral                4386\n",
       "Colisión múltiple               2231\n",
       "Atropello a persona             2129\n",
       "Caída                           2118\n",
       "Colisión frontal                 899\n",
       "Otro                             251\n",
       "Solo salida de la vía            151\n",
       "Vuelco                           145\n",
       "Atropello a animal                75\n",
       "Despeñamiento                      2\n",
       "Name: tipo_accidente, dtype: int64"
      ]
     },
     "execution_count": 7,
     "metadata": {},
     "output_type": "execute_result"
    }
   ],
   "source": [
    "df['tipo_accidente'].value_counts()"
   ]
  },
  {
   "cell_type": "markdown",
   "id": "de006f84",
   "metadata": {},
   "source": [
    "# Verificamos valores nulos"
   ]
  },
  {
   "cell_type": "code",
   "execution_count": 8,
   "id": "6bf1615e",
   "metadata": {},
   "outputs": [
    {
     "data": {
      "image/png": "[encoded data removed]",
      "text/plain": [
       "<Figure size 1008x576 with 2 Axes>"
      ]
     },
     "metadata": {
      "needs_background": "light"
     },
     "output_type": "display_data"
    }
   ],
   "source": [
    "plt.figure(figsize=(14, 8))\n",
    "sns.heatmap(df.isnull())\n",
    "plt.show()"
   ]
  },
  {
   "cell_type": "code",
   "execution_count": 9,
   "id": "a434681c",
   "metadata": {},
   "outputs": [
    {
     "name": "stdout",
     "output_type": "stream",
     "text": [
      "num_expediente              0\n",
      "fecha                       0\n",
      "hora                        0\n",
      "localizacion                0\n",
      "numero                      2\n",
      "cod_distrito                2\n",
      "distrito                    2\n",
      "tipo_accidente              0\n",
      "estado_meteorológico     3196\n",
      "tipo_vehiculo             137\n",
      "tipo_persona                0\n",
      "rango_edad                  0\n",
      "sexo                        0\n",
      "cod_lesividad           14802\n",
      "lesividad               14802\n",
      "coordenada_x_utm            2\n",
      "coordenada_y_utm            2\n",
      "positiva_alcohol          102\n",
      "positiva_droga          32351\n",
      "dtype: int64\n"
     ]
    }
   ],
   "source": [
    "null_counts = df.isnull().sum()\n",
    "print(null_counts)"
   ]
  },
  {
   "cell_type": "code",
   "execution_count": 10,
   "id": "2eb1366c",
   "metadata": {},
   "outputs": [
    {
     "data": {
      "text/plain": [
       "False"
      ]
     },
     "execution_count": 10,
     "metadata": {},
     "output_type": "execute_result"
    }
   ],
   "source": [
    "'' in df.values"
   ]
  },
  {
   "cell_type": "code",
   "execution_count": 11,
   "id": "4bbcdd8d",
   "metadata": {},
   "outputs": [
    {
     "data": {
      "text/html": [
       "<div>\n",
       "<style scoped>\n",
       "    .dataframe tbody tr th:only-of-type {\n",
       "        vertical-align: middle;\n",
       "    }\n",
       "\n",
       "    .dataframe tbody tr th {\n",
       "        vertical-align: top;\n",
       "    }\n",
       "\n",
       "    .dataframe thead th {\n",
       "        text-align: right;\n",
       "    }\n",
       "</style>\n",
       "<table border=\"1\" class=\"dataframe\">\n",
       "  <thead>\n",
       "    <tr style=\"text-align: right;\">\n",
       "      <th></th>\n",
       "      <th>num_expediente</th>\n",
       "      <th>fecha</th>\n",
       "      <th>hora</th>\n",
       "      <th>localizacion</th>\n",
       "      <th>numero</th>\n",
       "      <th>cod_distrito</th>\n",
       "      <th>distrito</th>\n",
       "      <th>tipo_accidente</th>\n",
       "      <th>estado_meteorológico</th>\n",
       "      <th>tipo_vehiculo</th>\n",
       "      <th>tipo_persona</th>\n",
       "      <th>rango_edad</th>\n",
       "      <th>sexo</th>\n",
       "      <th>cod_lesividad</th>\n",
       "      <th>lesividad</th>\n",
       "      <th>coordenada_x_utm</th>\n",
       "      <th>coordenada_y_utm</th>\n",
       "      <th>positiva_alcohol</th>\n",
       "      <th>positiva_droga</th>\n",
       "    </tr>\n",
       "  </thead>\n",
       "  <tbody>\n",
       "    <tr>\n",
       "      <th>27635</th>\n",
       "      <td>2020S016821</td>\n",
       "      <td>23/11/2020</td>\n",
       "      <td>7:45:00</td>\n",
       "      <td>AUTOV. M-23, 0 (0.8 ENTRADA)</td>\n",
       "      <td>NaN</td>\n",
       "      <td>NaN</td>\n",
       "      <td>NaN</td>\n",
       "      <td>Colisión lateral</td>\n",
       "      <td>Despejado</td>\n",
       "      <td>Turismo</td>\n",
       "      <td>Conductor</td>\n",
       "      <td>De 50 a 54 años</td>\n",
       "      <td>Hombre</td>\n",
       "      <td>7.0</td>\n",
       "      <td>Asistencia sanitaria sólo en el lugar del acci...</td>\n",
       "      <td>444975,42</td>\n",
       "      <td>4474103,079</td>\n",
       "      <td>N</td>\n",
       "      <td>NaN</td>\n",
       "    </tr>\n",
       "    <tr>\n",
       "      <th>27636</th>\n",
       "      <td>2020S016821</td>\n",
       "      <td>23/11/2020</td>\n",
       "      <td>7:45:00</td>\n",
       "      <td>AUTOV. M-23, 0 (0.8 ENTRADA)</td>\n",
       "      <td>NaN</td>\n",
       "      <td>NaN</td>\n",
       "      <td>NaN</td>\n",
       "      <td>Colisión lateral</td>\n",
       "      <td>Despejado</td>\n",
       "      <td>Turismo</td>\n",
       "      <td>Conductor</td>\n",
       "      <td>De 50 a 54 años</td>\n",
       "      <td>Mujer</td>\n",
       "      <td>14.0</td>\n",
       "      <td>Sin asistencia sanitaria</td>\n",
       "      <td>444975,42</td>\n",
       "      <td>4474103,079</td>\n",
       "      <td>N</td>\n",
       "      <td>NaN</td>\n",
       "    </tr>\n",
       "  </tbody>\n",
       "</table>\n",
       "</div>"
      ],
      "text/plain": [
       "      num_expediente       fecha     hora                  localizacion  \\\n",
       "27635    2020S016821  23/11/2020  7:45:00  AUTOV. M-23, 0 (0.8 ENTRADA)   \n",
       "27636    2020S016821  23/11/2020  7:45:00  AUTOV. M-23, 0 (0.8 ENTRADA)   \n",
       "\n",
       "      numero  cod_distrito distrito    tipo_accidente estado_meteorológico  \\\n",
       "27635    NaN           NaN      NaN  Colisión lateral            Despejado   \n",
       "27636    NaN           NaN      NaN  Colisión lateral            Despejado   \n",
       "\n",
       "      tipo_vehiculo tipo_persona       rango_edad    sexo  cod_lesividad  \\\n",
       "27635       Turismo    Conductor  De 50 a 54 años  Hombre            7.0   \n",
       "27636       Turismo    Conductor  De 50 a 54 años   Mujer           14.0   \n",
       "\n",
       "                                               lesividad coordenada_x_utm  \\\n",
       "27635  Asistencia sanitaria sólo en el lugar del acci...        444975,42   \n",
       "27636                           Sin asistencia sanitaria        444975,42   \n",
       "\n",
       "      coordenada_y_utm positiva_alcohol  positiva_droga  \n",
       "27635      4474103,079                N             NaN  \n",
       "27636      4474103,079                N             NaN  "
      ]
     },
     "execution_count": 11,
     "metadata": {},
     "output_type": "execute_result"
    }
   ],
   "source": [
    "filas_con_dos_nulos = df[df['distrito'].isnull()]\n",
    "\n",
    "# `filas_con_dos_nulos` ahora contiene las filas que tienen dos valores nulos en la columna especificada\n",
    "filas_con_dos_nulos"
   ]
  }
 ],
 "metadata": {
  "kernelspec": {
   "display_name": "Python 3 (ipykernel)",
   "language": "python",
   "name": "python3"
  },
  "language_info": {
   "codemirror_mode": {
    "name": "ipython",
    "version": 3
   },
   "file_extension": ".py",
   "mimetype": "text/x-python",
   "name": "python",
   "nbconvert_exporter": "python",
   "pygments_lexer": "ipython3",
   "version": "3.9.7"
  }
 },
 "nbformat": 4,
 "nbformat_minor": 5
}
